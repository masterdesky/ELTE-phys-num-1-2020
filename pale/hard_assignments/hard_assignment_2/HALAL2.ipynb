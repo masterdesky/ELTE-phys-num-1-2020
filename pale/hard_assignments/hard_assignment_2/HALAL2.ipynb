{
 "cells": [
  {
   "cell_type": "markdown",
   "metadata": {},
   "source": [
    "# ☠-es feladatsor 02\n",
    "- A megoldás tartalmazza a megoldandó feladat szövegét a megoldásnotebook első markdown cellájában!\n",
    "- **Kommentekkel**, illetve **markdown cellákkal** magyarázd, hogy éppen mit csinál az adott kódrészlet!\n",
    "- Magyarázat nélkül a beküldött feladatok csak fél feladatnak számítanak!\n",
    "- Az elkészített ábrák minden esetben rendelkezzenek ábrafeliratokkal (cím, tengelyfeliratok és  −  amennyiben indokolt  −  jelmagyarázat)! Amennyiben a beadott ábrákon nincsenek feliratok, az adott feladat automatikusan csak fél feladatnak számít!\n",
    "- A beadott notebookok Kernel -> Restart&Run All hatására a beadott formát reprodukálják! "
   ]
  },
  {
   "cell_type": "markdown",
   "metadata": {},
   "source": [
    "## ☠ 01/01. feladat \n",
    "\n",
    "Nyírás 2D-ben az a lineáris transzformáció, melynél egy $g$ egyenes menti pontok nem mozdulnak el, míg mások igen. Pl. az $x$ tengellyel párhuzamos nyírás esetén az $x$ tengely pontjai helyben maradnak, felette a pontok az $x$ tengellyel párhuzamosan mozdulnak az egyik irányba, alatta pedig az ellentétes irányba.\n",
    "E transzformáció mátrixa\n",
    "$$ \\mathbf{S} = \\left(\\begin{array}{cc} 1& a\\\\ 0& 1\\end{array}\\right) $$\n",
    "Ellenőrizzük, hogy igaz-e, miszerint a nyírás e mátrixa felírható egy forgatás és egy ferde irányú nyújtás szorzataként, azaz\n",
    "$$ \\mathbf{S} = \\mathbf{O}(\\gamma) \\mathbf{L}\\;,\\;\\;\n",
    "\\mathbf{L}= \\mathbf{O}(\\beta) \\mathbf{D} \\mathbf{O}(-\\beta) $$\n",
    "ahol\n",
    "$$ \\mathbf{O}(\\gamma)= \\left(\\begin{array}{cc} \\cos (\\gamma)& -\\sin (\\gamma)\\\\ \\sin(\\gamma)& \\cos (\\gamma)\\end{array}\\right),\\quad \\mathbf{D}= \\left(\\begin{array}{cc} d& 0\\\\ 0& 1/d\\end{array}\\right)  $$\n",
    "Láthatóan az $\\mathbf{L}$ ferde nyújtást újabb forgatás mátrixokkal állítjuk elő egy $\\mathbf{D}$ diagonális mátrixból: az $x$ tengellyel $\\beta$ szöget bezáró egyenes irányában úgy tudunk nyújtani, hogy ennek az egyenesnek a pontjait $-\\beta$ szöggel beforgatjuk az $x$ tengelybe, utána $\\mathbf{D}$ úgy hat, hogy $d$ arányban nyújt $x$ irányban (közben $1/d$ arányban összenyom $y$ irányban), majd viszaforgatjuk az eredeti egyenest $\\beta$ szöggel.\n",
    "- Az $\\mathbf{OL}$ szorzat-előállítás megmutatása érdekében válasszunk egy $\\beta$ értéket $0$ és $\\pi/2$ közt, és állítsuk elő a megfelelő forgatás mátrixokat!\n",
    "- A $d$ nyújtási aránynak olyannak kell lenni, hogy az $\\mathbf{L}$ hatására az $x$ irányú $\\mathbf{e}_x$ vektor hossza ne változzon meg (hiszen a teljes $\\mathbf{OL}$ hatására e vektor nem változhat). Ennek megfelelő $d$ értéket keressünk!\n",
    "Segítségül ez az érték $d=\\tan(\\beta)$, csak ellenőrizzük, hogy teljesíti a feltételt!\n",
    "- A végén az $\\mathbf{O}(\\gamma)$ forgatás forgassa is vissza az előbbi vektort az $x$ tengelybe, az ehhez szükséges $\\gamma$ szöget tehát megint $\\mathbf{L} \\mathbf{e}_x$ vizsgálatával kaphatjuk meg.\n",
    "- Ellenőrizzük, hogy az így kapott $\\gamma$-val $\\mathbf{O}(\\gamma) \\mathbf{L}$ valóban\n",
    "$ \\mathbf{S} $ alakú mátrixot ad!\n"
   ]
  },
  {
   "cell_type": "markdown",
   "metadata": {},
   "source": [
    "## ☠ 01/02. feladat \n",
    "\n",
    "![](http://oroszl.web.elte.hu/fiznum1/static_notebooks/Package05/rugos.svg)\n",
    "\n",
    "\n",
    "Kössünk össze képzeletben rugókkal $N$ db $m_1$ és $N$ db $m_2$ tömegű tömegpontot egy egyenes mentén láncban, felváltva $k_1$ és $k_2$ direkciós erejű rugókkal a képen vázoltak szerint (A szaggatott vonallal jelölt egység a rendszer egy [elemi cellája](https://en.wikipedia.org/wiki/Crystal_structure#Unit_cell)). Figyelem a szélső tömegpontokat mind a két oldalon $k_2$ direkciós erejű rugó rögzíti a falhoz.\n",
    "\n",
    "Vizsgáljuk a rendszer hosszirányú rezgéseit !\n",
    "\n",
    "\n",
    "Jelölje $x_{n,1/2}, n=0\\ldots N$ a kék/piros tömegpontok egyensúlytól való kitérését!\n",
    "Némi algebrával a tömeg pontok mozgásegyenletei az alábbi egyenlet rendszer\n",
    "\n",
    "\n",
    "$$ m_1\\ddot{x}_{n,1}=k_1(x_{n,2}-x_{n,1})+k_2(x_{n-1,2}-x_{n,1}) $$\n",
    "$$ m_2\\ddot{x}_{n,2}=k_1(x_{n,1}-x_{n,2})+k_2(x_{n+1,1}-x_{n,2}) $$\n",
    "\n",
    "\n",
    "Írjuk át az egyenletrendszert az $x$ vektorra vonatkozó $m \\ddot x = A\\cdot x$ alakba, és keressük a megoldást\n",
    "$a\\cdot e^{i\\omega t}$ alakban!\n",
    "\n",
    "Ebből összefüggést kapunk a körfrekvenciák és a sajátértékek közt.\n",
    "\n",
    "* Határozzuk meg a rezgési sajátfrekvenciákat és a saját módusokat!\n",
    "* Készítsünk egy interaktív ábrát mely segítségével adott paraméter értékeknél a spektrumot és egy kiszemelt rezgési módust jelenítjük meg! \n",
    "\n",
    "Milyen kvalitatív különbségeket veszünk észre a spektrumban az alábbi négy paramétertartományban:\n",
    "\n",
    " - A tömegek egyenlőek és $ k_1 < k_2 $\n",
    " - A tömegek egyenlőek és $ k_1 > k_2 $\n",
    " - A rugók megeggyeznek és $ m_1 < m_2 $\n",
    " - A rugók megeggyeznek és $ m_1 > m_2 $\n"
   ]
  },
  {
   "cell_type": "markdown",
   "metadata": {},
   "source": [
    "## ☠ 01/03. feladat \n",
    "\n",
    "A Google-keresés áttörő sikerét a [PageRank](http://www.stat.cmu.edu/~ryantibs/datamining/lectures/03-pr.pdf)-algoritmus indította el, melynek természetesen mára már a titkos és sokat finomított verzióját tartalmazza a keresőmotor. Az első PageRank-változat azonban egy nagyon szép és intuitív képre vezethető vissza, melynek segítségével végső soron a leghasznosabb honlapok megkeresése is a következő mátrix sajátérték-problémára egyszerűsödik:\n",
    "\n",
    "$$\\mathbf{V}=\\mathbf{L}\\mathbf{M^{-1}},$$ \n",
    "\n",
    "ahol\n",
    "* $n$ a csúcsok száma,\n",
    "* $\\mathbf{L}$ az ún. összekötöttségi mátrix, azaz\n",
    "    * $L_{ij}=1$, ha $i$ és $j$ között van él, és\n",
    "    * $L_{ij}=0$, ha $i$ és $j$ között nincs él.\n",
    "* $\\mathbf{M}$ pedig az az $n\\times n$-es mátrix, melynek főátlójában a csúcsok fokszáma áll\n",
    "$$M_{ii}=\\sum_{j=1}^n L_{ij}.$$\n",
    "\n",
    "A $V$ mátrixnak az 1 sajátértékű sajátvektorában szereplő számok lesznek a PageRankek.\n",
    "\n",
    "A Google által 2002-ben közzétett, az internet hálózatát feltérképező [adatokból](http://snap.stanford.edu/data/web-Google.html) fájl első 10000 sorából készítsük el az M mátrixot, dobjuk ki a csak 0-kat tartalmazó sorokat, és az ehhez tartozó oszlopokat is. Ezek után állapítsuk meg V-ből, melyik a 10 legnagyobb PageRankkel rendelkező oldal! Elegendő a mátrix átszámozás utáni sorindexeivel megadni a honlapokat.\n",
    "\n",
    "A feladat megoldása során felmerülő nagy mátrixot a `scipy` modul [ritka mátrixokért felelős függvényeivel](https://docs.scipy.org/doc/scipy-0.18.1/reference/sparse.linalg.html) dolgozzuk fel!"
   ]
  },
  {
   "cell_type": "markdown",
   "metadata": {},
   "source": [
    "## ☠ 01/04. feladat \n",
    "\n",
    "Határozzuk meg, hogy két egymás utáni forgatás, mégpedig x tengely körüli $\\alpha$ szögű, és y tengely körüli $\\beta$ szögű, milyen egyetlen forgatással helyettesíthető;\n",
    "azaz mi az $$R_y(\\beta)R_x(\\alpha)$$ szorzat forgatási tengelyének iránya, és mennyi a forgatás szöge!\n",
    "\n",
    "Segítségül: egy 3D forgatásmátrix 3 sajátértékkel és sajátvektorral rendelkezik.\n",
    "Mivel a forgatás a tengely pontjait nem módosítja, az egyik sajátvektor a tengely iránya, és az ehhez tartozó sajátérték 1.\n",
    "Másik két sajátérték pedig $e^{\\pm i \\gamma}$, ahol $\\gamma$ a forgatás szöge.\n",
    "\n",
    "Speciálisan az $x$, $y$ és $z$ tengely körüli forgatások mátrixai pedig a következő alakot öltik:\n",
    "$$\n",
    "R_x(\\alpha)=\\begin{pmatrix}\n",
    "1 & 0          & 0           \\\\\n",
    "0 & \\cos\\alpha & -\\sin\\alpha \\\\ \n",
    "0 & \\sin\\alpha & \\cos\\alpha                   \n",
    "\\end{pmatrix},\n",
    "\\quad\n",
    "R_y(\\alpha)=\\begin{pmatrix}\n",
    "\\cos\\alpha  & 0 & \\sin\\alpha \\\\ \n",
    "0           & 1 & 0          \\\\\n",
    "-\\sin\\alpha & 0 & \\cos\\alpha\n",
    "\\end{pmatrix},\n",
    "\\quad\n",
    "R_z(\\alpha)=\\begin{pmatrix}\n",
    "\\cos\\alpha & -\\sin\\alpha & 0 \\\\ \n",
    "\\sin\\alpha & \\cos\\alpha  & 0 \\\\\n",
    "0          & 0           & 1\n",
    "\\end{pmatrix}.\n",
    "$$\n",
    "\n",
    "\n",
    "- Írjunk függvényeket, amik a forgatásmátrixokat létrehozzák!\n",
    "- Készítsünk egy függvényt, ami meghatározza a forgástengelyt és a forgatási szöget!\n",
    "- Ábrázoljuk $\\alpha$ és $\\beta$ függvényében az eredő forgatás szögét!\n"
   ]
  },
  {
   "cell_type": "markdown",
   "metadata": {},
   "source": [
    "## ☠ 01/05. feladat \n",
    "Írjunk egy osztályt amelyik egy egydimenziós részecske időfüggetlen Schrödinger-egyenletét $$\\left [ -\\frac{\\hbar}{2m}\\frac{\\partial^2 }{\\partial x^2} +V(x)\\right ]\\psi(x)=E\\psi(x) $$ oldja meg tetszőleges $V(x)$ külső potenciál jelenlétében. Az egyszerűség kedvéért használjuk a $\\hbar=1$ és $m=1$ egységrendszert.\n",
    "- A második deriváltat 300 pontban [diszkretizálva](https://en.wikipedia.org/wiki/Finite_difference#Higher-order_differences) kezeljük a megoldandó differenciál egyenletet lineáris algebrai sajátérték problémaként!\n",
    "- Az osztály inicializálásakor a külső potenciál megadható függvény legyen!\n",
    "- Legyen egy osztály metódus ami megjeleníti az $N$-edik sajátfüggvényt egy képen!\n",
    "- Legyen egy osztály metódus ami a potenciált és az első 10 sajátértéket vizualizálja egy képen!"
   ]
  },
  {
   "cell_type": "markdown",
   "metadata": {},
   "source": [
    "## ☠ 01/06. feladat \n",
    "\n",
    "Írj egy függvényt amely két tetszőleges $p$ és $q$ valós számra meghatározza az alábbi integrál értékét:\n",
    "$$ I(p,q)=\\int_{-1}^1  \\cos(p\\cdot \\arccos(x))\\cdot \\cos(q \\cdot\\arccos(x))  \\mathrm{d}x$$\n",
    "Ellenőrizd le, hogy ha $p$ és $q$ egész számok akkor az integrál értéke csak akkor különböző zérustól ha $p=q$!"
   ]
  },
  {
   "cell_type": "markdown",
   "metadata": {},
   "source": [
    "## ☠ 01/07. feladat\n",
    "\n",
    "Oldjuk meg egy $q=1$ töltéssel és $m=1$ tömeggel rendelkező részecske mozgásegyenletét amely egy $Q$ töltéssel töltött fix pont töltés és egy konstans $z$ irányú $B$ erősségű mágneses tér együttes terében mozog. \n",
    "A megoldandó mozgásegyenlet tehát\n",
    "$$ m\\ddot{\\boldsymbol{r}}=\\frac{qQ}{|\\boldsymbol{r}|^{2}}\\boldsymbol{e}_{r}+q\\left(\\dot{\\boldsymbol{r}}\\times B\\boldsymbol{e}_{z}\\right) $$\n",
    "ahol $\\boldsymbol{e}_{r}$ egy sugár irányú egység vektor $\\boldsymbol{e}_{z}$ pedig egy $z$ irányú egységvektor:\n",
    "$$\n",
    "\\boldsymbol{e}_{r}=\\frac{1}{\\sqrt{x^{2}+y^{2}+z^{2}}}\\left(\\begin{array}{c}\n",
    "x\\\\\n",
    "y\\\\\n",
    "z\n",
    "\\end{array}\\right),\\quad\\boldsymbol{e}_{z}=\\left(\\begin{array}{c}\n",
    "0\\\\\n",
    "0\\\\\n",
    "1\n",
    "\\end{array}\\right) \n",
    "$$\n",
    "A részecske kezdő pozíciója és sebessége legyen\n",
    "\n",
    "$$\n",
    "\\boldsymbol{r}(t=0)=\\left(\\begin{array}{c}\n",
    "1\\\\\n",
    "0\\\\\n",
    "0\n",
    "\\end{array}\\right),\\quad\n",
    "\\dot{\\boldsymbol{r}}(t=0)=\\left(\\begin{array}{c}\n",
    "0\\\\\n",
    "1\\\\\n",
    "0\n",
    "\\end{array}\\right)\n",
    "$$\n",
    "\n",
    "Készítsünk 3D ábrát a részecske pályájáról kölönböző $Q$ és $B$ értékekre!"
   ]
  },
  {
   "cell_type": "markdown",
   "metadata": {},
   "source": [
    "## ☠ 01/08. feladat \n",
    "\n",
    "Határozd meg az alábbi diffegyenletrendszer megoldásait különböző kezdőfeltételekre az idő függvényében:\n",
    "\n",
    "\n",
    "$$ \\frac{\\mathrm{d}x(t)}{\\mathrm{d}t}  =(y(t)-4)(y(t)-2)-x(t) $$\n",
    "$$ \\frac{\\mathrm{d}y(t)}{\\mathrm{d}t}  =-x(t)y(t) $$\n",
    "\n",
    "\n",
    "Ábrázold a megoldások trajektóriáit az $xy$ síkon. Hol vannak a fixpontok és milyen [típusúak](https://en.wikipedia.org/wiki/Stability_theory)?\n"
   ]
  },
  {
   "cell_type": "markdown",
   "metadata": {},
   "source": [
    "## ☠ 01/09. feladat \n",
    "\n",
    "Űrszondák pályamódosításának egyik fajtája az [aerobreaking](https://en.wikipedia.org/wiki/Aerobraking). Oldjuk meg numerikusan egy gömb alakú űrszonda pályaegyenleteit a Föld körül. A légkör hatására a szonda $v$ sebességével elentétes irányú és $F_s=C v^2 \\varrho(r)$ nagyságú erő hat ahol $\\varrho(r)$ a légkör sűrűsége a bolygó középpontjától mért $r$ távolságban $C$-t pedig az egyszerűség kedvéért válasszuk 1-nek.  A $\\varrho(r)$ sűrűséget a [barometrikus magasságformula](https://en.wikipedia.org/wiki/Barometric_formula#Density_equations) segítségével határozzuk meg.  "
   ]
  },
  {
   "cell_type": "markdown",
   "metadata": {},
   "source": [
    "## ☠ 01/10. feladat \n",
    "Írjunk egy osztályt amelyik egy egydimenziós diffúziós egyenletet oldja meg $$ \\frac{\\partial }{\\partial t} \\psi(x,t)= D \\frac{\\partial^2 }{\\partial x^2} \\psi(x,t) $$ tetszőleges $\\psi(x,0)$ kezdő feltételre.\n",
    "- A második deriváltat 300 pontban [diszkretizálva](https://en.wikipedia.org/wiki/Finite_difference#Higher-order_differences) kezeljük a megoldandó problémát egy vektor változó közönséges differenciálegyenleteként!\n",
    "- Az osztály inicializálásakor a kezdő feltétel és $D$ megadása kötelező legyen!\n",
    "- Legyen egy osztály metódus ami megjeleníti egy adott időpontban a $\\psi$ függvényt! "
   ]
  }
 ],
 "metadata": {
  "kernelspec": {
   "display_name": "Python 3",
   "language": "python",
   "name": "python3"
  },
  "language_info": {
   "codemirror_mode": {
    "name": "ipython",
    "version": 3
   },
   "file_extension": ".py",
   "mimetype": "text/x-python",
   "name": "python",
   "nbconvert_exporter": "python",
   "pygments_lexer": "ipython3",
   "version": "3.6.8"
  }
 },
 "nbformat": 4,
 "nbformat_minor": 2
}
