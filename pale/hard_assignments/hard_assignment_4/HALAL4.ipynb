{
  "cells": [
    {
      "cell_type": "markdown",
      "source": [
        "# ☠-es feladatsor 04\n",
        "- A megoldás tartalmazza a megoldandó feladat szövegét a megoldásnotebook első markdown cellájában!\n",
        "- **Kommentekkel**, illetve **markdown cellákkal** magyarázd, hogy éppen mit csinál az adott kódrészlet!\n",
        "- Magyarázat nélkül a beküldött feladatok csak fél feladatnak számítanak!\n",
        "- Az elkészített ábrák minden esetben rendelkezzenek ábrafeliratokkal (cím, tengelyfeliratok és  −  amennyiben indokolt  −  jelmagyarázat)! Amennyiben a beadott ábrákon nincsenek feliratok, az adott feladat automatikusan csak fél feladatnak számít!\n",
        "- A beadott notebookok Kernel -> Restart&Run All hatására a beadott formát reprodukálják! "
      ],
      "metadata": {}
    },
    {
      "cell_type": "markdown",
      "source": [
        "## ☠ 04/01. feladat \n",
        "1. Töltsük be egy pandas dataframebe az [ezen](https://data.sfgov.org/api/views/rkru-6vcg/rows.csv) a linken található csv (comma-separated-values) fájlt és írassuk ki az első 5 sorát!\n",
        "2. Határozzuk meg, hogy oszloponként hány hiányzó elem található!\n",
        "3. Írassunk ki ötöt azon sorok közül, melyekben hiányzó elem található!\n",
        "4. Cseréljük le a hiányzó elemeket a 'nincs' szóra!\n",
        "5. Adjunk még egy oszlopot a dataframehez! Legyen a neve 'ujoszlop' értéke pedig az utasszámok gyöke!\n"
      ],
      "metadata": {}
    },
    {
      "cell_type": "markdown",
      "source": [
        "## ☠ 04/02. feladat \n",
        "\n",
        "Reprodukáljuk részben a [Gapminder projekt](http://www.gapminder.org/tools/#_locale_id=en;&chart-type=bubbles) nevű interaktív gazdasági és szociális adatokat megjelenítő interaktív eszközét!\n",
        "\n",
        "Készítsünk az [itt](http://www.gapminder.org/data/) megtalálható adatok alapján egy pandas adatbázist ami tartalmazza az országok várható életkor adatait és a GDP adatait. \n",
        "Ezen kívül minden országról tároljuk el a következő atribútumokat:\n",
        "- össz népesség\n",
        "- fő vallás\n",
        "- melyik kontinensen van \n",
        "\n",
        "Ábrázoljuk minden országban a várható életkort a GDP függvényében. Az országokat jellemző marker méretét állítsuk be a népességük alapján. A markerek szinezését, hasonlóan a Gapminderhez lehessen változtatni. Egy legördülő menü alapján döntse el a program hogy az országokat vallás vagy kontinens alapján szinez. \n"
      ],
      "metadata": {}
    },
    {
      "cell_type": "markdown",
      "source": [
        "## ☠ 04/03. feladat \n",
        "\n",
        "A Twitter szociális hálózaton a publikus üzeneteket egy részét bárki ingyen letöltheti. Ezekből néhányat megtalálhatsz a `data/twitter_sample.gz` fájlban.\n",
        "\n",
        "Először olvasd be a tömörített fájl sorait egy listába a következő parancs segítségével:\n",
        "\n",
        "```\n",
        "import gzip\n",
        "l=[json.loads(str(s).strip(\"\\r\\n\")) for s in gzip.open(\"../data/twitter_sample.gz\",mode=\"rt\").readlines()]\n",
        "```\n",
        "\n",
        "A `created_at` nevű oszlop tartalmazza az üzenetek feladási dátumát. Ábrázold ez alapján, melyik percben hány darab tweetet adtak fel a felhasználók! Használd a **datetime** modul `strptime()` és `strftime()` függvényeit, melyeknek [itt](https://www.tutorialspoint.com/python/time_strptime.htm) és [itt](https://docs.python.org/2/library/datetime.html#strftime-and-strptime-behavior) tudsz utánaolvasni.\n",
        "\n",
        "Figyelj arra, hogy nem minden sorban van `created_at` mező, az adatot nem tartalmazó sorokat ki kell dobni az adatokból!"
      ],
      "metadata": {}
    },
    {
      "cell_type": "markdown",
      "source": [
        "## ☠ 04/04. feladat\n",
        "Lássuk be a `sympy` segítségével a következő azonosságot!\n",
        "\n",
        "$$ \\int_{-\\infty}^\\infty \\frac{\\mathrm{e}^{-x^2}}{(x-y)^2+1}\\mathrm{dx}=\\Re \\left(\\mathrm{e}^{-(\\mathrm{i} + y)^2} \\pi\\,\\mathrm{erfc}(1 - \\mathrm{i} y)\\right) $$\n",
        "\n",
        "Ahol $\\Re$ a valósrész-képzést jelenti, továbbá $\\mathrm{erfc}(x)$ a [komplementer hibafüggvény](https://hu.wikipedia.org/wiki/Gauss-f%C3%A9le_hibaf%C3%BCggv%C3%A9ny).\n"
      ],
      "metadata": {}
    },
    {
      "cell_type": "markdown",
      "source": [
        "## ☠ 04/05. feladat\n",
        "![](http://sites.science.oregonstate.edu/physics/portfolioswiki/_media/courses_lecture_pplec_pplecinf1ddiachainfig1d4c5.png?w=&h=&cache=cache)\n",
        "\n",
        "Határozzuk meg az ábrán vázolt végtelen kétatomos egydimenziós lánc rezgési módusait, azaz a [fonon diszperziós relációját](https://hu.wikipedia.org/wiki/Fonon) analitikusan `sympy` segítségével! Alkalmazzuk a `Matrix` osztályt!"
      ],
      "metadata": {}
    },
    {
      "cell_type": "markdown",
      "source": [
        "## ☠ 04/06. feladat\n",
        "\n",
        "Számítsuk ki a `sympy` segítségével, hogy mekkora felületet metsz ki [Viviani-görbe](https://en.wikipedia.org/wiki/Viviani%27s_curve) a gömbből! "
      ],
      "metadata": {}
    }
  ],
  "metadata": {
    "kernelspec": {
      "name": "python3",
      "language": "python",
      "display_name": "Python 3"
    },
    "language_info": {
      "name": "python",
      "version": "3.7.3",
      "mimetype": "text/x-python",
      "codemirror_mode": {
        "name": "ipython",
        "version": 3
      },
      "pygments_lexer": "ipython3",
      "nbconvert_exporter": "python",
      "file_extension": ".py"
    },
    "kernel_info": {
      "name": "python3"
    },
    "nteract": {
      "version": "0.15.0"
    }
  },
  "nbformat": 4,
  "nbformat_minor": 2
}