{
 "cells": [
  {
   "cell_type": "markdown",
   "metadata": {},
   "source": [
    "# HF 3 (15 pont)\n",
    "\n",
    "- Minden feladatot a feladatszámnak megfelelő számú megoldásnotebookban oldj meg. Például első feladatot az 01_feladat.ipynb notebookban.\n",
    "- A megoldás tartalmazza a megoldandó feladat szövegét a megoldásnotebook első markdown cellájában!\n",
    "- **Kommentekkel**, illetve **markdown cellákkal** magyarázd, hogy éppen mit csinál az adott kódrészlet!\n",
    "- Magyarázat nélkül a beküldött feladatok csak fél feladatnak számítanak!\n",
    "- Az elkészített ábrák minden esetben rendelkezzenek ábrafeliratokkal (cím, tengelyfeliratok és  −  amennyiben indokolt  −  jelmagyarázat)! Amennyiben a beadott ábrákon nincsenek feliratok, az adott feladat automatikusan csak fél feladatnak számít!\n",
    "- A beadott notebookok Kernel -> Restart&Run All hatására a beadott formát reprodukálják! \n",
    "- A Feladatok megadott pontszámán túl a beadott feladatok külalakjáért összesen 3 pont-ot lehet szerezni!\n",
    "---\n"
   ]
  },
  {
   "cell_type": "markdown",
   "metadata": {},
   "source": [
    "# Feladat 1 (2 pont)\n",
    "\n",
    "A `fossil-fuel-co2-emissions-by-nation.csv` fileban találod a világ országai által fosszilis üzemanyagok égetése révén kibocsátott $CO_2$ t-ben mért mennyiségének éves bontását az elmúlt 200 évre visszamenőleg.\n",
    "\n",
    "- A `pandas` modul segítségével olvassd be az adatfilet!\n",
    "- A 2014-es adatok alapján határozd meg, hogy abban az évben a teljes kibocsátást (**Total** oszlop) figyelembevéve melyik volt a 10 legszennyezőbb órszág.\n",
    "- Készíts egy ábrát amin a 10 legszennyezőbb ország teljes kibocsájtását ábrázolod az idő (**Year** oszlop) függvényében. \n",
    "- Saját szavaiddal fogalmazd meg, hogy 2005 környékén mi történt ?\n",
    "- Készíts ábrákat visegrádi négyek kibocsátásainak éves alakulásáról. Minden ábrán külön tüntesd fel a szilárd (**Solid Fuel** oszlop), a folyékony (**Liquid Fuel** oszlop) és a gáznemű (**Gas Fuel** oszlop) üzemanyagok okoszta kibocsátársokat. \n",
    "- Saját szavaiddal fogalmazd meg, hogy szerinted mi lehet az oka annak, hogy a négy országból kettő kevesebb adattal rendelkezik? Hol lehetnek a hiányzó adatok?"
   ]
  },
  {
   "cell_type": "markdown",
   "metadata": {},
   "source": [
    "# Feladat 2 (2 pont)\n",
    "\n",
    "A `metadata.xlsx` fájlban 60 orvosi minta metaadatai találhatók. Sajnos a táblázatban több hiba is található, amik az automatizált kiértékelést megakadályozhatják, ezért korrigáld a következőket:\n",
    "\n",
    " - A **Diagnosis** oszlopban több elgépelés is található, ezeket javítsd, hogy csak az alábbi diagnózisok szerepeljenek: *Prostate adenocarcinoma, Lung Squamous Cell Carcinoma, Lung adenocarcinoma, Colon adenocarcinoma, Breast Invasive Carcinoma*!\n",
    " - Töröld azokat a sorokat, ahol az **Age, Diagnosis, Gender és Date of sample collection** oszlopok valamelyike nem tartalmaz adatot! Hány ilyen sor volt?\n",
    " - A **Gender** oszlopban csak *male* és *female* értékek szerepeljenek!\n",
    " \n",
    "A hibák javítása után:\n",
    "\n",
    " - Hozz létre egy oszlopot, ami az adott betegről megadja, hogy él vagy elhunyt. (Ha nincs adat a **Date of death** oszlopban, akkor tekintsd az illetőt élőnek!)\n",
    " - Hozz létre egy oszlopot, amiben a betegség lokalizációját (érintett szervet) adod meg. A lokáció a **Diagnosis** oszlopban található értékek első szavai alapján *Prostate, Lung, Colon* vagy *Breast* lehetséges értékeket vehetik fel.\n",
    " - Ábrázold boxploton a különböző lokalizációjú betegségekre a túlélést! (mintavétel és a halál, illetve a mintavétel és az utolsó vizsgálat időpontja közti különbség)\n",
    " - Készíts hisztogramot az életkor adatok eloszlásáról!\n",
    " - Ábrázold egy hisztogrammon a férfiak/nők között a különböző lokalizációban előforduló betegségek számát!"
   ]
  },
  {
   "cell_type": "markdown",
   "metadata": {},
   "source": [
    "# Feladat 3 (2 pont)\n",
    "\n",
    "Egy kínai cégnél elővigyázatosságból minden nap megmérik a dolgozók testhőmérsékletét. Az így készült mérési adatokat tartalmazza a `testhomerseklet.csv` fájl táblázata április első 20 napjára. (A cég alkalmazottai hétvégén is dolgoznak, kárpótlásul évente 2 hónapra kollektív szabadságot kapnak.) A dolgozókat az `ID` oszlop azonosítja, a mérés időpontja a `dátum` oszlopban, a mért testhőmérséklet °C-ban a `testhőmérséklet` oszlopban található, a `gyanús` oszlop pedig azt jelzi, hogy az adott mérési eredmény ad-e aggodalomra okot. Ezt a testhőmérsékleteket könyvelő titkárnő jegyzi le, a 37,6 °C-nál magasabb hőmérsékletekhez automatikusan \"NA\"-t (a \"NA, nem jól van ez így!\" felkiáltást rövidítve) ír, a többit pedig üresen hagyja.\n",
    "\n",
    "A dolgozókra vonatkozó általános adatokat a `meta.xlsx` Excel fájl táblázatában találjuk. Az `ID` oszlop itt is a dolgozó egyedi azonosítóját tartalmazza, a `nem` és az `életkor` oszlopok értelemszerűen a nemüket és korukat, a `csoport` oszlopban szerepel, hogy az adott dolgozó a cég melyik osztályán dolgozik, az `emelet` oszlopban pedig, hogy az épület hanyadik emeletén.\n",
    "\n",
    "**Az alábbi feladatokat mind a notebookon belül hajtsuk végre, az eredeti fájlok tartalmát ne változtassuk meg!**\n",
    "\n",
    "1. Olvassuk be a `meta.xlsx` Excel fájlt egy pandas adattáblába! Sajnos a táblázatba belekerült néhány elírás is, ellenőrizzük, hogy a `nem` oszlop értéke tényleg csak kétféle-e és ha nem, javítsuk ki az elgépeléseket. Hasonlóan ellenőrizzük, hogy az `emelet` oszlopba tényleg az adott munkacsoporthoz tartozó emelet került-e és ha nem, javítsuk ki az alábbi táblázat segítségével:\n",
    "\n",
    "| munkacsoport       | emelet |\n",
    "|--------------------|--------|\n",
    "| menedzsment        | 5      |\n",
    "| kutatás-fejlesztés | 4      |\n",
    "| IT                 | 3      |\n",
    "| takarítók          | 2      |\n",
    "\n",
    "2. Olvassuk be a `testhomerseklet.csv` fájlt egy másik pandas adattáblába! (Érdemes lehet a fájl szerkezetére rápillantani, hogy könnyebb legyen a beolvasáshoz szükséges beállításokat meghatározni.) A táblázatban a `\"--\"` string vagy üres cella jelzi a hiányzó adatokat, a `\"NA\"` pedig a gyanúsnak vélt eseteket. A `dátum` oszlop értékeit mindenképpen dátumként és ne egyszerű string-ként olvassuk be. \n",
    "3. Ellenőrizzük, hogy a gyanús eseteket könyvelő titkárnő nem nézett-e el egy-két esetet és ha igen, javítsuk ki a hibát! Hány százalékban téved a titkárnő?\n",
    "4. Általában a hét napjai közül melyiken van a legtöbb hiányzó hőmérséklet adat?\n",
    "5. Ábrázoljuk a naponta mért átlagos testhőmérsékleteket az idő függvényében. A napi $\\pm$ egy szórásnyi bizonytalanságot jelenítsük meg a átlagot jelző vonal mögött egy halványabb színű, tömör sávval. A gyanús tartomány határát jelezze egy vízszintes, szaggatott, piros vonal.\n",
    "6. Készítsünk el egy ábrát, melynek \n",
    "    - egymás alatti subplotjain munkacsoportonként külön-külön az összes alkalmazott testhőmérsékletének időfüggését ábrázoljuk (tehát nem az átlagukat, hanem egyesével a dolgozókét) mérési pontokkal (nem összekötött vonallal!).\n",
    "    - A munkacsoportonkénti átlagot egy halványabb, összekötött vonallal ábrázoljuk.\n",
    "    - Az átlagtól való $\\pm$ egy szórásnyi eltérést az adott munkacsoportra itt is egy halványabb színű sáv jelezze,\n",
    "    - a gyanús tartomány határát pedig egy vízszintes, szaggatott, piros vonal. \n",
    "    - Figyeljünk rá, hogy az összes subplot függőleges tengelyén ugyanazt a hőmérséklet-intervallumot ábrázoljuk, hogy az eredmények összevethetőek legyenek!\n",
    "    - Minden subplotnak legyenek megfelelő tengelyfeliratai (a dátumot elég a legalsó subploton feliratozni) és legyen egyértelmű, hogy melyik munkacsoport adatait ábrázolja!\n",
    "7. Melyik emeletre lenne a legkisebb kedved felmenni?\n"
   ]
  },
  {
   "cell_type": "markdown",
   "metadata": {},
   "source": [
    "# Feladat 4 (2 pont)\n",
    "Az alábbi sorokban három pár ($f_i(x)$-ek és $g_i(x)$-ek) matematikai kifejezést találsz.\n",
    "\n",
    "\\begin{equation}\n",
    "f_1(x)=\\frac{\\cos(2x)}{\\sin(3 x)},\\quad \n",
    "g_1(x)=\\log\\left(\\frac{\\left(3\\tan^2(x/2)-1\\right)^{1/6} \n",
    "\\left(\\tan(x/2)\\right)^{1/3}}{\\left(\\tan^2(x/2)-3\\right)^{1/6}}\\right)\n",
    "\\end{equation}\n",
    "\n",
    "\\begin{equation}\n",
    "f_2(x)=-\\frac{2bx+4c}{(4ac-b^2)\\sqrt{ax^2 + bx + c}},\\quad \n",
    "g_2(x)= \\frac{x}{\\left(ax^2 + bx + c\\right)^{3/2}}\n",
    "\\end{equation}\n",
    "\n",
    "\\begin{equation}\n",
    "f_3(x)= \\frac{\\left(e^{2ax}+1\\right)^2}{4 e^{2ax}},\\quad \n",
    "g_3(x)=\\frac{1}{4a}\\sinh(2ax)+\\frac{x}{2}\n",
    "\\end{equation}\n",
    "\n",
    "A párok elemeiből az egyik a másiknak az $x$ válltozó szerinti határozattlan integrálja. \n",
    "- A `sympy` modul segítségéve állapítsd meg, hogy a párokban szereplő kifejezések közzül melyik az integrandus és melyik a primitív függvény!\n",
    "- Előfordulhat, hogy a kifejezéseket egyszerűsíteni kell! Amennyiben a mintapéldában leírt egyszerűsétési eljárások nem bizonyulnak célravezetőnek akkor [ezen](https://docs.sympy.org/latest/tutorial/simplification.html) a linken található leírások segíthetnek! \n",
    "- Ahol célravezetőbb ott nyugodtan használd a [Newton-Leibnitz](https://hu.wikipedia.org/wiki/Newton%E2%80%93Leibniz-t%C3%A9tel)-tételt!\n",
    "\n",
    "**Figyelem** a megoldásodat itt most ne a megszokott `%pylab inline` sorral kezd!"
   ]
  },
  {
   "cell_type": "markdown",
   "metadata": {},
   "source": [
    "# Feladat 5 (2 pont)\n",
    "Vizsgáljuk az alábbi ábrán vázolt mechanikai rendszert!\n",
    "\n",
    "![](leejto.svg)\n",
    "\n",
    "A `sympy` modul segítségével fejezzük ki az $m_1$ tömegű testre ható surlódási erőt jellemző $\\mu$ csúszó surlódási eggyütthatót ha a rendszer eggyüttes mozása során az $m_2$ tömegpont a talaj felé $g/2$ gyorsulással mozog! A $\\mu$ eggyütthatót az $m_1$, $m_2$ valamint $\\alpha$ paraméterek függvényében határozzuk meg!\n",
    "A mechankika példákban megszokott módon, tekintsünk el a testeket összekötő kötél megnyúlásától és tömegétől illetve a légellenállástól!\n",
    "\n",
    "**Figyelem** a megoldásodat itt most ne a megszokott `%pylab inline` sorral kezd!"
   ]
  },
  {
   "cell_type": "markdown",
   "metadata": {},
   "source": [
    "# Feladat 6 (2 pont)\n",
    "\n",
    "\n",
    "A Lorentz-transzformáció egy 1 paraméteres lineáris transzformáció a téridő két koordinátarendszere között. A paramétere a _v_ relatív sebesség, amivel az egyik koordinátarendszer mozog a másikhoz képest. 1+1 dimenzióban (1 idő és 1 tér) a Lorentz-transzformáció mátrixa a következő:\n",
    "$$\\begin{pmatrix}c t\\\\x\\end{pmatrix}=\\begin{pmatrix}\\mathrm{cosh}(\\chi) &\\mathrm{sinh}(\\chi)\\\\\\mathrm{sinh}(\\chi) &\\mathrm{cosh}(\\chi) \\end{pmatrix}\\cdot\\begin{pmatrix} c t' \\\\ x' \\end{pmatrix},$$\n",
    "<br>\n",
    "ahol $x$ , $x'$ a helykoordináta, $t$ és $t'$ az idő az eredeti és a mozgó koordinátarendszerben, $c$ a fénysebesség, $\\chi$ pedig a rapiditás, melyről belátható, hogy $ \\mathrm{tanh}(\\chi) = \\dfrac{v}{c}$. Láthatjuk, hogy a tér és idődimenziók összecsatolódnak, ennek a leírásával speciális relativitáselmélet foglalkozik.\n",
    "A `sympy` csomag almoduljainak segítségével oldd meg az alábbi feladatokat!\n",
    "- Bizonyítsd be, hogy a transzformáció mártixának determinánsa 1.\n",
    "- Lásd be, hogy két egymás után végzett Lorentz-transzformáció ($\\chi_1$ és $\\chi_2$ rapiditásokkal, ténylegesen szorozzuk össze a mátrixokat) ekvivalens egy $\\chi_1+\\chi_2$ rapiditású transzformációval.\n",
    "- Általánosan nem igaz, hogy az azonos irányba mozgó testek sebessége a két test sebességének összege lesz, hanem a jól ismert [relativisztikus sebességösszeadást](https://en.wikipedia.org/wiki/Velocity-addition_formula) kell használni, mely megkapható a $\\mathrm{tanh}(\\chi_1+\\chi_2)$ kifejezés átalákításával. A *sympy simplify.fu* moduljának *hyper_as_trig* függvényét használva először át kell alakítani $\\chi_1$ és $\\chi_2$ argumentumú hiperbolikus függvények egy függvényére (hiperbolikus azonosság), majd behelyettesíteni a két $\\mathrm{tanh}(\\chi)$ helyére azok definícióját.\n",
    "- Tudjuk, hogy a fénynél semmi sem haladhat gyorsabban. Nézzük meg, hogy ez kijön-e az előző feladat eredményéből is. Értékeld ki a kapott összefüggést $v_1=v_2=c$-ben, és értelmezd az eredményt!\n",
    "- Vizsgáljuk meg a kis sebességű határesetet is. Mi történik, ha $v_2 \\to 0$? Használható-e a szokásos Galilei-féle sebességösszeadás, azaz $v=v_1+v_2$, ha $v_1=v_2=0.1 c$? És ha $0.001 c$? Adjuk meg a relatív eltérést százalékosan mindkét esetben a relativisztikus sebességösszeadáshoz képest!\n",
    "\n",
    "\n",
    "**Figyelem** a megoldásodat itt most ne a megszokott `%pylab inline` sorral kezd!"
   ]
  }
 ],
 "metadata": {
  "kernelspec": {
   "display_name": "Python 3",
   "language": "python",
   "name": "python3"
  },
  "language_info": {
   "codemirror_mode": {
    "name": "ipython",
    "version": 3
   },
   "file_extension": ".py",
   "mimetype": "text/x-python",
   "name": "python",
   "nbconvert_exporter": "python",
   "pygments_lexer": "ipython3",
   "version": "3.7.3"
  }
 },
 "nbformat": 4,
 "nbformat_minor": 4
}
