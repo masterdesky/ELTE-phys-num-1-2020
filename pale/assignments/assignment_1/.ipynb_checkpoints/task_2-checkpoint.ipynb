{
 "cells": [
  {
   "cell_type": "markdown",
   "metadata": {},
   "source": [
    "# Task 2.: Euler brick\n",
    "\n",
    "## Task description\n",
    "\n",
    "The Euler brick is the generalization of the concept of the Pythagorean triples: it is a cuboid where the length of edges and face diagonals are integers.\n",
    "\n",
    "- Write a function with an input argument `n`, which iterates over all (`a`,`b`,`c`) integer triples, where `a`, `b` and `c` are all smaller that `n` and checks, whether the corresponding cuboid meets the criteria. If it finds correct triples, then return all solutions concatenated as a list!\n",
    "- Run this function with $24$, $240$ and $280$ as values for `n`.\n",
    "\n",
    "## Theoretical background\n",
    "\n",
    "The definition of an Euler bricks is already given above in the description. Euler bricks are usually large, even the smallest one having much longer sides as the smallest Pythagorean triangle. Some of the smallest Euler bricks are listed by  F. Helenius[1], which are the following (in ascending order by their longest edge):\n",
    "\n",
    "Edges (`a`, `b`, `c`) | Face diagonals (`d`, `e`, `f`)\n",
    "----------------------|-------------------------------\n",
    "(44, 117, **240**)        | (125, 244, 267)\n",
    "(240, 252, **275**)       | (248, 265, 273)\n",
    "(140, 480, **693**)       | (500, 707, 843)\n",
    "(85, 132, **720**)        | (157, 725, 732)\n",
    "(160, 231, **792**)       | (281, 808, 825)\n",
    "(187, 1020, **1584**)     | (1037, 1595, 1884)\n",
    "\n",
    "We can see, that even the smallest one has an edge with length of $240$ units. This foreshadows the fact, that running are function with `n` $= 24$ will not return with any results. Also running it with $240$ will return the first, while running with $280$ as input will only return the first and second solutions in the table above.\n",
    "\n",
    "### Sources\n",
    "[1] : https://mathworld.wolfram.com/EulerBrick.html"
   ]
  },
  {
   "cell_type": "markdown",
   "metadata": {},
   "source": [
    "## Solving the task"
   ]
  },
  {
   "cell_type": "code",
   "execution_count": 52,
   "metadata": {},
   "outputs": [],
   "source": [
    "import sys\n",
    "import itertools\n",
    "import numpy as np"
   ]
  },
  {
   "cell_type": "code",
   "execution_count": 83,
   "metadata": {},
   "outputs": [],
   "source": [
    "def collect_unique_triplets(n):\n",
    "\n",
    "    # The set of possible edge lengths\n",
    "    S = np.arange(start=1, stop=n+1, step=1)\n",
    "    \n",
    "    # This list will contain all the possible and unique integer triplets\n",
    "    return list(itertools.combinations(S, r=3))"
   ]
  },
  {
   "cell_type": "code",
   "execution_count": 102,
   "metadata": {},
   "outputs": [],
   "source": [
    "def bricks(n):\n",
    "    \n",
    "    # This list will contain only the appropriate triplets\n",
    "    brick_list = []\n",
    "    \n",
    "    # The are the length of the diagonals for Euler bricks\n",
    "    diag_list = []\n",
    "    \n",
    "    # Collect all triplets, where components are smaller than `n`\n",
    "    _list = collect_unique_triplets(n)\n",
    "        \n",
    "    for i, element in enumerate(_list):\n",
    "        \n",
    "        if (i+1)%500 == 0 or i+1 == len(_list):\n",
    "            \n",
    "            sys.stdout.flush()\n",
    "            sys.stdout.write('\\rIteration {0}/{1}'.format(i+1, len(_list)))\n",
    "        \n",
    "        # Edges\n",
    "        a = element[0]\n",
    "        b = element[1]\n",
    "        c = element[2]\n",
    "    \n",
    "        # Face diagonals \n",
    "        ab = np.sqrt(a**2 + b**2)\n",
    "        ac = np.sqrt(a**2 + c**2)\n",
    "        bc = np.sqrt(b**2 + c**2)\n",
    "        \n",
    "        # Check whether the face diagonals are also integers\n",
    "        if ab.is_integer() and ac.is_integer() and bc.is_integer():\n",
    "            #print('Correct lengths: a={0}, b={1}, c={2}'.format(a, b, c))\n",
    "            brick_list.append((a,b,c))\n",
    "            diag_list.append((ab,ac,bc))\n",
    "\n",
    "    return brick_list, diag_list"
   ]
  },
  {
   "cell_type": "markdown",
   "metadata": {},
   "source": [
    "#### 1. `n` $= 24$"
   ]
  },
  {
   "cell_type": "code",
   "execution_count": 103,
   "metadata": {},
   "outputs": [
    {
     "name": "stdout",
     "output_type": "stream",
     "text": [
      "Iteration 2024/2024"
     ]
    }
   ],
   "source": [
    "brick_list, diag_list = bricks(n=24)"
   ]
  },
  {
   "cell_type": "code",
   "execution_count": 108,
   "metadata": {},
   "outputs": [
    {
     "name": "stdout",
     "output_type": "stream",
     "text": [
      "Possible triplets:\n",
      "--- None! ---\n"
     ]
    }
   ],
   "source": [
    "print('Possible triplets:')\n",
    "if len(brick_list) != 0:\n",
    "    for e in brick_list:\n",
    "        print(e)\n",
    "else:\n",
    "    print('--- None! ---')"
   ]
  },
  {
   "cell_type": "markdown",
   "metadata": {},
   "source": [
    "#### 1. `n` $= 240$"
   ]
  },
  {
   "cell_type": "code",
   "execution_count": 109,
   "metadata": {},
   "outputs": [
    {
     "name": "stdout",
     "output_type": "stream",
     "text": [
      "Iteration 2275280/2275280"
     ]
    }
   ],
   "source": [
    "brick_list, diag_list = bricks(n=240)"
   ]
  },
  {
   "cell_type": "code",
   "execution_count": 110,
   "metadata": {},
   "outputs": [
    {
     "name": "stdout",
     "output_type": "stream",
     "text": [
      "Possible triplets:\n",
      "(44, 117, 240)\n"
     ]
    }
   ],
   "source": [
    "print('Possible triplets:')\n",
    "if len(brick_list) != 0:\n",
    "    for e in brick_list:\n",
    "        print(e)\n",
    "else:\n",
    "    print('--- None! ---')"
   ]
  },
  {
   "cell_type": "markdown",
   "metadata": {},
   "source": [
    "#### 1. `n` $= 280$"
   ]
  },
  {
   "cell_type": "code",
   "execution_count": 111,
   "metadata": {},
   "outputs": [
    {
     "name": "stdout",
     "output_type": "stream",
     "text": [
      "Iteration 3619560/3619560"
     ]
    }
   ],
   "source": [
    "brick_list, diag_list = bricks(n=280)"
   ]
  },
  {
   "cell_type": "code",
   "execution_count": 112,
   "metadata": {},
   "outputs": [
    {
     "name": "stdout",
     "output_type": "stream",
     "text": [
      "Possible triplets:\n",
      "(44, 117, 240)\n",
      "(240, 252, 275)\n"
     ]
    }
   ],
   "source": [
    "print('Possible triplets:')\n",
    "if len(brick_list) != 0:\n",
    "    for e in brick_list:\n",
    "        print(e)\n",
    "else:\n",
    "    print('--- None! ---')"
   ]
  }
 ],
 "metadata": {
  "kernelspec": {
   "display_name": "Python 3",
   "language": "python",
   "name": "python3"
  },
  "language_info": {
   "codemirror_mode": {
    "name": "ipython",
    "version": 3
   },
   "file_extension": ".py",
   "mimetype": "text/x-python",
   "name": "python",
   "nbconvert_exporter": "python",
   "pygments_lexer": "ipython3",
   "version": "3.8.5"
  }
 },
 "nbformat": 4,
 "nbformat_minor": 4
}
