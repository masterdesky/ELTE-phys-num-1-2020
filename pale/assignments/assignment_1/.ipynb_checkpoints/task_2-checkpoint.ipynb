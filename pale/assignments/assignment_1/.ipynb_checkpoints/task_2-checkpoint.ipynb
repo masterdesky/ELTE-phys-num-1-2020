{
 "cells": [
  {
   "cell_type": "markdown",
   "metadata": {},
   "source": [
    "# Task 2.: Euler brick\n",
    "\n",
    "## Task description\n",
    "\n",
    "The Euler brick is the generalization of the concept of the Pythagorean triples: it is a cuboid where the length of edges and face diagonals are integers.\n",
    "\n",
    "- Írjunk függvényt, ami adott n-hez végigpróbálja az összes, n-nél kisebb vagy egyenlő pozitív egészekből alkotott (a,b,c) számhármasra, hogy a neki megfelelő tégletest lapátlói egész hosszúságúek-e. Ha talál ilyen számhármasokat, akkor azokból listát alkotva adja őket vissza eredményül!\n",
    "- Futtassuk le n=24, 240, 280 értékekkel!\n",
    "\n",
    "## Theoretical background"
   ]
  }
 ],
 "metadata": {
  "kernelspec": {
   "display_name": "Python 3",
   "language": "python",
   "name": "python3"
  },
  "language_info": {
   "codemirror_mode": {
    "name": "ipython",
    "version": 3
   },
   "file_extension": ".py",
   "mimetype": "text/x-python",
   "name": "python",
   "nbconvert_exporter": "python",
   "pygments_lexer": "ipython3",
   "version": "3.8.5"
  }
 },
 "nbformat": 4,
 "nbformat_minor": 4
}
