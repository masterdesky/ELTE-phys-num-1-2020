{
 "cells": [
  {
   "cell_type": "markdown",
   "metadata": {},
   "source": [
    "# Task 5.: Lottery numbers\n",
    "\n",
    "## Task description\n",
    "\n",
    "Write two functions, which generate 5 and 6 random lottery numbers in accordance with the standard rules of the Hungarian lottery [1,2]. (Additional notes: At \"Lottery 5\" in Hungary there are 5 numbers chosen randomly from a pool of numbers ranging from 1 to 90. Analogically at \"Lottery 6\" there are 6 numbers choosen randomly, but this time from a pool of numbers ranging from 1 to 45.\n",
    "\n",
    "- Write a function which could be optinally called with a `seed` argument, which initializes the RNG. If we call the function with the same seed, it should always return the same numbers!\n",
    "- Try whether if your function works as intended, also make tests to  the behaviour of the seed argument.\n",
    "- Return the numbers in an ascending order!\n",
    "- Ron both function $100\\,000$ times and calculate the difference between the two smallest numbers in every case!\n",
    "- Make a histogram of this difference distribution!\n",
    "\n",
    "## Theoretical background\n",
    "\n",
    "During the task I'm constantly comparing the capabilities of `Python`'s built-in standard library called `random` and NumPy's available random methods. Both of them encompass a Mersenne Twister as their main RNG, but somewhat differs in actual functionality.\n",
    "\n",
    "### Sources\n",
    "[1] : http://www.lottoszamok.net/otoslotto/szabalyok/  \n",
    "[2] : http://www.lottoszamok.net/hatoslotto/szabalyok/"
   ]
  },
  {
   "cell_type": "markdown",
   "metadata": {},
   "source": [
    "## Solving the task"
   ]
  },
  {
   "cell_type": "code",
   "execution_count": 1,
   "metadata": {},
   "outputs": [],
   "source": [
    "import sys\n",
    "import random\n",
    "import numpy as np\n",
    "\n",
    "import seaborn as sns\n",
    "import matplotlib as mpl\n",
    "import matplotlib.pyplot as plt"
   ]
  },
  {
   "cell_type": "markdown",
   "metadata": {},
   "source": [
    "### Just some matplotlib and seaborn parameter tuning"
   ]
  },
  {
   "cell_type": "code",
   "execution_count": 2,
   "metadata": {},
   "outputs": [],
   "source": [
    "# Set axtick dimensions\n",
    "major_size = 6\n",
    "major_width = 1.2\n",
    "minor_size = 3\n",
    "minor_width = 1\n",
    "mpl.rcParams['xtick.major.size'] = major_size\n",
    "mpl.rcParams['xtick.major.width'] = major_width\n",
    "mpl.rcParams['xtick.minor.size'] = minor_size\n",
    "mpl.rcParams['xtick.minor.width'] = minor_width\n",
    "mpl.rcParams['ytick.major.size'] = major_size\n",
    "mpl.rcParams['ytick.major.width'] = major_width\n",
    "mpl.rcParams['ytick.minor.size'] = minor_size\n",
    "mpl.rcParams['ytick.minor.width'] = minor_width\n",
    "\n",
    "mpl.rcParams.update({'figure.autolayout': False})\n",
    "\n",
    "# Seaborn style settings\n",
    "sns.set_style({'axes.axisbelow': True,\n",
    "               'axes.edgecolor': '.8',\n",
    "               'axes.facecolor': 'white',\n",
    "               'axes.grid': True,\n",
    "               'axes.labelcolor': '.15',\n",
    "               'axes.spines.bottom': True,\n",
    "               'axes.spines.left': True,\n",
    "               'axes.spines.right': True,\n",
    "               'axes.spines.top': True,\n",
    "               'figure.facecolor': 'white',\n",
    "               'font.family': ['sans-serif'],\n",
    "               'font.sans-serif': ['Arial',\n",
    "                'DejaVu Sans',\n",
    "                'Liberation Sans',\n",
    "                'Bitstream Vera Sans',\n",
    "                'sans-serif'],\n",
    "               'grid.color': '.8',\n",
    "               'grid.linestyle': '--',\n",
    "               'image.cmap': 'rocket',\n",
    "               'lines.solid_capstyle': 'round',\n",
    "               'patch.edgecolor': 'w',\n",
    "               'patch.force_edgecolor': True,\n",
    "               'text.color': '.15',\n",
    "               'xtick.bottom': True,\n",
    "               'xtick.color': '.15',\n",
    "               'xtick.direction': 'in',\n",
    "               'xtick.top': True,\n",
    "               'ytick.color': '.15',\n",
    "               'ytick.direction': 'in',\n",
    "               'ytick.left': True,\n",
    "               'ytick.right': True})"
   ]
  },
  {
   "cell_type": "markdown",
   "metadata": {},
   "source": [
    "### Lottery RNGs"
   ]
  },
  {
   "cell_type": "code",
   "execution_count": 3,
   "metadata": {},
   "outputs": [],
   "source": [
    "def lottery_5(seed_st=None, seed_np=None):\n",
    "    \n",
    "    # Set seed for Python's std library\n",
    "    random.seed(seed_st)\n",
    "    \n",
    "    # Set seed for numpy's RNG\n",
    "    np.random.seed(seed_np)\n",
    "    \n",
    "    return sorted(np.random.randint(1, 91, size=5)), sorted(random.sample(range(1,91), 5))"
   ]
  },
  {
   "cell_type": "code",
   "execution_count": 4,
   "metadata": {},
   "outputs": [],
   "source": [
    "def lottery_6(seed_st=None, seed_np=None):\n",
    "    \n",
    "    # Set seed for Python's std library\n",
    "    random.seed(seed_st)\n",
    "    \n",
    "    # Set seed for numpy's RNG\n",
    "    np.random.seed(seed_np)\n",
    "    \n",
    "    return sorted(np.random.randint(1, 46, size=6)), sorted(random.sample(range(1,46), 6))"
   ]
  },
  {
   "cell_type": "markdown",
   "metadata": {},
   "source": [
    "### Test basic functionality"
   ]
  },
  {
   "cell_type": "markdown",
   "metadata": {},
   "source": [
    "#### Without pre-set seed"
   ]
  },
  {
   "cell_type": "code",
   "execution_count": 5,
   "metadata": {},
   "outputs": [
    {
     "name": "stdout",
     "output_type": "stream",
     "text": [
      "5 different result WITHOUT pre-set seed (Lottery 5):\n",
      "([7, 49, 60, 87, 89], [44, 53, 61, 77, 80])\n",
      "([17, 38, 46, 54, 56], [4, 6, 26, 32, 88])\n",
      "([12, 34, 42, 51, 87], [16, 37, 72, 78, 89])\n",
      "([4, 6, 35, 53, 61], [14, 23, 25, 29, 63])\n",
      "([11, 20, 26, 71, 82], [11, 21, 31, 53, 84])\n",
      "\n",
      "5 different result WITHOUT pre-set seed (Lottery 6):\n",
      "([14, 17, 18, 23, 32, 36], [13, 17, 23, 29, 30, 39])\n",
      "([13, 13, 21, 32, 37, 37], [16, 18, 22, 29, 35, 42])\n",
      "([12, 21, 25, 37, 37, 44], [2, 9, 22, 28, 31, 41])\n",
      "([11, 21, 27, 29, 38, 40], [4, 9, 18, 28, 32, 37])\n",
      "([3, 12, 16, 22, 23, 30], [8, 22, 24, 25, 31, 43])\n"
     ]
    }
   ],
   "source": [
    "# Print the result N times\n",
    "N = 5\n",
    "\n",
    "print('{0} different result WITHOUT pre-set seed (Lottery 5):'.format(N))\n",
    "for i in range(N):\n",
    "    print(lottery_5())\n",
    "print()\n",
    "print('{0} different result WITHOUT pre-set seed (Lottery 6):'.format(N))\n",
    "for i in range(N):\n",
    "    print(lottery_6())"
   ]
  },
  {
   "cell_type": "markdown",
   "metadata": {},
   "source": [
    "#### With pre-set seed\n",
    "##### Test 1."
   ]
  },
  {
   "cell_type": "code",
   "execution_count": 6,
   "metadata": {},
   "outputs": [
    {
     "name": "stdout",
     "output_type": "stream",
     "text": [
      "5 different result WITH pre-set seed (Lottery 5):\n",
      "([15, 21, 52, 61, 72], [5, 60, 66, 74, 83])\n",
      "([15, 21, 52, 61, 72], [5, 60, 66, 74, 83])\n",
      "([15, 21, 52, 61, 72], [5, 60, 66, 74, 83])\n",
      "([15, 21, 52, 61, 72], [5, 60, 66, 74, 83])\n",
      "([15, 21, 52, 61, 72], [5, 60, 66, 74, 83])\n",
      "\n",
      "5 different result WITH pre-set seed (Lottery 6):\n",
      "([8, 15, 21, 29, 39, 43], [3, 30, 33, 37, 41, 42])\n",
      "([8, 15, 21, 29, 39, 43], [3, 30, 33, 37, 41, 42])\n",
      "([8, 15, 21, 29, 39, 43], [3, 30, 33, 37, 41, 42])\n",
      "([8, 15, 21, 29, 39, 43], [3, 30, 33, 37, 41, 42])\n",
      "([8, 15, 21, 29, 39, 43], [3, 30, 33, 37, 41, 42])\n"
     ]
    }
   ],
   "source": [
    "# Pre-set seed for Python's std library\n",
    "# (This is the seed used for Minecraft 1.8.9 set-seed speedrun WRs)\n",
    "seed_st = 4929216164286115443\n",
    "\n",
    "# Pre-set seed for numpy's RNG\n",
    "# (This is the funny number haha)\n",
    "seed_np = 42\n",
    "\n",
    "# Print the result N times\n",
    "N = 5\n",
    "\n",
    "print('{0} different result WITH pre-set seed (Lottery 5):'.format(N))\n",
    "for i in range(N):\n",
    "    print(lottery_5(seed_st, seed_np))\n",
    "print()\n",
    "print('{0} different result WITH pre-set seed (Lottery 6):'.format(N))\n",
    "for i in range(N):\n",
    "    print(lottery_6(seed_st, seed_np))"
   ]
  },
  {
   "cell_type": "markdown",
   "metadata": {},
   "source": [
    "##### Test 2.\n",
    "\n",
    "Setting both RNGs with the same seed"
   ]
  },
  {
   "cell_type": "code",
   "execution_count": 7,
   "metadata": {},
   "outputs": [
    {
     "name": "stdout",
     "output_type": "stream",
     "text": [
      "5 different result WITH pre-set seed (Lottery 5):\n",
      "([20, 39, 76, 78, 79], [10, 24, 25, 42, 53])\n",
      "([20, 39, 76, 78, 79], [10, 24, 25, 42, 53])\n",
      "([20, 39, 76, 78, 79], [10, 24, 25, 42, 53])\n",
      "([20, 39, 76, 78, 79], [10, 24, 25, 42, 53])\n",
      "([20, 39, 76, 78, 79], [10, 24, 25, 42, 53])\n",
      "\n",
      "5 different result WITH pre-set seed (Lottery 6):\n",
      "([12, 14, 15, 20, 31, 39], [5, 12, 13, 15, 21, 27])\n",
      "([12, 14, 15, 20, 31, 39], [5, 12, 13, 15, 21, 27])\n",
      "([12, 14, 15, 20, 31, 39], [5, 12, 13, 15, 21, 27])\n",
      "([12, 14, 15, 20, 31, 39], [5, 12, 13, 15, 21, 27])\n",
      "([12, 14, 15, 20, 31, 39], [5, 12, 13, 15, 21, 27])\n"
     ]
    }
   ],
   "source": [
    "# Pre-set seed for Python's std library\n",
    "# (The other funny number comedy)\n",
    "seed_st = 137\n",
    "\n",
    "# Pre-set seed for numpy's RNG\n",
    "# (The other funny number comedy)\n",
    "seed_np = 137\n",
    "\n",
    "# Print the result N times\n",
    "N = 5\n",
    "\n",
    "print('{0} different result WITH pre-set seed (Lottery 5):'.format(N))\n",
    "for i in range(N):\n",
    "    print(lottery_5(seed_st, seed_np))\n",
    "print()\n",
    "print('{0} different result WITH pre-set seed (Lottery 6):'.format(N))\n",
    "for i in range(N):\n",
    "    print(lottery_6(seed_st, seed_np))"
   ]
  },
  {
   "cell_type": "markdown",
   "metadata": {},
   "source": [
    "### Creating histogram"
   ]
  },
  {
   "cell_type": "code",
   "execution_count": 8,
   "metadata": {},
   "outputs": [],
   "source": [
    "# Run the functions N times\n",
    "N = 100000\n",
    "\n",
    "# List to store differences of smallest numbers\n",
    "diff = np.zeros(N)\n",
    "\n",
    "for i in range(N):\n",
    "    diff[i] = lottery_5()[0][0] - lottery_6()[0][0]"
   ]
  },
  {
   "cell_type": "code",
   "execution_count": 9,
   "metadata": {},
   "outputs": [],
   "source": [
    "hist, bins = np.histogram(diff, bins=20, density=True)\n",
    "width = 0.9 * (bins[1] - bins[0])\n",
    "center = (bins[:-1] + bins[1:]) / 2"
   ]
  },
  {
   "cell_type": "code",
   "execution_count": 10,
   "metadata": {},
   "outputs": [
    {
     "data": {
      "image/png": "[encoded data removed]",
      "text/plain": [
       "<Figure size 1080x648 with 1 Axes>"
      ]
     },
     "metadata": {},
     "output_type": "display_data"
    }
   ],
   "source": [
    "fig, axes = plt.subplots(nrows=1, ncols=1, figsize=(15,9))\n",
    "\n",
    "axislabelsize = 19\n",
    "axisticksize = 15\n",
    "axislegendsize = 14\n",
    "\n",
    "axes.bar(center, hist, align='center', width=width,\n",
    "         color='tab:orange', edgecolor='black')\n",
    "\n",
    "axes.set_xlabel('Difference between smallest numbers', fontsize=axislabelsize)\n",
    "axes.set_ylabel('Occurence [%]', fontsize=axislabelsize)\n",
    "axes.tick_params(axis='both', which='major', labelsize=axisticksize)\n",
    "\n",
    "plt.show()"
   ]
  }
 ],
 "metadata": {
  "kernelspec": {
   "display_name": "Python 3",
   "language": "python",
   "name": "python3"
  },
  "language_info": {
   "codemirror_mode": {
    "name": "ipython",
    "version": 3
   },
   "file_extension": ".py",
   "mimetype": "text/x-python",
   "name": "python",
   "nbconvert_exporter": "python",
   "pygments_lexer": "ipython3",
   "version": "3.8.5"
  }
 },
 "nbformat": 4,
 "nbformat_minor": 4
}
