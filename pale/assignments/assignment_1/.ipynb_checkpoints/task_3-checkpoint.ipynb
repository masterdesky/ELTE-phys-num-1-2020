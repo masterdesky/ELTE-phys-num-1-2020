{
 "cells": [
  {
   "cell_type": "markdown",
   "metadata": {},
   "source": [
    "# Task 3.: Base conversion\n",
    "\n",
    "## Task description\n",
    "\n",
    "Write two functions, which could be used to convert a number between base 10 and base 4.\n",
    " \n",
    "- You need to solve the task without importing any external modules!\n",
    "- Let the name of the function which converts from base 10 to base 4 be from10to4. Let it have only one input parameter, which should be an int-type value.  \n",
    "    The return value of the function should be a string-type variable, which gives the corresponding representation of the input number in base 4.\n",
    "- Let the name of the function which converts from base 4 to base 10 be from4to10. Let it have only one input parameter, which should be a string-type value.  \n",
    "    The return value of the function should be an integer.\n",
    "\n",
    "Make sure if you're converting a number back-and-forth between base 10 and base 4, you still get back the initial number! For further tests there are 4 test cases:\n",
    "\n",
    "Base 10 | Base 4\n",
    "--------|--------\n",
    "`0`     | `'0'`\n",
    "`42`    | `'222'`\n",
    "`137`   | `'2021'`\n",
    "`1982`  | `'132332'`\n",
    "\n",
    "## Theoretical background\n",
    "\n",
    "### Positional notation\n",
    "\n",
    "It is known, that any number could be represented in any bases. The conversion between these representations (called as \"bases\") could be easily understood and generalized by making ourselves familiar with the meaning of the \"positional notation\". The common notation of decimal numbers we use everyday is in fact also a \"positional notation\". In this system the position of a single digit in a number (eg. the $2$ in $10\\,235$) indicates the contribution of that digit to the value of the number. This contribution equals to the product of the value of the digit and the power of the base, which the number is represented in. The exponent in this power is the position of the digit inside the number.\n",
    "\n",
    "Using the example above, let $10\\,235$ be a decimal number (which means it is represented in base 10). The digit $2$, standing in the 3rd position in this number. In this positional system it means, that the contribution of the digit $2$ to the value of this number is $2 \\cdot 10^{3}$, where $2$ is the actual digit, $10$ is the base, and $3$ is the position of the digit.  \n",
    "\n",
    "We can generalize this by saying, that in an arbitrary base $N$, a $D$ digit in the $m$th place in a number contributes to its value by $D \\cdot N^{m}$.\n",
    "\n",
    "### Base conversion algorithm\n",
    "\n",
    "Base conversion algorithms\n",
    "\n",
    "\n",
    "## Notes\n",
    "\n",
    "To make the program modular I also implemented a function which can convert a number to an arbitrary base."
   ]
  },
  {
   "cell_type": "markdown",
   "metadata": {},
   "source": [
    "## Solving the task"
   ]
  },
  {
   "cell_type": "markdown",
   "metadata": {},
   "source": [
    "Some test values, which were given in the description."
   ]
  },
  {
   "cell_type": "code",
   "execution_count": 2,
   "metadata": {},
   "outputs": [],
   "source": [
    "test_ints = [0, 42, 137, 1982]\n",
    "test_strs = ['0', '222', '2021', '132332']"
   ]
  },
  {
   "cell_type": "markdown",
   "metadata": {},
   "source": [
    "### Convert from base 10 to base 4"
   ]
  },
  {
   "cell_type": "code",
   "execution_count": 3,
   "metadata": {},
   "outputs": [],
   "source": [
    "def from10to4(int_num):\n",
    "\n",
    "    assert type(int_num) == int, 'Input number should be an integer!'\n",
    "\n",
    "    # Container for digits of the output number\n",
    "    out_num = []\n",
    "\n",
    "    while(1):\n",
    "        # Append the digit to the output\n",
    "        out_num.append(str(int_num % 4))\n",
    "\n",
    "        # Update the value of the input number\n",
    "        int_num = int_num // 4;\n",
    "        \n",
    "        if(int_num == 0):\n",
    "            break\n",
    "\n",
    "    return ''.join(out_num[::-1])"
   ]
  },
  {
   "cell_type": "code",
   "execution_count": 4,
   "metadata": {},
   "outputs": [
    {
     "name": "stdout",
     "output_type": "stream",
     "text": [
      "The represenation of the base 10 number 0 in base 4 is '0'\n",
      "The represenation of the base 10 number 42 in base 4 is '222'\n",
      "The represenation of the base 10 number 137 in base 4 is '2021'\n",
      "The represenation of the base 10 number 1982 in base 4 is '132332'\n"
     ]
    }
   ],
   "source": [
    "for n in test_ints:\n",
    "    print('The represenation of the base 10 number {0} in base 4 is \\'{1}\\''.format(n, from10to4(int_num=n)))"
   ]
  },
  {
   "cell_type": "markdown",
   "metadata": {},
   "source": [
    "### Convert from base 4 to base 10"
   ]
  },
  {
   "cell_type": "code",
   "execution_count": 5,
   "metadata": {},
   "outputs": [],
   "source": [
    "def from4to10(str_num):\n",
    "    \n",
    "    assert type(str_num) == str, 'Input representation of number should be a string!'\n",
    "    \n",
    "    # Python's `int()` class have a built-in `base` argument,\n",
    "    # which could be used to \n",
    "    return int(str_num, 4)"
   ]
  },
  {
   "cell_type": "code",
   "execution_count": 6,
   "metadata": {},
   "outputs": [
    {
     "name": "stdout",
     "output_type": "stream",
     "text": [
      "The represenation of the base 4 number '0' in base 10 is 0\n",
      "The represenation of the base 4 number '222' in base 10 is 42\n",
      "The represenation of the base 4 number '2021' in base 10 is 137\n",
      "The represenation of the base 4 number '132332' in base 10 is 1982\n"
     ]
    }
   ],
   "source": [
    "for n in test_strs:\n",
    "    print('The represenation of the base 4 number \\'{0}\\' in base 10 is {1}'.format(n, from4to10(str_num=n)))"
   ]
  },
  {
   "cell_type": "markdown",
   "metadata": {},
   "source": [
    "## Extra solution\n",
    "\n",
    "Creating a function which converts a number from base 10 to any arbitrary bases between $2$ and $\\infty$."
   ]
  },
  {
   "cell_type": "code",
   "execution_count": 7,
   "metadata": {},
   "outputs": [],
   "source": [
    "def from10toB(int_num, base):\n",
    "    \n",
    "    assert type(int_num) == int, 'Input number should be an integer!'\n",
    "    \n",
    "    # Container for digits of the output number\n",
    "    out_num = []\n",
    "\n",
    "    while(1):\n",
    "        # Append the digit to the output\n",
    "        out_num.append(str(int_num % base))\n",
    "\n",
    "        # Update the value of the input number\n",
    "        int_num = int_num // base;\n",
    "        \n",
    "        if(int_num == 0):\n",
    "            break\n",
    "            \n",
    "    return out_num[::-1]"
   ]
  },
  {
   "cell_type": "code",
   "execution_count": 9,
   "metadata": {},
   "outputs": [
    {
     "data": {
      "text/plain": [
       "['2', '0', '2', '1']"
      ]
     },
     "execution_count": 9,
     "metadata": {},
     "output_type": "execute_result"
    }
   ],
   "source": [
    "from10toB(int_num=137, base=4)"
   ]
  },
  {
   "cell_type": "code",
   "execution_count": 8,
   "metadata": {},
   "outputs": [
    {
     "data": {
      "text/plain": [
       "['1', '3', '2', '3', '3', '2']"
      ]
     },
     "execution_count": 8,
     "metadata": {},
     "output_type": "execute_result"
    }
   ],
   "source": [
    "from10toB(int_num=1982, base=4)"
   ]
  },
  {
   "cell_type": "code",
   "execution_count": 10,
   "metadata": {},
   "outputs": [
    {
     "data": {
      "text/plain": [
       "['35', '22']"
      ]
     },
     "execution_count": 10,
     "metadata": {},
     "output_type": "execute_result"
    }
   ],
   "source": [
    "from10toB(int_num=1982, base=56)"
   ]
  }
 ],
 "metadata": {
  "kernelspec": {
   "display_name": "Python 3",
   "language": "python",
   "name": "python3"
  },
  "language_info": {
   "codemirror_mode": {
    "name": "ipython",
    "version": 3
   },
   "file_extension": ".py",
   "mimetype": "text/x-python",
   "name": "python",
   "nbconvert_exporter": "python",
   "pygments_lexer": "ipython3",
   "version": "3.8.5"
  }
 },
 "nbformat": 4,
 "nbformat_minor": 4
}
