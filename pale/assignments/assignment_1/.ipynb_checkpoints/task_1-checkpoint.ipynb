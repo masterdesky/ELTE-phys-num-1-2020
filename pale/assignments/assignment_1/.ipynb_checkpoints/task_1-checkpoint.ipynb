{
 "cells": [
  {
   "cell_type": "markdown",
   "metadata": {},
   "source": [
    "# Luhn algorithm\n",
    "\n",
    "## Task description\n",
    "- Write a function, which uses the [Luhn algorithm](https://en.wikipedia.org/wiki/Luhn_algorithm) to verify the authenticity of credit card numbers.\n",
    "- Test the correct operation of your function using these credit card numbers:\n",
    "    - 79927398713 (True)\n",
    "    - 79927398716 (False)\n",
    "    - 79927398719 ?\n",
    "    - 456565654 ?\n",
    "    - 456565651 ?\n",
    "    \n",
    "## Theoretical background\n",
    "\n",
    "The Luhn algorithm is a simple autheticity check for different identification numbers and codes, mostly used in Northern America (and in some other countries), along with some international companies. The algorithm is is described in U.S. Patent No. 2,950,048 [1].  \n",
    "The algorithm consist of three steps. As correctly written on Wikipedia[2] these steps are the following:\n",
    "\n",
    "1. From the rightmost digit (excluding the check digit) and moving left, double the value of every second digit. The check digit is neither doubled nor included in this calculation; the first digit doubled is the digit located immediately left of the check digit. If the result of this doubling operation is greater than 9 (e.g., $8 \\times 2 = 16$), then add the digits of the result (e.g., $16$: $1 + 6 = 7$, $18$: $1 + 8 = 9$) or, alternatively, the same final result can be found by subtracting 9 from that result (e.g., $16$: $16 − 9 = 7$, $18$: $18 − 9 = 9$).\n",
    "2. Take the sum of all the digits.\n",
    "3. If the total modulo $10$ is equal to $0$ (if the total ends in zero) then the number is valid according to the Luhn formula; otherwise it is not valid.\n",
    "\n",
    "The first step could be made easier to understand, if we visualize it in a simple table:\n",
    "\n",
    "\\begin{array}{|r|r|} \\hline\n",
    "\\text{Original ID number}        &7 &9 &9 &2 &7 &3 &9 &8 &7 &1 &3 \\\\ \\hline\n",
    "\\text{Double every second digit} &7 &\\bf{18} &9 &\\bf{4} &7 &\\bf{6} &9 &\\bf{16} &7 &\\bf{2} &3 \\\\ \\hline\n",
    "\\text{Sum the doubled digits}    &7 &\\bf{9} &9 &\\bf{4} &7 &\\bf{6} &9 &\\bf{7} &7 &\\bf{2} &3 \\\\ \\hline\n",
    "\\end{array}\n",
    "\n",
    "Now summing the digits of the final, transformed ID number, we get the following:\n",
    "\n",
    "$$\n",
    "7 + 9 + 9 + 4 + 7 + 6 + 9 + 7 + 7 + 2 + 3\n",
    "=\n",
    "70\n",
    "$$\n",
    "\n",
    "Which indicates a correct - in this case a - credit card number, since $70\\ \\text{mod}\\ 10 = 0$.\n",
    "\n",
    "### Sources\n",
    "\n",
    "[1] : https://patents.google.com/patent/US2950048  \n",
    "[2] : https://en.wikipedia.org/wiki/Luhn_algorithm"
   ]
  },
  {
   "cell_type": "code",
   "execution_count": 1,
   "metadata": {},
   "outputs": [],
   "source": [
    "import numpy as np"
   ]
  },
  {
   "cell_type": "code",
   "execution_count": 2,
   "metadata": {},
   "outputs": [],
   "source": [
    "def Luhn(num):\n",
    "\n",
    "    # It is much easier to work with the ID number, if we\n",
    "    # convert it to a numpy.array\n",
    "    # For this, we convert the `num` variable to string first,\n",
    "    # then slice it into an array\n",
    "    num = np.array([int(i) for i in str(num)])\n",
    "    num[-2::-2] = num[-2::-2]*2\n",
    "    \n",
    "    for idx, n in enumerate(num):\n",
    "        if n >= 10:\n",
    "            num[idx] = n%10 + n//10\n",
    "    summ = num.sum()\n",
    "    \n",
    "    return num, summ"
   ]
  },
  {
   "cell_type": "code",
   "execution_count": null,
   "metadata": {},
   "outputs": [],
   "source": [
    "num, summ = Luhn(num=79927398713)\n",
    "print('Transformed card numbers: [{0}]'.format(num))\n",
    "print('Sum of numbers: {0}'.format(summ))"
   ]
  }
 ],
 "metadata": {
  "kernelspec": {
   "display_name": "Python 3",
   "language": "python",
   "name": "python3"
  },
  "language_info": {
   "codemirror_mode": {
    "name": "ipython",
    "version": 3
   },
   "file_extension": ".py",
   "mimetype": "text/x-python",
   "name": "python",
   "nbconvert_exporter": "python",
   "pygments_lexer": "ipython3",
   "version": "3.7.7"
  }
 },
 "nbformat": 4,
 "nbformat_minor": 4
}
