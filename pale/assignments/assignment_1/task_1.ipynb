{
 "cells": [
  {
   "cell_type": "markdown",
   "metadata": {},
   "source": [
    "# Task 1.: Luhn algorithm\n",
    "\n",
    "## Task description\n",
    "- Write a function, which uses the [Luhn algorithm](https://en.wikipedia.org/wiki/Luhn_algorithm) to verify the authenticity of credit card numbers.\n",
    "- Test the correct operation of your function using these credit card numbers:\n",
    "    - 79927398713 (True)\n",
    "    - 79927398716 (False)\n",
    "    - 79927398719 ?\n",
    "    - 456565654 ?\n",
    "    - 456565651 ?\n",
    "    \n",
    "## Theoretical background\n",
    "\n",
    "The Luhn algorithm is a simple autheticity check for different identification numbers and codes, mostly used in Northern America (and in some other countries), along with some international companies. The algorithm is is described in U.S. Patent No. 2,950,048 [1].  \n",
    "The algorithm consist of three steps. As correctly written on Wikipedia[2] these steps are the following:\n",
    "\n",
    "1. From the rightmost digit (excluding the check digit) and moving left, double the value of every second digit. The check digit is neither doubled nor included in this calculation; the first digit doubled is the digit located immediately left of the check digit. If the result of this doubling operation is greater than 9 (e.g., $8 \\times 2 = 16$), then add the digits of the result (e.g., $16$: $1 + 6 = 7$, $18$: $1 + 8 = 9$) or, alternatively, the same final result can be found by subtracting 9 from that result (e.g., $16$: $16 − 9 = 7$, $18$: $18 − 9 = 9$).\n",
    "2. Take the sum of all the digits.\n",
    "3. If the total modulo $10$ is equal to $0$ (if the total ends in zero) then the number is valid according to the Luhn formula; otherwise it is not valid.\n",
    "\n",
    "The first step could be made easier to understand, if we visualize it in a simple table:\n",
    "\n",
    "\\begin{array}{|r|r|} \\hline\n",
    "\\text{Original ID number}        &7 &9 &9 &2 &7 &3 &9 &8 &7 &1 &3 \\\\ \\hline\n",
    "\\text{Double every second digit} &7 &\\bf{18} &9 &\\bf{4} &7 &\\bf{6} &9 &\\bf{16} &7 &\\bf{2} &3 \\\\ \\hline\n",
    "\\text{Sum the doubled digits}    &7 &\\bf{9} &9 &\\bf{4} &7 &\\bf{6} &9 &\\bf{7} &7 &\\bf{2} &3 \\\\ \\hline\n",
    "\\end{array}\n",
    "\n",
    "Now summing the digits of the final, transformed ID number, we get the following:\n",
    "\n",
    "$$\n",
    "7 + 9 + 9 + 4 + 7 + 6 + 9 + 7 + 7 + 2 + 3\n",
    "=\n",
    "70\n",
    "$$\n",
    "\n",
    "Which indicates a correct - in this case a - credit card number, since $70\\ \\text{mod}\\ 10 = 0$.\n",
    "\n",
    "### Sources\n",
    "\n",
    "[1] : https://patents.google.com/patent/US2950048  \n",
    "[2] : https://en.wikipedia.org/wiki/Luhn_algorithm"
   ]
  },
  {
   "cell_type": "markdown",
   "metadata": {},
   "source": [
    "## Solving the task"
   ]
  },
  {
   "cell_type": "code",
   "execution_count": 1,
   "metadata": {},
   "outputs": [],
   "source": [
    "import numpy as np"
   ]
  },
  {
   "cell_type": "code",
   "execution_count": 2,
   "metadata": {},
   "outputs": [],
   "source": [
    "def Luhn(num):\n",
    "\n",
    "    # It is much easier to work with the ID number, if we\n",
    "    # convert it to a numpy.array\n",
    "    # For this, we convert the `num` variable to string first,\n",
    "    # then slice it into an array\n",
    "    num = np.array([int(i) for i in str(num)])\n",
    "    \n",
    "    # Starting from the second rightmost digit, multiply every\n",
    "    # number by 2\n",
    "    num[-2::-2] = num[-2::-2]*2\n",
    "    \n",
    "    # Sum the digits of the individual numbers in the transformed\n",
    "    # ID number\n",
    "    # We technically only need to handle values, where the \"digit\"\n",
    "    # is equal, or greater than 10\n",
    "    for idx, n in enumerate(num):\n",
    "        if n >= 10:\n",
    "            num[idx] = n%10 + n//10\n",
    "            \n",
    "    # Sum all digits in the final number\n",
    "    sum_ = num.sum()\n",
    "    \n",
    "    # Check whether if ID number is good or not:\n",
    "    print('CHECK:')\n",
    "    if(sum_ % 10 == 0):\n",
    "        print('This seems like a valid ID number according to the Luhn algorithm! (POSITIVE)\\n')\n",
    "    else:\n",
    "        print('This is NOT a valid ID number according to the Luhn algorithm! (NEGATIVE)\\n')\n",
    "    \n",
    "    return num, sum_"
   ]
  },
  {
   "cell_type": "markdown",
   "metadata": {},
   "source": [
    "#### 1. `79927398713`"
   ]
  },
  {
   "cell_type": "code",
   "execution_count": 3,
   "metadata": {
    "scrolled": true
   },
   "outputs": [
    {
     "name": "stdout",
     "output_type": "stream",
     "text": [
      "CHECK:\n",
      "This seems like a valid ID number according to the Luhn algorithm! (POSITIVE)\n",
      "\n",
      "Orig. card number: [7 9 9 2 7 3 9 8 7 1 3]\n",
      "Tran. card number: [7 9 9 4 7 6 9 7 7 2 3]\n",
      "Sum of numbers: 70\n"
     ]
    }
   ],
   "source": [
    "original_num = 79927398713\n",
    "final_num, sum_ = Luhn(num=original_num)\n",
    "print('Orig. card number: {0}'.format(np.array([int(i) for i in str(original_num)])))\n",
    "print('Tran. card number: {0}'.format(final_num))\n",
    "print('Sum of numbers: {0}'.format(sum_))"
   ]
  },
  {
   "cell_type": "markdown",
   "metadata": {},
   "source": [
    "#### 2. `79927398716`"
   ]
  },
  {
   "cell_type": "code",
   "execution_count": 4,
   "metadata": {
    "scrolled": true
   },
   "outputs": [
    {
     "name": "stdout",
     "output_type": "stream",
     "text": [
      "CHECK:\n",
      "This is NOT a valid ID number according to the Luhn algorithm! (NEGATIVE)\n",
      "\n",
      "Orig. card number: [7 9 9 2 7 3 9 8 7 1 6]\n",
      "Tran. card number: [7 9 9 4 7 6 9 7 7 2 6]\n",
      "Sum of numbers: 73\n"
     ]
    }
   ],
   "source": [
    "original_num = 79927398716\n",
    "final_num, sum_ = Luhn(num=original_num)\n",
    "print('Orig. card number: {0}'.format(np.array([int(i) for i in str(original_num)])))\n",
    "print('Tran. card number: {0}'.format(final_num))\n",
    "print('Sum of numbers: {0}'.format(sum_))"
   ]
  },
  {
   "cell_type": "markdown",
   "metadata": {},
   "source": [
    "#### 3. `79927398719`"
   ]
  },
  {
   "cell_type": "code",
   "execution_count": 5,
   "metadata": {
    "scrolled": true
   },
   "outputs": [
    {
     "name": "stdout",
     "output_type": "stream",
     "text": [
      "CHECK:\n",
      "This is NOT a valid ID number according to the Luhn algorithm! (NEGATIVE)\n",
      "\n",
      "Orig. card number: [7 9 9 2 7 3 9 8 7 1 9]\n",
      "Tran. card number: [7 9 9 4 7 6 9 7 7 2 9]\n",
      "Sum of numbers: 76\n"
     ]
    }
   ],
   "source": [
    "original_num = 79927398719\n",
    "final_num, sum_ = Luhn(num=original_num)\n",
    "print('Orig. card number: {0}'.format(np.array([int(i) for i in str(original_num)])))\n",
    "print('Tran. card number: {0}'.format(final_num))\n",
    "print('Sum of numbers: {0}'.format(sum_))"
   ]
  },
  {
   "cell_type": "markdown",
   "metadata": {},
   "source": [
    "#### 4. `456565654`"
   ]
  },
  {
   "cell_type": "code",
   "execution_count": 6,
   "metadata": {
    "scrolled": true
   },
   "outputs": [
    {
     "name": "stdout",
     "output_type": "stream",
     "text": [
      "CHECK:\n",
      "This seems like a valid ID number according to the Luhn algorithm! (POSITIVE)\n",
      "\n",
      "Orig. card number: [4 5 6 5 6 5 6 5 4]\n",
      "Tran. card number: [4 1 6 1 6 1 6 1 4]\n",
      "Sum of numbers: 30\n"
     ]
    }
   ],
   "source": [
    "original_num = 456565654\n",
    "final_num, sum_ = Luhn(num=original_num)\n",
    "print('Orig. card number: {0}'.format(np.array([int(i) for i in str(original_num)])))\n",
    "print('Tran. card number: {0}'.format(final_num))\n",
    "print('Sum of numbers: {0}'.format(sum_))"
   ]
  },
  {
   "cell_type": "markdown",
   "metadata": {},
   "source": [
    "#### 5. `456565651`"
   ]
  },
  {
   "cell_type": "code",
   "execution_count": 7,
   "metadata": {
    "scrolled": true
   },
   "outputs": [
    {
     "name": "stdout",
     "output_type": "stream",
     "text": [
      "CHECK:\n",
      "This is NOT a valid ID number according to the Luhn algorithm! (NEGATIVE)\n",
      "\n",
      "Orig. card number: [4 5 6 5 6 5 6 5 1]\n",
      "Tran. card number: [4 1 6 1 6 1 6 1 1]\n",
      "Sum of numbers: 27\n"
     ]
    }
   ],
   "source": [
    "original_num = 456565651\n",
    "final_num, sum_ = Luhn(num=original_num)\n",
    "print('Orig. card number: {0}'.format(np.array([int(i) for i in str(original_num)])))\n",
    "print('Tran. card number: {0}'.format(final_num))\n",
    "print('Sum of numbers: {0}'.format(sum_))"
   ]
  },
  {
   "cell_type": "code",
   "execution_count": null,
   "metadata": {},
   "outputs": [],
   "source": []
  }
 ],
 "metadata": {
  "kernelspec": {
   "display_name": "Python 3",
   "language": "python",
   "name": "python3"
  },
  "language_info": {
   "codemirror_mode": {
    "name": "ipython",
    "version": 3
   },
   "file_extension": ".py",
   "mimetype": "text/x-python",
   "name": "python",
   "nbconvert_exporter": "python",
   "pygments_lexer": "ipython3",
   "version": "3.8.5"
  }
 },
 "nbformat": 4,
 "nbformat_minor": 4
}
