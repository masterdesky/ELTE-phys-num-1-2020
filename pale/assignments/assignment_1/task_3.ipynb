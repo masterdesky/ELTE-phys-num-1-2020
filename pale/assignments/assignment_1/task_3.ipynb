{
 "cells": [
  {
   "cell_type": "markdown",
   "metadata": {},
   "source": [
    "# Task 3.: Base conversion\n",
    "\n",
    "## Task description\n",
    "\n",
    "Write two functions, which could be used to convert a number between base 10 and base 4.\n",
    " \n",
    "- You need to solve the task without importing any external modules!\n",
    "- Legyen a 10-esből a 4-asba konvertáló függvény neve from10to4. Egy bemeneti paramétere legyen ami egy egész szám. \n",
    "  A függvény visszatérési értéke egy string legyen amelynek a karakterei a megfelelő 4-as számrendszerbeli reprezentációját adják a számnak.\n",
    "- Legyen a 4-asból a 10-esbe konvertáló függvényed neve from4to10. Egy bemeneti paraméterrel rendelkezzen ami egy string. \n",
    "  A függvény visszatérési értéke legyen egy egész szám.\n",
    "\n",
    "Make sure if you're converting a number back-and-forth between base 10 and base 4, you still get back the initial number! For further tests there are 4 test cases:\n",
    "\n",
    "Base 10 | Base 4\n",
    "--------|--------\n",
    "`0`     | `'0'`\n",
    "`42`    | `'222'`\n",
    "`137`   | `'2021'`\n",
    "`1982`  | `'132332'`\n",
    "\n",
    "## Theoretical background\n",
    "\n",
    "### Positional notation\n",
    "\n",
    "Any number could be represented in any kind of bases. The conversion between these representations called bases could be easily understood and generalized by making ourselves familiar with the meaning of the \"positional notation\". The common notation of decimal numbers we use everyday is in fact also a \"positional notation\". In this system the position of a single digit in a number (eg. the $2$ in $10\\,235$) indicates the contribution of that digit to the value of a number. This contribution equals to the product of the value of the digit and the power of the base, which the number is represented in. The exponent in this power is the position of the digit inside the number.\n",
    "\n",
    "Using the example above, let $10\\,235$ be a decimal number (which means it is represented in base 10). The digit $2$, standing in the 3rd position in this number. In this positional system this means, that the contribution of the digit $2$ to the value of this number is $2 \\cdot 10^{3}$, where $2$ is the actual digit, $10$ is the base, and $3$ is the position of the digit.  \n",
    "\n",
    "We can generalize this by saying, that in an arbitrary base $N$, a $D$ digit in the $m$th place in a number contributes to its value by $D \\cdot N^{m}$.\n",
    "\n",
    "### Base conversion algorithm\n",
    "\n",
    "\n",
    "\n",
    "## Notes\n",
    "\n",
    "To make the program more modular I also implemented a function which can convert a number to an arbitrary base."
   ]
  },
  {
   "cell_type": "markdown",
   "metadata": {},
   "source": [
    "## Solving the task"
   ]
  },
  {
   "cell_type": "code",
   "execution_count": 22,
   "metadata": {},
   "outputs": [],
   "source": [
    "def from10to4(int_num):\n",
    "    \n",
    "    # Convert the input value to a string for easier handling\n",
    "    str_num = str(int_num)\n",
    "    \n",
    "    return"
   ]
  },
  {
   "cell_type": "code",
   "execution_count": 23,
   "metadata": {},
   "outputs": [],
   "source": [
    "def from4to10(str_num):\n",
    "    return"
   ]
  },
  {
   "cell_type": "code",
   "execution_count": null,
   "metadata": {},
   "outputs": [],
   "source": []
  }
 ],
 "metadata": {
  "kernelspec": {
   "display_name": "Python 3",
   "language": "python",
   "name": "python3"
  },
  "language_info": {
   "codemirror_mode": {
    "name": "ipython",
    "version": 3
   },
   "file_extension": ".py",
   "mimetype": "text/x-python",
   "name": "python",
   "nbconvert_exporter": "python",
   "pygments_lexer": "ipython3",
   "version": "3.7.7"
  }
 },
 "nbformat": 4,
 "nbformat_minor": 4
}
