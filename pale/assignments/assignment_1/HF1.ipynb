{
 "cells": [
  {
   "cell_type": "markdown",
   "metadata": {},
   "source": [
    "# HF 1 (15 pont)\n",
    "\n",
    "- Minden feladatot a feladatszámnak megfelelő számú megoldásnotebookban oldj meg. Például első feladatot az 01_feladat.ipynb notebookban.\n",
    "- A megoldás tartalmazza a megoldandó feladat szövegét a megoldásnotebook első markdown cellájában!\n",
    "- **Kommentekkel**, illetve **markdown cellákkal** magyarázd, hogy éppen mit csinál az adott kódrészlet!\n",
    "- Magyarázat nélkül a beküldött feladatok csak fél feladatnak számítanak!\n",
    "- Az elkészített ábrák minden esetben rendelkezzenek ábrafeliratokkal (cím, tengelyfeliratok és  −  amennyiben indokolt  −  jelmagyarázat)! Amennyiben a beadott ábrákon nincsenek feliratok, az adott feladat automatikusan csak fél feladatnak számít!\n",
    "- A beadott notebookok Kernel -> Restart&Run All hatására a beadott formát reprodukálják! \n",
    "- A Feladatok megadott pontszámán túl a beadott feladatok külalakjáért összesen 3 pont-ot lehet szerezni!\n",
    "---\n"
   ]
  },
  {
   "cell_type": "markdown",
   "metadata": {},
   "source": [
    "## Feladat 1 (2 pont)\n",
    "## Luhn-algoritmus\n",
    "\n",
    "- Írj egy függvényt, ami a [Luhn-algoritmus](https://hu.wikipedia.org/wiki/Luhn-formula) segítségével ellenőrzi a hitelkártyaszámok hitelességét.\n",
    "- Demonstráld az alábbi hitelkártyaszámokkal, hogy a függvény jól működik:\n",
    "    - 79927398713 (True)\n",
    "    - 79927398716 (False)\n",
    "    - 79927398719 ?\n",
    "    - 456565654 ?\n",
    "    - 456565651 ?\n"
   ]
  },
  {
   "cell_type": "markdown",
   "metadata": {},
   "source": [
    "## Feladat 2  (2 pont)\n",
    "\n",
    "Az Euler brick a Pithagoraszi számhármas általánosításának felel meg: olyan téglatest, melynek élei és lapátlói is egész szám hosszúságúak.\n",
    "\n",
    "- Írjunk függvényt, ami adott n-hez végigpróbálja az összes, n-nél kisebb vagy egyenlő pozitív egészekből alkotott (a,b,c) számhármasra, hogy a neki megfelelő tégletest lapátlói egész hosszúságúek-e. Ha talál ilyen számhármasokat, akkor azokból listát alkotva adja őket vissza eredményül!\n",
    "- Futtassuk le n=24, 240, 280 értékekkel!"
   ]
  },
  {
   "cell_type": "markdown",
   "metadata": {},
   "source": [
    "## Feladat 3 (2 pont)\n",
    "\n",
    "Írj két függvényt ami a 10-es ésa 4-as számrendszer közt konvertál.\n",
    " \n",
    "- A feladat megoldásához ne importálj semmilyen külső modult!\n",
    "- Legyen a 10-esből a 4-asba konvertáló függvény neve from10to4. Egy bemeneti paramétere legyen ami egy egész szám. \n",
    "  A függvény visszatérési értéke egy string legyen amelynek a karakterei a megfelelő 4-as számrendszerbeli reprezentációját adják a számnak.\n",
    "- Legyen a 4-asból a 10-esbe konvertáló függvényed neve from4to10. Egy bemeneti paraméterrel rendelkezzen ami egy string. \n",
    "  A függvény visszatérési értéke legyen egy egész szám.\n",
    "\n",
    "Ellenőrizd le, hogy ha egy tetszőleges számot od-a vissza váltassz akkor vissza kapod-e az eredeti számot!\n",
    "Ellenörzés képp itt van további 4 példa:\n",
    "\n",
    "10-es|4-as\n",
    "-|-\n",
    "`0`|`'0'`\n",
    "`42`|`'222'`\n",
    "`137`|`'2021'`\n",
    "`1982`|`132332`"
   ]
  },
  {
   "cell_type": "markdown",
   "metadata": {},
   "source": [
    "## Feladat 4 (2 pont)\n",
    "\n",
    "2048-ban találkozunk idegen lényekkel, akiknek a számítógépében a számok szintén 0,1 értékű bitekkel vannak ábrázolva.\n",
    "Azonban náluk nem lehet egymás mellett két 1-es bit!\n",
    "(pl. 101000010010 egy megengedett bitsorozat).\n",
    "- Írjunk függvényt, ami adott n-re sorra veszi az összes lehetséges 0,1 sorozatot, és megszámlálja hány megengedett van köztük!\n",
    "- Hány lehetséges értéke van egy bájtnak a szokásos 256 helyett?\n",
    "- Futtassuk le ezt a függvényt n=1,2,3,...16 értékekkel, és az eredményeket gyűjtsük egy adatsorba, amit a-val jelölünk. Mit veszünk észre?\n",
    "- Ábrázoljuk az eredmények logaritmusát n függvényében! Mit tapasztalunk?\n",
    "- Rajzoljuk az ábrára a $\\left(\\frac{\\sqrt{5}+1}{2}\\right)^n$ logaritmusát is!"
   ]
  },
  {
   "cell_type": "markdown",
   "metadata": {},
   "source": [
    "## Feladat 5 (2 pont)\n",
    "\n",
    "Írj egy-egy függvényt, amik véletlenszerűen generálnak 5-ös és 6-os lottó számokat!\n",
    "\n",
    "- A függvény opcionálisan fogadjon el egy 'seed' argumentumot, ami a véletlen szám generátort inicializálja. Ha ugyanazt a seed-et adjuk meg a függvénynek, akkor mindig ugyanazokat a lottószámokat adja vissza!\n",
    "- Példaként futtasd és ellenőrizd le a megoldásodat! Ellenőrizd a seed argumentum működését is!\n",
    "- Legyenek a húzott számok eleve növekvő sorrendben!\n",
    "- Futtasd le mindkét függvényt 100 000-szer, minden esetnél kiszámolva a legkisebb két húzott szám különbségét!\n",
    "- A különbségek eloszlásáról készíts hisztogramot!"
   ]
  },
  {
   "cell_type": "markdown",
   "metadata": {},
   "source": [
    "## Feladat 6 (2 pont)\n",
    "\n",
    "A fizikában gyakran kell egy kétváltozós függvényt minimum,maximum vagy\n",
    "nyeregpont közelében leírni. Ilyen pont körül a függvények\n",
    "$ a x^2 + b x y + c y^2 $  alakban közelíthetők.\n",
    "\n",
    "- Hozzunk létre egy poli2 osztályt, aminek elemei ilyen polinomok!\n",
    "- Egy polinom létrehozásakor meg kelljen adni a három együtthatót.\n",
    "- Attribútumként lehessen lekérdezni az együtthatókat.\n",
    "- Legyen egy osztálymetódus, ami a polinomot x irányban széthúzza, azaz\n",
    "$a\\rightarrow a/4, b\\rightarrow b/2$ transzformációt végez!\n",
    "- Legyen egy osztálymetódus, ami kiszámolja az $a+c$ és $ac-b^2/4$ értékeket,ugyanis ha mindkettő pozitív, akkor a polinom minimumot ír le.\n",
    "- Legyen egy osztálymetódus, ami a polinomot kétváltozós függvényként\n",
    "ábrázolja a $ -1 \\le x \\le 1, -1 \\le y \\le 1 $ tartományban!\n",
    "- Két polinom + jellel való összeadásakor adódjanak össze az együtthatók.\n",
    "- A beadott notebokkban példákon keresztül mutasd be hogy az osztálymetódusok a specifikációnak megfelelően működnek! Próbáljuk ki ezeket például a $8x^2+4xy+2y^2$ és $2x^2-8xy+2y^2$ polinomokon!\n"
   ]
  }
 ],
 "metadata": {
  "kernelspec": {
   "display_name": "Python 3",
   "language": "python",
   "name": "python3"
  },
  "language_info": {
   "codemirror_mode": {
    "name": "ipython",
    "version": 3
   },
   "file_extension": ".py",
   "mimetype": "text/x-python",
   "name": "python",
   "nbconvert_exporter": "python",
   "pygments_lexer": "ipython3",
   "version": "3.7.3"
  }
 },
 "nbformat": 4,
 "nbformat_minor": 4
}
