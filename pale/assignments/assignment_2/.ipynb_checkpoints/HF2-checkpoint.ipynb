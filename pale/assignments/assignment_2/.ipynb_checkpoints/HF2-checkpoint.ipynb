{
 "cells": [
  {
   "cell_type": "markdown",
   "metadata": {},
   "source": [
    "# HF 2 (15 pont)\n",
    "\n",
    "- Minden feladatot a feladatszámnak megfelelő számú megoldásnotebookban oldj meg. Például első feladatot az 01_feladat.ipynb notebookban.\n",
    "- A megoldás tartalmazza a megoldandó feladat szövegét a megoldásnotebook első markdown cellájában!\n",
    "- **Kommentekkel**, illetve **markdown cellákkal** magyarázd, hogy éppen mit csinál az adott kódrészlet!\n",
    "- Magyarázat nélkül a beküldött feladatok csak fél feladatnak számítanak!\n",
    "- Az elkészített ábrák minden esetben rendelkezzenek ábrafeliratokkal (cím, tengelyfeliratok és  −  amennyiben indokolt  −  jelmagyarázat)! Amennyiben a beadott ábrákon nincsenek feliratok, az adott feladat automatikusan csak fél feladatnak számít!\n",
    "- A beadott notebookok Kernel -> Restart&Run All hatására a beadott formát reprodukálják! \n",
    "- A Feladatok megadott pontszámán túl a beadott feladatok külalakjáért összesen 3 pont-ot lehet szerezni!\n",
    "---\n"
   ]
  },
  {
   "cell_type": "markdown",
   "metadata": {},
   "source": [
    "# Feladat 1 (2 pont)\n",
    "\n",
    "- Írj egy függvényt, amelynek a neve `hany_sajatertek`. A függvényednek egy bemenő paramétere legyen, ami egy kétindexes `numpy` `array`, amely egy szimmetrikus valós mátrixot reprezentál. \n",
    "- A függvényed visszatérési értéke egy olyan `list` típusú változó legyen, amely számpárokat tartalmaz. (Tehát a lista minden eleme egy kételemű lista.) Minden számpáros első tagja a bemenő mátrix egyik sajátértéke, a második tagja pedig az adott sajátértékhez tartozó multiplicitás (hányszorosan degenerált az adott sajátérték) legyen. Például, ha az alábbi `array`-t vesszük \n",
    "\n",
    ">```python\n",
    ">A=array([[1,0,0,0],\n",
    ">          [0,0,1,0],\n",
    ">          [0,1,0,0],\n",
    ">          [0,0,0,2]])\n",
    ">```\n",
    "\n",
    "akkor a függvény az alábbi visszatérési értéket adja:\n",
    "\n",
    ">```python\n",
    ">hany_sajatertek(A)\n",
    ">> [[-1.0,1],[1.0,2],[2.0,1]]\n",
    ">\n",
    ">```\n",
    "\n",
    "- A rutin a sajátértékek meghatározásához a `numpy` által kínált [`eigvalsh`](https://docs.scipy.org/doc/numpy/reference/generated/numpy.linalg.eigvalsh.html) függvényt használja, amely a sajátértékek sorbarendezett meghatározását teszi lehetővé szimmetrikus és Hermitikus mátrixok esetén!\n",
    "- **Figyelem:** valós számokat akkor tekintünk numerikusan egyenlőnek, ha egy előre meghatározott kicsi $\\varepsilon$ számnál kisebb a különbségük abszolútértéke! Vegyük ebben a feladatban $\\varepsilon$ értékét $10^{-10}$-nek!\n",
    "\n",
    "- Határozd meg az alábbi gráf [szomszédsági mátrixát](https://hu.wikipedia.org/wiki/Szomsz%C3%A9ds%C3%A1gi_m%C3%A1trix):\n",
    "\n",
    "![](https://upload.wikimedia.org/wikipedia/commons/thumb/0/05/Paley13.svg/495px-Paley13.svg.png)\n",
    "\n",
    "- A szomszédsági mátrix felépítésében segítségedre lehet a numpy néhány `array`-ek [létrehozására](https://docs.scipy.org/doc/numpy/reference/routines.array-creation.html) és [manipulálására](https://docs.scipy.org/doc/numpy/reference/routines.array-manipulation.html) kitalált rutinja.\n",
    "- A `hany_sajatertek` függvény segítségével bizonyítsd be numerikus számítással, hogy a szomszédsági mátrixnak 3 különböző sajátértéke van! \n",
    "- A `hany_sajatertek` függvény kimenetét diszkutáld! Saját szavaiddal írd le, hogy a vizsgált gráf szomszédsági mátrixának sajátértékei hányszorosan degeneráltak!"
   ]
  },
  {
   "cell_type": "markdown",
   "metadata": {},
   "source": [
    "# Feladat 2 (2 pont)\n",
    "\n",
    "- Hozz létre egy függvényt, amely véletlen elemekből álló, de **szimmetrikus** mátrixok sajátértékeit számítja ki!\n",
    "- Legyen a függvény neve `veletlen_sajatertekek`. A függvény két bemenő paraméterrel rendelkezzen. \n",
    "  - Az első paraméter neve `dim`, ami egy egész szám, mely a generálandó véletlen mátrixok méretét állítja be. \n",
    "  - A második paraméter neve `eloszlas`, ami azt határozza meg, hogy a generált véletlen számok milyen eloszlás szerint legyenek létrehozva. Ha az `eloszlas` változó értéke a `\"normal\"` string, akkor a véletlen számok normális eloszlás szerint legyenek generálva a [`randn`](https://docs.scipy.org/doc/numpy-1.15.1/reference/generated/numpy.random.randn.html) `numpy` függvény segítségével. Egyéb esetekben a [0,1] intervallumon vett egyenletes eloszlás szerint generáljuk őket a [`rand`](https://docs.scipy.org/doc/numpy-1.15.1/reference/generated/numpy.random.rand.html#numpy.random.rand) függvénnyel. \n",
    "  - Figyeljünk rá, hogy minden esetben a diagonális és az off-diagonális elemek is ugyanabból az eloszlásból származzanak!\n",
    "- A `veletlen_sajatertekek` függvény visszatérési értéke legyen egy numpy `array`, amely a generált mátrix sajátértékeit tartalmazza.  A sajátértékek meghatározására itt is használhatjuk a `numpy` [`eigvalsh`](https://docs.scipy.org/doc/numpy/reference/generated/numpy.linalg.eigvalsh.html) függvényét.\n",
    "- A `veletlen_sajatertekek` függvény segítségével állítsuk elő 50000 db. normális-, illetve 50000 db. egyenletes eloszlású véletlen 10x10-es mátrix sajátértékeit. \n",
    "- Ábrázoljuk a két eloszlással generált sajátértékek eloszlását (mindkét esetben tehát 50000 x 10 szám eloszlását) két hisztogramon. A hisztogram legalább 500 binből álljon! \n",
    "- A saját szavaiddal fogalmazd meg, milyen különbségeket, illetve hasonlóságokat figyelhetünk meg a két véletlen mátrix család sajátértékeire vonatkozóan a hisztogramok alapján!"
   ]
  },
  {
   "cell_type": "markdown",
   "metadata": {},
   "source": [
    "# Feladat 3 (2 pont)\n",
    "\n",
    "- Hozz létre egy  `make_ham` függvényt, amely három bemenő paraméterrel rendelkezik. Az első két paraméter `v` és `w` valós számok, a harmadik paraméter `dim` egy egész szám. \n",
    "- A függvény térjen vissza egy `scipy` által támogatott CSC formátumú ritka $H$ mátrix-szal. A $H$ mátrix az alábbi struktúrával rendelkezzen: \n",
    "\n",
    "$$H=\\left(\\begin{array}{cc}\n",
    "0 & \\Gamma\\\\\n",
    "\\Gamma^{\\top} & 0\n",
    "\\end{array}\\right) $$ \n",
    "\n",
    "Ahol $\\Gamma$ egy `dim` X `dim` méretű mátrix, $\\Gamma^{\\top}$ a $\\Gamma$ mátrix transzponáltja. $\\Gamma$ struktúrája pedig így néz ki\n",
    "\n",
    "$$\\Gamma=\\left(\\begin{array}{cccc}\n",
    "v\\\\\n",
    "w & v\\\\\n",
    " & w & \\ddots\\\\\n",
    " &  & \\ddots & \\ddots\n",
    "\\end{array}\\right) $$\n",
    "azaz a diagonális elemei `v`-k, az első alsó mellékátló elemei pedig `w`-k.\n",
    "- Ügyelj rá, hogy a `make_ham` függvényen belül ritka mátrixokkal és a rájuk vonatkozó ritkamátrix építő [rutinokkal](https://docs.scipy.org/doc/scipy/reference/sparse.html) hozd létre a megfelelő objektumokat. Semmiképp se hozzunk létre a $\\Gamma$-t reprezentáló sűrű mátrixot (például `numpy` `array` vagy `numpy` `matrix` típusú) objektumot!\n",
    "- A létrehozott `make_ham` függvény segítségével, használva a `scipy.sparse.linalg` modul `eigsh` függvényét, határozzuk meg a $H$ mátrix 12 darab, 0-hoz legközelebbi sajátértékének `w`-függését `v=1` illetve `dim=3000` esetben. A `w` értékeit a [0.99,1.01] intervallumban változtassuk, és legalább 100 pontban értékeljük ki!\n",
    "- A sajátértékek `w`-függéséről készítsünk ábrát a `matplotlib` [`scatter`](https://matplotlib.org/3.2.0/api/_as_gen/matplotlib.pyplot.scatter.html) függvényével!\n",
    "- Saját szavaiddal fogalmazd meg, hogy miben különbözik a mátrix spektruma `w<1` illetve `w>1` esetben. "
   ]
  },
  {
   "cell_type": "markdown",
   "metadata": {},
   "source": [
    "# Feladat 4 (2 pont)\n",
    "\n",
    "A [Gegenbauer-polinomok](https://en.wikipedia.org/wiki/Gegenbauer_polynomials) az alábbi rekurziós reláció által definiált polinomok:\n",
    "\n",
    "\\begin{aligned}C_{0}^{\\alpha }(x)&=1\\\\C_{1}^{\\alpha }(x)&=2\\alpha x\\\\C_{n}^{\\alpha }(x)&={\\frac  {1}{n}}[2x(n+\\alpha -1)C_{{n-1}}^{\\alpha }(x)-(n+2\\alpha -2)C_{{n-2}}^{\\alpha }(x)].\\end{aligned}\n",
    "\n",
    "- Hozz létre egy `geg` nevű függvényt, aminek három paramétere van: `x`, `n` és `alpha`. Kimeneti értéke pedig a fent definiált Gegenbauer-polinom $C_n^{(\\alpha)}(x)$ értéke. \n",
    "- Hozz létre egy `F` nevű függvényt, aminek négy bemenő paramétere van: `y`, `n`, `m` és `alpha`. Kimeneti értéke pedig az alább definiált integrál numerikusan kiértékelve:\n",
    "$$F^{(\\alpha)}_{n,m}(y)=\\int _{{-1}}^{y}C_{n}^{{(\\alpha )}}(x)C_{m}^{{(\\alpha )}}(x)\\left (1-x^{2}\\right )^{{\\alpha -{\\frac  {1}{2}}}}\\,dx$$\n",
    "- A numerikus integrál elvégzéséhez használd a `scipy` csomag [`quad`](https://docs.scipy.org/doc/scipy/reference/generated/scipy.integrate.quad.html) függvényét!\n",
    "- Készíts két ábrát, amelyen a fent definiált `F` kiértékelését ábrázolod `y` függvényében az $y\\in[-1,1]$ intervallumon. \n",
    "- Az első ábrán három görbe szerepeljen, $F_{1,1}^{(1)}(y)$,$F_{1,2}^{(1)}(y)$ valamint $F_{1,3}^{(1)}(y)$.\n",
    "- Az második ábrán is három görbe szerepeljen, $F_{2,1}^{(2)}(y)$,$F_{2,2}^{(2)}(y)$ valamint $F_{2,3}^{(2)}(y)$.\n",
    "- A saját szavaiddal diszkutáld az ábrák alapján, hogy  $F_{n,m}^{(\\alpha)}(1)$ értéke milyen $n$ és $m$ esetén különbözik nullától!\n",
    "\n"
   ]
  },
  {
   "cell_type": "markdown",
   "metadata": {},
   "source": [
    "# Feladat 5 (2 pont)\n",
    "\n",
    "- Vizsgáljuk a [csillapított harmonikus oszcillátor](https://en.wikipedia.org/wiki/Harmonic_oscillator#Damped_harmonic_oscillator) mozgását! A megoldandó differenciálegyenlet:\n",
    "$$ \\frac{\\mathrm{d}^2x}{\\mathrm{d}t^2}=-2\\beta\\omega_0\\frac{\\mathrm{d}x(t)}{\\mathrm{d}t}-\\omega_0^2 x(t) $$\n",
    "aminek zárt alakban létezik analitikus megoldása:\n",
    "$$ x_{\\mathrm{exact}}(t)=\\mathrm{e}^{-\\beta t} \\left [\\frac{v_0 + \\beta x_0}{\\omega}\\sin(\\omega t)+x_0\\cos(\\omega t) \\right ] $$\n",
    "ahol \n",
    "$$ \\omega=\\sqrt{\\omega_0^2-\\beta^2},$$ továbbá $x_0$ az oszcillátor kezdőpozíciója, $v_0$ pedig a kezdősebesség.\n",
    "\n",
    "- Oldd meg a differenciálegyenletet a `scipy` modul [`odeint`](https://docs.scipy.org/doc/scipy/reference/generated/scipy.integrate.odeint.html#scipy.integrate.odeint) függvénye segítségével, $\\omega_0=1$ érték mellett, enyhén csillapított $\\beta<1$ és túlcsillapított $\\beta>1$ esetre $x_0=0$ és $v_0=1$ kezdőfeltételek esetén a $t\\in[0,20]$ időintervallumon! **Figyelem:** ahogy azt a [mintapéldában](http://oroszl.web.elte.hu/fiznum1/static_notebooks/Package06/mintapelda06.html) is láttuk, először a másodrendű differenciálegyenletet át kell írni **két** elsőrendűre! \n",
    "- Készíts két ábrát a két esetről, például $\\beta=0.9$ és $\\beta=1.1$, amin a numerikus és az analitikus megoldásokat összehasonlítod! \n",
    "- Saját szavaiddal fogalmazd meg, hogy milyen az analitikus és a numerikus eredmények viszonya!\n"
   ]
  },
  {
   "cell_type": "markdown",
   "metadata": {},
   "source": [
    "# Feladat 6 (2 pont)\n",
    "Vizsgáljuk az ábrán vázolt mechanikai rendszert!\n",
    "\n",
    "![](https://www.physicsforums.com/attachments/photo-18-05-16-20-02-37-jpeg.100931/)\n",
    "\n",
    "A [Lagrange-féle](https://www.amazon.com/Mechanics-Course-Theoretical-Physics-Landau/dp/0750628960) mechanika elveit követve az $m_2$ tömeggel rendelkező test $x(t)$ időbeli kitérése, valamint az inga szögének időbeli változása, $\\varphi(t)$, az alábbi csatolt differenciálegyenlet-rendszert elégíti ki:\n",
    "\n",
    "$$ \\frac{\\mathrm{d^2}x}{\\mathrm{d}t^2}= -\\frac{g  m_1 \\sin (\\varphi ) \\cos (\\varphi )-k x+l  m_1 \\dot{\\varphi}^2 \\sin (\\varphi )}{m_1 \\cos ^2(\\varphi )-m_1-m_2}$$\n",
    "\n",
    "$$\\frac{\\mathrm{d}^2\\varphi}{\\mathrm{d}t^2} = -\\frac{-g  m_1 \\sin (\\varphi )-g m_2 \\sin (\\varphi )+k x \\cos (\\varphi )-l m_1 \\dot{\\varphi}^2 \\sin (\\varphi ) \\cos (\\varphi )}{l \\left(m_1 \\cos ^2(\\varphi )-m_1-m_2\\right)} $$\n",
    "\n",
    "ahol alkalmaztuk a $\\dot{\\varphi}=\\frac{\\mathrm{d}\\varphi}{\\mathrm{d}t}$ szokásos rövidítést.\n",
    "\n",
    "- Írj egy növekmény-függvényt, melynek neve `spring_pend`, ami a fenti differenciálegyenlet-rendszer növekményét reprezentálja! **Figyelem:** ahogy azt a [mintapéldában](http://oroszl.web.elte.hu/fiznum1/static_notebooks/Package06/mintapelda06.html) is láttuk, először a két másodrendű differenciálegyenletet át kell írni **négy** elsőrendűre! \n",
    "- A növekmény-függvény $g=1,m_1=1,m_2=1,l=1,k=1$ rögzített paraméterekkel számoljon.\n",
    "- A `scipy` modul [`odeint`](https://docs.scipy.org/doc/scipy/reference/generated/scipy.integrate.odeint.html#scipy.integrate.odeint) függvénye segítségével oldd meg a differenciálegyenlet-rendszert a \n",
    "  $x(0)=0,\\varphi(0)=0,\\dot{x}(0)=0,\\dot{\\varphi}(0)=1$ kezdőfeltételek mellett, a $t\\in[0,20]$ intervallumon vett 300 időpontban. \n",
    "- Ábrázold egy grafikonon az $x(t)$ és a $\\varphi(t)$ függvényeket.\n",
    "- Az `ipywidgets` segítségével hozz létre egy interaktív ábrát, mely az x-y síkon ábrázolja a két tömegpont mozgását! Egy csúszka segítségével lehessen lépkedni a különböző időpontok között!  \n",
    "  Segítségül, $x(t)$ és $\\varphi(t)$ függvények ismeretében a két pont $\\mathbf{r}_1(t)$,$\\mathbf{r}_2(t)$ koordinátája, az ábra alapján, az alábbiak szerint fejezhető ki:\n",
    "$$ \\mathbf{r}_1(t) = \\left(\\begin{array}{c}\n",
    "x(t)+l\\sin(\\varphi(t)) \\\\\n",
    "-l\\cos(\\varphi(t)) \n",
    "\\end{array}\\right),\\quad  \\mathbf{r}_2(t) = \\left(\\begin{array}{c}\n",
    "x(t) \\\\\n",
    "0 \n",
    "\\end{array}\\right)  $$\n"
   ]
  }
 ],
 "metadata": {
  "kernelspec": {
   "display_name": "Python 3",
   "language": "python",
   "name": "python3"
  },
  "language_info": {
   "codemirror_mode": {
    "name": "ipython",
    "version": 3
   },
   "file_extension": ".py",
   "mimetype": "text/x-python",
   "name": "python",
   "nbconvert_exporter": "python",
   "pygments_lexer": "ipython3",
   "version": "3.8.5"
  }
 },
 "nbformat": 4,
 "nbformat_minor": 4
}
