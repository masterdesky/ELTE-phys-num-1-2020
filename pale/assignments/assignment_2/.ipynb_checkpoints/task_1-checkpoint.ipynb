{
 "cells": [
  {
   "cell_type": "markdown",
   "metadata": {},
   "source": [
    "# Task 1.: Eigenvalues -- Basics\n",
    "\n",
    "## Task description\n",
    "\n",
    "- Create a function called `count_eigvals`. The function should have only one argument, which represents a symmetric real matrix as a 2D NumPy `array`. \n",
    "- The return parameter of the function should be a `list` type variable, which has pair of numbers as its elements. (Every element of the list should be a list of two values.) The first element of every pair of numbers should be an eigenvalue of the input matrix while the second one should be the multiplicity of this eigenvalue (which is the number of times an element appearing the the multiset of eigenvalues). If the input `array` is the following: \n",
    "\n",
    ">```python\n",
    ">A=array([[1,0,0,0],\n",
    ">          [0,0,1,0],\n",
    ">          [0,1,0,0],\n",
    ">          [0,0,0,2]])\n",
    ">```\n",
    "\n",
    "the the function should return the following `list`:\n",
    "\n",
    ">```python\n",
    ">count_eigvals(A)\n",
    ">> [[-1.0,1],[1.0,2],[2.0,1]]\n",
    ">\n",
    ">```\n",
    "\n",
    "- The routine should use Numpy's [`eigvalsh`](https://docs.scipy.org/doc/numpy/reference/generated/numpy.linalg.eigvalsh.html) function, which could be used to find all eigenvalues of a symmetric or Hermitian matrix. (The `sh` at the end of the name of the `eigvalsh` function refers to these two cases.)\n",
    "- **Attention:** real numbers are considered to be numerically identical, when their distance (absolute value of their difference) are smaller, than a chosen, small $\\varepsilon$ number! Here let us take this value as $\\varepsilon = 10^{-10}$! (Note: I've set the default value of this threshold to the machine epsilon of Python's float type values.)\n",
    "\n",
    "- Determine the [adjacency matrix](https://en.wikipedia.org/wiki/Adjacency_matrix) of the graph below :\n",
    "\n",
    "![](../../_img/Paley13.svg)\n",
    "\n",
    "- There are a lot of useful tools which could help you in building the adjacency matrix, like NumPy's built-in routines for `array` [creation](https://docs.scipy.org/doc/numpy/reference/routines.array-creation.html) or [manipulation](https://docs.scipy.org/doc/numpy/reference/routines.array-manipulation.html).\n",
    "- Using the `count_eigvals` function, prove by numerical calculation that the adjacency matrix has 3 different eigenvalues!\n",
    "- Discuss the output of the `count_eigvals` function! Describe in your own words how many times the eigenvalues of the adjacency matrix of the examined graph are degenerate!\n",
    "\n",
    "## Theoretical background\n",
    "\n",
    "### Eigenvalues and multiplicity\n",
    "\n",
    "We speak about eigenvectors and eigenvalues in the context of linear transformations. An eigenvector $\\boldsymbol{\\mathrm{v}}$ of a linear transformation $T$ is a vector, which changes only by a scalar factor, when that linear transformation applied to it. The factor by which the eigenvector is scaled is called as the eigenvalue $\\lambda$ of an eigenvector. Formally $\\boldsymbol{\\mathrm{v}}$ is an eigenvector of the linear transformation $T$, if $T \\left( \\boldsymbol{\\mathrm{v}} \\right)$ is a scalar multiple of $\\boldsymbol{\\mathrm{v}}$:\n",
    "\n",
    "$$\n",
    "T \\left( \\boldsymbol{\\mathrm{v}} \\right)\n",
    "=\n",
    "\\lambda \\boldsymbol{\\mathrm{v}}.\n",
    "$$\n",
    "\n",
    "In simpler terms we can rephrase the statements above to define eigenvectors and eigenvalues of simple matrices. In this case the same equation could be written as\n",
    "\n",
    "$$\n",
    "\\underline{\\underline{\\boldsymbol{\\mathrm{A}}}} \\boldsymbol{\\mathrm{v}}\n",
    "=\n",
    "\\lambda \\boldsymbol{\\mathrm{v}}\n",
    "$$\n",
    "\n",
    "or in similar terms as\n",
    "\n",
    "$$\n",
    "\\left(A - \\lambda I \\right) \\boldsymbol{\\mathrm{v}}\n",
    "=\n",
    "0\n",
    "$$\n",
    "\n",
    "where $\\underline{\\underline{\\boldsymbol{\\mathrm{A}}}}$ is a non-singular matrix. In practice a latter form is used to calculate the eigenvectors and eigenvalues by solving this system of equations.\n",
    "\n",
    "### Adjacency matrix of a Paley graph\n",
    "\n",
    "The graph shown above is a so called Paley graph of order 13. Generally, a Paley graph $P \\left( q \\right)$ with $q$ a prime power, is a graph over $q$ nodes, where two nodes are adjacent, if their difference is a square in the finite field (or Galois field) $\\mathbb{F}_{q} \\equiv \\mathrm{GF} \\left( q \\right)$, or as given in [1]:\n",
    "\n",
    "$$\n",
    "E = \\left\\{ \\left\\{ u, v \\right\\} : u - v \\in \\left( \\mathbb{F}_{q}^{\\times} \\right)^{2} \\right\\}\n",
    "$$\n",
    "\n",
    "In this definition the trivial $0$ solution are purposely left out. The graph is undirected if and only if $q \\equiv 1 \\left( \\operatorname{mod} 4 \\right)$ (which are prime powers of the form $4n + 1$, so $q = 5, 9, 13, \\dots$ as given in the OEIS [A085759](https://oeis.org/A085759)) [2]. I only discuss these undirected cases in this task.\n",
    "\n",
    "The set of edges could be given eg, in a form of an adjacency matrix, which is actually our task to give this matrix in this assignment. Fortunaltely if $q \\equiv 1 \\left( \\operatorname{mod} 4 \\right)$ then the $P \\left( q \\right)$ Paley graph has an adjacency matrix given in [4], as\n",
    "\n",
    "$$\n",
    "A\n",
    "=\n",
    "\\frac{1}{2} \\left( Q - I + J \\right)\n",
    "$$\n",
    "\n",
    "where $J$ is the matrix of order $q$ with all entries equal to $1$, $I$ is the identity matrix of order $q$, and matrix $Q$ is the Jacobsthal matrix of the Galois field $\\mathrm{GF} \\left( q \\right)$, which is symmetric with\n",
    "\n",
    "$$\n",
    "QJ\n",
    "=\n",
    "JQ\n",
    "=\n",
    "0\n",
    "\\quad\\quad\n",
    "\\text{and}\n",
    "\\quad\\quad\n",
    "QQ^{T}\n",
    "=\n",
    "qI - J.\n",
    "$$\n",
    "\n",
    "Let us index the rows and columns of a $Q$ Jacobsthal matrix for the Galois field $\\mathrm{GF} \\left( q \\right)$ with the $\\left( u, v \\right)$ ordered pairs. Using this notation every entry in the $Q$ matrix could be given as $\\chi \\left( u - v \\right)$, where $\\chi$ is the quadratic residue character of the field $\\mathrm{GF} \\left( q \\right)$ defined by\n",
    "\n",
    "$$\n",
    "\\chi \\left( x \\right)\n",
    "=\n",
    "\\begin{cases}\n",
    "0  & \\text{if } x = 0 \\\\\n",
    "1  & \\text{if } x \\in S \\\\\n",
    "-1 & \\text{otherwise},\n",
    "\\end{cases}\n",
    "$$\n",
    "\n",
    "where $S$ is the set of non-zero quadratic residues in the field $\\mathrm{GF} \\left( q \\right)$.\n",
    "\n",
    "### Sources\n",
    "[1] : https://en.wikipedia.org/wiki/Paley_graph  \n",
    "[2] : https://mathworld.wolfram.com/PaleyGraph.html  \n",
    "[3] : https://en.wikipedia.org/wiki/Paley_construction  \n",
    "[4] : Jones, Gareth A. \"Paley and the Paley graphs.\" International workshop on Isomorphisms, Symmetry and Computations in Algebraic Graph Theory. Springer, Cham, 2016. URL: https://arxiv.org/abs/1702.00285"
   ]
  },
  {
   "cell_type": "markdown",
   "metadata": {},
   "source": [
    "## Solving the task"
   ]
  },
  {
   "cell_type": "code",
   "execution_count": 1,
   "metadata": {},
   "outputs": [],
   "source": [
    "import numpy as np"
   ]
  },
  {
   "cell_type": "markdown",
   "metadata": {},
   "source": [
    "### Eigenvalues and multiplicity"
   ]
  },
  {
   "cell_type": "code",
   "execution_count": 2,
   "metadata": {},
   "outputs": [],
   "source": [
    "def count_eigvals(A, eps=np.finfo(float).eps):\n",
    "    \n",
    "    assert np.linalg.det(A) != 0, \"Input matrix is singular!\"\n",
    "    \n",
    "    # Calculate eigenvalues with numpy\n",
    "    # eig_A is a multiset of eigenvalues in ascending order\n",
    "    eig_A = np.linalg.eigvalsh(A, UPLO='L')\n",
    "    \n",
    "    # Create a list for eigenvalues and their multiplicity\n",
    "    eig_vals = []\n",
    "    \n",
    "    # Loop through all entries of the multiset of eigenvalues\n",
    "    #   eig_i : element of the multiset, which means this\n",
    "    #           value could occur in multiple cycles of the `for` loop\n",
    "    for eig_i in eig_A:\n",
    "\n",
    "        # Indicator whether if the current `eig_i` is aleady added to\n",
    "        # the `eig_vals` list, or not\n",
    "        found = False\n",
    "        \n",
    "        # Loop through all elements in the (eigenvalues, multiplicity) and check\n",
    "        # whether if the current `eig_i` eigenvalue does already occur in it?\n",
    "        for idx, eig in enumerate(eig_vals):\n",
    "            # If the current `eig_i` and an already included value coincides in\n",
    "            # the `eig_vals` list, then increase its multiplicity\n",
    "            if abs(eig[0] - eig_i) < eps:\n",
    "                eig_vals[idx][1] +=1\n",
    "                found = True\n",
    "                break\n",
    "\n",
    "        # If the current `eig_i` value does not yet added to the `eig_vals` list,\n",
    "        # then add it now with its multiplicity set to `1`.\n",
    "        if not found:\n",
    "            eig_vals.append([eig_i, 1])\n",
    "    \n",
    "    return eig_vals"
   ]
  },
  {
   "cell_type": "code",
   "execution_count": 3,
   "metadata": {},
   "outputs": [],
   "source": [
    "A = np.array([\n",
    "    [1, 0, 0, 0],\n",
    "    [0, 0, 1, 0],\n",
    "    [0, 1, 0, 0],\n",
    "    [0, 0, 0, 2]\n",
    "])"
   ]
  },
  {
   "cell_type": "code",
   "execution_count": 4,
   "metadata": {},
   "outputs": [],
   "source": [
    "eig_A = count_eigvals(A)"
   ]
  },
  {
   "cell_type": "code",
   "execution_count": 5,
   "metadata": {},
   "outputs": [
    {
     "name": "stdout",
     "output_type": "stream",
     "text": [
      "List of eigenvalues and their multiplicity:\n",
      "eig_1 = -1.0\tMultiplicity : 1\n",
      "eig_2 = 1.0\tMultiplicity : 2\n",
      "eig_3 = 2.0\tMultiplicity : 1\n"
     ]
    }
   ],
   "source": [
    "print('List of eigenvalues and their multiplicity:')\n",
    "for idx, eig in enumerate(eig_A):\n",
    "    print('eig_{0} = {1}\\tMultiplicity : {2}'.format(idx+1, eig[0], eig[1]))"
   ]
  },
  {
   "cell_type": "markdown",
   "metadata": {},
   "source": [
    "### Adjacency matrix of a Paley graph"
   ]
  },
  {
   "cell_type": "code",
   "execution_count": 6,
   "metadata": {},
   "outputs": [],
   "source": [
    "def quad_res_char(S, u, v):\n",
    "    \"\"\"\n",
    "    Quadratic residue character of the Galois field GF(q).\n",
    "    \"\"\"\n",
    "    \n",
    "    d = u - v\n",
    "    \n",
    "    if d == 0:\n",
    "        return 0\n",
    "    elif abs(d) in S:\n",
    "        return 1\n",
    "    else:\n",
    "        return -1"
   ]
  },
  {
   "cell_type": "code",
   "execution_count": 7,
   "metadata": {},
   "outputs": [],
   "source": [
    "def Jacobsthal(q):\n",
    "    \n",
    "    # Set of (non-zero) quadratic residues in the Galois field GF(q)\n",
    "    S = {i*i%q for i in range(1, q)}\n",
    "    \n",
    "    Q = np.zeros((q, q))\n",
    "    for u in range(q):\n",
    "        for v in range(q):\n",
    "            Q[u][v] = quad_res_char(S, u, v)\n",
    "    \n",
    "    return Q"
   ]
  },
  {
   "cell_type": "code",
   "execution_count": 8,
   "metadata": {},
   "outputs": [],
   "source": [
    "def paley_adjacency(q=13):\n",
    "    \n",
    "    assert q%4 == 1, \"Order should be 1 (mod 4)!\"\n",
    "    \n",
    "    I = np.identity(q)   # Identity matrix of order `q`\n",
    "    J = np.ones_like(I)  # All-1 matrix of order `q`\n",
    "    Q = Jacobsthal(q)    # Jacobsthal's matrix of the Galois field GF(q)\n",
    "    \n",
    "    return 1/2 * (Q - I + J)"
   ]
  },
  {
   "cell_type": "code",
   "execution_count": 9,
   "metadata": {},
   "outputs": [],
   "source": [
    "q = 13\n",
    "I = np.identity(q)   # Identity matrix of order `q`\n",
    "J = np.ones_like(I)  # All-1 matrix of order `q`\n",
    "Q = Jacobsthal(q)    # Jacobsthal's matrix of the Galois field GF(q)"
   ]
  },
  {
   "cell_type": "code",
   "execution_count": 10,
   "metadata": {},
   "outputs": [
    {
     "data": {
      "text/plain": [
       "array([[1., 0., 0., 0., 0., 0., 0., 0., 0., 0., 0., 0., 0.],\n",
       "       [0., 1., 0., 0., 0., 0., 0., 0., 0., 0., 0., 0., 0.],\n",
       "       [0., 0., 1., 0., 0., 0., 0., 0., 0., 0., 0., 0., 0.],\n",
       "       [0., 0., 0., 1., 0., 0., 0., 0., 0., 0., 0., 0., 0.],\n",
       "       [0., 0., 0., 0., 1., 0., 0., 0., 0., 0., 0., 0., 0.],\n",
       "       [0., 0., 0., 0., 0., 1., 0., 0., 0., 0., 0., 0., 0.],\n",
       "       [0., 0., 0., 0., 0., 0., 1., 0., 0., 0., 0., 0., 0.],\n",
       "       [0., 0., 0., 0., 0., 0., 0., 1., 0., 0., 0., 0., 0.],\n",
       "       [0., 0., 0., 0., 0., 0., 0., 0., 1., 0., 0., 0., 0.],\n",
       "       [0., 0., 0., 0., 0., 0., 0., 0., 0., 1., 0., 0., 0.],\n",
       "       [0., 0., 0., 0., 0., 0., 0., 0., 0., 0., 1., 0., 0.],\n",
       "       [0., 0., 0., 0., 0., 0., 0., 0., 0., 0., 0., 1., 0.],\n",
       "       [0., 0., 0., 0., 0., 0., 0., 0., 0., 0., 0., 0., 1.]])"
      ]
     },
     "execution_count": 10,
     "metadata": {},
     "output_type": "execute_result"
    }
   ],
   "source": [
    "I"
   ]
  },
  {
   "cell_type": "code",
   "execution_count": 11,
   "metadata": {},
   "outputs": [
    {
     "data": {
      "text/plain": [
       "array([[1., 1., 1., 1., 1., 1., 1., 1., 1., 1., 1., 1., 1.],\n",
       "       [1., 1., 1., 1., 1., 1., 1., 1., 1., 1., 1., 1., 1.],\n",
       "       [1., 1., 1., 1., 1., 1., 1., 1., 1., 1., 1., 1., 1.],\n",
       "       [1., 1., 1., 1., 1., 1., 1., 1., 1., 1., 1., 1., 1.],\n",
       "       [1., 1., 1., 1., 1., 1., 1., 1., 1., 1., 1., 1., 1.],\n",
       "       [1., 1., 1., 1., 1., 1., 1., 1., 1., 1., 1., 1., 1.],\n",
       "       [1., 1., 1., 1., 1., 1., 1., 1., 1., 1., 1., 1., 1.],\n",
       "       [1., 1., 1., 1., 1., 1., 1., 1., 1., 1., 1., 1., 1.],\n",
       "       [1., 1., 1., 1., 1., 1., 1., 1., 1., 1., 1., 1., 1.],\n",
       "       [1., 1., 1., 1., 1., 1., 1., 1., 1., 1., 1., 1., 1.],\n",
       "       [1., 1., 1., 1., 1., 1., 1., 1., 1., 1., 1., 1., 1.],\n",
       "       [1., 1., 1., 1., 1., 1., 1., 1., 1., 1., 1., 1., 1.],\n",
       "       [1., 1., 1., 1., 1., 1., 1., 1., 1., 1., 1., 1., 1.]])"
      ]
     },
     "execution_count": 11,
     "metadata": {},
     "output_type": "execute_result"
    }
   ],
   "source": [
    "J"
   ]
  },
  {
   "cell_type": "code",
   "execution_count": 12,
   "metadata": {},
   "outputs": [
    {
     "data": {
      "text/plain": [
       "array([[ 0.,  1., -1.,  1.,  1., -1., -1., -1., -1.,  1.,  1., -1.,  1.],\n",
       "       [ 1.,  0.,  1., -1.,  1.,  1., -1., -1., -1., -1.,  1.,  1., -1.],\n",
       "       [-1.,  1.,  0.,  1., -1.,  1.,  1., -1., -1., -1., -1.,  1.,  1.],\n",
       "       [ 1., -1.,  1.,  0.,  1., -1.,  1.,  1., -1., -1., -1., -1.,  1.],\n",
       "       [ 1.,  1., -1.,  1.,  0.,  1., -1.,  1.,  1., -1., -1., -1., -1.],\n",
       "       [-1.,  1.,  1., -1.,  1.,  0.,  1., -1.,  1.,  1., -1., -1., -1.],\n",
       "       [-1., -1.,  1.,  1., -1.,  1.,  0.,  1., -1.,  1.,  1., -1., -1.],\n",
       "       [-1., -1., -1.,  1.,  1., -1.,  1.,  0.,  1., -1.,  1.,  1., -1.],\n",
       "       [-1., -1., -1., -1.,  1.,  1., -1.,  1.,  0.,  1., -1.,  1.,  1.],\n",
       "       [ 1., -1., -1., -1., -1.,  1.,  1., -1.,  1.,  0.,  1., -1.,  1.],\n",
       "       [ 1.,  1., -1., -1., -1., -1.,  1.,  1., -1.,  1.,  0.,  1., -1.],\n",
       "       [-1.,  1.,  1., -1., -1., -1., -1.,  1.,  1., -1.,  1.,  0.,  1.],\n",
       "       [ 1., -1.,  1.,  1., -1., -1., -1., -1.,  1.,  1., -1.,  1.,  0.]])"
      ]
     },
     "execution_count": 12,
     "metadata": {},
     "output_type": "execute_result"
    }
   ],
   "source": [
    "Q"
   ]
  },
  {
   "cell_type": "code",
   "execution_count": 13,
   "metadata": {},
   "outputs": [
    {
     "name": "stdout",
     "output_type": "stream",
     "text": [
      "Q * J = 0\n",
      "Test:\n",
      " [[0. 0. 0. 0. 0. 0. 0. 0. 0. 0. 0. 0. 0.]\n",
      " [0. 0. 0. 0. 0. 0. 0. 0. 0. 0. 0. 0. 0.]\n",
      " [0. 0. 0. 0. 0. 0. 0. 0. 0. 0. 0. 0. 0.]\n",
      " [0. 0. 0. 0. 0. 0. 0. 0. 0. 0. 0. 0. 0.]\n",
      " [0. 0. 0. 0. 0. 0. 0. 0. 0. 0. 0. 0. 0.]\n",
      " [0. 0. 0. 0. 0. 0. 0. 0. 0. 0. 0. 0. 0.]\n",
      " [0. 0. 0. 0. 0. 0. 0. 0. 0. 0. 0. 0. 0.]\n",
      " [0. 0. 0. 0. 0. 0. 0. 0. 0. 0. 0. 0. 0.]\n",
      " [0. 0. 0. 0. 0. 0. 0. 0. 0. 0. 0. 0. 0.]\n",
      " [0. 0. 0. 0. 0. 0. 0. 0. 0. 0. 0. 0. 0.]\n",
      " [0. 0. 0. 0. 0. 0. 0. 0. 0. 0. 0. 0. 0.]\n",
      " [0. 0. 0. 0. 0. 0. 0. 0. 0. 0. 0. 0. 0.]\n",
      " [0. 0. 0. 0. 0. 0. 0. 0. 0. 0. 0. 0. 0.]]\n",
      "\n",
      "J * Q = 0\n",
      "Test:\n",
      " [[0. 0. 0. 0. 0. 0. 0. 0. 0. 0. 0. 0. 0.]\n",
      " [0. 0. 0. 0. 0. 0. 0. 0. 0. 0. 0. 0. 0.]\n",
      " [0. 0. 0. 0. 0. 0. 0. 0. 0. 0. 0. 0. 0.]\n",
      " [0. 0. 0. 0. 0. 0. 0. 0. 0. 0. 0. 0. 0.]\n",
      " [0. 0. 0. 0. 0. 0. 0. 0. 0. 0. 0. 0. 0.]\n",
      " [0. 0. 0. 0. 0. 0. 0. 0. 0. 0. 0. 0. 0.]\n",
      " [0. 0. 0. 0. 0. 0. 0. 0. 0. 0. 0. 0. 0.]\n",
      " [0. 0. 0. 0. 0. 0. 0. 0. 0. 0. 0. 0. 0.]\n",
      " [0. 0. 0. 0. 0. 0. 0. 0. 0. 0. 0. 0. 0.]\n",
      " [0. 0. 0. 0. 0. 0. 0. 0. 0. 0. 0. 0. 0.]\n",
      " [0. 0. 0. 0. 0. 0. 0. 0. 0. 0. 0. 0. 0.]\n",
      " [0. 0. 0. 0. 0. 0. 0. 0. 0. 0. 0. 0. 0.]\n",
      " [0. 0. 0. 0. 0. 0. 0. 0. 0. 0. 0. 0. 0.]]\n",
      "\n",
      "Q * Q^T - (q * I - J) = 0\n",
      "Test:\n",
      " [[0. 0. 0. 0. 0. 0. 0. 0. 0. 0. 0. 0. 0.]\n",
      " [0. 0. 0. 0. 0. 0. 0. 0. 0. 0. 0. 0. 0.]\n",
      " [0. 0. 0. 0. 0. 0. 0. 0. 0. 0. 0. 0. 0.]\n",
      " [0. 0. 0. 0. 0. 0. 0. 0. 0. 0. 0. 0. 0.]\n",
      " [0. 0. 0. 0. 0. 0. 0. 0. 0. 0. 0. 0. 0.]\n",
      " [0. 0. 0. 0. 0. 0. 0. 0. 0. 0. 0. 0. 0.]\n",
      " [0. 0. 0. 0. 0. 0. 0. 0. 0. 0. 0. 0. 0.]\n",
      " [0. 0. 0. 0. 0. 0. 0. 0. 0. 0. 0. 0. 0.]\n",
      " [0. 0. 0. 0. 0. 0. 0. 0. 0. 0. 0. 0. 0.]\n",
      " [0. 0. 0. 0. 0. 0. 0. 0. 0. 0. 0. 0. 0.]\n",
      " [0. 0. 0. 0. 0. 0. 0. 0. 0. 0. 0. 0. 0.]\n",
      " [0. 0. 0. 0. 0. 0. 0. 0. 0. 0. 0. 0. 0.]\n",
      " [0. 0. 0. 0. 0. 0. 0. 0. 0. 0. 0. 0. 0.]]\n"
     ]
    }
   ],
   "source": [
    "# Should be 0\n",
    "print('Q * J = 0\\nTest:\\n', Q@J)\n",
    "print()\n",
    "print('J * Q = 0\\nTest:\\n', J@Q)\n",
    "print()\n",
    "print('Q * Q^T - (q * I - J) = 0\\nTest:\\n',(Q@Q.T) - (q*I - J))"
   ]
  },
  {
   "cell_type": "code",
   "execution_count": 14,
   "metadata": {},
   "outputs": [],
   "source": [
    "A = paley_adjacency(q)"
   ]
  },
  {
   "cell_type": "code",
   "execution_count": 20,
   "metadata": {
    "scrolled": true
   },
   "outputs": [
    {
     "name": "stdout",
     "output_type": "stream",
     "text": [
      "The adjacency matrix of a Paley graph of order 13:\n",
      "[[0. 1. 0. 1. 1. 0. 0. 0. 0. 1. 1. 0. 1.]\n",
      " [1. 0. 1. 0. 1. 1. 0. 0. 0. 0. 1. 1. 0.]\n",
      " [0. 1. 0. 1. 0. 1. 1. 0. 0. 0. 0. 1. 1.]\n",
      " [1. 0. 1. 0. 1. 0. 1. 1. 0. 0. 0. 0. 1.]\n",
      " [1. 1. 0. 1. 0. 1. 0. 1. 1. 0. 0. 0. 0.]\n",
      " [0. 1. 1. 0. 1. 0. 1. 0. 1. 1. 0. 0. 0.]\n",
      " [0. 0. 1. 1. 0. 1. 0. 1. 0. 1. 1. 0. 0.]\n",
      " [0. 0. 0. 1. 1. 0. 1. 0. 1. 0. 1. 1. 0.]\n",
      " [0. 0. 0. 0. 1. 1. 0. 1. 0. 1. 0. 1. 1.]\n",
      " [1. 0. 0. 0. 0. 1. 1. 0. 1. 0. 1. 0. 1.]\n",
      " [1. 1. 0. 0. 0. 0. 1. 1. 0. 1. 0. 1. 0.]\n",
      " [0. 1. 1. 0. 0. 0. 0. 1. 1. 0. 1. 0. 1.]\n",
      " [1. 0. 1. 1. 0. 0. 0. 0. 1. 1. 0. 1. 0.]]\n"
     ]
    }
   ],
   "source": [
    "print('The adjacency matrix of a Paley graph of order {0}:\\n{1}'.format(q, A))"
   ]
  },
  {
   "cell_type": "markdown",
   "metadata": {},
   "source": [
    "The eigenvalues of a Paley graph could be analitically given for the general case. The $\\lambda_{e}$ eigenvalues of a Paley graph of order $q$ are also given in [4] (seen above) as\n",
    "\n",
    "$$\n",
    "\\lambda_{e}\n",
    "=\n",
    "\\begin{cases}\n",
    "\\frac{1}{2} \\left( q - 1 \\right)            & \\text{with multiplicity } 1 \\\\\n",
    "\\frac{1}{2} \\left( - 1 \\pm \\sqrt{q} \\right) & \\text{with multiplicity } \\frac{1}{2} \\left( q - 1 \\right).\n",
    "\\end{cases}\n",
    "$$"
   ]
  },
  {
   "cell_type": "code",
   "execution_count": 16,
   "metadata": {},
   "outputs": [
    {
     "name": "stdout",
     "output_type": "stream",
     "text": [
      "List of THEORETICAL eigenvalues and their multiplicity:\n",
      "eig_1 = 6.0 \t\t\tMultiplicity 1\n",
      "eig_2 = 1.3027756377319946 \tMultiplicity 6.0\n",
      "eig_3 = -2.302775637731995 \tMultiplicity 6.0\n"
     ]
    }
   ],
   "source": [
    "print('List of THEORETICAL eigenvalues and their multiplicity:')\n",
    "print('eig_1 =', 1/2 * (q - 1), '\\t\\t\\tMultiplicity', 1)\n",
    "print('eig_2 =', 1/2 * (-1 + np.sqrt(q)), '\\tMultiplicity', 1/2 * (q - 1))\n",
    "print('eig_3 =', 1/2 * (-1 - np.sqrt(q)), '\\tMultiplicity', 1/2 * (q - 1))"
   ]
  },
  {
   "cell_type": "code",
   "execution_count": 17,
   "metadata": {},
   "outputs": [],
   "source": [
    "eig_A = count_eigvals(A, eps=1e-10)"
   ]
  },
  {
   "cell_type": "code",
   "execution_count": 18,
   "metadata": {},
   "outputs": [
    {
     "name": "stdout",
     "output_type": "stream",
     "text": [
      "List of MEASURED eigenvalues and their multiplicity:\n",
      "eig_1 = -2.3027756377319952\tMultiplicity : 6\n",
      "eig_2 = 1.3027756377319932\tMultiplicity : 6\n",
      "eig_3 = 5.999999999999995\tMultiplicity : 1\n"
     ]
    }
   ],
   "source": [
    "print('List of MEASURED eigenvalues and their multiplicity:')\n",
    "for idx, eig in enumerate(eig_A):\n",
    "    print('eig_{0} = {1}\\tMultiplicity : {2}'.format(idx+1, eig[0], eig[1]))"
   ]
  },
  {
   "cell_type": "markdown",
   "metadata": {},
   "source": [
    "Which coincides our theoretical expectations."
   ]
  }
 ],
 "metadata": {
  "kernelspec": {
   "display_name": "general",
   "language": "python",
   "name": "general"
  },
  "language_info": {
   "codemirror_mode": {
    "name": "ipython",
    "version": 3
   },
   "file_extension": ".py",
   "mimetype": "text/x-python",
   "name": "python",
   "nbconvert_exporter": "python",
   "pygments_lexer": "ipython3",
   "version": "3.8.3"
  }
 },
 "nbformat": 4,
 "nbformat_minor": 4
}
