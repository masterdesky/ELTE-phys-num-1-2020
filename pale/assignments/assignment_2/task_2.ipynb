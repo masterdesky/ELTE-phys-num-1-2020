{
 "cells": [
  {
   "cell_type": "markdown",
   "metadata": {},
   "source": [
    "# Task 2.: Eigenvalues -- Generation\n",
    "\n",
    "## Task description\n",
    "\n",
    "- Create a function, which calculates the eigenvalues of a random but strictly **symmetric** matrix!\n",
    "- Name the function as `random_eigvals`. It should require two input parameters:\n",
    "  - The first one named `dim`, which is an integer, and which equals to the size of the random matrices generated in the function.\n",
    "  - The second parameter nameed as `dist`, which controls the behaviour of the number generation algorithm. If the value of `dist` is the `\"normal\"` string, then the random numbers in the matrix should be generated from the normal distribution using `numpy`'s [`randn`](https://docs.scipy.org/doc/numpy-1.15.1/reference/generated/numpy.random.randn.html) function. Otherwise, random numbers are drawn from the uniform distribution in the interval [0,1] using the [`rand`](https://docs.scipy.org/doc/numpy-1.15.1/reference/generated/numpy.random.rand.html#numpy.random.rand) function. \n",
    "  - Make sure that in all cases the diagonal and off-diagonal elements are from the same distribution!\n",
    "- The function `random_eigvals` should return with a `numpy` `array` with the eigenvalues of the random matrix inside. To calculate the eigenvalues we can use `numpy`'s [`eigvalsh`](https://docs.scipy.org/doc/numpy/reference/generated/numpy.linalg.eigvalsh.html) function.\n",
    "- Using the function `random_eigvals`, calculate the eigenvalues of $50000$ matrices with normally, and $50000$ matrices with uniformly distributed elements. The matrices should be\n",
    "- Ábrázoljuk a két eloszlással generált sajátértékek eloszlását (mindkét esetben tehát 50000 x 10 szám eloszlását) két hisztogramon. A hisztogram legalább 500 binből álljon! \n",
    "- A saját szavaiddal fogalmazd meg, milyen különbségeket, illetve hasonlóságokat figyelhetünk meg a két véletlen mátrix család sajátértékeire vonatkozóan a hisztogramok alapján!"
   ]
  },
  {
   "cell_type": "markdown",
   "metadata": {},
   "source": [
    "## Solving the task"
   ]
  },
  {
   "cell_type": "code",
   "execution_count": 13,
   "metadata": {},
   "outputs": [],
   "source": [
    "import numpy as np\n",
    "import matplotlib.pyplot as plt"
   ]
  },
  {
   "cell_type": "code",
   "execution_count": 18,
   "metadata": {},
   "outputs": [],
   "source": [
    "def mat_gen(dim, dist=\"\"):\n",
    "    \n",
    "    assert type(dim) == int, \"The parameter `dim` should be an integer!\"\n",
    "    assert dim > 1, \"The parameter `dim` should be greater, than 1!\"\n",
    "    \n",
    "    # Set \n",
    "    if dist.lower() == 'normal':\n",
    "        f = np.random.randn\n",
    "    else:\n",
    "        f = np.random.rand\n",
    "    \n",
    "    # Generate symmetric matrix by symmetrization\n",
    "    A = f(dim, dim)\n",
    "    A = (A + A.T)/2\n",
    "    \n",
    "    # Generate symmetric matrix by setting corresponding\n",
    "    # off-diagonal elements equal to each other on both\n",
    "    # sides of the diagonal\n",
    "    B = np.zeros((dim, dim))\n",
    "    for i in range(dim):\n",
    "        for j in range(i, dim):\n",
    "            num = f()            \n",
    "            B[i][j] = num\n",
    "            if i != j:\n",
    "                B[j][i] = num\n",
    "    \n",
    "    return A, B"
   ]
  },
  {
   "cell_type": "code",
   "execution_count": 19,
   "metadata": {},
   "outputs": [],
   "source": [
    "def random_eigvals(A):\n",
    "    \n",
    "    # Eigenvalues of a symmetric or Hermitian matrix\n",
    "    return np.linalg.eigvalsh(A)"
   ]
  },
  {
   "cell_type": "code",
   "execution_count": 20,
   "metadata": {},
   "outputs": [],
   "source": [
    "dim = 10\n",
    "A, B = mat_gen(dim)"
   ]
  },
  {
   "cell_type": "markdown",
   "metadata": {},
   "source": [
    "### Check symmetricity and distribution of elements of the generated matrices"
   ]
  },
  {
   "cell_type": "markdown",
   "metadata": {},
   "source": [
    "#### Symmetricity"
   ]
  },
  {
   "cell_type": "code",
   "execution_count": 24,
   "metadata": {},
   "outputs": [
    {
     "data": {
      "image/png": "[encoded data removed]",
      "text/plain": [
       "<Figure size 1152x1152 with 4 Axes>"
      ]
     },
     "metadata": {
      "needs_background": "light"
     },
     "output_type": "display_data"
    }
   ],
   "source": [
    "nrows = 2\n",
    "ncols = 2\n",
    "fig, axes = plt.subplots(nrows, ncols, figsize=(ncols*8, nrows*8))\n",
    "\n",
    "axistitlesize = 20\n",
    "\n",
    "mat = [A, B]\n",
    "title_0 = [\n",
    "    'Symmetrization ($A$)',\n",
    "    'Off-diag. generation ($B$)'\n",
    "]\n",
    "title_1 = [\n",
    "    '$A - A^{T}$',\n",
    "    '$B - B^{T}$',\n",
    "]\n",
    "\n",
    "for i in range(ncols):\n",
    "    axes[0][i].axis('off')\n",
    "    \n",
    "    axes[0][i].imshow(mat[i])\n",
    "    \n",
    "    axes[0][i].set_title(title_0[i], fontsize=axistitlesize, fontweight='bold')\n",
    "\n",
    "for i in range(ncols):\n",
    "    axes[1][i].axis('off')\n",
    "    \n",
    "    axes[1][i].imshow(mat[i] - mat[i].T)\n",
    "    \n",
    "    axes[1][i].set_title(title_1[i], fontsize=axistitlesize, fontweight='bold')\n",
    "\n",
    "    \n",
    "plt.show()"
   ]
  },
  {
   "cell_type": "markdown",
   "metadata": {},
   "source": [
    "#### Distribution of elements"
   ]
  },
  {
   "cell_type": "code",
   "execution_count": null,
   "metadata": {},
   "outputs": [],
   "source": []
  }
 ],
 "metadata": {
  "kernelspec": {
   "display_name": "general",
   "language": "python",
   "name": "general"
  },
  "language_info": {
   "codemirror_mode": {
    "name": "ipython",
    "version": 3
   },
   "file_extension": ".py",
   "mimetype": "text/x-python",
   "name": "python",
   "nbconvert_exporter": "python",
   "pygments_lexer": "ipython3",
   "version": "3.8.3"
  }
 },
 "nbformat": 4,
 "nbformat_minor": 4
}
