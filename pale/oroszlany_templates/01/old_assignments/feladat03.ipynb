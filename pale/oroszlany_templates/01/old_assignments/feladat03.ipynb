{
 "cells": [
  {
   "cell_type": "markdown",
   "metadata": {},
   "source": [
    "# Feladatok\n",
    "\n",
    "- Minden feladatot külön notebookba oldj meg! \n",
    "- A megoldásnotebook **neve** tartalmazza a feladat **számát**! \n",
    "- A megoldasok kerüljenek a **MEGOLDASOK mappába**!<br> Csak azok a feladatok kerülnek elbírálásra, amelyek a MEGOLDASOK mappában vannak!\n",
    "- A megoldás tartalmazza a megoldandó **feladat szövegét** a megoldás notebook első `markdown` cellájában! \n",
    "- **Kommentekkel**, illetve `markdown` cellákkal magyarázd hogy éppen mit csinál az adott kódrészlet!<br> Magyarázat nélkül beküldött feladatok csak fél feladatnak számítanak!\n",
    "---"
   ]
  },
  {
   "cell_type": "markdown",
   "metadata": {
    "collapsed": true
   },
   "source": [
    "## 01-feladat `import` szintaxis\n",
    "\n",
    "A mintapéldában láttunk néhány pédát az `import` utasítás működésére. \n",
    "- Nézz utána az interneten hogy az\n",
    "\n",
    ">```python\n",
    "import numpy as np\n",
    "```\n",
    "\n",
    "&nbsp;&nbsp;&nbsp;&nbsp;&nbsp;&nbsp;&nbsp;&nbsp;kifejezésnek milyen hatása van. \n",
    "\n",
    "- Két mondatban fogalmazd meg, hogy a fenti kódsor lefuttatása milyen következményeket von maga után.<br> Következtetéseidet illusztráld is rövid pédákkal. \n",
    "- A használt internetes forrásokat jelöld meg linkekkel!"
   ]
  },
  {
   "cell_type": "markdown",
   "metadata": {},
   "source": [
    "\n",
    "## 02-Ismerkedés az array adatstruktúrák indexelésével\n",
    "Az array struktúrák indexelését kihasználva vizsgáljuk meg a következő problémákat:"
   ]
  },
  {
   "cell_type": "code",
   "execution_count": null,
   "metadata": {
    "collapsed": true
   },
   "outputs": [],
   "source": [
    "A=randint(0,8,20)\n",
    "A"
   ]
  },
  {
   "cell_type": "markdown",
   "metadata": {},
   "source": [
    "1. Menny az A array 3-nál nagyobb elemeinek összege ?\n",
    "2. Mennyi az A array páros értékű elemeinek átlaga ?\n",
    "3. Mennyi az A array elemeinek négyzetösszege ( euklideszi normája ) ?"
   ]
  },
  {
   "cell_type": "markdown",
   "metadata": {},
   "source": [
    "- Kezdjük ebben a példában a notebookot a `%pylab inline` utasítással!\n",
    "- **NE HASZNÁLJUNK `for` és `if` parancsokat!!** <br>\n",
    "He a megoldás filekód cellájában `for` vagy `if` konstrukció van, a feladat automatikusan nem teljesítettnek minősül!\n"
   ]
  },
  {
   "cell_type": "markdown",
   "metadata": {},
   "source": [
    "## 03-Kétindexes array"
   ]
  },
  {
   "cell_type": "code",
   "execution_count": null,
   "metadata": {
    "collapsed": true
   },
   "outputs": [],
   "source": [
    "B=randint(0,9,(10,10))\n",
    "B"
   ]
  },
  {
   "cell_type": "markdown",
   "metadata": {},
   "source": [
    "1. Írasd ki a B array bal alsó 5x7-es almátrixát!\n",
    "2. Írass ki minden második elemet a B array második sorából!\n",
    "3. Írass ki minden háromnál nagyobb elemet a B array 7. oszlopábol!\n",
    "4. Írasd ki azokat az elemeket a B array 3. oszlopából, amelyeknek a sorában a 4. oszlopban 5-nél kisebb elem áll!"
   ]
  },
  {
   "cell_type": "markdown",
   "metadata": {},
   "source": [
    "- Kezdjük ebben a példában a notebookot a `%pylab inline` utasítással!\n",
    "- **NE HASZNLÁJUNK `for` és `if` parancsokat!!** <br>\n",
    "He a megoldás filekód cellájában `for` vagy `if` konstrukció van, a feladat automatikusan nem teljesítettnek minősül!\n",
    "\n",
    "\n"
   ]
  },
  {
   "cell_type": "markdown",
   "metadata": {},
   "source": [
    "## 04-Egyszerű ábrázolás\n",
    "\n",
    "Ábrázoljuk a $$ f(x)=\\mathrm{e}^{-x^2/\\sigma^2} $$ függvényt $\\sigma=1,2,5$ esetére egy ábrán!\n",
    "\n",
    "Kezdjük ebben a példában a notebookot a `%pylab inline` utasítással!"
   ]
  },
  {
   "cell_type": "markdown",
   "metadata": {},
   "source": [
    "## 05-Hisztogram\n",
    "\n",
    "Generálj 10000 darab **egyenletes** eloszlású véletlen számot a $[0,1]$ intervallumon, és gyártsd le ezen véletlen számok hisztogramját! Az hisztogram készítése során a $[0,1]$ intervallumot osszuk 25 alintervallumra! Az alintervallumok számának meghatározásához szükséges kulcsszónak nézz utána!\n",
    "\n",
    "Kezdjük ebben a példában a notebookot a `%pylab inline` utasítással!"
   ]
  },
  {
   "cell_type": "markdown",
   "metadata": {},
   "source": [
    "## 06  Péksütemény ☠\n",
    "\n",
    "Írj egy olyan függvényt, melynek bemeneti értéke a p valószínűség (mely egy 0 és 1 közötti szám), kimeneti értéke pedig p valószínűséggel  a `\"kakaós csiga\"` string, 1-p valószínűséggel pedig a `\"túrós táska\"` string."
   ]
  },
  {
   "cell_type": "markdown",
   "metadata": {},
   "source": [
    "## 07 Ej, mi a kő ! ☠\n",
    "\n",
    "Ábrázold hisztogramon az [Anyám tyúkja](http://magyar-irodalom.elte.hu/sulinet/igyjo/setup/portrek/petofi/anyamtyu.htm) versben a szavak hosszának eloszlását.\n"
   ]
  },
  {
   "cell_type": "markdown",
   "metadata": {},
   "source": [
    "## 08  Centrális határeloszlás-tétel ☠\n",
    "\n",
    "Bizonyítsuk numerikusan a [centrális határeloszlás-tételt](https://hu.wikipedia.org/wiki/Centr%C3%A1lis_hat%C3%A1reloszl%C3%A1s-t%C3%A9tel) !"
   ]
  },
  {
   "cell_type": "markdown",
   "metadata": {},
   "source": [
    "## 09  Webbányászat 101 ☠\n",
    "\n",
    "A `requests` csomag segítségével írjunk egy kódot, ami az index.hu-ról leszedi az éppen aktuálisan az oldalon lévő címsorokat! \n",
    "- Nézz utána hogyan lehet a `requests` csomag segítségével `text` formátumban egy weboldalt letölteni!\n",
    "- Az `index.hu` weboldalán a `html`-kódban a címeket mindig megelőzi egy olyan sor, amelyben szerepel a `'<h1'` karakterlánc!\n",
    "- A megfelelő sor megtalálása után írassuk ki a címeket!"
   ]
  }
 ],
 "metadata": {
  "hide_input": false,
  "kernelspec": {
   "display_name": "Python 3",
   "language": "python",
   "name": "python3"
  },
  "language_info": {
   "codemirror_mode": {
    "name": "ipython",
    "version": 3
   },
   "file_extension": ".py",
   "mimetype": "text/x-python",
   "name": "python",
   "nbconvert_exporter": "python",
   "pygments_lexer": "ipython3",
   "version": "3.5.1"
  },
  "latex_envs": {
   "bibliofile": "biblio.bib",
   "cite_by": "apalike",
   "current_citInitial": 1,
   "eqLabelWithNumbers": true,
   "eqNumInitial": 0
  },
  "toc": {
   "toc_cell": false,
   "toc_number_sections": false,
   "toc_threshold": 6,
   "toc_window_display": false
  }
 },
 "nbformat": 4,
 "nbformat_minor": 0
}
