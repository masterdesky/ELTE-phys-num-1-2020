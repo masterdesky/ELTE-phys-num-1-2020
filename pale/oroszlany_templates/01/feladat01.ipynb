{
 "cells": [
  {
   "cell_type": "markdown",
   "metadata": {},
   "source": [
    "# Feladatok\n",
    "- Minden feladatot feladatszámnak megfelelő számú megoldásnotebookban oldd meg. Azaz az első feladatot az `1_feladat.ipynb` notebookban.\n",
    "- A **halálfejes (☠)** feladatokhoz **hozz létre** a kötelező feladatokhoz hasonlóan egy új notebookot a MEGOLDASOK könyvtárban.\n",
    "- Csak azok a feladatok kerülnek elbírálásra, amelyek a MEGOLDASOK mappában vannak!\n",
    "- A megoldás tartalmazza a megoldandó **feladat szövegét** a megoldás notebook első `markdown` cellájában!\n",
    "- **Kommentekkel**, illetve `markdown` cellákkal magyarázd, hogy éppen mit csinál az adott kódrészlet!<br> **Magyarázat nélkül a beküldött feladatok csak fél feladatnak számítanak!**\n",
    "- Az elkészített ábrák minden esetben rendelkezzenek **ábrafeliratokkal** (cím, tengelyfeliratok és — amennyiben indokolt — jelmagyarázat)!\n",
    "**Amennyiben a beadott ábrákon nincsenek feliratok, az adott feladat automatikusan csak fél feladatnak számít**!\n",
    "\n",
    "----\n"
   ]
  },
  {
   "cell_type": "markdown",
   "metadata": {},
   "source": [
    "## 1. Feladat\n",
    "#### Listák - I. \n",
    "\n",
    "Galileo Galilei egyik gondolatát küdték el nekünk SMS-ben, de sajnos hálózati hiba miatt nem sorrendben érkeztek meg a szavak. A következőt olvastuk a telefonunkban:"
   ]
  },
  {
   "cell_type": "code",
   "execution_count": 1,
   "metadata": {
    "collapsed": true
   },
   "outputs": [],
   "source": [
    "sms=['Szentírás ', 'bölcs ', 'a ', 'már ', 'szükséges ', 'mondhat ', 'biztosak ', 'a ', \n",
    "     'feladata, ', 'Mivel ', 'ellent ', 'a ', 'érzéki ', 'azokkal ', 'következtetésekkel, ',\n",
    "     'a ', 'vagyunk ', 'a ', 'tapasztalataink ', 'szöveg ', 'azon ', 'igazság ', 'sose ',\n",
    "     'ami ', 'hogy ', 'melyekben ', 'kísérletek ', 'megtalálják ', 'által.', 'két ', 'fizikai ',\n",
    "     'egymásnak, ', 'egyezik ', 'és ', 'értelmezőinek ', 'értelmezését, ']"
   ]
  },
  {
   "cell_type": "markdown",
   "metadata": {},
   "source": [
    "Később a telefonszolgáltató megtalálta a hiba okát, és elküldte, hogy milyen sorrendben kaptuk meg az eredeti szöveg szavait:"
   ]
  },
  {
   "cell_type": "code",
   "execution_count": 2,
   "metadata": {
    "collapsed": true
   },
   "outputs": [],
   "source": [
    "sorrend=[8,9,15,26,33,4,27,11,12,0,5,32,29,21,24,22,28,7,30,16,17,2,3,19,13,25,34,14,35,1,23,6,20,31,10,18]"
   ]
  },
  {
   "cell_type": "markdown",
   "metadata": {},
   "source": [
    "Azaz az általunk megkapott első szó az eredeti szövegben a 8-as indexet viselte, azaz a 9. volt.\n",
    "\n",
    "Írj egy olyan programot, ami helyreállítja az idézetet, valamint össze is fűzi a lista elemeit egy mondattá."
   ]
  },
  {
   "cell_type": "markdown",
   "metadata": {},
   "source": [
    "## 2. Feladat\n",
    "\n",
    "#### Egyszerű ábrázolás és Függvények - I.\n",
    "\n",
    "\n",
    "Ebben a feladatban adott két lista, amely egy műveleti erősítős integráló RC-kör frekvenciafüggő átviteli erősítési adatait tartalmazza, a frekvenciaadatokat $\\mathrm{Hz}$-ben, az átviteli arányt $\\mathrm{V}/\\mathrm{V}$-ban."
   ]
  },
  {
   "cell_type": "code",
   "execution_count": 4,
   "metadata": {
    "collapsed": true
   },
   "outputs": [],
   "source": [
    "frekvencia=[50.23, 100, 200.5, 499.5, 1000, 1593, 2007, 5017, 10040, 20000, 49800]\n",
    "atvitel=[30,15.55, 8.8889, 3.1136, 1.5454, 0.9773, 0.7674, 0.2954, 0.2272, 0.1704, 0.1363]"
   ]
  },
  {
   "cell_type": "markdown",
   "metadata": {},
   "source": [
    "* Első lépésként az erősítést számoljuk át [decibel skálára](https://hu.wikipedia.org/wiki/Decibel#Meghat.C3.A1roz.C3.A1sa)!\n",
    "\n",
    "Vizsgáljuk a most már decibelre átszámolt átviteli arányt a frekvencia függvényében!\n",
    "\n",
    "* Először írjunk egy függvényt, ami lineáris interpolációt végez a két szomszédos adatpontból azok számtani közepénél!\n",
    "\n",
    "A lineáris interpoláció algebrai függvénye (Y-t keressük, és X számtani közepe $x_1$ és $x_2$-nek):\n",
    "\\begin{equation}\n",
    "Y=y_1+\\frac{(X - x_1)\\cdot (y_2 - y_1)}{(x_2 - x_1)}\n",
    "\\end{equation}\n",
    "\n",
    "* Végül ábrázoljuk az eredményt (vízszintesen a frekvenciát (hertzben), függőlegesen az átviteli arányt (decibelben))! Az ábrán piros pontok jelenítsék meg az eredeti adatokat, míg kék \"+\" mutassa az interpolált adatokat."
   ]
  },
  {
   "cell_type": "code",
   "execution_count": 3,
   "metadata": {
    "collapsed": true
   },
   "outputs": [],
   "source": [
    "def pol(x1,x2,y1,y2):\n",
    "    # Ide jön a függvény lényege\n",
    "    return X, Y"
   ]
  },
  {
   "cell_type": "markdown",
   "metadata": {},
   "source": [
    "## 3. Feladat\n",
    "\n",
    "#### Dictionary - I.\n",
    "\n",
    "Írjatok egy függvényt, ami a megadott szótár segítségével tetszőleges magyar szöveget angolra fordít!\n",
    "\n",
    "- A fordítás történjen szóról szóra.\n",
    "- Ha ismeretlen szóval találkoztok, akkor csináljátok azt, amit a Google Translator: csak írjátok ki az eredeti szót fordítás nélkül. ( A szöveg többi részét természetesen le kell fordítani.)\n",
    "- Nem baj, ha nyelvtanilag nem helyes vagy értelmetlen a fordítás."
   ]
  },
  {
   "cell_type": "code",
   "execution_count": null,
   "metadata": {
    "collapsed": true
   },
   "outputs": [],
   "source": [
    "szotar={'a':'the',\n",
    "        'majom': 'monkey',\n",
    "        'kutya':'dog',\n",
    "        'szereti':'likes',\n",
    "        'banánt':'banana',\n",
    "        'kolbászt':'sausage'}\n",
    "\n",
    "pelda_szoveg='a majom szereti a banánt minden kutya szereti a kolbászt'"
   ]
  },
  {
   "cell_type": "markdown",
   "metadata": {},
   "source": [
    "## 4. feladat\n",
    "\n",
    "#### Függvények - II.\n",
    "\n",
    "Írj egy függvényt, ami a $$ ax^2+bx+c=0 $$ másodfokú egyenlet (valós és komplex) gyökeit határozza meg. Csak akkor kapjunk eredményként komplex számot, ha a diszkrimináns negatív!\n",
    "\n",
    "Példaként add meg a következő négy egyenlet megoldását:\n",
    "1. $x^2=100$\n",
    "2. $3x^2-25x=10$\n",
    "3. $-4x^2+4x=1$\n",
    "4. $25x^2+16x=-100$"
   ]
  },
  {
   "cell_type": "code",
   "execution_count": null,
   "metadata": {
    "collapsed": true
   },
   "outputs": [],
   "source": [
    "def masodfoku(a,b,c):\n",
    "    \n",
    "    \n",
    "    return x1,x2"
   ]
  },
  {
   "cell_type": "markdown",
   "metadata": {},
   "source": [
    "## 5. Feladat\n",
    "\n",
    "#### Docstring és változó számú argumentumok - I.\n",
    "\n",
    "Írjunk egy függvényt, amely egy kezdőértékből, egy kvóciensből és egy N egész számból legyárt egy N hosszú mértani sorozatot.\n",
    "\n",
    "Az általunk megírt függvény teljesítse a következő feltételeket:\n",
    "- írjunk **docstringet**,\n",
    "- a függvény egy listával **térjen vissza**\n",
    "- ha egy bemeneti értéke van, akkor azt tekintse kezdőértéknek, a kvóciens legyen 0.5, N pedig 10\n",
    "- ha két bemeneti érték van, akkor az első legyen a kezdőérték, a második a kvóciens, N pedig 10\n",
    "- ha megvan mind a három paraméter, akkor ugyanúgy viselkedjen, mint ahogy azt az előző feladatban tette"
   ]
  },
  {
   "cell_type": "code",
   "execution_count": null,
   "metadata": {
    "collapsed": true
   },
   "outputs": [],
   "source": [
    "def mertani(x0,q,N):\n",
    "    \"\"\"...\"\"\" # ide jön a docstring\n",
    "    #\n",
    "    # ide jön a varázslat..\n",
    "    #\n"
   ]
  },
  {
   "cell_type": "markdown",
   "metadata": {},
   "source": [
    "## ☠ 6. feladat\n",
    "\n",
    "#### Dictionary - II.\n",
    "\n",
    "A harmadik feladat magyar-angol szótárának megfordításával készítsétek el az angol-magyar szótárt, majd ennek segítségével a függvényt, ami tetszőleges angol szöveget magyarra fordít!\n",
    "\n",
    "- A kézzel bevitt szótár nem jó megoldás! (használjátok a `dict` típus `items()` tagfüggvényét!)\n",
    "\n",
    "- Ha ismeretlen szóval találkoztok, akkor csináljátok azt, amit a Google Translator: csak írjátok ki az eredeti szót fordítás nélkül. ( A szöveg többi részét természetesen le kell fordítani.)\n",
    "\n",
    "- Nem baj, ha nyelvtanilag nem helyes, vagy értelmetlen a fordítás.\n",
    "\n",
    "----"
   ]
  },
  {
   "cell_type": "code",
   "execution_count": null,
   "metadata": {
    "collapsed": true
   },
   "outputs": [],
   "source": [
    "szotar={'a':'the',\n",
    "        'majom': 'monkey',\n",
    "        'kutya':'dog',\n",
    "        'szereti':'likes',\n",
    "        'banánt':'banana',\n",
    "        'kolbászt':'sausage'}\n",
    "\n",
    "angol_mondat='The monkey likes banana. Every dog likes sausage.'"
   ]
  },
  {
   "cell_type": "markdown",
   "metadata": {},
   "source": [
    "## ☠ 7. feladat \n",
    "\n",
    "#### Kulcsszavas függvény változó számú argumentummal\n",
    "\n",
    "Írjunk egy függvényt, amely egy adott **x** array-ben tárolt valós értékekre kiértékel egy tetszőleges polinomfüggvényt, vagy ábrázolja azt! \n",
    "- A polinom-együtthatókat egy tetszőleges hosszúságú **args** nevű váltózóban kapjuk.\n",
    "- Ha a **kwargs** kulcsszavas argumentumban a `csinal_kepet` kulcsszo `True` akkor ábrázoljuk a polinomot és ne térjünk vissza semmilyen értékkel, ellenkező esetben a függvény térjen vissza egy array változóval amely polinom értékeit tartalmazza az **x** változóban tárolt helyeken. \n",
    "- Az ábrázolás stilisztikai paramétereit a függvénynek adott egyéb kulcsszavas argumentumok segítségével állítsuk be!"
   ]
  },
  {
   "cell_type": "code",
   "execution_count": null,
   "metadata": {},
   "outputs": [],
   "source": [
    "def fuggveny(x,*args,**kwargs):\n",
    "    \"Kiértékelek vagy ábrázolok egy polinom-ot\"\n",
    "    #\n",
    "    #ide jön a varázslat\n",
    "    #\n",
    "    "
   ]
  },
  {
   "cell_type": "markdown",
   "metadata": {},
   "source": [
    "## ☠ 8. feladat\n",
    "\n",
    "#### Listák - II.\n",
    "\n",
    "Ábrázold hisztogramon az [Anyám tyúkja](http://magyar-irodalom.elte.hu/sulinet/igyjo/setup/portrek/petofi/anyamtyu.htm) versben a szavak hosszának eloszlását."
   ]
  },
  {
   "cell_type": "markdown",
   "metadata": {},
   "source": [
    "## ☠ 9. feladat\n",
    "\n",
    "#### Véletlen számok\n",
    "\n",
    "Bizonyítsuk numerikusan a centrális [határeloszlás-tételt](https://hu.wikipedia.org/wiki/Centr%C3%A1lis_hat%C3%A1reloszl%C3%A1s-t%C3%A9tel)!"
   ]
  },
  {
   "cell_type": "markdown",
   "metadata": {},
   "source": [
    "## ☠ 10. Péksütemény \n",
    "\n",
    "#### Véletlen számok-II\n",
    "\n",
    "Írj egy olyan függvényt, melynek bemeneti értéke a p valószínűség (mely egy 0 és 1 közötti szám), kimeneti értéke pedig p valószínűséggel a \"kakaós csiga\" string, 1-p valószínűséggel pedig a \"túrós táska\" string. Demonstráld hisztogram segítségével, hogy a függvényed helyes eloszlással generálja a kívánt péksüteményeket!"
   ]
  }
 ],
 "metadata": {
  "hide_input": false,
  "kernelspec": {
   "display_name": "Python 3",
   "language": "python",
   "name": "python3"
  },
  "language_info": {
   "codemirror_mode": {
    "name": "ipython",
    "version": 3
   },
   "file_extension": ".py",
   "mimetype": "text/x-python",
   "name": "python",
   "nbconvert_exporter": "python",
   "pygments_lexer": "ipython3",
   "version": "3.5.2"
  }
 },
 "nbformat": 4,
 "nbformat_minor": 1
}
