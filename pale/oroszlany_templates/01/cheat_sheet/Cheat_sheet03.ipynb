{
 "cells": [
  {
   "cell_type": "markdown",
   "metadata": {},
   "source": [
    "# Modulok, numpy array-k, egyszerű ábrázolás\n",
    "\n",
    "\n",
    "<h3 style='color: darkcyan '> Pylab környezet </h3>\n",
    "\n",
    "Az alábbi paranccsal alapvető `matplotlib` és `numpy` függvényeket töltünk be.\n",
    ">```python\n",
    "%pylab inline\n",
    "```\n",
    "\n",
    "<h3 style='color: darkcyan'> A `numpy` array-k indexelései </h3>\n",
    "\n",
    "<table style=\"width:100%;border: 0px solid #ffffff\">\n",
    "  <tr style=\"border: 0px solid #ffffff\">\n",
    "    <td style=\"border: 0px solid #ffffff\"><img src=\"http://www.scipy-lectures.org/_images/numpy_indexing.png\" height=400></img></td>\n",
    "    <td style=\"border: 0px solid #ffffff\"><img src=\"http://www.scipy-lectures.org/_images/numpy_fancy_indexing.png\" height=400></img></td>\n",
    "  </tr>\n",
    "</table> \n",
    "\n",
    "\n",
    "\n",
    "\n",
    "<h3 style='color: darkcyan'> Egyszerű plot </h3>\n",
    ">```python\n",
    "x=linspace(0,1,100) #mintavételezési pontok legyártása\n",
    "y=x**2              #függvény kiértékelése a mintavételezési pontokban\n",
    "plot(x,y)           #ábrázolás\n",
    "```\n",
    "\n",
    "![](http://oroszl.web.elte.hu/szamprob/old_2015/static_notebooks/minta_2d.png)"
   ]
  }
 ],
 "metadata": {
  "anaconda-cloud": {},
  "hide_input": false,
  "kernelspec": {
   "display_name": "Python 3",
   "language": "python",
   "name": "python3"
  },
  "language_info": {
   "codemirror_mode": {
    "name": "ipython",
    "version": 3
   },
   "file_extension": ".py",
   "mimetype": "text/x-python",
   "name": "python",
   "nbconvert_exporter": "python",
   "pygments_lexer": "ipython3",
   "version": "3.5.2"
  },
  "latex_envs": {
   "bibliofile": "biblio.bib",
   "cite_by": "apalike",
   "current_citInitial": 1,
   "eqLabelWithNumbers": true,
   "eqNumInitial": 0
  },
  "toc": {
   "toc_cell": false,
   "toc_number_sections": true,
   "toc_threshold": 6,
   "toc_window_display": false
  }
 },
 "nbformat": 4,
 "nbformat_minor": 0
}
