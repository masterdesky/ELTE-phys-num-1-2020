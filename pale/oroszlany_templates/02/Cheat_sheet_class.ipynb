{
 "cells": [
  {
   "cell_type": "markdown",
   "metadata": {},
   "source": [
    "# Osztályok\n",
    "\n",
    "\n",
    "<h3 style='color: darkcyan '> Egyszerű osztálydefiníció </h3>\n",
    "\n",
    ">```python\n",
    ">class Peldaosztaly:\n",
    ">    '''\n",
    ">    Ez egy példaosztály!\n",
    ">    \n",
    ">    '''\n",
    ">    \n",
    ">    osztalyvaltozo='valami'                # ez egy osztályváltozó>>\n",
    ">\n",
    ">    \n",
    ">    def __init__(self,name=None):            # speciális metódusok __-al közrefogva\n",
    ">       '''\n",
    ">        Docstring-ek itt is vannak.\n",
    ">        '''        \n",
    ">        print('Most születik egy Példa!')\n",
    ">        self.name=name                      # objektum attribútuma\n",
    ">            \n",
    ">   def set_name(self,name):                # objektum metódusa\n",
    ">        '''\n",
    ">        Ez is egy docstring.\n",
    ">       '''\n",
    ">        \n",
    ">        self.name=name                       # objektum attribútuma\n",
    ">```\n",
    "\n"
   ]
  }
 ],
 "metadata": {
  "hide_input": false,
  "kernelspec": {
   "display_name": "Python 3",
   "language": "python",
   "name": "python3"
  },
  "language_info": {
   "codemirror_mode": {
    "name": "ipython",
    "version": 3
   },
   "file_extension": ".py",
   "mimetype": "text/x-python",
   "name": "python",
   "nbconvert_exporter": "python",
   "pygments_lexer": "ipython3",
   "version": "3.5.2"
  }
 },
 "nbformat": 4,
 "nbformat_minor": 0
}
