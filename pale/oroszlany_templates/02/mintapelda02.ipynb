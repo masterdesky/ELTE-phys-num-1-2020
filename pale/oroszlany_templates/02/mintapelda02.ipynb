{
 "cells": [
  {
   "cell_type": "markdown",
   "metadata": {},
   "source": [
    "# Objektumok Pythonban\n",
    "\n",
    "Ebben a notebookban áttekintjük az objektumorientált programozás alapjait, illetve konkrét példákon keresztül a Python nyelv idevonatkozó szintaxisának sajátosságait.\n",
    "\n",
    "\n",
    "- [Néhány turpisság](mutable_scope.ipynb)\n",
    " - hivatkozások\n",
    " - megváltoztathatóság \n",
    " - láthatóság\n",
    "\n",
    "- [Osztályok](class.ipynb)\n",
    " - a `class` struktúra\n",
    " - példányosítás\n",
    " - osztályváltozók és methodok\n",
    " - öröklés\n",
    " - operator overloading"
   ]
  },
  {
   "cell_type": "code",
   "execution_count": null,
   "metadata": {
    "collapsed": true
   },
   "outputs": [],
   "source": []
  }
 ],
 "metadata": {
  "hide_input": false,
  "kernelspec": {
   "display_name": "Python 3",
   "language": "python",
   "name": "python3"
  },
  "language_info": {
   "codemirror_mode": {
    "name": "ipython",
    "version": 3
   },
   "file_extension": ".py",
   "mimetype": "text/x-python",
   "name": "python",
   "nbconvert_exporter": "python",
   "pygments_lexer": "ipython3",
   "version": "3.4.5"
  }
 },
 "nbformat": 4,
 "nbformat_minor": 0
}
