{
 "cells": [
  {
   "cell_type": "markdown",
   "metadata": {
    "deletable": true,
    "editable": true
   },
   "source": [
    "# Lineáris algebra\n",
    "\n",
    "A lineáris algebra a sokváltozós lineáris egyenletrendszerek megoldásával, illetve megoldhatóságának vizsgálatával foglalkozik. \n",
    "A lineáris algebra gyakorlati jelentősége abban mutatkozik meg, hogy számos bonyolult matematikai probléma numerikus megoldása sok esetben egy sokismeretlenes (esetenként igen sok, akár több millió) lineáris egyenletrendszerre vezet. Az alábbiakban a `numpy` csomag lineáris algebrai rutinjaival fogunk megismerkedni. Először a `matrix` típust vizsgáljuk meg, melynek segítségével egyszerű vektor-mátrix műveletek tömören fogalmazhatóak meg. Ezután a `solve` lineáris egyenletrendszereket megoldó függvény használatát sajátítjuk el, végül az `eig` sajátérték-, illetve sajátvektor-kereső rutinnal ismerkedünk meg. A végén ritka mátrixok használatáról lesz még szó."
   ]
  },
  {
   "cell_type": "code",
   "execution_count": 1,
   "metadata": {
    "collapsed": false,
    "deletable": true,
    "editable": true
   },
   "outputs": [
    {
     "name": "stdout",
     "output_type": "stream",
     "text": [
      "Populating the interactive namespace from numpy and matplotlib\n"
     ]
    }
   ],
   "source": [
    "# A szokásos import\n",
    "%pylab inline"
   ]
  },
  {
   "cell_type": "markdown",
   "metadata": {
    "deletable": true,
    "editable": true
   },
   "source": [
    "## Mátrixok és mátrix-vektor műveletek"
   ]
  },
  {
   "cell_type": "markdown",
   "metadata": {
    "deletable": true,
    "editable": true
   },
   "source": [
    "A korábbiakban rendszeresen használtuk a `numpy` csomag `array` változóit. Ezek sok szempontból hasznosnak bizonyultak, de alapvetően táblázatként működtek, és nem a lineáris algebrában megszokott mátrixként. Ennek a legszembetűnőbb megnyilvánulása az, hogy a rájuk értelmezett műveletek szigorúan elemenként értendőek voltak. Azaz a `*` elemenkénti szorzást és nem mátrixszorzást jelent. Például az alább definiált `A` és `B` tömbök"
   ]
  },
  {
   "cell_type": "code",
   "execution_count": 2,
   "metadata": {
    "collapsed": false,
    "deletable": true,
    "editable": true
   },
   "outputs": [],
   "source": [
    "# két minta array\n",
    "A=array([[1,2],\n",
    "         [3,4]])\n",
    "\n",
    "B=array([[2,2],\n",
    "         [2,2]])\n"
   ]
  },
  {
   "cell_type": "markdown",
   "metadata": {
    "deletable": true,
    "editable": true
   },
   "source": [
    "egymással összeszorozva egy olyan `array` -t adnak végeredményül, amelynek elemei az `A` és a `B` elemeinek szorzata: \n",
    "$$ (A*B)_{ij}=A_{ij}*B_{ij} $$"
   ]
  },
  {
   "cell_type": "code",
   "execution_count": 3,
   "metadata": {
    "collapsed": false,
    "deletable": true,
    "editable": true
   },
   "outputs": [
    {
     "data": {
      "text/plain": [
       "array([[2, 4],\n",
       "       [6, 8]])"
      ]
     },
     "execution_count": 3,
     "metadata": {},
     "output_type": "execute_result"
    }
   ],
   "source": [
    "A*B"
   ]
  },
  {
   "cell_type": "markdown",
   "metadata": {
    "deletable": true,
    "editable": true
   },
   "source": [
    "Ez a művelet természetesen nem érzékeny a műveleti sorrendre, azaz `A*B=B*A`:"
   ]
  },
  {
   "cell_type": "code",
   "execution_count": 4,
   "metadata": {
    "collapsed": false,
    "deletable": true,
    "editable": true
   },
   "outputs": [
    {
     "data": {
      "text/plain": [
       "array([[2, 4],\n",
       "       [6, 8]])"
      ]
     },
     "execution_count": 4,
     "metadata": {},
     "output_type": "execute_result"
    }
   ],
   "source": [
    "B*A"
   ]
  },
  {
   "cell_type": "markdown",
   "metadata": {
    "deletable": true,
    "editable": true
   },
   "source": [
    "A `numpy` rendelkezik egy `matrix` típussal is, ami sok szempontból hasonlóan viselkedik, mint az `array`, de bizonyos műveletek, például a \\* is a lineáris algebrában megszokott módon vannak definiálva. Azaz itt a \\*-jel az alábbiakat jelenti:\n",
    "$$ (A*B)_{ij}=\\sum_l A_{il}B_{lj} $$"
   ]
  },
  {
   "cell_type": "markdown",
   "metadata": {
    "deletable": true,
    "editable": true
   },
   "source": [
    "A `matrix()`-függvény  `array` vagy `list` típusú változókból `matrix` típusú változókat csinál:"
   ]
  },
  {
   "cell_type": "code",
   "execution_count": 5,
   "metadata": {
    "collapsed": false,
    "deletable": true,
    "editable": true
   },
   "outputs": [],
   "source": [
    "# Így definiálunk mátrixokat\n",
    "Am=matrix(A)\n",
    "Bm=matrix(B)"
   ]
  },
  {
   "cell_type": "markdown",
   "metadata": {
    "deletable": true,
    "editable": true
   },
   "source": [
    "Figyeljük meg, hogy az `Am` és `Bm` változókra miként hat a * művelet:"
   ]
  },
  {
   "cell_type": "code",
   "execution_count": 6,
   "metadata": {
    "collapsed": false,
    "deletable": true,
    "editable": true
   },
   "outputs": [
    {
     "data": {
      "text/plain": [
       "matrix([[ 6,  6],\n",
       "        [14, 14]])"
      ]
     },
     "execution_count": 6,
     "metadata": {},
     "output_type": "execute_result"
    }
   ],
   "source": [
    "Am*Bm"
   ]
  },
  {
   "cell_type": "code",
   "execution_count": 7,
   "metadata": {
    "collapsed": false,
    "deletable": true,
    "editable": true
   },
   "outputs": [
    {
     "data": {
      "text/plain": [
       "matrix([[ 8, 12],\n",
       "        [ 8, 12]])"
      ]
     },
     "execution_count": 7,
     "metadata": {},
     "output_type": "execute_result"
    }
   ],
   "source": [
    "Bm*Am"
   ]
  },
  {
   "cell_type": "markdown",
   "metadata": {
    "deletable": true,
    "editable": true
   },
   "source": [
    "A szorzás eredménye tehát, ahogy vártuk, függ a műveleti sorrendtől!"
   ]
  },
  {
   "cell_type": "markdown",
   "metadata": {
    "deletable": true,
    "editable": true
   },
   "source": [
    "Nézzünk meg néhány hasznos lineáris algebrai mátrixműveletet:"
   ]
  },
  {
   "cell_type": "code",
   "execution_count": 8,
   "metadata": {
    "collapsed": false,
    "deletable": true,
    "editable": true
   },
   "outputs": [
    {
     "data": {
      "text/plain": [
       "matrix([[1, 3],\n",
       "        [2, 4]])"
      ]
     },
     "execution_count": 8,
     "metadata": {},
     "output_type": "execute_result"
    }
   ],
   "source": [
    "Am.T  # Ez az Am mátrix transzponáltja"
   ]
  },
  {
   "cell_type": "code",
   "execution_count": 9,
   "metadata": {
    "collapsed": false,
    "deletable": true,
    "editable": true
   },
   "outputs": [
    {
     "data": {
      "text/plain": [
       "matrix([[ 1.+2.j,  2.+2.j],\n",
       "        [ 3.+2.j,  4.+2.j]])"
      ]
     },
     "execution_count": 9,
     "metadata": {},
     "output_type": "execute_result"
    }
   ],
   "source": [
    "Am+1.0j*Bm #Ez egy komplex mátrix"
   ]
  },
  {
   "cell_type": "code",
   "execution_count": 10,
   "metadata": {
    "collapsed": false,
    "deletable": true,
    "editable": true
   },
   "outputs": [
    {
     "data": {
      "text/plain": [
       "matrix([[ 1.-2.j,  3.-2.j],\n",
       "        [ 2.-2.j,  4.-2.j]])"
      ]
     },
     "execution_count": 10,
     "metadata": {},
     "output_type": "execute_result"
    }
   ],
   "source": [
    "(Am+1.0j*Bm).H  # Ez a komplex  mátrix adjungáltja, azaz a transzponált konjugáltja"
   ]
  },
  {
   "cell_type": "code",
   "execution_count": 11,
   "metadata": {
    "collapsed": false,
    "deletable": true,
    "editable": true
   },
   "outputs": [
    {
     "data": {
      "text/plain": [
       "5"
      ]
     },
     "execution_count": 11,
     "metadata": {},
     "output_type": "execute_result"
    }
   ],
   "source": [
    "trace(Am) # A mátrix nyoma, (vagy spur-ja) azaz a diagonális elemek összege"
   ]
  },
  {
   "cell_type": "code",
   "execution_count": 12,
   "metadata": {
    "collapsed": false,
    "deletable": true,
    "editable": true
   },
   "outputs": [
    {
     "data": {
      "text/plain": [
       "5"
      ]
     },
     "execution_count": 12,
     "metadata": {},
     "output_type": "execute_result"
    }
   ],
   "source": [
    "trace(A) # A trace ugyan úgy működik array-ekre"
   ]
  },
  {
   "cell_type": "code",
   "execution_count": 13,
   "metadata": {
    "collapsed": false,
    "deletable": true,
    "editable": true
   },
   "outputs": [
    {
     "data": {
      "text/plain": [
       "-2.0000000000000004"
      ]
     },
     "execution_count": 13,
     "metadata": {},
     "output_type": "execute_result"
    }
   ],
   "source": [
    "det(Am) # A mátrix determinánsa"
   ]
  },
  {
   "cell_type": "code",
   "execution_count": 14,
   "metadata": {
    "collapsed": false,
    "deletable": true,
    "editable": true
   },
   "outputs": [
    {
     "data": {
      "text/plain": [
       "-2.0000000000000004"
      ]
     },
     "execution_count": 14,
     "metadata": {},
     "output_type": "execute_result"
    }
   ],
   "source": [
    "det(A) # A determináns is alkalmazható array-ekre"
   ]
  },
  {
   "cell_type": "code",
   "execution_count": 15,
   "metadata": {
    "collapsed": false,
    "deletable": true,
    "editable": true
   },
   "outputs": [
    {
     "data": {
      "text/plain": [
       "matrix([[-2. ,  1. ],\n",
       "        [ 1.5, -0.5]])"
      ]
     },
     "execution_count": 15,
     "metadata": {},
     "output_type": "execute_result"
    }
   ],
   "source": [
    "inv(Am) # A mátrix inverze.. ugyebár ez nem feltétlenül létezik"
   ]
  },
  {
   "cell_type": "code",
   "execution_count": 16,
   "metadata": {
    "collapsed": false,
    "deletable": true,
    "editable": true
   },
   "outputs": [
    {
     "data": {
      "text/plain": [
       "array([[-2. ,  1. ],\n",
       "       [ 1.5, -0.5]])"
      ]
     },
     "execution_count": 16,
     "metadata": {},
     "output_type": "execute_result"
    }
   ],
   "source": [
    "inv(A) # Ez is megy array -ekre"
   ]
  },
  {
   "cell_type": "code",
   "execution_count": 17,
   "metadata": {
    "collapsed": false,
    "deletable": true,
    "editable": true
   },
   "outputs": [
    {
     "data": {
      "text/plain": [
       "matrix([[  1.00000000e+00,   0.00000000e+00],\n",
       "        [  2.22044605e-16,   1.00000000e+00]])"
      ]
     },
     "execution_count": 17,
     "metadata": {},
     "output_type": "execute_result"
    }
   ],
   "source": [
    "inv(Am)*Am # Ennek egységnek kell lennie"
   ]
  },
  {
   "cell_type": "markdown",
   "metadata": {
    "deletable": true,
    "editable": true
   },
   "source": [
    "## Lineáris egyenletrendszerek\n",
    "\n",
    "Az egyik gyakran előforduló lineáris algebrai feladat az egyenletrendszerek megoldása. Például keressük azt az $x$ vektort, amely teljesíti a\n",
    "\n",
    "$$ \\mathbf{A}x=b$$\n",
    "\n",
    "egyenletet, ahol $\\mathbf{A}$ egy ismert mátrix, és $b$ egy ismert vektor. A `numpy` csomag az ilyen formában megadott egyenletrendszer megoldására a `solve` függvényt kínálja. \n",
    "\n",
    "**Figyelem**: ez a függvény nem keverendő össze a `sympy` csomag azonos nevű függvényével, amely tetszőleges algebrai egyenletrendszerre kínál analitikus megoldást. A `numpy` modul `solve` függvénye szigorúan csak numerikus lineáris algebrai feladatok megoldására alkalmas!\n",
    "\n",
    "Vizsgáljunk meg egy példát! Keressük meg azt a síkbeli vektort, amit ha $\\varphi=30^\\circ$-al az óra járásával megegyező irányban elforgatunk, akkor az $y$ irányú egységvektort kapjuk! \n",
    "Azaz \n",
    "\n",
    "$$A=\\begin{pmatrix}\n",
    "\\cos(\\varphi) & -\\sin(\\varphi)\\\\ \n",
    "\\sin(\\varphi) & \\cos(\\varphi)\n",
    "\\end{pmatrix}$$ valamint\n",
    "$$b=\\begin{pmatrix}\n",
    "0 \\\\ \n",
    "1    \n",
    "\\end{pmatrix}$$"
   ]
  },
  {
   "cell_type": "code",
   "execution_count": 18,
   "metadata": {
    "collapsed": false,
    "deletable": true,
    "editable": true
   },
   "outputs": [],
   "source": [
    "# az ismert mennyiségek definiálása:\n",
    "phi=pi/6;\n",
    "#Ez az A mátrix\n",
    "A=matrix([[cos(phi), -sin(phi)],\n",
    "         [sin(phi),  cos(phi)]])\n",
    "#Ez pedig a b oszlopvektor, figyeljünk a zárójelezésre!!!\n",
    "b=matrix([[0],\n",
    "          [1]])"
   ]
  },
  {
   "cell_type": "code",
   "execution_count": 19,
   "metadata": {
    "collapsed": true,
    "deletable": true,
    "editable": true
   },
   "outputs": [],
   "source": [
    "x=solve(A,b)"
   ]
  },
  {
   "cell_type": "code",
   "execution_count": 20,
   "metadata": {
    "collapsed": false,
    "deletable": true,
    "editable": true
   },
   "outputs": [
    {
     "data": {
      "text/plain": [
       "matrix([[ 0.5      ],\n",
       "        [ 0.8660254]])"
      ]
     },
     "execution_count": 20,
     "metadata": {},
     "output_type": "execute_result"
    }
   ],
   "source": [
    "x"
   ]
  },
  {
   "cell_type": "markdown",
   "metadata": {
    "deletable": true,
    "editable": true
   },
   "source": [
    "## Sajátérték-probléma\n",
    "\n",
    "A másik sokszor felmerülő lineáris algebrai problémakör egy mátrix sajátértékeinek és sajátvektorainak meghatározása. Legyen $A$ egy ismert mátrix, és keressük tehát azon $x$ vektorokat, illetve azon $\\lambda$ számokat, melyek teljesítik az alábbi feltételt.\n",
    "\n",
    "$$ \\mathbf{M}x=\\lambda x.$$\n",
    "\n",
    "Ilyen jellegű problémákat az `eig` rutin segítségével tudunk megoldani. Lássunk erre is egy példát!\n",
    "Legyen $M$ egy 10x10-es mátrix, melynek mindkét első mellékátlója -1, a többi elem pedig nulla!"
   ]
  },
  {
   "cell_type": "code",
   "execution_count": 21,
   "metadata": {
    "collapsed": true,
    "deletable": true,
    "editable": true
   },
   "outputs": [],
   "source": [
    "M=matrix(zeros((10,10))) # Így gyártunk egy 10x10-es üres mátrixot.\n",
    "for i in range(9):#A mellékátlók 1-el rövidebbek mint a mátrix mérete!\n",
    "    M[i,i+1]=-1.0 #A mellékátlók feltöltése -1 -el\n",
    "    M[i+1,i]=-1.0 \n"
   ]
  },
  {
   "cell_type": "code",
   "execution_count": 22,
   "metadata": {
    "collapsed": false,
    "deletable": true,
    "editable": true
   },
   "outputs": [
    {
     "data": {
      "text/plain": [
       "matrix([[ 0., -1.,  0.,  0.,  0.,  0.,  0.,  0.,  0.,  0.],\n",
       "        [-1.,  0., -1.,  0.,  0.,  0.,  0.,  0.,  0.,  0.],\n",
       "        [ 0., -1.,  0., -1.,  0.,  0.,  0.,  0.,  0.,  0.],\n",
       "        [ 0.,  0., -1.,  0., -1.,  0.,  0.,  0.,  0.,  0.],\n",
       "        [ 0.,  0.,  0., -1.,  0., -1.,  0.,  0.,  0.,  0.],\n",
       "        [ 0.,  0.,  0.,  0., -1.,  0., -1.,  0.,  0.,  0.],\n",
       "        [ 0.,  0.,  0.,  0.,  0., -1.,  0., -1.,  0.,  0.],\n",
       "        [ 0.,  0.,  0.,  0.,  0.,  0., -1.,  0., -1.,  0.],\n",
       "        [ 0.,  0.,  0.,  0.,  0.,  0.,  0., -1.,  0., -1.],\n",
       "        [ 0.,  0.,  0.,  0.,  0.,  0.,  0.,  0., -1.,  0.]])"
      ]
     },
     "execution_count": 22,
     "metadata": {},
     "output_type": "execute_result"
    }
   ],
   "source": [
    "M # nézzük meg a mátrixot"
   ]
  },
  {
   "cell_type": "markdown",
   "metadata": {
    "deletable": true,
    "editable": true
   },
   "source": [
    "A sajátérték-probléma megoldása:"
   ]
  },
  {
   "cell_type": "code",
   "execution_count": 23,
   "metadata": {
    "collapsed": true,
    "deletable": true,
    "editable": true
   },
   "outputs": [],
   "source": [
    "ertek,vektor=eig(M)"
   ]
  },
  {
   "cell_type": "markdown",
   "metadata": {
    "deletable": true,
    "editable": true
   },
   "source": [
    "Most az `ertek` valtozó tartalmazza a sajátértékeket, illetve a `vektor` a sajátvektorokat."
   ]
  },
  {
   "cell_type": "code",
   "execution_count": 24,
   "metadata": {
    "collapsed": false,
    "deletable": true,
    "editable": true
   },
   "outputs": [
    {
     "data": {
      "text/plain": [
       "array([-1.91898595, -1.68250707, -1.30972147, -0.83083003, -0.28462968,\n",
       "        0.28462968,  1.91898595,  1.68250707,  1.30972147,  0.83083003])"
      ]
     },
     "execution_count": 24,
     "metadata": {},
     "output_type": "execute_result"
    }
   ],
   "source": [
    "ertek"
   ]
  },
  {
   "cell_type": "code",
   "execution_count": 25,
   "metadata": {
    "collapsed": false,
    "deletable": true,
    "editable": true
   },
   "outputs": [
    {
     "data": {
      "text/plain": [
       "matrix([[-0.12013117,  0.23053002,  0.3222527 ,  0.38786839, -0.42206128,\n",
       "         -0.42206128, -0.12013117, -0.23053002, -0.3222527 ,  0.38786839],\n",
       "        [-0.23053002,  0.38786839,  0.42206128,  0.3222527 , -0.12013117,\n",
       "          0.12013117,  0.23053002,  0.38786839,  0.42206128, -0.3222527 ],\n",
       "        [-0.3222527 ,  0.42206128,  0.23053002, -0.12013117,  0.38786839,\n",
       "          0.38786839, -0.3222527 , -0.42206128, -0.23053002, -0.12013117],\n",
       "        [-0.38786839,  0.3222527 , -0.12013117, -0.42206128,  0.23053002,\n",
       "         -0.23053002,  0.38786839,  0.3222527 , -0.12013117,  0.42206128],\n",
       "        [-0.42206128,  0.12013117, -0.38786839, -0.23053002, -0.3222527 ,\n",
       "         -0.3222527 , -0.42206128, -0.12013117,  0.38786839, -0.23053002],\n",
       "        [-0.42206128, -0.12013117, -0.38786839,  0.23053002, -0.3222527 ,\n",
       "          0.3222527 ,  0.42206128, -0.12013117, -0.38786839, -0.23053002],\n",
       "        [-0.38786839, -0.3222527 , -0.12013117,  0.42206128,  0.23053002,\n",
       "          0.23053002, -0.38786839,  0.3222527 ,  0.12013117,  0.42206128],\n",
       "        [-0.3222527 , -0.42206128,  0.23053002,  0.12013117,  0.38786839,\n",
       "         -0.38786839,  0.3222527 , -0.42206128,  0.23053002, -0.12013117],\n",
       "        [-0.23053002, -0.38786839,  0.42206128, -0.3222527 , -0.12013117,\n",
       "         -0.12013117, -0.23053002,  0.38786839, -0.42206128, -0.3222527 ],\n",
       "        [-0.12013117, -0.23053002,  0.3222527 , -0.38786839, -0.42206128,\n",
       "          0.42206128,  0.12013117, -0.23053002,  0.3222527 ,  0.38786839]])"
      ]
     },
     "execution_count": 25,
     "metadata": {},
     "output_type": "execute_result"
    }
   ],
   "source": [
    "vektor"
   ]
  },
  {
   "cell_type": "markdown",
   "metadata": {
    "deletable": true,
    "editable": true
   },
   "source": [
    "Az $i$-edik sajátvektort a `vektor` változó `i`-edik oszlopa, `vektor[:,i]` tartalmazza.\n",
    "\n",
    "Ez a sajátvektor az $i$-edik, `ertek[i]` sajátértékhez tartozó megoldása az $Mx=\\lambda x$ sajátérték-problémának.\n",
    "\n",
    "Ellenőrizzük ezt le:"
   ]
  },
  {
   "cell_type": "code",
   "execution_count": 26,
   "metadata": {
    "collapsed": false,
    "deletable": true,
    "editable": true
   },
   "outputs": [
    {
     "data": {
      "text/plain": [
       "matrix([[ -1.66533454e-16],\n",
       "        [ -8.32667268e-16],\n",
       "        [  8.32667268e-17],\n",
       "        [  1.11022302e-16],\n",
       "        [  3.60822483e-16],\n",
       "        [  3.88578059e-16],\n",
       "        [  2.77555756e-16],\n",
       "        [  5.55111512e-17],\n",
       "        [ -2.77555756e-16],\n",
       "        [ -1.11022302e-16]])"
      ]
     },
     "execution_count": 26,
     "metadata": {},
     "output_type": "execute_result"
    }
   ],
   "source": [
    "#ez tehát a nullvektor kell hogy legyen:\n",
    "M*vektor[:,3]-vektor[:,3]*ertek[3]"
   ]
  },
  {
   "cell_type": "markdown",
   "metadata": {
    "deletable": true,
    "editable": true
   },
   "source": [
    "Jelenítsük meg a két legkisebb sajátértékhez tartozó sajátfüggvényt!"
   ]
  },
  {
   "cell_type": "code",
   "execution_count": 27,
   "metadata": {
    "collapsed": false,
    "deletable": true,
    "editable": true
   },
   "outputs": [
    {
     "data": {
      "text/plain": [
       "<matplotlib.legend.Legend at 0x7f2c49e7c240>"
      ]
     },
     "execution_count": 27,
     "metadata": {},
     "output_type": "execute_result"
    },
    {
     "data": {
      "image/png": "[encoded data removed]",
      "text/plain": [
       "<matplotlib.figure.Figure at 0x7f2c4a662e80>"
      ]
     },
     "metadata": {},
     "output_type": "display_data"
    }
   ],
   "source": [
    "plot(vektor[:,0],'o-',label='elso sajatvektor')\n",
    "plot(vektor[:,1],'+--',label='masodik sajatvektor')\n",
    "legend()"
   ]
  },
  {
   "cell_type": "markdown",
   "metadata": {
    "deletable": true,
    "editable": true
   },
   "source": [
    "Vajon miért néznek így ki ezek a sajátfüggvények ? "
   ]
  },
  {
   "cell_type": "markdown",
   "metadata": {
    "deletable": true,
    "editable": true
   },
   "source": [
    "## Ritka mátrixok\n",
    "\n",
    "Egy $N\\times N$-es numpy arraynek $N^2$ eleme van, amelyből mindet el kell tárolnunk még akkor is, ha az adott helyen esetleg 0-s áll. A fizikában, illetve a mindennapi életből vett példákban is nagyon gyakori, hogy egy $N\\times N$-es mátrixnak nagyságrendileg csak $N$ db 0-tól különböző eleme van. Az ilyen mátrixokat ritka (sparse) mátrixoknak nevezzük, szemben az $N^2$ elemet tartalmazó sűrű (dense) mátrixokkal. Tárolás szempontjából mindenképpen sokkal kisebb helyet foglalnak, emellett a ritka mátrixok használata gyorsabb műveleteket, illetve algoritmusokat tesz lehetővé, így a futásidő szempontjából sem elhanyagolható a jelentőségük.\n",
    "\n",
    "Pythonban a *scipy* modul *sparse* almoduljában találunk többféle sparse osztályt is, melyek különbözőképpen reprezentálják azt a mátrixot, amelyet tárolni kívánunk.\n",
    "\n",
    "Három fontos dologra kell felhívunk a figyelmet:\n",
    "* scipy sparse mátrixokra a \\*-jel mátrixszorzást, és nem elemenkénti szorzatot jelent (mint a matrix-nál),\n",
    "* a numpy rutinjai **nem** működnek sparse típusú mátrixokon (ez fordítva is igaz),\n",
    "* érdemes a `%pylab inline` helyett np-ként importáni a numpy-t, illetve külön a scipy-t, nehogy összekeveredjenek a különböző osztályokra meghívható, de ugyanolyan nevű függvények."
   ]
  },
  {
   "cell_type": "code",
   "execution_count": 28,
   "metadata": {
    "collapsed": true,
    "deletable": true,
    "editable": true
   },
   "outputs": [],
   "source": [
    "from scipy import sparse as sp\n",
    "import numpy as np"
   ]
  },
  {
   "cell_type": "markdown",
   "metadata": {
    "deletable": true,
    "editable": true
   },
   "source": [
    "### Alosztályok\n",
    "\n",
    "*Nagyon jó angol nyelvű összefoglaló található a http://www.scipy-lectures.org/advanced/scipy_sparse/storage_schemes.html honlapon!*"
   ]
  },
  {
   "cell_type": "markdown",
   "metadata": {
    "deletable": true,
    "editable": true
   },
   "source": [
    "Készítsünk egy arrayből sparse mátrixot!"
   ]
  },
  {
   "cell_type": "code",
   "execution_count": 29,
   "metadata": {
    "collapsed": false,
    "deletable": true,
    "editable": true
   },
   "outputs": [
    {
     "data": {
      "text/plain": [
       "<3x3 sparse matrix of type '<class 'numpy.int64'>'\n",
       "\twith 2 stored elements in Compressed Sparse Row format>"
      ]
     },
     "execution_count": 29,
     "metadata": {},
     "output_type": "execute_result"
    }
   ],
   "source": [
    "sp.csr_matrix(np.array([[0,0,1],[1,0,0],[0,0,0]]))"
   ]
  },
  {
   "cell_type": "markdown",
   "metadata": {
    "deletable": true,
    "editable": true
   },
   "source": [
    "Látható, hogy az elkészült sparse mátrix is 3x3-as, de csak 2 elem, a 2 db 1-es van benne eltárolva.\n",
    "\n",
    "A használt sparse alosztály az egyik leggyakoribb, ún. compressed sparse row (**csr**) formátum. Ebben három numpy array tárolja az adatokat, az első a mátrixelemeket, a második az oszlopindexeket tartalmazza, a harmadik pedig megmondja, hányadik helyen kezdődik az előző két vektorban a mátrix egy új sora.\n",
    "\n",
    "![csr_matrix](https://www.karlrupp.net/wp-content/uploads/2016/02/csr_storage_sparse_marix.png)\n",
    "\n",
    "Készülhet arrayből, mint az előbb, de indíthatjuk üresen:"
   ]
  },
  {
   "cell_type": "code",
   "execution_count": 30,
   "metadata": {
    "collapsed": false,
    "deletable": true,
    "editable": true
   },
   "outputs": [
    {
     "data": {
      "text/plain": [
       "<3x4 sparse matrix of type '<class 'numpy.float64'>'\n",
       "\twith 0 stored elements in Compressed Sparse Row format>"
      ]
     },
     "execution_count": 30,
     "metadata": {},
     "output_type": "execute_result"
    }
   ],
   "source": [
    "A=sp.csr_matrix((3,4))\n",
    "A"
   ]
  },
  {
   "cell_type": "markdown",
   "metadata": {
    "deletable": true,
    "editable": true
   },
   "source": [
    "Elemeit a numpy-ban megszokott módon érhetjük el:"
   ]
  },
  {
   "cell_type": "code",
   "execution_count": 31,
   "metadata": {
    "collapsed": false,
    "deletable": true,
    "editable": true
   },
   "outputs": [
    {
     "name": "stderr",
     "output_type": "stream",
     "text": [
      "/opt/conda/lib/python3.5/site-packages/scipy/sparse/compressed.py:730: SparseEfficiencyWarning: Changing the sparsity structure of a csr_matrix is expensive. lil_matrix is more efficient.\n",
      "  SparseEfficiencyWarning)\n"
     ]
    }
   ],
   "source": [
    "A[0,1]=1\n",
    "A[2,2]=1"
   ]
  },
  {
   "cell_type": "markdown",
   "metadata": {
    "deletable": true,
    "editable": true
   },
   "source": [
    "Láthatjuk, hogy figyelmeztetést kaptunk: egy ilyen típusú mátrixba új adatot beírni költséges, hiszen be kell szúrni az adat-, illetve az oszlopindex-mátrixokba egy-egy elemet, illetve át kell írni egy bizonyos ponttól kezdve az összes sorkezdést jelző elemet a harmadik tömbben!\n",
    "\n",
    "Ebből is észrevehetjük, hogy különböző műveletekre különböző sparse osztályok lesznek jók, hiszen ha egy fix mátrixot olvasunk be, amit nem módosítunk a későbbiekben, akkor a csr adattípusnak ez a hátránya nem jön elő.\n",
    "\n",
    "A csr mátrixon használhatjuk a numpy-ban megszokott maszkolási és szeletelési módokat:"
   ]
  },
  {
   "cell_type": "code",
   "execution_count": 32,
   "metadata": {
    "collapsed": false,
    "deletable": true,
    "editable": true
   },
   "outputs": [
    {
     "data": {
      "text/plain": [
       "matrix([[ 1.,  1.]])"
      ]
     },
     "execution_count": 32,
     "metadata": {},
     "output_type": "execute_result"
    }
   ],
   "source": [
    "A[A>0]"
   ]
  },
  {
   "cell_type": "code",
   "execution_count": 33,
   "metadata": {
    "collapsed": false,
    "deletable": true,
    "editable": true
   },
   "outputs": [
    {
     "data": {
      "text/plain": [
       "<2x2 sparse matrix of type '<class 'numpy.float64'>'\n",
       "\twith 1 stored elements in Compressed Sparse Row format>"
      ]
     },
     "execution_count": 33,
     "metadata": {},
     "output_type": "execute_result"
    }
   ],
   "source": [
    "A[0:2,0:2]"
   ]
  },
  {
   "cell_type": "markdown",
   "metadata": {
    "deletable": true,
    "editable": true
   },
   "source": [
    "Mindegyik sparse osztály az ún. `spmatrix` osztály alosztálya, így a következő műveletek minden sparse mátrix esetén meghívhatók:"
   ]
  },
  {
   "cell_type": "code",
   "execution_count": 34,
   "metadata": {
    "collapsed": false,
    "deletable": true,
    "editable": true
   },
   "outputs": [
    {
     "data": {
      "text/plain": [
       "<4x3 sparse matrix of type '<class 'numpy.float64'>'\n",
       "\twith 2 stored elements in Compressed Sparse Column format>"
      ]
     },
     "execution_count": 34,
     "metadata": {},
     "output_type": "execute_result"
    }
   ],
   "source": [
    "A.T # transzponált"
   ]
  },
  {
   "cell_type": "code",
   "execution_count": 35,
   "metadata": {
    "collapsed": false,
    "deletable": true,
    "editable": true
   },
   "outputs": [
    {
     "data": {
      "text/plain": [
       "2"
      ]
     },
     "execution_count": 35,
     "metadata": {},
     "output_type": "execute_result"
    }
   ],
   "source": [
    "A.size # nem 0 elemek száma"
   ]
  },
  {
   "cell_type": "code",
   "execution_count": 36,
   "metadata": {
    "collapsed": false,
    "deletable": true,
    "editable": true
   },
   "outputs": [
    {
     "data": {
      "text/plain": [
       "(3, 4)"
      ]
     },
     "execution_count": 36,
     "metadata": {},
     "output_type": "execute_result"
    }
   ],
   "source": [
    "A.shape # dimenziók"
   ]
  },
  {
   "cell_type": "code",
   "execution_count": 37,
   "metadata": {
    "collapsed": false,
    "deletable": true,
    "editable": true
   },
   "outputs": [
    {
     "data": {
      "text/plain": [
       "matrix([[ 0.,  1.,  0.,  0.],\n",
       "        [ 0.,  0.,  0.,  0.],\n",
       "        [ 0.,  0.,  1.,  0.]])"
      ]
     },
     "execution_count": 37,
     "metadata": {},
     "output_type": "execute_result"
    }
   ],
   "source": [
    "A.todense() # átalakítás numpy arrayjé!"
   ]
  },
  {
   "cell_type": "markdown",
   "metadata": {
    "deletable": true,
    "editable": true
   },
   "source": [
    "Nézzünk meg néhány további sparse alosztályt!\n",
    "\n",
    "Hasznos lehet a **coo**, az ún. koordinátaformátum. Itt (i,j,érték) tripletekben vannak a nem 0 elemek eltárolva. Mivel gyakran ilyen lista formájában kapunk adatot, ez a formátum gyors beolvasást tesz lehetővé. Sajnos indexelni, szeletelni viszont nem lehet:"
   ]
  },
  {
   "cell_type": "code",
   "execution_count": 38,
   "metadata": {
    "collapsed": false,
    "deletable": true,
    "editable": true
   },
   "outputs": [
    {
     "ename": "TypeError",
     "evalue": "'coo_matrix' object is not subscriptable",
     "output_type": "error",
     "traceback": [
      "\u001b[1;31m---------------------------------------------------------------------------\u001b[0m",
      "\u001b[1;31mTypeError\u001b[0m                                 Traceback (most recent call last)",
      "\u001b[1;32m<ipython-input-38-a74810d42639>\u001b[0m in \u001b[0;36m<module>\u001b[1;34m()\u001b[0m\n\u001b[1;32m----> 1\u001b[1;33m \u001b[0mA\u001b[0m\u001b[1;33m.\u001b[0m\u001b[0mtocoo\u001b[0m\u001b[1;33m(\u001b[0m\u001b[1;33m)\u001b[0m\u001b[1;33m[\u001b[0m\u001b[1;36m0\u001b[0m\u001b[1;33m:\u001b[0m\u001b[1;36m2\u001b[0m\u001b[1;33m,\u001b[0m\u001b[1;36m0\u001b[0m\u001b[1;33m:\u001b[0m\u001b[1;36m2\u001b[0m\u001b[1;33m]\u001b[0m\u001b[1;33m\u001b[0m\u001b[0m\n\u001b[0m",
      "\u001b[1;31mTypeError\u001b[0m: 'coo_matrix' object is not subscriptable"
     ]
    }
   ],
   "source": [
    "A.tocoo()[0:2,0:2]"
   ]
  },
  {
   "cell_type": "markdown",
   "metadata": {
    "deletable": true,
    "editable": true
   },
   "source": [
    "Egy példa sor-, illetve oszlopindexekből történő konstrukcióra:"
   ]
  },
  {
   "cell_type": "code",
   "execution_count": 39,
   "metadata": {
    "collapsed": false,
    "deletable": true,
    "editable": true
   },
   "outputs": [
    {
     "data": {
      "text/plain": [
       "matrix([[0, 0, 0, 0, 1, 0, 0],\n",
       "        [0, 0, 2, 0, 0, 0, 0],\n",
       "        [0, 0, 0, 3, 0, 0, 0],\n",
       "        [0, 4, 0, 0, 0, 0, 0],\n",
       "        [5, 0, 0, 0, 0, 0, 0],\n",
       "        [0, 0, 0, 0, 0, 0, 6],\n",
       "        [0, 0, 0, 0, 0, 7, 0]])"
      ]
     },
     "execution_count": 39,
     "metadata": {},
     "output_type": "execute_result"
    }
   ],
   "source": [
    "rows=[0,1,2,3,4,5,6]\n",
    "cols=[4,2,3,1,0,6,5]\n",
    "data=[1,2,3,4,5,6,7]\n",
    "\n",
    "sp.coo_matrix((data,(rows,cols))).todense()"
   ]
  },
  {
   "cell_type": "markdown",
   "metadata": {
    "deletable": true,
    "editable": true
   },
   "source": [
    "A `coo_matrix()`-nak megadhatunk duplán is elemeket, ekkor viszont az ugyanazon a helyen levő értékeket össze fogja adni."
   ]
  },
  {
   "cell_type": "code",
   "execution_count": 40,
   "metadata": {
    "collapsed": false,
    "deletable": true,
    "editable": true
   },
   "outputs": [
    {
     "data": {
      "text/plain": [
       "matrix([[ 0,  0,  0,  0,  1,  0,  0],\n",
       "        [ 0,  0,  2,  0,  0,  0,  0],\n",
       "        [ 0,  0,  0,  3,  0,  0,  0],\n",
       "        [ 0,  4,  0,  0,  0,  0,  0],\n",
       "        [ 5,  0,  0,  0,  0,  0,  0],\n",
       "        [ 0,  0,  0,  0,  0,  0,  6],\n",
       "        [ 0,  0,  0,  0,  0, 12,  0]])"
      ]
     },
     "execution_count": 40,
     "metadata": {},
     "output_type": "execute_result"
    }
   ],
   "source": [
    "rows=[0,1,2,3,4,5,6,6]\n",
    "cols=[4,2,3,1,0,6,5,5]\n",
    "data=[1,2,3,4,5,6,7,5]\n",
    "\n",
    "sp.coo_matrix((data,(rows,cols))).todense()"
   ]
  },
  {
   "cell_type": "markdown",
   "metadata": {
    "deletable": true,
    "editable": true
   },
   "source": [
    "Sokszor például csak a főátló, vagy a főátló melletti mellékátlók tartalmazzák csak a nem 0 elemeket. Ezeknek a tárolására szolgál a **dia** alosztály."
   ]
  },
  {
   "cell_type": "code",
   "execution_count": 41,
   "metadata": {
    "collapsed": false,
    "deletable": true,
    "editable": true
   },
   "outputs": [],
   "source": [
    "D=sp.dia_matrix(np.diag(np.random.randint(1,4,(1,20))[0,:]))"
   ]
  },
  {
   "cell_type": "markdown",
   "metadata": {
    "deletable": true,
    "editable": true
   },
   "source": [
    "Itt a nem 0 elemeket tartalmazó átlók számát, az átlók elemeit, illetve az átlók helyzetét tárolja el az osztály. A helyzetet a főátlótól mérjük, melyhez a 0 tartozik, a főátló fölött eggyel a +1, alatta a -1 stb. helyzetű átlók jönnek."
   ]
  },
  {
   "cell_type": "markdown",
   "metadata": {
    "deletable": true,
    "editable": true
   },
   "source": [
    "Ebben a jelölésben egy egységmátrix így készül:"
   ]
  },
  {
   "cell_type": "code",
   "execution_count": 42,
   "metadata": {
    "collapsed": false,
    "deletable": true,
    "editable": true
   },
   "outputs": [
    {
     "data": {
      "text/plain": [
       "matrix([[ 1.,  0.,  0.,  0.,  0.,  0.,  0.,  0.,  0.,  0.],\n",
       "        [ 0.,  1.,  0.,  0.,  0.,  0.,  0.,  0.,  0.,  0.],\n",
       "        [ 0.,  0.,  1.,  0.,  0.,  0.,  0.,  0.,  0.,  0.],\n",
       "        [ 0.,  0.,  0.,  1.,  0.,  0.,  0.,  0.,  0.,  0.],\n",
       "        [ 0.,  0.,  0.,  0.,  1.,  0.,  0.,  0.,  0.,  0.],\n",
       "        [ 0.,  0.,  0.,  0.,  0.,  1.,  0.,  0.,  0.,  0.],\n",
       "        [ 0.,  0.,  0.,  0.,  0.,  0.,  1.,  0.,  0.,  0.],\n",
       "        [ 0.,  0.,  0.,  0.,  0.,  0.,  0.,  1.,  0.,  0.],\n",
       "        [ 0.,  0.,  0.,  0.,  0.,  0.,  0.,  0.,  1.,  0.],\n",
       "        [ 0.,  0.,  0.,  0.,  0.,  0.,  0.,  0.,  0.,  1.]])"
      ]
     },
     "execution_count": 42,
     "metadata": {},
     "output_type": "execute_result"
    }
   ],
   "source": [
    "sp.dia_matrix((np.ones((10,)),0),shape=(10,10)).todense()"
   ]
  },
  {
   "cell_type": "markdown",
   "metadata": {
    "deletable": true,
    "editable": true
   },
   "source": [
    "Egy csupa 1-eket tartalmazó felső háromszögmátrix pedig:"
   ]
  },
  {
   "cell_type": "code",
   "execution_count": 43,
   "metadata": {
    "collapsed": false,
    "deletable": true,
    "editable": true
   },
   "outputs": [
    {
     "data": {
      "text/plain": [
       "matrix([[ 1.,  1.,  1.,  1.,  1.,  1.,  1.,  1.,  1.,  1.],\n",
       "        [ 0.,  1.,  1.,  1.,  1.,  1.,  1.,  1.,  1.,  1.],\n",
       "        [ 0.,  0.,  1.,  1.,  1.,  1.,  1.,  1.,  1.,  1.],\n",
       "        [ 0.,  0.,  0.,  1.,  1.,  1.,  1.,  1.,  1.,  1.],\n",
       "        [ 0.,  0.,  0.,  0.,  1.,  1.,  1.,  1.,  1.,  1.],\n",
       "        [ 0.,  0.,  0.,  0.,  0.,  1.,  1.,  1.,  1.,  1.],\n",
       "        [ 0.,  0.,  0.,  0.,  0.,  0.,  1.,  1.,  1.,  1.],\n",
       "        [ 0.,  0.,  0.,  0.,  0.,  0.,  0.,  1.,  1.,  1.],\n",
       "        [ 0.,  0.,  0.,  0.,  0.,  0.,  0.,  0.,  1.,  1.],\n",
       "        [ 0.,  0.,  0.,  0.,  0.,  0.,  0.,  0.,  0.,  1.]])"
      ]
     },
     "execution_count": 43,
     "metadata": {},
     "output_type": "execute_result"
    }
   ],
   "source": [
    "sp.dia_matrix((np.ones((10,10)),range(0,10)),shape=(10,10)).todense()"
   ]
  },
  {
   "cell_type": "markdown",
   "metadata": {
    "deletable": true,
    "editable": true
   },
   "source": [
    "Érdemes még megemlíteni a **lil** osztályt, amely egy hosszú listában tárolja a sorok listába rendezett nem 0 elemeit, illetve egy másik sorok számányi hosszú listában ezen nem 0 elemek oszlopindexeit. A **csc** pedig a **csr** oszlopalapú párja."
   ]
  },
  {
   "cell_type": "markdown",
   "metadata": {
    "deletable": true,
    "editable": true
   },
   "source": [
    "**Összefoglalásul** talán annyit érdemes megjegyezni hogy ritka mátrixokat általában kényelmes a **coo** illetve a **dia** alosztályban *létrehozni*, de ha *műveleteket* akarunk rajtuk végrehajtani akkor a **csr** (vagy **csc**) osztályba érdemes őket átkonvertálni!"
   ]
  },
  {
   "cell_type": "markdown",
   "metadata": {
    "deletable": true,
    "editable": true
   },
   "source": [
    "### Sparse függvények"
   ]
  },
  {
   "cell_type": "markdown",
   "metadata": {
    "deletable": true,
    "editable": true
   },
   "source": [
    "Hasonló néven és szintaxissal hívhatók, mint a numpyban. A legfontosabbak elérési útvonalai és nevei:"
   ]
  },
  {
   "cell_type": "code",
   "execution_count": 44,
   "metadata": {
    "collapsed": true,
    "deletable": true,
    "editable": true
   },
   "outputs": [],
   "source": [
    "from scipy.sparse.linalg import spsolve,eigs"
   ]
  },
  {
   "cell_type": "markdown",
   "metadata": {
    "deletable": true,
    "editable": true
   },
   "source": [
    "Ha egy lineáris egyenletrendszerben szereplő mátrix ritka, akkor az egyenlet rendszert a `scipy.sparse.linalg`  modul `spsolve` függvénye segítségével igen gyorsan (a hagyományos `solve`-nál jóval gyorsabban) tudjuk megoldani.\n",
    "Az `spsolve` szintaxisa alapvetően a `solve` szintaxisát utánozza. Lássunk erre egy egyszerű példát:"
   ]
  },
  {
   "cell_type": "code",
   "execution_count": 45,
   "metadata": {
    "collapsed": false,
    "deletable": true,
    "editable": true
   },
   "outputs": [
    {
     "data": {
      "text/plain": [
       "matrix([[ 0.,  1.,  0.,  0.,  0.,  0.,  0.,  0.,  0.,  0.],\n",
       "        [ 1.,  0.,  1.,  0.,  0.,  0.,  0.,  0.,  0.,  0.],\n",
       "        [ 0.,  1.,  0.,  1.,  0.,  0.,  0.,  0.,  0.,  0.],\n",
       "        [ 0.,  0.,  1.,  0.,  1.,  0.,  0.,  0.,  0.,  0.],\n",
       "        [ 0.,  0.,  0.,  1.,  0.,  1.,  0.,  0.,  0.,  0.],\n",
       "        [ 0.,  0.,  0.,  0.,  1.,  0.,  1.,  0.,  0.,  0.],\n",
       "        [ 0.,  0.,  0.,  0.,  0.,  1.,  0.,  1.,  0.,  0.],\n",
       "        [ 0.,  0.,  0.,  0.,  0.,  0.,  1.,  0.,  1.,  0.],\n",
       "        [ 0.,  0.,  0.,  0.,  0.,  0.,  0.,  1.,  0.,  1.],\n",
       "        [ 0.,  0.,  0.,  0.,  0.,  0.,  0.,  0.,  1.,  0.]])"
      ]
     },
     "execution_count": 45,
     "metadata": {},
     "output_type": "execute_result"
    }
   ],
   "source": [
    "K=sp.dia_matrix((ones(10),1),shape=(10,10));K=K+K.T; # ez egy sparse matrix\n",
    "K.todense()"
   ]
  },
  {
   "cell_type": "code",
   "execution_count": 46,
   "metadata": {
    "collapsed": true,
    "deletable": true,
    "editable": true
   },
   "outputs": [],
   "source": [
    "b=rand(10); # ez egy vektor"
   ]
  },
  {
   "cell_type": "markdown",
   "metadata": {
    "deletable": true,
    "editable": true
   },
   "source": [
    "Oldjuk meg a $\\mathbf{K}x=b$ egyenletrendszert most az `spsolve`-al"
   ]
  },
  {
   "cell_type": "code",
   "execution_count": 47,
   "metadata": {
    "collapsed": false,
    "deletable": true,
    "editable": true
   },
   "outputs": [
    {
     "data": {
      "text/plain": [
       "array([-0.28878578,  0.53054261,  0.47671641, -0.13474389, -0.30382861,\n",
       "        0.66185352,  0.37281731, -0.61544588,  0.40815713,  1.41928137])"
      ]
     },
     "execution_count": 47,
     "metadata": {},
     "output_type": "execute_result"
    }
   ],
   "source": [
    "spsolve(K,b)"
   ]
  },
  {
   "cell_type": "markdown",
   "metadata": {
    "deletable": true,
    "editable": true
   },
   "source": [
    "A másik gyakran előforduló lineáris algebrai probléma melyben a ritka mátrixok használata előnyt jelent a sajátérték probléma. Ritka mátrixok sajátértékeit a `scipy.sparse.linalg` modul `eigs` függvénye segítségével találhatjuk meg."
   ]
  },
  {
   "cell_type": "markdown",
   "metadata": {
    "deletable": true,
    "editable": true
   },
   "source": [
    "Külön érdemes figyelni arra, hogy az `eigs` csak az első néhány sajátértéket, illetve sajátvektort adja meg. Azt, hogy melyik ez az \"első néhány\", különböző, a sajátértékekre vontakozó kritériumok alapján dönthetjük el.\n",
    "\n",
    "Választhatjuk például a legnagyobb abszolút értékű sajátértékekhez tartozó sajátvektort (ekkor amúgy a híres magyar matematikusról elnevezett [Lánczos-algoritmussal](https://en.wikipedia.org/wiki/Lanczos_algorithm) iterál a függvény a megfelelő vektorhoz):"
   ]
  },
  {
   "cell_type": "code",
   "execution_count": 48,
   "metadata": {
    "collapsed": false,
    "deletable": true,
    "editable": true
   },
   "outputs": [
    {
     "name": "stdout",
     "output_type": "stream",
     "text": [
      "[ 4.4632309+0.j] \n",
      " [[-0.32849912+0.j -0.50598365+0.j -0.38342042+0.j -0.69932658+0.j]]\n"
     ]
    }
   ],
   "source": [
    "A=sp.coo_matrix(np.array([[0,0,2,1],[3,1,2,0],[0,2,0,1],[6,0,3,0]],dtype=\"float\")).todense()\n",
    "\n",
    "w,v=eigs(A,k=1,which=\"LM\") # LM = largest magnitude\n",
    "print(w,\"\\n\",v.T)"
   ]
  },
  {
   "cell_type": "markdown",
   "metadata": {
    "deletable": true,
    "editable": true
   },
   "source": [
    "Vagy a két legkisebb valós résszel rendelkező sajátértékhez tartozó sajátvektort."
   ]
  },
  {
   "cell_type": "code",
   "execution_count": 49,
   "metadata": {
    "collapsed": false,
    "deletable": true,
    "editable": true
   },
   "outputs": [
    {
     "name": "stdout",
     "output_type": "stream",
     "text": [
      "[-2.09686914+1.06013948j -2.09686914-1.06013948j] \n",
      " [[ 0.26042298-0.05117194j -0.03241182-0.31098373j -0.17560382+0.54111535j\n",
      "  -0.14061587-0.69884515j]\n",
      " [ 0.26042298+0.05117194j -0.03241182+0.31098373j -0.17560382-0.54111535j\n",
      "  -0.14061587+0.69884515j]]\n"
     ]
    }
   ],
   "source": [
    "w,v=eigs(A,k=2,which=\"SR\") # SR = smallest real part\n",
    "print(w,\"\\n\",v.T)"
   ]
  },
  {
   "cell_type": "markdown",
   "metadata": {
    "deletable": true,
    "editable": true
   },
   "source": [
    "### Kron"
   ]
  },
  {
   "cell_type": "markdown",
   "metadata": {
    "deletable": true,
    "editable": true
   },
   "source": [
    "Gyakran találkozhatunk olyan mátrixokkal, amelyeket blokkok megfelelő súllyal vett ismétléséből rakhatunk össze. Ilyenkor jöhet jól az ún. [Kronecker-szorzat](https://en.wikipedia.org/wiki/Kronecker_product) a konstrukcióra. A numpy és a scipy is tartalmaz külön `kron` függvényt, az alábbiakban a scipy `kron`-jának működését mutatjuk be."
   ]
  },
  {
   "cell_type": "code",
   "execution_count": 50,
   "metadata": {
    "collapsed": true,
    "deletable": true,
    "editable": true
   },
   "outputs": [],
   "source": [
    "from scipy.sparse import kron"
   ]
  },
  {
   "cell_type": "markdown",
   "metadata": {
    "deletable": true,
    "editable": true
   },
   "source": [
    "Két vektor Kronecker-szorzata a vektoszámításról ismert diadikus szorzat lesz:"
   ]
  },
  {
   "cell_type": "code",
   "execution_count": 51,
   "metadata": {
    "collapsed": false,
    "deletable": true,
    "editable": true
   },
   "outputs": [
    {
     "data": {
      "text/plain": [
       "matrix([[ 2,  4, 10, 14],\n",
       "        [ 4,  8, 20, 28],\n",
       "        [ 2,  4, 10, 14],\n",
       "        [ 4,  8, 20, 28]], dtype=int64)"
      ]
     },
     "execution_count": 51,
     "metadata": {},
     "output_type": "execute_result"
    }
   ],
   "source": [
    "a=np.array([1,2,5,7])\n",
    "b=np.array([[2],[4],[2],[4]])\n",
    "kron(a,b).todense()"
   ]
  },
  {
   "cell_type": "markdown",
   "metadata": {
    "deletable": true,
    "editable": true
   },
   "source": [
    "Egy vektor és egy mátrix Kronekker-szorzata az alábbiak szerint alakul:"
   ]
  },
  {
   "cell_type": "code",
   "execution_count": 52,
   "metadata": {
    "collapsed": false,
    "deletable": true,
    "editable": true
   },
   "outputs": [],
   "source": [
    "a=np.diag(np.array([1,2,3,4]))\n",
    "b=np.array([[1,1],[1,1]])"
   ]
  },
  {
   "cell_type": "code",
   "execution_count": 53,
   "metadata": {
    "collapsed": false,
    "deletable": true,
    "editable": true
   },
   "outputs": [
    {
     "data": {
      "text/plain": [
       "matrix([[1, 1, 0, 0, 0, 0, 0, 0],\n",
       "        [1, 1, 0, 0, 0, 0, 0, 0],\n",
       "        [0, 0, 2, 2, 0, 0, 0, 0],\n",
       "        [0, 0, 2, 2, 0, 0, 0, 0],\n",
       "        [0, 0, 0, 0, 3, 3, 0, 0],\n",
       "        [0, 0, 0, 0, 3, 3, 0, 0],\n",
       "        [0, 0, 0, 0, 0, 0, 4, 4],\n",
       "        [0, 0, 0, 0, 0, 0, 4, 4]], dtype=int64)"
      ]
     },
     "execution_count": 53,
     "metadata": {},
     "output_type": "execute_result"
    }
   ],
   "source": [
    "kron(a,b).todense()"
   ]
  },
  {
   "cell_type": "markdown",
   "metadata": {
    "deletable": true,
    "editable": true
   },
   "source": [
    "Végül két mátrix Kronekker-szorzatára egy példa:"
   ]
  },
  {
   "cell_type": "code",
   "execution_count": 54,
   "metadata": {
    "collapsed": false,
    "deletable": true,
    "editable": true
   },
   "outputs": [
    {
     "data": {
      "text/plain": [
       "matrix([[ 1.,  2.,  0.,  0.,  0.,  0.],\n",
       "        [ 3.,  4.,  0.,  0.,  0.,  0.],\n",
       "        [ 0.,  0.,  1.,  2.,  0.,  0.],\n",
       "        [ 0.,  0.,  3.,  4.,  0.,  0.],\n",
       "        [ 0.,  0.,  0.,  0.,  1.,  2.],\n",
       "        [ 0.,  0.,  0.,  0.,  3.,  4.]])"
      ]
     },
     "execution_count": 54,
     "metadata": {},
     "output_type": "execute_result"
    }
   ],
   "source": [
    "kron(eye(3),np.array([[1,2],[3,4]])).todense()"
   ]
  },
  {
   "cell_type": "markdown",
   "metadata": {
    "deletable": true,
    "editable": true
   },
   "source": [
    "Figyelem a Kronekker-szorzat érzékeny a szorzó tényezők sorrendjére!"
   ]
  },
  {
   "cell_type": "code",
   "execution_count": 55,
   "metadata": {
    "collapsed": false,
    "deletable": true,
    "editable": true
   },
   "outputs": [
    {
     "data": {
      "text/plain": [
       "matrix([[ 1.,  0.,  0.,  2.,  0.,  0.],\n",
       "        [ 0.,  1.,  0.,  0.,  2.,  0.],\n",
       "        [ 0.,  0.,  1.,  0.,  0.,  2.],\n",
       "        [ 3.,  0.,  0.,  4.,  0.,  0.],\n",
       "        [ 0.,  3.,  0.,  0.,  4.,  0.],\n",
       "        [ 0.,  0.,  3.,  0.,  0.,  4.]])"
      ]
     },
     "execution_count": 55,
     "metadata": {},
     "output_type": "execute_result"
    }
   ],
   "source": [
    "kron(np.array([[1,2],[3,4]]),eye(3)).todense()"
   ]
  }
 ],
 "metadata": {
  "anaconda-cloud": {},
  "hide_input": false,
  "kernelspec": {
   "display_name": "Python 3",
   "language": "python",
   "name": "python3"
  },
  "language_info": {
   "codemirror_mode": {
    "name": "ipython",
    "version": 3
   },
   "file_extension": ".py",
   "mimetype": "text/x-python",
   "name": "python",
   "nbconvert_exporter": "python",
   "pygments_lexer": "ipython3",
   "version": "3.5.2"
  },
  "name": "linalg.ipynb"
 },
 "nbformat": 4,
 "nbformat_minor": 0
}
