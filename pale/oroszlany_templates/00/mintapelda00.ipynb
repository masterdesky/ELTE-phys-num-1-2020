{
 "cells": [
  {
   "cell_type": "markdown",
   "metadata": {},
   "source": [
    "# Markdown cellák\n",
    "\n",
    "A [Markdown](https://en.wikipedia.org/wiki/Markdown) egy \"könnyen\" írható, \"könnyen\" olvasható webes formátum, mely tipikusan böngészőben megjelenített szövegek vagy dokumentumok gyors szerkesztését teszi lehetővé. Az órák során használt [jupyter](http://jupyter.org/) keretrendszer Markdown formátumú celláiba legtöbször az adott programozási témával kapcsolatos feladatok leírása kerül. Ezen kívül ha a feladat szövege megköveteli, hogy szavakban fejezzük ki a program megírása során szerzett tapasztalatainkat, akkor ezeket a gondolatokat is Markdown formátumú cellákba kell leírni! \n",
    "Az alábbiakban tekintsük át a Markdown-formátum alapjait.\n",
    "\n",
    "---"
   ]
  },
  {
   "cell_type": "markdown",
   "metadata": {},
   "source": [
    "## Szövegszerkesztés"
   ]
  },
  {
   "cell_type": "markdown",
   "metadata": {},
   "source": [
    "### Címsorok\n",
    "\n",
    "Egy teljes notebook vagy egy szövegrész címeit Markdownban a \\#-jellel jelöljük. Egy \\# a teljes notebook címét, két \\# egy fejezet címét, egyre több \\# pedig a dokumentum tagolásának egyre mélyebb szerkezeti egységeit jelöli. "
   ]
  },
  {
   "cell_type": "markdown",
   "metadata": {},
   "source": [
    "### Szöveg formátuma\n",
    "\n",
    "Markdownban lehetőség van egyes szavak vagy szövegrészletek kiemelésére. Ha egy szövegrészt egy \\*-al veszünk körbe, akkor *dőlt* lesz, ha két \\*-t használunk, akkor **vastagon** szedetté válnak a betűk. Ha egy szövegrészt két \\~~ jel közé teszünk, akkor az a rész ~~áthúzásra kerül~~."
   ]
  },
  {
   "cell_type": "markdown",
   "metadata": {},
   "source": [
    "### Listák \n",
    "\n",
    "Ha - jellel kezdünk sorokat Markdown cellákban, akkor azt a Markdown-értelmező listába fogja rendezni:\n",
    "\n",
    "- ez elment vadászni\n",
    "- ez meglőtte\n",
    "- ez hazavitte\n",
    "\n",
    "Ha számokkal kedjük a sorokat, akkor számozott listát kapunk:\n",
    "\n",
    " 1. megérett a meggy \n",
    " 2. csipkebokor vessző\n",
    " 3. te leszel a párom"
   ]
  },
  {
   "cell_type": "markdown",
   "metadata": {},
   "source": [
    "### Táblázatok\n",
    "\n",
    "Markdown-ban |, illetve - karakterek segítségével írhatunk táblázatokat. Például így:\n",
    "\n",
    "**Név**|**Oszályzat**\n",
    "-------|-------------\n",
    "Pisti  | 4\n",
    "Géza   | 3\n",
    "Gizi   | 5"
   ]
  },
  {
   "cell_type": "markdown",
   "metadata": {},
   "source": [
    "### Képek, linkek\n",
    "\n",
    "A feladatok megírása során szükség lehet arra, hogy bizonyos kérdéseknek utánanézzünk az interneten. Ha egy hasznos leírást találunk valahol, akkor arra Markdown-ban a következőképpen hivatkozhatunk: [link neve](http://www.hasznos-link.hu). \n",
    "\n",
    "Ha az interneten vagy a dokumentum saját könyvtárstruktúrájában lévő képet akarunk Markdown típusú cellában megjeleníteni, azt pedig így tehetjük meg:\n",
    "![macska](http://a.deviantart.net/avatars/n/y/nyancat.gif?6)\n",
    "\n",
    "---"
   ]
  },
  {
   "cell_type": "markdown",
   "metadata": {},
   "source": [
    "## Képletek írása\n",
    "Néhány feladat értelmezésénél szükséges lehet a feladat megoldásához vezető matematikai formulák ismertetése. \n",
    "Ha Markdown-ban \\$ \\$ -jelek közé teszünk [latex](http://www.ntg.nl/doc/nemeth/lrovid.pdf) szintaxisú szöveget, akkor szép matematikai képleteket tudunk írni, például ilyeneket, hogy $\\sin(\\alpha+\\beta)=\\sin(\\alpha)\\cos(\\beta)+\\cos(\\alpha)\\sin(\\beta)$. Ha egy képletet nagyon ki akarunk emelni a szövegből, akkor tegyük két \\$ jel közé! $$E=mc^2.$$\n",
    "Tekintsünk át néhány további képletformázással kapcsolatos példát:"
   ]
  },
  {
   "cell_type": "markdown",
   "metadata": {},
   "source": [
    "1. Amint a fenti példában is láttuk, görög betűket egy \\\\ jellel kezdünk, és angolul nevezzük őket meg. Például $\\alpha$,$\\beta$,$\\gamma$,$\\delta$.\n",
    "2. Az ismertebb matematikai függvényeket is lehet \\\\-rel kezdeni, de nem muszáj. Figyeljük meg a különbséget: $\\sin(x)$ és $sin(x)$!\n",
    "3. Így írhatunk alsó és felső indexeket: $a_i$, $c^2$.\n",
    "4. Így pedig törteket $\\frac{1}{2}$.\n",
    "5. Egy összegzés: $\\mathrm{e}^x=\\sum_n \\frac{x^n}{n!}$. Itt a \\\\mathrm\\{\\} kifejezés segítségével az $e$ karakter dőlt jellegét tudtuk megszüntetni.\n",
    "6. Figyeljük meg a különbséget, ha kettő \\$\\$-t használunk: $$\\mathrm{e}^x=\\sum_n \\frac{x^n}{n!} $$\n",
    "7. Integrálni, deriválni és parciálisan deriválni pedig így tudunk: $$\\int \\mathrm{e}^x \\mathrm{d} x=\\mathrm{e}^x+C$$ $$\\frac{\\mathrm{d}\\mathrm{e}^x}{ \\mathrm{d} x}=\\mathrm{e}^x$$ $$\\frac{\\partial\\mathrm{e}^x}{ \\partial x}=\\partial_x \\mathrm{e}^x=\\mathrm{e}^x$$ \n",
    "8. Itt egy pár példa vastag betűs vektorokra $$\\mathbf{a}\\cdot\\mathbf{b}=\\sum_{i=1}^3 a_ib_i.$$\n",
    "9. Itt pedig egy példa felülvonásra $$\\overline{x}=\\frac{1}{N}\\sum_{i=1}^Nx_i.$$\n",
    "10. Gyökjelet pedig így lehet írni $\\gamma=\\sqrt{1-v^2/c^2}$.\n",
    "\n",
    "Végül pedig egy mindenkit izgató kérdés:\n",
    "\n",
    "$$\\frac{1}{2}x+b_u\\cdot x=?$$"
   ]
  },
  {
   "cell_type": "markdown",
   "metadata": {
    "collapsed": true
   },
   "source": [
    "# Hasznos linkek\n",
    "\n",
    "- [Markdown Cheatsheet](https://github.com/adam-p/markdown-here/wiki/Markdown-Cheatsheet)\n",
    "- [Latex Mathematical Symbols](http://www.auburn.edu/~tamtiny/Symbols.pdf)"
   ]
  }
 ],
 "metadata": {
  "anaconda-cloud": {},
  "hide_input": false,
  "kernelspec": {
   "display_name": "Python 3",
   "language": "python",
   "name": "python3"
  },
  "language_info": {
   "codemirror_mode": {
    "name": "ipython",
    "version": 3
   },
   "file_extension": ".py",
   "mimetype": "text/x-python",
   "name": "python",
   "nbconvert_exporter": "python",
   "pygments_lexer": "ipython3",
   "version": "3.6.3"
  },
  "latex_envs": {
   "bibliofile": "biblio.bib",
   "cite_by": "apalike",
   "current_citInitial": 1,
   "eqLabelWithNumbers": true,
   "eqNumInitial": 0
  },
  "name": "mintapelda00.ipynb",
  "toc": {
   "toc_cell": false,
   "toc_number_sections": true,
   "toc_threshold": 6,
   "toc_window_display": false
  }
 },
 "nbformat": 4,
 "nbformat_minor": 1
}
