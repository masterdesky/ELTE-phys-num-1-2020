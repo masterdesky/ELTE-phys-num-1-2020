{
 "cells": [
  {
   "cell_type": "markdown",
   "metadata": {},
   "source": [
    "# Feladatok\n",
    "- Minden feladatot a feladatszámnak megfelelő számú megoldásnotebookban oldj meg. Azaz az első feladatot az `1_feladat.ipynb` notebookban.\n",
    "- A halálfejes (☠) feladatokhoz, hozz létre a kötelező feladatokhoz hasonlóan egy új notebookot a MEGOLDASOK könyvtárban.\n",
    "- Csak azok a feladatok kerülnek elbírálásra, amelyek a MEGOLDASOK mappában vannak!\n",
    "- A megoldás tartalmazza a megoldandó feladat szövegét a megoldásnotebook első markdown cellájában!\n",
    "- Kommentekkel, illetve markdown cellákkal magyarázd, hogy éppen mit csinál az adott kódrészlet!\n",
    "- Magyarázat nélkül a beküldött feladatok csak fél feladatnak számítanak!\n",
    "- Az elkészített ábrák minden esetben rendelkezzenek ábrafeliratokkal (cím, tengelyfeliratok és  −  amennyiben indokolt  − jelmagyarázat)! \n",
    "\n",
    "**Amennyiben a beadott ábrákon nincsenek feliratok, az adott feladat automatikusan csak fél feladatnak számít!**\n",
    "\n",
    "----\n"
   ]
  },
  {
   "cell_type": "markdown",
   "metadata": {
    "run_control": {
     "frozen": false,
     "read_only": false
    }
   },
   "source": [
    "# 1. feladat\n",
    "### Egyszerű plot\n",
    "\n",
    "Írj egy függvényt, ami kiszámolja a következő értéket egy bemeneti `x` értékből: $$\\frac{x^2}{e^x \\cdot tan(x)}$$\n",
    "\n",
    "\n",
    "- Ábrázold -2 és 2 között 50 pontban (egyenletes mintavételezéssel) a fent leírt függvényt. \n",
    "- Az ábrádnak legyen címe és legyenek tengelyfeliratai (ezeket te választod meg). \n",
    "- Az adatokat \"mediumaquamarine\" színű telt csillagokkal ábrázold. \n",
    "- A csillagok mérete legyen 12-es. \n",
    "- Az ábrán kék nyíllal jelöld meg a lokális minimum helyét (\"lokális minimum\" felirattal, 20 pontos szöveggel). A lokális minimum helyét elég a kiszámított numerikus értékek alapján meghatározni.\n",
    "\n",
    "A kapott ábrát mentsd ki \"plot.jpg\" néven, majd egy ezt követő markdown cellába töltsd is be!"
   ]
  },
  {
   "cell_type": "markdown",
   "metadata": {
    "run_control": {
     "frozen": false,
     "read_only": false
    }
   },
   "source": [
    "# 2. feladat\n",
    "### Egyszerű kétváltozós függvény - I.\n",
    "\n",
    "- Ábrázold `pcolor` használatával az $$ f(x,y)=e^{-(x-1)^2-(y+1.5)^2}+\\cos(x^3-3y^2) $$ függvényt az $x\\in[-3,3],\\  y\\in[-3,3]$ tartományban! A színskála 'magma' legyen és készíts színmagyarázatot (`colorbar`-t)!\n",
    "\n",
    "- Jelöld meg ugyanezen a képen azokat a pontokat az $(x-y)$ síkon, melyekre a fent definiált $f(x,y)$ függvény a $-0.25$ és $0.5$ értékeket veszi fel! Használd a `contour` függvényt! Legyen a kontúrvonalakra felírva a szintjük is!\n",
    "\n",
    "- Az ábrádnak legyen címe, és tengelyfeliratai!"
   ]
  },
  {
   "cell_type": "markdown",
   "metadata": {
    "run_control": {
     "frozen": false,
     "read_only": false
    }
   },
   "source": [
    "# 3. feladat\n",
    "\n",
    "### 3D-s ábrák - I.\n",
    "\n",
    "Ábrázoljuk az alábbi, paraméteres alakban megadott térbeli görbét:\n",
    "\n",
    "\\begin{align} \n",
    "x&=\\sin(t) + 2 \\sin (2t),\\\\\n",
    "y&=\\cos(t) - 2 \\cos (2t),\\\\\n",
    "z&=-\\sin(3t).\n",
    "\\end{align}\n",
    "\n",
    "- A $t$ paramétert $t\\in[0,2\\pi]$ intervallumban vegyük fel! Készítsünk képet két különböző nézőpontból!\n",
    "- Mindkét ábrán szaggatott vonallal rajzolj, és a vonalvastagság legyen 3-as.\n",
    "- Az ábráknak legyenek címei és tengelyfeliratai!"
   ]
  },
  {
   "cell_type": "markdown",
   "metadata": {
    "run_control": {
     "frozen": false,
     "read_only": false
    }
   },
   "source": [
    "# 4. feladat\n",
    "\n",
    "### Interaktív ábrák I- Angry Bird\n",
    "\n",
    "Készítsünk egy olyan interaktív ábrát, amely egy [ferde hajítás](https://hu.wikipedia.org/wiki/Ferde_haj%C3%ADt%C3%A1s#Elmozdul.C3.A1s) trajektóriáját rajzolja ki (elmozdulás-magasság)! \n",
    "\n",
    "- A hajítást a földről felfelé végezzük, a görbét addig ábrázoljuk csak amíg a test földet nem ér.\n",
    "- Legyen két, csúszkákkal változtatható paraméter: a kezdeti szög (fokban megadva) és a kezdősebesség ($\\frac{m}{s}$)! \n",
    "- Jelöljük a pálya maximális magasságú pontját egy piros ponttal!\n",
    "- Az ábrának legyen tengelyfelirata és címe is (külön figyeljünk a mértékegységekre is mindenhol)!"
   ]
  },
  {
   "cell_type": "markdown",
   "metadata": {
    "run_control": {
     "frozen": false,
     "read_only": false
    }
   },
   "source": [
    "# 5. feladat\n",
    "### Plotly - I.\n",
    "\n",
    "Készíts a `plotly` modul segítségével ábrát.\n",
    "Az ábrán egy síkbeli paraméteres görbe legyen melynek koordinátái az $$x(t)=sin(t),$$ $$y(t)=t^3,$$ $$t\\in[0,\\pi]$$ egyenletek által definiáltak.\n",
    "\n",
    "- Az adatok folytonos vonallal jelenjenek meg.\n",
    "- Legyen cím és tengelyfelirat is."
   ]
  },
  {
   "cell_type": "markdown",
   "metadata": {
    "run_control": {
     "frozen": false,
     "read_only": false
    }
   },
   "source": [
    "# ☠ 6. feladat\n",
    "### 3D-s ábrák - II.\n",
    "\n",
    "Ábrázoljuk az alábbi paraméteresen megadott felületet:\n",
    "\n",
    "\\begin{align}\n",
    "x&= (2 + \\cos (\\theta))\\cos{(\\varphi)}, \\\\\n",
    "y&= (2 + \\cos (\\theta))\\sin{(\\varphi)}, \\\\\n",
    "z&=  \\sin( \\theta).\n",
    "\\end{align}\n",
    "\n",
    "- A felület paraméterei az $\\theta,\\varphi\\in[0,2\\pi]$ intervallumban fussanak!\n",
    "- Az ábra színskálája a \"viridis\" legyen!\n",
    "- Minden ábrádnak legyen tengelyfelirata és címe!\n",
    "\n",
    "A `matplotlib` vagy a `plotly` könyvtárak bármelyikét használhatod!"
   ]
  },
  {
   "cell_type": "markdown",
   "metadata": {
    "run_control": {
     "frozen": false,
     "read_only": false
    }
   },
   "source": [
    "# ☠ 7. feladat\n",
    "### plotly - II.\n",
    "\n",
    "A `plotly` csomag segítségével ábrázold azt a paraméteres felületet melynek egyenlete \n",
    "\n",
    "\\begin{align}\n",
    "x(s,t)&=[1+s\\cos(t/2)]\\cos(t),\\\\\n",
    "y(s,t)&=[1+s\\cos(t/2)]\\sin(t),\\\\\n",
    "z(s,t)&=s\\sin(t/2).\n",
    "\\end{align}\n",
    "\n",
    "a paraméterek a $s\\in[-1/4,1/4],t\\in[0,2\\pi]$ paramétertatományon fussanak végig. A felület minden pontjában ábrázoljuk a felület [normál vektorát](http://mathworld.wolfram.com/NormalVector.html)!\n",
    "Milyen furcsa tulajdonsága van ennek a felületnek? "
   ]
  },
  {
   "cell_type": "markdown",
   "metadata": {
    "run_control": {
     "frozen": false,
     "read_only": false
    }
   },
   "source": [
    "# ☠ 8. feladat\n",
    "### Interaktív ábrák II\n",
    "Készíts egy interaktív ábrát mely egy egység sugarú kört ábrázol melybe egy szabályos $N$ csúcsú sokszög van rajzolva. $N$ értékét egy csúszka segítségével lehessen változtatni. A kör közepébe írjuk bele a sokszög kerületének a hosszának felét!\n"
   ]
  },
  {
   "cell_type": "markdown",
   "metadata": {
    "run_control": {
     "frozen": false,
     "read_only": false
    }
   },
   "source": [
    "# ☠ 9. feladat\n",
    "\n",
    "### Plotly - III.\n",
    "\n",
    "Az alábbi lista egy osztályban kiosztott érdemjegyek darabszámát tartalmazza a jegyek szerint növekvő sorrendben.\n",
    "\n",
    "`jegyek_darab = [2, 3, 11, 9, 5]`\n",
    "\n",
    "Tehát 2 tanuló kapott egyest, 3-an kaptak kettest, 11-en hármast, 9-en négyest és 5-en ötöst. Készítsünk kördiagramot az osztályon belül a jegyek eloszlásáról! Egy kis [segítség](https://plot.ly/python/pie-charts/)"
   ]
  },
  {
   "cell_type": "markdown",
   "metadata": {
    "run_control": {
     "frozen": false,
     "read_only": false
    }
   },
   "source": [
    "# ☠ 10. feladat\n",
    "\n",
    "### Plotly - IV.\n",
    "\n",
    "Készítsük el egy  $r=5$  sugarú gömb paraméterezését ábrázoljuk 3 dimenzióban a kapott pontokat úgy, hogy az azonos \"térnyolcadba\" eső pontok egyszínűek legyenek."
   ]
  }
 ],
 "metadata": {
  "hide_input": false,
  "kernelspec": {
   "display_name": "Python 3",
   "language": "python",
   "name": "python3"
  },
  "language_info": {
   "codemirror_mode": {
    "name": "ipython",
    "version": 3
   },
   "file_extension": ".py",
   "mimetype": "text/x-python",
   "name": "python",
   "nbconvert_exporter": "python",
   "pygments_lexer": "ipython3",
   "version": "3.5.2"
  }
 },
 "nbformat": 4,
 "nbformat_minor": 1
}
