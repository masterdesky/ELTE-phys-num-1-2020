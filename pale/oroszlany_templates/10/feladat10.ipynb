{
 "cells": [
  {
   "cell_type": "markdown",
   "metadata": {
    "deletable": true,
    "editable": true,
    "run_control": {
     "frozen": false,
     "read_only": false
    }
   },
   "source": [
    "# Feladatok\n",
    "- Minden feladatot feladatszámnak mgefelelő számú megoldásnotebookban oldd meg. Azaz az első feladatot az `1_feladat.ipynb` notebookban.\n",
    "- A **halálfejes (☠)** feladatokhoz, **hozz létre** a kötelező feladatokhoz hasonlóan egy új notebookot a MEGOLDÁSOK könyvtárban.\n",
    "- Csak azok a feladatok kerülnek elbírálásra amelyek a MEGOLDASOK mappában vannak!\n",
    "- A megoldás tartalmazza a megoldandó **feladat szövegét** a megoldás notebook első `markdown` cellájában!\n",
    "- **Kommentekkel** illetve `markdown` cellákkal magyarázd hogy éppen mit csinál az adott kódrészlet!<br> **Magyarázat nélkül a beküldött feladatok csak fél feladatnak számítanak!**\n",
    "- Az elkészített ábrák minden esetben rendelkezzenek **ábrafeliratokkal** (cím, tengelyfeliratok és amennyiben indokolt jelmagyarázat)!\n",
    "**Amennyiben a beadott ábrákon nincsenek feliratok az adott feladat automatikusan csak fél feladatnak számít**!\n",
    "\n",
    "----\n"
   ]
  },
  {
   "cell_type": "markdown",
   "metadata": {
    "deletable": true,
    "editable": true,
    "run_control": {
     "frozen": false,
     "read_only": false
    }
   },
   "source": [
    "# 1. feladat\n",
    "\n",
    "### Ábrázolás - R\n",
    "\n",
    "- Olvasd be a `../data/cica.txt` fájlt!\n",
    "- Számold ki a második oszlop adatainak átlagát és szórását!\n",
    "- Ábrázold a harmadik és ötödik oszlop adatait!\n",
    "- Az adatokat zöld telt karikákkal jelenítsd meg!"
   ]
  },
  {
   "cell_type": "markdown",
   "metadata": {
    "deletable": true,
    "editable": true,
    "run_control": {
     "frozen": false,
     "read_only": false
    }
   },
   "source": [
    "# 2. feladat\n",
    "\n",
    "### Véletlen feladat - R\n",
    "\n",
    "- Készíts egy véletlen számokból álló 500 elemű listát, melynek elemei 1 és 501 között vannak!\n",
    "- Készíts 1-től 501-ig egy számsort is, melynek keverd össze az elemeit!\n",
    "- Hasonlítsd össze a véletlen listát az összekevert listával [Kolmogorov–Szmirnov-próba](https://hu.wikipedia.org/wiki/Kolmogorov%E2%80%93Szmirnov-pr%C3%B3ba) segítségével! Az eredményt **diszkutáljuk** szövegesen, melyben kitérünk a [szignifikancia](http://kaufmann.web.elte.hu/estat/Student_t.pdf) szintekre is.\n",
    "- Vizsgájuk meg [Shapiro–Wilk test](https://en.wikipedia.org/wiki/Shapiro%E2%80%93Wilk_test) segítségével, hogy a két lista normális eloszást követ-e?"
   ]
  },
  {
   "cell_type": "markdown",
   "metadata": {
    "deletable": true,
    "editable": true,
    "run_control": {
     "frozen": false,
     "read_only": false
    }
   },
   "source": [
    "# 3. feladat\n",
    "\n",
    "### Búzaszál -  Octave\n",
    "\n",
    "Tudjuk, hogy a búza a beérése közben elhajlik. Az viszont nyitott kérdés, hogy az elhajlás folyamatos, vagy pedig egy kritikus tömeg felett kezdődik. Vizsgáljuk meg a termés tömegének és az egyensúlyi helyzetnek a kapcsolatát! paraméterezzük a problémát a kihajlás szögével!\n",
    " Tegyük fel, hogy a búzaszál termés nélkül még függőlegesen áll, és a termés súlya hatására jó közelítéssel csak a tövében hajlik el, merev rúdként. Ebből az következik, hogy a rugalmas energiája a kihajlás szöge függvényében $$E_{rugalmas}=\\frac{D \\alpha^2}{2},$$ a gravitációs helyzeti energia pedig $l$ hossz esetén (elhanyagolva a szál tömegét) $$E_{gravitációs}=mgl\\cos(\\alpha).$$\n",
    "Octaveban számoljuk ki az együttes energiát $\\alpha$ függvényében, $D=1.5$, $g=10$, $l=0.8$ és $m=0.2$ mellett!"
   ]
  },
  {
   "cell_type": "markdown",
   "metadata": {
    "deletable": true,
    "editable": true,
    "run_control": {
     "frozen": false,
     "read_only": false
    }
   },
   "source": [
    "# 4. feladat\n",
    "\n",
    "### Kaotikus keveredés - Octave\n",
    "\n",
    "\n",
    "Kaotikus keveredésre ismert kétdimenziós modellben megállapítottuk, hogy az egymáshoz közeli részecskék úgy mozognak, hogy ha $x$ volt a két részecske közti távolságvektora, akkor $n$ időegység után a köztük levő távolságvektor $v={\\bf M}x$ lesz, ahol $${\\bf M}=\n",
    "\\left(\\begin{array}{rr}\n",
    "F_{2n-1} &amp; F_{2n}\\\\\n",
    "F_{2n} &amp; F_{2n+1}\n",
    "\\end{array}\n",
    "\\right),$$ és $F_n$ a Fibonacci-számok sorozata: $$F_1=F_2=1,$$ $$F_{k+1}=F_k+F_{k-1}.$$\n",
    "Az octaveban határozzuk meg, hogy helyezkedett el a két részecske kezdetben, ha 5 időegység után a távolságvektoruk $v$=$\\left(\\begin{array}{r}0.0123\\\\0.0199\\end{array}\\right)$ lett! Mennyire stabil az eredmény $v$ kis megváltoztatására, mondjuk a 9-esek után egy 1-est biggyesztve? Hogy fér össze ez a kondíciószámmal, ill. hogyan magyarázható szemléletesen?"
   ]
  },
  {
   "cell_type": "markdown",
   "metadata": {
    "deletable": true,
    "editable": true,
    "run_control": {
     "frozen": false,
     "read_only": false
    }
   },
   "source": [
    "# 5. feladat\n",
    "\n",
    "### Magic - Fortran-Python\n",
    "\n",
    "Python kernel fortran magic-jét használva definiáljunk egy fortran függvényt a mintapéldában látottak alapján ami két bemenő vektor átlagát számolja ki. "
   ]
  },
  {
   "cell_type": "markdown",
   "metadata": {
    "deletable": true,
    "editable": true,
    "run_control": {
     "frozen": false,
     "read_only": false
    }
   },
   "source": [
    "# ☠ 6. feladat\n",
    "\n",
    "### Illesztés - R\n",
    "\n",
    "- Adott a `../data/grb.csv` mintafájl, melyet olvass be az R-be! A fájl tartalmaz speciális értékeket, melyeket kezelned kell a beolvasásnál!\n",
    "- Ábrázold az \"redshift\" függvéynében az \"adatok\"-at! Az ábárának legyen címe, tengelyfelirata!\n",
    "- Illessz egyenest az adatokra, és írd fel az ábrára az illeszetett egyenes egyenletét!"
   ]
  },
  {
   "cell_type": "markdown",
   "metadata": {
    "deletable": true,
    "editable": true,
    "run_control": {
     "frozen": false,
     "read_only": false
    }
   },
   "source": [
    "# ☠ 7. feladat\n",
    "\n",
    "### Összetett ábrázolás - R\n",
    "\n",
    "- Olvasd be a `../data/fermi_type_full_new.dat` adatfájl.\n",
    "- Válogasd ki azokat a GRB-ket, melyekben a `T90>2 sec` illetve a `pflx_best_model_redchisq<1`!\n",
    "- Ha a `pflx_best_fitting_model` nevő változó:\n",
    "  - \" pflx_plaw\", akkor legyen a szín zöld\n",
    "  - \" pflx_band\", akkor legyen a szín narancs\n",
    "  - \" pflx_comp\", akkor legyen a szín piros\n",
    "  - \" pflx_sbpl\", akkor legyen a szín kék\n",
    "- A megadott színkódolás mellett ábárzold a `flux_256` nevű változót.\n",
    "- Az ábra címe: \"Fermi GBM adatok\"\n",
    "- Használj jelmagyarázatot:\n",
    "  - \" pflx_plaw\": Power law\n",
    "  - \" pflx_comp\": Comptonized\n",
    "  - \" pflx_band\": Band\n",
    "  - \" pflx_sbpl\": Smoothly broken power law"
   ]
  },
  {
   "cell_type": "markdown",
   "metadata": {
    "deletable": true,
    "editable": true,
    "run_control": {
     "frozen": false,
     "read_only": false
    }
   },
   "source": [
    "# ☠ 8. feladat\n",
    "\n",
    "### Bornemissza Gergely -  Octave\n",
    "\n",
    "Az Egri várat védjük, és egy 30 fokos lejtésű domboldalon lövünk ágyúval (lejtés irányában). Írjunk függvényt, mely kiszámolja az ágyúgolyó becsapódásának helyét a kezdeti emelkedési szöge függvényében! Elegendő numerikus adatsorból kikeresni a pályagörbe felszín alá kerülő pontját úgy, hogy az legalább 1% pontos legyen.\n",
    "A szög egyre finomabb változtatásával keressük meg azt az értéket, aminél a legmesszebbre lövünk (erről tudjuk, hogy vízszintes sík felszín esetén 45 fok lenne)."
   ]
  },
  {
   "cell_type": "markdown",
   "metadata": {
    "deletable": true,
    "editable": true,
    "run_control": {
     "frozen": false,
     "read_only": false
    }
   },
   "source": [
    "# ☠ 9. feladat\n",
    "\n",
    "### Hilbert-mátrix - Octave\n",
    "\n",
    "Octaveban írjunk függvényt, ami létrehoz egy n*n Hilbert-mátrixot, azaz elemei legyenek $H_{jk} = 1/(j+k-1)$, a függvény inputja legyen a mátrix n mérete, outputja a mátrix maga! Ehhez ne használjuk a beépített hilb függvényt, de az eredményét összevethetjük azzal.\n",
    "Nézzük meg, hogy $n=10$-ig hogyan nő a kondíciószám!\n",
    "Határozzuk meg, hogy a ${\\bf H} x = v$ egyenletrendszer megoldása során tipikusan milyen arányban nő a hiba az alábbiak szerint: Octaveban $n=4$ mellett véletlenszerűen válasszunk egy $x$ vektort, ahhoz keressük meg $v$ értékét! Utána vegyünk fel véletlenszerűen egy kis $dv$ hibát, és számoljuk ki a belőle származó $dx$ megváltozást. Ebből megkapjuk a norm függvénnyel mérve a vektorok nagyságát, hogy ilyen arányban nőtt meg a relatív hiba. A számolást a véletlen elemek miatt futtassuk le többször is! Az arányokat hasonlítsuk össze a kondíciószámmal!\n",
    "Keressük meg azt a vektort, amire a megváltozási arány a legnagyobb!"
   ]
  },
  {
   "cell_type": "markdown",
   "metadata": {
    "deletable": true,
    "editable": true,
    "run_control": {
     "frozen": false,
     "read_only": false
    }
   },
   "source": [
    "# ☠ 10. feladat\n",
    "\n",
    "### Forgatás mátrix - Octave\n",
    "\n",
    "Idézzük fel vektorszámítás tanulmányainkból, hogy mi a síkban egy adott szögű (origó körüli) forgatás mátrixa, és mi egy, az xtengellyel $\\alpha$ szöget bezáró, origón átmenő egyenesre való ${\\bf T}(\\alpha)$ tükrözés mátrixa! Ellenőrizzük octaveban, hogy\n",
    "Két tükrözés: ${\\bf T}(\\alpha)$ és ${\\bf T}(\\beta)$ egymásutánja ekvivalens egy $2(\\beta-\\alpha)$ szögű forgatással!\n",
    "Egy ${\\bf T}(\\alpha)$ tükrözés és egy $\\beta$ szögű forgatás egymásutánja azonos ${\\bf T}(\\alpha+\\beta/2)$ tükrözéssel!"
   ]
  }
 ],
 "metadata": {
  "hide_input": false,
  "kernelspec": {
   "display_name": "R",
   "language": "R",
   "name": "ir"
  },
  "language_info": {
   "codemirror_mode": "r",
   "file_extension": ".r",
   "mimetype": "text/x-r-source",
   "name": "R",
   "pygments_lexer": "r",
   "version": "3.3.2"
  }
 },
 "nbformat": 4,
 "nbformat_minor": 0
}
