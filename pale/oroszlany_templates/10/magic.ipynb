{
 "cells": [
  {
   "cell_type": "markdown",
   "metadata": {
    "deletable": true,
    "editable": true
   },
   "source": [
    "# Sor és cella magic-ek\n",
    "\n",
    "A Jupyter notebookokban lehetőség van sor és cella magic-ekkel néhány, a pythonon ( vagy az épp aktuális notebook kernelen ) túlmutató segéd művelet elvégzésére. \n",
    "A sor magic-ek hatása a kód cella egyetlen sorában érvényesül míg a cella magic-ek hatása a teljes cellára kiterjednek. Egy darab `%`-al jelöljük a sor illetve `%%`-al a cella meagiceket. \n",
    "A félév során már rendszeresen használtuk a `% pylab inline` konstrukciót mely a notebook környezetet úgy állította be, hogy a `matplotlib` és `numpy` csomagokból betöltötte a leggyakrabban használt függvényeket, továbbá a matplotlib által generált ábrákat beágyazta a notebookba. "
   ]
  },
  {
   "cell_type": "code",
   "execution_count": 1,
   "metadata": {
    "collapsed": false,
    "deletable": true,
    "editable": true
   },
   "outputs": [
    {
     "name": "stdout",
     "output_type": "stream",
     "text": [
      "Populating the interactive namespace from numpy and matplotlib\n"
     ]
    }
   ],
   "source": [
    "%pylab inline"
   ]
  },
  {
   "cell_type": "markdown",
   "metadata": {
    "deletable": true,
    "editable": true
   },
   "source": [
    "[Ezen](https://www.dataquest.io/blog/jupyter-notebook-tips-tricks-shortcuts/) és [ezen](http://ipython.readthedocs.io/en/stable/interactive/magics.html?highlight=magic) a linken a magic-ekről további leírásokat találhatunk.\n",
    "Hogy az éppen aktuális környezetben milyen magic-ek állnak rendelkezésünkre azt az `%lsmagic` sor magic-el tudjuk megnézni:"
   ]
  },
  {
   "cell_type": "code",
   "execution_count": 2,
   "metadata": {
    "collapsed": false,
    "deletable": true,
    "editable": true
   },
   "outputs": [
    {
     "data": {
      "application/json": {
       "cell": {
        "!": "OSMagics",
        "HTML": "Other",
        "SVG": "Other",
        "bash": "Other",
        "capture": "ExecutionMagics",
        "debug": "ExecutionMagics",
        "file": "Other",
        "html": "DisplayMagics",
        "javascript": "DisplayMagics",
        "latex": "DisplayMagics",
        "perl": "Other",
        "prun": "ExecutionMagics",
        "pypy": "Other",
        "python": "Other",
        "python2": "Other",
        "python3": "Other",
        "ruby": "Other",
        "script": "ScriptMagics",
        "sh": "Other",
        "svg": "DisplayMagics",
        "sx": "OSMagics",
        "system": "OSMagics",
        "time": "ExecutionMagics",
        "timeit": "ExecutionMagics",
        "writefile": "OSMagics"
       },
       "line": {
        "alias": "OSMagics",
        "alias_magic": "BasicMagics",
        "autocall": "AutoMagics",
        "automagic": "AutoMagics",
        "autosave": "KernelMagics",
        "bookmark": "OSMagics",
        "cat": "Other",
        "cd": "OSMagics",
        "clear": "KernelMagics",
        "colors": "BasicMagics",
        "config": "ConfigMagics",
        "connect_info": "KernelMagics",
        "cp": "Other",
        "debug": "ExecutionMagics",
        "dhist": "OSMagics",
        "dirs": "OSMagics",
        "doctest_mode": "BasicMagics",
        "ed": "Other",
        "edit": "KernelMagics",
        "env": "OSMagics",
        "gui": "BasicMagics",
        "hist": "Other",
        "history": "HistoryMagics",
        "install_default_config": "DeprecatedMagics",
        "install_ext": "ExtensionMagics",
        "install_profiles": "DeprecatedMagics",
        "killbgscripts": "ScriptMagics",
        "ldir": "Other",
        "less": "KernelMagics",
        "lf": "Other",
        "lk": "Other",
        "ll": "Other",
        "load": "CodeMagics",
        "load_ext": "ExtensionMagics",
        "loadpy": "CodeMagics",
        "logoff": "LoggingMagics",
        "logon": "LoggingMagics",
        "logstart": "LoggingMagics",
        "logstate": "LoggingMagics",
        "logstop": "LoggingMagics",
        "ls": "Other",
        "lsmagic": "BasicMagics",
        "lx": "Other",
        "macro": "ExecutionMagics",
        "magic": "BasicMagics",
        "man": "KernelMagics",
        "matplotlib": "PylabMagics",
        "mkdir": "Other",
        "more": "KernelMagics",
        "mv": "Other",
        "notebook": "BasicMagics",
        "page": "BasicMagics",
        "pastebin": "CodeMagics",
        "pdb": "ExecutionMagics",
        "pdef": "NamespaceMagics",
        "pdoc": "NamespaceMagics",
        "pfile": "NamespaceMagics",
        "pinfo": "NamespaceMagics",
        "pinfo2": "NamespaceMagics",
        "popd": "OSMagics",
        "pprint": "BasicMagics",
        "precision": "BasicMagics",
        "profile": "BasicMagics",
        "prun": "ExecutionMagics",
        "psearch": "NamespaceMagics",
        "psource": "NamespaceMagics",
        "pushd": "OSMagics",
        "pwd": "OSMagics",
        "pycat": "OSMagics",
        "pylab": "PylabMagics",
        "qtconsole": "KernelMagics",
        "quickref": "BasicMagics",
        "recall": "HistoryMagics",
        "rehashx": "OSMagics",
        "reload_ext": "ExtensionMagics",
        "rep": "Other",
        "rerun": "HistoryMagics",
        "reset": "NamespaceMagics",
        "reset_selective": "NamespaceMagics",
        "rm": "Other",
        "rmdir": "Other",
        "run": "ExecutionMagics",
        "save": "CodeMagics",
        "sc": "OSMagics",
        "set_env": "OSMagics",
        "store": "StoreMagics",
        "sx": "OSMagics",
        "system": "OSMagics",
        "tb": "ExecutionMagics",
        "time": "ExecutionMagics",
        "timeit": "ExecutionMagics",
        "unalias": "OSMagics",
        "unload_ext": "ExtensionMagics",
        "who": "NamespaceMagics",
        "who_ls": "NamespaceMagics",
        "whos": "NamespaceMagics",
        "xdel": "NamespaceMagics",
        "xmode": "BasicMagics"
       }
      },
      "text/plain": [
       "Available line magics:\n",
       "%alias  %alias_magic  %autocall  %automagic  %autosave  %bookmark  %cat  %cd  %clear  %colors  %config  %connect_info  %cp  %debug  %dhist  %dirs  %doctest_mode  %ed  %edit  %env  %gui  %hist  %history  %install_default_config  %install_ext  %install_profiles  %killbgscripts  %ldir  %less  %lf  %lk  %ll  %load  %load_ext  %loadpy  %logoff  %logon  %logstart  %logstate  %logstop  %ls  %lsmagic  %lx  %macro  %magic  %man  %matplotlib  %mkdir  %more  %mv  %notebook  %page  %pastebin  %pdb  %pdef  %pdoc  %pfile  %pinfo  %pinfo2  %popd  %pprint  %precision  %profile  %prun  %psearch  %psource  %pushd  %pwd  %pycat  %pylab  %qtconsole  %quickref  %recall  %rehashx  %reload_ext  %rep  %rerun  %reset  %reset_selective  %rm  %rmdir  %run  %save  %sc  %set_env  %store  %sx  %system  %tb  %time  %timeit  %unalias  %unload_ext  %who  %who_ls  %whos  %xdel  %xmode\n",
       "\n",
       "Available cell magics:\n",
       "%%!  %%HTML  %%SVG  %%bash  %%capture  %%debug  %%file  %%html  %%javascript  %%latex  %%perl  %%prun  %%pypy  %%python  %%python2  %%python3  %%ruby  %%script  %%sh  %%svg  %%sx  %%system  %%time  %%timeit  %%writefile\n",
       "\n",
       "Automagic is ON, % prefix IS NOT needed for line magics."
      ]
     },
     "execution_count": 2,
     "metadata": {},
     "output_type": "execute_result"
    }
   ],
   "source": [
    "%lsmagic"
   ]
  },
  {
   "cell_type": "markdown",
   "metadata": {
    "deletable": true,
    "editable": true
   },
   "source": [
    "A magic-ek-et tartalmazó sorokba ne írjunk kommenteket. Ezekbe a sorokba írt kommentek hibát fognak okozni!\n",
    "Az alábbiakban tekintsünk át néhány hasznos magic-et a fenti listából. "
   ]
  },
  {
   "cell_type": "markdown",
   "metadata": {
    "deletable": true,
    "editable": true
   },
   "source": [
    "## %who  : az aktuális globális változók listázása"
   ]
  },
  {
   "cell_type": "code",
   "execution_count": 3,
   "metadata": {
    "collapsed": true,
    "deletable": true,
    "editable": true
   },
   "outputs": [],
   "source": [
    "# definiáljunk pár dolgot\n",
    "one = \"for the money\"\n",
    "two = \"for the show\"\n",
    "three = \"to get ready now go cat go\" \n",
    "szam1 = 1.0\n",
    "szam2 = 3\n",
    "szam3 = 4.0"
   ]
  },
  {
   "cell_type": "code",
   "execution_count": 4,
   "metadata": {
    "collapsed": false,
    "deletable": true,
    "editable": true
   },
   "outputs": [
    {
     "name": "stdout",
     "output_type": "stream",
     "text": [
      "one\t szam1\t szam2\t szam3\t three\t two\t \n"
     ]
    }
   ],
   "source": [
    "%who"
   ]
  },
  {
   "cell_type": "markdown",
   "metadata": {
    "deletable": true,
    "editable": true
   },
   "source": [
    "Ha csak bizonyos típusú objektumokra vagyun kiváncsiak akkor a típus megadásával szűkíthetjük a listát:"
   ]
  },
  {
   "cell_type": "code",
   "execution_count": 5,
   "metadata": {
    "collapsed": false,
    "deletable": true,
    "editable": true
   },
   "outputs": [
    {
     "name": "stdout",
     "output_type": "stream",
     "text": [
      "one\t three\t two\t \n"
     ]
    }
   ],
   "source": [
    "%who str"
   ]
  },
  {
   "cell_type": "markdown",
   "metadata": {
    "deletable": true,
    "editable": true
   },
   "source": [
    "## %time és  %timeit : egyszerű időmérés"
   ]
  },
  {
   "cell_type": "markdown",
   "metadata": {
    "deletable": true,
    "editable": true
   },
   "source": [
    "A `%time` és `%timeit` sor magic-ek egy kódsor futási idejéről nyújtanak információt. Mind a két magic sor és cella magic ként is működik. \n",
    "A `%time` az adott kódrészletet egyszer futtatja le és kiírja, hogy ezalatt mennyi idő telt. Az alábbi példában 0 és 10000 közötti számokból generálunk egy listát és megnézzük hogy ehez mennyi időre volt szükség:"
   ]
  },
  {
   "cell_type": "code",
   "execution_count": 6,
   "metadata": {
    "collapsed": false,
    "deletable": true,
    "editable": true
   },
   "outputs": [
    {
     "name": "stdout",
     "output_type": "stream",
     "text": [
      "CPU times: user 12 ms, sys: 0 ns, total: 12 ms\n",
      "Wall time: 10.1 ms\n"
     ]
    }
   ],
   "source": [
    "%time a=[ i for i in range(100000) ]"
   ]
  },
  {
   "cell_type": "markdown",
   "metadata": {
    "deletable": true,
    "editable": true
   },
   "source": [
    "A `%timeit` magic egy adott kódrészletet többször is lefuttat és a futások végén a leggyorsabb futások átlagát írja ki. "
   ]
  },
  {
   "cell_type": "code",
   "execution_count": 7,
   "metadata": {
    "collapsed": false,
    "deletable": true,
    "editable": true
   },
   "outputs": [
    {
     "name": "stdout",
     "output_type": "stream",
     "text": [
      "100 loops, best of 3: 10.6 ms per loop\n"
     ]
    }
   ],
   "source": [
    "%timeit a=[ i for i in range(100000) ]"
   ]
  },
  {
   "cell_type": "markdown",
   "metadata": {
    "deletable": true,
    "editable": true
   },
   "source": [
    "A fenti konstrukció, amint azt ki is írja, 100-szor futtatja le a megmérendő kódrészletet és a legjobb három futás átlagát írja ki. \n",
    "A magic-ek lehetséges opcióiról notebookban szokásos `?`-el tudunk tájékozódni. "
   ]
  },
  {
   "cell_type": "code",
   "execution_count": 8,
   "metadata": {
    "collapsed": false,
    "deletable": true,
    "editable": true
   },
   "outputs": [],
   "source": [
    "?timeit"
   ]
  },
  {
   "cell_type": "markdown",
   "metadata": {},
   "source": [
    "## %%writefile :  cella tartalmának kiírása egy file-ba"
   ]
  },
  {
   "cell_type": "markdown",
   "metadata": {},
   "source": [
    "A `%%writefile` cella magic seegítségével az adott cella tartalmát tudjuk egy file-ba kiírni. \n"
   ]
  },
  {
   "cell_type": "code",
   "execution_count": 9,
   "metadata": {
    "collapsed": false
   },
   "outputs": [
    {
     "name": "stdout",
     "output_type": "stream",
     "text": [
      "Overwriting kicsiadat.dat\n"
     ]
    }
   ],
   "source": [
    "%%writefile kicsiadat.dat\n",
    "\n",
    "1 2\n",
    "2 3\n",
    "3 1\n",
    "4 6\n",
    "5 7"
   ]
  },
  {
   "cell_type": "markdown",
   "metadata": {
    "deletable": true,
    "editable": true
   },
   "source": [
    "## Más nyelven írt kódrszletek integrálása \n",
    "\n",
    "A magic-ek egyik talán legérdekesebb felhasználási módja, hogy segítségükkel egy `python` nyelven írt notebook-ba más nyelveken írt kód cellákat is használhatunk. Ezen más nyelveken írt kód részletek definiálhatnak függvényeket, illetve kölcsönhathatnak a `python`-os részletekben definiált változókkal. \n",
    "Nézzünk egy pár példát arra, hogy hogyan lehet más nyelveken íródott kódrészleteket használni.\n",
    "Először is egy egyszerű `bash` nyelven íródott kis script-et nézünk meg, ami kiírja a számokat 1-től 5-ig:"
   ]
  },
  {
   "cell_type": "code",
   "execution_count": 10,
   "metadata": {
    "collapsed": false,
    "deletable": true,
    "editable": true
   },
   "outputs": [
    {
     "name": "stdout",
     "output_type": "stream",
     "text": [
      "i is 1\n",
      "i is 2\n",
      "i is 3\n",
      "i is 4\n",
      "i is 5\n"
     ]
    }
   ],
   "source": [
    "%%bash \n",
    "for i in `seq 5`;\n",
    "do\n",
    "   echo \"i is $i\"\n",
    "done"
   ]
  },
  {
   "cell_type": "markdown",
   "metadata": {},
   "source": [
    "A fenti kódcella első sora hatására egy `bash` értelmező fordítja le a kód cella mardék részét.\n",
    "\n",
    "A következő két példában `fortran` és `R` nyelveken íródott kódrészleteket fogunk használni. Először is a `%load_ext` sor magic segítségével a `fortran` és `R` cella magic-eket be kell tölteni hogy aztán később használni tudjuk:"
   ]
  },
  {
   "cell_type": "code",
   "execution_count": 11,
   "metadata": {
    "collapsed": false,
    "deletable": true,
    "editable": true
   },
   "outputs": [
    {
     "name": "stderr",
     "output_type": "stream",
     "text": [
      "/opt/conda/lib/python3.5/site-packages/IPython/utils/path.py:264: UserWarning: get_ipython_cache_dir has moved to the IPython.paths module\n",
      "  warn(\"get_ipython_cache_dir has moved to the IPython.paths module\")\n"
     ]
    },
    {
     "data": {
      "application/javascript": [
       "$.getScript(\"https://raw.github.com/marijnh/CodeMirror/master/mode/fortran/fortran.js\", function () {\n",
       "IPython.config.cell_magic_highlight['magic_fortran'] = {'reg':[/^%%fortran/]};});\n"
      ]
     },
     "metadata": {},
     "output_type": "display_data"
    }
   ],
   "source": [
    "# R cell magic betöltése\n",
    "%load_ext rpy2.ipython \n",
    "# fortran cell magic betöltése\n",
    "%load_ext fortranmagic "
   ]
  },
  {
   "cell_type": "markdown",
   "metadata": {},
   "source": [
    "Definiáljunk most pár változót `python`-ban:"
   ]
  },
  {
   "cell_type": "code",
   "execution_count": 12,
   "metadata": {
    "collapsed": false,
    "deletable": true,
    "editable": true
   },
   "outputs": [],
   "source": [
    "# ez it két változó ezeket fogjuk az alábbi példákban használni\n",
    "x=linspace(0,pi,100)\n",
    "y=sin(x)"
   ]
  },
  {
   "cell_type": "markdown",
   "metadata": {},
   "source": [
    "Ábrázoljuk most az `y` változót az `x` függvényében az `R` nyelv `ggplot` csomagjában található `qplot` függvény segítségével:"
   ]
  },
  {
   "cell_type": "code",
   "execution_count": 13,
   "metadata": {
    "collapsed": false,
    "deletable": true,
    "editable": true
   },
   "outputs": [
    {
     "name": "stderr",
     "output_type": "stream",
     "text": [
      "/opt/conda/lib/python3.5/site-packages/rpy2/rinterface/__init__.py:186: RRuntimeWarning: Loading required package: ggplot2\n",
      "\n",
      "  warnings.warn(x, RRuntimeWarning)\n"
     ]
    },
    {
     "data": {
      "image/png": "[encoded data removed]"
     },
     "metadata": {},
     "output_type": "display_data"
    }
   ],
   "source": [
    "%%R -i x,y         \n",
    "# Így kell az R magic-nek megmondani hogy a pythonban definiált x és y változókat használja\n",
    "require(ggplot2)   # R-ban így töltjük be az ábrázolásért felelős csomagot\n",
    "qplot(x,y)         # Ez egy egyszerű ábrázolás"
   ]
  },
  {
   "cell_type": "markdown",
   "metadata": {},
   "source": [
    "Az alábbi kódrészletben pedig `fortran` nyelven definiálunk egy függvényt aminek három változója van , két bemeneti (u és v) és egy kimeneti (w). A kimeneti érték a bemeneti értékek összegének a sinus-a:"
   ]
  },
  {
   "cell_type": "code",
   "execution_count": 15,
   "metadata": {
    "collapsed": true,
    "deletable": true,
    "editable": true
   },
   "outputs": [],
   "source": [
    "%%fortran\n",
    "       subroutine fort_funct(u, v, w)\n",
    "            real, intent(in) :: u(:), v(:)  !ezek bemeno valtozok\n",
    "            real, intent(out) :: w(size(u)) !ez lesz a kimeno valtozo\n",
    "            ! using vector operations\n",
    "            w(:) = sin(u(:) + v(:))\n",
    "       end subroutine\n"
   ]
  },
  {
   "cell_type": "markdown",
   "metadata": {},
   "source": [
    "Most a fent definiált `fortran` függvényt használjuk a python-ban definiált `x` és `y` array-kel:"
   ]
  },
  {
   "cell_type": "code",
   "execution_count": 16,
   "metadata": {
    "collapsed": false,
    "deletable": true,
    "editable": true
   },
   "outputs": [
    {
     "data": {
      "text/plain": [
       "array([  0.00000000e+00,   6.34186044e-02,   1.26550198e-01,\n",
       "         1.89110100e-01,   2.50818312e-01,   3.11401665e-01,\n",
       "         3.70596170e-01,   4.28148836e-01,   4.83819753e-01,\n",
       "         5.37383854e-01,   5.88632405e-01,   6.37374401e-01,\n",
       "         6.83437765e-01,   7.26670444e-01,   7.66940951e-01,\n",
       "         8.04138899e-01,   8.38175297e-01,   8.68982673e-01,\n",
       "         8.96515131e-01,   9.20747399e-01,   9.41674888e-01,\n",
       "         9.59312618e-01,   9.73694384e-01,   9.84872043e-01,\n",
       "         9.92913723e-01,   9.97903109e-01,   9.99937952e-01,\n",
       "         9.99128520e-01,   9.95596349e-01,   9.89472628e-01,\n",
       "         9.80896771e-01,   9.70014811e-01,   9.56978321e-01,\n",
       "         9.41942632e-01,   9.25065696e-01,   9.06506658e-01,\n",
       "         8.86424959e-01,   8.64978611e-01,   8.42324078e-01,\n",
       "         8.18614662e-01,   7.93999493e-01,   7.68623590e-01,\n",
       "         7.42626727e-01,   7.16142833e-01,   6.89299405e-01,\n",
       "         6.62217736e-01,   6.35012090e-01,   6.07790053e-01,\n",
       "         5.80651700e-01,   5.53689837e-01,   5.26990473e-01,\n",
       "         5.00632346e-01,   4.74687159e-01,   4.49219465e-01,\n",
       "         4.24287915e-01,   3.99944037e-01,   3.76233339e-01,\n",
       "         3.53196114e-01,   3.30866158e-01,   3.09272796e-01,\n",
       "         2.88439095e-01,   2.68384904e-01,   2.49124721e-01,\n",
       "         2.30669171e-01,   2.13025346e-01,   1.96196482e-01,\n",
       "         1.80182561e-01,   1.64980993e-01,   1.50586098e-01,\n",
       "         1.36989638e-01,   1.24181405e-01,   1.12148516e-01,\n",
       "         1.00876741e-01,   9.03497115e-02,   8.05500075e-02,\n",
       "         7.14583322e-02,   6.30540997e-02,   5.53157702e-02,\n",
       "         4.82206754e-02,   4.17451225e-02,   3.58644389e-02,\n",
       "         3.05530280e-02,   2.57851239e-02,   2.15336438e-02,\n",
       "         1.77714135e-02,   1.44702233e-02,   1.16018159e-02,\n",
       "         9.13670100e-03,   7.04583852e-03,   5.29921753e-03,\n",
       "         3.86681384e-03,   2.71811942e-03,   1.82238314e-03,\n",
       "         1.14837463e-03,   6.64861931e-04,   3.40612722e-04,\n",
       "         1.43678975e-04,   4.25895014e-05,   5.15778584e-06,\n",
       "        -8.74227766e-08], dtype=float32)"
      ]
     },
     "execution_count": 16,
     "metadata": {},
     "output_type": "execute_result"
    }
   ],
   "source": [
    "fort_funct(x,y) # Ezt a függvényt Fortranban definiáltuk!!!"
   ]
  }
 ],
 "metadata": {
  "hide_input": false,
  "kernelspec": {
   "display_name": "Python 3",
   "language": "python",
   "name": "python3"
  },
  "language_info": {
   "codemirror_mode": {
    "name": "ipython",
    "version": 3
   },
   "file_extension": ".py",
   "mimetype": "text/x-python",
   "name": "python",
   "nbconvert_exporter": "python",
   "pygments_lexer": "ipython3",
   "version": "3.5.2"
  }
 },
 "nbformat": 4,
 "nbformat_minor": 0
}
