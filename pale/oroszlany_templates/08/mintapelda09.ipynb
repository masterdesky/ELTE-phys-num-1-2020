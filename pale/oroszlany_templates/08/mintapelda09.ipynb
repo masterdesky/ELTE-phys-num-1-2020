{
 "cells": [
  {
   "cell_type": "markdown",
   "metadata": {
    "deletable": true,
    "editable": true
   },
   "source": [
    "# A Pandas könyvtár\n",
    "\n",
    "Mérési vagy szimulációs adatainkat gyakran célszerűbb a puszta számokat tartalmazó *list* vagy *numpy.array* adatszerkezet helyett a *pandas* könyvtár *DataFrame* osztályában tárolunk, ahol a számok mellett feliratozni is tudjuk a sorokat, illetve oszlopokat, illetve a különböző oszlopokban különböző adattípusok lehetnek.\n",
    "\n",
    "A *DataFrame*-re gondolhatunk úgy, mint egy szokásos Excel-táblázatra, az osztályhoz tartozó függvények egy része ugyanis nagyon hasonlít a táblázatkezelőkből ismertekére. \n"
   ]
  },
  {
   "cell_type": "markdown",
   "metadata": {
    "deletable": true,
    "editable": true
   },
   "source": [
    "A következőkben lépésenként áttekintjük a pandas-ban rejlő lehetőségeket:\n",
    "\n",
    "1. adatok elérése, a DataFrame adatszerkezet, fájlok be- és kiolvasása [link](pandas_intro_io.ipynb)\n",
    "2. egyszerű műveletek, maszkolás [link](pandas_basic_op.ipynb)\n",
    "3. adatbázis-műveletek 1. (groupby) [link](pandas_groupby.ipynb)\n",
    "4. statisztikák és ábrázolásuk (seaborn) [link](pandas_stat_plot.ipynb)\n",
    "5. adatbázis-műveletek 2. (concat, join, apply, pivot) [link](pandas_concat.ipynb)"
   ]
  },
  {
   "cell_type": "code",
   "execution_count": null,
   "metadata": {
    "collapsed": true
   },
   "outputs": [],
   "source": []
  }
 ],
 "metadata": {
  "hide_input": false,
  "kernelspec": {
   "display_name": "Python 3",
   "language": "python",
   "name": "python3"
  },
  "language_info": {
   "codemirror_mode": {
    "name": "ipython",
    "version": 3
   },
   "file_extension": ".py",
   "mimetype": "text/x-python",
   "name": "python",
   "nbconvert_exporter": "python",
   "pygments_lexer": "ipython3",
   "version": "3.5.2"
  }
 },
 "nbformat": 4,
 "nbformat_minor": 0
}
