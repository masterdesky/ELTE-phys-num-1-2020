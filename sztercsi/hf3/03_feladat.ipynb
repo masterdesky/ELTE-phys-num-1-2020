{
 "cells": [
  {
   "cell_type": "markdown",
   "metadata": {},
   "source": [
    "# Feladat 3 (2 pont)\n",
    "Az éppen tomboló járvány folyamatosan frissülő statisztikai adatai [ezen](https://github.com/CSSEGISandData/COVID-19) a linken találhatóak. Ezen adatok április 3.-ai állásából gyűjtöttük ki a `data.csv` filet.\n",
    "\n",
    "A `data.csv` fájlban vesszőkkel elválasztva három oszlopot találsz:\n",
    " 1. dátum\n",
    " 2. kumulatív COVID-19 esetszám Kínában\n",
    " 3. kumulatív COVID-19 esetszám Olaszországban\n",
    " \n",
    "- Olvasd be a kumulatív esetszámokat! A dátumot helyettesítsd egész számokkal, ahol az első nap 0, a második nap 1...\n",
    "- Ábrázold grafikonon a kumulatív esetszámokat a két ország esetére, ügyelj az ábrafeliratokra!\n",
    "- A kínai adatokra illeszd meg az alábbi függvényt (amennyiben szükséges, kézzel állítsd be a megbecsült kezdőparamétereket):\n",
    "$$ f(x) = \\frac{a}{1 + e^{-(x-b)\\cdot c}}$$\n",
    "- Ábrázold az adatokat és az illesztett függvényt is!\n",
    "- Mik lettek a függvény paraméterei? Mit jelenthetnek esetünkben ezek a paraméterek? Írd le a saját szavaiddal!"
   ]
  },
  {
   "cell_type": "code",
   "execution_count": 1,
   "metadata": {},
   "outputs": [
    {
     "name": "stdout",
     "output_type": "stream",
     "text": [
      "Populating the interactive namespace from numpy and matplotlib\n"
     ]
    }
   ],
   "source": [
    "%pylab inline"
   ]
  },
  {
   "cell_type": "code",
   "execution_count": 2,
   "metadata": {},
   "outputs": [
    {
     "data": {
      "text/plain": [
       "['date,China,Italy\\n',\n",
       " '1/22/20,548,0\\n',\n",
       " '1/23/20,643,0\\n',\n",
       " '1/24/20,920,0\\n',\n",
       " '1/25/20,1406,0\\n',\n",
       " '1/26/20,2075,0\\n',\n",
       " '1/27/20,2877,0\\n',\n",
       " '1/28/20,5509,0\\n',\n",
       " '1/29/20,6087,0\\n',\n",
       " '1/30/20,8141,0\\n',\n",
       " '1/31/20,9802,2\\n',\n",
       " '2/1/20,11891,2\\n',\n",
       " '2/2/20,16630,2\\n',\n",
       " '2/3/20,19716,2\\n',\n",
       " '2/4/20,23707,2\\n',\n",
       " '2/5/20,27440,2\\n',\n",
       " '2/6/20,30587,2\\n',\n",
       " '2/7/20,34110,3\\n',\n",
       " '2/8/20,36814,3\\n',\n",
       " '2/9/20,39829,3\\n',\n",
       " '2/10/20,42354,3\\n',\n",
       " '2/11/20,44386,3\\n',\n",
       " '2/12/20,44759,3\\n',\n",
       " '2/13/20,59895,3\\n',\n",
       " '2/14/20,66358,3\\n',\n",
       " '2/15/20,68413,3\\n',\n",
       " '2/16/20,70513,3\\n',\n",
       " '2/17/20,72434,3\\n',\n",
       " '2/18/20,74211,3\\n',\n",
       " '2/19/20,74619,3\\n',\n",
       " '2/20/20,75077,3\\n',\n",
       " '2/21/20,75550,20\\n',\n",
       " '2/22/20,77001,62\\n',\n",
       " '2/23/20,77022,155\\n',\n",
       " '2/24/20,77241,229\\n',\n",
       " '2/25/20,77754,322\\n',\n",
       " '2/26/20,78166,453\\n',\n",
       " '2/27/20,78600,655\\n',\n",
       " '2/28/20,78928,888\\n',\n",
       " '2/29/20,79356,1128\\n',\n",
       " '3/1/20,79932,1694\\n',\n",
       " '3/2/20,80136,2036\\n',\n",
       " '3/3/20,80261,2502\\n',\n",
       " '3/4/20,80386,3089\\n',\n",
       " '3/5/20,80537,3858\\n',\n",
       " '3/6/20,80690,4636\\n',\n",
       " '3/7/20,80770,5883\\n',\n",
       " '3/8/20,80823,7375\\n',\n",
       " '3/9/20,80860,9172\\n',\n",
       " '3/10/20,80887,10149\\n',\n",
       " '3/11/20,80921,12462\\n',\n",
       " '3/12/20,80932,12462\\n',\n",
       " '3/13/20,80945,17660\\n',\n",
       " '3/14/20,80977,21157\\n',\n",
       " '3/15/20,81003,24747\\n',\n",
       " '3/16/20,81033,27980\\n',\n",
       " '3/17/20,81058,31506\\n',\n",
       " '3/18/20,81102,35713\\n',\n",
       " '3/19/20,81156,41035\\n',\n",
       " '3/20/20,81250,47021\\n',\n",
       " '3/21/20,81305,53578\\n',\n",
       " '3/22/20,81435,59138\\n',\n",
       " '3/23/20,81498,63927\\n',\n",
       " '3/24/20,81591,69176\\n',\n",
       " '3/25/20,81661,74386\\n',\n",
       " '3/26/20,81782,80589\\n',\n",
       " '3/27/20,81897,86498\\n',\n",
       " '3/28/20,81999,92472\\n',\n",
       " '3/29/20,82122,97689\\n',\n",
       " '3/30/20,82198,101739\\n',\n",
       " '3/31/20,82279,105792\\n',\n",
       " '4/1/20,82361,110574\\n',\n",
       " '4/2/20,82432,115242\\n']"
      ]
     },
     "execution_count": 2,
     "metadata": {},
     "output_type": "execute_result"
    }
   ],
   "source": [
    "with open('data.csv') as f: #beolvassuk a filet\n",
    "    sorok = f.readlines() #minden sorát hozzáadjuk a sorok listához\n",
    "    \n",
    "sorok #megnézzük, hogy hogy is néz ki"
   ]
  },
  {
   "cell_type": "code",
   "execution_count": 3,
   "metadata": {},
   "outputs": [
    {
     "name": "stdout",
     "output_type": "stream",
     "text": [
      "[0, 1, 2, 3, 4, 5, 6, 7, 8, 9, 10, 11, 12, 13, 14, 15, 16, 17, 18, 19, 20, 21, 22, 23, 24, 25, 26, 27, 28, 29, 30, 31, 32, 33, 34, 35, 36, 37, 38, 39, 40, 41, 42, 43, 44, 45, 46, 47, 48, 49, 50, 51, 52, 53, 54, 55, 56, 57, 58, 59, 60, 61, 62, 63, 64, 65, 66, 67, 68, 69, 70, 71]\n"
     ]
    }
   ],
   "source": [
    "day=[] #ebbe az üres tömbbe tesszük majd a napok sorszámát\n",
    "i = 0  #i első értékét megadjuk, ezt fogjuk majd változtatni\n",
    "\n",
    "for bleh in sorok[1:]: #végig iterálunk a sorokon, de a 0. indexű sort kihagyjuk mert az nem az adatokat tartalmazza\n",
    "    day.append(i)      #minden i-t hozzáadunk a nap tömbhöz\n",
    "    i += 1             #és i értékét egyel növeljük\n",
    "\n",
    "print(day) #voilá"
   ]
  },
  {
   "cell_type": "code",
   "execution_count": 4,
   "metadata": {
    "scrolled": true
   },
   "outputs": [
    {
     "name": "stdout",
     "output_type": "stream",
     "text": [
      "[548.0, 643.0, 920.0, 1406.0, 2075.0, 2877.0, 5509.0, 6087.0, 8141.0, 9802.0, 11891.0, 16630.0, 19716.0, 23707.0, 27440.0, 30587.0, 34110.0, 36814.0, 39829.0, 42354.0, 44386.0, 44759.0, 59895.0, 66358.0, 68413.0, 70513.0, 72434.0, 74211.0, 74619.0, 75077.0, 75550.0, 77001.0, 77022.0, 77241.0, 77754.0, 78166.0, 78600.0, 78928.0, 79356.0, 79932.0, 80136.0, 80261.0, 80386.0, 80537.0, 80690.0, 80770.0, 80823.0, 80860.0, 80887.0, 80921.0, 80932.0, 80945.0, 80977.0, 81003.0, 81033.0, 81058.0, 81102.0, 81156.0, 81250.0, 81305.0, 81435.0, 81498.0, 81591.0, 81661.0, 81782.0, 81897.0, 81999.0, 82122.0, 82198.0, 82279.0, 82361.0, 82432.0]\n",
      "[0.0, 0.0, 0.0, 0.0, 0.0, 0.0, 0.0, 0.0, 0.0, 2.0, 2.0, 2.0, 2.0, 2.0, 2.0, 2.0, 3.0, 3.0, 3.0, 3.0, 3.0, 3.0, 3.0, 3.0, 3.0, 3.0, 3.0, 3.0, 3.0, 3.0, 20.0, 62.0, 155.0, 229.0, 322.0, 453.0, 655.0, 888.0, 1128.0, 1694.0, 2036.0, 2502.0, 3089.0, 3858.0, 4636.0, 5883.0, 7375.0, 9172.0, 10149.0, 12462.0, 12462.0, 17660.0, 21157.0, 24747.0, 27980.0, 31506.0, 35713.0, 41035.0, 47021.0, 53578.0, 59138.0, 63927.0, 69176.0, 74386.0, 80589.0, 86498.0, 92472.0, 97689.0, 101739.0, 105792.0, 110574.0, 115242.0]\n"
     ]
    }
   ],
   "source": [
    "China = [] #a két ország értékeinek előkészített üres tömb\n",
    "Italy = []\n",
    "\n",
    "for sor in sorok[1:]:                      #az első sort kihagyva végig iterálunk az összes soron \n",
    "    China.append(float(sor.split(',')[1])) #és az adott sor 1-es indexű elemét a kínai tömbbe...\n",
    "    Italy.append(float(sor.split(',')[2])) #a 2-es indexű elemét az olasz tömbbe rakjuk\n",
    "    \n",
    "print(China) \n",
    "print(Italy)"
   ]
  },
  {
   "cell_type": "markdown",
   "metadata": {},
   "source": [
    "## Fittelés"
   ]
  },
  {
   "cell_type": "code",
   "execution_count": 5,
   "metadata": {},
   "outputs": [],
   "source": [
    "from scipy.optimize import curve_fit #az illesztéshez szükséges package"
   ]
  },
  {
   "cell_type": "code",
   "execution_count": 6,
   "metadata": {},
   "outputs": [],
   "source": [
    "def fit(x, a, b, c,): #definiáljuk az illesztendő függvényt\n",
    "    return a/(1 + np.exp(- (x - b)*c)) "
   ]
  },
  {
   "cell_type": "code",
   "execution_count": 7,
   "metadata": {},
   "outputs": [
    {
     "data": {
      "text/plain": [
       "Text(0, 0.5, 'esetszám')"
      ]
     },
     "execution_count": 7,
     "metadata": {},
     "output_type": "execute_result"
    },
    {
     "data": {
      "image/png": "[encoded data removed]",
      "text/plain": [
       "<Figure size 432x288 with 1 Axes>"
      ]
     },
     "metadata": {
      "needs_background": "light"
     },
     "output_type": "display_data"
    }
   ],
   "source": [
    "plot(day, Italy, color = 'darkgreen', label = 'olasz adatok') #először a két ország esetszámát \n",
    "plot(day, China, color = 'crimson', label = 'kínai adatok')   #plottoljuk a napok függvényében\n",
    "\n",
    "plt.legend()\n",
    "xlabel('nap')\n",
    "ylabel('esetszám')"
   ]
  },
  {
   "cell_type": "code",
   "execution_count": 8,
   "metadata": {},
   "outputs": [
    {
     "name": "stdout",
     "output_type": "stream",
     "text": [
      "['a', 'b', 'c']\n",
      "[8.12764992e+04 1.78151535e+01 2.19992537e-01]\n"
     ]
    }
   ],
   "source": [
    "popt,pcov=curve_fit(fit, day, China, p0 = [7000, 1, 1]) # az illesztés elvégzése\n",
    "perr = sqrt(diag(pcov))                                 #az illesztési paraméterek hibáinak meghatározása\n",
    "print (['a','b','c'])\n",
    "print (popt)                                            #nézzük meg, hogy mit a vissza"
   ]
  },
  {
   "cell_type": "code",
   "execution_count": 9,
   "metadata": {},
   "outputs": [
    {
     "data": {
      "text/plain": [
       "Text(0, 0.5, 'esetszám')"
      ]
     },
     "execution_count": 9,
     "metadata": {},
     "output_type": "execute_result"
    },
    {
     "data": {
      "image/png": "[encoded data removed]",
      "text/plain": [
       "<Figure size 432x288 with 1 Axes>"
      ]
     },
     "metadata": {
      "needs_background": "light"
     },
     "output_type": "display_data"
    }
   ],
   "source": [
    "plot(day, fit(day, popt[0], popt[1], popt[2]), label = 'illesztett függvény', color = 'slateblue')\n",
    "plot(day, China, label = 'kínai adatok', color = 'crimson')\n",
    "\n",
    "plt.legend()       #ebben a cellában plottoljuk az illesztett függvényt és magát a Kínát\n",
    "xlabel('nap')\n",
    "ylabel('esetszám')"
   ]
  },
  {
   "cell_type": "markdown",
   "metadata": {},
   "source": []
  },
  {
   "cell_type": "code",
   "execution_count": null,
   "metadata": {},
   "outputs": [],
   "source": []
  }
 ],
 "metadata": {
  "kernelspec": {
   "display_name": "Python 3",
   "language": "python",
   "name": "python3"
  },
  "language_info": {
   "codemirror_mode": {
    "name": "ipython",
    "version": 3
   },
   "file_extension": ".py",
   "mimetype": "text/x-python",
   "name": "python",
   "nbconvert_exporter": "python",
   "pygments_lexer": "ipython3",
   "version": "3.6.8"
  }
 },
 "nbformat": 4,
 "nbformat_minor": 2
}
