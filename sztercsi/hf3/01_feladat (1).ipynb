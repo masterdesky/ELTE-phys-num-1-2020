{
 "cells": [
  {
   "cell_type": "markdown",
   "metadata": {},
   "source": [
    "# Feladat 1 (2 pont)\n",
    "\n",
    "Ebben a feladatban az `egbolt.pkl` nevű a `pickle` csomag segítségével írt file-t fogjátok vizsgálni. A feladat további részletezése magában az `egbolt.pkl` file-ban található.\n",
    "A `pickle` modul `load` függvénye segítségével hajtsuk végre a feladatot! Segítségül 16 db objektum van tárolva a file-ba!"
   ]
  },
  {
   "cell_type": "code",
   "execution_count": 1,
   "metadata": {},
   "outputs": [
    {
     "name": "stdout",
     "output_type": "stream",
     "text": [
      "Populating the interactive namespace from numpy and matplotlib\n"
     ]
    }
   ],
   "source": [
    "%pylab inline\n",
    "import pickle as pkl\n",
    "from statistics import mean #ezekre lesz szükség a feladat megoldásához"
   ]
  },
  {
   "cell_type": "code",
   "execution_count": 2,
   "metadata": {},
   "outputs": [
    {
     "name": "stdout",
     "output_type": "stream",
     "text": [
      "Ebben a bináris fájlban a napnyugta utáni égboltról készült fekete-fehér felvételek vannak tárolva.\n",
      "A következő 7 sorban a feladatok vannak részeletezve, majd a 3 kép, köztük üres sorokkal.\n",
      "1, Olvasd be a 3 felvételt!\n",
      "2, A képek átlagos fényessége alapján milyen sorrendben készültek a felvételek?\n",
      "Erről készíts egy olyan ábrát, ahol a három felvétel egymás mellett szerepel három subploton.\n",
      "Ezeknek a címe az legyen, hogy hanyadikként olvastad be a fájlból.\n",
      "Mivel ezek fényképek, nem pedig grafikonok, ne legyen tengely feltüntetve körülöttük.\n",
      "Ügyelj arra, hogy fekete-fehér képként jelenjenek meg.\n",
      "3, A legfényesebb pont hány pixelnyit mozdult el a sorba rakott képek közül az első és az utolsó között?\n",
      "\n",
      "[[0.03142941 0.03142941 0.03142941 ... 0.03142941 0.03142941 0.03142941]\n",
      " [0.03373137 0.03373137 0.03373137 ... 0.03373137 0.03373137 0.03373137]\n",
      " [0.03373137 0.03373137 0.03373137 ... 0.03373137 0.03373137 0.03373137]\n",
      " ...\n",
      " [0.21461255 0.21461255 0.21533765 ... 0.26218785 0.26101569 0.26218785]\n",
      " [0.21461255 0.21461255 0.21533765 ... 0.25826667 0.26056863 0.25826667]\n",
      " [0.21578471 0.21578471 0.21533765 ... 0.25826667 0.25709451 0.25709451]]\n",
      "\n",
      "[[0.04170039 0.04170039 0.04170039 ... 0.0555302  0.0555302  0.0555302 ]\n",
      " [0.04170039 0.04170039 0.04170039 ... 0.0555302  0.0555302  0.0555302 ]\n",
      " [0.04170039 0.04170039 0.04170039 ... 0.05597726 0.05597726 0.05597726]\n",
      " ...\n",
      " [0.29520432 0.29520432 0.29520432 ... 0.27864001 0.27864001 0.27864001]\n",
      " [0.29475726 0.29592942 0.29592942 ... 0.27516589 0.27516589 0.27471883]\n",
      " [0.29548236 0.29548236 0.29548236 ... 0.27471883 0.27471883 0.27471883]]\n",
      "\n",
      "[[0.03142941 0.03490353 0.03490353 ... 0.04157373 0.04157373 0.04157373]\n",
      " [0.03373137 0.03373137 0.03373137 ... 0.04157373 0.04157373 0.04157373]\n",
      " [0.03417843 0.03417843 0.03417843 ... 0.04202079 0.04202079 0.04202079]\n",
      " ...\n",
      " [0.25495413 0.25495413 0.25495413 ... 0.30069923 0.30069923 0.30069923]\n",
      " [0.2588753  0.25495413 0.25495413 ... 0.29722511 0.29722511 0.29722511]\n",
      " [0.2588753  0.2588753  0.25495413 ... 0.29767217 0.29767217 0.29767217]]\n",
      "Fájl vége.\n"
     ]
    }
   ],
   "source": [
    "with open(\"egbolt.pkl\",\"rb\") as file:#először megnézzük a feladatot\n",
    "    for i in range(16): #tudjuk, hogy 16 sor a pickle, ezeken végig iterálunk a loaddal\n",
    "        print(pkl.load(file))"
   ]
  },
  {
   "cell_type": "markdown",
   "metadata": {},
   "source": [
    "Most, hogy már tudjuk a feladatot, elkezdhetjük megcsinálni"
   ]
  },
  {
   "cell_type": "code",
   "execution_count": 3,
   "metadata": {},
   "outputs": [],
   "source": [
    "sorok = [] #ebbe a tömbbe gyűjtjük majd ki a sorokat\n",
    "\n",
    "with (open(\"egbolt.pkl\", \"rb\")) as file: #újra meg kell nyitni a filet\n",
    "    while True:\n",
    "        try: #minden sort appendáljon a sorok tömbhöz, amíg vannak sorok\n",
    "            sorok.append(pkl.load(file))\n",
    "        except EOFError: #ha end of file errort kap\n",
    "            break #akkor lépjen ki"
   ]
  },
  {
   "cell_type": "code",
   "execution_count": 4,
   "metadata": {},
   "outputs": [],
   "source": [
    "a, b, c = sorok[10:15:2] #a,b,c lesz a 3 szükséges array, amiket úgy állítunk elő, \n",
    "                         #hogy a sorok 10. és 15. eleme közt minden második elemet kiveszünk"
   ]
  },
  {
   "cell_type": "code",
   "execution_count": 5,
   "metadata": {},
   "outputs": [
    {
     "name": "stdout",
     "output_type": "stream",
     "text": [
      "0.12156168054580256\n",
      "0.1730840680636764\n",
      "0.16209143724373995\n"
     ]
    }
   ],
   "source": [
    "print(numpy.mean(a)) #ahhoz, hogy megnézzük hogy melyik kép a legfényesebb, vennünk kell az arrayek átlagát,\n",
    "print(numpy.mean(b)) #ebből kiderül hogy melyiken van a legtöbb világos pixel ->melyik a legfényesebb\n",
    "print(numpy.mean(c))"
   ]
  },
  {
   "cell_type": "code",
   "execution_count": 13,
   "metadata": {},
   "outputs": [
    {
     "data": {
      "image/png": "[encoded data removed]",
      "text/plain": [
       "<Figure size 432x288 with 3 Axes>"
      ]
     },
     "metadata": {
      "needs_background": "light"
     },
     "output_type": "display_data"
    }
   ],
   "source": [
    "fig, axs = plt.subplots(1, 3, constrained_layout=True) #egy sorban legyen a 3 subplot\n",
    "\n",
    "axs[0].imshow(b, cmap = 'gray') #az első kép pozíciója, beállítjuk, hogy fekete-fehér legyen a cmap segítségével\n",
    "axs[0].set_title('2. kép') #kép címe\n",
    "axs[0].axis('off') #tengelyek kikapcsolása\n",
    "\n",
    "axs[1].imshow(c, cmap = 'gray') #fényességi sorrendben a c kép a következő\n",
    "axs[1].set_title('3. kép')\n",
    "axs[1].axis('off')\n",
    "\n",
    "axs[2].imshow(a, cmap = 'gray')#majd a b\n",
    "axs[2].set_title('1. kép')\n",
    "axs[2].axis('off')\n",
    "\n",
    "plt.show() #printelje ki a 3 képet"
   ]
  },
  {
   "cell_type": "code",
   "execution_count": 8,
   "metadata": {},
   "outputs": [
    {
     "ename": "ValueError",
     "evalue": "The truth value of an array with more than one element is ambiguous. Use a.any() or a.all()",
     "output_type": "error",
     "traceback": [
      "\u001b[0;31m---------------------------------------------------------------------------\u001b[0m",
      "\u001b[0;31mValueError\u001b[0m                                Traceback (most recent call last)",
      "\u001b[0;32m<ipython-input-8-9051a300e23f>\u001b[0m in \u001b[0;36m<module>\u001b[0;34m\u001b[0m\n\u001b[0;32m----> 1\u001b[0;31m \u001b[0ma\u001b[0m\u001b[0;34m.\u001b[0m\u001b[0mall\u001b[0m\u001b[0;34m(\u001b[0m\u001b[0mmin\u001b[0m\u001b[0;34m(\u001b[0m\u001b[0ma\u001b[0m\u001b[0;34m)\u001b[0m\u001b[0;34m)\u001b[0m\u001b[0;34m\u001b[0m\u001b[0;34m\u001b[0m\u001b[0m\n\u001b[0m",
      "\u001b[0;31mValueError\u001b[0m: The truth value of an array with more than one element is ambiguous. Use a.any() or a.all()"
     ]
    }
   ],
   "source": []
  }
 ],
 "metadata": {
  "kernelspec": {
   "display_name": "Python 3",
   "language": "python",
   "name": "python3"
  },
  "language_info": {
   "codemirror_mode": {
    "name": "ipython",
    "version": 3
   },
   "file_extension": ".py",
   "mimetype": "text/x-python",
   "name": "python",
   "nbconvert_exporter": "python",
   "pygments_lexer": "ipython3",
   "version": "3.6.8"
  }
 },
 "nbformat": 4,
 "nbformat_minor": 2
}
