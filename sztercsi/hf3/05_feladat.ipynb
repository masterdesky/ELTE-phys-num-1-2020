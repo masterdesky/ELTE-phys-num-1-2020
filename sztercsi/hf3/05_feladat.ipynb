{
 "cells": [
  {
   "cell_type": "markdown",
   "metadata": {},
   "source": [
    "# Feladat 5 (2 pont)\n",
    "\n",
    "A hasadó élesztő [(*Schizosaccharomyces pombe*)](https://en.wikipedia.org/wiki/Schizosaccharomyces_pombe) a sejtnövekedés egyik gyakran használt modellorganizmusa a sejtbiológiában. Hengeres sejtjei kizárólag hosszirányban nőnek, így a sejt teljes térfogata arányos a sejthosszal, ami könnyen mérhető. Sejtnövekedés a sejtciklusuk kb. 75%-ban történik, ezt követi a konstans hosszúsági fázis, amikor a sejthossz változatlan, a sejtek az osztódásra készülnek.\n",
    "\n",
    "A növekedési szakaszt több különböző függvénnyel is leírhatjuk, erre példa a bilineáris (linearizált biexponenciális) függvény, mely a következő képlettel írható le: $$CL=\\eta\\cdot \\ln[e^{\\frac{\\alpha_1(t−\\tau)}{\\eta}}+e^{\\frac{\\alpha_2(t−\\tau)}{\\eta}}]+\\varepsilon$$\n",
    "\n",
    "ahol CL a sejthossz, $\\alpha_1$ és $\\alpha_2$ a két lineáris szakasz meredeksége, $\\tau$ a sebességváltási pont pozíciója, $\\eta$ a törés élességére vonatkozó paraméter, $\\varepsilon$ pedig egy additív konstans.\n",
    "\n",
    "Bilineáris növekedés hátterében az áll, hogy a sejtek születésük után csak az egyik sejtvégükön nőnek, majd a ciklus egy adott pontján kezd el nőni a másik sejtvég is. Ugyanakkor a mai napig nincs a tudományban teljes egyetértés, hogy a bilineáris függvény legalkalmasabb-e a növekedés leírására vagy esetleg az egyszerűbb kétparaméteres lineáris és exponenciális modellek közül valamelyik.\n",
    "\n",
    "A '*fissionyeast.txt*' fájlban egy példa sejt sejthosszmérésének eredményei találhatók a növekedési szakaszra (1. oszlop: idő, percben, 2. oszlop: Sejthossz (CL), $\\mu$m-ben).\n",
    "\n",
    " - Az adatok beolvasása után illessz az adatsorra egy bilineáris, egy lineáris ($CL = a\\cdot t+b$) és egy exponenciális ($CL = \\alpha \\cdot e^{\\beta\\cdot t}$) függvényt majd ezeket ábrázold is! A bilineáris függvény illesztése esetében $\\eta$ paraméter értékére állíts be 0.05 $\\mu$m alsó és 0.5 $\\mu$m felső limitet a `curve_fit` függvénynek!\n",
    " - Számold ki a [négyzetes hibaösszeget (SSE)](https://en.wikipedia.org/wiki/Residual_sum_of_squares) mindhárom esetre, a tapasztalatokat értékeld!\n",
    " - Mivel eltérő paraméterszámú függvényeket hasonlítunk össze, célszerű az SSE helyett inkább olyan modellszelekciós kritériumokat alkalmazni, amik súlyoznak a paraméterszámmal is, pl. [Akaike Információs Kritérium](https://en.wikipedia.org/wiki/Akaike_information_criterion): ($AIC = n_{obs}\\cdot \\ln(SSE) + 2\\cdot n_{par}$, ahol $n_{obs}$ a mérési pontok száma, $n_{par}$ pedig a modell paramétereinek száma), határozd meg, hogy melyik függvény illik a legjobban a kapott adatsorra az AIC kritérium alapján!\n"
   ]
  },
  {
   "cell_type": "code",
   "execution_count": 1,
   "metadata": {},
   "outputs": [
    {
     "name": "stdout",
     "output_type": "stream",
     "text": [
      "Populating the interactive namespace from numpy and matplotlib\n"
     ]
    }
   ],
   "source": [
    "%pylab inline\n",
    "from scipy.optimize import curve_fit #szükséges packagek"
   ]
  },
  {
   "cell_type": "code",
   "execution_count": 2,
   "metadata": {},
   "outputs": [],
   "source": [
    "with open('fission_yeast.txt') as data:\n",
    "    lines = data.readlines()            #beolvassuk a filet"
   ]
  },
  {
   "cell_type": "code",
   "execution_count": 3,
   "metadata": {},
   "outputs": [
    {
     "name": "stdout",
     "output_type": "stream",
     "text": [
      "[0.0, 2.5, 5.0, 7.5, 10.0, 12.5, 15.0, 17.5, 20.0, 22.5, 25.0, 27.5, 30.0, 32.5, 35.0, 37.5, 40.0, 42.5, 45.0, 47.5, 50.0, 52.5, 55.0, 57.5, 60.0, 62.5, 65.0, 67.5, 70.0, 72.5, 75.0, 77.5, 80.0, 82.5, 85.0, 87.5, 90.0, 92.5, 95.0, 97.5, 100.0, 102.5, 105.0, 107.5]\n",
      "[7.685, 7.881, 7.931, 8.079, 8.175, 8.4, 8.481, 8.591, 8.748, 8.837, 8.946, 9.084, 9.227, 9.291, 9.378, 9.492, 9.623, 9.827, 9.822, 9.959, 10.076, 10.207, 10.394, 10.569, 10.621, 10.786, 10.959, 11.003, 11.132, 11.412, 11.523, 11.597, 11.797, 11.973, 12.055, 12.209, 12.458, 12.621, 12.732, 12.961, 12.973, 13.152, 13.303, 13.526]\n"
     ]
    }
   ],
   "source": [
    "time = []                                  #ezen üres tömböket fogjuk majd megtölteni \n",
    "size = []\n",
    "\n",
    "for sor in lines[0:]:                      #végig iterálunk az egész fileon \n",
    "    time.append(float(sor.split('\\t')[0])) #és közben splitteljük\n",
    "    size.append(float(sor.split('\\t')[1])) \n",
    "    \n",
    "print(time)                                #nézzük meg őket\n",
    "print(size)"
   ]
  },
  {
   "cell_type": "code",
   "execution_count": 4,
   "metadata": {},
   "outputs": [
    {
     "data": {
      "text/plain": [
       "Text(0, 0.5, 'size')"
      ]
     },
     "execution_count": 4,
     "metadata": {},
     "output_type": "execute_result"
    },
    {
     "data": {
      "image/png": "[encoded data removed]",
      "text/plain": [
       "<Figure size 432x288 with 1 Axes>"
      ]
     },
     "metadata": {
      "needs_background": "light"
     },
     "output_type": "display_data"
    }
   ],
   "source": [
    "plot(time, size, color = 'deepskyblue') #először kiplottolom az adatsort, \n",
    "                                        #hogy jobban lehessen látni, hogy mihez kell fittelni majd\n",
    "xlabel('t')\n",
    "ylabel('size')"
   ]
  },
  {
   "cell_type": "code",
   "execution_count": 5,
   "metadata": {},
   "outputs": [],
   "source": [
    "def bilinear(t, alpha1, alpha2, eta, epsilon, tau):\n",
    "    return eta * log(exp((alpha1*(t - tau))/eta) + exp((alpha2*(t - tau))/eta)) + epsilon\n",
    "\n",
    "def linear(t, a, b):                    #definiáljuk a fittelendő függvényeket figyelve, \n",
    "    return (a * t) + b                  #hogy a t legyen elől mindháromnál\n",
    "\n",
    "def exponential(t, alpha, beta):\n",
    "    return alpha * exp(beta * t)"
   ]
  },
  {
   "cell_type": "markdown",
   "metadata": {},
   "source": [
    "## Bilineáris"
   ]
  },
  {
   "cell_type": "code",
   "execution_count": 6,
   "metadata": {},
   "outputs": [
    {
     "name": "stdout",
     "output_type": "stream",
     "text": [
      "['alpha1', 'alpha2', 'eta', 'epsilon', 'tau']\n",
      "[4.74474887e-02 6.17193707e-02 7.93566678e-02 1.06879367e+01\n",
      " 6.20327033e+01]\n"
     ]
    }
   ],
   "source": [
    "popt_a, pcov_a = curve_fit(bilinear, time, size, p0 = [1, 1, 1, 1, 1]) #az illesztés elvégzése\n",
    "perr_a = sqrt(diag(pcov_a))                                            #az illesztési paraméterek hibáinak meghatározása\n",
    "print (['alpha1', 'alpha2', 'eta', 'epsilon', 'tau'])\n",
    "print (popt_a)"
   ]
  },
  {
   "cell_type": "markdown",
   "metadata": {},
   "source": [
    "## Lineáris"
   ]
  },
  {
   "cell_type": "code",
   "execution_count": 7,
   "metadata": {},
   "outputs": [
    {
     "name": "stdout",
     "output_type": "stream",
     "text": [
      "['a', 'b']\n",
      "[0.05303729 7.59233636]\n"
     ]
    }
   ],
   "source": [
    "popt_b, pcov_b = curve_fit(linear, time, size) # az illesztés elvégzése\n",
    "perr_b = sqrt(diag(pcov_b))                    # az illesztési paraméterek hibáinak meghatározása\n",
    "print (['a','b'])\n",
    "print (popt_b)"
   ]
  },
  {
   "cell_type": "markdown",
   "metadata": {},
   "source": [
    "## Exponenciális"
   ]
  },
  {
   "cell_type": "code",
   "execution_count": 8,
   "metadata": {},
   "outputs": [
    {
     "name": "stdout",
     "output_type": "stream",
     "text": [
      "['alpha', 'beta']\n",
      "[7.83877658e+00 5.09467612e-03]\n"
     ]
    }
   ],
   "source": [
    "alpha = 3                                                               #kezdeti paraméterek\n",
    "beta = 0.005 \n",
    "\n",
    "popt_c, pcov_c = curve_fit(exponential, time, size, p0 = [alpha, beta]) # az illesztés elvégzése\n",
    "perr_c = sqrt(diag(pcov_c))                                             # az illesztési paraméterek hibáinak meghatározása\n",
    "print (['alpha','beta'])\n",
    "print (popt_c)"
   ]
  },
  {
   "cell_type": "code",
   "execution_count": 9,
   "metadata": {
    "scrolled": false
   },
   "outputs": [
    {
     "data": {
      "image/png": "[encoded data removed]",
      "text/plain": [
       "<Figure size 432x288 with 1 Axes>"
      ]
     },
     "metadata": {
      "needs_background": "light"
     },
     "output_type": "display_data"
    }
   ],
   "source": [
    "time = array(time) #arrayé alakítjuk a time változót\n",
    "\n",
    "#eredeti függvény\n",
    "plot(time, size, label='Original data',\n",
    "     color = 'r', lw=3)\n",
    "\n",
    "#illesztések\n",
    "plot(time, bilinear(time, *popt_a), label='Bilinear',\n",
    "     color = 'yellowgreen', lw=3, ls='--', alpha=0.8)\n",
    "\n",
    "plot(time, linear(time, *popt_b), label='Linear',\n",
    "     color = 'salmon', lw=3, ls='--', alpha=0.8)\n",
    "\n",
    "plot(time, exponential(time, *popt_c), label='Exponential',\n",
    "     color = 'c', lw=3, ls='--', alpha=0.8)\n",
    "\n",
    "ylim(7, 14) #7-től 14-ig fusson az y\n",
    "\n",
    "xlabel('t') #tengelyfeliratok\n",
    "ylabel('size')\n",
    "\n",
    "legend()\n",
    "\n",
    "show()"
   ]
  },
  {
   "cell_type": "markdown",
   "metadata": {},
   "source": [
    "## Hibák"
   ]
  },
  {
   "cell_type": "code",
   "execution_count": 11,
   "metadata": {},
   "outputs": [
    {
     "name": "stdout",
     "output_type": "stream",
     "text": [
      "[8.14263613e-04 1.49576334e-03 6.73273345e-02 1.75155136e-01\n",
      " 3.38729901e+00]\n",
      "[0.00053566 0.03343863]\n",
      "[1.50850394e-02 2.71631255e-05]\n"
     ]
    }
   ],
   "source": [
    "#négyzetes hibaösszegek\n",
    "\n",
    "print (perr_a)\n",
    "print (perr_b)\n",
    "print (perr_c)"
   ]
  },
  {
   "cell_type": "markdown",
   "metadata": {},
   "source": [
    "Ezek alapján a lineáris közelítés volt a legeredményesebb, mert ezen értékek mutatják a legkisebb eltérést az adatsorhoz képest"
   ]
  },
  {
   "cell_type": "markdown",
   "metadata": {},
   "source": [
    " - Mivel eltérő paraméterszámú függvényeket hasonlítunk össze, célszerű az SSE helyett inkább olyan modellszelekciós kritériumokat alkalmazni, amik súlyoznak a paraméterszámmal is, pl. [Akaike Információs Kritérium](https://en.wikipedia.org/wiki/Akaike_information_criterion): ($AIC = n_{obs}\\cdot \\ln(SSE) + 2\\cdot n_{par}$, ahol $n_{obs}$ a mérési pontok száma, $n_{par}$ pedig a modell paramétereinek száma), határozd meg, hogy melyik függvény illik a legjobban a kapott adatsorra az AIC kritérium alapján!"
   ]
  },
  {
   "cell_type": "code",
   "execution_count": 12,
   "metadata": {},
   "outputs": [
    {
     "name": "stdout",
     "output_type": "stream",
     "text": [
      "44\n"
     ]
    }
   ],
   "source": [
    "print(len(size)) #n_obs értéke lesz"
   ]
  },
  {
   "cell_type": "code",
   "execution_count": 13,
   "metadata": {},
   "outputs": [
    {
     "name": "stdout",
     "output_type": "stream",
     "text": [
      "[-300.98196137 -274.2252186  -106.72031449  -64.65166107   65.6814455 ]\n",
      "[-325.40837845 -143.51391364]\n",
      "[-178.53827888 -456.6006081 ]\n"
     ]
    }
   ],
   "source": [
    "#AIC módszer\n",
    "\n",
    "err_a = 44 * log(perr_a) + (2 * 6)\n",
    "err_b = 44 * log(perr_b) + (2 * 3)\n",
    "err_c = 44 * log(perr_c) + (2 * 3)\n",
    "\n",
    "print(err_a)\n",
    "print(err_b)\n",
    "print(err_c)"
   ]
  },
  {
   "cell_type": "markdown",
   "metadata": {},
   "source": [
    "Ezek alapján levonható, hogy ismételten elrontottam valamit"
   ]
  },
  {
   "cell_type": "code",
   "execution_count": null,
   "metadata": {},
   "outputs": [],
   "source": []
  }
 ],
 "metadata": {
  "kernelspec": {
   "display_name": "Python 3",
   "language": "python",
   "name": "python3"
  },
  "language_info": {
   "codemirror_mode": {
    "name": "ipython",
    "version": 3
   },
   "file_extension": ".py",
   "mimetype": "text/x-python",
   "name": "python",
   "nbconvert_exporter": "python",
   "pygments_lexer": "ipython3",
   "version": "3.6.8"
  }
 },
 "nbformat": 4,
 "nbformat_minor": 2
}
