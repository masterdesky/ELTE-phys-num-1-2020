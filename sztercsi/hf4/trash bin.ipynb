{
 "cells": [
  {
   "cell_type": "code",
   "execution_count": null,
   "metadata": {},
   "outputs": [],
   "source": [
    "DfToList = list(new_df['Diagnosis'])\n",
    "a = 'Prostate adenocarcinoma'\n",
    "b = 'Lung Squamous Cell Carcinoma'\n",
    "c = 'Lung adenocarcinoma'\n",
    "d = 'Colon adenocarcinoma'\n",
    "e = 'Breast Invasive Carcinoma'\n",
    "\n",
    "sim1 = []\n",
    "sim2 = []\n",
    "sim3 = []\n",
    "sim4 = []\n",
    "sim5 = []\n",
    "\n",
    "def similar(a, b):\n",
    "    return SequenceMatcher(None, a, b).ratio()\n",
    "\n",
    "for word in DfToList:\n",
    "    A = similar(a, word)\n",
    "    B = similar(b, word)\n",
    "    C = similar(c, word)\n",
    "    D = similar(d, word)\n",
    "    E = similar(e, word)\n",
    "    \n",
    "    sim1.append(A)\n",
    "    sim2.append(B)\n",
    "    sim3.append(C)\n",
    "    sim4.append(D)\n",
    "    sim5.append(E)"
   ]
  }
 ],
 "metadata": {
  "kernelspec": {
   "display_name": "Python 3",
   "language": "python",
   "name": "python3"
  },
  "language_info": {
   "codemirror_mode": {
    "name": "ipython",
    "version": 3
   },
   "file_extension": ".py",
   "mimetype": "text/x-python",
   "name": "python",
   "nbconvert_exporter": "python",
   "pygments_lexer": "ipython3",
   "version": "3.6.8"
  }
 },
 "nbformat": 4,
 "nbformat_minor": 2
}
