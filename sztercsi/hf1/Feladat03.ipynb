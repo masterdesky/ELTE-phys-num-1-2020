{
 "cells": [
  {
   "cell_type": "markdown",
   "metadata": {},
   "source": [
    "## Feladat 3 (2 pont)\n",
    "\n",
    "Írj két függvényt ami a 10-es ésa 4-as számrendszer közt konvertál.\n",
    " \n",
    "- A feladat megoldásához ne importálj semmilyen külső modult!\n",
    "- Legyen a 10-esből a 4-asba konvertáló függvény neve from10to4. Egy bemeneti paramétere legyen ami egy egész szám. \n",
    "  A függvény visszatérési értéke egy string legyen amelynek a karakterei a megfelelő 4-as számrendszerbeli reprezentációját adják a számnak.\n",
    "- Legyen a 4-asból a 10-esbe konvertáló függvényed neve from4to10. Egy bemeneti paraméterrel rendelkezzen ami egy string. \n",
    "  A függvény visszatérési értéke legyen egy egész szám.\n",
    "\n",
    "Ellenőrizd le, hogy ha egy tetszőleges számot od-a vissza váltassz akkor vissza kapod-e az eredeti számot!\n",
    "Ellenörzés képp itt van további 4 példa:\n",
    "\n",
    "10-es|4-as\n",
    "-|-\n",
    "`0`|`'0'`\n",
    "`42`|`'222'`\n",
    "`137`|`'2021'`\n",
    "`1982`|`132332`"
   ]
  },
  {
   "cell_type": "code",
   "execution_count": 2,
   "metadata": {},
   "outputs": [],
   "source": [
    "def from10to4(n):\n",
    "    if n < 4: #ha n kisebb mint 4 akkor nincs szükség semmilyen módosításra\n",
    "        return str(n) #a függvény ekkor térjen vissza az n-el csak stringként\n",
    "    else: #itt következik, hogy mi történjen minden más esetben\n",
    "        k='' #ez a k lesz majd a string\n",
    "        \n",
    "        if n%4 == 0: #itt megvizsgáljuk a modulo operátorral, \n",
    "            k='0' #hogy mennyi féle maradéka lehet az n néggyel való osztásának és \n",
    "        elif n%4 == 1: #hogy az egyes maradékok milyen értéket jelentenek a négyes számrendszerben\n",
    "            k='1'\n",
    "        elif n%4 == 2:\n",
    "            k='2'\n",
    "        elif n%4 == 3:\n",
    "            k='3'\n",
    "        return from10to4(n//4) + k #a függvény térjen vissza "
   ]
  },
  {
   "cell_type": "code",
   "execution_count": 2,
   "metadata": {},
   "outputs": [
    {
     "data": {
      "text/plain": [
       "'222'"
      ]
     },
     "execution_count": 2,
     "metadata": {},
     "output_type": "execute_result"
    }
   ],
   "source": [
    "from10to4(42)"
   ]
  },
  {
   "cell_type": "code",
   "execution_count": 3,
   "metadata": {},
   "outputs": [
    {
     "data": {
      "text/plain": [
       "'2021'"
      ]
     },
     "execution_count": 3,
     "metadata": {},
     "output_type": "execute_result"
    }
   ],
   "source": [
    "from10to4(137)"
   ]
  },
  {
   "cell_type": "code",
   "execution_count": 4,
   "metadata": {},
   "outputs": [
    {
     "data": {
      "text/plain": [
       "'132332'"
      ]
     },
     "execution_count": 4,
     "metadata": {},
     "output_type": "execute_result"
    }
   ],
   "source": [
    "from10to4(1982)"
   ]
  },
  {
   "cell_type": "code",
   "execution_count": 3,
   "metadata": {},
   "outputs": [
    {
     "data": {
      "text/plain": [
       "'22122'"
      ]
     },
     "execution_count": 3,
     "metadata": {},
     "output_type": "execute_result"
    }
   ],
   "source": [
    "from10to4(666)"
   ]
  },
  {
   "cell_type": "code",
   "execution_count": 5,
   "metadata": {},
   "outputs": [],
   "source": [
    "def from4to10(n):\n",
    "    value = 0 #ez az integer kiindulási értéke, ezt fogjuk majd módosítani, majd visszahívni\n",
    "    k = len(n)-1 # a string hossza-1 értékre bevezetünk egy indexet\n",
    "    j = 0 #ez a kezdeti string indexe ami szintén 0-ról indul\n",
    "    \n",
    "    for i in range(len(n)): #az n teljes hosszán fusson végig a ciklus\n",
    "        value += int(n[j]) * (4**k) #a valuehoz adja hozzá az integerré alakított \n",
    "        k -= 1 #minden ciklusban vonjon le egyet k értékéből...\n",
    "        j += 1 #...és adjon hozzá egyet j értékéhez\n",
    "        \n",
    "    return value #a függvény a value értékével térjen vissza"
   ]
  },
  {
   "cell_type": "code",
   "execution_count": 6,
   "metadata": {},
   "outputs": [
    {
     "data": {
      "text/plain": [
       "137"
      ]
     },
     "execution_count": 6,
     "metadata": {},
     "output_type": "execute_result"
    }
   ],
   "source": [
    "from4to10('2021')"
   ]
  },
  {
   "cell_type": "code",
   "execution_count": 7,
   "metadata": {},
   "outputs": [
    {
     "data": {
      "text/plain": [
       "42"
      ]
     },
     "execution_count": 7,
     "metadata": {},
     "output_type": "execute_result"
    }
   ],
   "source": [
    "from4to10('222')"
   ]
  },
  {
   "cell_type": "code",
   "execution_count": 8,
   "metadata": {},
   "outputs": [
    {
     "data": {
      "text/plain": [
       "1982"
      ]
     },
     "execution_count": 8,
     "metadata": {},
     "output_type": "execute_result"
    }
   ],
   "source": [
    "from4to10('132332')"
   ]
  },
  {
   "cell_type": "code",
   "execution_count": 9,
   "metadata": {},
   "outputs": [
    {
     "data": {
      "text/plain": [
       "666"
      ]
     },
     "execution_count": 9,
     "metadata": {},
     "output_type": "execute_result"
    }
   ],
   "source": [
    "from4to10('22122')"
   ]
  }
 ],
 "metadata": {
  "kernelspec": {
   "display_name": "Python 3",
   "language": "python",
   "name": "python3"
  },
  "language_info": {
   "codemirror_mode": {
    "name": "ipython",
    "version": 3
   },
   "file_extension": ".py",
   "mimetype": "text/x-python",
   "name": "python",
   "nbconvert_exporter": "python",
   "pygments_lexer": "ipython3",
   "version": "3.6.8"
  }
 },
 "nbformat": 4,
 "nbformat_minor": 2
}
