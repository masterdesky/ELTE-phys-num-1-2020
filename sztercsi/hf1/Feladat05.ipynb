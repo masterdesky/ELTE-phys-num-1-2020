{
 "cells": [
  {
   "cell_type": "markdown",
   "metadata": {},
   "source": [
    "## Feladat 5 (2 pont)\n",
    "\n",
    "Írj egy-egy függvényt, amik véletlenszerűen generálnak 5-ös és 6-os lottó számokat!\n",
    "\n",
    "- A függvény opcionálisan fogadjon el egy 'seed' argumentumot, ami a véletlen szám generátort inicializálja. Ha ugyanazt a seed-et adjuk meg a függvénynek, akkor mindig ugyanazokat a lottószámokat adja vissza!\n",
    "- Példaként futtasd és ellenőrizd le a megoldásodat! Ellenőrizd a seed argumentum működését is!\n",
    "- Legyenek a húzott számok eleve növekvő sorrendben!\n",
    "- Futtasd le mindkét függvényt 100 000-szer, minden esetnél kiszámolva a legkisebb két húzott szám különbségét!\n",
    "- A különbségek eloszlásáról készíts hisztogramot!"
   ]
  },
  {
   "cell_type": "code",
   "execution_count": 1,
   "metadata": {},
   "outputs": [
    {
     "name": "stdout",
     "output_type": "stream",
     "text": [
      "Populating the interactive namespace from numpy and matplotlib\n"
     ]
    }
   ],
   "source": [
    "%pylab inline"
   ]
  },
  {
   "cell_type": "markdown",
   "metadata": {},
   "source": [
    "## Ötös lottó"
   ]
  },
  {
   "cell_type": "code",
   "execution_count": 2,
   "metadata": {},
   "outputs": [],
   "source": [
    "def otos_lotto(seed):\n",
    "    random.seed(seed) #seed megadása\n",
    "    szamok = [] #ebbe a listába gyűjtjük össze majd a nyerőszámokat\n",
    "    \n",
    "    while len(szamok) < 5: #amíg a lista nem lesz 5 elemű...\n",
    "        golyo = random.randint (1, 90) #...addig 1 és 90 között 'húzzunk' random számot 1 és 90 rangeből\n",
    "        if golyo not in szamok: #ha a kihúzott szám még nem volt kihúzva korábban...\n",
    "            szamok.append(golyo) #akkor adjuk hozzá a nyerőszámok listájához\n",
    "    \n",
    "    szamok.sort() #ezzel rendezzük a számokat sorba\n",
    "    return szamok #végül a függvény térjen vissza a kihúzott számok listájával"
   ]
  },
  {
   "cell_type": "code",
   "execution_count": 3,
   "metadata": {},
   "outputs": [
    {
     "name": "stdout",
     "output_type": "stream",
     "text": [
      "[10, 16, 29, 30, 65]\n",
      "[3, 13, 24, 38, 46]\n",
      "[10, 16, 29, 30, 65]\n"
     ]
    }
   ],
   "source": [
    "print(otos_lotto(10))\n",
    "print(otos_lotto(30))\n",
    "print(otos_lotto(10))"
   ]
  },
  {
   "cell_type": "code",
   "execution_count": 4,
   "metadata": {},
   "outputs": [],
   "source": [
    "diff5 = [] #ide gyűjtjük majd az értékeket\n",
    "\n",
    "for i in range(100000): #100 000-szer fusson le a ciklus\n",
    "    numbers = otos_lotto(i) \n",
    "    legkisebb = numbers[0] #mivel a nyerőszámaink növekvő sorrendbe lettek rendezve, ezért a lista 0-s indexű eleme lesz a legkisebb\n",
    "    kovi_legkisebb = numbers[1] #...és az 1-es indexű eleme lesz a második legkisebb\n",
    "    diff = kovi_legkisebb - legkisebb #definiáljuk a különbség értékét\n",
    "    diff5.append(diff) #majd hozzáadjuk a diff5 listához"
   ]
  },
  {
   "cell_type": "markdown",
   "metadata": {},
   "source": [
    "## Hatos lottó"
   ]
  },
  {
   "cell_type": "code",
   "execution_count": 5,
   "metadata": {},
   "outputs": [],
   "source": [
    "def hatos_lotto(seed): #a hatos lottó ugyanazon az elven működik, mint az ötös csak...\n",
    "    random.seed(seed)\n",
    "    szamok = []\n",
    "    \n",
    "    while len(szamok) < 6: #...6 számot húzunk...\n",
    "        golyo = random.randint (1, 45) #...45-ből\n",
    "        if golyo not in szamok:\n",
    "            szamok.append(golyo)\n",
    "    \n",
    "    szamok.sort()\n",
    "    return szamok"
   ]
  },
  {
   "cell_type": "code",
   "execution_count": 6,
   "metadata": {},
   "outputs": [
    {
     "name": "stdout",
     "output_type": "stream",
     "text": [
      "[10, 16, 27, 29, 32, 36]\n",
      "[8, 15, 21, 29, 39, 43]\n",
      "[1, 10, 16, 26, 29, 37]\n"
     ]
    }
   ],
   "source": [
    "print(hatos_lotto(20))\n",
    "print(hatos_lotto(42))\n",
    "print(hatos_lotto(10))"
   ]
  },
  {
   "cell_type": "code",
   "execution_count": 7,
   "metadata": {},
   "outputs": [],
   "source": [
    "diff6 = [] #ugyanúgy működik, mint az ötös lottós\n",
    "for i in range(100000):\n",
    "    numbers = hatos_lotto(i)\n",
    "    legkisebb = numbers[0]\n",
    "    kovi_legkisebb = numbers[1]\n",
    "    diff = kovi_legkisebb - legkisebb\n",
    "    diff6.append(diff)"
   ]
  },
  {
   "cell_type": "markdown",
   "metadata": {},
   "source": [
    "## Hisztogrammok"
   ]
  },
  {
   "cell_type": "code",
   "execution_count": 8,
   "metadata": {},
   "outputs": [
    {
     "data": {
      "text/plain": [
       "Text(0, 0.5, 'esetek száma')"
      ]
     },
     "execution_count": 8,
     "metadata": {},
     "output_type": "execute_result"
    },
    {
     "data": {
      "image/png": "[encoded data removed]",
      "text/plain": [
       "<Figure size 432x288 with 1 Axes>"
      ]
     },
     "metadata": {
      "needs_background": "light"
     },
     "output_type": "display_data"
    }
   ],
   "source": [
    "hist(diff5, bins=40, color = 'gold') #az ötös lottóhoz készített hisztogram, 40-es felbontással és szép sárga színnel\n",
    "xlabel('különbség',fontsize=20) #tengely feliratok\n",
    "ylabel('esetek száma',fontsize=20)"
   ]
  },
  {
   "cell_type": "code",
   "execution_count": 9,
   "metadata": {},
   "outputs": [
    {
     "data": {
      "text/plain": [
       "Text(0, 0.5, 'esetek száma')"
      ]
     },
     "execution_count": 9,
     "metadata": {},
     "output_type": "execute_result"
    },
    {
     "data": {
      "image/png": "[encoded data removed]",
      "text/plain": [
       "<Figure size 432x288 with 1 Axes>"
      ]
     },
     "metadata": {
      "needs_background": "light"
     },
     "output_type": "display_data"
    }
   ],
   "source": [
    "hist(diff6, bins = 35, color = 'hotpink') #és a hatos lottó hisztogram, kicsit kisebb felbontással és rózsaszínre változtatott színnel\n",
    "xlabel('különbség',fontsize=20) #tengelyfeliratok\n",
    "ylabel('esetek száma',fontsize=20)"
   ]
  }
 ],
 "metadata": {
  "kernelspec": {
   "display_name": "Python 3",
   "language": "python",
   "name": "python3"
  },
  "language_info": {
   "codemirror_mode": {
    "name": "ipython",
    "version": 3
   },
   "file_extension": ".py",
   "mimetype": "text/x-python",
   "name": "python",
   "nbconvert_exporter": "python",
   "pygments_lexer": "ipython3",
   "version": "3.6.8"
  }
 },
 "nbformat": 4,
 "nbformat_minor": 2
}
