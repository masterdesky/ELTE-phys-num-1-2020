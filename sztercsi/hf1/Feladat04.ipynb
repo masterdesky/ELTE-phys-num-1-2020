{
 "cells": [
  {
   "cell_type": "markdown",
   "metadata": {},
   "source": [
    "## Feladat 4 (2 pont)\n",
    "\n",
    "2048-ban találkozunk idegen lényekkel, akiknek a számítógépében a számok szintén 0,1 értékű bitekkel vannak ábrázolva.\n",
    "Azonban náluk nem lehet egymás mellett két 1-es bit!\n",
    "(pl. 101000010010 egy megengedett bitsorozat).\n",
    "- Írjunk függvényt, ami adott n-re sorra veszi az összes lehetséges 0,1 sorozatot, és megszámlálja hány megengedett van köztük!\n",
    "- Hány lehetséges értéke van egy bájtnak a szokásos 256 helyett?\n",
    "- Futtassuk le ezt a függvényt n=1,2,3,...16 értékekkel, és az eredményeket gyűjtsük egy adatsorba, amit a-val jelölünk. Mit veszünk észre?\n",
    "- Ábrázoljuk az eredmények logaritmusát n függvényében! Mit tapasztalunk?\n",
    "- Rajzoljuk az ábrára a $\\left(\\frac{\\sqrt{5}+1}{2}\\right)^n$ logaritmusát is!"
   ]
  },
  {
   "cell_type": "code",
   "execution_count": 1,
   "metadata": {},
   "outputs": [],
   "source": [
    "from itertools import product"
   ]
  },
  {
   "cell_type": "code",
   "execution_count": 2,
   "metadata": {},
   "outputs": [],
   "source": [
    "def alien(n):\n",
    "    ufo = [] #ezt a listát fogjuk megtölteni értékekkel\n",
    "    osszes = list((product((0,1), repeat = n))) #ezzel állítjuk elő az összes lehetséges sorozatot\n",
    "    \n",
    "    for i in osszes: #vizsgáljuk az összes lehetséges sorozatot\n",
    "        if not any(i[k] == i[k+1] == 1 for k in range(n-1)): #ha nincs egyetlen olyan eset sem, amikor a k és a k+1 indexű tag értéke is egy... \n",
    "            ufo.append(i) #...akkor adjuk ezt hozzá az ufo listához\n",
    "    return (len(ufo)) #a függyvény az ufo lista hosszával térjen vissza "
   ]
  },
  {
   "cell_type": "code",
   "execution_count": 9,
   "metadata": {},
   "outputs": [
    {
     "data": {
      "text/plain": [
       "55"
      ]
     },
     "execution_count": 9,
     "metadata": {},
     "output_type": "execute_result"
    }
   ],
   "source": [
    "alien(8) #ennyiféle értéke lehet egy bájtnak"
   ]
  },
  {
   "cell_type": "code",
   "execution_count": 6,
   "metadata": {},
   "outputs": [
    {
     "name": "stdout",
     "output_type": "stream",
     "text": [
      "[2, 3, 5, 8, 13, 21, 34, 55, 89, 144, 233, 377, 610, 987, 1597, 2584]\n"
     ]
    }
   ],
   "source": [
    "i = 1 #most lefuttatjuk n=16-ig. Az i lesz most n, ami 1-ről indul\n",
    "a = [] #ebbe kerülnek majd az értékek\n",
    "\n",
    "while i < 17: #a while addig fusson amig i értéke el nem éri a 16-ot\n",
    "    a.append(alien(i)) #az a-hoz adódjon hozzá a kapott érték\n",
    "    i += 1 #az i értéke pedig nőljön eggyel\n",
    "    \n",
    "print(a) #nézzük mik lesznek az értékek"
   ]
  },
  {
   "cell_type": "code",
   "execution_count": null,
   "metadata": {},
   "outputs": [],
   "source": [
    "#jé, ez a Fibonacci sorozat\n",
    "#sajnos nem jutott időm befejezni a feladatot :("
   ]
  }
 ],
 "metadata": {
  "kernelspec": {
   "display_name": "Python 3",
   "language": "python",
   "name": "python3"
  },
  "language_info": {
   "codemirror_mode": {
    "name": "ipython",
    "version": 3
   },
   "file_extension": ".py",
   "mimetype": "text/x-python",
   "name": "python",
   "nbconvert_exporter": "python",
   "pygments_lexer": "ipython3",
   "version": "3.6.8"
  }
 },
 "nbformat": 4,
 "nbformat_minor": 2
}
