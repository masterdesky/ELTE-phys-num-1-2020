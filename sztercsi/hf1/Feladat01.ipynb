{
 "cells": [
  {
   "cell_type": "markdown",
   "metadata": {},
   "source": [
    "## Feladat 1 (2 pont)\n",
    "## Luhn-algoritmus\n",
    "\n",
    "- Írj egy függvényt, ami a [Luhn-algoritmus](https://hu.wikipedia.org/wiki/Luhn-formula) segítségével ellenőrzi a hitelkártyaszámok hitelességét.\n",
    "- Demonstráld az alábbi hitelkártyaszámokkal, hogy a függvény jól működik:\n",
    "    - 79927398713 (True)\n",
    "    - 79927398716 (False)\n",
    "    - 79927398719 ?\n",
    "    - 456565654 ?\n",
    "    - 456565651 ?\n"
   ]
  },
  {
   "cell_type": "code",
   "execution_count": 23,
   "metadata": {},
   "outputs": [],
   "source": [
    "def Luhn(hitelkartya_szam):\n",
    "    szam = str(hitelkartya_szam) #stringet csinálok a számból\n",
    "    szamjegyek = [] #erre majd a végén lesz szükség\n",
    "    \n",
    "    for lm in szam[::-1][1::2]: #végig szeretnék lépkedni rajta a hátulról 1. elemtől kettesével\n",
    "        x = int(lm) * 2 #integerré alakítom ezeket az elemeket és szorzom kettővel\n",
    "        if x >= 10: #ha nagyobb ez a szám mint 10...\n",
    "            x = (x%10)+1 #akkor ezzel a módszerrel tudom összeadni a számjegyeket\n",
    "        szamjegyek.append(x) #az így megcsinált értékeket appendelem a szamjegyekbe\n",
    "    \n",
    "    osszeg = sum(szamjegyek) #szummázom a szamjegyek értékeit\n",
    "    for lm in szam[::-1][::2]: #ezek azok az értékek az eredeti szam-ból, amiket nem módosítottunk\n",
    "        osszeg += int(lm) #integerré alakítom ezeket és hozzáadom a az osszeghez\n",
    "    return osszeg % 10 == 0 #megnézem, hogy az összeg osztható-e 10-el"
   ]
  },
  {
   "cell_type": "code",
   "execution_count": 24,
   "metadata": {},
   "outputs": [
    {
     "data": {
      "text/plain": [
       "False"
      ]
     },
     "execution_count": 24,
     "metadata": {},
     "output_type": "execute_result"
    }
   ],
   "source": [
    "Luhn(79927398719)"
   ]
  },
  {
   "cell_type": "code",
   "execution_count": 25,
   "metadata": {},
   "outputs": [
    {
     "data": {
      "text/plain": [
       "True"
      ]
     },
     "execution_count": 25,
     "metadata": {},
     "output_type": "execute_result"
    }
   ],
   "source": [
    "Luhn(456565654)"
   ]
  },
  {
   "cell_type": "code",
   "execution_count": 26,
   "metadata": {},
   "outputs": [
    {
     "data": {
      "text/plain": [
       "False"
      ]
     },
     "execution_count": 26,
     "metadata": {},
     "output_type": "execute_result"
    }
   ],
   "source": [
    "Luhn(456565651)"
   ]
  },
  {
   "cell_type": "code",
   "execution_count": 27,
   "metadata": {},
   "outputs": [
    {
     "data": {
      "text/plain": [
       "True"
      ]
     },
     "execution_count": 27,
     "metadata": {},
     "output_type": "execute_result"
    }
   ],
   "source": [
    "Luhn(79927398713)"
   ]
  },
  {
   "cell_type": "code",
   "execution_count": 28,
   "metadata": {},
   "outputs": [
    {
     "data": {
      "text/plain": [
       "False"
      ]
     },
     "execution_count": 28,
     "metadata": {},
     "output_type": "execute_result"
    }
   ],
   "source": [
    "Luhn(79927398716)"
   ]
  }
 ],
 "metadata": {
  "kernelspec": {
   "display_name": "Python 3",
   "language": "python",
   "name": "python3"
  },
  "language_info": {
   "codemirror_mode": {
    "name": "ipython",
    "version": 3
   },
   "file_extension": ".py",
   "mimetype": "text/x-python",
   "name": "python",
   "nbconvert_exporter": "python",
   "pygments_lexer": "ipython3",
   "version": "3.6.8"
  }
 },
 "nbformat": 4,
 "nbformat_minor": 2
}
