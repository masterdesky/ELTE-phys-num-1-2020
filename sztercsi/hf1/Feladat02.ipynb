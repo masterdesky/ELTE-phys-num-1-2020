{
 "cells": [
  {
   "cell_type": "markdown",
   "metadata": {},
   "source": [
    "## Feladat 2  (2 pont)\n",
    "\n",
    "Az Euler brick a Pithagoraszi számhármas általánosításának felel meg: olyan téglatest, melynek élei és lapátlói is egész szám hosszúságúak.\n",
    "\n",
    "- Írjunk függvényt, ami adott n-hez végigpróbálja az összes, n-nél kisebb vagy egyenlő pozitív egészekből alkotott (a,b,c) számhármasra, hogy a neki megfelelő tégletest lapátlói egész hosszúságúek-e. Ha talál ilyen számhármasokat, akkor azokból listát alkotva adja őket vissza eredményül!\n",
    "- Futtassuk le n=24, 240, 280 értékekkel!"
   ]
  },
  {
   "cell_type": "code",
   "execution_count": 1,
   "metadata": {},
   "outputs": [],
   "source": [
    "import numpy as np #ez a végén fog kelleni a feltételekhez\n",
    "from itertools import product #a product hasznos lesz a permutációk effektív legyártásához"
   ]
  },
  {
   "cell_type": "code",
   "execution_count": 2,
   "metadata": {},
   "outputs": [],
   "source": [
    "def bricks(n):\n",
    "    _list = [] #ez lesz az összes lehetséges permuációkból álló lista\n",
    "    brick_list = [] #ez pedig a feltételeinknek megfelelő permutációkból álló lista\n",
    "    for item in product([i for i in range(1, n+1)], repeat=3): \n",
    "        _list.append(item)\n",
    "    \n",
    "    for element in _list:\n",
    "        a = element[0] #megadom hogy a lista hanyadik eleme az 'a' ,a 'b' és a 'c' oldal \n",
    "        b = element[1]\n",
    "        c = element[2]\n",
    "    \n",
    "        ab = np.sqrt(a**2 + b**2) #ezek a feltételek, amiknek teljesülnie kell\n",
    "        ac = np.sqrt(a**2 + c**2)\n",
    "        bc = np.sqrt(b**2 + c**2)\n",
    "        \n",
    "        if ab.is_integer() and ac.is_integer() and bc.is_integer(): #ahhoz, hogy igaz legyen az Euler-brick minden szám integer kell hogy legyen\n",
    "            print('Correct lengths: a={0}, b={1}, c={2}'.format(a, b, c)) #ez csak azért kell hogy szebb legyen\n",
    "            brick_list.append((a,b,c)) #ez lesz az a lista ami tartalmazza a lehetséges pitagoraszi számhármasokat\n",
    "    \n",
    "    return brick_list"
   ]
  },
  {
   "cell_type": "raw",
   "metadata": {},
   "source": [
    "bricks(24)"
   ]
  },
  {
   "cell_type": "code",
   "execution_count": 3,
   "metadata": {},
   "outputs": [
    {
     "name": "stdout",
     "output_type": "stream",
     "text": [
      "Correct lengths: a=44, b=117, c=240\n",
      "Correct lengths: a=44, b=240, c=117\n",
      "Correct lengths: a=117, b=44, c=240\n",
      "Correct lengths: a=117, b=240, c=44\n",
      "Correct lengths: a=240, b=44, c=117\n",
      "Correct lengths: a=240, b=117, c=44\n"
     ]
    },
    {
     "data": {
      "text/plain": [
       "[(44, 117, 240),\n",
       " (44, 240, 117),\n",
       " (117, 44, 240),\n",
       " (117, 240, 44),\n",
       " (240, 44, 117),\n",
       " (240, 117, 44)]"
      ]
     },
     "execution_count": 3,
     "metadata": {},
     "output_type": "execute_result"
    }
   ],
   "source": [
    "bricks(240)"
   ]
  },
  {
   "cell_type": "code",
   "execution_count": 4,
   "metadata": {},
   "outputs": [
    {
     "name": "stdout",
     "output_type": "stream",
     "text": [
      "Correct lengths: a=44, b=117, c=240\n",
      "Correct lengths: a=44, b=240, c=117\n",
      "Correct lengths: a=117, b=44, c=240\n",
      "Correct lengths: a=117, b=240, c=44\n",
      "Correct lengths: a=240, b=44, c=117\n",
      "Correct lengths: a=240, b=117, c=44\n",
      "Correct lengths: a=240, b=252, c=275\n",
      "Correct lengths: a=240, b=275, c=252\n",
      "Correct lengths: a=252, b=240, c=275\n",
      "Correct lengths: a=252, b=275, c=240\n",
      "Correct lengths: a=275, b=240, c=252\n",
      "Correct lengths: a=275, b=252, c=240\n"
     ]
    },
    {
     "data": {
      "text/plain": [
       "[(44, 117, 240),\n",
       " (44, 240, 117),\n",
       " (117, 44, 240),\n",
       " (117, 240, 44),\n",
       " (240, 44, 117),\n",
       " (240, 117, 44),\n",
       " (240, 252, 275),\n",
       " (240, 275, 252),\n",
       " (252, 240, 275),\n",
       " (252, 275, 240),\n",
       " (275, 240, 252),\n",
       " (275, 252, 240)]"
      ]
     },
     "execution_count": 4,
     "metadata": {},
     "output_type": "execute_result"
    }
   ],
   "source": [
    "bricks(280)"
   ]
  },
  {
   "cell_type": "code",
   "execution_count": 5,
   "metadata": {},
   "outputs": [],
   "source": [
    "# :)"
   ]
  }
 ],
 "metadata": {
  "kernelspec": {
   "display_name": "Python 3",
   "language": "python",
   "name": "python3"
  },
  "language_info": {
   "codemirror_mode": {
    "name": "ipython",
    "version": 3
   },
   "file_extension": ".py",
   "mimetype": "text/x-python",
   "name": "python",
   "nbconvert_exporter": "python",
   "pygments_lexer": "ipython3",
   "version": "3.6.8"
  }
 },
 "nbformat": 4,
 "nbformat_minor": 2
}
