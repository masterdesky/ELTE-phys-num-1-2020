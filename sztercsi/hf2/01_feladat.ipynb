{
 "cells": [
  {
   "cell_type": "markdown",
   "metadata": {},
   "source": [
    "# Feladat 1 (2 pont)\n",
    "\n",
    "- Írj egy függvényt, amelynek a neve `hany_sajatertek`. A függvényednek egy bemenő paramétere legyen, ami egy kétindexes `numpy` `array`, amely egy szimmetrikus valós mátrixot reprezentál. \n",
    "- A függvényed visszatérési értéke egy olyan `list` típusú változó legyen, amely számpárokat tartalmaz. (Tehát a lista minden eleme egy kételemű lista.) Minden számpáros első tagja a bemenő mátrix egyik sajátértéke, a második tagja pedig az adott sajátértékhez tartozó multiplicitás (hányszorosan degenerált az adott sajátérték) legyen. Például, ha az alábbi `array`-t vesszük \n",
    "\n",
    ">```python\n",
    ">A=array([[1,0,0,0],\n",
    ">          [0,0,1,0],\n",
    ">          [0,1,0,0],\n",
    ">          [0,0,0,2]])\n",
    ">```\n",
    "\n",
    "akkor a függvény az alábbi visszatérési értéket adja:\n",
    "\n",
    ">```python\n",
    ">hany_sajatertek(A)\n",
    ">> [[-1.0,1],[1.0,2],[2.0,1]]\n",
    ">\n",
    ">```\n",
    "\n",
    "- A rutin a sajátértékek meghatározásához a `numpy` által kínált [`eigenvalsh`](https://docs.scipy.org/doc/numpy/reference/generated/numpy.linalg.eigvalsh.html) függvényt használja, amely a sajátértékek sorbarendezett meghatározását teszi lehetővé szimmetrikus és Hermitikus mátrixok esetén!\n",
    "- **Figyelem:** valós számokat akkor tekintünk numerikusan egyenlőnek, ha egy előre meghatározott kicsi $\\varepsilon$ számnál kisebb a különbségük abszolútértéke! Vegyük ebben a feladatban $\\varepsilon$ értékét $10^{-10}$-nek!\n",
    "\n",
    "- Határozd meg az alábbi gráf [szomszédsági mátrixát](https://hu.wikipedia.org/wiki/Szomsz%C3%A9ds%C3%A1gi_m%C3%A1trix):\n",
    "\n",
    "![](https://upload.wikimedia.org/wikipedia/commons/thumb/0/05/Paley13.svg/495px-Paley13.svg.png)\n",
    "\n",
    "- A szomszédsági mátrix felépítésében segítségedre lehet a numpy néhány `array`-ek [létrehozására](https://docs.scipy.org/doc/numpy/reference/routines.array-creation.html) és [manipulálására](https://docs.scipy.org/doc/numpy/reference/routines.array-manipulation.html) kitalált rutinja.\n",
    "- A `hany_sajatertek` függvény segítségével bizonyítsd be numerikus számítással, hogy a szomszédsági mátrixnak 3 különböző sajátértéke van! \n",
    "- A `hany_sajatertek` függvény kimenetét diszkutáld! Saját szavaiddal írd le, hogy a vizsgált gráf szomszédsági mátrixának sajátértékei hányszorosan degeneráltak!"
   ]
  },
  {
   "cell_type": "code",
   "execution_count": 1,
   "metadata": {},
   "outputs": [
    {
     "name": "stdout",
     "output_type": "stream",
     "text": [
      "Populating the interactive namespace from numpy and matplotlib\n"
     ]
    }
   ],
   "source": [
    "%pylab inline \n",
    "from numpy import linalg as LA"
   ]
  },
  {
   "cell_type": "code",
   "execution_count": 8,
   "metadata": {
    "scrolled": true
   },
   "outputs": [],
   "source": [
    "def hany_sajatertek(A):\n",
    "    eigvals = [] #ez lesz a lista amivel majd visszatér a függvény\n",
    "    \n",
    "    eig_A = np.linalg.eigvalsh(A) #csinálunk sajátértékeket\n",
    "    \n",
    "    for i in range(0, len(eig_A)-1): #megvizsgáljuk a kapott sajátértékeket\n",
    "        for j in range(i+1, len(eig_A)): #végignézzük az összes sajátértékre, hogy van-e egyezés\n",
    "            if eig_A[i] == eig_A[j]: #ha két sajátérték egyezik        \n",
    "                for eig_i in eig_A: #végig iterálunk eig_A elemein\n",
    "                    \n",
    "                    found = False #jelöljük, hogy az adott lépésben megtaláltuk-e már az eigvals tömbben vagy sem\n",
    "        \n",
    "                    for idx, eig in enumerate(eigvals): #menjünk végig az eigvals elemein és nézzük meg hogy szerepel-e a jelenlegi eig_i benne\n",
    "                        if eig[0] == eig_i: #ha egyezést találunk\n",
    "                            eigvals[idx][1] += 1 #hozzáadunk egyet a multiplicitás fokához\n",
    "                            \n",
    "                            found = True #megtaláltuk, nincs már vele dolog...\n",
    "                            break #...megszakíthatjuk a ciklust \n",
    "                \n",
    "                    if not found:\n",
    "                        eigvals.append([eig_i, 1]) #ha nem találunk egyezést, akkor térjen vissza a sajátértékkel és 1-es multiplicitással\n",
    "    \n",
    "    return(eigvals)            "
   ]
  },
  {
   "cell_type": "code",
   "execution_count": 3,
   "metadata": {},
   "outputs": [
    {
     "name": "stdout",
     "output_type": "stream",
     "text": [
      "[[-1.0, 1], [1.0, 2], [2.0, 1]] siker! :)\n"
     ]
    }
   ],
   "source": [
    "A=array([[1,0,0,0],\n",
    "         [0,0,1,0],\n",
    "         [0,1,0,0],\n",
    "         [0,0,0,2]])\n",
    "\n",
    "print(hany_sajatertek(A), 'siker! :)') #próba"
   ]
  },
  {
   "cell_type": "code",
   "execution_count": 4,
   "metadata": {},
   "outputs": [],
   "source": [
    "from scipy.linalg import circulant #ez jelentősen lerövidíti majd a szomszédsági mátrix megalkotását"
   ]
  },
  {
   "cell_type": "code",
   "execution_count": 6,
   "metadata": {},
   "outputs": [
    {
     "data": {
      "text/plain": [
       "array([[0, 1, 0, 1, 1, 0, 0, 0, 0, 1, 1, 0, 1],\n",
       "       [1, 0, 1, 0, 1, 1, 0, 0, 0, 0, 1, 1, 0],\n",
       "       [0, 1, 0, 1, 0, 1, 1, 0, 0, 0, 0, 1, 1],\n",
       "       [1, 0, 1, 0, 1, 0, 1, 1, 0, 0, 0, 0, 1],\n",
       "       [1, 1, 0, 1, 0, 1, 0, 1, 1, 0, 0, 0, 0],\n",
       "       [0, 1, 1, 0, 1, 0, 1, 0, 1, 1, 0, 0, 0],\n",
       "       [0, 0, 1, 1, 0, 1, 0, 1, 0, 1, 1, 0, 0],\n",
       "       [0, 0, 0, 1, 1, 0, 1, 0, 1, 0, 1, 1, 0],\n",
       "       [0, 0, 0, 0, 1, 1, 0, 1, 0, 1, 0, 1, 1],\n",
       "       [1, 0, 0, 0, 0, 1, 1, 0, 1, 0, 1, 0, 1],\n",
       "       [1, 1, 0, 0, 0, 0, 1, 1, 0, 1, 0, 1, 0],\n",
       "       [0, 1, 1, 0, 0, 0, 0, 1, 1, 0, 1, 0, 1],\n",
       "       [1, 0, 1, 1, 0, 0, 0, 0, 1, 1, 0, 1, 0]])"
      ]
     },
     "execution_count": 6,
     "metadata": {},
     "output_type": "execute_result"
    }
   ],
   "source": [
    "circulant([0, 1, 0, 1, 1, 0, 0, 0, 0, 1, 1, 0, 1]) #szomszédsági mátrix"
   ]
  },
  {
   "cell_type": "code",
   "execution_count": 7,
   "metadata": {},
   "outputs": [
    {
     "data": {
      "text/plain": [
       "[[-2.3027756377319957, 2],\n",
       " [-2.3027756377319952, 2],\n",
       " [-2.302775637731995, 2],\n",
       " [-2.302775637731994, 4],\n",
       " [-2.3027756377319935, 2],\n",
       " [1.3027756377319943, 4],\n",
       " [1.3027756377319948, 2],\n",
       " [1.302775637731995, 2],\n",
       " [1.3027756377319957, 2],\n",
       " [1.3027756377319963, 2],\n",
       " [5.999999999999998, 2]]"
      ]
     },
     "execution_count": 7,
     "metadata": {},
     "output_type": "execute_result"
    }
   ],
   "source": [
    "hany_sajatertek(circulant([0, 1, 0, 1, 1, 0, 0, 0, 0, 1, 1, 0, 1])) #és a sajátértékei"
   ]
  },
  {
   "cell_type": "markdown",
   "metadata": {},
   "source": [
    "Ha az $\\varepsilon$ értékét $10^{-10}$-nek vesszük, akkor látható hogy a mátrixnak 3 sajátértéke van:\n",
    "- -2,3~\n",
    "- 1,3~\n",
    "- 5, 99~"
   ]
  }
 ],
 "metadata": {
  "kernelspec": {
   "display_name": "Python 3",
   "language": "python",
   "name": "python3"
  },
  "language_info": {
   "codemirror_mode": {
    "name": "ipython",
    "version": 3
   },
   "file_extension": ".py",
   "mimetype": "text/x-python",
   "name": "python",
   "nbconvert_exporter": "python",
   "pygments_lexer": "ipython3",
   "version": "3.6.8"
  }
 },
 "nbformat": 4,
 "nbformat_minor": 2
}
