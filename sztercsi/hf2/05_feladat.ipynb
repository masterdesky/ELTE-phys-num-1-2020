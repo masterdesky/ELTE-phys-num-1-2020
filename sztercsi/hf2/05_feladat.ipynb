{
 "cells": [
  {
   "cell_type": "markdown",
   "metadata": {},
   "source": [
    "# Feladat 5 (2 pont)\n",
    "\n",
    "- Vizsgáljuk a [csillapított harmonikus oszcillátor](https://en.wikipedia.org/wiki/Harmonic_oscillator#Damped_harmonic_oscillator) mozgását! A megoldandó differenciálegyenlet:\n",
    "$$ \\frac{\\mathrm{d}^2x}{\\mathrm{d}t^2}=-2\\beta\\omega_0\\frac{\\mathrm{d}x(t)}{\\mathrm{d}t}-\\omega_0^2 x(t) $$\n",
    "aminek zárt alakban létezik analitikus megoldása:\n",
    "$$ x_{\\mathrm{exact}}(t)=\\mathrm{e}^{-\\beta t} \\left [\\frac{v_0 + \\beta x_0}{\\omega}\\sin(\\omega t)+x_0\\cos(\\omega t) \\right ] $$\n",
    "ahol \n",
    "$$ \\omega=\\sqrt{\\omega_0^2-\\beta^2},$$ továbbá $x_0$ az oszcillátor kezdőpozíciója, $v_0$ pedig a kezdősebesség.\n",
    "\n",
    "- Oldd meg a differenciálegyenletet a `scipy` modul [`odeint`](https://docs.scipy.org/doc/scipy/reference/generated/scipy.integrate.odeint.html#scipy.integrate.odeint) függvénye segítségével, $\\omega_0=1$ érték mellett, enyhén csillapított $\\beta<1$ és túlcsillapított $\\beta>1$ esetre $x_0=0$ és $v_0=1$ kezdőfeltételek esetén a $t\\in[0,20]$ időintervallumon! **Figyelem:** ahogy azt a [mintapéldában](http://oroszl.web.elte.hu/fiznum1/static_notebooks/Package06/mintapelda06.html) is láttuk, először a másodrendű differenciálegyenletet át kell írni **két** elsőrendűre! \n",
    "- Készíts két ábrát a két esetről, például $\\beta=0.9$ és $\\beta=1.1$, amin a numerikus és az analitikus megoldásokat összehasonlítod! \n",
    "- Saját szavaiddal fogalmazd meg, hogy milyen az analitikus és a numerikus eredmények viszonya!\n"
   ]
  },
  {
   "cell_type": "code",
   "execution_count": null,
   "metadata": {},
   "outputs": [],
   "source": []
  }
 ],
 "metadata": {
  "kernelspec": {
   "display_name": "Python 3",
   "language": "python",
   "name": "python3"
  },
  "language_info": {
   "codemirror_mode": {
    "name": "ipython",
    "version": 3
   },
   "file_extension": ".py",
   "mimetype": "text/x-python",
   "name": "python",
   "nbconvert_exporter": "python",
   "pygments_lexer": "ipython3",
   "version": "3.6.8"
  }
 },
 "nbformat": 4,
 "nbformat_minor": 2
}
