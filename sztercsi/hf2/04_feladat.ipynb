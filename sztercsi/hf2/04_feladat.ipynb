{
 "cells": [
  {
   "cell_type": "markdown",
   "metadata": {},
   "source": [
    "# Feladat 4 (2 pont)\n",
    "\n",
    "A [Gegenbauer-polinomok](https://en.wikipedia.org/wiki/Gegenbauer_polynomials) az alábbi rekurziós reláció által definiált polinomok:\n",
    "\n",
    "\\begin{aligned}C_{0}^{\\alpha }(x)&=1\\\\C_{1}^{\\alpha }(x)&=2\\alpha x\\\\C_{n}^{\\alpha }(x)&={\\frac  {1}{n}}[2x(n+\\alpha -1)C_{{n-1}}^{\\alpha }(x)-(n+2\\alpha -2)C_{{n-2}}^{\\alpha }(x)].\\end{aligned}\n",
    "\n",
    "- Hozz létre egy `geg` nevű függvényt, aminek három paramétere van: `x`, `n` és `alpha`. Kimeneti értéke pedig a fent definiált Gegenbauer-polinom $C_n^{(\\alpha)}(x)$ értéke. \n",
    "- Hozz létre egy `F` nevű függvényt, aminek négy bemenő paramétere van: `y`, `n`, `m` és `alpha`. Kimeneti értéke pedig az alább definiált integrál numerikusan kiértékelve:\n",
    "$$F^{(\\alpha)}_{n,m}(y)=\\int _{{-1}}^{y}C_{n}^{{(\\alpha )}}(x)C_{m}^{{(\\alpha )}}(x)\\left (1-x^{2}\\right )^{{\\alpha -{\\frac  {1}{2}}}}\\,dx$$\n",
    "- A numerikus integrál elvégzéséhez használd a `scipy` csomag [`quad`](https://docs.scipy.org/doc/scipy/reference/generated/scipy.integrate.quad.html) függvényét!\n",
    "- Készíts két ábrát, amelyen a fent definiált `F` kiértékelését ábrázolod `y` függvényében az $y\\in[-1,1]$ intervallumon. \n",
    "- Az első ábrán három görbe szerepeljen, $F_{1,1}^{(1)}(y)$,$F_{1,2}^{(1)}(y)$ valamint $F_{1,3}^{(1)}(y)$.\n",
    "- Az második ábrán is három görbe szerepeljen, $F_{2,1}^{(2)}(y)$,$F_{2,2}^{(2)}(y)$ valamint $F_{2,3}^{(2)}(y)$.\n",
    "- A saját szavaiddal diszkutáld az ábrák alapján, hogy  $F_{n,m}^{(\\alpha)}(1)$ értéke milyen $n$ és $m$ esetén különbözik nullától!"
   ]
  },
  {
   "cell_type": "code",
   "execution_count": 1,
   "metadata": {},
   "outputs": [
    {
     "name": "stdout",
     "output_type": "stream",
     "text": [
      "Populating the interactive namespace from numpy and matplotlib\n"
     ]
    }
   ],
   "source": [
    "%pylab inline\n",
    "from scipy.integrate import *"
   ]
  },
  {
   "cell_type": "code",
   "execution_count": 2,
   "metadata": {},
   "outputs": [],
   "source": [
    "def geg(X, alpha, n):\n",
    "    \n",
    "    if n == 0: #ha a 0. elemről van szó \n",
    "        return np.ones_like(X) #akkor térjen vissza 1-el\n",
    "    \n",
    "    elif n == 1: #az első elemet definiáljuk\n",
    "        return 2 * alpha * X\n",
    "    \n",
    "    else:#minden egyéb  n érték esetén a rekurzió által megadott értékkel térjen vissza \n",
    "        return 1/n * (2 * X * (n + alpha - 1)) * geg(X, alpha, n-1) - (n + 2*alpha - 2) * geg(X, alpha, n-2) "
   ]
  },
  {
   "cell_type": "code",
   "execution_count": 3,
   "metadata": {},
   "outputs": [
    {
     "data": {
      "text/plain": [
       "2376.0"
      ]
     },
     "execution_count": 3,
     "metadata": {},
     "output_type": "execute_result"
    }
   ],
   "source": [
    "geg(2, 3, 4) #próba"
   ]
  },
  {
   "cell_type": "markdown",
   "metadata": {},
   "source": [
    "## Ábrák"
   ]
  },
  {
   "cell_type": "code",
   "execution_count": 4,
   "metadata": {},
   "outputs": [],
   "source": [
    "def F(y, n, m, alpha):\n",
    "    return quad((geg(n))*(geg(m))*(1-X**2)**(alpha - 1/2)) #azt szeretnénk, hogy az F az integrállal térjen vissza"
   ]
  },
  {
   "cell_type": "code",
   "execution_count": 5,
   "metadata": {},
   "outputs": [
    {
     "ename": "TypeError",
     "evalue": "geg() missing 2 required positional arguments: 'alpha' and 'n'",
     "output_type": "error",
     "traceback": [
      "\u001b[0;31m---------------------------------------------------------------------------\u001b[0m",
      "\u001b[0;31mTypeError\u001b[0m                                 Traceback (most recent call last)",
      "\u001b[0;32m<ipython-input-5-c37991d2da18>\u001b[0m in \u001b[0;36m<module>\u001b[0;34m\u001b[0m\n\u001b[0;32m----> 1\u001b[0;31m \u001b[0mF_1\u001b[0m \u001b[0;34m=\u001b[0m \u001b[0mF\u001b[0m\u001b[0;34m(\u001b[0m\u001b[0;36m1\u001b[0m\u001b[0;34m,\u001b[0m \u001b[0;36m1\u001b[0m\u001b[0;34m,\u001b[0m \u001b[0;36m1\u001b[0m\u001b[0;34m,\u001b[0m \u001b[0;36m1\u001b[0m\u001b[0;34m)\u001b[0m\u001b[0;34m\u001b[0m\u001b[0;34m\u001b[0m\u001b[0m\n\u001b[0m\u001b[1;32m      2\u001b[0m \u001b[0mF_2\u001b[0m \u001b[0;34m=\u001b[0m \u001b[0mF\u001b[0m\u001b[0;34m(\u001b[0m\u001b[0;36m1\u001b[0m\u001b[0;34m,\u001b[0m \u001b[0;36m1\u001b[0m\u001b[0;34m,\u001b[0m \u001b[0;36m2\u001b[0m\u001b[0;34m,\u001b[0m \u001b[0;36m1\u001b[0m\u001b[0;34m)\u001b[0m\u001b[0;34m\u001b[0m\u001b[0;34m\u001b[0m\u001b[0m\n\u001b[1;32m      3\u001b[0m \u001b[0mF_3\u001b[0m \u001b[0;34m=\u001b[0m \u001b[0mF\u001b[0m\u001b[0;34m(\u001b[0m\u001b[0;36m1\u001b[0m\u001b[0;34m,\u001b[0m \u001b[0;36m1\u001b[0m\u001b[0;34m,\u001b[0m \u001b[0;36m3\u001b[0m\u001b[0;34m,\u001b[0m \u001b[0;36m1\u001b[0m\u001b[0;34m)\u001b[0m\u001b[0;34m\u001b[0m\u001b[0;34m\u001b[0m\u001b[0m\n",
      "\u001b[0;32m<ipython-input-4-e04fdb08eee9>\u001b[0m in \u001b[0;36mF\u001b[0;34m(y, n, m, alpha)\u001b[0m\n\u001b[1;32m      1\u001b[0m \u001b[0;32mdef\u001b[0m \u001b[0mF\u001b[0m\u001b[0;34m(\u001b[0m\u001b[0my\u001b[0m\u001b[0;34m,\u001b[0m \u001b[0mn\u001b[0m\u001b[0;34m,\u001b[0m \u001b[0mm\u001b[0m\u001b[0;34m,\u001b[0m \u001b[0malpha\u001b[0m\u001b[0;34m)\u001b[0m\u001b[0;34m:\u001b[0m\u001b[0;34m\u001b[0m\u001b[0;34m\u001b[0m\u001b[0m\n\u001b[0;32m----> 2\u001b[0;31m     \u001b[0;32mreturn\u001b[0m \u001b[0mquad\u001b[0m\u001b[0;34m(\u001b[0m\u001b[0;34m(\u001b[0m\u001b[0mgeg\u001b[0m\u001b[0;34m(\u001b[0m\u001b[0mn\u001b[0m\u001b[0;34m)\u001b[0m\u001b[0;34m)\u001b[0m\u001b[0;34m*\u001b[0m\u001b[0;34m(\u001b[0m\u001b[0mgeg\u001b[0m\u001b[0;34m(\u001b[0m\u001b[0mm\u001b[0m\u001b[0;34m)\u001b[0m\u001b[0;34m)\u001b[0m\u001b[0;34m*\u001b[0m\u001b[0;34m(\u001b[0m\u001b[0;36m1\u001b[0m\u001b[0;34m-\u001b[0m\u001b[0mX\u001b[0m\u001b[0;34m**\u001b[0m\u001b[0;36m2\u001b[0m\u001b[0;34m)\u001b[0m\u001b[0;34m**\u001b[0m\u001b[0;34m(\u001b[0m\u001b[0malpha\u001b[0m \u001b[0;34m-\u001b[0m \u001b[0;36m1\u001b[0m\u001b[0;34m/\u001b[0m\u001b[0;36m2\u001b[0m\u001b[0;34m)\u001b[0m\u001b[0;34m)\u001b[0m\u001b[0;34m\u001b[0m\u001b[0;34m\u001b[0m\u001b[0m\n\u001b[0m",
      "\u001b[0;31mTypeError\u001b[0m: geg() missing 2 required positional arguments: 'alpha' and 'n'"
     ]
    }
   ],
   "source": [
    "F_1 = F(1, 1, 1, 1)\n",
    "F_2 = F(1, 1, 2, 1)\n",
    "F_3 = F(1, 1, 3, 1) #a három függvény bemenő paraméterei"
   ]
  },
  {
   "cell_type": "code",
   "execution_count": null,
   "metadata": {},
   "outputs": [],
   "source": [
    "plot(F_1, (-1, 1), color = 'aquamarine')\n",
    "plot(F_2, (-1, 1), color = 'orchid')\n",
    "plot(F_3, (-1, 1), color = 'greenyellow')\n",
    "\n",
    "xlabel('x tengely', fontsize = 20)\n",
    "ylabel('y tengely', fontsize = 20) #nem tudom hogy miért nem működik..."
   ]
  },
  {
   "cell_type": "code",
   "execution_count": null,
   "metadata": {},
   "outputs": [],
   "source": []
  }
 ],
 "metadata": {
  "kernelspec": {
   "display_name": "Python 3",
   "language": "python",
   "name": "python3"
  },
  "language_info": {
   "codemirror_mode": {
    "name": "ipython",
    "version": 3
   },
   "file_extension": ".py",
   "mimetype": "text/x-python",
   "name": "python",
   "nbconvert_exporter": "python",
   "pygments_lexer": "ipython3",
   "version": "3.6.8"
  }
 },
 "nbformat": 4,
 "nbformat_minor": 2
}
