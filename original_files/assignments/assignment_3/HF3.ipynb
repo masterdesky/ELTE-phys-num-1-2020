{
 "cells": [
  {
   "cell_type": "markdown",
   "metadata": {},
   "source": [
    "# HF 3 (15 pont)\n",
    "\n",
    "- Minden feladatot a feladatszámnak megfelelő számú megoldásnotebookban oldj meg. Például első feladatot az 01_feladat.ipynb notebookban.\n",
    "- A megoldás tartalmazza a megoldandó feladat szövegét a megoldásnotebook első markdown cellájában!\n",
    "- **Kommentekkel**, illetve **markdown cellákkal** magyarázd, hogy éppen mit csinál az adott kódrészlet!\n",
    "- Magyarázat nélkül a beküldött feladatok csak fél feladatnak számítanak!\n",
    "- Az elkészített ábrák minden esetben rendelkezzenek ábrafeliratokkal (cím, tengelyfeliratok és  −  amennyiben indokolt  −  jelmagyarázat)! Amennyiben a beadott ábrákon nincsenek feliratok, az adott feladat automatikusan csak fél feladatnak számít!\n",
    "- A beadott notebookok Kernel -> Restart&Run All hatására a beadott formát reprodukálják! \n",
    "- A Feladatok megadott pontszámán túl a beadott feladatok külalakjáért összesen 3 pont-ot lehet szerezni!\n",
    "---\n"
   ]
  },
  {
   "cell_type": "markdown",
   "metadata": {},
   "source": [
    "# Feladat 1 (2 pont)\n",
    "\n",
    "Ebben a feladatban az `egbolt.pkl` nevű a `pickle` csomag segítségével írt file-t fogjátok vizsgálni. A feladat további részletezése magában az `egbolt.pkl` file-ban található.\n",
    "A `pickle` modul `load` függvénye segítségével hajtsuk végre a feladatot! Segítségül 16 db objektum van tárolva a file-ba!"
   ]
  },
  {
   "cell_type": "markdown",
   "metadata": {},
   "source": [
    "# Feladat 2 (2 pont)\n",
    "\n",
    "- Olvassuk be a `firefly.png` fájlban található képet a `matplotlib.image.imread` függvénnyel és jelenítsük is meg.\n",
    "- Vizsgáljuk meg, hogy hány dimenziós a kapott objektum és értelmezzük a látottakat.\n",
    "- Ábrázoljuk külön-külön a három színcsatorna képét az adott színnek megfelelő színskálával (tehát \"Reds\", \"Greens\", \"Blues\").\n",
    "- Válasszuk ki azt a színcsatornát, ahol a képen látható szentjánosbogarak a lehető legjobban elkülönülnek a kép többi részétől.\n",
    "- Generáljunk az így kiválasztott színcsatorna értékei alapján egy olyan array-t, melyben a \"szentjánosbogárgyanús\" pixelek értéke 1, a többié pedig 0. \n",
    "    - Ezt úgy érhetjük el, hogy megvizsgáljuk, az adott színcsatorna értékei kisebbek vagy nagyobbak-e egy előre megválasztott küszöbértéknél.\n",
    "    - Variáljuk a küszöbértéket! Ábrázoljuk a \"szentjánosbogárgyanús\" pixeleket és olyan köszöbértéket válasszunk, ami ténylegesen a képen látható 12 szentjánosbogarat detektálja.\n",
    "- Ábrázoljuk az eredeti képet és rajta olyan piros, de kicsit átlátszó köröket, melyeknek középpontja a \"szentjánosbogárgyanús\" pixelek, sugara pedig 50 pixel. Csak olyan köröket ábrázoljunk, melyeknek a középpontja több, mint 30 pixel távolságra van egymástól. (Vagyis az olyan \"szentjánosbogárgyanús\" pixelek esetén, melyek közelebb vannak, mint 30 pixel, válasszunk ki csak egyet (tetszőlegesen) és csak eköré a pont köré rajzoljunk kört, mivel ezek valószínűleg egy közös szentjánosbogárhoz tartoznak.)\n",
    "- Ha a végső ábrán nem a 12 szentjánosbogár körül van piros kör, próbálkozzunk az 5. pont küszöbértékének további finomításával."
   ]
  },
  {
   "cell_type": "markdown",
   "metadata": {},
   "source": [
    "# Feladat 3 (2 pont)\n",
    "Az éppen tomboló járvány folyamatosan frissülő statisztikai adatai [ezen](https://github.com/CSSEGISandData/COVID-19) a linken találhatóak. Ezen adatok április 3.-ai állásából gyűjtöttük ki a `data.csv` filet.\n",
    "\n",
    "A `data.csv` fájlban vesszőkkel elválasztva három oszlopot találsz:\n",
    " 1. dátum\n",
    " 2. kumulatív COVID-19 esetszám Kínában\n",
    " 3. kumulatív COVID-19 esetszám Olaszországban\n",
    " \n",
    "- Olvasd be a kumulatív esetszámokat! A dátumot helyettesítsd egész számokkal, ahol az első nap 0, a második nap 1...\n",
    "- Ábrázold grafikonon a kumulatív esetszámokat a két ország esetére, ügyelj az ábrafeliratokra!\n",
    "- A kínai adatokra illeszd meg az alábbi függvényt (amennyiben szükséges, kézzel állítsd be a megbecsült kezdőparamétereket):\n",
    "$$ f(x) = \\frac{a}{1 + e^{-(x-b)\\cdot c}}$$\n",
    "- Ábrázold az adatokat és az illesztett függvényt is!\n",
    "- Mik lettek a függvény paraméterei? Mit jelenthetnek esetünkben ezek a paraméterek? Írd le a saját szavaiddal!"
   ]
  },
  {
   "cell_type": "markdown",
   "metadata": {},
   "source": [
    "# Feladat 4 (2 pont)\n",
    "\n",
    "\n",
    "A `lagyvas.dat` fájlban található a lágyvas Mössbauer-spektruma: az első oszlopban a csatornaszám, a másodikban pedig a beütések száma. (Az adatok a [Mössbauer-effektus vizsgálata](http://atomfizika.elte.hu/kvml/docs/korszeruosszefuzott.pdf) nevű laboratóriumi mérésből származnak)\n",
    "- Olvasd be a `lagyvas.dat` fájlt!\n",
    "- Illeszd a következő függvényt az adatokra ($N$ a beütések száma, $x$ a csatornaszám):\n",
    "$$\n",
    "N(x)=B-\\frac{A_1}{1+\\left(\\frac{x-x_1-s_1/2}{\\Gamma_1/2}\\right)^2}-\\frac{A_1}{1+\\left(\\frac{x-x_1+s_1/2}{\\Gamma_1/2}\\right)^2}-\\frac{A_2}{1+\\left(\\frac{x-x_2-s_2/2}{\\Gamma_2/2}\\right)^2}-\\frac{A_2}{1+\\left(\\frac{x-x_2+s_2/2}{\\Gamma_2/2}\\right)^2}-\\frac{A_3}{1+\\left(\\frac{x-x_3-s_3/2}{\\Gamma_3/2}\\right)^2}-\\frac{A_3}{1+\\left(\\frac{x-x_3+s_3/2}{\\Gamma_3/2}\\right)^2}\n",
    "$$\n",
    "- Az illesztéshez valószínűleg meg kell becsülnöd a paramétereket. Ebben segíthet, ha ábrázolod a függvényt és megnézed, hogy melyik paraméter \"miért felelős\".\n",
    "- Ábrázold az illesztett függvényt és az adatokat egy ábrán!\n",
    "- A mérés utáni kiértékelés során meg kell határozni a vashoz tartozó két felhasadási energiát, $\\Delta E_{3/2}$-et és $\\Delta E_{1/2}$-et. Ha feltesszük, hogy $s_1>s_2>s_3$, akkor a következő egyenletek vonatkoznak rájuk:\n",
    "$$3\\Delta E_{3/2}-\\Delta E_{1/2}=s_1$$\n",
    "$$\\Delta E_{3/2}-\\Delta E_{1/2}=s_2$$\n",
    "$$-\\Delta E_{3/2}-\\Delta E_{1/2}=s_3$$\n",
    "Fogalmazd meg saját szavaiddal, hogy hogyan határoznád meg a két energiát úgy, hogy mind a három egyenletet felhasználod hozzá?\n"
   ]
  },
  {
   "cell_type": "markdown",
   "metadata": {},
   "source": [
    "# Feladat 5 (2 pont)\n",
    "\n",
    "A hasadó élesztő [(*Schizosaccharomyces pombe*)](https://en.wikipedia.org/wiki/Schizosaccharomyces_pombe) a sejtnövekedés egyik gyakran használt modellorganizmusa a sejtbiológiában. Hengeres sejtjei kizárólag hosszirányban nőnek, így a sejt teljes térfogata arányos a sejthosszal, ami könnyen mérhető. Sejtnövekedés a sejtciklusuk kb. 75%-ban történik, ezt követi a konstans hosszúsági fázis, amikor a sejthossz változatlan, a sejtek az osztódásra készülnek.\n",
    "\n",
    "A növekedési szakaszt több különböző függvénnyel is leírhatjuk, erre példa a bilineáris (linearizált biexponenciális) függvény, mely a következő képlettel írható le: $$CL=\\eta\\cdot \\ln[e^{\\frac{\\alpha_1(t−\\tau)}{\\eta}}+e^{\\frac{\\alpha_2(t−\\tau)}{\\eta}}]+\\varepsilon$$\n",
    "\n",
    "ahol CL a sejthossz, $\\alpha_1$ és $\\alpha_2$ a két lineáris szakasz meredeksége, $\\tau$ a sebességváltási pont pozíciója, $\\eta$ a törés élességére vonatkozó paraméter, $\\varepsilon$ pedig egy additív konstans.\n",
    "\n",
    "Bilineáris növekedés hátterében az áll, hogy a sejtek születésük után csak az egyik sejtvégükön nőnek, majd a ciklus egy adott pontján kezd el nőni a másik sejtvég is. Ugyanakkor a mai napig nincs a tudományban teljes egyetértés, hogy a bilineáris függvény legalkalmasabb-e a növekedés leírására vagy esetleg az egyszerűbb kétparaméteres lineáris és exponenciális modellek közül valamelyik.\n",
    "\n",
    "A '*fissionyeast.txt*' fájlban egy példa sejt sejthosszmérésének eredményei találhatók a növekedési szakaszra (1. oszlop: idő, percben, 2. oszlop: Sejthossz (CL), $\\mu$m-ben).\n",
    "\n",
    " - Az adatok beolvasása után illessz az adatsorra egy bilineáris, egy lineáris ($CL = a\\cdot t+b$) és egy exponenciális ($CL = \\alpha \\cdot e^{\\beta\\cdot t}$) függvényt majd ezeket ábrázold is! A bilineáris függvény illesztése esetében $\\eta$ paraméter értékére állíts be 0.05 $\\mu$m alsó és 0.5 $\\mu$m felső limitet a `curve_fit` függvénynek!\n",
    " - Számold ki a [négyzetes hibaösszeget (SSE)](https://en.wikipedia.org/wiki/Residual_sum_of_squares) mindhárom esetre, a tapasztalatokat értékeld!\n",
    " - Mivel eltérő paraméterszámú függvényeket hasonlítunk össze, célszerű az SSE helyett inkább olyan modellszelekciós kritériumokat alkalmazni, amik súlyoznak a paraméterszámmal is, pl. [Akaike Információs Kritérium](https://en.wikipedia.org/wiki/Akaike_information_criterion): ($AIC = n_{obs}\\cdot \\ln(SSE) + 2\\cdot n_{par}$, ahol $n_{obs}$ a mérési pontok száma, $n_{par}$ pedig a modell paramétereinek száma), határozd meg, hogy melyik függvény illik a legjobban a kapott adatsorra az AIC kritérium alapján!\n"
   ]
  },
  {
   "cell_type": "markdown",
   "metadata": {},
   "source": [
    "# Feladat 6 (2 pont)\n",
    "\n",
    "Pandorkát anyukája Penelopé és apukája Patroklosz az unviverzum legkomplikáltabb [szuperszámítógépének](https://hitchhikers.fandom.com/wiki/Deep_Thought) bugyraiba száműzte mivel csúnyán viselkedett testvéreivel, Pandémiával és Patrikkal.\n",
    "A végtelen berendezés árkádjait járva Pandorka egy érdekes kinézetű dobozra lelt.\n",
    "Pandorka kíváncsiságában tüstént kinyitotta az érdekfeszítő külsejű szelencét, mire \n",
    "fülsiketítő hangnak lett tanúja. \n",
    "A hangot Pandorka okostelefonjával rögzítette és egy `signal.npy` nevű `numpy` bináris file formájában\n",
    "postolta a [Friendface](https://theitcrowd.fandom.com/wiki/Friendface)-en.\n",
    "A file egy két oszlopos `array`-t tartalmaz. Az első oszlop a hang kezdetétől eltet idő a második oszlop pedig maga a hang. \n",
    "\n",
    "- Olvassuk be az adatfile-t és kézítsünk egy ábrát a hang időbeni lefutásáról!\n",
    "- Készítsünk egy ábrát a jel Fourier-spektrumáról is, pozitív frekvenciákra! Az ábrán jelöljük azt a frevenciát amely a spektrum maximumához tartozik.\n",
    "- Határozzuk meg a rádiójel spektrogrammját is! \n",
    "- A spektogramm alapján diszkutáld saját szavaiddal, hogy miután a hang elcsendesedett szerinted melyik testvérét látta viszont Pandorka!"
   ]
  }
 ],
 "metadata": {
  "kernelspec": {
   "display_name": "Python 3",
   "language": "python",
   "name": "python3"
  },
  "language_info": {
   "codemirror_mode": {
    "name": "ipython",
    "version": 3
   },
   "file_extension": ".py",
   "mimetype": "text/x-python",
   "name": "python",
   "nbconvert_exporter": "python",
   "pygments_lexer": "ipython3",
   "version": "3.7.3"
  }
 },
 "nbformat": 4,
 "nbformat_minor": 4
}
