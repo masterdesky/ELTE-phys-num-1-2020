{
 "cells": [
  {
   "cell_type": "markdown",
   "metadata": {
    "deletable": true,
    "editable": true
   },
   "source": [
    "# Adatok elérése, a DataFrame adatszerkezet, fájlok be- és kiolvasása"
   ]
  },
  {
   "cell_type": "markdown",
   "metadata": {},
   "source": [
    "A `pandas` csomagot a szokásos `import` szintaxissal töltjük be:"
   ]
  },
  {
   "cell_type": "code",
   "execution_count": 1,
   "metadata": {
    "collapsed": true,
    "deletable": true,
    "editable": true
   },
   "outputs": [],
   "source": [
    "import pandas as pd"
   ]
  },
  {
   "cell_type": "markdown",
   "metadata": {
    "deletable": true,
    "editable": true
   },
   "source": [
    "Egy szöveges táblázatot a read_csv nevű függvénnyel olvashatunk be. A kapott táblázat egy DataFrame típusú objektum lesz."
   ]
  },
  {
   "cell_type": "code",
   "execution_count": 2,
   "metadata": {
    "collapsed": false,
    "deletable": true,
    "editable": true
   },
   "outputs": [],
   "source": [
    "df = pd.read_csv(\"data/kisnevsor.csv\")"
   ]
  },
  {
   "cell_type": "code",
   "execution_count": 3,
   "metadata": {
    "collapsed": false,
    "deletable": true,
    "editable": true
   },
   "outputs": [
    {
     "data": {
      "text/plain": [
       "pandas.core.frame.DataFrame"
      ]
     },
     "execution_count": 3,
     "metadata": {},
     "output_type": "execute_result"
    }
   ],
   "source": [
    "type(df)"
   ]
  },
  {
   "cell_type": "markdown",
   "metadata": {
    "deletable": true,
    "editable": true
   },
   "source": [
    "Ha csak kiiratjuk a táblázatot, akkor egy kellemesen formázott nézetet kapunk.\n",
    "- Az első sorban az oszlopok nevei vannak.\n",
    "- Az első oszlopban a sorok azonosítói, az úgynevezett indexek vannak.\n",
    "- A táblázat maradék részében pedig az adatok foglalnak helyet."
   ]
  },
  {
   "cell_type": "code",
   "execution_count": 4,
   "metadata": {
    "collapsed": false,
    "deletable": true,
    "editable": true
   },
   "outputs": [
    {
     "data": {
      "text/html": [
       "<div>\n",
       "<style>\n",
       "    .dataframe thead tr:only-child th {\n",
       "        text-align: right;\n",
       "    }\n",
       "\n",
       "    .dataframe thead th {\n",
       "        text-align: left;\n",
       "    }\n",
       "\n",
       "    .dataframe tbody tr th {\n",
       "        vertical-align: top;\n",
       "    }\n",
       "</style>\n",
       "<table border=\"1\" class=\"dataframe\">\n",
       "  <thead>\n",
       "    <tr style=\"text-align: right;\">\n",
       "      <th></th>\n",
       "      <th>Név</th>\n",
       "      <th>Eszter</th>\n",
       "      <th>Orsi</th>\n",
       "      <th>Nem</th>\n",
       "      <th>Kor</th>\n",
       "      <th>Dátum</th>\n",
       "    </tr>\n",
       "  </thead>\n",
       "  <tbody>\n",
       "    <tr>\n",
       "      <th>0</th>\n",
       "      <td>Bálint</td>\n",
       "      <td>2</td>\n",
       "      <td>.</td>\n",
       "      <td>fiú</td>\n",
       "      <td>20</td>\n",
       "      <td>12:31</td>\n",
       "    </tr>\n",
       "    <tr>\n",
       "      <th>1</th>\n",
       "      <td>Csenge</td>\n",
       "      <td>4</td>\n",
       "      <td>4</td>\n",
       "      <td>lány</td>\n",
       "      <td>22</td>\n",
       "      <td>13:20</td>\n",
       "    </tr>\n",
       "    <tr>\n",
       "      <th>2</th>\n",
       "      <td>István</td>\n",
       "      <td>5</td>\n",
       "      <td>4</td>\n",
       "      <td>fiú</td>\n",
       "      <td>19</td>\n",
       "      <td>12:35</td>\n",
       "    </tr>\n",
       "    <tr>\n",
       "      <th>3</th>\n",
       "      <td>Zita</td>\n",
       "      <td>3</td>\n",
       "      <td>5</td>\n",
       "      <td>lány</td>\n",
       "      <td>20</td>\n",
       "      <td>14:50</td>\n",
       "    </tr>\n",
       "    <tr>\n",
       "      <th>4</th>\n",
       "      <td>Károly</td>\n",
       "      <td>4</td>\n",
       "      <td>.</td>\n",
       "      <td>fiú</td>\n",
       "      <td>21</td>\n",
       "      <td>14:55</td>\n",
       "    </tr>\n",
       "  </tbody>\n",
       "</table>\n",
       "</div>"
      ],
      "text/plain": [
       "      Név  Eszter Orsi   Nem  Kor  Dátum\n",
       "0  Bálint       2    .   fiú   20  12:31\n",
       "1  Csenge       4    4  lány   22  13:20\n",
       "2  István       5    4   fiú   19  12:35\n",
       "3    Zita       3    5  lány   20  14:50\n",
       "4  Károly       4    .   fiú   21  14:55"
      ]
     },
     "execution_count": 4,
     "metadata": {},
     "output_type": "execute_result"
    }
   ],
   "source": [
    "df"
   ]
  },
  {
   "cell_type": "markdown",
   "metadata": {
    "deletable": true,
    "editable": true
   },
   "source": [
    "A táblázat egy oszlopát a nevének megadásával érhetjük el legegyszerűbben, mintha (sőt, ténylegesen) egy dictionary egyik elemét szeretnénk elérni."
   ]
  },
  {
   "cell_type": "code",
   "execution_count": 5,
   "metadata": {
    "collapsed": false,
    "deletable": true,
    "editable": true
   },
   "outputs": [
    {
     "data": {
      "text/plain": [
       "0    2\n",
       "1    4\n",
       "2    5\n",
       "3    3\n",
       "4    4\n",
       "Name: Eszter, dtype: int64"
      ]
     },
     "execution_count": 5,
     "metadata": {},
     "output_type": "execute_result"
    }
   ],
   "source": [
    "df['Eszter']"
   ]
  },
  {
   "cell_type": "markdown",
   "metadata": {
    "deletable": true,
    "editable": true
   },
   "source": [
    "Az oszlopokat egy összetett objektumként kapjuk vissza, ami még tartalmazza az indexet és az oszlop nevét is. Ennek a neve Series."
   ]
  },
  {
   "cell_type": "code",
   "execution_count": 6,
   "metadata": {
    "collapsed": false,
    "deletable": true,
    "editable": true
   },
   "outputs": [
    {
     "data": {
      "text/plain": [
       "pandas.core.series.Series"
      ]
     },
     "execution_count": 6,
     "metadata": {},
     "output_type": "execute_result"
    }
   ],
   "source": [
    "type(df['Eszter'])"
   ]
  },
  {
   "cell_type": "markdown",
   "metadata": {
    "deletable": true,
    "editable": true
   },
   "source": [
    "Legtöbb számításkor ezekkel az objektumokkal is dolgozhatunk a numpy arrayekhez hasonlóan."
   ]
  },
  {
   "cell_type": "code",
   "execution_count": 7,
   "metadata": {
    "collapsed": false,
    "deletable": true,
    "editable": true
   },
   "outputs": [
    {
     "data": {
      "text/plain": [
       "0     4\n",
       "1    16\n",
       "2    25\n",
       "3     9\n",
       "4    16\n",
       "Name: Eszter, dtype: int64"
      ]
     },
     "execution_count": 7,
     "metadata": {},
     "output_type": "execute_result"
    }
   ],
   "source": [
    "df['Eszter']**2"
   ]
  },
  {
   "cell_type": "markdown",
   "metadata": {
    "deletable": true,
    "editable": true
   },
   "source": [
    "De lekérhetjük magát az adatokat tároló numpy tömböt is."
   ]
  },
  {
   "cell_type": "code",
   "execution_count": 8,
   "metadata": {
    "collapsed": false,
    "deletable": true,
    "editable": true
   },
   "outputs": [
    {
     "data": {
      "text/plain": [
       "array([2, 4, 5, 3, 4])"
      ]
     },
     "execution_count": 8,
     "metadata": {},
     "output_type": "execute_result"
    }
   ],
   "source": [
    "df['Eszter'].values"
   ]
  },
  {
   "cell_type": "markdown",
   "metadata": {
    "deletable": true,
    "editable": true
   },
   "source": [
    "További elérést tesz lehetővé a loc konstrukció, amivel oszlopokat és sorokat is lekérhetünk a neveik alapján."
   ]
  },
  {
   "cell_type": "markdown",
   "metadata": {
    "deletable": true,
    "editable": true
   },
   "source": [
    "Oszlop"
   ]
  },
  {
   "cell_type": "code",
   "execution_count": 9,
   "metadata": {
    "collapsed": false,
    "deletable": true,
    "editable": true
   },
   "outputs": [
    {
     "data": {
      "text/plain": [
       "0    2\n",
       "1    4\n",
       "2    5\n",
       "3    3\n",
       "4    4\n",
       "Name: Eszter, dtype: int64"
      ]
     },
     "execution_count": 9,
     "metadata": {},
     "output_type": "execute_result"
    }
   ],
   "source": [
    "df.loc[:,'Eszter']"
   ]
  },
  {
   "cell_type": "markdown",
   "metadata": {
    "deletable": true,
    "editable": true
   },
   "source": [
    "Sor. A sorok is Series objektumok."
   ]
  },
  {
   "cell_type": "code",
   "execution_count": 10,
   "metadata": {
    "collapsed": false,
    "deletable": true,
    "editable": true
   },
   "outputs": [
    {
     "data": {
      "text/plain": [
       "Név       Csenge\n",
       "Eszter         4\n",
       "Orsi           4\n",
       "Nem         lány\n",
       "Kor           22\n",
       "Dátum      13:20\n",
       "Name: 1, dtype: object"
      ]
     },
     "execution_count": 10,
     "metadata": {},
     "output_type": "execute_result"
    }
   ],
   "source": [
    "df.loc[1,:]"
   ]
  },
  {
   "cell_type": "markdown",
   "metadata": {
    "deletable": true,
    "editable": true
   },
   "source": [
    "Egyetlen elemet pedig a következő módon érünk el."
   ]
  },
  {
   "cell_type": "code",
   "execution_count": 11,
   "metadata": {
    "collapsed": false,
    "deletable": true,
    "editable": true
   },
   "outputs": [
    {
     "data": {
      "text/plain": [
       "2"
      ]
     },
     "execution_count": 11,
     "metadata": {},
     "output_type": "execute_result"
    }
   ],
   "source": [
    "df.loc[0,'Eszter']"
   ]
  },
  {
   "cell_type": "markdown",
   "metadata": {
    "deletable": true,
    "editable": true
   },
   "source": [
    "Később még visszatérünk rá, hogy mi mindent lehet csinálni egy ilyen táblázattal. Most viszont nézzük a beolvasást!"
   ]
  },
  {
   "cell_type": "markdown",
   "metadata": {
    "deletable": true,
    "editable": true
   },
   "source": [
    "## Beolvasás"
   ]
  },
  {
   "cell_type": "markdown",
   "metadata": {
    "deletable": true,
    "editable": true
   },
   "source": [
    "## read_csv()"
   ]
  },
  {
   "cell_type": "markdown",
   "metadata": {
    "deletable": true,
    "editable": true
   },
   "source": [
    "A python nyelv talán leggyorsabb és legtöbb funkcionalitással rendelkező táblázatbeolvasó függvénye a pandas modul read_csv függvénye.\n",
    "\n",
    "Most pár fontos paraméterét tekintjük át."
   ]
  },
  {
   "cell_type": "markdown",
   "metadata": {
    "deletable": true,
    "editable": true
   },
   "source": [
    "#### Értékelválasztó karakter:  `sep` .\n",
    "\n",
    "Legtöbbször vesszővel vagy tabulátorral elválasztott táblázatot (amit a `sep` kulcsszóval állíthatunk be, ha szükséges) olvasunk be egyszerű szövegfájlokból."
   ]
  },
  {
   "cell_type": "code",
   "execution_count": 13,
   "metadata": {
    "collapsed": false,
    "deletable": true,
    "editable": true
   },
   "outputs": [
    {
     "data": {
      "text/html": [
       "<div>\n",
       "<style>\n",
       "    .dataframe thead tr:only-child th {\n",
       "        text-align: right;\n",
       "    }\n",
       "\n",
       "    .dataframe thead th {\n",
       "        text-align: left;\n",
       "    }\n",
       "\n",
       "    .dataframe tbody tr th {\n",
       "        vertical-align: top;\n",
       "    }\n",
       "</style>\n",
       "<table border=\"1\" class=\"dataframe\">\n",
       "  <thead>\n",
       "    <tr style=\"text-align: right;\">\n",
       "      <th></th>\n",
       "      <th>Név</th>\n",
       "      <th>Eszter</th>\n",
       "      <th>Orsi</th>\n",
       "      <th>Nem</th>\n",
       "      <th>Kor</th>\n",
       "      <th>Dátum</th>\n",
       "    </tr>\n",
       "  </thead>\n",
       "  <tbody>\n",
       "    <tr>\n",
       "      <th>0</th>\n",
       "      <td>Bálint</td>\n",
       "      <td>2</td>\n",
       "      <td>.</td>\n",
       "      <td>fiú</td>\n",
       "      <td>20</td>\n",
       "      <td>12:31</td>\n",
       "    </tr>\n",
       "    <tr>\n",
       "      <th>1</th>\n",
       "      <td>Csenge</td>\n",
       "      <td>4</td>\n",
       "      <td>4</td>\n",
       "      <td>lány</td>\n",
       "      <td>22</td>\n",
       "      <td>13:20</td>\n",
       "    </tr>\n",
       "    <tr>\n",
       "      <th>2</th>\n",
       "      <td>István</td>\n",
       "      <td>5</td>\n",
       "      <td>4</td>\n",
       "      <td>fiú</td>\n",
       "      <td>19</td>\n",
       "      <td>12:35</td>\n",
       "    </tr>\n",
       "    <tr>\n",
       "      <th>3</th>\n",
       "      <td>Zita</td>\n",
       "      <td>3</td>\n",
       "      <td>5</td>\n",
       "      <td>lány</td>\n",
       "      <td>20</td>\n",
       "      <td>14:50</td>\n",
       "    </tr>\n",
       "    <tr>\n",
       "      <th>4</th>\n",
       "      <td>Károly</td>\n",
       "      <td>4</td>\n",
       "      <td>.</td>\n",
       "      <td>fiú</td>\n",
       "      <td>21</td>\n",
       "      <td>14:55</td>\n",
       "    </tr>\n",
       "  </tbody>\n",
       "</table>\n",
       "</div>"
      ],
      "text/plain": [
       "      Név  Eszter Orsi   Nem  Kor  Dátum\n",
       "0  Bálint       2    .   fiú   20  12:31\n",
       "1  Csenge       4    4  lány   22  13:20\n",
       "2  István       5    4   fiú   19  12:35\n",
       "3    Zita       3    5  lány   20  14:50\n",
       "4  Károly       4    .   fiú   21  14:55"
      ]
     },
     "execution_count": 13,
     "metadata": {},
     "output_type": "execute_result"
    }
   ],
   "source": [
    "df=pd.read_csv(\"data/kisnevsor.csv\",sep=',')\n",
    "df.head()"
   ]
  },
  {
   "cell_type": "markdown",
   "metadata": {
    "deletable": true,
    "editable": true
   },
   "source": [
    "Ha rosszul állítjuk be, akkor jellemzően minden sorunk egy értékből fog állni."
   ]
  },
  {
   "cell_type": "code",
   "execution_count": 14,
   "metadata": {
    "collapsed": false,
    "deletable": true,
    "editable": true
   },
   "outputs": [
    {
     "data": {
      "text/html": [
       "<div>\n",
       "<style>\n",
       "    .dataframe thead tr:only-child th {\n",
       "        text-align: right;\n",
       "    }\n",
       "\n",
       "    .dataframe thead th {\n",
       "        text-align: left;\n",
       "    }\n",
       "\n",
       "    .dataframe tbody tr th {\n",
       "        vertical-align: top;\n",
       "    }\n",
       "</style>\n",
       "<table border=\"1\" class=\"dataframe\">\n",
       "  <thead>\n",
       "    <tr style=\"text-align: right;\">\n",
       "      <th></th>\n",
       "      <th>Név,Eszter,Orsi,Nem,Kor,Dátum</th>\n",
       "    </tr>\n",
       "  </thead>\n",
       "  <tbody>\n",
       "    <tr>\n",
       "      <th>0</th>\n",
       "      <td>Bálint,2,.,fiú,20,12:31</td>\n",
       "    </tr>\n",
       "    <tr>\n",
       "      <th>1</th>\n",
       "      <td>Csenge,4,4,lány,22,13:20</td>\n",
       "    </tr>\n",
       "    <tr>\n",
       "      <th>2</th>\n",
       "      <td>István,5,4,fiú,19,12:35</td>\n",
       "    </tr>\n",
       "    <tr>\n",
       "      <th>3</th>\n",
       "      <td>Zita,3,5,lány,20,14:50</td>\n",
       "    </tr>\n",
       "    <tr>\n",
       "      <th>4</th>\n",
       "      <td>Károly,4,.,fiú,21,14:55</td>\n",
       "    </tr>\n",
       "  </tbody>\n",
       "</table>\n",
       "</div>"
      ],
      "text/plain": [
       "  Név,Eszter,Orsi,Nem,Kor,Dátum\n",
       "0       Bálint,2,.,fiú,20,12:31\n",
       "1      Csenge,4,4,lány,22,13:20\n",
       "2       István,5,4,fiú,19,12:35\n",
       "3        Zita,3,5,lány,20,14:50\n",
       "4       Károly,4,.,fiú,21,14:55"
      ]
     },
     "execution_count": 14,
     "metadata": {},
     "output_type": "execute_result"
    }
   ],
   "source": [
    "df=pd.read_csv(\"data/kisnevsor.csv\",sep=' ')\n",
    "df"
   ]
  },
  {
   "cell_type": "markdown",
   "metadata": {
    "deletable": true,
    "editable": true
   },
   "source": [
    "Vagy arra panaszkodik a függvény, hogy nem azonos számú oszlop van minden sorban."
   ]
  },
  {
   "cell_type": "code",
   "execution_count": 15,
   "metadata": {
    "collapsed": false,
    "deletable": true,
    "editable": true
   },
   "outputs": [
    {
     "ename": "ParserError",
     "evalue": "Error tokenizing data. C error: Expected 2 fields in line 3, saw 3\n",
     "output_type": "error",
     "traceback": [
      "\u001b[0;31m---------------------------------------------------------------------------\u001b[0m",
      "\u001b[0;31mParserError\u001b[0m                               Traceback (most recent call last)",
      "\u001b[0;32m<ipython-input-15-e7a456668c06>\u001b[0m in \u001b[0;36m<module>\u001b[0;34m()\u001b[0m\n\u001b[0;32m----> 1\u001b[0;31m \u001b[0mdf\u001b[0m\u001b[0;34m=\u001b[0m\u001b[0mpd\u001b[0m\u001b[0;34m.\u001b[0m\u001b[0mread_csv\u001b[0m\u001b[0;34m(\u001b[0m\u001b[0;34m\"data/kisnevsor.csv\"\u001b[0m\u001b[0;34m,\u001b[0m\u001b[0msep\u001b[0m\u001b[0;34m=\u001b[0m\u001b[0;34m'n'\u001b[0m\u001b[0;34m)\u001b[0m\u001b[0;34m\u001b[0m\u001b[0m\n\u001b[0m",
      "\u001b[0;32m/home/horvath.anna/.local/lib/python3.5/site-packages/pandas/io/parsers.py\u001b[0m in \u001b[0;36mparser_f\u001b[0;34m(filepath_or_buffer, sep, delimiter, header, names, index_col, usecols, squeeze, prefix, mangle_dupe_cols, dtype, engine, converters, true_values, false_values, skipinitialspace, skiprows, nrows, na_values, keep_default_na, na_filter, verbose, skip_blank_lines, parse_dates, infer_datetime_format, keep_date_col, date_parser, dayfirst, iterator, chunksize, compression, thousands, decimal, lineterminator, quotechar, quoting, escapechar, comment, encoding, dialect, tupleize_cols, error_bad_lines, warn_bad_lines, skipfooter, skip_footer, doublequote, delim_whitespace, as_recarray, compact_ints, use_unsigned, low_memory, buffer_lines, memory_map, float_precision)\u001b[0m\n\u001b[1;32m    653\u001b[0m                     skip_blank_lines=skip_blank_lines)\n\u001b[1;32m    654\u001b[0m \u001b[0;34m\u001b[0m\u001b[0m\n\u001b[0;32m--> 655\u001b[0;31m         \u001b[0;32mreturn\u001b[0m \u001b[0m_read\u001b[0m\u001b[0;34m(\u001b[0m\u001b[0mfilepath_or_buffer\u001b[0m\u001b[0;34m,\u001b[0m \u001b[0mkwds\u001b[0m\u001b[0;34m)\u001b[0m\u001b[0;34m\u001b[0m\u001b[0m\n\u001b[0m\u001b[1;32m    656\u001b[0m \u001b[0;34m\u001b[0m\u001b[0m\n\u001b[1;32m    657\u001b[0m     \u001b[0mparser_f\u001b[0m\u001b[0;34m.\u001b[0m\u001b[0m__name__\u001b[0m \u001b[0;34m=\u001b[0m \u001b[0mname\u001b[0m\u001b[0;34m\u001b[0m\u001b[0m\n",
      "\u001b[0;32m/home/horvath.anna/.local/lib/python3.5/site-packages/pandas/io/parsers.py\u001b[0m in \u001b[0;36m_read\u001b[0;34m(filepath_or_buffer, kwds)\u001b[0m\n\u001b[1;32m    409\u001b[0m \u001b[0;34m\u001b[0m\u001b[0m\n\u001b[1;32m    410\u001b[0m     \u001b[0;32mtry\u001b[0m\u001b[0;34m:\u001b[0m\u001b[0;34m\u001b[0m\u001b[0m\n\u001b[0;32m--> 411\u001b[0;31m         \u001b[0mdata\u001b[0m \u001b[0;34m=\u001b[0m \u001b[0mparser\u001b[0m\u001b[0;34m.\u001b[0m\u001b[0mread\u001b[0m\u001b[0;34m(\u001b[0m\u001b[0mnrows\u001b[0m\u001b[0;34m)\u001b[0m\u001b[0;34m\u001b[0m\u001b[0m\n\u001b[0m\u001b[1;32m    412\u001b[0m     \u001b[0;32mfinally\u001b[0m\u001b[0;34m:\u001b[0m\u001b[0;34m\u001b[0m\u001b[0m\n\u001b[1;32m    413\u001b[0m         \u001b[0mparser\u001b[0m\u001b[0;34m.\u001b[0m\u001b[0mclose\u001b[0m\u001b[0;34m(\u001b[0m\u001b[0;34m)\u001b[0m\u001b[0;34m\u001b[0m\u001b[0m\n",
      "\u001b[0;32m/home/horvath.anna/.local/lib/python3.5/site-packages/pandas/io/parsers.py\u001b[0m in \u001b[0;36mread\u001b[0;34m(self, nrows)\u001b[0m\n\u001b[1;32m    980\u001b[0m                 \u001b[0;32mraise\u001b[0m \u001b[0mValueError\u001b[0m\u001b[0;34m(\u001b[0m\u001b[0;34m'skipfooter not supported for iteration'\u001b[0m\u001b[0;34m)\u001b[0m\u001b[0;34m\u001b[0m\u001b[0m\n\u001b[1;32m    981\u001b[0m \u001b[0;34m\u001b[0m\u001b[0m\n\u001b[0;32m--> 982\u001b[0;31m         \u001b[0mret\u001b[0m \u001b[0;34m=\u001b[0m \u001b[0mself\u001b[0m\u001b[0;34m.\u001b[0m\u001b[0m_engine\u001b[0m\u001b[0;34m.\u001b[0m\u001b[0mread\u001b[0m\u001b[0;34m(\u001b[0m\u001b[0mnrows\u001b[0m\u001b[0;34m)\u001b[0m\u001b[0;34m\u001b[0m\u001b[0m\n\u001b[0m\u001b[1;32m    983\u001b[0m \u001b[0;34m\u001b[0m\u001b[0m\n\u001b[1;32m    984\u001b[0m         \u001b[0;32mif\u001b[0m \u001b[0mself\u001b[0m\u001b[0;34m.\u001b[0m\u001b[0moptions\u001b[0m\u001b[0;34m.\u001b[0m\u001b[0mget\u001b[0m\u001b[0;34m(\u001b[0m\u001b[0;34m'as_recarray'\u001b[0m\u001b[0;34m)\u001b[0m\u001b[0;34m:\u001b[0m\u001b[0;34m\u001b[0m\u001b[0m\n",
      "\u001b[0;32m/home/horvath.anna/.local/lib/python3.5/site-packages/pandas/io/parsers.py\u001b[0m in \u001b[0;36mread\u001b[0;34m(self, nrows)\u001b[0m\n\u001b[1;32m   1717\u001b[0m     \u001b[0;32mdef\u001b[0m \u001b[0mread\u001b[0m\u001b[0;34m(\u001b[0m\u001b[0mself\u001b[0m\u001b[0;34m,\u001b[0m \u001b[0mnrows\u001b[0m\u001b[0;34m=\u001b[0m\u001b[0;32mNone\u001b[0m\u001b[0;34m)\u001b[0m\u001b[0;34m:\u001b[0m\u001b[0;34m\u001b[0m\u001b[0m\n\u001b[1;32m   1718\u001b[0m         \u001b[0;32mtry\u001b[0m\u001b[0;34m:\u001b[0m\u001b[0;34m\u001b[0m\u001b[0m\n\u001b[0;32m-> 1719\u001b[0;31m             \u001b[0mdata\u001b[0m \u001b[0;34m=\u001b[0m \u001b[0mself\u001b[0m\u001b[0;34m.\u001b[0m\u001b[0m_reader\u001b[0m\u001b[0;34m.\u001b[0m\u001b[0mread\u001b[0m\u001b[0;34m(\u001b[0m\u001b[0mnrows\u001b[0m\u001b[0;34m)\u001b[0m\u001b[0;34m\u001b[0m\u001b[0m\n\u001b[0m\u001b[1;32m   1720\u001b[0m         \u001b[0;32mexcept\u001b[0m \u001b[0mStopIteration\u001b[0m\u001b[0;34m:\u001b[0m\u001b[0;34m\u001b[0m\u001b[0m\n\u001b[1;32m   1721\u001b[0m             \u001b[0;32mif\u001b[0m \u001b[0mself\u001b[0m\u001b[0;34m.\u001b[0m\u001b[0m_first_chunk\u001b[0m\u001b[0;34m:\u001b[0m\u001b[0;34m\u001b[0m\u001b[0m\n",
      "\u001b[0;32mpandas/_libs/parsers.pyx\u001b[0m in \u001b[0;36mpandas._libs.parsers.TextReader.read (pandas/_libs/parsers.c:10862)\u001b[0;34m()\u001b[0m\n",
      "\u001b[0;32mpandas/_libs/parsers.pyx\u001b[0m in \u001b[0;36mpandas._libs.parsers.TextReader._read_low_memory (pandas/_libs/parsers.c:11138)\u001b[0;34m()\u001b[0m\n",
      "\u001b[0;32mpandas/_libs/parsers.pyx\u001b[0m in \u001b[0;36mpandas._libs.parsers.TextReader._read_rows (pandas/_libs/parsers.c:11884)\u001b[0;34m()\u001b[0m\n",
      "\u001b[0;32mpandas/_libs/parsers.pyx\u001b[0m in \u001b[0;36mpandas._libs.parsers.TextReader._tokenize_rows (pandas/_libs/parsers.c:11755)\u001b[0;34m()\u001b[0m\n",
      "\u001b[0;32mpandas/_libs/parsers.pyx\u001b[0m in \u001b[0;36mpandas._libs.parsers.raise_parser_error (pandas/_libs/parsers.c:28765)\u001b[0;34m()\u001b[0m\n",
      "\u001b[0;31mParserError\u001b[0m: Error tokenizing data. C error: Expected 2 fields in line 3, saw 3\n"
     ]
    }
   ],
   "source": [
    "df=pd.read_csv(\"data/kisnevsor.csv\",sep='n')"
   ]
  },
  {
   "cell_type": "markdown",
   "metadata": {
    "deletable": true,
    "editable": true
   },
   "source": [
    "#### header (fejléc)"
   ]
  },
  {
   "cell_type": "markdown",
   "metadata": {
    "deletable": true,
    "editable": true
   },
   "source": [
    "Meg tudjuk adni, hogy van-e fejléc, és melyik sorban van."
   ]
  },
  {
   "cell_type": "code",
   "execution_count": 16,
   "metadata": {
    "collapsed": false,
    "deletable": true,
    "editable": true
   },
   "outputs": [
    {
     "data": {
      "text/html": [
       "<div>\n",
       "<style>\n",
       "    .dataframe thead tr:only-child th {\n",
       "        text-align: right;\n",
       "    }\n",
       "\n",
       "    .dataframe thead th {\n",
       "        text-align: left;\n",
       "    }\n",
       "\n",
       "    .dataframe tbody tr th {\n",
       "        vertical-align: top;\n",
       "    }\n",
       "</style>\n",
       "<table border=\"1\" class=\"dataframe\">\n",
       "  <thead>\n",
       "    <tr style=\"text-align: right;\">\n",
       "      <th></th>\n",
       "      <th>Név</th>\n",
       "      <th>Eszter</th>\n",
       "      <th>Orsi</th>\n",
       "      <th>Nem</th>\n",
       "      <th>Kor</th>\n",
       "      <th>Dátum</th>\n",
       "    </tr>\n",
       "  </thead>\n",
       "  <tbody>\n",
       "    <tr>\n",
       "      <th>0</th>\n",
       "      <td>Bálint</td>\n",
       "      <td>2</td>\n",
       "      <td>.</td>\n",
       "      <td>fiú</td>\n",
       "      <td>20</td>\n",
       "      <td>12:31</td>\n",
       "    </tr>\n",
       "    <tr>\n",
       "      <th>1</th>\n",
       "      <td>Csenge</td>\n",
       "      <td>4</td>\n",
       "      <td>4</td>\n",
       "      <td>lány</td>\n",
       "      <td>22</td>\n",
       "      <td>13:20</td>\n",
       "    </tr>\n",
       "    <tr>\n",
       "      <th>2</th>\n",
       "      <td>István</td>\n",
       "      <td>5</td>\n",
       "      <td>4</td>\n",
       "      <td>fiú</td>\n",
       "      <td>19</td>\n",
       "      <td>12:35</td>\n",
       "    </tr>\n",
       "    <tr>\n",
       "      <th>3</th>\n",
       "      <td>Zita</td>\n",
       "      <td>3</td>\n",
       "      <td>5</td>\n",
       "      <td>lány</td>\n",
       "      <td>20</td>\n",
       "      <td>14:50</td>\n",
       "    </tr>\n",
       "    <tr>\n",
       "      <th>4</th>\n",
       "      <td>Károly</td>\n",
       "      <td>4</td>\n",
       "      <td>.</td>\n",
       "      <td>fiú</td>\n",
       "      <td>21</td>\n",
       "      <td>14:55</td>\n",
       "    </tr>\n",
       "  </tbody>\n",
       "</table>\n",
       "</div>"
      ],
      "text/plain": [
       "      Név  Eszter Orsi   Nem  Kor  Dátum\n",
       "0  Bálint       2    .   fiú   20  12:31\n",
       "1  Csenge       4    4  lány   22  13:20\n",
       "2  István       5    4   fiú   19  12:35\n",
       "3    Zita       3    5  lány   20  14:50\n",
       "4  Károly       4    .   fiú   21  14:55"
      ]
     },
     "execution_count": 16,
     "metadata": {},
     "output_type": "execute_result"
    }
   ],
   "source": [
    "df=pd.read_csv(\"data/kisnevsor.csv\",header=0)\n",
    "df"
   ]
  },
  {
   "cell_type": "markdown",
   "metadata": {
    "deletable": true,
    "editable": true
   },
   "source": [
    "Ha nincs fejléc, akkor a fájl első sora is a táblázat első sora lesz."
   ]
  },
  {
   "cell_type": "code",
   "execution_count": 17,
   "metadata": {
    "collapsed": false,
    "deletable": true,
    "editable": true
   },
   "outputs": [
    {
     "data": {
      "text/html": [
       "<div>\n",
       "<style>\n",
       "    .dataframe thead tr:only-child th {\n",
       "        text-align: right;\n",
       "    }\n",
       "\n",
       "    .dataframe thead th {\n",
       "        text-align: left;\n",
       "    }\n",
       "\n",
       "    .dataframe tbody tr th {\n",
       "        vertical-align: top;\n",
       "    }\n",
       "</style>\n",
       "<table border=\"1\" class=\"dataframe\">\n",
       "  <thead>\n",
       "    <tr style=\"text-align: right;\">\n",
       "      <th></th>\n",
       "      <th>0</th>\n",
       "      <th>1</th>\n",
       "      <th>2</th>\n",
       "      <th>3</th>\n",
       "      <th>4</th>\n",
       "      <th>5</th>\n",
       "    </tr>\n",
       "  </thead>\n",
       "  <tbody>\n",
       "    <tr>\n",
       "      <th>0</th>\n",
       "      <td>Név</td>\n",
       "      <td>Eszter</td>\n",
       "      <td>Orsi</td>\n",
       "      <td>Nem</td>\n",
       "      <td>Kor</td>\n",
       "      <td>Dátum</td>\n",
       "    </tr>\n",
       "    <tr>\n",
       "      <th>1</th>\n",
       "      <td>Bálint</td>\n",
       "      <td>2</td>\n",
       "      <td>.</td>\n",
       "      <td>fiú</td>\n",
       "      <td>20</td>\n",
       "      <td>12:31</td>\n",
       "    </tr>\n",
       "    <tr>\n",
       "      <th>2</th>\n",
       "      <td>Csenge</td>\n",
       "      <td>4</td>\n",
       "      <td>4</td>\n",
       "      <td>lány</td>\n",
       "      <td>22</td>\n",
       "      <td>13:20</td>\n",
       "    </tr>\n",
       "    <tr>\n",
       "      <th>3</th>\n",
       "      <td>István</td>\n",
       "      <td>5</td>\n",
       "      <td>4</td>\n",
       "      <td>fiú</td>\n",
       "      <td>19</td>\n",
       "      <td>12:35</td>\n",
       "    </tr>\n",
       "    <tr>\n",
       "      <th>4</th>\n",
       "      <td>Zita</td>\n",
       "      <td>3</td>\n",
       "      <td>5</td>\n",
       "      <td>lány</td>\n",
       "      <td>20</td>\n",
       "      <td>14:50</td>\n",
       "    </tr>\n",
       "    <tr>\n",
       "      <th>5</th>\n",
       "      <td>Károly</td>\n",
       "      <td>4</td>\n",
       "      <td>.</td>\n",
       "      <td>fiú</td>\n",
       "      <td>21</td>\n",
       "      <td>14:55</td>\n",
       "    </tr>\n",
       "  </tbody>\n",
       "</table>\n",
       "</div>"
      ],
      "text/plain": [
       "        0       1     2     3    4      5\n",
       "0     Név  Eszter  Orsi   Nem  Kor  Dátum\n",
       "1  Bálint       2     .   fiú   20  12:31\n",
       "2  Csenge       4     4  lány   22  13:20\n",
       "3  István       5     4   fiú   19  12:35\n",
       "4    Zita       3     5  lány   20  14:50\n",
       "5  Károly       4     .   fiú   21  14:55"
      ]
     },
     "execution_count": 17,
     "metadata": {},
     "output_type": "execute_result"
    }
   ],
   "source": [
    "df=pd.read_csv(\"data/kisnevsor.csv\",header=None)\n",
    "df"
   ]
  },
  {
   "cell_type": "markdown",
   "metadata": {
    "deletable": true,
    "editable": true
   },
   "source": [
    "Ha a sokadik sort adjuk meg, akkor a táblázat onnan fog kezdődni."
   ]
  },
  {
   "cell_type": "code",
   "execution_count": 18,
   "metadata": {
    "collapsed": false,
    "deletable": true,
    "editable": true
   },
   "outputs": [
    {
     "data": {
      "text/html": [
       "<div>\n",
       "<style>\n",
       "    .dataframe thead tr:only-child th {\n",
       "        text-align: right;\n",
       "    }\n",
       "\n",
       "    .dataframe thead th {\n",
       "        text-align: left;\n",
       "    }\n",
       "\n",
       "    .dataframe tbody tr th {\n",
       "        vertical-align: top;\n",
       "    }\n",
       "</style>\n",
       "<table border=\"1\" class=\"dataframe\">\n",
       "  <thead>\n",
       "    <tr style=\"text-align: right;\">\n",
       "      <th></th>\n",
       "      <th>István</th>\n",
       "      <th>5</th>\n",
       "      <th>4</th>\n",
       "      <th>fiú</th>\n",
       "      <th>19</th>\n",
       "      <th>12:35</th>\n",
       "    </tr>\n",
       "  </thead>\n",
       "  <tbody>\n",
       "    <tr>\n",
       "      <th>0</th>\n",
       "      <td>Zita</td>\n",
       "      <td>3</td>\n",
       "      <td>5</td>\n",
       "      <td>lány</td>\n",
       "      <td>20</td>\n",
       "      <td>14:50</td>\n",
       "    </tr>\n",
       "    <tr>\n",
       "      <th>1</th>\n",
       "      <td>Károly</td>\n",
       "      <td>4</td>\n",
       "      <td>.</td>\n",
       "      <td>fiú</td>\n",
       "      <td>21</td>\n",
       "      <td>14:55</td>\n",
       "    </tr>\n",
       "  </tbody>\n",
       "</table>\n",
       "</div>"
      ],
      "text/plain": [
       "   István  5  4   fiú  19  12:35\n",
       "0    Zita  3  5  lány  20  14:50\n",
       "1  Károly  4  .   fiú  21  14:55"
      ]
     },
     "execution_count": 18,
     "metadata": {},
     "output_type": "execute_result"
    }
   ],
   "source": [
    "df=pd.read_csv(\"data/kisnevsor.csv\",header=3)\n",
    "df"
   ]
  },
  {
   "cell_type": "markdown",
   "metadata": {
    "deletable": true,
    "editable": true
   },
   "source": [
    "#### index_col (indexoszlop)\n",
    "- Az indexoszlopot kicsit máshogy jeleníti meg a notebook."
   ]
  },
  {
   "cell_type": "code",
   "execution_count": 19,
   "metadata": {
    "collapsed": false,
    "deletable": true,
    "editable": true
   },
   "outputs": [
    {
     "data": {
      "text/html": [
       "<div>\n",
       "<style>\n",
       "    .dataframe thead tr:only-child th {\n",
       "        text-align: right;\n",
       "    }\n",
       "\n",
       "    .dataframe thead th {\n",
       "        text-align: left;\n",
       "    }\n",
       "\n",
       "    .dataframe tbody tr th {\n",
       "        vertical-align: top;\n",
       "    }\n",
       "</style>\n",
       "<table border=\"1\" class=\"dataframe\">\n",
       "  <thead>\n",
       "    <tr style=\"text-align: right;\">\n",
       "      <th></th>\n",
       "      <th>Eszter</th>\n",
       "      <th>Orsi</th>\n",
       "      <th>Nem</th>\n",
       "      <th>Kor</th>\n",
       "      <th>Dátum</th>\n",
       "    </tr>\n",
       "    <tr>\n",
       "      <th>Név</th>\n",
       "      <th></th>\n",
       "      <th></th>\n",
       "      <th></th>\n",
       "      <th></th>\n",
       "      <th></th>\n",
       "    </tr>\n",
       "  </thead>\n",
       "  <tbody>\n",
       "    <tr>\n",
       "      <th>Bálint</th>\n",
       "      <td>2</td>\n",
       "      <td>.</td>\n",
       "      <td>fiú</td>\n",
       "      <td>20</td>\n",
       "      <td>12:31</td>\n",
       "    </tr>\n",
       "    <tr>\n",
       "      <th>Csenge</th>\n",
       "      <td>4</td>\n",
       "      <td>4</td>\n",
       "      <td>lány</td>\n",
       "      <td>22</td>\n",
       "      <td>13:20</td>\n",
       "    </tr>\n",
       "    <tr>\n",
       "      <th>István</th>\n",
       "      <td>5</td>\n",
       "      <td>4</td>\n",
       "      <td>fiú</td>\n",
       "      <td>19</td>\n",
       "      <td>12:35</td>\n",
       "    </tr>\n",
       "    <tr>\n",
       "      <th>Zita</th>\n",
       "      <td>3</td>\n",
       "      <td>5</td>\n",
       "      <td>lány</td>\n",
       "      <td>20</td>\n",
       "      <td>14:50</td>\n",
       "    </tr>\n",
       "    <tr>\n",
       "      <th>Károly</th>\n",
       "      <td>4</td>\n",
       "      <td>.</td>\n",
       "      <td>fiú</td>\n",
       "      <td>21</td>\n",
       "      <td>14:55</td>\n",
       "    </tr>\n",
       "  </tbody>\n",
       "</table>\n",
       "</div>"
      ],
      "text/plain": [
       "        Eszter Orsi   Nem  Kor  Dátum\n",
       "Név                                  \n",
       "Bálint       2    .   fiú   20  12:31\n",
       "Csenge       4    4  lány   22  13:20\n",
       "István       5    4   fiú   19  12:35\n",
       "Zita         3    5  lány   20  14:50\n",
       "Károly       4    .   fiú   21  14:55"
      ]
     },
     "execution_count": 19,
     "metadata": {},
     "output_type": "execute_result"
    }
   ],
   "source": [
    "df=pd.read_csv(\"data/kisnevsor.csv\",index_col='Név')\n",
    "df.head()"
   ]
  },
  {
   "cell_type": "markdown",
   "metadata": {
    "deletable": true,
    "editable": true
   },
   "source": [
    "Ez a most beállított indexoszlop hasonlóan viselkedik az előbb látott számokból álló indexhez."
   ]
  },
  {
   "cell_type": "code",
   "execution_count": 20,
   "metadata": {
    "collapsed": false,
    "deletable": true,
    "editable": true
   },
   "outputs": [
    {
     "data": {
      "text/plain": [
       "Név\n",
       "Bálint    2\n",
       "Csenge    4\n",
       "István    5\n",
       "Zita      3\n",
       "Károly    4\n",
       "Name: Eszter, dtype: int64"
      ]
     },
     "execution_count": 20,
     "metadata": {},
     "output_type": "execute_result"
    }
   ],
   "source": [
    "df['Eszter']"
   ]
  },
  {
   "cell_type": "code",
   "execution_count": 21,
   "metadata": {
    "collapsed": false,
    "deletable": true,
    "editable": true
   },
   "outputs": [
    {
     "data": {
      "text/plain": [
       "Eszter        2\n",
       "Orsi          .\n",
       "Nem         fiú\n",
       "Kor          20\n",
       "Dátum     12:31\n",
       "Name: Bálint, dtype: object"
      ]
     },
     "execution_count": 21,
     "metadata": {},
     "output_type": "execute_result"
    }
   ],
   "source": [
    "df.loc['Bálint',:]"
   ]
  },
  {
   "cell_type": "markdown",
   "metadata": {
    "deletable": true,
    "editable": true
   },
   "source": [
    "####  nrows\n",
    "\n",
    "Ha egy nagyon hosszú fájlnak csak az első pár sorát akarjuk beolvasni."
   ]
  },
  {
   "cell_type": "code",
   "execution_count": 22,
   "metadata": {
    "collapsed": false,
    "deletable": true,
    "editable": true
   },
   "outputs": [
    {
     "data": {
      "text/html": [
       "<div>\n",
       "<style>\n",
       "    .dataframe thead tr:only-child th {\n",
       "        text-align: right;\n",
       "    }\n",
       "\n",
       "    .dataframe thead th {\n",
       "        text-align: left;\n",
       "    }\n",
       "\n",
       "    .dataframe tbody tr th {\n",
       "        vertical-align: top;\n",
       "    }\n",
       "</style>\n",
       "<table border=\"1\" class=\"dataframe\">\n",
       "  <thead>\n",
       "    <tr style=\"text-align: right;\">\n",
       "      <th></th>\n",
       "      <th>Név</th>\n",
       "      <th>Eszter</th>\n",
       "      <th>Orsi</th>\n",
       "      <th>Nem</th>\n",
       "      <th>Kor</th>\n",
       "      <th>Dátum</th>\n",
       "    </tr>\n",
       "  </thead>\n",
       "  <tbody>\n",
       "    <tr>\n",
       "      <th>0</th>\n",
       "      <td>Bálint</td>\n",
       "      <td>2</td>\n",
       "      <td>.</td>\n",
       "      <td>fiú</td>\n",
       "      <td>20</td>\n",
       "      <td>12:31</td>\n",
       "    </tr>\n",
       "    <tr>\n",
       "      <th>1</th>\n",
       "      <td>Csenge</td>\n",
       "      <td>4</td>\n",
       "      <td>4</td>\n",
       "      <td>lány</td>\n",
       "      <td>22</td>\n",
       "      <td>13:20</td>\n",
       "    </tr>\n",
       "  </tbody>\n",
       "</table>\n",
       "</div>"
      ],
      "text/plain": [
       "      Név  Eszter Orsi   Nem  Kor  Dátum\n",
       "0  Bálint       2    .   fiú   20  12:31\n",
       "1  Csenge       4    4  lány   22  13:20"
      ]
     },
     "execution_count": 22,
     "metadata": {},
     "output_type": "execute_result"
    }
   ],
   "source": [
    "df=pd.read_csv(\"data/kisnevsor.csv\",nrows=2)\n",
    "df"
   ]
  },
  {
   "cell_type": "markdown",
   "metadata": {
    "deletable": true,
    "editable": true
   },
   "source": [
    "#### na_values\n",
    "\n",
    "Ha valaki úgy adja meg a hiányzó értékeket, hogy mondjuk beír egy pontot a helyre. Ez majd akkor lehet fontos, ha például átlagot számolunk, mert kihagyhatjuk az átlagolásból a NaN-értékeket."
   ]
  },
  {
   "cell_type": "code",
   "execution_count": 23,
   "metadata": {
    "collapsed": false,
    "deletable": true,
    "editable": true
   },
   "outputs": [
    {
     "data": {
      "text/html": [
       "<div>\n",
       "<style>\n",
       "    .dataframe thead tr:only-child th {\n",
       "        text-align: right;\n",
       "    }\n",
       "\n",
       "    .dataframe thead th {\n",
       "        text-align: left;\n",
       "    }\n",
       "\n",
       "    .dataframe tbody tr th {\n",
       "        vertical-align: top;\n",
       "    }\n",
       "</style>\n",
       "<table border=\"1\" class=\"dataframe\">\n",
       "  <thead>\n",
       "    <tr style=\"text-align: right;\">\n",
       "      <th></th>\n",
       "      <th>Név</th>\n",
       "      <th>Eszter</th>\n",
       "      <th>Orsi</th>\n",
       "      <th>Nem</th>\n",
       "      <th>Kor</th>\n",
       "      <th>Dátum</th>\n",
       "    </tr>\n",
       "  </thead>\n",
       "  <tbody>\n",
       "    <tr>\n",
       "      <th>0</th>\n",
       "      <td>Bálint</td>\n",
       "      <td>2</td>\n",
       "      <td>NaN</td>\n",
       "      <td>fiú</td>\n",
       "      <td>20</td>\n",
       "      <td>12:31</td>\n",
       "    </tr>\n",
       "    <tr>\n",
       "      <th>1</th>\n",
       "      <td>Csenge</td>\n",
       "      <td>4</td>\n",
       "      <td>4.0</td>\n",
       "      <td>lány</td>\n",
       "      <td>22</td>\n",
       "      <td>13:20</td>\n",
       "    </tr>\n",
       "    <tr>\n",
       "      <th>2</th>\n",
       "      <td>István</td>\n",
       "      <td>5</td>\n",
       "      <td>4.0</td>\n",
       "      <td>fiú</td>\n",
       "      <td>19</td>\n",
       "      <td>12:35</td>\n",
       "    </tr>\n",
       "    <tr>\n",
       "      <th>3</th>\n",
       "      <td>Zita</td>\n",
       "      <td>3</td>\n",
       "      <td>5.0</td>\n",
       "      <td>lány</td>\n",
       "      <td>20</td>\n",
       "      <td>14:50</td>\n",
       "    </tr>\n",
       "    <tr>\n",
       "      <th>4</th>\n",
       "      <td>Károly</td>\n",
       "      <td>4</td>\n",
       "      <td>NaN</td>\n",
       "      <td>fiú</td>\n",
       "      <td>21</td>\n",
       "      <td>14:55</td>\n",
       "    </tr>\n",
       "  </tbody>\n",
       "</table>\n",
       "</div>"
      ],
      "text/plain": [
       "      Név  Eszter  Orsi   Nem  Kor  Dátum\n",
       "0  Bálint       2   NaN   fiú   20  12:31\n",
       "1  Csenge       4   4.0  lány   22  13:20\n",
       "2  István       5   4.0   fiú   19  12:35\n",
       "3    Zita       3   5.0  lány   20  14:50\n",
       "4  Károly       4   NaN   fiú   21  14:55"
      ]
     },
     "execution_count": 23,
     "metadata": {},
     "output_type": "execute_result"
    }
   ],
   "source": [
    "df=pd.read_csv(\"data/kisnevsor.csv\",na_values=['.'])\n",
    "df"
   ]
  },
  {
   "cell_type": "markdown",
   "metadata": {
    "deletable": true,
    "editable": true
   },
   "source": [
    "#### parse_dates (dátumok kezelése)\n",
    "\n",
    "Alapból a beolvasó nem csinál semmit a dátumnak vagy időnek kinéző oszlopokkal."
   ]
  },
  {
   "cell_type": "code",
   "execution_count": 24,
   "metadata": {
    "collapsed": false,
    "deletable": true,
    "editable": true
   },
   "outputs": [
    {
     "data": {
      "text/html": [
       "<div>\n",
       "<style>\n",
       "    .dataframe thead tr:only-child th {\n",
       "        text-align: right;\n",
       "    }\n",
       "\n",
       "    .dataframe thead th {\n",
       "        text-align: left;\n",
       "    }\n",
       "\n",
       "    .dataframe tbody tr th {\n",
       "        vertical-align: top;\n",
       "    }\n",
       "</style>\n",
       "<table border=\"1\" class=\"dataframe\">\n",
       "  <thead>\n",
       "    <tr style=\"text-align: right;\">\n",
       "      <th></th>\n",
       "      <th>Név</th>\n",
       "      <th>Eszter</th>\n",
       "      <th>Orsi</th>\n",
       "      <th>Nem</th>\n",
       "      <th>Kor</th>\n",
       "      <th>Dátum</th>\n",
       "    </tr>\n",
       "  </thead>\n",
       "  <tbody>\n",
       "    <tr>\n",
       "      <th>0</th>\n",
       "      <td>Bálint</td>\n",
       "      <td>2</td>\n",
       "      <td>.</td>\n",
       "      <td>fiú</td>\n",
       "      <td>20</td>\n",
       "      <td>12:31</td>\n",
       "    </tr>\n",
       "    <tr>\n",
       "      <th>1</th>\n",
       "      <td>Csenge</td>\n",
       "      <td>4</td>\n",
       "      <td>4</td>\n",
       "      <td>lány</td>\n",
       "      <td>22</td>\n",
       "      <td>13:20</td>\n",
       "    </tr>\n",
       "    <tr>\n",
       "      <th>2</th>\n",
       "      <td>István</td>\n",
       "      <td>5</td>\n",
       "      <td>4</td>\n",
       "      <td>fiú</td>\n",
       "      <td>19</td>\n",
       "      <td>12:35</td>\n",
       "    </tr>\n",
       "    <tr>\n",
       "      <th>3</th>\n",
       "      <td>Zita</td>\n",
       "      <td>3</td>\n",
       "      <td>5</td>\n",
       "      <td>lány</td>\n",
       "      <td>20</td>\n",
       "      <td>14:50</td>\n",
       "    </tr>\n",
       "    <tr>\n",
       "      <th>4</th>\n",
       "      <td>Károly</td>\n",
       "      <td>4</td>\n",
       "      <td>.</td>\n",
       "      <td>fiú</td>\n",
       "      <td>21</td>\n",
       "      <td>14:55</td>\n",
       "    </tr>\n",
       "  </tbody>\n",
       "</table>\n",
       "</div>"
      ],
      "text/plain": [
       "      Név  Eszter Orsi   Nem  Kor  Dátum\n",
       "0  Bálint       2    .   fiú   20  12:31\n",
       "1  Csenge       4    4  lány   22  13:20\n",
       "2  István       5    4   fiú   19  12:35\n",
       "3    Zita       3    5  lány   20  14:50\n",
       "4  Károly       4    .   fiú   21  14:55"
      ]
     },
     "execution_count": 24,
     "metadata": {},
     "output_type": "execute_result"
    }
   ],
   "source": [
    "df=pd.read_csv(\"data/kisnevsor.csv\")\n",
    "df"
   ]
  },
  {
   "cell_type": "code",
   "execution_count": 25,
   "metadata": {
    "collapsed": false,
    "deletable": true,
    "editable": true
   },
   "outputs": [
    {
     "data": {
      "text/plain": [
       "0    12:31\n",
       "1    13:20\n",
       "2    12:35\n",
       "3    14:50\n",
       "4    14:55\n",
       "Name: Dátum, dtype: object"
      ]
     },
     "execution_count": 25,
     "metadata": {},
     "output_type": "execute_result"
    }
   ],
   "source": [
    "df['Dátum']"
   ]
  },
  {
   "cell_type": "markdown",
   "metadata": {
    "deletable": true,
    "editable": true
   },
   "source": [
    "De megkérhetjük rá."
   ]
  },
  {
   "cell_type": "code",
   "execution_count": 26,
   "metadata": {
    "collapsed": false,
    "deletable": true,
    "editable": true
   },
   "outputs": [
    {
     "data": {
      "text/html": [
       "<div>\n",
       "<style>\n",
       "    .dataframe thead tr:only-child th {\n",
       "        text-align: right;\n",
       "    }\n",
       "\n",
       "    .dataframe thead th {\n",
       "        text-align: left;\n",
       "    }\n",
       "\n",
       "    .dataframe tbody tr th {\n",
       "        vertical-align: top;\n",
       "    }\n",
       "</style>\n",
       "<table border=\"1\" class=\"dataframe\">\n",
       "  <thead>\n",
       "    <tr style=\"text-align: right;\">\n",
       "      <th></th>\n",
       "      <th>Név</th>\n",
       "      <th>Eszter</th>\n",
       "      <th>Orsi</th>\n",
       "      <th>Nem</th>\n",
       "      <th>Kor</th>\n",
       "      <th>Dátum</th>\n",
       "    </tr>\n",
       "  </thead>\n",
       "  <tbody>\n",
       "    <tr>\n",
       "      <th>0</th>\n",
       "      <td>Bálint</td>\n",
       "      <td>2</td>\n",
       "      <td>.</td>\n",
       "      <td>fiú</td>\n",
       "      <td>20</td>\n",
       "      <td>2017-05-17 12:31:00</td>\n",
       "    </tr>\n",
       "    <tr>\n",
       "      <th>1</th>\n",
       "      <td>Csenge</td>\n",
       "      <td>4</td>\n",
       "      <td>4</td>\n",
       "      <td>lány</td>\n",
       "      <td>22</td>\n",
       "      <td>2017-05-17 13:20:00</td>\n",
       "    </tr>\n",
       "    <tr>\n",
       "      <th>2</th>\n",
       "      <td>István</td>\n",
       "      <td>5</td>\n",
       "      <td>4</td>\n",
       "      <td>fiú</td>\n",
       "      <td>19</td>\n",
       "      <td>2017-05-17 12:35:00</td>\n",
       "    </tr>\n",
       "    <tr>\n",
       "      <th>3</th>\n",
       "      <td>Zita</td>\n",
       "      <td>3</td>\n",
       "      <td>5</td>\n",
       "      <td>lány</td>\n",
       "      <td>20</td>\n",
       "      <td>2017-05-17 14:50:00</td>\n",
       "    </tr>\n",
       "    <tr>\n",
       "      <th>4</th>\n",
       "      <td>Károly</td>\n",
       "      <td>4</td>\n",
       "      <td>.</td>\n",
       "      <td>fiú</td>\n",
       "      <td>21</td>\n",
       "      <td>2017-05-17 14:55:00</td>\n",
       "    </tr>\n",
       "  </tbody>\n",
       "</table>\n",
       "</div>"
      ],
      "text/plain": [
       "      Név  Eszter Orsi   Nem  Kor               Dátum\n",
       "0  Bálint       2    .   fiú   20 2017-05-17 12:31:00\n",
       "1  Csenge       4    4  lány   22 2017-05-17 13:20:00\n",
       "2  István       5    4   fiú   19 2017-05-17 12:35:00\n",
       "3    Zita       3    5  lány   20 2017-05-17 14:50:00\n",
       "4  Károly       4    .   fiú   21 2017-05-17 14:55:00"
      ]
     },
     "execution_count": 26,
     "metadata": {},
     "output_type": "execute_result"
    }
   ],
   "source": [
    "df=pd.read_csv(\"data/kisnevsor.csv\",parse_dates=['Dátum'])\n",
    "df"
   ]
  },
  {
   "cell_type": "code",
   "execution_count": 27,
   "metadata": {
    "collapsed": false,
    "deletable": true,
    "editable": true
   },
   "outputs": [
    {
     "data": {
      "text/plain": [
       "0   2017-05-17 12:31:00\n",
       "1   2017-05-17 13:20:00\n",
       "2   2017-05-17 12:35:00\n",
       "3   2017-05-17 14:50:00\n",
       "4   2017-05-17 14:55:00\n",
       "Name: Dátum, dtype: datetime64[ns]"
      ]
     },
     "execution_count": 27,
     "metadata": {},
     "output_type": "execute_result"
    }
   ],
   "source": [
    "df['Dátum']"
   ]
  },
  {
   "cell_type": "markdown",
   "metadata": {
    "deletable": true,
    "editable": true
   },
   "source": [
    "#### compression (tömörített fájlok olvasása)\n",
    "\n",
    "Mivel tömörítve kisebb helyet foglalnak el az adatok, gyorsabb lehet nagy adatfájlokat tömörített állományokból beolvasni."
   ]
  },
  {
   "cell_type": "code",
   "execution_count": 28,
   "metadata": {
    "collapsed": false,
    "deletable": true,
    "editable": true
   },
   "outputs": [
    {
     "data": {
      "text/html": [
       "<div>\n",
       "<style>\n",
       "    .dataframe thead tr:only-child th {\n",
       "        text-align: right;\n",
       "    }\n",
       "\n",
       "    .dataframe thead th {\n",
       "        text-align: left;\n",
       "    }\n",
       "\n",
       "    .dataframe tbody tr th {\n",
       "        vertical-align: top;\n",
       "    }\n",
       "</style>\n",
       "<table border=\"1\" class=\"dataframe\">\n",
       "  <thead>\n",
       "    <tr style=\"text-align: right;\">\n",
       "      <th></th>\n",
       "      <th>Név</th>\n",
       "      <th>Eszter</th>\n",
       "      <th>Orsi</th>\n",
       "      <th>Nem</th>\n",
       "      <th>Kor</th>\n",
       "      <th>Dátum</th>\n",
       "    </tr>\n",
       "  </thead>\n",
       "  <tbody>\n",
       "    <tr>\n",
       "      <th>0</th>\n",
       "      <td>Bálint</td>\n",
       "      <td>2</td>\n",
       "      <td>.</td>\n",
       "      <td>fiú</td>\n",
       "      <td>20</td>\n",
       "      <td>12:31</td>\n",
       "    </tr>\n",
       "    <tr>\n",
       "      <th>1</th>\n",
       "      <td>Csenge</td>\n",
       "      <td>4</td>\n",
       "      <td>4</td>\n",
       "      <td>lány</td>\n",
       "      <td>22</td>\n",
       "      <td>13:20</td>\n",
       "    </tr>\n",
       "    <tr>\n",
       "      <th>2</th>\n",
       "      <td>István</td>\n",
       "      <td>5</td>\n",
       "      <td>4</td>\n",
       "      <td>fiú</td>\n",
       "      <td>19</td>\n",
       "      <td>12:35</td>\n",
       "    </tr>\n",
       "    <tr>\n",
       "      <th>3</th>\n",
       "      <td>Zita</td>\n",
       "      <td>3</td>\n",
       "      <td>5</td>\n",
       "      <td>lány</td>\n",
       "      <td>20</td>\n",
       "      <td>14:50</td>\n",
       "    </tr>\n",
       "    <tr>\n",
       "      <th>4</th>\n",
       "      <td>Károly</td>\n",
       "      <td>4</td>\n",
       "      <td>.</td>\n",
       "      <td>fiú</td>\n",
       "      <td>21</td>\n",
       "      <td>14:55</td>\n",
       "    </tr>\n",
       "  </tbody>\n",
       "</table>\n",
       "</div>"
      ],
      "text/plain": [
       "      Név  Eszter Orsi   Nem  Kor  Dátum\n",
       "0  Bálint       2    .   fiú   20  12:31\n",
       "1  Csenge       4    4  lány   22  13:20\n",
       "2  István       5    4   fiú   19  12:35\n",
       "3    Zita       3    5  lány   20  14:50\n",
       "4  Károly       4    .   fiú   21  14:55"
      ]
     },
     "execution_count": 28,
     "metadata": {},
     "output_type": "execute_result"
    }
   ],
   "source": [
    "df=pd.read_csv(\"data/kisnevsor.csv.gz\")\n",
    "df"
   ]
  },
  {
   "cell_type": "markdown",
   "metadata": {
    "deletable": true,
    "editable": true
   },
   "source": [
    "#### Nagy fájlokat darabokban is beolvashatunk\n",
    "\n",
    "Figyeljük meg, hogy a darabok oszlopnevei jól vannak megadva."
   ]
  },
  {
   "cell_type": "code",
   "execution_count": 29,
   "metadata": {
    "collapsed": false,
    "deletable": true,
    "editable": true
   },
   "outputs": [
    {
     "name": "stdout",
     "output_type": "stream",
     "text": [
      "      Név  Eszter Orsi   Nem  Kor  Dátum\n",
      "0  Bálint       2    .   fiú   20  12:31\n",
      "1  Csenge       4    4  lány   22  13:20\n",
      "      Név  Eszter  Orsi   Nem  Kor  Dátum\n",
      "2  István       5     4   fiú   19  12:35\n",
      "3    Zita       3     5  lány   20  14:50\n",
      "      Név  Eszter Orsi  Nem  Kor  Dátum\n",
      "4  Károly       4    .  fiú   21  14:55\n"
     ]
    }
   ],
   "source": [
    "for darab in pd.read_csv(\"data/kisnevsor.csv.gz\",iterator=True,chunksize=2):\n",
    "    print(darab)\n",
    "    # itt csinalunk vele valamit"
   ]
  },
  {
   "cell_type": "markdown",
   "metadata": {
    "deletable": true,
    "editable": true
   },
   "source": [
    "#### Nagy fájlok esetén gyorsabban tudunk beolvasni, ha csak pár oszlopra van szükségünk\n",
    "\n",
    "A usecols az oszlop nevét és a sorszámát is elfogadja."
   ]
  },
  {
   "cell_type": "code",
   "execution_count": 33,
   "metadata": {
    "collapsed": false,
    "deletable": true,
    "editable": true
   },
   "outputs": [
    {
     "ename": "ValueError",
     "evalue": "'usecols' must either be all strings, all unicode, all integers or a callable",
     "output_type": "error",
     "traceback": [
      "\u001b[0;31m---------------------------------------------------------------------------\u001b[0m",
      "\u001b[0;31mValueError\u001b[0m                                Traceback (most recent call last)",
      "\u001b[0;32m<ipython-input-33-c3d51dfcfc7b>\u001b[0m in \u001b[0;36m<module>\u001b[0;34m()\u001b[0m\n\u001b[0;32m----> 1\u001b[0;31m \u001b[0mpd\u001b[0m\u001b[0;34m.\u001b[0m\u001b[0mread_csv\u001b[0m\u001b[0;34m(\u001b[0m\u001b[0;34m\"data/kisnevsor.csv.gz\"\u001b[0m\u001b[0;34m,\u001b[0m\u001b[0musecols\u001b[0m\u001b[0;34m=\u001b[0m\u001b[0;34m[\u001b[0m\u001b[0;34m'Név'\u001b[0m\u001b[0;34m,\u001b[0m\u001b[0;36m1\u001b[0m\u001b[0;34m]\u001b[0m\u001b[0;34m)\u001b[0m\u001b[0;34m\u001b[0m\u001b[0m\n\u001b[0m",
      "\u001b[0;32m/home/horvath.anna/.local/lib/python3.5/site-packages/pandas/io/parsers.py\u001b[0m in \u001b[0;36mparser_f\u001b[0;34m(filepath_or_buffer, sep, delimiter, header, names, index_col, usecols, squeeze, prefix, mangle_dupe_cols, dtype, engine, converters, true_values, false_values, skipinitialspace, skiprows, nrows, na_values, keep_default_na, na_filter, verbose, skip_blank_lines, parse_dates, infer_datetime_format, keep_date_col, date_parser, dayfirst, iterator, chunksize, compression, thousands, decimal, lineterminator, quotechar, quoting, escapechar, comment, encoding, dialect, tupleize_cols, error_bad_lines, warn_bad_lines, skipfooter, skip_footer, doublequote, delim_whitespace, as_recarray, compact_ints, use_unsigned, low_memory, buffer_lines, memory_map, float_precision)\u001b[0m\n\u001b[1;32m    653\u001b[0m                     skip_blank_lines=skip_blank_lines)\n\u001b[1;32m    654\u001b[0m \u001b[0;34m\u001b[0m\u001b[0m\n\u001b[0;32m--> 655\u001b[0;31m         \u001b[0;32mreturn\u001b[0m \u001b[0m_read\u001b[0m\u001b[0;34m(\u001b[0m\u001b[0mfilepath_or_buffer\u001b[0m\u001b[0;34m,\u001b[0m \u001b[0mkwds\u001b[0m\u001b[0;34m)\u001b[0m\u001b[0;34m\u001b[0m\u001b[0m\n\u001b[0m\u001b[1;32m    656\u001b[0m \u001b[0;34m\u001b[0m\u001b[0m\n\u001b[1;32m    657\u001b[0m     \u001b[0mparser_f\u001b[0m\u001b[0;34m.\u001b[0m\u001b[0m__name__\u001b[0m \u001b[0;34m=\u001b[0m \u001b[0mname\u001b[0m\u001b[0;34m\u001b[0m\u001b[0m\n",
      "\u001b[0;32m/home/horvath.anna/.local/lib/python3.5/site-packages/pandas/io/parsers.py\u001b[0m in \u001b[0;36m_read\u001b[0;34m(filepath_or_buffer, kwds)\u001b[0m\n\u001b[1;32m    403\u001b[0m \u001b[0;34m\u001b[0m\u001b[0m\n\u001b[1;32m    404\u001b[0m     \u001b[0;31m# Create the parser.\u001b[0m\u001b[0;34m\u001b[0m\u001b[0;34m\u001b[0m\u001b[0m\n\u001b[0;32m--> 405\u001b[0;31m     \u001b[0mparser\u001b[0m \u001b[0;34m=\u001b[0m \u001b[0mTextFileReader\u001b[0m\u001b[0;34m(\u001b[0m\u001b[0mfilepath_or_buffer\u001b[0m\u001b[0;34m,\u001b[0m \u001b[0;34m**\u001b[0m\u001b[0mkwds\u001b[0m\u001b[0;34m)\u001b[0m\u001b[0;34m\u001b[0m\u001b[0m\n\u001b[0m\u001b[1;32m    406\u001b[0m \u001b[0;34m\u001b[0m\u001b[0m\n\u001b[1;32m    407\u001b[0m     \u001b[0;32mif\u001b[0m \u001b[0mchunksize\u001b[0m \u001b[0;32mor\u001b[0m \u001b[0miterator\u001b[0m\u001b[0;34m:\u001b[0m\u001b[0;34m\u001b[0m\u001b[0m\n",
      "\u001b[0;32m/home/horvath.anna/.local/lib/python3.5/site-packages/pandas/io/parsers.py\u001b[0m in \u001b[0;36m__init__\u001b[0;34m(self, f, engine, **kwds)\u001b[0m\n\u001b[1;32m    760\u001b[0m             \u001b[0mself\u001b[0m\u001b[0;34m.\u001b[0m\u001b[0moptions\u001b[0m\u001b[0;34m[\u001b[0m\u001b[0;34m'has_index_names'\u001b[0m\u001b[0;34m]\u001b[0m \u001b[0;34m=\u001b[0m \u001b[0mkwds\u001b[0m\u001b[0;34m[\u001b[0m\u001b[0;34m'has_index_names'\u001b[0m\u001b[0;34m]\u001b[0m\u001b[0;34m\u001b[0m\u001b[0m\n\u001b[1;32m    761\u001b[0m \u001b[0;34m\u001b[0m\u001b[0m\n\u001b[0;32m--> 762\u001b[0;31m         \u001b[0mself\u001b[0m\u001b[0;34m.\u001b[0m\u001b[0m_make_engine\u001b[0m\u001b[0;34m(\u001b[0m\u001b[0mself\u001b[0m\u001b[0;34m.\u001b[0m\u001b[0mengine\u001b[0m\u001b[0;34m)\u001b[0m\u001b[0;34m\u001b[0m\u001b[0m\n\u001b[0m\u001b[1;32m    763\u001b[0m \u001b[0;34m\u001b[0m\u001b[0m\n\u001b[1;32m    764\u001b[0m     \u001b[0;32mdef\u001b[0m \u001b[0mclose\u001b[0m\u001b[0;34m(\u001b[0m\u001b[0mself\u001b[0m\u001b[0;34m)\u001b[0m\u001b[0;34m:\u001b[0m\u001b[0;34m\u001b[0m\u001b[0m\n",
      "\u001b[0;32m/home/horvath.anna/.local/lib/python3.5/site-packages/pandas/io/parsers.py\u001b[0m in \u001b[0;36m_make_engine\u001b[0;34m(self, engine)\u001b[0m\n\u001b[1;32m    964\u001b[0m     \u001b[0;32mdef\u001b[0m \u001b[0m_make_engine\u001b[0m\u001b[0;34m(\u001b[0m\u001b[0mself\u001b[0m\u001b[0;34m,\u001b[0m \u001b[0mengine\u001b[0m\u001b[0;34m=\u001b[0m\u001b[0;34m'c'\u001b[0m\u001b[0;34m)\u001b[0m\u001b[0;34m:\u001b[0m\u001b[0;34m\u001b[0m\u001b[0m\n\u001b[1;32m    965\u001b[0m         \u001b[0;32mif\u001b[0m \u001b[0mengine\u001b[0m \u001b[0;34m==\u001b[0m \u001b[0;34m'c'\u001b[0m\u001b[0;34m:\u001b[0m\u001b[0;34m\u001b[0m\u001b[0m\n\u001b[0;32m--> 966\u001b[0;31m             \u001b[0mself\u001b[0m\u001b[0;34m.\u001b[0m\u001b[0m_engine\u001b[0m \u001b[0;34m=\u001b[0m \u001b[0mCParserWrapper\u001b[0m\u001b[0;34m(\u001b[0m\u001b[0mself\u001b[0m\u001b[0;34m.\u001b[0m\u001b[0mf\u001b[0m\u001b[0;34m,\u001b[0m \u001b[0;34m**\u001b[0m\u001b[0mself\u001b[0m\u001b[0;34m.\u001b[0m\u001b[0moptions\u001b[0m\u001b[0;34m)\u001b[0m\u001b[0;34m\u001b[0m\u001b[0m\n\u001b[0m\u001b[1;32m    967\u001b[0m         \u001b[0;32melse\u001b[0m\u001b[0;34m:\u001b[0m\u001b[0;34m\u001b[0m\u001b[0m\n\u001b[1;32m    968\u001b[0m             \u001b[0;32mif\u001b[0m \u001b[0mengine\u001b[0m \u001b[0;34m==\u001b[0m \u001b[0;34m'python'\u001b[0m\u001b[0;34m:\u001b[0m\u001b[0;34m\u001b[0m\u001b[0m\n",
      "\u001b[0;32m/home/horvath.anna/.local/lib/python3.5/site-packages/pandas/io/parsers.py\u001b[0m in \u001b[0;36m__init__\u001b[0;34m(self, src, **kwds)\u001b[0m\n\u001b[1;32m   1584\u001b[0m         \u001b[0;31m# XXX\u001b[0m\u001b[0;34m\u001b[0m\u001b[0;34m\u001b[0m\u001b[0m\n\u001b[1;32m   1585\u001b[0m         self.usecols, self.usecols_dtype = _validate_usecols_arg(\n\u001b[0;32m-> 1586\u001b[0;31m             self._reader.usecols)\n\u001b[0m\u001b[1;32m   1587\u001b[0m \u001b[0;34m\u001b[0m\u001b[0m\n\u001b[1;32m   1588\u001b[0m         \u001b[0mpassed_names\u001b[0m \u001b[0;34m=\u001b[0m \u001b[0mself\u001b[0m\u001b[0;34m.\u001b[0m\u001b[0mnames\u001b[0m \u001b[0;32mis\u001b[0m \u001b[0;32mNone\u001b[0m\u001b[0;34m\u001b[0m\u001b[0m\n",
      "\u001b[0;32m/home/horvath.anna/.local/lib/python3.5/site-packages/pandas/io/parsers.py\u001b[0m in \u001b[0;36m_validate_usecols_arg\u001b[0;34m(usecols)\u001b[0m\n\u001b[1;32m   1103\u001b[0m         if usecols_dtype not in ('empty', 'integer',\n\u001b[1;32m   1104\u001b[0m                                  'string', 'unicode'):\n\u001b[0;32m-> 1105\u001b[0;31m             \u001b[0;32mraise\u001b[0m \u001b[0mValueError\u001b[0m\u001b[0;34m(\u001b[0m\u001b[0mmsg\u001b[0m\u001b[0;34m)\u001b[0m\u001b[0;34m\u001b[0m\u001b[0m\n\u001b[0m\u001b[1;32m   1106\u001b[0m \u001b[0;34m\u001b[0m\u001b[0m\n\u001b[1;32m   1107\u001b[0m         \u001b[0;32mreturn\u001b[0m \u001b[0mset\u001b[0m\u001b[0;34m(\u001b[0m\u001b[0musecols\u001b[0m\u001b[0;34m)\u001b[0m\u001b[0;34m,\u001b[0m \u001b[0musecols_dtype\u001b[0m\u001b[0;34m\u001b[0m\u001b[0m\n",
      "\u001b[0;31mValueError\u001b[0m: 'usecols' must either be all strings, all unicode, all integers or a callable"
     ]
    }
   ],
   "source": [
    "pd.read_csv(\"data/kisnevsor.csv.gz\",usecols=['Név',1])"
   ]
  },
  {
   "cell_type": "markdown",
   "metadata": {
    "deletable": true,
    "editable": true
   },
   "source": [
    "#### További beállításokat itt találhatunk:"
   ]
  },
  {
   "cell_type": "code",
   "execution_count": 34,
   "metadata": {
    "collapsed": false,
    "deletable": true,
    "editable": true
   },
   "outputs": [
    {
     "name": "stdout",
     "output_type": "stream",
     "text": [
      "Help on function read_csv in module pandas.io.parsers:\n",
      "\n",
      "read_csv(filepath_or_buffer, sep=',', delimiter=None, header='infer', names=None, index_col=None, usecols=None, squeeze=False, prefix=None, mangle_dupe_cols=True, dtype=None, engine=None, converters=None, true_values=None, false_values=None, skipinitialspace=False, skiprows=None, nrows=None, na_values=None, keep_default_na=True, na_filter=True, verbose=False, skip_blank_lines=True, parse_dates=False, infer_datetime_format=False, keep_date_col=False, date_parser=None, dayfirst=False, iterator=False, chunksize=None, compression='infer', thousands=None, decimal=b'.', lineterminator=None, quotechar='\"', quoting=0, escapechar=None, comment=None, encoding=None, dialect=None, tupleize_cols=False, error_bad_lines=True, warn_bad_lines=True, skipfooter=0, skip_footer=0, doublequote=True, delim_whitespace=False, as_recarray=False, compact_ints=False, use_unsigned=False, low_memory=True, buffer_lines=None, memory_map=False, float_precision=None)\n",
      "    Read CSV (comma-separated) file into DataFrame\n",
      "    \n",
      "    Also supports optionally iterating or breaking of the file\n",
      "    into chunks.\n",
      "    \n",
      "    Additional help can be found in the `online docs for IO Tools\n",
      "    <http://pandas.pydata.org/pandas-docs/stable/io.html>`_.\n",
      "    \n",
      "    Parameters\n",
      "    ----------\n",
      "    filepath_or_buffer : str, pathlib.Path, py._path.local.LocalPath or any object with a read() method (such as a file handle or StringIO)\n",
      "        The string could be a URL. Valid URL schemes include http, ftp, s3, and\n",
      "        file. For file URLs, a host is expected. For instance, a local file could\n",
      "        be file ://localhost/path/to/table.csv\n",
      "    sep : str, default ','\n",
      "        Delimiter to use. If sep is None, the C engine cannot automatically detect\n",
      "        the separator, but the Python parsing engine can, meaning the latter will\n",
      "        be used automatically. In addition, separators longer than 1 character and\n",
      "        different from ``'\\s+'`` will be interpreted as regular expressions and\n",
      "        will also force the use of the Python parsing engine. Note that regex\n",
      "        delimiters are prone to ignoring quoted data. Regex example: ``'\\r\\t'``\n",
      "    delimiter : str, default ``None``\n",
      "        Alternative argument name for sep.\n",
      "    delim_whitespace : boolean, default False\n",
      "        Specifies whether or not whitespace (e.g. ``' '`` or ``'    '``) will be\n",
      "        used as the sep. Equivalent to setting ``sep='\\s+'``. If this option\n",
      "        is set to True, nothing should be passed in for the ``delimiter``\n",
      "        parameter.\n",
      "    \n",
      "        .. versionadded:: 0.18.1 support for the Python parser.\n",
      "    \n",
      "    header : int or list of ints, default 'infer'\n",
      "        Row number(s) to use as the column names, and the start of the data.\n",
      "        Default behavior is as if set to 0 if no ``names`` passed, otherwise\n",
      "        ``None``. Explicitly pass ``header=0`` to be able to replace existing\n",
      "        names. The header can be a list of integers that specify row locations for\n",
      "        a multi-index on the columns e.g. [0,1,3]. Intervening rows that are not\n",
      "        specified will be skipped (e.g. 2 in this example is skipped). Note that\n",
      "        this parameter ignores commented lines and empty lines if\n",
      "        ``skip_blank_lines=True``, so header=0 denotes the first line of data\n",
      "        rather than the first line of the file.\n",
      "    names : array-like, default None\n",
      "        List of column names to use. If file contains no header row, then you\n",
      "        should explicitly pass header=None. Duplicates in this list are not\n",
      "        allowed unless mangle_dupe_cols=True, which is the default.\n",
      "    index_col : int or sequence or False, default None\n",
      "        Column to use as the row labels of the DataFrame. If a sequence is given, a\n",
      "        MultiIndex is used. If you have a malformed file with delimiters at the end\n",
      "        of each line, you might consider index_col=False to force pandas to _not_\n",
      "        use the first column as the index (row names)\n",
      "    usecols : array-like or callable, default None\n",
      "        Return a subset of the columns. If array-like, all elements must either\n",
      "        be positional (i.e. integer indices into the document columns) or strings\n",
      "        that correspond to column names provided either by the user in `names` or\n",
      "        inferred from the document header row(s). For example, a valid array-like\n",
      "        `usecols` parameter would be [0, 1, 2] or ['foo', 'bar', 'baz'].\n",
      "    \n",
      "        If callable, the callable function will be evaluated against the column\n",
      "        names, returning names where the callable function evaluates to True. An\n",
      "        example of a valid callable argument would be ``lambda x: x.upper() in\n",
      "        ['AAA', 'BBB', 'DDD']``. Using this parameter results in much faster\n",
      "        parsing time and lower memory usage.\n",
      "    as_recarray : boolean, default False\n",
      "        DEPRECATED: this argument will be removed in a future version. Please call\n",
      "        `pd.read_csv(...).to_records()` instead.\n",
      "    \n",
      "        Return a NumPy recarray instead of a DataFrame after parsing the data.\n",
      "        If set to True, this option takes precedence over the `squeeze` parameter.\n",
      "        In addition, as row indices are not available in such a format, the\n",
      "        `index_col` parameter will be ignored.\n",
      "    squeeze : boolean, default False\n",
      "        If the parsed data only contains one column then return a Series\n",
      "    prefix : str, default None\n",
      "        Prefix to add to column numbers when no header, e.g. 'X' for X0, X1, ...\n",
      "    mangle_dupe_cols : boolean, default True\n",
      "        Duplicate columns will be specified as 'X.0'...'X.N', rather than\n",
      "        'X'...'X'. Passing in False will cause data to be overwritten if there\n",
      "        are duplicate names in the columns.\n",
      "    dtype : Type name or dict of column -> type, default None\n",
      "        Data type for data or columns. E.g. {'a': np.float64, 'b': np.int32}\n",
      "        Use `str` or `object` to preserve and not interpret dtype.\n",
      "        If converters are specified, they will be applied INSTEAD\n",
      "        of dtype conversion.\n",
      "    engine : {'c', 'python'}, optional\n",
      "        Parser engine to use. The C engine is faster while the python engine is\n",
      "        currently more feature-complete.\n",
      "    converters : dict, default None\n",
      "        Dict of functions for converting values in certain columns. Keys can either\n",
      "        be integers or column labels\n",
      "    true_values : list, default None\n",
      "        Values to consider as True\n",
      "    false_values : list, default None\n",
      "        Values to consider as False\n",
      "    skipinitialspace : boolean, default False\n",
      "        Skip spaces after delimiter.\n",
      "    skiprows : list-like or integer or callable, default None\n",
      "        Line numbers to skip (0-indexed) or number of lines to skip (int)\n",
      "        at the start of the file.\n",
      "    \n",
      "        If callable, the callable function will be evaluated against the row\n",
      "        indices, returning True if the row should be skipped and False otherwise.\n",
      "        An example of a valid callable argument would be ``lambda x: x in [0, 2]``.\n",
      "    skipfooter : int, default 0\n",
      "        Number of lines at bottom of file to skip (Unsupported with engine='c')\n",
      "    skip_footer : int, default 0\n",
      "        DEPRECATED: use the `skipfooter` parameter instead, as they are identical\n",
      "    nrows : int, default None\n",
      "        Number of rows of file to read. Useful for reading pieces of large files\n",
      "    na_values : scalar, str, list-like, or dict, default None\n",
      "        Additional strings to recognize as NA/NaN. If dict passed, specific\n",
      "        per-column NA values.  By default the following values are interpreted as\n",
      "        NaN: '', '#N/A', '#N/A N/A', '#NA', '-1.#IND', '-1.#QNAN', '-NaN', '-nan',\n",
      "        '1.#IND', '1.#QNAN', 'N/A', 'NA', 'NULL', 'NaN', 'nan'`.\n",
      "    keep_default_na : bool, default True\n",
      "        If na_values are specified and keep_default_na is False the default NaN\n",
      "        values are overridden, otherwise they're appended to.\n",
      "    na_filter : boolean, default True\n",
      "        Detect missing value markers (empty strings and the value of na_values). In\n",
      "        data without any NAs, passing na_filter=False can improve the performance\n",
      "        of reading a large file\n",
      "    verbose : boolean, default False\n",
      "        Indicate number of NA values placed in non-numeric columns\n",
      "    skip_blank_lines : boolean, default True\n",
      "        If True, skip over blank lines rather than interpreting as NaN values\n",
      "    parse_dates : boolean or list of ints or names or list of lists or dict, default False\n",
      "    \n",
      "        * boolean. If True -> try parsing the index.\n",
      "        * list of ints or names. e.g. If [1, 2, 3] -> try parsing columns 1, 2, 3\n",
      "          each as a separate date column.\n",
      "        * list of lists. e.g.  If [[1, 3]] -> combine columns 1 and 3 and parse as\n",
      "          a single date column.\n",
      "        * dict, e.g. {'foo' : [1, 3]} -> parse columns 1, 3 as date and call result\n",
      "          'foo'\n",
      "    \n",
      "        If a column or index contains an unparseable date, the entire column or\n",
      "        index will be returned unaltered as an object data type. For non-standard\n",
      "        datetime parsing, use ``pd.to_datetime`` after ``pd.read_csv``\n",
      "    \n",
      "        Note: A fast-path exists for iso8601-formatted dates.\n",
      "    infer_datetime_format : boolean, default False\n",
      "        If True and parse_dates is enabled, pandas will attempt to infer the format\n",
      "        of the datetime strings in the columns, and if it can be inferred, switch\n",
      "        to a faster method of parsing them. In some cases this can increase the\n",
      "        parsing speed by 5-10x.\n",
      "    keep_date_col : boolean, default False\n",
      "        If True and parse_dates specifies combining multiple columns then\n",
      "        keep the original columns.\n",
      "    date_parser : function, default None\n",
      "        Function to use for converting a sequence of string columns to an array of\n",
      "        datetime instances. The default uses ``dateutil.parser.parser`` to do the\n",
      "        conversion. Pandas will try to call date_parser in three different ways,\n",
      "        advancing to the next if an exception occurs: 1) Pass one or more arrays\n",
      "        (as defined by parse_dates) as arguments; 2) concatenate (row-wise) the\n",
      "        string values from the columns defined by parse_dates into a single array\n",
      "        and pass that; and 3) call date_parser once for each row using one or more\n",
      "        strings (corresponding to the columns defined by parse_dates) as arguments.\n",
      "    dayfirst : boolean, default False\n",
      "        DD/MM format dates, international and European format\n",
      "    iterator : boolean, default False\n",
      "        Return TextFileReader object for iteration or getting chunks with\n",
      "        ``get_chunk()``.\n",
      "    chunksize : int, default None\n",
      "        Return TextFileReader object for iteration.\n",
      "        See the `IO Tools docs\n",
      "        <http://pandas.pydata.org/pandas-docs/stable/io.html#io-chunking>`_\n",
      "        for more information on ``iterator`` and ``chunksize``.\n",
      "    compression : {'infer', 'gzip', 'bz2', 'zip', 'xz', None}, default 'infer'\n",
      "        For on-the-fly decompression of on-disk data. If 'infer', then use gzip,\n",
      "        bz2, zip or xz if filepath_or_buffer is a string ending in '.gz', '.bz2',\n",
      "        '.zip', or 'xz', respectively, and no decompression otherwise. If using\n",
      "        'zip', the ZIP file must contain only one data file to be read in.\n",
      "        Set to None for no decompression.\n",
      "    \n",
      "        .. versionadded:: 0.18.1 support for 'zip' and 'xz' compression.\n",
      "    \n",
      "    thousands : str, default None\n",
      "        Thousands separator\n",
      "    decimal : str, default '.'\n",
      "        Character to recognize as decimal point (e.g. use ',' for European data).\n",
      "    float_precision : string, default None\n",
      "        Specifies which converter the C engine should use for floating-point\n",
      "        values. The options are `None` for the ordinary converter,\n",
      "        `high` for the high-precision converter, and `round_trip` for the\n",
      "        round-trip converter.\n",
      "    lineterminator : str (length 1), default None\n",
      "        Character to break file into lines. Only valid with C parser.\n",
      "    quotechar : str (length 1), optional\n",
      "        The character used to denote the start and end of a quoted item. Quoted\n",
      "        items can include the delimiter and it will be ignored.\n",
      "    quoting : int or csv.QUOTE_* instance, default 0\n",
      "        Control field quoting behavior per ``csv.QUOTE_*`` constants. Use one of\n",
      "        QUOTE_MINIMAL (0), QUOTE_ALL (1), QUOTE_NONNUMERIC (2) or QUOTE_NONE (3).\n",
      "    doublequote : boolean, default ``True``\n",
      "       When quotechar is specified and quoting is not ``QUOTE_NONE``, indicate\n",
      "       whether or not to interpret two consecutive quotechar elements INSIDE a\n",
      "       field as a single ``quotechar`` element.\n",
      "    escapechar : str (length 1), default None\n",
      "        One-character string used to escape delimiter when quoting is QUOTE_NONE.\n",
      "    comment : str, default None\n",
      "        Indicates remainder of line should not be parsed. If found at the beginning\n",
      "        of a line, the line will be ignored altogether. This parameter must be a\n",
      "        single character. Like empty lines (as long as ``skip_blank_lines=True``),\n",
      "        fully commented lines are ignored by the parameter `header` but not by\n",
      "        `skiprows`. For example, if comment='#', parsing '#empty\\na,b,c\\n1,2,3'\n",
      "        with `header=0` will result in 'a,b,c' being\n",
      "        treated as the header.\n",
      "    encoding : str, default None\n",
      "        Encoding to use for UTF when reading/writing (ex. 'utf-8'). `List of Python\n",
      "        standard encodings\n",
      "        <https://docs.python.org/3/library/codecs.html#standard-encodings>`_\n",
      "    dialect : str or csv.Dialect instance, default None\n",
      "        If provided, this parameter will override values (default or not) for the\n",
      "        following parameters: `delimiter`, `doublequote`, `escapechar`,\n",
      "        `skipinitialspace`, `quotechar`, and `quoting`. If it is necessary to\n",
      "        override values, a ParserWarning will be issued. See csv.Dialect\n",
      "        documentation for more details.\n",
      "    tupleize_cols : boolean, default False\n",
      "        Leave a list of tuples on columns as is (default is to convert to\n",
      "        a Multi Index on the columns)\n",
      "    error_bad_lines : boolean, default True\n",
      "        Lines with too many fields (e.g. a csv line with too many commas) will by\n",
      "        default cause an exception to be raised, and no DataFrame will be returned.\n",
      "        If False, then these \"bad lines\" will dropped from the DataFrame that is\n",
      "        returned.\n",
      "    warn_bad_lines : boolean, default True\n",
      "        If error_bad_lines is False, and warn_bad_lines is True, a warning for each\n",
      "        \"bad line\" will be output.\n",
      "    low_memory : boolean, default True\n",
      "        Internally process the file in chunks, resulting in lower memory use\n",
      "        while parsing, but possibly mixed type inference.  To ensure no mixed\n",
      "        types either set False, or specify the type with the `dtype` parameter.\n",
      "        Note that the entire file is read into a single DataFrame regardless,\n",
      "        use the `chunksize` or `iterator` parameter to return the data in chunks.\n",
      "        (Only valid with C parser)\n",
      "    buffer_lines : int, default None\n",
      "        DEPRECATED: this argument will be removed in a future version because its\n",
      "        value is not respected by the parser\n",
      "    compact_ints : boolean, default False\n",
      "        DEPRECATED: this argument will be removed in a future version\n",
      "    \n",
      "        If compact_ints is True, then for any column that is of integer dtype,\n",
      "        the parser will attempt to cast it as the smallest integer dtype possible,\n",
      "        either signed or unsigned depending on the specification from the\n",
      "        `use_unsigned` parameter.\n",
      "    use_unsigned : boolean, default False\n",
      "        DEPRECATED: this argument will be removed in a future version\n",
      "    \n",
      "        If integer columns are being compacted (i.e. `compact_ints=True`), specify\n",
      "        whether the column should be compacted to the smallest signed or unsigned\n",
      "        integer dtype.\n",
      "    memory_map : boolean, default False\n",
      "        If a filepath is provided for `filepath_or_buffer`, map the file object\n",
      "        directly onto memory and access the data directly from there. Using this\n",
      "        option can improve performance because there is no longer any I/O overhead.\n",
      "    \n",
      "    Returns\n",
      "    -------\n",
      "    result : DataFrame or TextParser\n",
      "\n"
     ]
    }
   ],
   "source": [
    "help(pd.read_csv)"
   ]
  },
  {
   "cell_type": "markdown",
   "metadata": {
    "deletable": true,
    "editable": true
   },
   "source": [
    "## Kiírás csv file-ba\n",
    "\n",
    "Alapértelmezetten a pandas kiírja az indexeket is."
   ]
  },
  {
   "cell_type": "code",
   "execution_count": 35,
   "metadata": {
    "collapsed": true,
    "deletable": true,
    "editable": true
   },
   "outputs": [],
   "source": [
    "df.to_csv('tmp.tsv')"
   ]
  },
  {
   "cell_type": "code",
   "execution_count": 36,
   "metadata": {
    "collapsed": false,
    "deletable": true,
    "editable": true
   },
   "outputs": [
    {
     "name": "stdout",
     "output_type": "stream",
     "text": [
      ",Név,Eszter,Orsi,Nem,Kor,Dátum\r\n",
      "0,Bálint,2,.,fiú,20,12:31\r\n",
      "1,Csenge,4,4,lány,22,13:20\r\n",
      "2,István,5,4,fiú,19,12:35\r\n",
      "3,Zita,3,5,lány,20,14:50\r\n",
      "4,Károly,4,.,fiú,21,14:55\r\n"
     ]
    }
   ],
   "source": [
    "%cat tmp.tsv"
   ]
  },
  {
   "cell_type": "markdown",
   "metadata": {
    "deletable": true,
    "editable": true
   },
   "source": [
    "Ha ezt nem akarjuk:"
   ]
  },
  {
   "cell_type": "code",
   "execution_count": 37,
   "metadata": {
    "collapsed": true,
    "deletable": true,
    "editable": true
   },
   "outputs": [],
   "source": [
    "df.to_csv('tmp.csv',index=False)"
   ]
  },
  {
   "cell_type": "code",
   "execution_count": 38,
   "metadata": {
    "collapsed": false,
    "deletable": true,
    "editable": true
   },
   "outputs": [
    {
     "name": "stdout",
     "output_type": "stream",
     "text": [
      ",Név,Eszter,Orsi,Nem,Kor,Dátum\r\n",
      "0,Bálint,2,.,fiú,20,12:31\r\n",
      "1,Csenge,4,4,lány,22,13:20\r\n",
      "2,István,5,4,fiú,19,12:35\r\n",
      "3,Zita,3,5,lány,20,14:50\r\n",
      "4,Károly,4,.,fiú,21,14:55\r\n"
     ]
    }
   ],
   "source": [
    "%cat tmp.tsv"
   ]
  },
  {
   "cell_type": "markdown",
   "metadata": {
    "deletable": true,
    "editable": true
   },
   "source": [
    "Az elválasztót itt is a sep argumentummal állíthatjuk be."
   ]
  },
  {
   "cell_type": "code",
   "execution_count": 39,
   "metadata": {
    "collapsed": false,
    "deletable": true,
    "editable": true
   },
   "outputs": [],
   "source": [
    "df.to_csv('tmp.tsv',sep='\\t')"
   ]
  },
  {
   "cell_type": "code",
   "execution_count": 40,
   "metadata": {
    "collapsed": false,
    "deletable": true,
    "editable": true
   },
   "outputs": [
    {
     "name": "stdout",
     "output_type": "stream",
     "text": [
      "\tNév\tEszter\tOrsi\tNem\tKor\tDátum\r\n",
      "0\tBálint\t2\t.\tfiú\t20\t12:31\r\n",
      "1\tCsenge\t4\t4\tlány\t22\t13:20\r\n",
      "2\tIstván\t5\t4\tfiú\t19\t12:35\r\n",
      "3\tZita\t3\t5\tlány\t20\t14:50\r\n",
      "4\tKároly\t4\t.\tfiú\t21\t14:55\r\n"
     ]
    }
   ],
   "source": [
    "%cat tmp.tsv"
   ]
  },
  {
   "cell_type": "markdown",
   "metadata": {
    "deletable": true,
    "editable": true
   },
   "source": [
    "Írhatunk tömörítve."
   ]
  },
  {
   "cell_type": "code",
   "execution_count": 41,
   "metadata": {
    "collapsed": true,
    "deletable": true,
    "editable": true
   },
   "outputs": [],
   "source": [
    "df.to_csv('tmp.csv.gz')"
   ]
  },
  {
   "cell_type": "markdown",
   "metadata": {
    "deletable": true,
    "editable": true
   },
   "source": [
    "A lebegőpontos számok formátumát is beállíthatjuk."
   ]
  },
  {
   "cell_type": "code",
   "execution_count": 42,
   "metadata": {
    "collapsed": true,
    "deletable": true,
    "editable": true
   },
   "outputs": [],
   "source": [
    "df.to_csv('tmp.csv',float_format='%.2f')"
   ]
  },
  {
   "cell_type": "code",
   "execution_count": 43,
   "metadata": {
    "collapsed": false,
    "deletable": true,
    "editable": true
   },
   "outputs": [
    {
     "name": "stdout",
     "output_type": "stream",
     "text": [
      ",Név,Eszter,Orsi,Nem,Kor,Dátum\r\n",
      "0,Bálint,2,.,fiú,20,12:31\r\n",
      "1,Csenge,4,4,lány,22,13:20\r\n",
      "2,István,5,4,fiú,19,12:35\r\n",
      "3,Zita,3,5,lány,20,14:50\r\n",
      "4,Károly,4,.,fiú,21,14:55\r\n"
     ]
    }
   ],
   "source": [
    "%cat tmp.csv"
   ]
  },
  {
   "cell_type": "markdown",
   "metadata": {
    "deletable": true,
    "editable": true
   },
   "source": [
    "## További beolvasó-kiíró függvények:"
   ]
  },
  {
   "cell_type": "markdown",
   "metadata": {
    "deletable": true,
    "editable": true
   },
   "source": [
    "Tudunk excel file-t is beolvasni. \n",
    "\n"
   ]
  },
  {
   "cell_type": "code",
   "execution_count": 45,
   "metadata": {
    "collapsed": false,
    "deletable": true,
    "editable": true,
    "scrolled": true
   },
   "outputs": [
    {
     "data": {
      "text/html": [
       "<div>\n",
       "<style>\n",
       "    .dataframe thead tr:only-child th {\n",
       "        text-align: right;\n",
       "    }\n",
       "\n",
       "    .dataframe thead th {\n",
       "        text-align: left;\n",
       "    }\n",
       "\n",
       "    .dataframe tbody tr th {\n",
       "        vertical-align: top;\n",
       "    }\n",
       "</style>\n",
       "<table border=\"1\" class=\"dataframe\">\n",
       "  <thead>\n",
       "    <tr style=\"text-align: right;\">\n",
       "      <th></th>\n",
       "      <th>Eszter</th>\n",
       "      <th>Orsi</th>\n",
       "      <th>Nem</th>\n",
       "      <th>Kor</th>\n",
       "    </tr>\n",
       "  </thead>\n",
       "  <tbody>\n",
       "    <tr>\n",
       "      <th>Bálint</th>\n",
       "      <td>2</td>\n",
       "      <td>3</td>\n",
       "      <td>fiú</td>\n",
       "      <td>20</td>\n",
       "    </tr>\n",
       "    <tr>\n",
       "      <th>Csenge</th>\n",
       "      <td>4</td>\n",
       "      <td>4</td>\n",
       "      <td>lány</td>\n",
       "      <td>22</td>\n",
       "    </tr>\n",
       "    <tr>\n",
       "      <th>István</th>\n",
       "      <td>5</td>\n",
       "      <td>4</td>\n",
       "      <td>fiú</td>\n",
       "      <td>19</td>\n",
       "    </tr>\n",
       "    <tr>\n",
       "      <th>Zita</th>\n",
       "      <td>3</td>\n",
       "      <td>5</td>\n",
       "      <td>lány</td>\n",
       "      <td>20</td>\n",
       "    </tr>\n",
       "  </tbody>\n",
       "</table>\n",
       "</div>"
      ],
      "text/plain": [
       "        Eszter  Orsi   Nem  Kor\n",
       "Bálint       2     3   fiú   20\n",
       "Csenge       4     4  lány   22\n",
       "István       5     4   fiú   19\n",
       "Zita         3     5  lány   20"
      ]
     },
     "execution_count": 45,
     "metadata": {},
     "output_type": "execute_result"
    }
   ],
   "source": [
    "df=pd.read_excel('data/kisnevsor.xlsx')\n",
    "df"
   ]
  },
  {
   "cell_type": "markdown",
   "metadata": {
    "deletable": true,
    "editable": true
   },
   "source": [
    "És írni.\n"
   ]
  },
  {
   "cell_type": "code",
   "execution_count": 48,
   "metadata": {
    "collapsed": false,
    "deletable": true,
    "editable": true
   },
   "outputs": [],
   "source": [
    "df.to_excel('tmp.xlsx')"
   ]
  },
  {
   "cell_type": "markdown",
   "metadata": {
    "deletable": true,
    "editable": true
   },
   "source": [
    "### dictionary olvasása"
   ]
  },
  {
   "cell_type": "markdown",
   "metadata": {
    "deletable": true,
    "editable": true
   },
   "source": [
    "Különböző webes szolgáltatásokból gyakran egy Python dictionary-szerű stringként, ún. JSON-formátumban kapjuk meg a kért adatokat. Ezeket dictionary-vé a json könyvtár függvényeivel alakíthatjuk."
   ]
  },
  {
   "cell_type": "code",
   "execution_count": 49,
   "metadata": {
    "collapsed": true,
    "deletable": true,
    "editable": true
   },
   "outputs": [],
   "source": [
    "import json"
   ]
  },
  {
   "cell_type": "markdown",
   "metadata": {
    "deletable": true,
    "editable": true
   },
   "source": [
    "A `data/json_example` fájl minden sora egy ilyen szótár, amit a Google Geocoding API-ból kaptunk eredményül. Töltsük be ezeket a sorokat egy dictionary-ket tartalmazó listába a következő parancssal:"
   ]
  },
  {
   "cell_type": "code",
   "execution_count": 50,
   "metadata": {
    "collapsed": false,
    "deletable": true,
    "editable": true
   },
   "outputs": [
    {
     "data": {
      "text/plain": [
       "[{'id': '3040051',\n",
       "  'query': 'les+Escaldes+AD',\n",
       "  'results': [{'address_components': [{'long_name': 'Les Escaldes',\n",
       "      'short_name': 'Les Escaldes',\n",
       "      'types': ['locality', 'political']},\n",
       "     {'long_name': 'Escaldes-Engordany',\n",
       "      'short_name': 'Escaldes-Engordany',\n",
       "      'types': ['administrative_area_level_1', 'political']},\n",
       "     {'long_name': 'Andorra',\n",
       "      'short_name': 'AD',\n",
       "      'types': ['country', 'political']},\n",
       "     {'long_name': 'AD700', 'short_name': 'AD700', 'types': ['postal_code']}],\n",
       "    'formatted_address': 'AD700 Les Escaldes, Andorra',\n",
       "    'geometry': {'bounds': {'northeast': {'lat': 42.5168669, 'lng': 1.5532685},\n",
       "      'southwest': {'lat': 42.5067774, 'lng': 1.5285531}},\n",
       "     'location': {'lat': 42.5100804, 'lng': 1.5387862},\n",
       "     'location_type': 'APPROXIMATE',\n",
       "     'viewport': {'northeast': {'lat': 42.5168669, 'lng': 1.5532685},\n",
       "      'southwest': {'lat': 42.5067774, 'lng': 1.5285531}}},\n",
       "    'place_id': 'ChIJaxpK9OKKpRIRtp4e8lTF3v0',\n",
       "    'types': ['locality', 'political']}],\n",
       "  'status': 'OK'},\n",
       " {'id': '3040051',\n",
       "  'query': 'les+Escaldes+AD',\n",
       "  'results': [{'address_components': [{'long_name': 'Les Escaldes',\n",
       "      'short_name': 'Les Escaldes',\n",
       "      'types': ['locality', 'political']},\n",
       "     {'long_name': 'Escaldes-Engordany',\n",
       "      'short_name': 'Escaldes-Engordany',\n",
       "      'types': ['administrative_area_level_1', 'political']},\n",
       "     {'long_name': 'Andorra',\n",
       "      'short_name': 'AD',\n",
       "      'types': ['country', 'political']},\n",
       "     {'long_name': 'AD700', 'short_name': 'AD700', 'types': ['postal_code']}],\n",
       "    'formatted_address': 'AD700 Les Escaldes, Andorra',\n",
       "    'geometry': {'bounds': {'northeast': {'lat': 42.5168669, 'lng': 1.5532685},\n",
       "      'southwest': {'lat': 42.5067774, 'lng': 1.5285531}},\n",
       "     'location': {'lat': 42.5100804, 'lng': 1.5387862},\n",
       "     'location_type': 'APPROXIMATE',\n",
       "     'viewport': {'northeast': {'lat': 42.5168669, 'lng': 1.5532685},\n",
       "      'southwest': {'lat': 42.5067774, 'lng': 1.5285531}}},\n",
       "    'place_id': 'ChIJaxpK9OKKpRIRtp4e8lTF3v0',\n",
       "    'types': ['locality', 'political']}],\n",
       "  'status': 'OK'}]"
      ]
     },
     "execution_count": 50,
     "metadata": {},
     "output_type": "execute_result"
    }
   ],
   "source": [
    "d=[json.loads(s) for s in open(\"data/json_example\").readlines()]\n",
    "d[0:2]"
   ]
  },
  {
   "cell_type": "markdown",
   "metadata": {
    "deletable": true,
    "editable": true
   },
   "source": [
    "Látszik, hogy ugyanazok a kulcsok ismétlődnek minden listaelemben: célszerűbb lenne ezekből a sorokból tehát egy táblázatot készítenünk!"
   ]
  },
  {
   "cell_type": "code",
   "execution_count": 51,
   "metadata": {
    "collapsed": false,
    "deletable": true,
    "editable": true
   },
   "outputs": [
    {
     "data": {
      "text/html": [
       "<div>\n",
       "<style>\n",
       "    .dataframe thead tr:only-child th {\n",
       "        text-align: right;\n",
       "    }\n",
       "\n",
       "    .dataframe thead th {\n",
       "        text-align: left;\n",
       "    }\n",
       "\n",
       "    .dataframe tbody tr th {\n",
       "        vertical-align: top;\n",
       "    }\n",
       "</style>\n",
       "<table border=\"1\" class=\"dataframe\">\n",
       "  <thead>\n",
       "    <tr style=\"text-align: right;\">\n",
       "      <th></th>\n",
       "      <th>id</th>\n",
       "      <th>query</th>\n",
       "      <th>results</th>\n",
       "      <th>status</th>\n",
       "    </tr>\n",
       "  </thead>\n",
       "  <tbody>\n",
       "    <tr>\n",
       "      <th>0</th>\n",
       "      <td>3040051</td>\n",
       "      <td>les+Escaldes+AD</td>\n",
       "      <td>[{'types': ['locality', 'political'], 'address...</td>\n",
       "      <td>OK</td>\n",
       "    </tr>\n",
       "    <tr>\n",
       "      <th>1</th>\n",
       "      <td>3040051</td>\n",
       "      <td>les+Escaldes+AD</td>\n",
       "      <td>[{'types': ['locality', 'political'], 'address...</td>\n",
       "      <td>OK</td>\n",
       "    </tr>\n",
       "    <tr>\n",
       "      <th>2</th>\n",
       "      <td>3040051</td>\n",
       "      <td>les+Escaldes+AD</td>\n",
       "      <td>[{'types': ['locality', 'political'], 'address...</td>\n",
       "      <td>OK</td>\n",
       "    </tr>\n",
       "    <tr>\n",
       "      <th>3</th>\n",
       "      <td>3041563</td>\n",
       "      <td>Andorra+la+Vella+AD</td>\n",
       "      <td>[{'types': ['locality', 'political'], 'address...</td>\n",
       "      <td>OK</td>\n",
       "    </tr>\n",
       "    <tr>\n",
       "      <th>4</th>\n",
       "      <td>290594</td>\n",
       "      <td>Umm+al+Qaywayn+AE</td>\n",
       "      <td>[{'types': ['administrative_area_level_1', 'po...</td>\n",
       "      <td>OK</td>\n",
       "    </tr>\n",
       "    <tr>\n",
       "      <th>5</th>\n",
       "      <td>291074</td>\n",
       "      <td>Ras+al-Khaimah+AE</td>\n",
       "      <td>[{'types': ['locality', 'political'], 'address...</td>\n",
       "      <td>OK</td>\n",
       "    </tr>\n",
       "    <tr>\n",
       "      <th>6</th>\n",
       "      <td>3040051</td>\n",
       "      <td>les+Escaldes+AD</td>\n",
       "      <td>[{'types': ['locality', 'political'], 'address...</td>\n",
       "      <td>OK</td>\n",
       "    </tr>\n",
       "    <tr>\n",
       "      <th>7</th>\n",
       "      <td>3041563</td>\n",
       "      <td>Andorra+la+Vella+AD</td>\n",
       "      <td>[{'types': ['locality', 'political'], 'address...</td>\n",
       "      <td>OK</td>\n",
       "    </tr>\n",
       "    <tr>\n",
       "      <th>8</th>\n",
       "      <td>290594</td>\n",
       "      <td>Umm+al+Qaywayn+AE</td>\n",
       "      <td>[{'types': ['administrative_area_level_1', 'po...</td>\n",
       "      <td>OK</td>\n",
       "    </tr>\n",
       "    <tr>\n",
       "      <th>9</th>\n",
       "      <td>291074</td>\n",
       "      <td>Ras+al-Khaimah+AE</td>\n",
       "      <td>[{'types': ['locality', 'political'], 'address...</td>\n",
       "      <td>OK</td>\n",
       "    </tr>\n",
       "    <tr>\n",
       "      <th>10</th>\n",
       "      <td>291696</td>\n",
       "      <td>Khawr+Fakkan+AE</td>\n",
       "      <td>[{'types': ['locality', 'political'], 'address...</td>\n",
       "      <td>OK</td>\n",
       "    </tr>\n",
       "    <tr>\n",
       "      <th>11</th>\n",
       "      <td>292223</td>\n",
       "      <td>Dubai+AE</td>\n",
       "      <td>[{'types': ['locality', 'political'], 'address...</td>\n",
       "      <td>OK</td>\n",
       "    </tr>\n",
       "    <tr>\n",
       "      <th>12</th>\n",
       "      <td>292231</td>\n",
       "      <td>Dibba+Al-Fujairah+AE</td>\n",
       "      <td>[{'types': ['locality', 'political'], 'address...</td>\n",
       "      <td>OK</td>\n",
       "    </tr>\n",
       "    <tr>\n",
       "      <th>13</th>\n",
       "      <td>292239</td>\n",
       "      <td>Dibba+Al-Hisn+AE</td>\n",
       "      <td>[{'types': ['locality', 'political'], 'address...</td>\n",
       "      <td>OK</td>\n",
       "    </tr>\n",
       "    <tr>\n",
       "      <th>14</th>\n",
       "      <td>292672</td>\n",
       "      <td>Sharjah+AE</td>\n",
       "      <td>[{'types': ['locality', 'political'], 'address...</td>\n",
       "      <td>OK</td>\n",
       "    </tr>\n",
       "    <tr>\n",
       "      <th>15</th>\n",
       "      <td>292688</td>\n",
       "      <td>Ar+Ruways+AE</td>\n",
       "      <td>[{'types': ['locality', 'political'], 'address...</td>\n",
       "      <td>OK</td>\n",
       "    </tr>\n",
       "    <tr>\n",
       "      <th>16</th>\n",
       "      <td>292878</td>\n",
       "      <td>Al+Fujayrah+AE</td>\n",
       "      <td>[{'types': ['administrative_area_level_1', 'po...</td>\n",
       "      <td>OK</td>\n",
       "    </tr>\n",
       "    <tr>\n",
       "      <th>17</th>\n",
       "      <td>292913</td>\n",
       "      <td>Al+Ain+AE</td>\n",
       "      <td>[{'types': ['locality', 'political'], 'address...</td>\n",
       "      <td>OK</td>\n",
       "    </tr>\n",
       "    <tr>\n",
       "      <th>18</th>\n",
       "      <td>292932</td>\n",
       "      <td>Ajman+AE</td>\n",
       "      <td>[{'types': ['locality', 'political'], 'address...</td>\n",
       "      <td>OK</td>\n",
       "    </tr>\n",
       "    <tr>\n",
       "      <th>19</th>\n",
       "      <td>292953</td>\n",
       "      <td>Adh+Dhayd+AE</td>\n",
       "      <td>[{'types': ['locality', 'political'], 'address...</td>\n",
       "      <td>OK</td>\n",
       "    </tr>\n",
       "    <tr>\n",
       "      <th>20</th>\n",
       "      <td>292968</td>\n",
       "      <td>Abu+Dhabi+AE</td>\n",
       "      <td>[{'types': ['locality', 'political'], 'address...</td>\n",
       "      <td>OK</td>\n",
       "    </tr>\n",
       "    <tr>\n",
       "      <th>21</th>\n",
       "      <td>1120985</td>\n",
       "      <td>Zaranj+AF</td>\n",
       "      <td>[{'types': ['locality', 'political'], 'address...</td>\n",
       "      <td>OK</td>\n",
       "    </tr>\n",
       "    <tr>\n",
       "      <th>22</th>\n",
       "      <td>1123004</td>\n",
       "      <td>Taloqan+AF</td>\n",
       "      <td>[{'types': ['locality', 'political'], 'address...</td>\n",
       "      <td>OK</td>\n",
       "    </tr>\n",
       "    <tr>\n",
       "      <th>23</th>\n",
       "      <td>1125155</td>\n",
       "      <td>Shindand+AF</td>\n",
       "      <td>[{'types': ['airport', 'establishment', 'point...</td>\n",
       "      <td>OK</td>\n",
       "    </tr>\n",
       "    <tr>\n",
       "      <th>24</th>\n",
       "      <td>1125444</td>\n",
       "      <td>Shibirghan+AF</td>\n",
       "      <td>[{'types': ['locality', 'political'], 'address...</td>\n",
       "      <td>OK</td>\n",
       "    </tr>\n",
       "    <tr>\n",
       "      <th>25</th>\n",
       "      <td>1125896</td>\n",
       "      <td>Shahrak+AF</td>\n",
       "      <td>[{'types': ['administrative_area_level_2', 'po...</td>\n",
       "      <td>OK</td>\n",
       "    </tr>\n",
       "    <tr>\n",
       "      <th>26</th>\n",
       "      <td>1127110</td>\n",
       "      <td>Sar-e+Pul+AF</td>\n",
       "      <td>[{'types': ['administrative_area_level_1', 'po...</td>\n",
       "      <td>OK</td>\n",
       "    </tr>\n",
       "    <tr>\n",
       "      <th>27</th>\n",
       "      <td>1127628</td>\n",
       "      <td>Sang-e+Charak+AF</td>\n",
       "      <td>[{'types': ['administrative_area_level_2', 'po...</td>\n",
       "      <td>OK</td>\n",
       "    </tr>\n",
       "    <tr>\n",
       "      <th>28</th>\n",
       "      <td>1127768</td>\n",
       "      <td>Aibak+AF</td>\n",
       "      <td>[{'formatted_address': 'Aybak, Afghanistan', '...</td>\n",
       "      <td>OK</td>\n",
       "    </tr>\n",
       "    <tr>\n",
       "      <th>29</th>\n",
       "      <td>1128265</td>\n",
       "      <td>Rustaq+AF</td>\n",
       "      <td>[{'types': ['locality', 'political'], 'address...</td>\n",
       "      <td>OK</td>\n",
       "    </tr>\n",
       "    <tr>\n",
       "      <th>30</th>\n",
       "      <td>1129516</td>\n",
       "      <td>Qarqin+AF</td>\n",
       "      <td>[{'types': ['locality', 'political'], 'address...</td>\n",
       "      <td>OK</td>\n",
       "    </tr>\n",
       "    <tr>\n",
       "      <th>31</th>\n",
       "      <td>1129648</td>\n",
       "      <td>Qarawul+AF</td>\n",
       "      <td>[{'formatted_address': 'Hazart Imam, Afghanist...</td>\n",
       "      <td>OK</td>\n",
       "    </tr>\n",
       "    <tr>\n",
       "      <th>32</th>\n",
       "      <td>1130490</td>\n",
       "      <td>Pul-e+Khumri+AF</td>\n",
       "      <td>[{'types': ['locality', 'political'], 'address...</td>\n",
       "      <td>OK</td>\n",
       "    </tr>\n",
       "    <tr>\n",
       "      <th>33</th>\n",
       "      <td>1131316</td>\n",
       "      <td>Paghman+AF</td>\n",
       "      <td>[{'formatted_address': 'Paghman, Afghanistan',...</td>\n",
       "      <td>OK</td>\n",
       "    </tr>\n",
       "    <tr>\n",
       "      <th>34</th>\n",
       "      <td>1132495</td>\n",
       "      <td>Nahrin+AF</td>\n",
       "      <td>[{'formatted_address': 'Nahrain, Afghanistan',...</td>\n",
       "      <td>OK</td>\n",
       "    </tr>\n",
       "    <tr>\n",
       "      <th>35</th>\n",
       "      <td>1133453</td>\n",
       "      <td>Maymana+AF</td>\n",
       "      <td>[{'types': ['locality', 'political'], 'address...</td>\n",
       "      <td>OK</td>\n",
       "    </tr>\n",
       "    <tr>\n",
       "      <th>36</th>\n",
       "      <td>1133574</td>\n",
       "      <td>Mehtar+Lam+AF</td>\n",
       "      <td>[{'types': ['locality', 'political'], 'address...</td>\n",
       "      <td>OK</td>\n",
       "    </tr>\n",
       "    <tr>\n",
       "      <th>37</th>\n",
       "      <td>1133616</td>\n",
       "      <td>Mazar-e+Sharif+AF</td>\n",
       "      <td>[{'types': ['locality', 'political'], 'address...</td>\n",
       "      <td>OK</td>\n",
       "    </tr>\n",
       "    <tr>\n",
       "      <th>38</th>\n",
       "      <td>1134720</td>\n",
       "      <td>Lashkar+Gah+AF</td>\n",
       "      <td>[{'types': ['locality', 'political'], 'address...</td>\n",
       "      <td>OK</td>\n",
       "    </tr>\n",
       "    <tr>\n",
       "      <th>39</th>\n",
       "      <td>1135158</td>\n",
       "      <td>Kushk+AF</td>\n",
       "      <td>[{'formatted_address': 'Kūšk, Afghanistan', 'p...</td>\n",
       "      <td>OK</td>\n",
       "    </tr>\n",
       "    <tr>\n",
       "      <th>40</th>\n",
       "      <td>1135689</td>\n",
       "      <td>Kunduz+AF</td>\n",
       "      <td>[{'types': ['locality', 'political'], 'address...</td>\n",
       "      <td>OK</td>\n",
       "    </tr>\n",
       "    <tr>\n",
       "      <th>41</th>\n",
       "      <td>1136469</td>\n",
       "      <td>Khost+AF</td>\n",
       "      <td>[{'types': ['locality', 'political'], 'address...</td>\n",
       "      <td>OK</td>\n",
       "    </tr>\n",
       "    <tr>\n",
       "      <th>42</th>\n",
       "      <td>1136575</td>\n",
       "      <td>Khulm+AF</td>\n",
       "      <td>[{'types': ['locality', 'political'], 'address...</td>\n",
       "      <td>OK</td>\n",
       "    </tr>\n",
       "    <tr>\n",
       "      <th>43</th>\n",
       "      <td>1136863</td>\n",
       "      <td>Khash+AF</td>\n",
       "      <td>[{'formatted_address': 'Khash, Afghanistan', '...</td>\n",
       "      <td>OK</td>\n",
       "    </tr>\n",
       "    <tr>\n",
       "      <th>44</th>\n",
       "      <td>1137168</td>\n",
       "      <td>Khanabad+AF</td>\n",
       "      <td>[{'types': ['locality', 'political'], 'address...</td>\n",
       "      <td>OK</td>\n",
       "    </tr>\n",
       "    <tr>\n",
       "      <th>45</th>\n",
       "      <td>1137807</td>\n",
       "      <td>Karukh+AF</td>\n",
       "      <td>[{'formatted_address': 'Karokh, Afghanistan', ...</td>\n",
       "      <td>OK</td>\n",
       "    </tr>\n",
       "    <tr>\n",
       "      <th>46</th>\n",
       "      <td>1138336</td>\n",
       "      <td>Kandahar+AF</td>\n",
       "      <td>[{'types': ['locality', 'political'], 'address...</td>\n",
       "      <td>OK</td>\n",
       "    </tr>\n",
       "    <tr>\n",
       "      <th>47</th>\n",
       "      <td>1138958</td>\n",
       "      <td>Kabul+AF</td>\n",
       "      <td>[{'types': ['locality', 'political'], 'address...</td>\n",
       "      <td>OK</td>\n",
       "    </tr>\n",
       "    <tr>\n",
       "      <th>48</th>\n",
       "      <td>1139715</td>\n",
       "      <td>Jalalabad+AF</td>\n",
       "      <td>[{'types': ['locality', 'political'], 'address...</td>\n",
       "      <td>OK</td>\n",
       "    </tr>\n",
       "    <tr>\n",
       "      <th>49</th>\n",
       "      <td>1139807</td>\n",
       "      <td>Jabal+os+Saraj+AF</td>\n",
       "      <td>[{'types': ['locality', 'political'], 'address...</td>\n",
       "      <td>OK</td>\n",
       "    </tr>\n",
       "  </tbody>\n",
       "</table>\n",
       "</div>"
      ],
      "text/plain": [
       "         id                 query  \\\n",
       "0   3040051       les+Escaldes+AD   \n",
       "1   3040051       les+Escaldes+AD   \n",
       "2   3040051       les+Escaldes+AD   \n",
       "3   3041563   Andorra+la+Vella+AD   \n",
       "4    290594     Umm+al+Qaywayn+AE   \n",
       "5    291074     Ras+al-Khaimah+AE   \n",
       "6   3040051       les+Escaldes+AD   \n",
       "7   3041563   Andorra+la+Vella+AD   \n",
       "8    290594     Umm+al+Qaywayn+AE   \n",
       "9    291074     Ras+al-Khaimah+AE   \n",
       "10   291696       Khawr+Fakkan+AE   \n",
       "11   292223              Dubai+AE   \n",
       "12   292231  Dibba+Al-Fujairah+AE   \n",
       "13   292239      Dibba+Al-Hisn+AE   \n",
       "14   292672            Sharjah+AE   \n",
       "15   292688          Ar+Ruways+AE   \n",
       "16   292878        Al+Fujayrah+AE   \n",
       "17   292913             Al+Ain+AE   \n",
       "18   292932              Ajman+AE   \n",
       "19   292953          Adh+Dhayd+AE   \n",
       "20   292968          Abu+Dhabi+AE   \n",
       "21  1120985             Zaranj+AF   \n",
       "22  1123004            Taloqan+AF   \n",
       "23  1125155           Shindand+AF   \n",
       "24  1125444         Shibirghan+AF   \n",
       "25  1125896            Shahrak+AF   \n",
       "26  1127110          Sar-e+Pul+AF   \n",
       "27  1127628      Sang-e+Charak+AF   \n",
       "28  1127768              Aibak+AF   \n",
       "29  1128265             Rustaq+AF   \n",
       "30  1129516             Qarqin+AF   \n",
       "31  1129648            Qarawul+AF   \n",
       "32  1130490       Pul-e+Khumri+AF   \n",
       "33  1131316            Paghman+AF   \n",
       "34  1132495             Nahrin+AF   \n",
       "35  1133453            Maymana+AF   \n",
       "36  1133574         Mehtar+Lam+AF   \n",
       "37  1133616     Mazar-e+Sharif+AF   \n",
       "38  1134720        Lashkar+Gah+AF   \n",
       "39  1135158              Kushk+AF   \n",
       "40  1135689             Kunduz+AF   \n",
       "41  1136469              Khost+AF   \n",
       "42  1136575              Khulm+AF   \n",
       "43  1136863              Khash+AF   \n",
       "44  1137168           Khanabad+AF   \n",
       "45  1137807             Karukh+AF   \n",
       "46  1138336           Kandahar+AF   \n",
       "47  1138958              Kabul+AF   \n",
       "48  1139715          Jalalabad+AF   \n",
       "49  1139807     Jabal+os+Saraj+AF   \n",
       "\n",
       "                                              results status  \n",
       "0   [{'types': ['locality', 'political'], 'address...     OK  \n",
       "1   [{'types': ['locality', 'political'], 'address...     OK  \n",
       "2   [{'types': ['locality', 'political'], 'address...     OK  \n",
       "3   [{'types': ['locality', 'political'], 'address...     OK  \n",
       "4   [{'types': ['administrative_area_level_1', 'po...     OK  \n",
       "5   [{'types': ['locality', 'political'], 'address...     OK  \n",
       "6   [{'types': ['locality', 'political'], 'address...     OK  \n",
       "7   [{'types': ['locality', 'political'], 'address...     OK  \n",
       "8   [{'types': ['administrative_area_level_1', 'po...     OK  \n",
       "9   [{'types': ['locality', 'political'], 'address...     OK  \n",
       "10  [{'types': ['locality', 'political'], 'address...     OK  \n",
       "11  [{'types': ['locality', 'political'], 'address...     OK  \n",
       "12  [{'types': ['locality', 'political'], 'address...     OK  \n",
       "13  [{'types': ['locality', 'political'], 'address...     OK  \n",
       "14  [{'types': ['locality', 'political'], 'address...     OK  \n",
       "15  [{'types': ['locality', 'political'], 'address...     OK  \n",
       "16  [{'types': ['administrative_area_level_1', 'po...     OK  \n",
       "17  [{'types': ['locality', 'political'], 'address...     OK  \n",
       "18  [{'types': ['locality', 'political'], 'address...     OK  \n",
       "19  [{'types': ['locality', 'political'], 'address...     OK  \n",
       "20  [{'types': ['locality', 'political'], 'address...     OK  \n",
       "21  [{'types': ['locality', 'political'], 'address...     OK  \n",
       "22  [{'types': ['locality', 'political'], 'address...     OK  \n",
       "23  [{'types': ['airport', 'establishment', 'point...     OK  \n",
       "24  [{'types': ['locality', 'political'], 'address...     OK  \n",
       "25  [{'types': ['administrative_area_level_2', 'po...     OK  \n",
       "26  [{'types': ['administrative_area_level_1', 'po...     OK  \n",
       "27  [{'types': ['administrative_area_level_2', 'po...     OK  \n",
       "28  [{'formatted_address': 'Aybak, Afghanistan', '...     OK  \n",
       "29  [{'types': ['locality', 'political'], 'address...     OK  \n",
       "30  [{'types': ['locality', 'political'], 'address...     OK  \n",
       "31  [{'formatted_address': 'Hazart Imam, Afghanist...     OK  \n",
       "32  [{'types': ['locality', 'political'], 'address...     OK  \n",
       "33  [{'formatted_address': 'Paghman, Afghanistan',...     OK  \n",
       "34  [{'formatted_address': 'Nahrain, Afghanistan',...     OK  \n",
       "35  [{'types': ['locality', 'political'], 'address...     OK  \n",
       "36  [{'types': ['locality', 'political'], 'address...     OK  \n",
       "37  [{'types': ['locality', 'political'], 'address...     OK  \n",
       "38  [{'types': ['locality', 'political'], 'address...     OK  \n",
       "39  [{'formatted_address': 'Kūšk, Afghanistan', 'p...     OK  \n",
       "40  [{'types': ['locality', 'political'], 'address...     OK  \n",
       "41  [{'types': ['locality', 'political'], 'address...     OK  \n",
       "42  [{'types': ['locality', 'political'], 'address...     OK  \n",
       "43  [{'formatted_address': 'Khash, Afghanistan', '...     OK  \n",
       "44  [{'types': ['locality', 'political'], 'address...     OK  \n",
       "45  [{'formatted_address': 'Karokh, Afghanistan', ...     OK  \n",
       "46  [{'types': ['locality', 'political'], 'address...     OK  \n",
       "47  [{'types': ['locality', 'political'], 'address...     OK  \n",
       "48  [{'types': ['locality', 'political'], 'address...     OK  \n",
       "49  [{'types': ['locality', 'political'], 'address...     OK  "
      ]
     },
     "execution_count": 51,
     "metadata": {},
     "output_type": "execute_result"
    }
   ],
   "source": [
    "pd.DataFrame.from_dict(d)"
   ]
  },
  {
   "cell_type": "code",
   "execution_count": null,
   "metadata": {
    "collapsed": true
   },
   "outputs": [],
   "source": []
  }
 ],
 "metadata": {
  "anaconda-cloud": {},
  "hide_input": false,
  "kernelspec": {
   "display_name": "Python 3",
   "language": "python",
   "name": "python3"
  },
  "language_info": {
   "codemirror_mode": {
    "name": "ipython",
    "version": 3
   },
   "file_extension": ".py",
   "mimetype": "text/x-python",
   "name": "python",
   "nbconvert_exporter": "python",
   "pygments_lexer": "ipython3",
   "version": "3.5.2"
  },
  "toc": {
   "toc_cell": false,
   "toc_number_sections": false,
   "toc_section_display": "block",
   "toc_threshold": 6,
   "toc_window_display": false
  }
 },
 "nbformat": 4,
 "nbformat_minor": 0
}
