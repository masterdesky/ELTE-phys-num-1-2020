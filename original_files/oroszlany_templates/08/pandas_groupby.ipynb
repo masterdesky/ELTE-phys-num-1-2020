{
 "cells": [
  {
   "cell_type": "markdown",
   "metadata": {
    "deletable": true,
    "editable": true
   },
   "source": [
    "# Adatbázis-műveletek 1. (groupby)\n"
   ]
  },
  {
   "cell_type": "code",
   "execution_count": 1,
   "metadata": {
    "collapsed": true,
    "deletable": true,
    "editable": true
   },
   "outputs": [],
   "source": [
    "import pandas as pd # szokásos import"
   ]
  },
  {
   "cell_type": "markdown",
   "metadata": {
    "deletable": true,
    "editable": true
   },
   "source": [
    "# Érettségi adatok feldolgozása"
   ]
  },
  {
   "cell_type": "markdown",
   "metadata": {
    "deletable": true,
    "editable": true
   },
   "source": [
    "Az alábbiakban az elmúlt pár év érettségi statisztikai adatait fogjuk megvizsgálni. Ez a példa sok szempontból jól illusztrál olyan problémákat, amelyek valós adatbázis-elemzések kapcsán felmerülhetnek.\n",
    "Ilyen például a hiányzó adatok kezelése, vagy a nem egészen kompatibilis adatbázisok egységes kezelése.\n",
    "Az érettségi adatokat tartalmazó [honlap](https://www.ketszintu.hu/publicstat.php) az előzőekben megismert elválasztóval tagolt tagolt csv formátumban teszi elérhetővé, itt az elválasztójel a pontosvessző."
   ]
  },
  {
   "cell_type": "code",
   "execution_count": 2,
   "metadata": {
    "collapsed": false,
    "deletable": true,
    "editable": true
   },
   "outputs": [
    {
     "data": {
      "text/html": [
       "<div>\n",
       "<style>\n",
       "    .dataframe thead tr:only-child th {\n",
       "        text-align: right;\n",
       "    }\n",
       "\n",
       "    .dataframe thead th {\n",
       "        text-align: left;\n",
       "    }\n",
       "\n",
       "    .dataframe tbody tr th {\n",
       "        vertical-align: top;\n",
       "    }\n",
       "</style>\n",
       "<table border=\"1\" class=\"dataframe\">\n",
       "  <thead>\n",
       "    <tr style=\"text-align: right;\">\n",
       "      <th></th>\n",
       "      <th>intézmény megyéje</th>\n",
       "      <th>intézmény városa</th>\n",
       "      <th>vizsgázó évfolyama</th>\n",
       "      <th>vizsgázó képzési típusa</th>\n",
       "      <th>vizsgázó neme</th>\n",
       "      <th>vizsgázó képzési munkarendje</th>\n",
       "      <th>vizsgatárgy neve</th>\n",
       "      <th>vizsga szintje</th>\n",
       "      <th>vizsga fajtája</th>\n",
       "      <th>vizsgamentesség</th>\n",
       "      <th>...</th>\n",
       "      <th>írásbeli pontszám</th>\n",
       "      <th>mérés és tételkifejtés: tartalmi helyesség</th>\n",
       "      <th>mérés és tételkifejtés: felépítés, kifejtés</th>\n",
       "      <th>szóbeli pontszám</th>\n",
       "      <th>év</th>\n",
       "      <th>szint</th>\n",
       "      <th>időszak</th>\n",
       "      <th>egy téma kifejtése kísérlettel vagy méréssel: tartalom</th>\n",
       "      <th>egy téma kifejtése kísérlettel vagy méréssel: felépítés, kifejtés</th>\n",
       "      <th>II. összetett feladatok</th>\n",
       "    </tr>\n",
       "  </thead>\n",
       "  <tbody>\n",
       "    <tr>\n",
       "      <th>0</th>\n",
       "      <td>Budapest</td>\n",
       "      <td>Budapest</td>\n",
       "      <td>12.0</td>\n",
       "      <td>gimnázium</td>\n",
       "      <td>férfi</td>\n",
       "      <td>nappali</td>\n",
       "      <td>fizika</td>\n",
       "      <td>közép</td>\n",
       "      <td>elõrehozott</td>\n",
       "      <td>-</td>\n",
       "      <td>...</td>\n",
       "      <td>NaN</td>\n",
       "      <td>NaN</td>\n",
       "      <td>NaN</td>\n",
       "      <td>NaN</td>\n",
       "      <td>2013</td>\n",
       "      <td>K</td>\n",
       "      <td>tavasz</td>\n",
       "      <td>NaN</td>\n",
       "      <td>NaN</td>\n",
       "      <td>NaN</td>\n",
       "    </tr>\n",
       "    <tr>\n",
       "      <th>1</th>\n",
       "      <td>Budapest</td>\n",
       "      <td>Budapest</td>\n",
       "      <td>12.0</td>\n",
       "      <td>gimnázium</td>\n",
       "      <td>nõ</td>\n",
       "      <td>nappali</td>\n",
       "      <td>fizika</td>\n",
       "      <td>közép</td>\n",
       "      <td>elõrehozott</td>\n",
       "      <td>-</td>\n",
       "      <td>...</td>\n",
       "      <td>NaN</td>\n",
       "      <td>NaN</td>\n",
       "      <td>NaN</td>\n",
       "      <td>NaN</td>\n",
       "      <td>2013</td>\n",
       "      <td>K</td>\n",
       "      <td>tavasz</td>\n",
       "      <td>NaN</td>\n",
       "      <td>NaN</td>\n",
       "      <td>NaN</td>\n",
       "    </tr>\n",
       "    <tr>\n",
       "      <th>2</th>\n",
       "      <td>Budapest</td>\n",
       "      <td>Budapest</td>\n",
       "      <td>12.0</td>\n",
       "      <td>gimnázium</td>\n",
       "      <td>férfi</td>\n",
       "      <td>nappali</td>\n",
       "      <td>fizika</td>\n",
       "      <td>közép</td>\n",
       "      <td>elõrehozott</td>\n",
       "      <td>-</td>\n",
       "      <td>...</td>\n",
       "      <td>86.0</td>\n",
       "      <td>NaN</td>\n",
       "      <td>NaN</td>\n",
       "      <td>60.0</td>\n",
       "      <td>2013</td>\n",
       "      <td>K</td>\n",
       "      <td>tavasz</td>\n",
       "      <td>55.0</td>\n",
       "      <td>5.0</td>\n",
       "      <td>48.0</td>\n",
       "    </tr>\n",
       "    <tr>\n",
       "      <th>3</th>\n",
       "      <td>Budapest</td>\n",
       "      <td>Budapest</td>\n",
       "      <td>13.0</td>\n",
       "      <td>gimnázium</td>\n",
       "      <td>nõ</td>\n",
       "      <td>nappali</td>\n",
       "      <td>fizika</td>\n",
       "      <td>közép</td>\n",
       "      <td>elõrehozott</td>\n",
       "      <td>-</td>\n",
       "      <td>...</td>\n",
       "      <td>23.0</td>\n",
       "      <td>NaN</td>\n",
       "      <td>NaN</td>\n",
       "      <td>38.0</td>\n",
       "      <td>2013</td>\n",
       "      <td>K</td>\n",
       "      <td>tavasz</td>\n",
       "      <td>36.0</td>\n",
       "      <td>2.0</td>\n",
       "      <td>9.0</td>\n",
       "    </tr>\n",
       "    <tr>\n",
       "      <th>4</th>\n",
       "      <td>Budapest</td>\n",
       "      <td>Budapest</td>\n",
       "      <td>12.0</td>\n",
       "      <td>gimnázium</td>\n",
       "      <td>férfi</td>\n",
       "      <td>nappali</td>\n",
       "      <td>fizika</td>\n",
       "      <td>közép</td>\n",
       "      <td>elõrehozott</td>\n",
       "      <td>-</td>\n",
       "      <td>...</td>\n",
       "      <td>66.0</td>\n",
       "      <td>NaN</td>\n",
       "      <td>NaN</td>\n",
       "      <td>60.0</td>\n",
       "      <td>2013</td>\n",
       "      <td>K</td>\n",
       "      <td>tavasz</td>\n",
       "      <td>55.0</td>\n",
       "      <td>5.0</td>\n",
       "      <td>42.0</td>\n",
       "    </tr>\n",
       "  </tbody>\n",
       "</table>\n",
       "<p>5 rows × 29 columns</p>\n",
       "</div>"
      ],
      "text/plain": [
       "  intézmény megyéje intézmény városa  vizsgázó évfolyama  \\\n",
       "0          Budapest         Budapest                12.0   \n",
       "1          Budapest         Budapest                12.0   \n",
       "2          Budapest         Budapest                12.0   \n",
       "3          Budapest         Budapest                13.0   \n",
       "4          Budapest         Budapest                12.0   \n",
       "\n",
       "  vizsgázó képzési típusa vizsgázó neme vizsgázó képzési munkarendje  \\\n",
       "0               gimnázium         férfi                      nappali   \n",
       "1               gimnázium            nõ                      nappali   \n",
       "2               gimnázium         férfi                      nappali   \n",
       "3               gimnázium            nõ                      nappali   \n",
       "4               gimnázium         férfi                      nappali   \n",
       "\n",
       "  vizsgatárgy neve vizsga szintje vizsga fajtája vizsgamentesség  \\\n",
       "0           fizika          közép    elõrehozott               -   \n",
       "1           fizika          közép    elõrehozott               -   \n",
       "2           fizika          közép    elõrehozott               -   \n",
       "3           fizika          közép    elõrehozott               -   \n",
       "4           fizika          közép    elõrehozott               -   \n",
       "\n",
       "            ...            írásbeli pontszám  \\\n",
       "0           ...                          NaN   \n",
       "1           ...                          NaN   \n",
       "2           ...                         86.0   \n",
       "3           ...                         23.0   \n",
       "4           ...                         66.0   \n",
       "\n",
       "   mérés és tételkifejtés: tartalmi helyesség  \\\n",
       "0                                         NaN   \n",
       "1                                         NaN   \n",
       "2                                         NaN   \n",
       "3                                         NaN   \n",
       "4                                         NaN   \n",
       "\n",
       "   mérés és tételkifejtés: felépítés, kifejtés  szóbeli pontszám    év  szint  \\\n",
       "0                                          NaN               NaN  2013      K   \n",
       "1                                          NaN               NaN  2013      K   \n",
       "2                                          NaN              60.0  2013      K   \n",
       "3                                          NaN              38.0  2013      K   \n",
       "4                                          NaN              60.0  2013      K   \n",
       "\n",
       "   időszak  egy téma kifejtése kísérlettel vagy méréssel: tartalom  \\\n",
       "0   tavasz                                                NaN        \n",
       "1   tavasz                                                NaN        \n",
       "2   tavasz                                               55.0        \n",
       "3   tavasz                                               36.0        \n",
       "4   tavasz                                               55.0        \n",
       "\n",
       "   egy téma kifejtése kísérlettel vagy méréssel: felépítés, kifejtés  \\\n",
       "0                                                NaN                   \n",
       "1                                                NaN                   \n",
       "2                                                5.0                   \n",
       "3                                                2.0                   \n",
       "4                                                5.0                   \n",
       "\n",
       "   II. összetett feladatok  \n",
       "0                      NaN  \n",
       "1                      NaN  \n",
       "2                     48.0  \n",
       "3                      9.0  \n",
       "4                     42.0  \n",
       "\n",
       "[5 rows x 29 columns]"
      ]
     },
     "execution_count": 2,
     "metadata": {},
     "output_type": "execute_result"
    }
   ],
   "source": [
    "df=pd.read_csv(\"data/erettsegi.csv.gz\",sep=\";\",index_col=0)\n",
    "df.head()"
   ]
  },
  {
   "cell_type": "markdown",
   "metadata": {
    "deletable": true,
    "editable": true
   },
   "source": [
    "Látható, hogy az `év`, `szint` megadják, hogy melyik évben, melyik szintű érettségiről van szó. Azt is megállapíthatjuk, hogy ősszel vagy tavasszal (`időszak`) írta-e a diák az érettségit, az iskolájáról és a képzési típusról is rögzítve van a statisztika. Emellett részletes írásbeli és szóbeli, illetve összpontszám, összesített százalék is szerepel az adatok között.\n",
    "\n",
    "Érdemes az első néhány sort kiíratni példaként, hogy lássuk, mivel is van dolgunk. Most transzponálva írjuk ki, hogy elférjen a képernyőre."
   ]
  },
  {
   "cell_type": "code",
   "execution_count": 3,
   "metadata": {
    "collapsed": false,
    "deletable": true,
    "editable": true
   },
   "outputs": [
    {
     "data": {
      "text/html": [
       "<div>\n",
       "<style>\n",
       "    .dataframe thead tr:only-child th {\n",
       "        text-align: right;\n",
       "    }\n",
       "\n",
       "    .dataframe thead th {\n",
       "        text-align: left;\n",
       "    }\n",
       "\n",
       "    .dataframe tbody tr th {\n",
       "        vertical-align: top;\n",
       "    }\n",
       "</style>\n",
       "<table border=\"1\" class=\"dataframe\">\n",
       "  <thead>\n",
       "    <tr style=\"text-align: right;\">\n",
       "      <th></th>\n",
       "      <th>0</th>\n",
       "      <th>1</th>\n",
       "      <th>2</th>\n",
       "      <th>3</th>\n",
       "      <th>4</th>\n",
       "    </tr>\n",
       "  </thead>\n",
       "  <tbody>\n",
       "    <tr>\n",
       "      <th>intézmény megyéje</th>\n",
       "      <td>Budapest</td>\n",
       "      <td>Budapest</td>\n",
       "      <td>Budapest</td>\n",
       "      <td>Budapest</td>\n",
       "      <td>Budapest</td>\n",
       "    </tr>\n",
       "    <tr>\n",
       "      <th>intézmény városa</th>\n",
       "      <td>Budapest</td>\n",
       "      <td>Budapest</td>\n",
       "      <td>Budapest</td>\n",
       "      <td>Budapest</td>\n",
       "      <td>Budapest</td>\n",
       "    </tr>\n",
       "    <tr>\n",
       "      <th>vizsgázó évfolyama</th>\n",
       "      <td>12</td>\n",
       "      <td>12</td>\n",
       "      <td>12</td>\n",
       "      <td>13</td>\n",
       "      <td>12</td>\n",
       "    </tr>\n",
       "    <tr>\n",
       "      <th>vizsgázó képzési típusa</th>\n",
       "      <td>gimnázium</td>\n",
       "      <td>gimnázium</td>\n",
       "      <td>gimnázium</td>\n",
       "      <td>gimnázium</td>\n",
       "      <td>gimnázium</td>\n",
       "    </tr>\n",
       "    <tr>\n",
       "      <th>vizsgázó neme</th>\n",
       "      <td>férfi</td>\n",
       "      <td>nõ</td>\n",
       "      <td>férfi</td>\n",
       "      <td>nõ</td>\n",
       "      <td>férfi</td>\n",
       "    </tr>\n",
       "    <tr>\n",
       "      <th>vizsgázó képzési munkarendje</th>\n",
       "      <td>nappali</td>\n",
       "      <td>nappali</td>\n",
       "      <td>nappali</td>\n",
       "      <td>nappali</td>\n",
       "      <td>nappali</td>\n",
       "    </tr>\n",
       "    <tr>\n",
       "      <th>vizsgatárgy neve</th>\n",
       "      <td>fizika</td>\n",
       "      <td>fizika</td>\n",
       "      <td>fizika</td>\n",
       "      <td>fizika</td>\n",
       "      <td>fizika</td>\n",
       "    </tr>\n",
       "    <tr>\n",
       "      <th>vizsga szintje</th>\n",
       "      <td>közép</td>\n",
       "      <td>közép</td>\n",
       "      <td>közép</td>\n",
       "      <td>közép</td>\n",
       "      <td>közép</td>\n",
       "    </tr>\n",
       "    <tr>\n",
       "      <th>vizsga fajtája</th>\n",
       "      <td>elõrehozott</td>\n",
       "      <td>elõrehozott</td>\n",
       "      <td>elõrehozott</td>\n",
       "      <td>elõrehozott</td>\n",
       "      <td>elõrehozott</td>\n",
       "    </tr>\n",
       "    <tr>\n",
       "      <th>vizsgamentesség</th>\n",
       "      <td>-</td>\n",
       "      <td>-</td>\n",
       "      <td>-</td>\n",
       "      <td>-</td>\n",
       "      <td>-</td>\n",
       "    </tr>\n",
       "    <tr>\n",
       "      <th>vizsga nyelve</th>\n",
       "      <td>magyar</td>\n",
       "      <td>magyar</td>\n",
       "      <td>magyar</td>\n",
       "      <td>magyar</td>\n",
       "      <td>magyar</td>\n",
       "    </tr>\n",
       "    <tr>\n",
       "      <th>érdemjegy</th>\n",
       "      <td>1</td>\n",
       "      <td>1</td>\n",
       "      <td>5</td>\n",
       "      <td>3</td>\n",
       "      <td>5</td>\n",
       "    </tr>\n",
       "    <tr>\n",
       "      <th>össz százalék</th>\n",
       "      <td>26</td>\n",
       "      <td>19</td>\n",
       "      <td>97</td>\n",
       "      <td>40</td>\n",
       "      <td>84</td>\n",
       "    </tr>\n",
       "    <tr>\n",
       "      <th>össz pontszám</th>\n",
       "      <td>40</td>\n",
       "      <td>29</td>\n",
       "      <td>146</td>\n",
       "      <td>61</td>\n",
       "      <td>126</td>\n",
       "    </tr>\n",
       "    <tr>\n",
       "      <th>vizsgázó részvétele</th>\n",
       "      <td>nem jelent meg</td>\n",
       "      <td>nem jelent meg</td>\n",
       "      <td>megjelent</td>\n",
       "      <td>megjelent</td>\n",
       "      <td>megjelent</td>\n",
       "    </tr>\n",
       "    <tr>\n",
       "      <th>I. feleletválasztós kérdéssor</th>\n",
       "      <td>NaN</td>\n",
       "      <td>NaN</td>\n",
       "      <td>38</td>\n",
       "      <td>14</td>\n",
       "      <td>24</td>\n",
       "    </tr>\n",
       "    <tr>\n",
       "      <th>II. esszé: tartalom</th>\n",
       "      <td>NaN</td>\n",
       "      <td>NaN</td>\n",
       "      <td>NaN</td>\n",
       "      <td>NaN</td>\n",
       "      <td>NaN</td>\n",
       "    </tr>\n",
       "    <tr>\n",
       "      <th>II. esszé:  kifejtés módja</th>\n",
       "      <td>NaN</td>\n",
       "      <td>NaN</td>\n",
       "      <td>NaN</td>\n",
       "      <td>NaN</td>\n",
       "      <td>NaN</td>\n",
       "    </tr>\n",
       "    <tr>\n",
       "      <th>III. összetett feladatok</th>\n",
       "      <td>NaN</td>\n",
       "      <td>NaN</td>\n",
       "      <td>NaN</td>\n",
       "      <td>NaN</td>\n",
       "      <td>NaN</td>\n",
       "    </tr>\n",
       "    <tr>\n",
       "      <th>írásbeli pontszám</th>\n",
       "      <td>NaN</td>\n",
       "      <td>NaN</td>\n",
       "      <td>86</td>\n",
       "      <td>23</td>\n",
       "      <td>66</td>\n",
       "    </tr>\n",
       "    <tr>\n",
       "      <th>mérés és tételkifejtés: tartalmi helyesség</th>\n",
       "      <td>NaN</td>\n",
       "      <td>NaN</td>\n",
       "      <td>NaN</td>\n",
       "      <td>NaN</td>\n",
       "      <td>NaN</td>\n",
       "    </tr>\n",
       "    <tr>\n",
       "      <th>mérés és tételkifejtés: felépítés, kifejtés</th>\n",
       "      <td>NaN</td>\n",
       "      <td>NaN</td>\n",
       "      <td>NaN</td>\n",
       "      <td>NaN</td>\n",
       "      <td>NaN</td>\n",
       "    </tr>\n",
       "    <tr>\n",
       "      <th>szóbeli pontszám</th>\n",
       "      <td>NaN</td>\n",
       "      <td>NaN</td>\n",
       "      <td>60</td>\n",
       "      <td>38</td>\n",
       "      <td>60</td>\n",
       "    </tr>\n",
       "    <tr>\n",
       "      <th>év</th>\n",
       "      <td>2013</td>\n",
       "      <td>2013</td>\n",
       "      <td>2013</td>\n",
       "      <td>2013</td>\n",
       "      <td>2013</td>\n",
       "    </tr>\n",
       "    <tr>\n",
       "      <th>szint</th>\n",
       "      <td>K</td>\n",
       "      <td>K</td>\n",
       "      <td>K</td>\n",
       "      <td>K</td>\n",
       "      <td>K</td>\n",
       "    </tr>\n",
       "    <tr>\n",
       "      <th>időszak</th>\n",
       "      <td>tavasz</td>\n",
       "      <td>tavasz</td>\n",
       "      <td>tavasz</td>\n",
       "      <td>tavasz</td>\n",
       "      <td>tavasz</td>\n",
       "    </tr>\n",
       "    <tr>\n",
       "      <th>egy téma kifejtése kísérlettel vagy méréssel: tartalom</th>\n",
       "      <td>NaN</td>\n",
       "      <td>NaN</td>\n",
       "      <td>55</td>\n",
       "      <td>36</td>\n",
       "      <td>55</td>\n",
       "    </tr>\n",
       "    <tr>\n",
       "      <th>egy téma kifejtése kísérlettel vagy méréssel: felépítés, kifejtés</th>\n",
       "      <td>NaN</td>\n",
       "      <td>NaN</td>\n",
       "      <td>5</td>\n",
       "      <td>2</td>\n",
       "      <td>5</td>\n",
       "    </tr>\n",
       "    <tr>\n",
       "      <th>II. összetett feladatok</th>\n",
       "      <td>NaN</td>\n",
       "      <td>NaN</td>\n",
       "      <td>48</td>\n",
       "      <td>9</td>\n",
       "      <td>42</td>\n",
       "    </tr>\n",
       "  </tbody>\n",
       "</table>\n",
       "</div>"
      ],
      "text/plain": [
       "                                                                 0  \\\n",
       "intézmény megyéje                                         Budapest   \n",
       "intézmény városa                                          Budapest   \n",
       "vizsgázó évfolyama                                              12   \n",
       "vizsgázó képzési típusa                                  gimnázium   \n",
       "vizsgázó neme                                                férfi   \n",
       "vizsgázó képzési munkarendje                               nappali   \n",
       "vizsgatárgy neve                                            fizika   \n",
       "vizsga szintje                                               közép   \n",
       "vizsga fajtája                                         elõrehozott   \n",
       "vizsgamentesség                                                  -   \n",
       "vizsga nyelve                                               magyar   \n",
       "érdemjegy                                                        1   \n",
       "össz százalék                                                   26   \n",
       "össz pontszám                                                   40   \n",
       "vizsgázó részvétele                                 nem jelent meg   \n",
       "I. feleletválasztós kérdéssor                                  NaN   \n",
       "II. esszé: tartalom                                            NaN   \n",
       "II. esszé:  kifejtés módja                                     NaN   \n",
       "III. összetett feladatok                                       NaN   \n",
       "írásbeli pontszám                                              NaN   \n",
       "mérés és tételkifejtés: tartalmi helyesség                     NaN   \n",
       "mérés és tételkifejtés: felépítés, kifejtés                    NaN   \n",
       "szóbeli pontszám                                               NaN   \n",
       "év                                                            2013   \n",
       "szint                                                            K   \n",
       "időszak                                                     tavasz   \n",
       "egy téma kifejtése kísérlettel vagy méréssel: t...             NaN   \n",
       "egy téma kifejtése kísérlettel vagy méréssel: f...             NaN   \n",
       "II. összetett feladatok                                        NaN   \n",
       "\n",
       "                                                                 1  \\\n",
       "intézmény megyéje                                         Budapest   \n",
       "intézmény városa                                          Budapest   \n",
       "vizsgázó évfolyama                                              12   \n",
       "vizsgázó képzési típusa                                  gimnázium   \n",
       "vizsgázó neme                                                   nõ   \n",
       "vizsgázó képzési munkarendje                               nappali   \n",
       "vizsgatárgy neve                                            fizika   \n",
       "vizsga szintje                                               közép   \n",
       "vizsga fajtája                                         elõrehozott   \n",
       "vizsgamentesség                                                  -   \n",
       "vizsga nyelve                                               magyar   \n",
       "érdemjegy                                                        1   \n",
       "össz százalék                                                   19   \n",
       "össz pontszám                                                   29   \n",
       "vizsgázó részvétele                                 nem jelent meg   \n",
       "I. feleletválasztós kérdéssor                                  NaN   \n",
       "II. esszé: tartalom                                            NaN   \n",
       "II. esszé:  kifejtés módja                                     NaN   \n",
       "III. összetett feladatok                                       NaN   \n",
       "írásbeli pontszám                                              NaN   \n",
       "mérés és tételkifejtés: tartalmi helyesség                     NaN   \n",
       "mérés és tételkifejtés: felépítés, kifejtés                    NaN   \n",
       "szóbeli pontszám                                               NaN   \n",
       "év                                                            2013   \n",
       "szint                                                            K   \n",
       "időszak                                                     tavasz   \n",
       "egy téma kifejtése kísérlettel vagy méréssel: t...             NaN   \n",
       "egy téma kifejtése kísérlettel vagy méréssel: f...             NaN   \n",
       "II. összetett feladatok                                        NaN   \n",
       "\n",
       "                                                              2            3  \\\n",
       "intézmény megyéje                                      Budapest     Budapest   \n",
       "intézmény városa                                       Budapest     Budapest   \n",
       "vizsgázó évfolyama                                           12           13   \n",
       "vizsgázó képzési típusa                               gimnázium    gimnázium   \n",
       "vizsgázó neme                                             férfi           nõ   \n",
       "vizsgázó képzési munkarendje                            nappali      nappali   \n",
       "vizsgatárgy neve                                         fizika       fizika   \n",
       "vizsga szintje                                            közép        közép   \n",
       "vizsga fajtája                                      elõrehozott  elõrehozott   \n",
       "vizsgamentesség                                               -            -   \n",
       "vizsga nyelve                                            magyar       magyar   \n",
       "érdemjegy                                                     5            3   \n",
       "össz százalék                                                97           40   \n",
       "össz pontszám                                               146           61   \n",
       "vizsgázó részvétele                                   megjelent    megjelent   \n",
       "I. feleletválasztós kérdéssor                                38           14   \n",
       "II. esszé: tartalom                                         NaN          NaN   \n",
       "II. esszé:  kifejtés módja                                  NaN          NaN   \n",
       "III. összetett feladatok                                    NaN          NaN   \n",
       "írásbeli pontszám                                            86           23   \n",
       "mérés és tételkifejtés: tartalmi helyesség                  NaN          NaN   \n",
       "mérés és tételkifejtés: felépítés, kifejtés                 NaN          NaN   \n",
       "szóbeli pontszám                                             60           38   \n",
       "év                                                         2013         2013   \n",
       "szint                                                         K            K   \n",
       "időszak                                                  tavasz       tavasz   \n",
       "egy téma kifejtése kísérlettel vagy méréssel: t...           55           36   \n",
       "egy téma kifejtése kísérlettel vagy méréssel: f...            5            2   \n",
       "II. összetett feladatok                                      48            9   \n",
       "\n",
       "                                                              4  \n",
       "intézmény megyéje                                      Budapest  \n",
       "intézmény városa                                       Budapest  \n",
       "vizsgázó évfolyama                                           12  \n",
       "vizsgázó képzési típusa                               gimnázium  \n",
       "vizsgázó neme                                             férfi  \n",
       "vizsgázó képzési munkarendje                            nappali  \n",
       "vizsgatárgy neve                                         fizika  \n",
       "vizsga szintje                                            közép  \n",
       "vizsga fajtája                                      elõrehozott  \n",
       "vizsgamentesség                                               -  \n",
       "vizsga nyelve                                            magyar  \n",
       "érdemjegy                                                     5  \n",
       "össz százalék                                                84  \n",
       "össz pontszám                                               126  \n",
       "vizsgázó részvétele                                   megjelent  \n",
       "I. feleletválasztós kérdéssor                                24  \n",
       "II. esszé: tartalom                                         NaN  \n",
       "II. esszé:  kifejtés módja                                  NaN  \n",
       "III. összetett feladatok                                    NaN  \n",
       "írásbeli pontszám                                            66  \n",
       "mérés és tételkifejtés: tartalmi helyesség                  NaN  \n",
       "mérés és tételkifejtés: felépítés, kifejtés                 NaN  \n",
       "szóbeli pontszám                                             60  \n",
       "év                                                         2013  \n",
       "szint                                                         K  \n",
       "időszak                                                  tavasz  \n",
       "egy téma kifejtése kísérlettel vagy méréssel: t...           55  \n",
       "egy téma kifejtése kísérlettel vagy méréssel: f...            5  \n",
       "II. összetett feladatok                                      42  "
      ]
     },
     "execution_count": 3,
     "metadata": {},
     "output_type": "execute_result"
    }
   ],
   "source": [
    "df.head().T"
   ]
  },
  {
   "cell_type": "markdown",
   "metadata": {
    "deletable": true,
    "editable": true
   },
   "source": [
    "## Groupby,  Csoportosítás\n"
   ]
  },
  {
   "cell_type": "markdown",
   "metadata": {
    "deletable": true,
    "editable": true
   },
   "source": [
    "Csináljunk először egy kisebb táblázatot, hogy jól átlássuk."
   ]
  },
  {
   "cell_type": "code",
   "execution_count": 4,
   "metadata": {
    "collapsed": false,
    "deletable": true,
    "editable": true
   },
   "outputs": [
    {
     "data": {
      "text/html": [
       "<div>\n",
       "<style>\n",
       "    .dataframe thead tr:only-child th {\n",
       "        text-align: right;\n",
       "    }\n",
       "\n",
       "    .dataframe thead th {\n",
       "        text-align: left;\n",
       "    }\n",
       "\n",
       "    .dataframe tbody tr th {\n",
       "        vertical-align: top;\n",
       "    }\n",
       "</style>\n",
       "<table border=\"1\" class=\"dataframe\">\n",
       "  <thead>\n",
       "    <tr style=\"text-align: right;\">\n",
       "      <th></th>\n",
       "      <th>vizsga szintje</th>\n",
       "      <th>vizsgázó képzési típusa</th>\n",
       "      <th>írásbeli pontszám</th>\n",
       "    </tr>\n",
       "  </thead>\n",
       "  <tbody>\n",
       "    <tr>\n",
       "      <th>0</th>\n",
       "      <td>közép</td>\n",
       "      <td>gimnázium</td>\n",
       "      <td>NaN</td>\n",
       "    </tr>\n",
       "    <tr>\n",
       "      <th>1</th>\n",
       "      <td>közép</td>\n",
       "      <td>gimnázium</td>\n",
       "      <td>NaN</td>\n",
       "    </tr>\n",
       "    <tr>\n",
       "      <th>2</th>\n",
       "      <td>közép</td>\n",
       "      <td>gimnázium</td>\n",
       "      <td>86.0</td>\n",
       "    </tr>\n",
       "    <tr>\n",
       "      <th>3</th>\n",
       "      <td>közép</td>\n",
       "      <td>gimnázium</td>\n",
       "      <td>23.0</td>\n",
       "    </tr>\n",
       "    <tr>\n",
       "      <th>4</th>\n",
       "      <td>közép</td>\n",
       "      <td>gimnázium</td>\n",
       "      <td>66.0</td>\n",
       "    </tr>\n",
       "  </tbody>\n",
       "</table>\n",
       "</div>"
      ],
      "text/plain": [
       "  vizsga szintje vizsgázó képzési típusa  írásbeli pontszám\n",
       "0          közép               gimnázium                NaN\n",
       "1          közép               gimnázium                NaN\n",
       "2          közép               gimnázium               86.0\n",
       "3          közép               gimnázium               23.0\n",
       "4          közép               gimnázium               66.0"
      ]
     },
     "execution_count": 4,
     "metadata": {},
     "output_type": "execute_result"
    }
   ],
   "source": [
    "subdf=df[['vizsga szintje','vizsgázó képzési típusa','írásbeli pontszám']]\n",
    "subdf.head()"
   ]
  },
  {
   "cell_type": "markdown",
   "metadata": {
    "deletable": true,
    "editable": true
   },
   "source": [
    "Egy oszlop értékei szerint csoportosíthatjuk a *DataFrame*-et, és utána a csoportokon végezhetünk műveleteket."
   ]
  },
  {
   "cell_type": "code",
   "execution_count": 5,
   "metadata": {
    "collapsed": false,
    "deletable": true,
    "editable": true
   },
   "outputs": [
    {
     "data": {
      "text/plain": [
       "<pandas.core.groupby.DataFrameGroupBy object at 0x7ff618e8bd30>"
      ]
     },
     "execution_count": 5,
     "metadata": {},
     "output_type": "execute_result"
    }
   ],
   "source": [
    "g=subdf.groupby('vizsga szintje')\n",
    "g"
   ]
  },
  {
   "cell_type": "markdown",
   "metadata": {
    "deletable": true,
    "editable": true
   },
   "source": [
    "Vegyük a csoportok maximumát!"
   ]
  },
  {
   "cell_type": "code",
   "execution_count": 6,
   "metadata": {
    "collapsed": false,
    "deletable": true,
    "editable": true
   },
   "outputs": [
    {
     "data": {
      "text/html": [
       "<div>\n",
       "<style>\n",
       "    .dataframe thead tr:only-child th {\n",
       "        text-align: right;\n",
       "    }\n",
       "\n",
       "    .dataframe thead th {\n",
       "        text-align: left;\n",
       "    }\n",
       "\n",
       "    .dataframe tbody tr th {\n",
       "        vertical-align: top;\n",
       "    }\n",
       "</style>\n",
       "<table border=\"1\" class=\"dataframe\">\n",
       "  <thead>\n",
       "    <tr style=\"text-align: right;\">\n",
       "      <th></th>\n",
       "      <th>vizsgázó képzési típusa</th>\n",
       "      <th>írásbeli pontszám</th>\n",
       "    </tr>\n",
       "    <tr>\n",
       "      <th>vizsga szintje</th>\n",
       "      <th></th>\n",
       "      <th></th>\n",
       "    </tr>\n",
       "  </thead>\n",
       "  <tbody>\n",
       "    <tr>\n",
       "      <th>emelt</th>\n",
       "      <td>szakközép</td>\n",
       "      <td>100.0</td>\n",
       "    </tr>\n",
       "    <tr>\n",
       "      <th>közép</th>\n",
       "      <td>szakközép</td>\n",
       "      <td>90.0</td>\n",
       "    </tr>\n",
       "  </tbody>\n",
       "</table>\n",
       "</div>"
      ],
      "text/plain": [
       "               vizsgázó képzési típusa  írásbeli pontszám\n",
       "vizsga szintje                                           \n",
       "emelt                        szakközép              100.0\n",
       "közép                        szakközép               90.0"
      ]
     },
     "execution_count": 6,
     "metadata": {},
     "output_type": "execute_result"
    }
   ],
   "source": [
    "g.max()"
   ]
  },
  {
   "cell_type": "markdown",
   "metadata": {
    "collapsed": false,
    "deletable": true,
    "editable": true
   },
   "source": [
    "Átlagát (figyeljük meg, hogy a numerikus oszlopra csinálta csak meg)!"
   ]
  },
  {
   "cell_type": "code",
   "execution_count": 7,
   "metadata": {
    "collapsed": false,
    "deletable": true,
    "editable": true
   },
   "outputs": [
    {
     "data": {
      "text/html": [
       "<div>\n",
       "<style>\n",
       "    .dataframe thead tr:only-child th {\n",
       "        text-align: right;\n",
       "    }\n",
       "\n",
       "    .dataframe thead th {\n",
       "        text-align: left;\n",
       "    }\n",
       "\n",
       "    .dataframe tbody tr th {\n",
       "        vertical-align: top;\n",
       "    }\n",
       "</style>\n",
       "<table border=\"1\" class=\"dataframe\">\n",
       "  <thead>\n",
       "    <tr style=\"text-align: right;\">\n",
       "      <th></th>\n",
       "      <th>írásbeli pontszám</th>\n",
       "    </tr>\n",
       "    <tr>\n",
       "      <th>vizsga szintje</th>\n",
       "      <th></th>\n",
       "    </tr>\n",
       "  </thead>\n",
       "  <tbody>\n",
       "    <tr>\n",
       "      <th>emelt</th>\n",
       "      <td>63.410343</td>\n",
       "    </tr>\n",
       "    <tr>\n",
       "      <th>közép</th>\n",
       "      <td>52.651527</td>\n",
       "    </tr>\n",
       "  </tbody>\n",
       "</table>\n",
       "</div>"
      ],
      "text/plain": [
       "                írásbeli pontszám\n",
       "vizsga szintje                   \n",
       "emelt                   63.410343\n",
       "közép                   52.651527"
      ]
     },
     "execution_count": 7,
     "metadata": {},
     "output_type": "execute_result"
    }
   ],
   "source": [
    "g.mean()"
   ]
  },
  {
   "cell_type": "markdown",
   "metadata": {
    "deletable": true,
    "editable": true
   },
   "source": [
    "Kiválaszthatunk egy oszlopot."
   ]
  },
  {
   "cell_type": "code",
   "execution_count": 8,
   "metadata": {
    "collapsed": false,
    "deletable": true,
    "editable": true
   },
   "outputs": [
    {
     "data": {
      "text/plain": [
       "vizsga szintje\n",
       "emelt    63.410343\n",
       "közép    52.651527\n",
       "Name: írásbeli pontszám, dtype: float64"
      ]
     },
     "execution_count": 8,
     "metadata": {},
     "output_type": "execute_result"
    }
   ],
   "source": [
    "g['írásbeli pontszám'].mean()"
   ]
  },
  {
   "cell_type": "markdown",
   "metadata": {
    "deletable": true,
    "editable": true
   },
   "source": [
    "Ha két szögletes zárójellel választjuk ki, akkor  egy oszlopra nem Series, hanem DataFrame lesz az eredmény, és szebben formázódik."
   ]
  },
  {
   "cell_type": "code",
   "execution_count": 9,
   "metadata": {
    "collapsed": false,
    "deletable": true,
    "editable": true
   },
   "outputs": [
    {
     "data": {
      "text/html": [
       "<div>\n",
       "<style>\n",
       "    .dataframe thead tr:only-child th {\n",
       "        text-align: right;\n",
       "    }\n",
       "\n",
       "    .dataframe thead th {\n",
       "        text-align: left;\n",
       "    }\n",
       "\n",
       "    .dataframe tbody tr th {\n",
       "        vertical-align: top;\n",
       "    }\n",
       "</style>\n",
       "<table border=\"1\" class=\"dataframe\">\n",
       "  <thead>\n",
       "    <tr style=\"text-align: right;\">\n",
       "      <th></th>\n",
       "      <th>írásbeli pontszám</th>\n",
       "    </tr>\n",
       "    <tr>\n",
       "      <th>vizsga szintje</th>\n",
       "      <th></th>\n",
       "    </tr>\n",
       "  </thead>\n",
       "  <tbody>\n",
       "    <tr>\n",
       "      <th>emelt</th>\n",
       "      <td>63.410343</td>\n",
       "    </tr>\n",
       "    <tr>\n",
       "      <th>közép</th>\n",
       "      <td>52.651527</td>\n",
       "    </tr>\n",
       "  </tbody>\n",
       "</table>\n",
       "</div>"
      ],
      "text/plain": [
       "                írásbeli pontszám\n",
       "vizsga szintje                   \n",
       "emelt                   63.410343\n",
       "közép                   52.651527"
      ]
     },
     "execution_count": 9,
     "metadata": {},
     "output_type": "execute_result"
    }
   ],
   "source": [
    "g[['írásbeli pontszám']].mean()"
   ]
  },
  {
   "cell_type": "markdown",
   "metadata": {
    "deletable": true,
    "editable": true
   },
   "source": [
    "Egyszerre két oszlop szerint is csoportosíthatunk, ilyenkor listát kell a `groupby`-nak átadnunk. Itt már nem csak az `Emelt` oszlop, hanem a `Nem` oszlop is a táblázat indexének a része, ezt hívjuk többszintű indexelésnek."
   ]
  },
  {
   "cell_type": "code",
   "execution_count": 15,
   "metadata": {
    "collapsed": false,
    "deletable": true,
    "editable": true
   },
   "outputs": [
    {
     "data": {
      "text/html": [
       "<div>\n",
       "<table border=\"1\" class=\"dataframe\">\n",
       "  <thead>\n",
       "    <tr style=\"text-align: right;\">\n",
       "      <th></th>\n",
       "      <th></th>\n",
       "      <th>írásbeli pontszám</th>\n",
       "    </tr>\n",
       "    <tr>\n",
       "      <th>vizsga szintje</th>\n",
       "      <th>vizsgázó képzési típusa</th>\n",
       "      <th></th>\n",
       "    </tr>\n",
       "  </thead>\n",
       "  <tbody>\n",
       "    <tr>\n",
       "      <th rowspan=\"3\" valign=\"top\">emelt</th>\n",
       "      <th>-</th>\n",
       "      <td>51.651575</td>\n",
       "    </tr>\n",
       "    <tr>\n",
       "      <th>gimnázium</th>\n",
       "      <td>65.804943</td>\n",
       "    </tr>\n",
       "    <tr>\n",
       "      <th>szakközép</th>\n",
       "      <td>53.922330</td>\n",
       "    </tr>\n",
       "    <tr>\n",
       "      <th rowspan=\"3\" valign=\"top\">közép</th>\n",
       "      <th>-</th>\n",
       "      <td>51.004021</td>\n",
       "    </tr>\n",
       "    <tr>\n",
       "      <th>gimnázium</th>\n",
       "      <td>58.023469</td>\n",
       "    </tr>\n",
       "    <tr>\n",
       "      <th>szakközép</th>\n",
       "      <td>40.857205</td>\n",
       "    </tr>\n",
       "  </tbody>\n",
       "</table>\n",
       "</div>"
      ],
      "text/plain": [
       "                                        írásbeli pontszám\n",
       "vizsga szintje vizsgázó képzési típusa                   \n",
       "emelt          -                                51.651575\n",
       "               gimnázium                        65.804943\n",
       "               szakközép                        53.922330\n",
       "közép          -                                51.004021\n",
       "               gimnázium                        58.023469\n",
       "               szakközép                        40.857205"
      ]
     },
     "execution_count": 15,
     "metadata": {},
     "output_type": "execute_result"
    }
   ],
   "source": [
    "g=subdf.groupby(['vizsga szintje','vizsgázó képzési típusa'])\n",
    "g.mean()"
   ]
  },
  {
   "cell_type": "markdown",
   "metadata": {
    "deletable": true,
    "editable": true
   },
   "source": [
    "Eltekinthetünk attól, hogy a csoportok indexként jelenjenek meg, és oszlopot is kaphatunk belőlük."
   ]
  },
  {
   "cell_type": "code",
   "execution_count": 10,
   "metadata": {
    "collapsed": false,
    "deletable": true,
    "editable": true
   },
   "outputs": [
    {
     "data": {
      "text/html": [
       "<div>\n",
       "<style>\n",
       "    .dataframe thead tr:only-child th {\n",
       "        text-align: right;\n",
       "    }\n",
       "\n",
       "    .dataframe thead th {\n",
       "        text-align: left;\n",
       "    }\n",
       "\n",
       "    .dataframe tbody tr th {\n",
       "        vertical-align: top;\n",
       "    }\n",
       "</style>\n",
       "<table border=\"1\" class=\"dataframe\">\n",
       "  <thead>\n",
       "    <tr style=\"text-align: right;\">\n",
       "      <th></th>\n",
       "      <th>vizsga szintje</th>\n",
       "      <th>vizsgázó képzési típusa</th>\n",
       "      <th>írásbeli pontszám</th>\n",
       "    </tr>\n",
       "  </thead>\n",
       "  <tbody>\n",
       "    <tr>\n",
       "      <th>0</th>\n",
       "      <td>emelt</td>\n",
       "      <td>-</td>\n",
       "      <td>51.651575</td>\n",
       "    </tr>\n",
       "    <tr>\n",
       "      <th>1</th>\n",
       "      <td>emelt</td>\n",
       "      <td>gimnázium</td>\n",
       "      <td>65.804943</td>\n",
       "    </tr>\n",
       "    <tr>\n",
       "      <th>2</th>\n",
       "      <td>emelt</td>\n",
       "      <td>szakközép</td>\n",
       "      <td>53.922330</td>\n",
       "    </tr>\n",
       "    <tr>\n",
       "      <th>3</th>\n",
       "      <td>közép</td>\n",
       "      <td>-</td>\n",
       "      <td>51.004021</td>\n",
       "    </tr>\n",
       "    <tr>\n",
       "      <th>4</th>\n",
       "      <td>közép</td>\n",
       "      <td>gimnázium</td>\n",
       "      <td>58.023469</td>\n",
       "    </tr>\n",
       "    <tr>\n",
       "      <th>5</th>\n",
       "      <td>közép</td>\n",
       "      <td>szakközép</td>\n",
       "      <td>40.857205</td>\n",
       "    </tr>\n",
       "  </tbody>\n",
       "</table>\n",
       "</div>"
      ],
      "text/plain": [
       "  vizsga szintje vizsgázó képzési típusa  írásbeli pontszám\n",
       "0          emelt                       -          51.651575\n",
       "1          emelt               gimnázium          65.804943\n",
       "2          emelt               szakközép          53.922330\n",
       "3          közép                       -          51.004021\n",
       "4          közép               gimnázium          58.023469\n",
       "5          közép               szakközép          40.857205"
      ]
     },
     "execution_count": 10,
     "metadata": {},
     "output_type": "execute_result"
    }
   ],
   "source": [
    "g=subdf.groupby(['vizsga szintje','vizsgázó képzési típusa']\n",
    "           ,as_index=False)\n",
    "g.mean()"
   ]
  },
  {
   "cell_type": "markdown",
   "metadata": {
    "deletable": true,
    "editable": true
   },
   "source": [
    "A hierarchikusan indexelt táblázatot az unstack függvénnyel átrendezhetjük, ha úgy használhatóbb."
   ]
  },
  {
   "cell_type": "code",
   "execution_count": 11,
   "metadata": {
    "collapsed": false,
    "deletable": true,
    "editable": true
   },
   "outputs": [
    {
     "data": {
      "text/html": [
       "<div>\n",
       "<style>\n",
       "    .dataframe thead tr:only-child th {\n",
       "        text-align: right;\n",
       "    }\n",
       "\n",
       "    .dataframe thead th {\n",
       "        text-align: left;\n",
       "    }\n",
       "\n",
       "    .dataframe tbody tr th {\n",
       "        vertical-align: top;\n",
       "    }\n",
       "</style>\n",
       "<table border=\"1\" class=\"dataframe\">\n",
       "  <thead>\n",
       "    <tr>\n",
       "      <th></th>\n",
       "      <th colspan=\"2\" halign=\"left\">írásbeli pontszám</th>\n",
       "    </tr>\n",
       "    <tr>\n",
       "      <th>vizsga szintje</th>\n",
       "      <th>emelt</th>\n",
       "      <th>közép</th>\n",
       "    </tr>\n",
       "    <tr>\n",
       "      <th>vizsgázó képzési típusa</th>\n",
       "      <th></th>\n",
       "      <th></th>\n",
       "    </tr>\n",
       "  </thead>\n",
       "  <tbody>\n",
       "    <tr>\n",
       "      <th>-</th>\n",
       "      <td>51.651575</td>\n",
       "      <td>51.004021</td>\n",
       "    </tr>\n",
       "    <tr>\n",
       "      <th>gimnázium</th>\n",
       "      <td>65.804943</td>\n",
       "      <td>58.023469</td>\n",
       "    </tr>\n",
       "    <tr>\n",
       "      <th>szakközép</th>\n",
       "      <td>53.922330</td>\n",
       "      <td>40.857205</td>\n",
       "    </tr>\n",
       "  </tbody>\n",
       "</table>\n",
       "</div>"
      ],
      "text/plain": [
       "                        írásbeli pontszám           \n",
       "vizsga szintje                      emelt      közép\n",
       "vizsgázó képzési típusa                             \n",
       "-                               51.651575  51.004021\n",
       "gimnázium                       65.804943  58.023469\n",
       "szakközép                       53.922330  40.857205"
      ]
     },
     "execution_count": 11,
     "metadata": {},
     "output_type": "execute_result"
    }
   ],
   "source": [
    "g=subdf.groupby(['vizsga szintje','vizsgázó képzési típusa'])\n",
    "g.mean().unstack(level=0)"
   ]
  },
  {
   "cell_type": "code",
   "execution_count": 12,
   "metadata": {
    "collapsed": false,
    "deletable": true,
    "editable": true
   },
   "outputs": [
    {
     "data": {
      "text/html": [
       "<div>\n",
       "<style>\n",
       "    .dataframe thead tr:only-child th {\n",
       "        text-align: right;\n",
       "    }\n",
       "\n",
       "    .dataframe thead th {\n",
       "        text-align: left;\n",
       "    }\n",
       "\n",
       "    .dataframe tbody tr th {\n",
       "        vertical-align: top;\n",
       "    }\n",
       "</style>\n",
       "<table border=\"1\" class=\"dataframe\">\n",
       "  <thead>\n",
       "    <tr>\n",
       "      <th></th>\n",
       "      <th colspan=\"3\" halign=\"left\">írásbeli pontszám</th>\n",
       "    </tr>\n",
       "    <tr>\n",
       "      <th>vizsgázó képzési típusa</th>\n",
       "      <th>-</th>\n",
       "      <th>gimnázium</th>\n",
       "      <th>szakközép</th>\n",
       "    </tr>\n",
       "    <tr>\n",
       "      <th>vizsga szintje</th>\n",
       "      <th></th>\n",
       "      <th></th>\n",
       "      <th></th>\n",
       "    </tr>\n",
       "  </thead>\n",
       "  <tbody>\n",
       "    <tr>\n",
       "      <th>emelt</th>\n",
       "      <td>51.651575</td>\n",
       "      <td>65.804943</td>\n",
       "      <td>53.922330</td>\n",
       "    </tr>\n",
       "    <tr>\n",
       "      <th>közép</th>\n",
       "      <td>51.004021</td>\n",
       "      <td>58.023469</td>\n",
       "      <td>40.857205</td>\n",
       "    </tr>\n",
       "  </tbody>\n",
       "</table>\n",
       "</div>"
      ],
      "text/plain": [
       "                        írásbeli pontszám                      \n",
       "vizsgázó képzési típusa                 -  gimnázium  szakközép\n",
       "vizsga szintje                                                 \n",
       "emelt                           51.651575  65.804943  53.922330\n",
       "közép                           51.004021  58.023469  40.857205"
      ]
     },
     "execution_count": 12,
     "metadata": {},
     "output_type": "execute_result"
    }
   ],
   "source": [
    "g.mean().unstack(level=1)"
   ]
  },
  {
   "cell_type": "markdown",
   "metadata": {
    "deletable": true,
    "editable": true
   },
   "source": [
    "### A következőkben felteszünk néhány példakérdést, és megválaszoljuk azt."
   ]
  },
  {
   "cell_type": "markdown",
   "metadata": {
    "deletable": true,
    "editable": true
   },
   "source": [
    "* Melyik évben mennyi volt az emelt szintű érettségik jegyeinek átlaga?\n",
    "\n",
    "Ehhez először kiválasztjuk az emelt szintű érettségit tartalmazó sorokat, \n",
    "\n"
   ]
  },
  {
   "cell_type": "code",
   "execution_count": 13,
   "metadata": {
    "collapsed": false,
    "deletable": true,
    "editable": true
   },
   "outputs": [],
   "source": [
    "emelt=df[df[\"szint\"]==\"E\"]"
   ]
  },
  {
   "cell_type": "markdown",
   "metadata": {
    "deletable": true,
    "editable": true
   },
   "source": [
    "Azokat év szerint csoportosítjuk. "
   ]
  },
  {
   "cell_type": "code",
   "execution_count": 14,
   "metadata": {
    "collapsed": false,
    "deletable": true,
    "editable": true
   },
   "outputs": [],
   "source": [
    "group=emelt.groupby(\"év\")"
   ]
  },
  {
   "cell_type": "markdown",
   "metadata": {
    "deletable": true,
    "editable": true
   },
   "source": [
    "Kiválasztjuk az \"érdemjegy\" oszlopot, amit a végén átlagolunk. A csoportosítás miatt az átlag évenként kerül kiszámításra."
   ]
  },
  {
   "cell_type": "code",
   "execution_count": 15,
   "metadata": {
    "collapsed": false,
    "deletable": true,
    "editable": true
   },
   "outputs": [
    {
     "data": {
      "text/html": [
       "<div>\n",
       "<style>\n",
       "    .dataframe thead tr:only-child th {\n",
       "        text-align: right;\n",
       "    }\n",
       "\n",
       "    .dataframe thead th {\n",
       "        text-align: left;\n",
       "    }\n",
       "\n",
       "    .dataframe tbody tr th {\n",
       "        vertical-align: top;\n",
       "    }\n",
       "</style>\n",
       "<table border=\"1\" class=\"dataframe\">\n",
       "  <thead>\n",
       "    <tr style=\"text-align: right;\">\n",
       "      <th></th>\n",
       "      <th>érdemjegy</th>\n",
       "    </tr>\n",
       "    <tr>\n",
       "      <th>év</th>\n",
       "      <th></th>\n",
       "    </tr>\n",
       "  </thead>\n",
       "  <tbody>\n",
       "    <tr>\n",
       "      <th>2011</th>\n",
       "      <td>4.125000</td>\n",
       "    </tr>\n",
       "    <tr>\n",
       "      <th>2012</th>\n",
       "      <td>4.429338</td>\n",
       "    </tr>\n",
       "    <tr>\n",
       "      <th>2013</th>\n",
       "      <td>4.232607</td>\n",
       "    </tr>\n",
       "    <tr>\n",
       "      <th>2014</th>\n",
       "      <td>4.404090</td>\n",
       "    </tr>\n",
       "    <tr>\n",
       "      <th>2015</th>\n",
       "      <td>4.432165</td>\n",
       "    </tr>\n",
       "  </tbody>\n",
       "</table>\n",
       "</div>"
      ],
      "text/plain": [
       "      érdemjegy\n",
       "év             \n",
       "2011   4.125000\n",
       "2012   4.429338\n",
       "2013   4.232607\n",
       "2014   4.404090\n",
       "2015   4.432165"
      ]
     },
     "execution_count": 15,
     "metadata": {},
     "output_type": "execute_result"
    }
   ],
   "source": [
    "group[[\"érdemjegy\"]].mean()"
   ]
  },
  {
   "cell_type": "markdown",
   "metadata": {
    "deletable": true,
    "editable": true
   },
   "source": [
    "Egyben:"
   ]
  },
  {
   "cell_type": "code",
   "execution_count": 16,
   "metadata": {
    "collapsed": false,
    "deletable": true,
    "editable": true
   },
   "outputs": [
    {
     "data": {
      "text/html": [
       "<div>\n",
       "<style>\n",
       "    .dataframe thead tr:only-child th {\n",
       "        text-align: right;\n",
       "    }\n",
       "\n",
       "    .dataframe thead th {\n",
       "        text-align: left;\n",
       "    }\n",
       "\n",
       "    .dataframe tbody tr th {\n",
       "        vertical-align: top;\n",
       "    }\n",
       "</style>\n",
       "<table border=\"1\" class=\"dataframe\">\n",
       "  <thead>\n",
       "    <tr style=\"text-align: right;\">\n",
       "      <th></th>\n",
       "      <th>érdemjegy</th>\n",
       "    </tr>\n",
       "    <tr>\n",
       "      <th>év</th>\n",
       "      <th></th>\n",
       "    </tr>\n",
       "  </thead>\n",
       "  <tbody>\n",
       "    <tr>\n",
       "      <th>2011</th>\n",
       "      <td>4.125000</td>\n",
       "    </tr>\n",
       "    <tr>\n",
       "      <th>2012</th>\n",
       "      <td>4.429338</td>\n",
       "    </tr>\n",
       "    <tr>\n",
       "      <th>2013</th>\n",
       "      <td>4.232607</td>\n",
       "    </tr>\n",
       "    <tr>\n",
       "      <th>2014</th>\n",
       "      <td>4.404090</td>\n",
       "    </tr>\n",
       "    <tr>\n",
       "      <th>2015</th>\n",
       "      <td>4.432165</td>\n",
       "    </tr>\n",
       "  </tbody>\n",
       "</table>\n",
       "</div>"
      ],
      "text/plain": [
       "      érdemjegy\n",
       "év             \n",
       "2011   4.125000\n",
       "2012   4.429338\n",
       "2013   4.232607\n",
       "2014   4.404090\n",
       "2015   4.432165"
      ]
     },
     "execution_count": 16,
     "metadata": {},
     "output_type": "execute_result"
    }
   ],
   "source": [
    "df[df[\"szint\"]==\"E\"].groupby(\"év\")[[\"érdemjegy\"]].mean()"
   ]
  },
  {
   "cell_type": "markdown",
   "metadata": {
    "deletable": true,
    "editable": true
   },
   "source": [
    "* Vajon a fiúk vagy a lányok írtak jobb pontszámú középszintű érettségit 2015-ben?\n",
    "\n",
    "Először logikai indexeléssel kiválasztjuk a 2015-ös középszintű érettségiket tartalmazó sorokat. Több feltételt a sorokra egyszerre az `and` operátor helyett az & operátorral adhatunk meg, és a feltételeket zárójeleznünk kell, hogy jól olvassa az értelmező. \n",
    "\n",
    "Ezek után csoportosítunk a vizsgázó neme szerint, majd vesszük az összpontszámok átlagát."
   ]
  },
  {
   "cell_type": "code",
   "execution_count": 24,
   "metadata": {
    "collapsed": false,
    "deletable": true,
    "editable": true
   },
   "outputs": [
    {
     "data": {
      "text/html": [
       "<div>\n",
       "<table border=\"1\" class=\"dataframe\">\n",
       "  <thead>\n",
       "    <tr style=\"text-align: right;\">\n",
       "      <th></th>\n",
       "      <th>össz pontszám</th>\n",
       "    </tr>\n",
       "    <tr>\n",
       "      <th>vizsgázó neme</th>\n",
       "      <th></th>\n",
       "    </tr>\n",
       "  </thead>\n",
       "  <tbody>\n",
       "    <tr>\n",
       "      <th>férfi</th>\n",
       "      <td>100.270135</td>\n",
       "    </tr>\n",
       "    <tr>\n",
       "      <th>nõ</th>\n",
       "      <td>97.180775</td>\n",
       "    </tr>\n",
       "  </tbody>\n",
       "</table>\n",
       "</div>"
      ],
      "text/plain": [
       "               össz pontszám\n",
       "vizsgázó neme               \n",
       "férfi             100.270135\n",
       "nõ                 97.180775"
      ]
     },
     "execution_count": 24,
     "metadata": {},
     "output_type": "execute_result"
    }
   ],
   "source": [
    "k_2015=df[(df[\"szint\"]==\"K\") & (df[\"év\"]==2015)]\n",
    "k_2015.groupby(\"vizsgázó neme\")[[\"össz pontszám\"]].mean()"
   ]
  },
  {
   "cell_type": "markdown",
   "metadata": {
    "deletable": true,
    "editable": true
   },
   "source": [
    "* Számoljuk le, melyik iskolatípusban hány érettségiző jelent meg, illetve nem jelent meg!\n",
    "\n",
    "Most egyszerre két oszlop szerint is csoportosítottunk, a csoportosítás alapját képező oszlopok nevét listaként kell megadni a groupby-nak. Utána egy tetszőleges oszlopot (pl. év) kiválasztva megszámláltathatjuk csoportonként a sorokat a count-tal."
   ]
  },
  {
   "cell_type": "code",
   "execution_count": 25,
   "metadata": {
    "collapsed": false,
    "deletable": true,
    "editable": true
   },
   "outputs": [
    {
     "data": {
      "text/html": [
       "<div>\n",
       "<table border=\"1\" class=\"dataframe\">\n",
       "  <thead>\n",
       "    <tr style=\"text-align: right;\">\n",
       "      <th></th>\n",
       "      <th></th>\n",
       "      <th>év</th>\n",
       "    </tr>\n",
       "    <tr>\n",
       "      <th>vizsgázó képzési típusa</th>\n",
       "      <th>vizsgázó részvétele</th>\n",
       "      <th></th>\n",
       "    </tr>\n",
       "  </thead>\n",
       "  <tbody>\n",
       "    <tr>\n",
       "      <th rowspan=\"2\" valign=\"top\">-</th>\n",
       "      <th>megjelent</th>\n",
       "      <td>1260</td>\n",
       "    </tr>\n",
       "    <tr>\n",
       "      <th>nem jelent meg</th>\n",
       "      <td>490</td>\n",
       "    </tr>\n",
       "    <tr>\n",
       "      <th rowspan=\"2\" valign=\"top\">gimnázium</th>\n",
       "      <th>megjelent</th>\n",
       "      <td>14448</td>\n",
       "    </tr>\n",
       "    <tr>\n",
       "      <th>nem jelent meg</th>\n",
       "      <td>551</td>\n",
       "    </tr>\n",
       "    <tr>\n",
       "      <th rowspan=\"2\" valign=\"top\">szakközép</th>\n",
       "      <th>megjelent</th>\n",
       "      <td>5007</td>\n",
       "    </tr>\n",
       "    <tr>\n",
       "      <th>nem jelent meg</th>\n",
       "      <td>134</td>\n",
       "    </tr>\n",
       "  </tbody>\n",
       "</table>\n",
       "</div>"
      ],
      "text/plain": [
       "                                                év\n",
       "vizsgázó képzési típusa vizsgázó részvétele       \n",
       "-                       megjelent             1260\n",
       "                        nem jelent meg         490\n",
       "gimnázium               megjelent            14448\n",
       "                        nem jelent meg         551\n",
       "szakközép               megjelent             5007\n",
       "                        nem jelent meg         134"
      ]
     },
     "execution_count": 25,
     "metadata": {},
     "output_type": "execute_result"
    }
   ],
   "source": [
    "df.groupby([\"vizsgázó képzési típusa\",\n",
    "            \"vizsgázó részvétele\"])[[\"év\"]].count()"
   ]
  }
 ],
 "metadata": {
  "anaconda-cloud": {},
  "hide_input": false,
  "kernelspec": {
   "display_name": "Python 3",
   "language": "python",
   "name": "python3"
  },
  "language_info": {
   "codemirror_mode": {
    "name": "ipython",
    "version": 3
   },
   "file_extension": ".py",
   "mimetype": "text/x-python",
   "name": "python",
   "nbconvert_exporter": "python",
   "pygments_lexer": "ipython3",
   "version": "3.5.2"
  },
  "toc": {
   "toc_cell": false,
   "toc_number_sections": false,
   "toc_section_display": "block",
   "toc_threshold": 6,
   "toc_window_display": false
  }
 },
 "nbformat": 4,
 "nbformat_minor": 0
}
