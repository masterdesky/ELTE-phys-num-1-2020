{
 "cells": [
  {
   "cell_type": "markdown",
   "metadata": {
    "deletable": true,
    "editable": true
   },
   "source": [
    "# Egyszerű műveletek, maszkolás\n"
   ]
  },
  {
   "cell_type": "markdown",
   "metadata": {},
   "source": [
    "Kezdjük a szokásos importokkal:"
   ]
  },
  {
   "cell_type": "code",
   "execution_count": 1,
   "metadata": {
    "collapsed": false,
    "deletable": true,
    "editable": true
   },
   "outputs": [
    {
     "name": "stdout",
     "output_type": "stream",
     "text": [
      "Populating the interactive namespace from numpy and matplotlib\n"
     ]
    }
   ],
   "source": [
    "%pylab inline"
   ]
  },
  {
   "cell_type": "code",
   "execution_count": 2,
   "metadata": {
    "collapsed": true,
    "deletable": true,
    "editable": true
   },
   "outputs": [],
   "source": [
    "import pandas as pd"
   ]
  },
  {
   "cell_type": "markdown",
   "metadata": {
    "deletable": true,
    "editable": true
   },
   "source": [
    "## DataFrame létrehozása"
   ]
  },
  {
   "cell_type": "markdown",
   "metadata": {
    "deletable": true,
    "editable": true
   },
   "source": [
    "Beolvasni már tudunk DataFrame-et, mi van, ha saját magunk akarjuk létrehozni?"
   ]
  },
  {
   "cell_type": "markdown",
   "metadata": {
    "deletable": true,
    "editable": true
   },
   "source": [
    "Legkézenfekvőbb oszlopokból egy szótár segítségével létrehozni, melyben a különböző kulcsokhoz egy-egy lista, illetve tömb tartozik:"
   ]
  },
  {
   "cell_type": "code",
   "execution_count": 3,
   "metadata": {
    "collapsed": false,
    "deletable": true,
    "editable": true
   },
   "outputs": [
    {
     "data": {
      "text/html": [
       "<div>\n",
       "<style>\n",
       "    .dataframe thead tr:only-child th {\n",
       "        text-align: right;\n",
       "    }\n",
       "\n",
       "    .dataframe thead th {\n",
       "        text-align: left;\n",
       "    }\n",
       "\n",
       "    .dataframe tbody tr th {\n",
       "        vertical-align: top;\n",
       "    }\n",
       "</style>\n",
       "<table border=\"1\" class=\"dataframe\">\n",
       "  <thead>\n",
       "    <tr style=\"text-align: right;\">\n",
       "      <th></th>\n",
       "      <th>nulla</th>\n",
       "      <th>random1</th>\n",
       "    </tr>\n",
       "  </thead>\n",
       "  <tbody>\n",
       "    <tr>\n",
       "      <th>0</th>\n",
       "      <td>0</td>\n",
       "      <td>0.201720</td>\n",
       "    </tr>\n",
       "    <tr>\n",
       "      <th>1</th>\n",
       "      <td>0</td>\n",
       "      <td>0.934053</td>\n",
       "    </tr>\n",
       "    <tr>\n",
       "      <th>2</th>\n",
       "      <td>0</td>\n",
       "      <td>0.240146</td>\n",
       "    </tr>\n",
       "    <tr>\n",
       "      <th>3</th>\n",
       "      <td>0</td>\n",
       "      <td>0.222493</td>\n",
       "    </tr>\n",
       "  </tbody>\n",
       "</table>\n",
       "</div>"
      ],
      "text/plain": [
       "   nulla   random1\n",
       "0      0  0.201720\n",
       "1      0  0.934053\n",
       "2      0  0.240146\n",
       "3      0  0.222493"
      ]
     },
     "execution_count": 3,
     "metadata": {},
     "output_type": "execute_result"
    }
   ],
   "source": [
    "df=pd.DataFrame({'random1':random.random(4),\n",
    "                 'nulla':[0 for i in range(4)]})\n",
    "df"
   ]
  },
  {
   "cell_type": "markdown",
   "metadata": {
    "deletable": true,
    "editable": true
   },
   "source": [
    "Indexet is megadhatunk kézzel."
   ]
  },
  {
   "cell_type": "code",
   "execution_count": 4,
   "metadata": {
    "collapsed": false,
    "deletable": true,
    "editable": true
   },
   "outputs": [
    {
     "data": {
      "text/html": [
       "<div>\n",
       "<style>\n",
       "    .dataframe thead tr:only-child th {\n",
       "        text-align: right;\n",
       "    }\n",
       "\n",
       "    .dataframe thead th {\n",
       "        text-align: left;\n",
       "    }\n",
       "\n",
       "    .dataframe tbody tr th {\n",
       "        vertical-align: top;\n",
       "    }\n",
       "</style>\n",
       "<table border=\"1\" class=\"dataframe\">\n",
       "  <thead>\n",
       "    <tr style=\"text-align: right;\">\n",
       "      <th></th>\n",
       "      <th>nulla</th>\n",
       "      <th>random1</th>\n",
       "    </tr>\n",
       "  </thead>\n",
       "  <tbody>\n",
       "    <tr>\n",
       "      <th>a</th>\n",
       "      <td>0</td>\n",
       "      <td>0.918215</td>\n",
       "    </tr>\n",
       "    <tr>\n",
       "      <th>b</th>\n",
       "      <td>0</td>\n",
       "      <td>0.230913</td>\n",
       "    </tr>\n",
       "    <tr>\n",
       "      <th>c</th>\n",
       "      <td>0</td>\n",
       "      <td>0.161259</td>\n",
       "    </tr>\n",
       "    <tr>\n",
       "      <th>d</th>\n",
       "      <td>0</td>\n",
       "      <td>0.982594</td>\n",
       "    </tr>\n",
       "  </tbody>\n",
       "</table>\n",
       "</div>"
      ],
      "text/plain": [
       "   nulla   random1\n",
       "a      0  0.918215\n",
       "b      0  0.230913\n",
       "c      0  0.161259\n",
       "d      0  0.982594"
      ]
     },
     "execution_count": 4,
     "metadata": {},
     "output_type": "execute_result"
    }
   ],
   "source": [
    "df=pd.DataFrame({'random1':random.random(4),\n",
    "                 'nulla':[0 for i in range(4)]},\n",
    "                 index=['a','b','c','d'])\n",
    "df"
   ]
  },
  {
   "cell_type": "markdown",
   "metadata": {
    "deletable": true,
    "editable": true
   },
   "source": [
    "Ha sorokból akarjuk létrehozni, akkor a sorok listájából hozhatjuk létre. Az oszlopok neveit a columns argumentumban adhatjuk meg."
   ]
  },
  {
   "cell_type": "code",
   "execution_count": 5,
   "metadata": {
    "collapsed": false,
    "deletable": true,
    "editable": true
   },
   "outputs": [
    {
     "data": {
      "text/html": [
       "<div>\n",
       "<style>\n",
       "    .dataframe thead tr:only-child th {\n",
       "        text-align: right;\n",
       "    }\n",
       "\n",
       "    .dataframe thead th {\n",
       "        text-align: left;\n",
       "    }\n",
       "\n",
       "    .dataframe tbody tr th {\n",
       "        vertical-align: top;\n",
       "    }\n",
       "</style>\n",
       "<table border=\"1\" class=\"dataframe\">\n",
       "  <thead>\n",
       "    <tr style=\"text-align: right;\">\n",
       "      <th></th>\n",
       "      <th>a</th>\n",
       "      <th>b</th>\n",
       "      <th>c</th>\n",
       "      <th>d</th>\n",
       "    </tr>\n",
       "  </thead>\n",
       "  <tbody>\n",
       "    <tr>\n",
       "      <th>random</th>\n",
       "      <td>0.381452</td>\n",
       "      <td>0.794531</td>\n",
       "      <td>0.95669</td>\n",
       "      <td>0.301953</td>\n",
       "    </tr>\n",
       "    <tr>\n",
       "      <th>nulla</th>\n",
       "      <td>0.000000</td>\n",
       "      <td>0.000000</td>\n",
       "      <td>0.00000</td>\n",
       "      <td>0.000000</td>\n",
       "    </tr>\n",
       "  </tbody>\n",
       "</table>\n",
       "</div>"
      ],
      "text/plain": [
       "               a         b        c         d\n",
       "random  0.381452  0.794531  0.95669  0.301953\n",
       "nulla   0.000000  0.000000  0.00000  0.000000"
      ]
     },
     "execution_count": 5,
     "metadata": {},
     "output_type": "execute_result"
    }
   ],
   "source": [
    "sor1=random.random(4) \n",
    "sor2=[0 for i in range(4)]\n",
    "\n",
    "df=pd.DataFrame([sor1,sor2],columns=['a','b','c','d'],\n",
    "                index=['random','nulla'])\n",
    "df"
   ]
  },
  {
   "cell_type": "markdown",
   "metadata": {
    "deletable": true,
    "editable": true
   },
   "source": [
    "2 dimenziós numpy tömbből is létrehozhatjuk. "
   ]
  },
  {
   "cell_type": "code",
   "execution_count": 6,
   "metadata": {
    "collapsed": false,
    "deletable": true,
    "editable": true
   },
   "outputs": [
    {
     "data": {
      "text/html": [
       "<div>\n",
       "<style>\n",
       "    .dataframe thead tr:only-child th {\n",
       "        text-align: right;\n",
       "    }\n",
       "\n",
       "    .dataframe thead th {\n",
       "        text-align: left;\n",
       "    }\n",
       "\n",
       "    .dataframe tbody tr th {\n",
       "        vertical-align: top;\n",
       "    }\n",
       "</style>\n",
       "<table border=\"1\" class=\"dataframe\">\n",
       "  <thead>\n",
       "    <tr style=\"text-align: right;\">\n",
       "      <th></th>\n",
       "      <th>a</th>\n",
       "      <th>b</th>\n",
       "      <th>c</th>\n",
       "      <th>d</th>\n",
       "    </tr>\n",
       "  </thead>\n",
       "  <tbody>\n",
       "    <tr>\n",
       "      <th>random</th>\n",
       "      <td>0.501972</td>\n",
       "      <td>0.743951</td>\n",
       "      <td>0.311027</td>\n",
       "      <td>0.465086</td>\n",
       "    </tr>\n",
       "    <tr>\n",
       "      <th>random2</th>\n",
       "      <td>0.558628</td>\n",
       "      <td>0.424588</td>\n",
       "      <td>0.227572</td>\n",
       "      <td>0.964177</td>\n",
       "    </tr>\n",
       "  </tbody>\n",
       "</table>\n",
       "</div>"
      ],
      "text/plain": [
       "                a         b         c         d\n",
       "random   0.501972  0.743951  0.311027  0.465086\n",
       "random2  0.558628  0.424588  0.227572  0.964177"
      ]
     },
     "execution_count": 6,
     "metadata": {},
     "output_type": "execute_result"
    }
   ],
   "source": [
    "df=pd.DataFrame(random.random((2,4)),columns=['a','b','c','d'],\n",
    "               index=['random','random2'])\n",
    "df"
   ]
  },
  {
   "cell_type": "markdown",
   "metadata": {
    "deletable": true,
    "editable": true
   },
   "source": [
    "## Adatok elérése"
   ]
  },
  {
   "cell_type": "code",
   "execution_count": 7,
   "metadata": {
    "collapsed": false,
    "deletable": true,
    "editable": true
   },
   "outputs": [],
   "source": [
    "df=pd.read_csv(\"data/kisnevsor.csv\",index_col=0)"
   ]
  },
  {
   "cell_type": "markdown",
   "metadata": {
    "deletable": true,
    "editable": true
   },
   "source": [
    "A *pandas* a *DataFrame*-ben tárolt értékeket elsősorban a fejléccel és a sorok neveivel teszi elérhetővé.\n",
    "\n",
    "Már láttuk, ha egy oszlop nevét *string*ként szögletes zárójelekben írjuk a *DataFrame* neve mögé, visszakapjuk az oszlopot."
   ]
  },
  {
   "cell_type": "code",
   "execution_count": 8,
   "metadata": {
    "collapsed": false,
    "deletable": true,
    "editable": true
   },
   "outputs": [
    {
     "data": {
      "text/plain": [
       "Név\n",
       "Bálint    2\n",
       "Csenge    4\n",
       "István    5\n",
       "Zita      3\n",
       "Károly    4\n",
       "Name: Eszter, dtype: int64"
      ]
     },
     "execution_count": 8,
     "metadata": {},
     "output_type": "execute_result"
    }
   ],
   "source": [
    "df[\"Eszter\"]"
   ]
  },
  {
   "cell_type": "markdown",
   "metadata": {
    "deletable": true,
    "editable": true
   },
   "source": [
    "Ha több oszlopot is vissza szeretnénk kapni, akkor azokat egy stringeket tartalmazó listában írjuk a *DataFrame* mögötti szögletes zárójelbe."
   ]
  },
  {
   "cell_type": "code",
   "execution_count": 9,
   "metadata": {
    "collapsed": false,
    "deletable": true,
    "editable": true
   },
   "outputs": [
    {
     "data": {
      "text/html": [
       "<div>\n",
       "<style>\n",
       "    .dataframe thead tr:only-child th {\n",
       "        text-align: right;\n",
       "    }\n",
       "\n",
       "    .dataframe thead th {\n",
       "        text-align: left;\n",
       "    }\n",
       "\n",
       "    .dataframe tbody tr th {\n",
       "        vertical-align: top;\n",
       "    }\n",
       "</style>\n",
       "<table border=\"1\" class=\"dataframe\">\n",
       "  <thead>\n",
       "    <tr style=\"text-align: right;\">\n",
       "      <th></th>\n",
       "      <th>Eszter</th>\n",
       "      <th>Nem</th>\n",
       "      <th>Kor</th>\n",
       "    </tr>\n",
       "    <tr>\n",
       "      <th>Név</th>\n",
       "      <th></th>\n",
       "      <th></th>\n",
       "      <th></th>\n",
       "    </tr>\n",
       "  </thead>\n",
       "  <tbody>\n",
       "    <tr>\n",
       "      <th>Bálint</th>\n",
       "      <td>2</td>\n",
       "      <td>fiú</td>\n",
       "      <td>20</td>\n",
       "    </tr>\n",
       "    <tr>\n",
       "      <th>Csenge</th>\n",
       "      <td>4</td>\n",
       "      <td>lány</td>\n",
       "      <td>22</td>\n",
       "    </tr>\n",
       "    <tr>\n",
       "      <th>István</th>\n",
       "      <td>5</td>\n",
       "      <td>fiú</td>\n",
       "      <td>19</td>\n",
       "    </tr>\n",
       "    <tr>\n",
       "      <th>Zita</th>\n",
       "      <td>3</td>\n",
       "      <td>lány</td>\n",
       "      <td>20</td>\n",
       "    </tr>\n",
       "    <tr>\n",
       "      <th>Károly</th>\n",
       "      <td>4</td>\n",
       "      <td>fiú</td>\n",
       "      <td>21</td>\n",
       "    </tr>\n",
       "  </tbody>\n",
       "</table>\n",
       "</div>"
      ],
      "text/plain": [
       "        Eszter   Nem  Kor\n",
       "Név                      \n",
       "Bálint       2   fiú   20\n",
       "Csenge       4  lány   22\n",
       "István       5   fiú   19\n",
       "Zita         3  lány   20\n",
       "Károly       4   fiú   21"
      ]
     },
     "execution_count": 9,
     "metadata": {},
     "output_type": "execute_result"
    }
   ],
   "source": [
    "df[[\"Eszter\",\"Nem\",\"Kor\"]]"
   ]
  },
  {
   "cell_type": "markdown",
   "metadata": {
    "deletable": true,
    "editable": true
   },
   "source": [
    "Láttuk, hogy egy sort a loc konstrukcióval kérhetünk le név szerint."
   ]
  },
  {
   "cell_type": "code",
   "execution_count": 10,
   "metadata": {
    "collapsed": false,
    "deletable": true,
    "editable": true
   },
   "outputs": [
    {
     "data": {
      "text/plain": [
       "Eszter        2\n",
       "Orsi          .\n",
       "Nem         fiú\n",
       "Kor          20\n",
       "Dátum     12:31\n",
       "Name: Bálint, dtype: object"
      ]
     },
     "execution_count": 10,
     "metadata": {},
     "output_type": "execute_result"
    }
   ],
   "source": [
    "df.loc['Bálint']"
   ]
  },
  {
   "cell_type": "markdown",
   "metadata": {
    "deletable": true,
    "editable": true
   },
   "source": [
    "Több sort az oszlopokhoz hasonlóan kérhetünk le."
   ]
  },
  {
   "cell_type": "code",
   "execution_count": 11,
   "metadata": {
    "collapsed": false,
    "deletable": true,
    "editable": true
   },
   "outputs": [
    {
     "data": {
      "text/html": [
       "<div>\n",
       "<style>\n",
       "    .dataframe thead tr:only-child th {\n",
       "        text-align: right;\n",
       "    }\n",
       "\n",
       "    .dataframe thead th {\n",
       "        text-align: left;\n",
       "    }\n",
       "\n",
       "    .dataframe tbody tr th {\n",
       "        vertical-align: top;\n",
       "    }\n",
       "</style>\n",
       "<table border=\"1\" class=\"dataframe\">\n",
       "  <thead>\n",
       "    <tr style=\"text-align: right;\">\n",
       "      <th></th>\n",
       "      <th>Eszter</th>\n",
       "      <th>Orsi</th>\n",
       "      <th>Nem</th>\n",
       "      <th>Kor</th>\n",
       "      <th>Dátum</th>\n",
       "    </tr>\n",
       "    <tr>\n",
       "      <th>Név</th>\n",
       "      <th></th>\n",
       "      <th></th>\n",
       "      <th></th>\n",
       "      <th></th>\n",
       "      <th></th>\n",
       "    </tr>\n",
       "  </thead>\n",
       "  <tbody>\n",
       "    <tr>\n",
       "      <th>Bálint</th>\n",
       "      <td>2</td>\n",
       "      <td>.</td>\n",
       "      <td>fiú</td>\n",
       "      <td>20</td>\n",
       "      <td>12:31</td>\n",
       "    </tr>\n",
       "    <tr>\n",
       "      <th>Csenge</th>\n",
       "      <td>4</td>\n",
       "      <td>4</td>\n",
       "      <td>lány</td>\n",
       "      <td>22</td>\n",
       "      <td>13:20</td>\n",
       "    </tr>\n",
       "  </tbody>\n",
       "</table>\n",
       "</div>"
      ],
      "text/plain": [
       "        Eszter Orsi   Nem  Kor  Dátum\n",
       "Név                                  \n",
       "Bálint       2    .   fiú   20  12:31\n",
       "Csenge       4    4  lány   22  13:20"
      ]
     },
     "execution_count": 11,
     "metadata": {},
     "output_type": "execute_result"
    }
   ],
   "source": [
    "df.loc[['Bálint','Csenge']]"
   ]
  },
  {
   "cell_type": "markdown",
   "metadata": {
    "deletable": true,
    "editable": true
   },
   "source": [
    "Aki szeretné ugyanúgy számokkal indexelni a *DataFrame*-et, mint egy *array*-t, annak erre az `iloc` biztosít lehetőséget. Nézzük meg az előző eléréseket `iloc`-kal!"
   ]
  },
  {
   "cell_type": "code",
   "execution_count": 12,
   "metadata": {
    "collapsed": false,
    "deletable": true,
    "editable": true
   },
   "outputs": [
    {
     "data": {
      "text/plain": [
       "Név\n",
       "Bálint    2\n",
       "Csenge    4\n",
       "István    5\n",
       "Zita      3\n",
       "Károly    4\n",
       "Name: Eszter, dtype: int64"
      ]
     },
     "execution_count": 12,
     "metadata": {},
     "output_type": "execute_result"
    }
   ],
   "source": [
    "df.iloc[:,0] # az első (0.) oszlop"
   ]
  },
  {
   "cell_type": "code",
   "execution_count": 13,
   "metadata": {
    "collapsed": false,
    "deletable": true,
    "editable": true
   },
   "outputs": [
    {
     "data": {
      "text/plain": [
       "2"
      ]
     },
     "execution_count": 13,
     "metadata": {},
     "output_type": "execute_result"
    }
   ],
   "source": [
    "df.iloc[0,0]  # az első sor első eleme"
   ]
  },
  {
   "cell_type": "markdown",
   "metadata": {
    "deletable": true,
    "editable": true
   },
   "source": [
    "A numpy tömböknél megismert minden indexelést tudunk itt használni."
   ]
  },
  {
   "cell_type": "code",
   "execution_count": 14,
   "metadata": {
    "collapsed": false,
    "deletable": true,
    "editable": true
   },
   "outputs": [
    {
     "data": {
      "text/html": [
       "<div>\n",
       "<style>\n",
       "    .dataframe thead tr:only-child th {\n",
       "        text-align: right;\n",
       "    }\n",
       "\n",
       "    .dataframe thead th {\n",
       "        text-align: left;\n",
       "    }\n",
       "\n",
       "    .dataframe tbody tr th {\n",
       "        vertical-align: top;\n",
       "    }\n",
       "</style>\n",
       "<table border=\"1\" class=\"dataframe\">\n",
       "  <thead>\n",
       "    <tr style=\"text-align: right;\">\n",
       "      <th></th>\n",
       "      <th>Kor</th>\n",
       "      <th>Dátum</th>\n",
       "    </tr>\n",
       "    <tr>\n",
       "      <th>Név</th>\n",
       "      <th></th>\n",
       "      <th></th>\n",
       "    </tr>\n",
       "  </thead>\n",
       "  <tbody>\n",
       "    <tr>\n",
       "      <th>Károly</th>\n",
       "      <td>21</td>\n",
       "      <td>14:55</td>\n",
       "    </tr>\n",
       "    <tr>\n",
       "      <th>Zita</th>\n",
       "      <td>20</td>\n",
       "      <td>14:50</td>\n",
       "    </tr>\n",
       "    <tr>\n",
       "      <th>István</th>\n",
       "      <td>19</td>\n",
       "      <td>12:35</td>\n",
       "    </tr>\n",
       "    <tr>\n",
       "      <th>Csenge</th>\n",
       "      <td>22</td>\n",
       "      <td>13:20</td>\n",
       "    </tr>\n",
       "    <tr>\n",
       "      <th>Bálint</th>\n",
       "      <td>20</td>\n",
       "      <td>12:31</td>\n",
       "    </tr>\n",
       "  </tbody>\n",
       "</table>\n",
       "</div>"
      ],
      "text/plain": [
       "        Kor  Dátum\n",
       "Név               \n",
       "Károly   21  14:55\n",
       "Zita     20  14:50\n",
       "István   19  12:35\n",
       "Csenge   22  13:20\n",
       "Bálint   20  12:31"
      ]
     },
     "execution_count": 14,
     "metadata": {},
     "output_type": "execute_result"
    }
   ],
   "source": [
    "df.iloc[::-1,3:5] "
   ]
  },
  {
   "cell_type": "markdown",
   "metadata": {
    "deletable": true,
    "editable": true
   },
   "source": [
    "Sőt, a *DataFrame* belsejét átalakíthatjuk *numpy* *array*-jé, és alkalmazhatjuk rá a korábban tanult módszereket :-)"
   ]
  },
  {
   "cell_type": "code",
   "execution_count": 15,
   "metadata": {
    "collapsed": false,
    "deletable": true,
    "editable": true
   },
   "outputs": [
    {
     "data": {
      "text/plain": [
       "array([[2, '.', 'fiú', 20, '12:31'],\n",
       "       [4, '4', 'lány', 22, '13:20'],\n",
       "       [5, '4', 'fiú', 19, '12:35'],\n",
       "       [3, '5', 'lány', 20, '14:50'],\n",
       "       [4, '.', 'fiú', 21, '14:55']], dtype=object)"
      ]
     },
     "execution_count": 15,
     "metadata": {},
     "output_type": "execute_result"
    }
   ],
   "source": [
    "df.values"
   ]
  },
  {
   "cell_type": "markdown",
   "metadata": {
    "deletable": true,
    "editable": true
   },
   "source": [
    "Név szerint lekérdezni az oszlopokat sokkal biztonságosabb, mint ha az oszlop sorszáma szerint kérdeznénk le (mint egy numpy tömbben) hiszen nem keverhetjük össze az indexeket!"
   ]
  },
  {
   "cell_type": "markdown",
   "metadata": {
    "deletable": true,
    "editable": true
   },
   "source": [
    "## Új sor/oszlop hozzáadása, törlés"
   ]
  },
  {
   "cell_type": "markdown",
   "metadata": {
    "deletable": true,
    "editable": true
   },
   "source": [
    "Ha új sort szeretnénk hozzáadni a táblázathoz, akkor a `.loc[\"Új_sor_indexe\"]` változónak egy, az oszlopok számával megegyező hosszúságú listát kell odaadnunk."
   ]
  },
  {
   "cell_type": "code",
   "execution_count": 16,
   "metadata": {
    "collapsed": false,
    "deletable": true,
    "editable": true
   },
   "outputs": [
    {
     "data": {
      "text/html": [
       "<div>\n",
       "<style>\n",
       "    .dataframe thead tr:only-child th {\n",
       "        text-align: right;\n",
       "    }\n",
       "\n",
       "    .dataframe thead th {\n",
       "        text-align: left;\n",
       "    }\n",
       "\n",
       "    .dataframe tbody tr th {\n",
       "        vertical-align: top;\n",
       "    }\n",
       "</style>\n",
       "<table border=\"1\" class=\"dataframe\">\n",
       "  <thead>\n",
       "    <tr style=\"text-align: right;\">\n",
       "      <th></th>\n",
       "      <th>Eszter</th>\n",
       "      <th>Orsi</th>\n",
       "      <th>Nem</th>\n",
       "      <th>Kor</th>\n",
       "      <th>Dátum</th>\n",
       "    </tr>\n",
       "    <tr>\n",
       "      <th>Név</th>\n",
       "      <th></th>\n",
       "      <th></th>\n",
       "      <th></th>\n",
       "      <th></th>\n",
       "      <th></th>\n",
       "    </tr>\n",
       "  </thead>\n",
       "  <tbody>\n",
       "    <tr>\n",
       "      <th>Bálint</th>\n",
       "      <td>2</td>\n",
       "      <td>.</td>\n",
       "      <td>fiú</td>\n",
       "      <td>20</td>\n",
       "      <td>12:31</td>\n",
       "    </tr>\n",
       "    <tr>\n",
       "      <th>Csenge</th>\n",
       "      <td>4</td>\n",
       "      <td>4</td>\n",
       "      <td>lány</td>\n",
       "      <td>22</td>\n",
       "      <td>13:20</td>\n",
       "    </tr>\n",
       "    <tr>\n",
       "      <th>István</th>\n",
       "      <td>5</td>\n",
       "      <td>4</td>\n",
       "      <td>fiú</td>\n",
       "      <td>19</td>\n",
       "      <td>12:35</td>\n",
       "    </tr>\n",
       "    <tr>\n",
       "      <th>Zita</th>\n",
       "      <td>3</td>\n",
       "      <td>5</td>\n",
       "      <td>lány</td>\n",
       "      <td>20</td>\n",
       "      <td>14:50</td>\n",
       "    </tr>\n",
       "    <tr>\n",
       "      <th>Károly</th>\n",
       "      <td>4</td>\n",
       "      <td>.</td>\n",
       "      <td>fiú</td>\n",
       "      <td>21</td>\n",
       "      <td>14:55</td>\n",
       "    </tr>\n",
       "    <tr>\n",
       "      <th>Dávid</th>\n",
       "      <td>5</td>\n",
       "      <td>5</td>\n",
       "      <td>fiú</td>\n",
       "      <td>20</td>\n",
       "      <td>12:32</td>\n",
       "    </tr>\n",
       "  </tbody>\n",
       "</table>\n",
       "</div>"
      ],
      "text/plain": [
       "        Eszter Orsi   Nem  Kor  Dátum\n",
       "Név                                  \n",
       "Bálint       2    .   fiú   20  12:31\n",
       "Csenge       4    4  lány   22  13:20\n",
       "István       5    4   fiú   19  12:35\n",
       "Zita         3    5  lány   20  14:50\n",
       "Károly       4    .   fiú   21  14:55\n",
       "Dávid        5    5   fiú   20  12:32"
      ]
     },
     "execution_count": 16,
     "metadata": {},
     "output_type": "execute_result"
    }
   ],
   "source": [
    "df.loc[\"Dávid\"]=[5,5,\"fiú\",20,'12:32']\n",
    "df"
   ]
  },
  {
   "cell_type": "markdown",
   "metadata": {
    "deletable": true,
    "editable": true
   },
   "source": [
    "Ha új oszlopot, akkor hasonlóan járunk el, de nem szükséges a `loc`, mert az a sorokat indexeli."
   ]
  },
  {
   "cell_type": "code",
   "execution_count": 17,
   "metadata": {
    "collapsed": false,
    "deletable": true,
    "editable": true
   },
   "outputs": [
    {
     "data": {
      "text/html": [
       "<div>\n",
       "<style>\n",
       "    .dataframe thead tr:only-child th {\n",
       "        text-align: right;\n",
       "    }\n",
       "\n",
       "    .dataframe thead th {\n",
       "        text-align: left;\n",
       "    }\n",
       "\n",
       "    .dataframe tbody tr th {\n",
       "        vertical-align: top;\n",
       "    }\n",
       "</style>\n",
       "<table border=\"1\" class=\"dataframe\">\n",
       "  <thead>\n",
       "    <tr style=\"text-align: right;\">\n",
       "      <th></th>\n",
       "      <th>Eszter</th>\n",
       "      <th>Orsi</th>\n",
       "      <th>Nem</th>\n",
       "      <th>Kor</th>\n",
       "      <th>Dátum</th>\n",
       "      <th>Emelt</th>\n",
       "    </tr>\n",
       "    <tr>\n",
       "      <th>Név</th>\n",
       "      <th></th>\n",
       "      <th></th>\n",
       "      <th></th>\n",
       "      <th></th>\n",
       "      <th></th>\n",
       "      <th></th>\n",
       "    </tr>\n",
       "  </thead>\n",
       "  <tbody>\n",
       "    <tr>\n",
       "      <th>Bálint</th>\n",
       "      <td>2</td>\n",
       "      <td>.</td>\n",
       "      <td>fiú</td>\n",
       "      <td>20</td>\n",
       "      <td>12:31</td>\n",
       "      <td>0</td>\n",
       "    </tr>\n",
       "    <tr>\n",
       "      <th>Csenge</th>\n",
       "      <td>4</td>\n",
       "      <td>4</td>\n",
       "      <td>lány</td>\n",
       "      <td>22</td>\n",
       "      <td>13:20</td>\n",
       "      <td>0</td>\n",
       "    </tr>\n",
       "    <tr>\n",
       "      <th>István</th>\n",
       "      <td>5</td>\n",
       "      <td>4</td>\n",
       "      <td>fiú</td>\n",
       "      <td>19</td>\n",
       "      <td>12:35</td>\n",
       "      <td>1</td>\n",
       "    </tr>\n",
       "    <tr>\n",
       "      <th>Zita</th>\n",
       "      <td>3</td>\n",
       "      <td>5</td>\n",
       "      <td>lány</td>\n",
       "      <td>20</td>\n",
       "      <td>14:50</td>\n",
       "      <td>1</td>\n",
       "    </tr>\n",
       "    <tr>\n",
       "      <th>Károly</th>\n",
       "      <td>4</td>\n",
       "      <td>.</td>\n",
       "      <td>fiú</td>\n",
       "      <td>21</td>\n",
       "      <td>14:55</td>\n",
       "      <td>0</td>\n",
       "    </tr>\n",
       "    <tr>\n",
       "      <th>Dávid</th>\n",
       "      <td>5</td>\n",
       "      <td>5</td>\n",
       "      <td>fiú</td>\n",
       "      <td>20</td>\n",
       "      <td>12:32</td>\n",
       "      <td>0</td>\n",
       "    </tr>\n",
       "  </tbody>\n",
       "</table>\n",
       "</div>"
      ],
      "text/plain": [
       "        Eszter Orsi   Nem  Kor  Dátum  Emelt\n",
       "Név                                         \n",
       "Bálint       2    .   fiú   20  12:31      0\n",
       "Csenge       4    4  lány   22  13:20      0\n",
       "István       5    4   fiú   19  12:35      1\n",
       "Zita         3    5  lány   20  14:50      1\n",
       "Károly       4    .   fiú   21  14:55      0\n",
       "Dávid        5    5   fiú   20  12:32      0"
      ]
     },
     "execution_count": 17,
     "metadata": {},
     "output_type": "execute_result"
    }
   ],
   "source": [
    "df[\"Emelt\"]=[0,0,1,1,0,0]\n",
    "df"
   ]
  },
  {
   "cell_type": "markdown",
   "metadata": {
    "deletable": true,
    "editable": true
   },
   "source": [
    "Ha sort szeretnénk törölni, a `drop` függvénnyel tehetjük meg. Itt használhatjuk az inplace opciót, ami mindig arra vonatkozik, hogy a függvényünk egy új DataFrame-mel tér-e vissza, vagy felülírja a már meglévőt."
   ]
  },
  {
   "cell_type": "code",
   "execution_count": 18,
   "metadata": {
    "collapsed": false,
    "deletable": true,
    "editable": true
   },
   "outputs": [
    {
     "data": {
      "text/html": [
       "<div>\n",
       "<style>\n",
       "    .dataframe thead tr:only-child th {\n",
       "        text-align: right;\n",
       "    }\n",
       "\n",
       "    .dataframe thead th {\n",
       "        text-align: left;\n",
       "    }\n",
       "\n",
       "    .dataframe tbody tr th {\n",
       "        vertical-align: top;\n",
       "    }\n",
       "</style>\n",
       "<table border=\"1\" class=\"dataframe\">\n",
       "  <thead>\n",
       "    <tr style=\"text-align: right;\">\n",
       "      <th></th>\n",
       "      <th>Eszter</th>\n",
       "      <th>Orsi</th>\n",
       "      <th>Nem</th>\n",
       "      <th>Kor</th>\n",
       "      <th>Dátum</th>\n",
       "      <th>Emelt</th>\n",
       "    </tr>\n",
       "    <tr>\n",
       "      <th>Név</th>\n",
       "      <th></th>\n",
       "      <th></th>\n",
       "      <th></th>\n",
       "      <th></th>\n",
       "      <th></th>\n",
       "      <th></th>\n",
       "    </tr>\n",
       "  </thead>\n",
       "  <tbody>\n",
       "    <tr>\n",
       "      <th>Csenge</th>\n",
       "      <td>4</td>\n",
       "      <td>4</td>\n",
       "      <td>lány</td>\n",
       "      <td>22</td>\n",
       "      <td>13:20</td>\n",
       "      <td>0</td>\n",
       "    </tr>\n",
       "    <tr>\n",
       "      <th>István</th>\n",
       "      <td>5</td>\n",
       "      <td>4</td>\n",
       "      <td>fiú</td>\n",
       "      <td>19</td>\n",
       "      <td>12:35</td>\n",
       "      <td>1</td>\n",
       "    </tr>\n",
       "    <tr>\n",
       "      <th>Zita</th>\n",
       "      <td>3</td>\n",
       "      <td>5</td>\n",
       "      <td>lány</td>\n",
       "      <td>20</td>\n",
       "      <td>14:50</td>\n",
       "      <td>1</td>\n",
       "    </tr>\n",
       "    <tr>\n",
       "      <th>Károly</th>\n",
       "      <td>4</td>\n",
       "      <td>.</td>\n",
       "      <td>fiú</td>\n",
       "      <td>21</td>\n",
       "      <td>14:55</td>\n",
       "      <td>0</td>\n",
       "    </tr>\n",
       "    <tr>\n",
       "      <th>Dávid</th>\n",
       "      <td>5</td>\n",
       "      <td>5</td>\n",
       "      <td>fiú</td>\n",
       "      <td>20</td>\n",
       "      <td>12:32</td>\n",
       "      <td>0</td>\n",
       "    </tr>\n",
       "  </tbody>\n",
       "</table>\n",
       "</div>"
      ],
      "text/plain": [
       "        Eszter Orsi   Nem  Kor  Dátum  Emelt\n",
       "Név                                         \n",
       "Csenge       4    4  lány   22  13:20      0\n",
       "István       5    4   fiú   19  12:35      1\n",
       "Zita         3    5  lány   20  14:50      1\n",
       "Károly       4    .   fiú   21  14:55      0\n",
       "Dávid        5    5   fiú   20  12:32      0"
      ]
     },
     "execution_count": 18,
     "metadata": {},
     "output_type": "execute_result"
    }
   ],
   "source": [
    "df.drop(\"Bálint\",inplace=True)\n",
    "df"
   ]
  },
  {
   "cell_type": "markdown",
   "metadata": {
    "deletable": true,
    "editable": true
   },
   "source": [
    "Ha oszlopot szeretnénk törölni, akkor ugyanígy tehetjük meg, csak más tengely mentén kell törölni. Figyeljük meg, hogy itt az inplace nélkül egy DataFrame-et kapunk visszatérési értékként."
   ]
  },
  {
   "cell_type": "code",
   "execution_count": 19,
   "metadata": {
    "collapsed": false,
    "deletable": true,
    "editable": true
   },
   "outputs": [
    {
     "data": {
      "text/html": [
       "<div>\n",
       "<style>\n",
       "    .dataframe thead tr:only-child th {\n",
       "        text-align: right;\n",
       "    }\n",
       "\n",
       "    .dataframe thead th {\n",
       "        text-align: left;\n",
       "    }\n",
       "\n",
       "    .dataframe tbody tr th {\n",
       "        vertical-align: top;\n",
       "    }\n",
       "</style>\n",
       "<table border=\"1\" class=\"dataframe\">\n",
       "  <thead>\n",
       "    <tr style=\"text-align: right;\">\n",
       "      <th></th>\n",
       "      <th>Eszter</th>\n",
       "      <th>Orsi</th>\n",
       "      <th>Nem</th>\n",
       "      <th>Kor</th>\n",
       "      <th>Dátum</th>\n",
       "    </tr>\n",
       "    <tr>\n",
       "      <th>Név</th>\n",
       "      <th></th>\n",
       "      <th></th>\n",
       "      <th></th>\n",
       "      <th></th>\n",
       "      <th></th>\n",
       "    </tr>\n",
       "  </thead>\n",
       "  <tbody>\n",
       "    <tr>\n",
       "      <th>Csenge</th>\n",
       "      <td>4</td>\n",
       "      <td>4</td>\n",
       "      <td>lány</td>\n",
       "      <td>22</td>\n",
       "      <td>13:20</td>\n",
       "    </tr>\n",
       "    <tr>\n",
       "      <th>István</th>\n",
       "      <td>5</td>\n",
       "      <td>4</td>\n",
       "      <td>fiú</td>\n",
       "      <td>19</td>\n",
       "      <td>12:35</td>\n",
       "    </tr>\n",
       "    <tr>\n",
       "      <th>Zita</th>\n",
       "      <td>3</td>\n",
       "      <td>5</td>\n",
       "      <td>lány</td>\n",
       "      <td>20</td>\n",
       "      <td>14:50</td>\n",
       "    </tr>\n",
       "    <tr>\n",
       "      <th>Károly</th>\n",
       "      <td>4</td>\n",
       "      <td>.</td>\n",
       "      <td>fiú</td>\n",
       "      <td>21</td>\n",
       "      <td>14:55</td>\n",
       "    </tr>\n",
       "    <tr>\n",
       "      <th>Dávid</th>\n",
       "      <td>5</td>\n",
       "      <td>5</td>\n",
       "      <td>fiú</td>\n",
       "      <td>20</td>\n",
       "      <td>12:32</td>\n",
       "    </tr>\n",
       "  </tbody>\n",
       "</table>\n",
       "</div>"
      ],
      "text/plain": [
       "        Eszter Orsi   Nem  Kor  Dátum\n",
       "Név                                  \n",
       "Csenge       4    4  lány   22  13:20\n",
       "István       5    4   fiú   19  12:35\n",
       "Zita         3    5  lány   20  14:50\n",
       "Károly       4    .   fiú   21  14:55\n",
       "Dávid        5    5   fiú   20  12:32"
      ]
     },
     "execution_count": 19,
     "metadata": {},
     "output_type": "execute_result"
    }
   ],
   "source": [
    "df.drop(\"Emelt\",axis=1)"
   ]
  },
  {
   "cell_type": "markdown",
   "metadata": {
    "deletable": true,
    "editable": true
   },
   "source": [
    "### Az oszlopnevek és a sornevek elérése"
   ]
  },
  {
   "cell_type": "markdown",
   "metadata": {
    "deletable": true,
    "editable": true
   },
   "source": [
    "Írassuk ki a táblázatunk oszlopainak a nevét!"
   ]
  },
  {
   "cell_type": "code",
   "execution_count": 20,
   "metadata": {
    "collapsed": false,
    "deletable": true,
    "editable": true
   },
   "outputs": [
    {
     "data": {
      "text/plain": [
       "Index(['Eszter', 'Orsi', 'Nem', 'Kor', 'Dátum', 'Emelt'], dtype='object')"
      ]
     },
     "execution_count": 20,
     "metadata": {},
     "output_type": "execute_result"
    }
   ],
   "source": [
    "df.columns"
   ]
  },
  {
   "cell_type": "markdown",
   "metadata": {
    "deletable": true,
    "editable": true
   },
   "source": [
    "Írassuk ki a táblázatunk sorainak a nevét!"
   ]
  },
  {
   "cell_type": "code",
   "execution_count": 21,
   "metadata": {
    "collapsed": false,
    "deletable": true,
    "editable": true
   },
   "outputs": [
    {
     "data": {
      "text/plain": [
       "Index(['Csenge', 'István', 'Zita', 'Károly', 'Dávid'], dtype='object', name='Név')"
      ]
     },
     "execution_count": 21,
     "metadata": {},
     "output_type": "execute_result"
    }
   ],
   "source": [
    "df.index"
   ]
  },
  {
   "cell_type": "markdown",
   "metadata": {
    "deletable": true,
    "editable": true
   },
   "source": [
    "Szükség lehet rá, hogy a fenti listákat tényleg Python-féle *list*-ként kapjuk vissza."
   ]
  },
  {
   "cell_type": "code",
   "execution_count": 22,
   "metadata": {
    "collapsed": false,
    "deletable": true,
    "editable": true
   },
   "outputs": [
    {
     "data": {
      "text/plain": [
       "['Eszter', 'Orsi', 'Nem', 'Kor', 'Dátum', 'Emelt']"
      ]
     },
     "execution_count": 22,
     "metadata": {},
     "output_type": "execute_result"
    }
   ],
   "source": [
    "df.columns.tolist()"
   ]
  },
  {
   "cell_type": "code",
   "execution_count": 23,
   "metadata": {
    "collapsed": false,
    "deletable": true,
    "editable": true
   },
   "outputs": [
    {
     "data": {
      "text/plain": [
       "['Eszter', 'Orsi', 'Nem', 'Kor', 'Dátum', 'Emelt']"
      ]
     },
     "execution_count": 23,
     "metadata": {},
     "output_type": "execute_result"
    }
   ],
   "source": [
    "list(df.columns)"
   ]
  },
  {
   "cell_type": "markdown",
   "metadata": {
    "deletable": true,
    "editable": true
   },
   "source": [
    "## Egyszerű műveletek"
   ]
  },
  {
   "cell_type": "markdown",
   "metadata": {
    "deletable": true,
    "editable": true
   },
   "source": [
    "A teljes DataFrame-mel csinálhatunk műveteleket, ha azok értelmesek."
   ]
  },
  {
   "cell_type": "code",
   "execution_count": 24,
   "metadata": {
    "collapsed": false,
    "deletable": true,
    "editable": true
   },
   "outputs": [
    {
     "data": {
      "text/html": [
       "<div>\n",
       "<style>\n",
       "    .dataframe thead tr:only-child th {\n",
       "        text-align: right;\n",
       "    }\n",
       "\n",
       "    .dataframe thead th {\n",
       "        text-align: left;\n",
       "    }\n",
       "\n",
       "    .dataframe tbody tr th {\n",
       "        vertical-align: top;\n",
       "    }\n",
       "</style>\n",
       "<table border=\"1\" class=\"dataframe\">\n",
       "  <thead>\n",
       "    <tr style=\"text-align: right;\">\n",
       "      <th></th>\n",
       "      <th>Eszter</th>\n",
       "      <th>Kor</th>\n",
       "    </tr>\n",
       "    <tr>\n",
       "      <th>Név</th>\n",
       "      <th></th>\n",
       "      <th></th>\n",
       "    </tr>\n",
       "  </thead>\n",
       "  <tbody>\n",
       "    <tr>\n",
       "      <th>Csenge</th>\n",
       "      <td>5</td>\n",
       "      <td>23</td>\n",
       "    </tr>\n",
       "    <tr>\n",
       "      <th>István</th>\n",
       "      <td>6</td>\n",
       "      <td>20</td>\n",
       "    </tr>\n",
       "    <tr>\n",
       "      <th>Zita</th>\n",
       "      <td>4</td>\n",
       "      <td>21</td>\n",
       "    </tr>\n",
       "    <tr>\n",
       "      <th>Károly</th>\n",
       "      <td>5</td>\n",
       "      <td>22</td>\n",
       "    </tr>\n",
       "    <tr>\n",
       "      <th>Dávid</th>\n",
       "      <td>6</td>\n",
       "      <td>21</td>\n",
       "    </tr>\n",
       "  </tbody>\n",
       "</table>\n",
       "</div>"
      ],
      "text/plain": [
       "        Eszter  Kor\n",
       "Név                \n",
       "Csenge       5   23\n",
       "István       6   20\n",
       "Zita         4   21\n",
       "Károly       5   22\n",
       "Dávid        6   21"
      ]
     },
     "execution_count": 24,
     "metadata": {},
     "output_type": "execute_result"
    }
   ],
   "source": [
    "sub_df=df[[\"Eszter\",\"Kor\"]]\n",
    "sub_df+1"
   ]
  },
  {
   "cell_type": "markdown",
   "metadata": {
    "deletable": true,
    "editable": true
   },
   "source": [
    "Az oszlopokkal műveleteket végezhetünk, mint a numpy tömbökkel."
   ]
  },
  {
   "cell_type": "code",
   "execution_count": 25,
   "metadata": {
    "collapsed": false,
    "deletable": true,
    "editable": true
   },
   "outputs": [
    {
     "data": {
      "text/plain": [
       "Név\n",
       "Csenge    2.000000\n",
       "István    2.333333\n",
       "Zita      1.666667\n",
       "Károly    2.000000\n",
       "Dávid     2.333333\n",
       "Name: Eszter, dtype: float64"
      ]
     },
     "execution_count": 25,
     "metadata": {},
     "output_type": "execute_result"
    }
   ],
   "source": [
    "(df['Eszter']+2)/3"
   ]
  },
  {
   "cell_type": "code",
   "execution_count": 26,
   "metadata": {
    "collapsed": false,
    "deletable": true,
    "editable": true
   },
   "outputs": [
    {
     "data": {
      "text/html": [
       "<div>\n",
       "<style>\n",
       "    .dataframe thead tr:only-child th {\n",
       "        text-align: right;\n",
       "    }\n",
       "\n",
       "    .dataframe thead th {\n",
       "        text-align: left;\n",
       "    }\n",
       "\n",
       "    .dataframe tbody tr th {\n",
       "        vertical-align: top;\n",
       "    }\n",
       "</style>\n",
       "<table border=\"1\" class=\"dataframe\">\n",
       "  <thead>\n",
       "    <tr style=\"text-align: right;\">\n",
       "      <th></th>\n",
       "      <th>Eszter</th>\n",
       "      <th>Orsi</th>\n",
       "      <th>Nem</th>\n",
       "      <th>Kor</th>\n",
       "      <th>Dátum</th>\n",
       "      <th>Emelt</th>\n",
       "    </tr>\n",
       "    <tr>\n",
       "      <th>Név</th>\n",
       "      <th></th>\n",
       "      <th></th>\n",
       "      <th></th>\n",
       "      <th></th>\n",
       "      <th></th>\n",
       "      <th></th>\n",
       "    </tr>\n",
       "  </thead>\n",
       "  <tbody>\n",
       "    <tr>\n",
       "      <th>Csenge</th>\n",
       "      <td>2.0</td>\n",
       "      <td>4</td>\n",
       "      <td>lány</td>\n",
       "      <td>22</td>\n",
       "      <td>13:20</td>\n",
       "      <td>0</td>\n",
       "    </tr>\n",
       "    <tr>\n",
       "      <th>István</th>\n",
       "      <td>2.5</td>\n",
       "      <td>4</td>\n",
       "      <td>fiú</td>\n",
       "      <td>19</td>\n",
       "      <td>12:35</td>\n",
       "      <td>1</td>\n",
       "    </tr>\n",
       "    <tr>\n",
       "      <th>Zita</th>\n",
       "      <td>1.5</td>\n",
       "      <td>5</td>\n",
       "      <td>lány</td>\n",
       "      <td>20</td>\n",
       "      <td>14:50</td>\n",
       "      <td>1</td>\n",
       "    </tr>\n",
       "    <tr>\n",
       "      <th>Károly</th>\n",
       "      <td>2.0</td>\n",
       "      <td>.</td>\n",
       "      <td>fiú</td>\n",
       "      <td>21</td>\n",
       "      <td>14:55</td>\n",
       "      <td>0</td>\n",
       "    </tr>\n",
       "    <tr>\n",
       "      <th>Dávid</th>\n",
       "      <td>2.5</td>\n",
       "      <td>5</td>\n",
       "      <td>fiú</td>\n",
       "      <td>20</td>\n",
       "      <td>12:32</td>\n",
       "      <td>0</td>\n",
       "    </tr>\n",
       "  </tbody>\n",
       "</table>\n",
       "</div>"
      ],
      "text/plain": [
       "        Eszter Orsi   Nem  Kor  Dátum  Emelt\n",
       "Név                                         \n",
       "Csenge     2.0    4  lány   22  13:20      0\n",
       "István     2.5    4   fiú   19  12:35      1\n",
       "Zita       1.5    5  lány   20  14:50      1\n",
       "Károly     2.0    .   fiú   21  14:55      0\n",
       "Dávid      2.5    5   fiú   20  12:32      0"
      ]
     },
     "execution_count": 26,
     "metadata": {},
     "output_type": "execute_result"
    }
   ],
   "source": [
    "df['Eszter']/=2\n",
    "df"
   ]
  },
  {
   "cell_type": "code",
   "execution_count": 27,
   "metadata": {
    "collapsed": false,
    "deletable": true,
    "editable": true
   },
   "outputs": [
    {
     "data": {
      "text/plain": [
       "Név\n",
       "Csenge    44.0\n",
       "István    47.5\n",
       "Zita      30.0\n",
       "Károly    42.0\n",
       "Dávid     50.0\n",
       "dtype: float64"
      ]
     },
     "execution_count": 27,
     "metadata": {},
     "output_type": "execute_result"
    }
   ],
   "source": [
    "df['Eszter']*df['Kor']"
   ]
  },
  {
   "cell_type": "markdown",
   "metadata": {
    "deletable": true,
    "editable": true
   },
   "source": [
    "A stringekkel is!"
   ]
  },
  {
   "cell_type": "code",
   "execution_count": 28,
   "metadata": {
    "collapsed": false,
    "deletable": true,
    "editable": true
   },
   "outputs": [
    {
     "data": {
      "text/plain": [
       "Név\n",
       "Csenge    lányka\n",
       "István     fiúka\n",
       "Zita      lányka\n",
       "Károly     fiúka\n",
       "Dávid      fiúka\n",
       "Name: Nem, dtype: object"
      ]
     },
     "execution_count": 28,
     "metadata": {},
     "output_type": "execute_result"
    }
   ],
   "source": [
    "df['Nem']+'ka'"
   ]
  },
  {
   "cell_type": "markdown",
   "metadata": {
    "deletable": true,
    "editable": true
   },
   "source": [
    "A sorokkal is."
   ]
  },
  {
   "cell_type": "code",
   "execution_count": 29,
   "metadata": {
    "collapsed": false,
    "deletable": true,
    "editable": true
   },
   "outputs": [
    {
     "data": {
      "text/plain": [
       "Eszter     8\n",
       "Kor       23\n",
       "Name: Dávid, dtype: int64"
      ]
     },
     "execution_count": 29,
     "metadata": {},
     "output_type": "execute_result"
    }
   ],
   "source": [
    "sub_df.loc[\"Dávid\"]+3"
   ]
  },
  {
   "cell_type": "markdown",
   "metadata": {
    "deletable": true,
    "editable": true
   },
   "source": [
    "## Beépített aggregáló függvények"
   ]
  },
  {
   "cell_type": "markdown",
   "metadata": {
    "deletable": true,
    "editable": true
   },
   "source": [
    "A *DataFrame*-re is könnyű néhány beépített függvény segítségével különböző aggregált értékeket számolni.\n",
    "\n",
    "Például álljon itt oszloponként a számok összege:"
   ]
  },
  {
   "cell_type": "code",
   "execution_count": 30,
   "metadata": {
    "collapsed": false,
    "deletable": true,
    "editable": true
   },
   "outputs": [
    {
     "data": {
      "text/plain": [
       "Eszter                         10.5\n",
       "Nem               lányfiúlányfiúfiú\n",
       "Kor                             102\n",
       "Dátum     13:2012:3514:5014:5512:32\n",
       "Emelt                             2\n",
       "dtype: object"
      ]
     },
     "execution_count": 30,
     "metadata": {},
     "output_type": "execute_result"
    }
   ],
   "source": [
    "df.sum()"
   ]
  },
  {
   "cell_type": "markdown",
   "metadata": {
    "deletable": true,
    "editable": true
   },
   "source": [
    "Mit tegyünk, ha ezt soronként szeretnénk visszakapni? Változtassuk meg az összegzés \"tengelyét\" (`axis`)! Az előző eset ugyanis az alapértelmezett `axis=0` volt, ami oszloponként végzi a műveletet. Csak a jegyeket tartalmazó oszlopokat összegezzük."
   ]
  },
  {
   "cell_type": "code",
   "execution_count": 31,
   "metadata": {
    "collapsed": false,
    "deletable": true,
    "editable": true
   },
   "outputs": [
    {
     "data": {
      "text/plain": [
       "Név\n",
       "Csenge    2.0\n",
       "István    2.5\n",
       "Zita      1.5\n",
       "Károly    2.0\n",
       "Dávid     2.5\n",
       "dtype: float64"
      ]
     },
     "execution_count": 31,
     "metadata": {},
     "output_type": "execute_result"
    }
   ],
   "source": [
    "df[[\"Eszter\",\"Orsi\"]].sum(axis=1)"
   ]
  },
  {
   "cell_type": "markdown",
   "metadata": {
    "deletable": true,
    "editable": true
   },
   "source": [
    "Számoltassuk meg, hány elem van az oszlopokban, illetve a sorokban!"
   ]
  },
  {
   "cell_type": "code",
   "execution_count": 32,
   "metadata": {
    "collapsed": false,
    "deletable": true,
    "editable": true
   },
   "outputs": [
    {
     "data": {
      "text/plain": [
       "Eszter    5\n",
       "Orsi      5\n",
       "Nem       5\n",
       "Kor       5\n",
       "Dátum     5\n",
       "Emelt     5\n",
       "dtype: int64"
      ]
     },
     "execution_count": 32,
     "metadata": {},
     "output_type": "execute_result"
    }
   ],
   "source": [
    "df.count()"
   ]
  },
  {
   "cell_type": "code",
   "execution_count": 33,
   "metadata": {
    "collapsed": false,
    "deletable": true,
    "editable": true
   },
   "outputs": [
    {
     "data": {
      "text/plain": [
       "Név\n",
       "Csenge    6\n",
       "István    6\n",
       "Zita      6\n",
       "Károly    6\n",
       "Dávid     6\n",
       "dtype: int64"
      ]
     },
     "execution_count": 33,
     "metadata": {},
     "output_type": "execute_result"
    }
   ],
   "source": [
    "df.count(axis=1)"
   ]
  },
  {
   "cell_type": "markdown",
   "metadata": {
    "deletable": true,
    "editable": true
   },
   "source": [
    "Ezt persze az *array*-hez hasonlóan is megtehettük volna:"
   ]
  },
  {
   "cell_type": "code",
   "execution_count": 34,
   "metadata": {
    "collapsed": false,
    "deletable": true,
    "editable": true
   },
   "outputs": [
    {
     "data": {
      "text/plain": [
       "(5, 6)"
      ]
     },
     "execution_count": 34,
     "metadata": {},
     "output_type": "execute_result"
    }
   ],
   "source": [
    "df.shape"
   ]
  },
  {
   "cell_type": "markdown",
   "metadata": {
    "deletable": true,
    "editable": true
   },
   "source": [
    "További ötletek beépített függvényekre: `mean, median, min, max, std`."
   ]
  },
  {
   "cell_type": "markdown",
   "metadata": {
    "deletable": true,
    "editable": true
   },
   "source": [
    "## Bool indexelés"
   ]
  },
  {
   "cell_type": "markdown",
   "metadata": {
    "deletable": true,
    "editable": true
   },
   "source": [
    "Nagyon gyakran előfordul, hogy a táblázatunkból csak bizonyos feltételeknek megfelelő sorokat szeretnénk látni. Ha a táblázat sorainak számával megegyező hosszú igaz/hamis sorozatot adunk meg a *DataFrame* mögötti szögletes zárójelben, akkor csak az igaz elemeket fogjuk visszakapni visszatérési értékként.\n",
    "\n",
    "Először nézzük meg, mi történik, ha megkérdezzük, hogy egy oszlop egyenlő-e egy értékkel:"
   ]
  },
  {
   "cell_type": "code",
   "execution_count": 35,
   "metadata": {
    "collapsed": false,
    "deletable": true,
    "editable": true
   },
   "outputs": [
    {
     "data": {
      "text/html": [
       "<div>\n",
       "<style>\n",
       "    .dataframe thead tr:only-child th {\n",
       "        text-align: right;\n",
       "    }\n",
       "\n",
       "    .dataframe thead th {\n",
       "        text-align: left;\n",
       "    }\n",
       "\n",
       "    .dataframe tbody tr th {\n",
       "        vertical-align: top;\n",
       "    }\n",
       "</style>\n",
       "<table border=\"1\" class=\"dataframe\">\n",
       "  <thead>\n",
       "    <tr style=\"text-align: right;\">\n",
       "      <th></th>\n",
       "      <th>Eszter</th>\n",
       "      <th>Orsi</th>\n",
       "      <th>Nem</th>\n",
       "      <th>Kor</th>\n",
       "      <th>Dátum</th>\n",
       "      <th>Emelt</th>\n",
       "    </tr>\n",
       "    <tr>\n",
       "      <th>Név</th>\n",
       "      <th></th>\n",
       "      <th></th>\n",
       "      <th></th>\n",
       "      <th></th>\n",
       "      <th></th>\n",
       "      <th></th>\n",
       "    </tr>\n",
       "  </thead>\n",
       "  <tbody>\n",
       "    <tr>\n",
       "      <th>Csenge</th>\n",
       "      <td>2.0</td>\n",
       "      <td>4</td>\n",
       "      <td>lány</td>\n",
       "      <td>22</td>\n",
       "      <td>13:20</td>\n",
       "      <td>0</td>\n",
       "    </tr>\n",
       "    <tr>\n",
       "      <th>István</th>\n",
       "      <td>2.5</td>\n",
       "      <td>4</td>\n",
       "      <td>fiú</td>\n",
       "      <td>19</td>\n",
       "      <td>12:35</td>\n",
       "      <td>1</td>\n",
       "    </tr>\n",
       "    <tr>\n",
       "      <th>Zita</th>\n",
       "      <td>1.5</td>\n",
       "      <td>5</td>\n",
       "      <td>lány</td>\n",
       "      <td>20</td>\n",
       "      <td>14:50</td>\n",
       "      <td>1</td>\n",
       "    </tr>\n",
       "    <tr>\n",
       "      <th>Károly</th>\n",
       "      <td>2.0</td>\n",
       "      <td>.</td>\n",
       "      <td>fiú</td>\n",
       "      <td>21</td>\n",
       "      <td>14:55</td>\n",
       "      <td>0</td>\n",
       "    </tr>\n",
       "    <tr>\n",
       "      <th>Dávid</th>\n",
       "      <td>2.5</td>\n",
       "      <td>5</td>\n",
       "      <td>fiú</td>\n",
       "      <td>20</td>\n",
       "      <td>12:32</td>\n",
       "      <td>0</td>\n",
       "    </tr>\n",
       "  </tbody>\n",
       "</table>\n",
       "</div>"
      ],
      "text/plain": [
       "        Eszter Orsi   Nem  Kor  Dátum  Emelt\n",
       "Név                                         \n",
       "Csenge     2.0    4  lány   22  13:20      0\n",
       "István     2.5    4   fiú   19  12:35      1\n",
       "Zita       1.5    5  lány   20  14:50      1\n",
       "Károly     2.0    .   fiú   21  14:55      0\n",
       "Dávid      2.5    5   fiú   20  12:32      0"
      ]
     },
     "execution_count": 35,
     "metadata": {},
     "output_type": "execute_result"
    }
   ],
   "source": [
    "df"
   ]
  },
  {
   "cell_type": "code",
   "execution_count": 36,
   "metadata": {
    "collapsed": false,
    "deletable": true,
    "editable": true
   },
   "outputs": [
    {
     "data": {
      "text/plain": [
       "Név\n",
       "Csenge     True\n",
       "István    False\n",
       "Zita       True\n",
       "Károly    False\n",
       "Dávid     False\n",
       "Name: Nem, dtype: bool"
      ]
     },
     "execution_count": 36,
     "metadata": {},
     "output_type": "execute_result"
    }
   ],
   "source": [
    "df[\"Nem\"]==\"lány\""
   ]
  },
  {
   "cell_type": "markdown",
   "metadata": {
    "deletable": true,
    "editable": true
   },
   "source": [
    "Láttuk, hogy minden sorhoz kaptunk egy igaz/hamis értéket. Most a fenti kifejezést beírjuk a `[]`-be:"
   ]
  },
  {
   "cell_type": "code",
   "execution_count": 37,
   "metadata": {
    "collapsed": false,
    "deletable": true,
    "editable": true
   },
   "outputs": [
    {
     "data": {
      "text/html": [
       "<div>\n",
       "<style>\n",
       "    .dataframe thead tr:only-child th {\n",
       "        text-align: right;\n",
       "    }\n",
       "\n",
       "    .dataframe thead th {\n",
       "        text-align: left;\n",
       "    }\n",
       "\n",
       "    .dataframe tbody tr th {\n",
       "        vertical-align: top;\n",
       "    }\n",
       "</style>\n",
       "<table border=\"1\" class=\"dataframe\">\n",
       "  <thead>\n",
       "    <tr style=\"text-align: right;\">\n",
       "      <th></th>\n",
       "      <th>Eszter</th>\n",
       "      <th>Orsi</th>\n",
       "      <th>Nem</th>\n",
       "      <th>Kor</th>\n",
       "      <th>Dátum</th>\n",
       "      <th>Emelt</th>\n",
       "    </tr>\n",
       "    <tr>\n",
       "      <th>Név</th>\n",
       "      <th></th>\n",
       "      <th></th>\n",
       "      <th></th>\n",
       "      <th></th>\n",
       "      <th></th>\n",
       "      <th></th>\n",
       "    </tr>\n",
       "  </thead>\n",
       "  <tbody>\n",
       "    <tr>\n",
       "      <th>Csenge</th>\n",
       "      <td>2.0</td>\n",
       "      <td>4</td>\n",
       "      <td>lány</td>\n",
       "      <td>22</td>\n",
       "      <td>13:20</td>\n",
       "      <td>0</td>\n",
       "    </tr>\n",
       "    <tr>\n",
       "      <th>Zita</th>\n",
       "      <td>1.5</td>\n",
       "      <td>5</td>\n",
       "      <td>lány</td>\n",
       "      <td>20</td>\n",
       "      <td>14:50</td>\n",
       "      <td>1</td>\n",
       "    </tr>\n",
       "  </tbody>\n",
       "</table>\n",
       "</div>"
      ],
      "text/plain": [
       "        Eszter Orsi   Nem  Kor  Dátum  Emelt\n",
       "Név                                         \n",
       "Csenge     2.0    4  lány   22  13:20      0\n",
       "Zita       1.5    5  lány   20  14:50      1"
      ]
     },
     "execution_count": 37,
     "metadata": {},
     "output_type": "execute_result"
    }
   ],
   "source": [
    "df[df[\"Nem\"]==\"lány\"]"
   ]
  },
  {
   "cell_type": "markdown",
   "metadata": {
    "deletable": true,
    "editable": true
   },
   "source": [
    "De más feltételt is megadhatunk, például hogy kinek adott Eszter 2-esnél jobb jegyet."
   ]
  },
  {
   "cell_type": "code",
   "execution_count": 38,
   "metadata": {
    "collapsed": false,
    "deletable": true,
    "editable": true
   },
   "outputs": [
    {
     "data": {
      "text/html": [
       "<div>\n",
       "<style>\n",
       "    .dataframe thead tr:only-child th {\n",
       "        text-align: right;\n",
       "    }\n",
       "\n",
       "    .dataframe thead th {\n",
       "        text-align: left;\n",
       "    }\n",
       "\n",
       "    .dataframe tbody tr th {\n",
       "        vertical-align: top;\n",
       "    }\n",
       "</style>\n",
       "<table border=\"1\" class=\"dataframe\">\n",
       "  <thead>\n",
       "    <tr style=\"text-align: right;\">\n",
       "      <th></th>\n",
       "      <th>Eszter</th>\n",
       "      <th>Orsi</th>\n",
       "      <th>Nem</th>\n",
       "      <th>Kor</th>\n",
       "      <th>Dátum</th>\n",
       "      <th>Emelt</th>\n",
       "    </tr>\n",
       "    <tr>\n",
       "      <th>Név</th>\n",
       "      <th></th>\n",
       "      <th></th>\n",
       "      <th></th>\n",
       "      <th></th>\n",
       "      <th></th>\n",
       "      <th></th>\n",
       "    </tr>\n",
       "  </thead>\n",
       "  <tbody>\n",
       "    <tr>\n",
       "      <th>István</th>\n",
       "      <td>2.5</td>\n",
       "      <td>4</td>\n",
       "      <td>fiú</td>\n",
       "      <td>19</td>\n",
       "      <td>12:35</td>\n",
       "      <td>1</td>\n",
       "    </tr>\n",
       "    <tr>\n",
       "      <th>Dávid</th>\n",
       "      <td>2.5</td>\n",
       "      <td>5</td>\n",
       "      <td>fiú</td>\n",
       "      <td>20</td>\n",
       "      <td>12:32</td>\n",
       "      <td>0</td>\n",
       "    </tr>\n",
       "  </tbody>\n",
       "</table>\n",
       "</div>"
      ],
      "text/plain": [
       "        Eszter Orsi  Nem  Kor  Dátum  Emelt\n",
       "Név                                        \n",
       "István     2.5    4  fiú   19  12:35      1\n",
       "Dávid      2.5    5  fiú   20  12:32      0"
      ]
     },
     "execution_count": 38,
     "metadata": {},
     "output_type": "execute_result"
    }
   ],
   "source": [
    "df[df[\"Eszter\"]>2]"
   ]
  },
  {
   "cell_type": "markdown",
   "metadata": {
    "deletable": true,
    "editable": true
   },
   "source": [
    "Két feltételt összefűzhetünk egymáshoz, ilyenkor a `&` és a `|` operátorokat használjuk **and** és **or** helyett, mert azok nem tudnak két sorozatot elemenként összehasonlítani. A feltételeket zárójelbe kell tenni, különben hibát kapunk.\n",
    "\n",
    "Ezek alapján az, akinek Eszter kettesnél jobbat adott, és idősebb 19 évesnél:"
   ]
  },
  {
   "cell_type": "code",
   "execution_count": 39,
   "metadata": {
    "collapsed": false,
    "deletable": true,
    "editable": true
   },
   "outputs": [
    {
     "data": {
      "text/html": [
       "<div>\n",
       "<style>\n",
       "    .dataframe thead tr:only-child th {\n",
       "        text-align: right;\n",
       "    }\n",
       "\n",
       "    .dataframe thead th {\n",
       "        text-align: left;\n",
       "    }\n",
       "\n",
       "    .dataframe tbody tr th {\n",
       "        vertical-align: top;\n",
       "    }\n",
       "</style>\n",
       "<table border=\"1\" class=\"dataframe\">\n",
       "  <thead>\n",
       "    <tr style=\"text-align: right;\">\n",
       "      <th></th>\n",
       "      <th>Eszter</th>\n",
       "      <th>Orsi</th>\n",
       "      <th>Nem</th>\n",
       "      <th>Kor</th>\n",
       "      <th>Dátum</th>\n",
       "      <th>Emelt</th>\n",
       "    </tr>\n",
       "    <tr>\n",
       "      <th>Név</th>\n",
       "      <th></th>\n",
       "      <th></th>\n",
       "      <th></th>\n",
       "      <th></th>\n",
       "      <th></th>\n",
       "      <th></th>\n",
       "    </tr>\n",
       "  </thead>\n",
       "  <tbody>\n",
       "    <tr>\n",
       "      <th>Dávid</th>\n",
       "      <td>2.5</td>\n",
       "      <td>5</td>\n",
       "      <td>fiú</td>\n",
       "      <td>20</td>\n",
       "      <td>12:32</td>\n",
       "      <td>0</td>\n",
       "    </tr>\n",
       "  </tbody>\n",
       "</table>\n",
       "</div>"
      ],
      "text/plain": [
       "       Eszter Orsi  Nem  Kor  Dátum  Emelt\n",
       "Név                                       \n",
       "Dávid     2.5    5  fiú   20  12:32      0"
      ]
     },
     "execution_count": 39,
     "metadata": {},
     "output_type": "execute_result"
    }
   ],
   "source": [
    "df[(df[\"Eszter\"]>2) & (df[\"Kor\"]>19)]"
   ]
  },
  {
   "cell_type": "markdown",
   "metadata": {
    "deletable": true,
    "editable": true
   },
   "source": [
    "## Sorba rendezés"
   ]
  },
  {
   "cell_type": "markdown",
   "metadata": {
    "deletable": true,
    "editable": true
   },
   "source": [
    "Szükségünk lehet arra, hogy a táblázatunkat sorba rendezzük valamelyik oszlop szerint. Ilyenkor a `sort_values(by=\"oszlop_neve\")` függvényt használjuk, melynek megadhatjuk, hogy növekvő (`ascending=True`), vagy csökkenő (`ascending=False`) sorrendben szeretnénk-e a rendezést.\n",
    "\n",
    "A függvény visszatérési értéke a rendezett táblázat."
   ]
  },
  {
   "cell_type": "code",
   "execution_count": 40,
   "metadata": {
    "collapsed": false,
    "deletable": true,
    "editable": true
   },
   "outputs": [
    {
     "data": {
      "text/html": [
       "<div>\n",
       "<style>\n",
       "    .dataframe thead tr:only-child th {\n",
       "        text-align: right;\n",
       "    }\n",
       "\n",
       "    .dataframe thead th {\n",
       "        text-align: left;\n",
       "    }\n",
       "\n",
       "    .dataframe tbody tr th {\n",
       "        vertical-align: top;\n",
       "    }\n",
       "</style>\n",
       "<table border=\"1\" class=\"dataframe\">\n",
       "  <thead>\n",
       "    <tr style=\"text-align: right;\">\n",
       "      <th></th>\n",
       "      <th>Eszter</th>\n",
       "      <th>Orsi</th>\n",
       "      <th>Nem</th>\n",
       "      <th>Kor</th>\n",
       "      <th>Dátum</th>\n",
       "      <th>Emelt</th>\n",
       "    </tr>\n",
       "    <tr>\n",
       "      <th>Név</th>\n",
       "      <th></th>\n",
       "      <th></th>\n",
       "      <th></th>\n",
       "      <th></th>\n",
       "      <th></th>\n",
       "      <th></th>\n",
       "    </tr>\n",
       "  </thead>\n",
       "  <tbody>\n",
       "    <tr>\n",
       "      <th>Csenge</th>\n",
       "      <td>2.0</td>\n",
       "      <td>4</td>\n",
       "      <td>lány</td>\n",
       "      <td>22</td>\n",
       "      <td>13:20</td>\n",
       "      <td>0</td>\n",
       "    </tr>\n",
       "    <tr>\n",
       "      <th>Károly</th>\n",
       "      <td>2.0</td>\n",
       "      <td>.</td>\n",
       "      <td>fiú</td>\n",
       "      <td>21</td>\n",
       "      <td>14:55</td>\n",
       "      <td>0</td>\n",
       "    </tr>\n",
       "    <tr>\n",
       "      <th>Zita</th>\n",
       "      <td>1.5</td>\n",
       "      <td>5</td>\n",
       "      <td>lány</td>\n",
       "      <td>20</td>\n",
       "      <td>14:50</td>\n",
       "      <td>1</td>\n",
       "    </tr>\n",
       "    <tr>\n",
       "      <th>Dávid</th>\n",
       "      <td>2.5</td>\n",
       "      <td>5</td>\n",
       "      <td>fiú</td>\n",
       "      <td>20</td>\n",
       "      <td>12:32</td>\n",
       "      <td>0</td>\n",
       "    </tr>\n",
       "    <tr>\n",
       "      <th>István</th>\n",
       "      <td>2.5</td>\n",
       "      <td>4</td>\n",
       "      <td>fiú</td>\n",
       "      <td>19</td>\n",
       "      <td>12:35</td>\n",
       "      <td>1</td>\n",
       "    </tr>\n",
       "  </tbody>\n",
       "</table>\n",
       "</div>"
      ],
      "text/plain": [
       "        Eszter Orsi   Nem  Kor  Dátum  Emelt\n",
       "Név                                         \n",
       "Csenge     2.0    4  lány   22  13:20      0\n",
       "Károly     2.0    .   fiú   21  14:55      0\n",
       "Zita       1.5    5  lány   20  14:50      1\n",
       "Dávid      2.5    5   fiú   20  12:32      0\n",
       "István     2.5    4   fiú   19  12:35      1"
      ]
     },
     "execution_count": 40,
     "metadata": {},
     "output_type": "execute_result"
    }
   ],
   "source": [
    "df.sort_values(by=\"Kor\",ascending=False)"
   ]
  },
  {
   "cell_type": "markdown",
   "metadata": {
    "deletable": true,
    "editable": true
   },
   "source": [
    "Sorba rendezhetünk több oszlop szerint is."
   ]
  },
  {
   "cell_type": "code",
   "execution_count": 41,
   "metadata": {
    "collapsed": false,
    "deletable": true,
    "editable": true
   },
   "outputs": [
    {
     "data": {
      "text/html": [
       "<div>\n",
       "<style>\n",
       "    .dataframe thead tr:only-child th {\n",
       "        text-align: right;\n",
       "    }\n",
       "\n",
       "    .dataframe thead th {\n",
       "        text-align: left;\n",
       "    }\n",
       "\n",
       "    .dataframe tbody tr th {\n",
       "        vertical-align: top;\n",
       "    }\n",
       "</style>\n",
       "<table border=\"1\" class=\"dataframe\">\n",
       "  <thead>\n",
       "    <tr style=\"text-align: right;\">\n",
       "      <th></th>\n",
       "      <th>Eszter</th>\n",
       "      <th>Orsi</th>\n",
       "      <th>Nem</th>\n",
       "      <th>Kor</th>\n",
       "      <th>Dátum</th>\n",
       "      <th>Emelt</th>\n",
       "    </tr>\n",
       "    <tr>\n",
       "      <th>Név</th>\n",
       "      <th></th>\n",
       "      <th></th>\n",
       "      <th></th>\n",
       "      <th></th>\n",
       "      <th></th>\n",
       "      <th></th>\n",
       "    </tr>\n",
       "  </thead>\n",
       "  <tbody>\n",
       "    <tr>\n",
       "      <th>Dávid</th>\n",
       "      <td>2.5</td>\n",
       "      <td>5</td>\n",
       "      <td>fiú</td>\n",
       "      <td>20</td>\n",
       "      <td>12:32</td>\n",
       "      <td>0</td>\n",
       "    </tr>\n",
       "    <tr>\n",
       "      <th>Károly</th>\n",
       "      <td>2.0</td>\n",
       "      <td>.</td>\n",
       "      <td>fiú</td>\n",
       "      <td>21</td>\n",
       "      <td>14:55</td>\n",
       "      <td>0</td>\n",
       "    </tr>\n",
       "    <tr>\n",
       "      <th>István</th>\n",
       "      <td>2.5</td>\n",
       "      <td>4</td>\n",
       "      <td>fiú</td>\n",
       "      <td>19</td>\n",
       "      <td>12:35</td>\n",
       "      <td>1</td>\n",
       "    </tr>\n",
       "    <tr>\n",
       "      <th>Csenge</th>\n",
       "      <td>2.0</td>\n",
       "      <td>4</td>\n",
       "      <td>lány</td>\n",
       "      <td>22</td>\n",
       "      <td>13:20</td>\n",
       "      <td>0</td>\n",
       "    </tr>\n",
       "    <tr>\n",
       "      <th>Zita</th>\n",
       "      <td>1.5</td>\n",
       "      <td>5</td>\n",
       "      <td>lány</td>\n",
       "      <td>20</td>\n",
       "      <td>14:50</td>\n",
       "      <td>1</td>\n",
       "    </tr>\n",
       "  </tbody>\n",
       "</table>\n",
       "</div>"
      ],
      "text/plain": [
       "        Eszter Orsi   Nem  Kor  Dátum  Emelt\n",
       "Név                                         \n",
       "Dávid      2.5    5   fiú   20  12:32      0\n",
       "Károly     2.0    .   fiú   21  14:55      0\n",
       "István     2.5    4   fiú   19  12:35      1\n",
       "Csenge     2.0    4  lány   22  13:20      0\n",
       "Zita       1.5    5  lány   20  14:50      1"
      ]
     },
     "execution_count": 41,
     "metadata": {},
     "output_type": "execute_result"
    }
   ],
   "source": [
    "df.sort_values(by=[\"Orsi\",\"Kor\"],ascending=True)"
   ]
  },
  {
   "cell_type": "markdown",
   "metadata": {
    "deletable": true,
    "editable": true
   },
   "source": [
    "Ha azt szeretnénk, hogy az eredeti *DataFrame*-ben rendezve tárolódjanak el a sorok, be kell kapcsolnunk az `inplace=True` paramétert, ami felülírja a *DataFrame*-et a rendezés után."
   ]
  },
  {
   "cell_type": "code",
   "execution_count": 42,
   "metadata": {
    "collapsed": false,
    "deletable": true,
    "editable": true
   },
   "outputs": [],
   "source": [
    "df.sort_values(by=\"Kor\",ascending=False,inplace=True)"
   ]
  },
  {
   "cell_type": "markdown",
   "metadata": {
    "deletable": true,
    "editable": true
   },
   "source": [
    "Persze, ezt elérhettük volna szokásos értékadással is."
   ]
  },
  {
   "cell_type": "code",
   "execution_count": 43,
   "metadata": {
    "collapsed": true,
    "deletable": true,
    "editable": true
   },
   "outputs": [],
   "source": [
    "df=df.sort_values(by=\"Kor\",ascending=False)"
   ]
  },
  {
   "cell_type": "markdown",
   "metadata": {
    "deletable": true,
    "editable": true
   },
   "source": [
    "Ha a *DataFrame* indexe szerint szeretnénk sorba rendezni, akkor a `sort_index()` függvény segít (itt is választhatjuk, hogy helyben szeretnénk-e a rendezést az `inplace=True` segítségével):"
   ]
  },
  {
   "cell_type": "code",
   "execution_count": 44,
   "metadata": {
    "collapsed": false,
    "deletable": true,
    "editable": true
   },
   "outputs": [],
   "source": [
    "df.sort_index(inplace=True)"
   ]
  },
  {
   "cell_type": "code",
   "execution_count": 45,
   "metadata": {
    "collapsed": false
   },
   "outputs": [
    {
     "data": {
      "text/html": [
       "<div>\n",
       "<style>\n",
       "    .dataframe thead tr:only-child th {\n",
       "        text-align: right;\n",
       "    }\n",
       "\n",
       "    .dataframe thead th {\n",
       "        text-align: left;\n",
       "    }\n",
       "\n",
       "    .dataframe tbody tr th {\n",
       "        vertical-align: top;\n",
       "    }\n",
       "</style>\n",
       "<table border=\"1\" class=\"dataframe\">\n",
       "  <thead>\n",
       "    <tr style=\"text-align: right;\">\n",
       "      <th></th>\n",
       "      <th>Eszter</th>\n",
       "      <th>Orsi</th>\n",
       "      <th>Nem</th>\n",
       "      <th>Kor</th>\n",
       "      <th>Dátum</th>\n",
       "      <th>Emelt</th>\n",
       "    </tr>\n",
       "    <tr>\n",
       "      <th>Név</th>\n",
       "      <th></th>\n",
       "      <th></th>\n",
       "      <th></th>\n",
       "      <th></th>\n",
       "      <th></th>\n",
       "      <th></th>\n",
       "    </tr>\n",
       "  </thead>\n",
       "  <tbody>\n",
       "    <tr>\n",
       "      <th>Csenge</th>\n",
       "      <td>2.0</td>\n",
       "      <td>4</td>\n",
       "      <td>lány</td>\n",
       "      <td>22</td>\n",
       "      <td>13:20</td>\n",
       "      <td>0</td>\n",
       "    </tr>\n",
       "    <tr>\n",
       "      <th>Dávid</th>\n",
       "      <td>2.5</td>\n",
       "      <td>5</td>\n",
       "      <td>fiú</td>\n",
       "      <td>20</td>\n",
       "      <td>12:32</td>\n",
       "      <td>0</td>\n",
       "    </tr>\n",
       "    <tr>\n",
       "      <th>István</th>\n",
       "      <td>2.5</td>\n",
       "      <td>4</td>\n",
       "      <td>fiú</td>\n",
       "      <td>19</td>\n",
       "      <td>12:35</td>\n",
       "      <td>1</td>\n",
       "    </tr>\n",
       "    <tr>\n",
       "      <th>Károly</th>\n",
       "      <td>2.0</td>\n",
       "      <td>.</td>\n",
       "      <td>fiú</td>\n",
       "      <td>21</td>\n",
       "      <td>14:55</td>\n",
       "      <td>0</td>\n",
       "    </tr>\n",
       "    <tr>\n",
       "      <th>Zita</th>\n",
       "      <td>1.5</td>\n",
       "      <td>5</td>\n",
       "      <td>lány</td>\n",
       "      <td>20</td>\n",
       "      <td>14:50</td>\n",
       "      <td>1</td>\n",
       "    </tr>\n",
       "  </tbody>\n",
       "</table>\n",
       "</div>"
      ],
      "text/plain": [
       "        Eszter Orsi   Nem  Kor  Dátum  Emelt\n",
       "Név                                         \n",
       "Csenge     2.0    4  lány   22  13:20      0\n",
       "Dávid      2.5    5   fiú   20  12:32      0\n",
       "István     2.5    4   fiú   19  12:35      1\n",
       "Károly     2.0    .   fiú   21  14:55      0\n",
       "Zita       1.5    5  lány   20  14:50      1"
      ]
     },
     "execution_count": 45,
     "metadata": {},
     "output_type": "execute_result"
    }
   ],
   "source": [
    "df"
   ]
  },
  {
   "cell_type": "code",
   "execution_count": null,
   "metadata": {
    "collapsed": true
   },
   "outputs": [],
   "source": []
  }
 ],
 "metadata": {
  "anaconda-cloud": {},
  "hide_input": false,
  "kernelspec": {
   "display_name": "Python 3",
   "language": "python",
   "name": "python3"
  },
  "language_info": {
   "codemirror_mode": {
    "name": "ipython",
    "version": 3
   },
   "file_extension": ".py",
   "mimetype": "text/x-python",
   "name": "python",
   "nbconvert_exporter": "python",
   "pygments_lexer": "ipython3",
   "version": "3.5.2"
  },
  "toc": {
   "toc_cell": false,
   "toc_number_sections": false,
   "toc_section_display": "block",
   "toc_threshold": 6,
   "toc_window_display": false
  }
 },
 "nbformat": 4,
 "nbformat_minor": 0
}
