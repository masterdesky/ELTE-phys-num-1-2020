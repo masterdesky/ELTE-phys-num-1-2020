{
 "cells": [
  {
   "cell_type": "markdown",
   "metadata": {},
   "source": [
    "# Feladatok\n",
    "- Minden feladatot külön notebookba oldj meg! \n",
    "- A megoldásnotebook **neve** tartalmazza a feladat **számát**! \n",
    "- A megoldasok kerüljenek a **MEGOLDASOK mappába**!<br> Csak azok a feladatok kerülnek elbírálásra amelyek a MEGOLDASOK mappában vannak!\n",
    "- A megoldás tartalmazza a megoldandó **feladat szövegét** a megoldás notebook első `markdown` cellájában! \n",
    "- **Kommentekkel** illetve `markdown` cellákkal magyarázd hogy éppen mit csinál az adott kódrészlet!<br> Magyarázat nélkül beküldött feladatok csak fél feladatnak számítanak!\n",
    "---"
   ]
  },
  {
   "cell_type": "markdown",
   "metadata": {},
   "source": [
    "## 01-if \n",
    "\n",
    "Írjunk egy **if** tömböt amely a *nap* az *ora* és *fiulany* valltozók megadott értékei alapján eldönti, hogy épp az adott időben a kérdéses személy mit csinál. Az if tömb válasza az alábbiak szerint osztandó ki:\n",
    "- A fiúk is és a lányok is hétköznap délelőtt tanulnak.\n",
    "- A lányok délután 2 és 4 között teáznak, egyébként babáznak.\n",
    "- A fiúk 12 és 4 között fociznak, 4 től golyóznak.\n",
    "- Hétvégén mindenki kirándul. A fiuk a hegyekbe, a lányok a tengerhez mennek szombaton, de vasárnap fordítva.\n",
    "- Mindennap mindenki 8-kor megy aludni, és reggel 8 kor kel."
   ]
  },
  {
   "cell_type": "code",
   "execution_count": null,
   "metadata": {
    "collapsed": true
   },
   "outputs": [],
   "source": [
    "nap='hetfo'   #az alabbi ertekekre keszuljunk fel: hetfo,kedd,szerda,csutortok,pentek,szombat,vasarnap\n",
    "ora=11        #az ora valltozo 0-24-ig egy egesz szam\n",
    "fiulany='fiu' #vagy 'fiu' vagy 'lany'"
   ]
  },
  {
   "cell_type": "markdown",
   "metadata": {},
   "source": [
    "## 02-for\n",
    "Az alábbi három tömbről döntsük el, hogy a Fibonacci-sorozat részét képezik-e ! A tömbök első két eleme garantáltan jó sorrendben részei a Fibonacci sorozatnak! \n",
    "- Írjunk egy kód részletet ami `for` ciklus(ok) segítségével dönti el a vizsgálandó kérdést.\n",
    "- Markdown cellába fejtsük tapasztalatainkat szóban is. \n",
    "  - Melyik lista része a Fibonacchi-sorozatnak ?\n",
    "  - Ha valamelyik nem része akkor azt is tárgyaljuk hogy miért nem az!"
   ]
  },
  {
   "cell_type": "code",
   "execution_count": null,
   "metadata": {
    "collapsed": true
   },
   "outputs": [],
   "source": [
    "a=[12586269025, 20365011074, 32951280099, 53316291173, 86267571272, 139583862445, 225851433717,365435296162, 591286729879,\n",
    "   956722026041, 1548008755920, 2504730781961, 4052739537881, 6557470319842, 10610209857723, 17167680177565, 27777890035288,\n",
    " 44945570212853, 72723460248141, 117669030460994]\n",
    "\n",
    "b=[832040, 1346269, 2175309, 3524578, 5702887, 9227465, 14930352, 24157817, 39088169, 63245986]\n",
    "\n",
    "c=[267914296, 433494437, 701408733, 1134903170, 1836311903, 2971215073, 4807526976,7778742049,\n",
    "   12586269025, 20365011074, 32951280099, 53316291173, 86267571272]"
   ]
  },
  {
   "cell_type": "markdown",
   "metadata": {},
   "source": [
    "## 03-Mértani sorozat\n",
    "Írjunk egy függvényt, amely egy kezdőértékből, egy kvóciensből és egy N egész számból legyárt egy N hoszú mértani sorozatot.\n",
    "- Írjunk **docstringet**!\n",
    "- a függvény egy listával **térjen vissza** !"
   ]
  },
  {
   "cell_type": "code",
   "execution_count": null,
   "metadata": {
    "collapsed": true
   },
   "outputs": [],
   "source": [
    "def mertani(x0,q,N):\n",
    "    \"...\" # ide jön a docstring\n",
    "    #\n",
    "    # ide jön a varázslat..\n",
    "    #"
   ]
  },
  {
   "cell_type": "markdown",
   "metadata": {},
   "source": [
    "## 04-Telefon központ"
   ]
  },
  {
   "cell_type": "markdown",
   "metadata": {},
   "source": [
    "Írjunk egy függvényt, ami neveket és telefonszámokat tartalmazó szótárakat dolgoz fel! \n",
    "- Két bemenő paramétert használjunk. Az első egy szám, a második pedig egy szótár (dict).\n",
    "- A függvény **írja ki** azoknak az embereknek a nevét, akik abban a körzetben laknak, amelynek az előhívó számát megadjuk (az első három számjegy)! \n",
    "- A függvény **visszatérési értéke** legyen az hogy hány ember lakik az adott körzetben.\n",
    "Itt egy példaadatbázis:"
   ]
  },
  {
   "cell_type": "code",
   "execution_count": null,
   "metadata": {
    "collapsed": false
   },
   "outputs": [],
   "source": [
    "adatok={'Alonzo Hinton': '(855) 278-2590',\n",
    " 'Cleo Hennings': '(844) 832-0585',\n",
    " 'Daine Ventura': '(833) 832-5081',\n",
    " 'Esther Leeson': '(855) 485-0624',\n",
    " 'Gene Connell': '(811) 973-2926',\n",
    " 'Lashaun Bottorff': '(822) 687-1735',\n",
    " 'Marx Hermann': '(844) 164-8116',\n",
    " 'Nicky Duprey': '(811) 032-6328',\n",
    " 'Piper Subia': '(844) 373-4228',\n",
    " 'Zackary Palomares': '(822) 647-3686'}"
   ]
  },
  {
   "cell_type": "code",
   "execution_count": null,
   "metadata": {
    "collapsed": true
   },
   "outputs": [],
   "source": [
    "def telefon_kozpont(korzet,adatok):\n",
    "    \"Ha megadod a körzetszámot (korzet) akkor kiírom ki lakik ott.\"\n",
    "    #\n",
    "    #ide jön a varázslat...\n",
    "    #\n",
    "    return # ide jön a visszatérési érték"
   ]
  },
  {
   "cell_type": "markdown",
   "metadata": {},
   "source": [
    "## 05-Változó számú argumentumok-I\n",
    "\n",
    "A harmadik példában megírt mértani sorozat függvényt módosítsuk úgy, hogy:\n",
    "- ha egy bemeneti értéke van, akkor azt tekintse kezdőértéknek, a kvóciens legyen 0.5, N pedig 10.\n",
    "- ha két bemeneti érték van, akkor az első legyen a kezdőérték, a második a kvociens, N pedig 10\n",
    "- ha megvan mind a három paraméter, akkor ugyanúgy viselkedjen, mint ahogy azt az előző feladatban tette.\n",
    "\n"
   ]
  },
  {
   "cell_type": "markdown",
   "metadata": {
    "collapsed": true
   },
   "source": [
    "## 06-Változó számú argumentumok-II ☠\n",
    "\n",
    "Írjunk egy függvényt, amelyik egy tetszőleges fokszámú polinomot értékel ki egy adott **x** helyen!\n",
    "A polinom fokszámát és együtthatóit határozzuk meg az **a** változó hosszúságú argumentumból! Használjuk a listákra alkalmazható **len()** függvényt!"
   ]
  },
  {
   "cell_type": "code",
   "execution_count": null,
   "metadata": {
    "collapsed": true
   },
   "outputs": [],
   "source": [
    "def poly(x,*a):\n",
    "    \"Polinom függvény f(x)=\\sum_i a_i x^i\" #Ez csak a docstring\n",
    "    #\n",
    "    # ide jön a varázslat..\n",
    "    #\n",
    "    return # ide jön a visszatérési érték"
   ]
  },
  {
   "cell_type": "markdown",
   "metadata": {},
   "source": [
    "## 07-kulcsszavas függvény változó számú argumentummal ☠\n",
    "\n",
    "Írjunk egy függvényt, amely egy adott **x** valós értékre kiértékel egy tetszőleges polinomfüggvényt, vagy annak a reciprokát!\n",
    "A polinom-együtthatókat egy tetszőleges hosszúságú **args** nevű listában kapjuk. Ha a függvény kap egy harmadik argumentumot kulcsszavas lista formájában, akkor vizsgáljuk meg, hogy abban a 'fajta' kulcsszó mit tartalmaz.\n",
    "Ha a kulcsszó 'reciprok', akkor a polinom reciprokát számoljuk! Ellenkező esetben a polinom értékét adjuk vissza!"
   ]
  },
  {
   "cell_type": "code",
   "execution_count": null,
   "metadata": {
    "collapsed": true
   },
   "outputs": [],
   "source": [
    "def fuggveny(x,*args,**kwargs):\n",
    "    \"Ha a kwargs nem rendelkezik másképp akkor kiértékelek egy polinomot\"\n",
    "    #\n",
    "    #ide jön a varázslat\n",
    "    #\n",
    "    if kwargs['fajta']=='inverz':\n",
    "        #\n",
    "        #\n",
    "    else:\n",
    "        #\n",
    "        #\n",
    "    \n",
    "    #\n",
    "    return #ide jön a visszatérési érték.."
   ]
  }
 ],
 "metadata": {
  "hide_input": false,
  "kernelspec": {
   "display_name": "Python 3",
   "language": "python",
   "name": "python3"
  },
  "language_info": {
   "codemirror_mode": {
    "name": "ipython",
    "version": 3
   },
   "file_extension": ".py",
   "mimetype": "text/x-python",
   "name": "python",
   "nbconvert_exporter": "python",
   "pygments_lexer": "ipython3",
   "version": "3.5.1"
  },
  "latex_envs": {
   "bibliofile": "biblio.bib",
   "cite_by": "apalike",
   "current_citInitial": 1,
   "eqLabelWithNumbers": true,
   "eqNumInitial": 0
  },
  "name": "feladat01.ipynb"
 },
 "nbformat": 4,
 "nbformat_minor": 0
}
