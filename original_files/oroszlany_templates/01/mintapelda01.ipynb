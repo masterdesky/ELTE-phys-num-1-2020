{
 "cells": [
  {
   "cell_type": "markdown",
   "metadata": {},
   "source": [
    "# Python gyorstalpaló\n",
    "\n",
    "\n",
    "Az alábbi három notebookban gyorsan áttekintjük a `python` nyelv alapjait. Megismerkedünk az alapvető típusokkal és változókkal. Gyorsan áttekintjük az egyszerű vezérlőutasításokat, illetve a függvények definiálásához szükséges szintaxist. Végül a `python` csomagok kezelésének rejtelmeit vizsgáljuk meg."
   ]
  },
  {
   "cell_type": "markdown",
   "metadata": {},
   "source": [
    "- [**Változók és típusok**](alap_syntax.ipynb)\n",
    "  - kommentek\n",
    "  - változók\n",
    "  - műveletek\n",
    "  - `string`-ek\n",
    "  - `list`-ek\n",
    "  - `dict`-ek"
   ]
  },
  {
   "cell_type": "markdown",
   "metadata": {},
   "source": [
    "- [**Vezérlés**](vezerles.ipynb)\n",
    "   - Döntésvezérlés: `if`\n",
    "   - Ciklusszervezés: `for`\n",
    "   - Függvénydefiniálás: `def`\n",
    "   - változó számú paraméterek \n",
    "   - kulcsszavak és paraméterlisták"
   ]
  },
  {
   "cell_type": "markdown",
   "metadata": {},
   "source": [
    "- [**Modulok**](modul_alap_numpy.ipynb)\n",
    "  - modulok\n",
    "  - `numpy` alapok\n",
    "  - `array`-ek\n",
    "  - `matplotlib` alapok\n",
    "  "
   ]
  }
 ],
 "metadata": {
  "anaconda-cloud": {},
  "hide_input": false,
  "kernelspec": {
   "display_name": "Python 3",
   "language": "python",
   "name": "python3"
  },
  "language_info": {
   "codemirror_mode": {
    "name": "ipython",
    "version": 3
   },
   "file_extension": ".py",
   "mimetype": "text/x-python",
   "name": "python",
   "nbconvert_exporter": "python",
   "pygments_lexer": "ipython3",
   "version": "3.5.2"
  },
  "latex_envs": {
   "bibliofile": "biblio.bib",
   "cite_by": "apalike",
   "current_citInitial": 1,
   "eqLabelWithNumbers": true,
   "eqNumInitial": 0
  },
  "name": "mintapelda03.ipynb"
 },
 "nbformat": 4,
 "nbformat_minor": 0
}
