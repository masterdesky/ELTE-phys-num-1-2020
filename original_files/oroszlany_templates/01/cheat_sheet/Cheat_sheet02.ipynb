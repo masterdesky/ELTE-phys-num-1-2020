{
 "cells": [
  {
   "cell_type": "markdown",
   "metadata": {},
   "source": [
    "<h1 style='color: red '>Az egymáshoz tartozó programblokkokat BEHÚZÁSSAL jelöljük</h1>\n",
    "\n",
    "# Vezérlőutasítások, függvények\n",
    "\n",
    "\n",
    "<h3 style='color: darkcyan '> Legáltalánosabb if konstrukció </h3>\n",
    "\n",
    ">```python\n",
    "if x < 0:\n",
    "    x = 0\n",
    "    print('Negatív, lecseréltem nullára')\n",
    "elif x == 0:\n",
    "    print('Nulla')\n",
    "elif x == 1:\n",
    "    print('Egy')\n",
    "else:\n",
    "    print('Egynél több.')\n",
    "```\n",
    "\n",
    "\n",
    "\n",
    "<h3 style='color: darkcyan '> Egyszerűbb for konstrukció </h3>\n",
    "\n",
    ">```python\n",
    "# Ez kiírja a számokat\n",
    "# 0-tól 5-ig!\n",
    "for i in range(6):\n",
    "    print(i)\n",
    "```\n",
    "\n",
    "\n",
    "<h3 style='color: darkcyan '> Egyszerű egyváltozós függvény </h3>\n",
    "\n",
    ">```python\n",
    "def f(x):\n",
    "    '''\n",
    "    Ez a függvény a bemenő értékhez hozzáad 1-et,\n",
    "    és azzal tér vissza\n",
    "    '''\n",
    "    return x+1\n",
    "```\n"
   ]
  }
 ],
 "metadata": {
  "hide_input": false,
  "kernelspec": {
   "display_name": "Python 2",
   "language": "python",
   "name": "python2"
  },
  "language_info": {
   "codemirror_mode": {
    "name": "ipython",
    "version": 2
   },
   "file_extension": ".py",
   "mimetype": "text/x-python",
   "name": "python",
   "nbconvert_exporter": "python",
   "pygments_lexer": "ipython2",
   "version": "2.7.11"
  },
  "latex_envs": {
   "bibliofile": "biblio.bib",
   "cite_by": "apalike",
   "current_citInitial": 1,
   "eqLabelWithNumbers": true,
   "eqNumInitial": 0
  },
  "name": "Cheat_sheat_alap.ipynb",
  "toc": {
   "toc_cell": false,
   "toc_number_sections": true,
   "toc_threshold": 6,
   "toc_window_display": false
  }
 },
 "nbformat": 4,
 "nbformat_minor": 0
}
