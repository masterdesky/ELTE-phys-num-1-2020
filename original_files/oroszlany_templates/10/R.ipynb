{
 "cells": [
  {
   "cell_type": "markdown",
   "metadata": {
    "deletable": true,
    "editable": true,
    "run_control": {
     "frozen": false,
     "read_only": false
    }
   },
   "source": [
    "<img align=\"here\" src=\"https://upload.wikimedia.org/wikipedia/commons/thumb/1/1b/R_logo.svg/724px-R_logo.svg.png\" width=\"200\" height=\"200\">\n",
    "\n",
    "Az **R** statisztikai számításokra és adatok ábrázolásra létrehozott programnyelv. Teljes mértékben ingyenes és nyílt forráskódú, illetve egyaránt használható Unix/Linux, MS Windows és MacOS operációs rendszereken."
   ]
  },
  {
   "cell_type": "markdown",
   "metadata": {
    "deletable": true,
    "editable": true,
    "run_control": {
     "frozen": false,
     "read_only": false
    }
   },
   "source": [
    "Ebben a notebookban a teljesség igénye nélkül betekintőt adunk az **R** használatáról. A notebook tartalmának megértéséhez szükséges, hogy a hallgatók tisztában legyenek az alapvető numerikus és statisztikai módszerekkel.\n",
    "\n",
    "Hasznos linkek az **R** programozásról:\n",
    "- Magyar [R][1] Wikipedia szócikk.\n",
    "- Egy egyetemi [jegyzet](http://ppke.snowl.net/files/2010/10/bevezetes_az_R_be_2008_04.pdf)\n",
    "- Magyar [R](http://r-projekt.hu/segedanyagok/) oldalak\n",
    "- A Python és az R nyelvek összehasonlítás [egy python-ostól](https://www.dataquest.io/blog/python-vs-r/) és egy [R-estől](https://www.r-bloggers.com/r-vs-python-a-one-on-one-comparison/)\n",
    "\n",
    "[1]:https://hu.wikipedia.org/wiki/R_(programoz%C3%A1si_nyelv)"
   ]
  },
  {
   "cell_type": "markdown",
   "metadata": {
    "deletable": true,
    "editable": true,
    "run_control": {
     "frozen": false,
     "read_only": false
    }
   },
   "source": [
    "## **R** alapok:\n",
    "\n",
    "### Minden a segítséggel kezdődik:\n",
    "\n",
    "A `help()` vagy a `?` parancs elindítja a központi keresőfelületet. "
   ]
  },
  {
   "cell_type": "code",
   "execution_count": 1,
   "metadata": {
    "collapsed": false,
    "deletable": true,
    "editable": true,
    "run_control": {
     "frozen": false,
     "read_only": false
    }
   },
   "outputs": [],
   "source": [
    "help(median)"
   ]
  },
  {
   "cell_type": "code",
   "execution_count": 2,
   "metadata": {
    "collapsed": false,
    "deletable": true,
    "editable": true,
    "run_control": {
     "frozen": false,
     "read_only": false
    }
   },
   "outputs": [],
   "source": [
    "?median"
   ]
  },
  {
   "cell_type": "markdown",
   "metadata": {
    "deletable": true,
    "editable": true
   },
   "source": [
    "### Csomagok\n",
    "\n",
    "Az R-ben a külső csomagokat a library(\"csomag neve\") parancs segítségével lehet betölteni:\n"
   ]
  },
  {
   "cell_type": "code",
   "execution_count": 3,
   "metadata": {
    "collapsed": true,
    "deletable": true,
    "editable": true
   },
   "outputs": [],
   "source": [
    "library(base)"
   ]
  },
  {
   "cell_type": "markdown",
   "metadata": {
    "deletable": true,
    "editable": true
   },
   "source": [
    "A kernel indításakor a `base` nevű csomag automatikusan betöltésre kerül. Ebben a notebookban a `base` csomag függvényeivel és adat struktúráival fogunk megismerkedni."
   ]
  },
  {
   "cell_type": "markdown",
   "metadata": {
    "deletable": true,
    "editable": true
   },
   "source": [
    "Segítség a csomagokról:"
   ]
  },
  {
   "cell_type": "code",
   "execution_count": 4,
   "metadata": {
    "collapsed": false,
    "deletable": true,
    "editable": true
   },
   "outputs": [
    {
     "data": {},
     "metadata": {},
     "output_type": "display_data"
    }
   ],
   "source": [
    "library(help = base)"
   ]
  },
  {
   "cell_type": "markdown",
   "metadata": {
    "deletable": true,
    "editable": true,
    "run_control": {
     "frozen": false,
     "read_only": false
    }
   },
   "source": [
    "### R mint számológép (ez olyan mint a python):\n",
    "\n",
    "Az `R`-ben a számok alapműveletek és néhány előre definiált mathematikai konstans a `python`-ban már megszokott módon működnek:"
   ]
  },
  {
   "cell_type": "code",
   "execution_count": 5,
   "metadata": {
    "collapsed": false,
    "deletable": true,
    "editable": true,
    "run_control": {
     "frozen": false,
     "read_only": false
    }
   },
   "outputs": [
    {
     "data": {
      "text/html": [
       "7"
      ],
      "text/latex": [
       "7"
      ],
      "text/markdown": [
       "7"
      ],
      "text/plain": [
       "[1] 7"
      ]
     },
     "metadata": {},
     "output_type": "display_data"
    }
   ],
   "source": [
    "4+3"
   ]
  },
  {
   "cell_type": "code",
   "execution_count": 6,
   "metadata": {
    "collapsed": false,
    "deletable": true,
    "editable": true,
    "run_control": {
     "frozen": false,
     "read_only": false
    }
   },
   "outputs": [
    {
     "data": {
      "text/html": [
       "314.159265358979"
      ],
      "text/latex": [
       "314.159265358979"
      ],
      "text/markdown": [
       "314.159265358979"
      ],
      "text/plain": [
       "[1] 314.1593"
      ]
     },
     "metadata": {},
     "output_type": "display_data"
    }
   ],
   "source": [
    "pi*100  # a pi itt is pi"
   ]
  },
  {
   "cell_type": "code",
   "execution_count": 7,
   "metadata": {
    "collapsed": false,
    "deletable": true,
    "editable": true,
    "run_control": {
     "frozen": false,
     "read_only": false
    }
   },
   "outputs": [
    {
     "data": {
      "text/html": [
       "0.714285714285714"
      ],
      "text/latex": [
       "0.714285714285714"
      ],
      "text/markdown": [
       "0.714285714285714"
      ],
      "text/plain": [
       "[1] 0.7142857"
      ]
     },
     "metadata": {},
     "output_type": "display_data"
    }
   ],
   "source": [
    "5/7"
   ]
  },
  {
   "cell_type": "code",
   "execution_count": 8,
   "metadata": {
    "collapsed": false
   },
   "outputs": [
    {
     "data": {
      "text/html": [
       "9"
      ],
      "text/latex": [
       "9"
      ],
      "text/markdown": [
       "9"
      ],
      "text/plain": [
       "[1] 9"
      ]
     },
     "metadata": {},
     "output_type": "display_data"
    }
   ],
   "source": [
    "3^2 # A hatvanyozas a ^-al történik!"
   ]
  },
  {
   "cell_type": "markdown",
   "metadata": {
    "deletable": true,
    "editable": true,
    "run_control": {
     "frozen": false,
     "read_only": false
    }
   },
   "source": [
    "Figylem a `log` a természetes logaritmus! A `log10` adja a 10-s alapú logaritmust."
   ]
  },
  {
   "cell_type": "code",
   "execution_count": 9,
   "metadata": {
    "collapsed": false,
    "deletable": true,
    "editable": true,
    "run_control": {
     "frozen": false,
     "read_only": false
    }
   },
   "outputs": [
    {
     "data": {
      "text/html": [
       "1"
      ],
      "text/latex": [
       "1"
      ],
      "text/markdown": [
       "1"
      ],
      "text/plain": [
       "[1] 1"
      ]
     },
     "metadata": {},
     "output_type": "display_data"
    }
   ],
   "source": [
    "log(exp(1))"
   ]
  },
  {
   "cell_type": "markdown",
   "metadata": {
    "deletable": true,
    "editable": true,
    "run_control": {
     "frozen": false,
     "read_only": false
    }
   },
   "source": [
    "### Értékadás eltér a Python-tól!\n",
    "\n",
    "Az értékadásra `R`-ben a megszokott `=` helyett a `<-` konstrukció használandó! "
   ]
  },
  {
   "cell_type": "code",
   "execution_count": 10,
   "metadata": {
    "collapsed": false,
    "deletable": true,
    "editable": true,
    "run_control": {
     "frozen": false,
     "read_only": false
    }
   },
   "outputs": [
    {
     "data": {
      "text/html": [
       "13"
      ],
      "text/latex": [
       "13"
      ],
      "text/markdown": [
       "13"
      ],
      "text/plain": [
       "[1] 13"
      ]
     },
     "metadata": {},
     "output_type": "display_data"
    }
   ],
   "source": [
    "a<- 13 # Így adunk értéket R-ben!!\n",
    "a"
   ]
  },
  {
   "cell_type": "code",
   "execution_count": 11,
   "metadata": {
    "collapsed": false,
    "deletable": true,
    "editable": true,
    "run_control": {
     "frozen": false,
     "read_only": false
    }
   },
   "outputs": [
    {
     "name": "stdout",
     "output_type": "stream",
     "text": [
      "[1] 13\n"
     ]
    }
   ],
   "source": [
    "print(a)"
   ]
  },
  {
   "cell_type": "markdown",
   "metadata": {
    "deletable": true,
    "editable": true,
    "run_control": {
     "frozen": false,
     "read_only": false
    }
   },
   "source": [
    "R-ben az `=` szimbólumot, ahogy ez lenneb is látni fogjuk, fügvény argumentumok megadására használjuk."
   ]
  },
  {
   "cell_type": "markdown",
   "metadata": {
    "deletable": true,
    "editable": true,
    "run_control": {
     "frozen": false,
     "read_only": false
    }
   },
   "source": [
    "## Változótípusok (objektumok) az R-ben\n",
    "\n",
    "### Alapegység az R-ben a vector\n",
    "\n",
    "\n",
    "A `R` változók a `python`-hoz hasonlóan több típusba sorolhatóak. Lehetnek `numeric` (valós számok), `logical` (bool típusú változók), `integer` (egész számok), `complex` (komplex számok), `character` (betű illetve általánosabb karakter változók), `list` (hasonlóan a python list-hez), ezeken kívül létezik a `raw` ritkán használt változó típus is.\n",
    "\n",
    "Az `R` alapvető származtatott adatstruktúrája a vector. Vectorok definiálására a `c()` függvényt célszerű használni:\n"
   ]
  },
  {
   "cell_type": "code",
   "execution_count": 12,
   "metadata": {
    "collapsed": false,
    "deletable": true,
    "editable": true,
    "run_control": {
     "frozen": false,
     "read_only": false
    }
   },
   "outputs": [],
   "source": [
    "vec <- c(1,2,3)"
   ]
  },
  {
   "cell_type": "code",
   "execution_count": 13,
   "metadata": {
    "collapsed": false,
    "deletable": true,
    "editable": true,
    "run_control": {
     "frozen": false,
     "read_only": false
    }
   },
   "outputs": [
    {
     "name": "stdout",
     "output_type": "stream",
     "text": [
      "[1] 1 2 3\n"
     ]
    }
   ],
   "source": [
    "print(vec) # a vec változó kiiratása"
   ]
  },
  {
   "cell_type": "markdown",
   "metadata": {
    "deletable": true,
    "editable": true,
    "run_control": {
     "frozen": false,
     "read_only": false
    }
   },
   "source": [
    "**Fontos** az R-ben nem nullától indexelünk, hanem 1-től!"
   ]
  },
  {
   "cell_type": "code",
   "execution_count": 14,
   "metadata": {
    "collapsed": false,
    "deletable": true,
    "editable": true,
    "run_control": {
     "frozen": false,
     "read_only": false
    }
   },
   "outputs": [
    {
     "data": {
      "text/html": [],
      "text/latex": [],
      "text/markdown": [],
      "text/plain": [
       "numeric(0)"
      ]
     },
     "metadata": {},
     "output_type": "display_data"
    }
   ],
   "source": [
    "vec[0] # ez nem dob hibát de nem is tartalmaz semmit se!!"
   ]
  },
  {
   "cell_type": "code",
   "execution_count": 15,
   "metadata": {
    "collapsed": false,
    "deletable": true,
    "editable": true,
    "run_control": {
     "frozen": false,
     "read_only": false
    }
   },
   "outputs": [
    {
     "data": {
      "text/html": [
       "1"
      ],
      "text/latex": [
       "1"
      ],
      "text/markdown": [
       "1"
      ],
      "text/plain": [
       "[1] 1"
      ]
     },
     "metadata": {},
     "output_type": "display_data"
    }
   ],
   "source": [
    "vec[1]"
   ]
  },
  {
   "cell_type": "code",
   "execution_count": 16,
   "metadata": {
    "collapsed": false,
    "deletable": true,
    "editable": true,
    "run_control": {
     "frozen": false,
     "read_only": false
    }
   },
   "outputs": [],
   "source": [
    "# ha integer-t szeretnénk, írjunk a szám után egy L betűt\n",
    "egesz_szam <- 1L"
   ]
  },
  {
   "cell_type": "code",
   "execution_count": 17,
   "metadata": {
    "collapsed": false,
    "deletable": true,
    "editable": true
   },
   "outputs": [
    {
     "data": {
      "text/html": [
       "1"
      ],
      "text/latex": [
       "1"
      ],
      "text/markdown": [
       "1"
      ],
      "text/plain": [
       "[1] 1"
      ]
     },
     "metadata": {},
     "output_type": "display_data"
    }
   ],
   "source": [
    "egesz_szam"
   ]
  },
  {
   "cell_type": "markdown",
   "metadata": {
    "deletable": true,
    "editable": true,
    "run_control": {
     "frozen": false,
     "read_only": false
    }
   },
   "source": [
    "Az **str()** paranccsal megnézhetjük egy \"objektum\" minden tulajdonságát:"
   ]
  },
  {
   "cell_type": "code",
   "execution_count": 18,
   "metadata": {
    "collapsed": false,
    "deletable": true,
    "editable": true,
    "run_control": {
     "frozen": false,
     "read_only": false
    }
   },
   "outputs": [
    {
     "name": "stdout",
     "output_type": "stream",
     "text": [
      " int 1\n"
     ]
    }
   ],
   "source": [
    "str(egesz_szam) # itt 1 darab int számról van csak szó"
   ]
  },
  {
   "cell_type": "code",
   "execution_count": 19,
   "metadata": {
    "collapsed": false,
    "deletable": true,
    "editable": true,
    "run_control": {
     "frozen": false,
     "read_only": false
    }
   },
   "outputs": [
    {
     "name": "stdout",
     "output_type": "stream",
     "text": [
      " num 1\n"
     ]
    }
   ],
   "source": [
    "valos_szam <- 1\n",
    "str(valos_szam) # A numeric változó valós számot jelent (pythonban ezek a float számok)"
   ]
  },
  {
   "cell_type": "code",
   "execution_count": 20,
   "metadata": {
    "collapsed": false,
    "deletable": true,
    "editable": true,
    "run_control": {
     "frozen": false,
     "read_only": false
    }
   },
   "outputs": [
    {
     "data": {
      "text/html": [
       "<ol class=list-inline>\n",
       "\t<li>'cica'</li>\n",
       "\t<li>'kutya'</li>\n",
       "\t<li>'kigyó'</li>\n",
       "\t<li>'alien'</li>\n",
       "\t<li>'predator'</li>\n",
       "</ol>\n"
      ],
      "text/latex": [
       "\\begin{enumerate*}\n",
       "\\item 'cica'\n",
       "\\item 'kutya'\n",
       "\\item 'kigyó'\n",
       "\\item 'alien'\n",
       "\\item 'predator'\n",
       "\\end{enumerate*}\n"
      ],
      "text/markdown": [
       "1. 'cica'\n",
       "2. 'kutya'\n",
       "3. 'kigyó'\n",
       "4. 'alien'\n",
       "5. 'predator'\n",
       "\n",
       "\n"
      ],
      "text/plain": [
       "[1] \"cica\"     \"kutya\"    \"kigyó\"    \"alien\"    \"predator\""
      ]
     },
     "metadata": {},
     "output_type": "display_data"
    }
   ],
   "source": [
    "szavak <- c('cica', 'kutya', 'kigyó', 'alien', 'predator')\n",
    "szavak"
   ]
  },
  {
   "cell_type": "code",
   "execution_count": 21,
   "metadata": {
    "collapsed": false,
    "deletable": true,
    "editable": true,
    "run_control": {
     "frozen": false,
     "read_only": false
    }
   },
   "outputs": [
    {
     "ename": "ERROR",
     "evalue": "Error in str(words): object 'words' not found\n",
     "output_type": "error",
     "traceback": [
      "Error in str(words): object 'words' not found\nTraceback:\n",
      "1. str(words)"
     ]
    }
   ],
   "source": [
    "str(words)"
   ]
  },
  {
   "cell_type": "markdown",
   "metadata": {
    "deletable": true,
    "editable": true,
    "run_control": {
     "frozen": false,
     "read_only": false
    }
   },
   "source": [
    "A `python`-os példákban láttuk hogy számtalanszor előfordul az, hogy egy probléma megoldása során szükségünk van számok sorozatainak előállítására. Erre `R`-ben az alábbi \"`eleje:vege`\" konstrucióval van lehetőség:"
   ]
  },
  {
   "cell_type": "code",
   "execution_count": 22,
   "metadata": {
    "collapsed": false,
    "deletable": true,
    "editable": true,
    "run_control": {
     "frozen": false,
     "read_only": false
    }
   },
   "outputs": [
    {
     "data": {
      "text/html": [
       "<ol class=list-inline>\n",
       "\t<li>100</li>\n",
       "\t<li>99</li>\n",
       "\t<li>98</li>\n",
       "\t<li>97</li>\n",
       "\t<li>96</li>\n",
       "\t<li>95</li>\n",
       "\t<li>94</li>\n",
       "\t<li>93</li>\n",
       "\t<li>92</li>\n",
       "\t<li>91</li>\n",
       "\t<li>90</li>\n",
       "</ol>\n"
      ],
      "text/latex": [
       "\\begin{enumerate*}\n",
       "\\item 100\n",
       "\\item 99\n",
       "\\item 98\n",
       "\\item 97\n",
       "\\item 96\n",
       "\\item 95\n",
       "\\item 94\n",
       "\\item 93\n",
       "\\item 92\n",
       "\\item 91\n",
       "\\item 90\n",
       "\\end{enumerate*}\n"
      ],
      "text/markdown": [
       "1. 100\n",
       "2. 99\n",
       "3. 98\n",
       "4. 97\n",
       "5. 96\n",
       "6. 95\n",
       "7. 94\n",
       "8. 93\n",
       "9. 92\n",
       "10. 91\n",
       "11. 90\n",
       "\n",
       "\n"
      ],
      "text/plain": [
       " [1] 100  99  98  97  96  95  94  93  92  91  90"
      ]
     },
     "metadata": {},
     "output_type": "display_data"
    }
   ],
   "source": [
    "sor<- 100:90\n",
    "sor"
   ]
  },
  {
   "cell_type": "code",
   "execution_count": 23,
   "metadata": {
    "collapsed": false,
    "deletable": true,
    "editable": true,
    "run_control": {
     "frozen": false,
     "read_only": false
    }
   },
   "outputs": [
    {
     "name": "stdout",
     "output_type": "stream",
     "text": [
      " int [1:11] 100 99 98 97 96 95 94 93 92 91 ...\n"
     ]
    }
   ],
   "source": [
    "str(sor)"
   ]
  },
  {
   "cell_type": "markdown",
   "metadata": {
    "deletable": true,
    "editable": true,
    "run_control": {
     "frozen": false,
     "read_only": false
    }
   },
   "source": [
    "A `python` dict-ek hez hasonó konstrukciót kapunk ha a vector elemeit nevekkel definiáljuk őket (`python` dict-eknél kulcsoknak hívtuk ezeket a neveket ):\n"
   ]
  },
  {
   "cell_type": "code",
   "execution_count": 24,
   "metadata": {
    "collapsed": false,
    "deletable": true,
    "editable": true,
    "run_control": {
     "frozen": false,
     "read_only": false
    }
   },
   "outputs": [
    {
     "data": {
      "text/html": [
       "<dl class=dl-horizontal>\n",
       "\t<dt>first</dt>\n",
       "\t\t<dd>1</dd>\n",
       "\t<dt>second</dt>\n",
       "\t\t<dd>3</dd>\n",
       "\t<dt>third</dt>\n",
       "\t\t<dd>6</dd>\n",
       "\t<dt>fourth</dt>\n",
       "\t\t<dd>10</dd>\n",
       "</dl>\n"
      ],
      "text/latex": [
       "\\begin{description*}\n",
       "\\item[first] 1\n",
       "\\item[second] 3\n",
       "\\item[third] 6\n",
       "\\item[fourth] 10\n",
       "\\end{description*}\n"
      ],
      "text/markdown": [
       "first\n",
       ":   1second\n",
       ":   3third\n",
       ":   6fourth\n",
       ":   10\n",
       "\n"
      ],
      "text/plain": [
       " first second  third fourth \n",
       "     1      3      6     10 "
      ]
     },
     "metadata": {},
     "output_type": "display_data"
    }
   ],
   "source": [
    "vec <- c(first = 1, second = 3, third = 6, fourth = 10) \n",
    "vec"
   ]
  },
  {
   "cell_type": "code",
   "execution_count": 25,
   "metadata": {
    "collapsed": false,
    "deletable": true,
    "editable": true,
    "run_control": {
     "frozen": false,
     "read_only": false
    }
   },
   "outputs": [
    {
     "name": "stdout",
     "output_type": "stream",
     "text": [
      " Named num [1:4] 1 3 6 10\n",
      " - attr(*, \"names\")= chr [1:4] \"first\" \"second\" \"third\" \"fourth\"\n"
     ]
    }
   ],
   "source": [
    "str(vec) # Itt megjelent az objektumok attribútom tulajdonásga, akit jobban érdekel nézzen utána"
   ]
  },
  {
   "cell_type": "markdown",
   "metadata": {
    "deletable": true,
    "editable": true
   },
   "source": [
    "Ezen túl a nevekkel vagy a megfelelő index-el is hivatkozhatunk a megfelelő elemre:"
   ]
  },
  {
   "cell_type": "code",
   "execution_count": 26,
   "metadata": {
    "collapsed": false,
    "deletable": true,
    "editable": true
   },
   "outputs": [
    {
     "data": {
      "text/html": [
       "<strong>second:</strong> 3"
      ],
      "text/latex": [
       "\\textbf{second:} 3"
      ],
      "text/markdown": [
       "**second:** 3"
      ],
      "text/plain": [
       "second \n",
       "     3 "
      ]
     },
     "metadata": {},
     "output_type": "display_data"
    }
   ],
   "source": [
    "vec[2]"
   ]
  },
  {
   "cell_type": "code",
   "execution_count": 27,
   "metadata": {
    "collapsed": false,
    "deletable": true,
    "editable": true
   },
   "outputs": [
    {
     "data": {
      "text/html": [
       "<strong>second:</strong> 3"
      ],
      "text/latex": [
       "\\textbf{second:} 3"
      ],
      "text/markdown": [
       "**second:** 3"
      ],
      "text/plain": [
       "second \n",
       "     3 "
      ]
     },
     "metadata": {},
     "output_type": "display_data"
    }
   ],
   "source": [
    "vec['second']"
   ]
  },
  {
   "cell_type": "markdown",
   "metadata": {
    "deletable": true,
    "editable": true,
    "run_control": {
     "frozen": false,
     "read_only": false
    }
   },
   "source": [
    "A `summary()` parancs összegzi a fontos tulajdonságokat a változóról (mint az átlag, szórás, ...). Nagy előnye a különbözö függványek kiértékelésekor lesz."
   ]
  },
  {
   "cell_type": "code",
   "execution_count": 28,
   "metadata": {
    "collapsed": false,
    "deletable": true,
    "editable": true,
    "run_control": {
     "frozen": false,
     "read_only": false
    }
   },
   "outputs": [
    {
     "data": {
      "text/plain": [
       "   Min. 1st Qu.  Median    Mean 3rd Qu.    Max. \n",
       "    1.0     2.5     4.5     5.0     7.0    10.0 "
      ]
     },
     "metadata": {},
     "output_type": "display_data"
    }
   ],
   "source": [
    "summary(vec)"
   ]
  },
  {
   "cell_type": "code",
   "execution_count": 29,
   "metadata": {
    "collapsed": false,
    "deletable": true,
    "editable": true,
    "run_control": {
     "frozen": false,
     "read_only": false
    }
   },
   "outputs": [
    {
     "data": {
      "text/plain": [
       "   Length     Class      Mode \n",
       "        5 character character "
      ]
     },
     "metadata": {},
     "output_type": "display_data"
    }
   ],
   "source": [
    "summary(szavak)"
   ]
  },
  {
   "cell_type": "markdown",
   "metadata": {
    "deletable": true,
    "editable": true,
    "run_control": {
     "frozen": false,
     "read_only": false
    }
   },
   "source": [
    "Ha adott lépésközzel szeretnénk vektort létrehozni, akkor használjuk a `seq()` parancsot:"
   ]
  },
  {
   "cell_type": "code",
   "execution_count": 30,
   "metadata": {
    "collapsed": false,
    "deletable": true,
    "editable": true,
    "run_control": {
     "frozen": false,
     "read_only": false
    }
   },
   "outputs": [
    {
     "data": {
      "text/html": [
       "<ol class=list-inline>\n",
       "\t<li>100</li>\n",
       "\t<li>95</li>\n",
       "\t<li>90</li>\n",
       "\t<li>85</li>\n",
       "\t<li>80</li>\n",
       "\t<li>75</li>\n",
       "\t<li>70</li>\n",
       "\t<li>65</li>\n",
       "\t<li>60</li>\n",
       "\t<li>55</li>\n",
       "\t<li>50</li>\n",
       "\t<li>45</li>\n",
       "\t<li>40</li>\n",
       "\t<li>35</li>\n",
       "\t<li>30</li>\n",
       "\t<li>25</li>\n",
       "\t<li>20</li>\n",
       "\t<li>15</li>\n",
       "\t<li>10</li>\n",
       "\t<li>5</li>\n",
       "\t<li>0</li>\n",
       "</ol>\n"
      ],
      "text/latex": [
       "\\begin{enumerate*}\n",
       "\\item 100\n",
       "\\item 95\n",
       "\\item 90\n",
       "\\item 85\n",
       "\\item 80\n",
       "\\item 75\n",
       "\\item 70\n",
       "\\item 65\n",
       "\\item 60\n",
       "\\item 55\n",
       "\\item 50\n",
       "\\item 45\n",
       "\\item 40\n",
       "\\item 35\n",
       "\\item 30\n",
       "\\item 25\n",
       "\\item 20\n",
       "\\item 15\n",
       "\\item 10\n",
       "\\item 5\n",
       "\\item 0\n",
       "\\end{enumerate*}\n"
      ],
      "text/markdown": [
       "1. 100\n",
       "2. 95\n",
       "3. 90\n",
       "4. 85\n",
       "5. 80\n",
       "6. 75\n",
       "7. 70\n",
       "8. 65\n",
       "9. 60\n",
       "10. 55\n",
       "11. 50\n",
       "12. 45\n",
       "13. 40\n",
       "14. 35\n",
       "15. 30\n",
       "16. 25\n",
       "17. 20\n",
       "18. 15\n",
       "19. 10\n",
       "20. 5\n",
       "21. 0\n",
       "\n",
       "\n"
      ],
      "text/plain": [
       " [1] 100  95  90  85  80  75  70  65  60  55  50  45  40  35  30  25  20  15  10\n",
       "[20]   5   0"
      ]
     },
     "metadata": {},
     "output_type": "display_data"
    }
   ],
   "source": [
    "seq(100,0,-5)"
   ]
  },
  {
   "cell_type": "markdown",
   "metadata": {
    "deletable": true,
    "editable": true
   },
   "source": [
    "## Az R objektum-osztályai\n",
    "\n",
    "Az R vector objektumokból az alábbi bonyolultabb objektumok származnak:\n",
    "\n",
    "\n",
    "- matrix (két index-es tömbök)\n",
    "- array (több indexes tömbök)\n",
    "- list (különböző objektumokat tartalmazó tömbök )\n",
    "- data frame (Ez olyan mint a pandas dataframe )\n",
    "- hiányzó értékek (NaN/NA értékek)"
   ]
  },
  {
   "cell_type": "markdown",
   "metadata": {
    "deletable": true,
    "editable": true,
    "run_control": {
     "frozen": false,
     "read_only": false
    }
   },
   "source": [
    "### Mátrixok - azaz 2 dimenziós vektor"
   ]
  },
  {
   "cell_type": "markdown",
   "metadata": {
    "deletable": true,
    "editable": true
   },
   "source": [
    "Matrix-okat a `matrix()` függvénnyel definiálunk:"
   ]
  },
  {
   "cell_type": "code",
   "execution_count": 31,
   "metadata": {
    "collapsed": false,
    "deletable": true,
    "editable": true,
    "run_control": {
     "frozen": false,
     "read_only": false
    }
   },
   "outputs": [
    {
     "data": {
      "text/html": [
       "<table>\n",
       "<tbody>\n",
       "\t<tr><td>1</td><td>3</td><td>5</td><td>7</td></tr>\n",
       "\t<tr><td>2</td><td>4</td><td>6</td><td>8</td></tr>\n",
       "</tbody>\n",
       "</table>\n"
      ],
      "text/latex": [
       "\\begin{tabular}{llll}\n",
       "\t 1 & 3 & 5 & 7\\\\\n",
       "\t 2 & 4 & 6 & 8\\\\\n",
       "\\end{tabular}\n"
      ],
      "text/markdown": [
       "\n",
       "| 1 | 3 | 5 | 7 | \n",
       "| 2 | 4 | 6 | 8 | \n",
       "\n",
       "\n"
      ],
      "text/plain": [
       "     [,1] [,2] [,3] [,4]\n",
       "[1,] 1    3    5    7   \n",
       "[2,] 2    4    6    8   "
      ]
     },
     "metadata": {},
     "output_type": "display_data"
    }
   ],
   "source": [
    "mat <- matrix(1:8, nrow = 2, ncol = 4)\n",
    "mat"
   ]
  },
  {
   "cell_type": "markdown",
   "metadata": {
    "deletable": true,
    "editable": true,
    "run_control": {
     "frozen": false,
     "read_only": false
    }
   },
   "source": [
    "A `dim()` paranccsal megnézhető  a dimneziója a mátrixnak:"
   ]
  },
  {
   "cell_type": "code",
   "execution_count": 32,
   "metadata": {
    "collapsed": false,
    "deletable": true,
    "editable": true,
    "run_control": {
     "frozen": false,
     "read_only": false
    }
   },
   "outputs": [
    {
     "data": {
      "text/html": [
       "<ol class=list-inline>\n",
       "\t<li>2</li>\n",
       "\t<li>4</li>\n",
       "</ol>\n"
      ],
      "text/latex": [
       "\\begin{enumerate*}\n",
       "\\item 2\n",
       "\\item 4\n",
       "\\end{enumerate*}\n"
      ],
      "text/markdown": [
       "1. 2\n",
       "2. 4\n",
       "\n",
       "\n"
      ],
      "text/plain": [
       "[1] 2 4"
      ]
     },
     "metadata": {},
     "output_type": "display_data"
    }
   ],
   "source": [
    "dim(mat)"
   ]
  },
  {
   "cell_type": "markdown",
   "metadata": {
    "deletable": true,
    "editable": true,
    "run_control": {
     "frozen": false,
     "read_only": false
    }
   },
   "source": [
    "Vektorból is létrehozható:"
   ]
  },
  {
   "cell_type": "code",
   "execution_count": 33,
   "metadata": {
    "collapsed": false,
    "deletable": true,
    "editable": true,
    "run_control": {
     "frozen": false,
     "read_only": false
    }
   },
   "outputs": [
    {
     "data": {
      "text/html": [
       "<table>\n",
       "<tbody>\n",
       "\t<tr><td>3</td><td>5</td></tr>\n",
       "\t<tr><td>4</td><td>6</td></tr>\n",
       "</tbody>\n",
       "</table>\n"
      ],
      "text/latex": [
       "\\begin{tabular}{ll}\n",
       "\t 3 & 5\\\\\n",
       "\t 4 & 6\\\\\n",
       "\\end{tabular}\n"
      ],
      "text/markdown": [
       "\n",
       "| 3 | 5 | \n",
       "| 4 | 6 | \n",
       "\n",
       "\n"
      ],
      "text/plain": [
       "     [,1] [,2]\n",
       "[1,] 3    5   \n",
       "[2,] 4    6   "
      ]
     },
     "metadata": {},
     "output_type": "display_data"
    }
   ],
   "source": [
    "newmat <- 3:6\n",
    "dim(newmat) <- c(2, 2)\n",
    "newmat"
   ]
  },
  {
   "cell_type": "markdown",
   "metadata": {
    "deletable": true,
    "editable": true,
    "run_control": {
     "frozen": false,
     "read_only": false
    }
   },
   "source": [
    "### Array - azaz sok diemnziós mtrixok (vektorok)"
   ]
  },
  {
   "cell_type": "code",
   "execution_count": 34,
   "metadata": {
    "collapsed": false,
    "deletable": true,
    "editable": true,
    "run_control": {
     "frozen": false,
     "read_only": false
    },
    "scrolled": true
   },
   "outputs": [
    {
     "data": {
      "text/html": [
       "<ol class=list-inline>\n",
       "\t<li>3</li>\n",
       "\t<li>2</li>\n",
       "\t<li>2</li>\n",
       "</ol>\n"
      ],
      "text/latex": [
       "\\begin{enumerate*}\n",
       "\\item 3\n",
       "\\item 2\n",
       "\\item 2\n",
       "\\end{enumerate*}\n"
      ],
      "text/markdown": [
       "1. 3\n",
       "2. 2\n",
       "3. 2\n",
       "\n",
       "\n"
      ],
      "text/plain": [
       "[1] 3 2 2"
      ]
     },
     "metadata": {},
     "output_type": "display_data"
    }
   ],
   "source": [
    "arr <- array(1:12, c(3, 2, 2)) # array-nel vektorral adjuk meg a dimenziokat\n",
    "dim(arr)"
   ]
  },
  {
   "cell_type": "code",
   "execution_count": 35,
   "metadata": {
    "collapsed": false,
    "deletable": true,
    "editable": true,
    "run_control": {
     "frozen": false,
     "read_only": false
    }
   },
   "outputs": [
    {
     "data": {
      "text/html": [
       "<table>\n",
       "<tbody>\n",
       "\t<tr><td>1</td><td>3</td><td>5</td><td>7</td></tr>\n",
       "\t<tr><td>2</td><td>4</td><td>6</td><td>8</td></tr>\n",
       "</tbody>\n",
       "</table>\n"
      ],
      "text/latex": [
       "\\begin{tabular}{llll}\n",
       "\t 1 & 3 & 5 & 7\\\\\n",
       "\t 2 & 4 & 6 & 8\\\\\n",
       "\\end{tabular}\n"
      ],
      "text/markdown": [
       "\n",
       "| 1 | 3 | 5 | 7 | \n",
       "| 2 | 4 | 6 | 8 | \n",
       "\n",
       "\n"
      ],
      "text/plain": [
       "     [,1] [,2] [,3] [,4]\n",
       "[1,] 1    3    5    7   \n",
       "[2,] 2    4    6    8   "
      ]
     },
     "metadata": {},
     "output_type": "display_data"
    }
   ],
   "source": [
    "mat <- matrix(1:8, 2, 4)\n",
    "mat"
   ]
  },
  {
   "cell_type": "markdown",
   "metadata": {
    "deletable": true,
    "editable": true,
    "run_control": {
     "frozen": false,
     "read_only": false
    }
   },
   "source": [
    "Ha egy matrix dimenzióját megválltoztatjuk (ügyelve arra hogy az elemszám megmaradjon) akkor a matrixból array lesz:"
   ]
  },
  {
   "cell_type": "code",
   "execution_count": 36,
   "metadata": {
    "collapsed": false,
    "deletable": true,
    "editable": true
   },
   "outputs": [
    {
     "data": {
      "text/html": [
       "TRUE"
      ],
      "text/latex": [
       "TRUE"
      ],
      "text/markdown": [
       "TRUE"
      ],
      "text/plain": [
       "[1] TRUE"
      ]
     },
     "metadata": {},
     "output_type": "display_data"
    }
   ],
   "source": [
    "arr <- mat\n",
    "is.matrix(arr)"
   ]
  },
  {
   "cell_type": "code",
   "execution_count": 37,
   "metadata": {
    "collapsed": false,
    "deletable": true,
    "editable": true,
    "run_control": {
     "frozen": false,
     "read_only": false
    }
   },
   "outputs": [
    {
     "data": {
      "text/html": [
       "FALSE"
      ],
      "text/latex": [
       "FALSE"
      ],
      "text/markdown": [
       "FALSE"
      ],
      "text/plain": [
       "[1] FALSE"
      ]
     },
     "metadata": {},
     "output_type": "display_data"
    },
    {
     "data": {
      "text/html": [
       "TRUE"
      ],
      "text/latex": [
       "TRUE"
      ],
      "text/markdown": [
       "TRUE"
      ],
      "text/plain": [
       "[1] TRUE"
      ]
     },
     "metadata": {},
     "output_type": "display_data"
    }
   ],
   "source": [
    "dim(arr) <- c(2, 2, 2) # átszabjuk a dimenziókat \n",
    "is.matrix(arr) # az arr valtozó mar nem matrix!\n",
    "is.array(arr)  # hanem array"
   ]
  },
  {
   "cell_type": "markdown",
   "metadata": {
    "deletable": true,
    "editable": true,
    "run_control": {
     "frozen": false,
     "read_only": false
    }
   },
   "source": [
    "### Faktorok - \tvectorok véges érték készlettel\n",
    "\n",
    "A factorok olyan vector-ok amelyeknek az elemei egy véges halamzból vesznek fel értékeket. Gondoljunk itt például egy osztály tanulóinak a nemére.\n",
    "Factorokat, nem túl meglepő módon a factor() segéd függvénnyel definiálhatunk:"
   ]
  },
  {
   "cell_type": "code",
   "execution_count": 38,
   "metadata": {
    "collapsed": false,
    "deletable": true,
    "editable": true
   },
   "outputs": [
    {
     "data": {
      "text/html": [
       "<ol class=list-inline>\n",
       "\t<li>male</li>\n",
       "\t<li>male</li>\n",
       "\t<li>male</li>\n",
       "\t<li>female</li>\n",
       "\t<li>female</li>\n",
       "\t<li>male</li>\n",
       "\t<li>female</li>\n",
       "</ol>\n"
      ],
      "text/latex": [
       "\\begin{enumerate*}\n",
       "\\item male\n",
       "\\item male\n",
       "\\item male\n",
       "\\item female\n",
       "\\item female\n",
       "\\item male\n",
       "\\item female\n",
       "\\end{enumerate*}\n"
      ],
      "text/markdown": [
       "1. male\n",
       "2. male\n",
       "3. male\n",
       "4. female\n",
       "5. female\n",
       "6. male\n",
       "7. female\n",
       "\n",
       "\n"
      ],
      "text/plain": [
       "[1] male   male   male   female female male   female\n",
       "Levels: female male"
      ]
     },
     "metadata": {},
     "output_type": "display_data"
    }
   ],
   "source": [
    "fac <- factor(c(\"male\", \"male\", \"male\", \"female\", \"female\", \"male\", \"female\"))\n",
    "fac"
   ]
  },
  {
   "cell_type": "markdown",
   "metadata": {
    "deletable": true,
    "editable": true
   },
   "source": [
    "A labels kulcsszóval felül definiálhatjuk az értékkészlet címkéit:"
   ]
  },
  {
   "cell_type": "code",
   "execution_count": 39,
   "metadata": {
    "collapsed": false,
    "deletable": true,
    "editable": true,
    "run_control": {
     "frozen": false,
     "read_only": false
    }
   },
   "outputs": [
    {
     "data": {
      "text/html": [
       "<ol class=list-inline>\n",
       "\t<li>male</li>\n",
       "\t<li>male</li>\n",
       "\t<li>male</li>\n",
       "\t<li>female</li>\n",
       "\t<li>female</li>\n",
       "\t<li>male</li>\n",
       "\t<li>female</li>\n",
       "</ol>\n"
      ],
      "text/latex": [
       "\\begin{enumerate*}\n",
       "\\item male\n",
       "\\item male\n",
       "\\item male\n",
       "\\item female\n",
       "\\item female\n",
       "\\item male\n",
       "\\item female\n",
       "\\end{enumerate*}\n"
      ],
      "text/markdown": [
       "1. male\n",
       "2. male\n",
       "3. male\n",
       "4. female\n",
       "5. female\n",
       "6. male\n",
       "7. female\n",
       "\n",
       "\n"
      ],
      "text/plain": [
       "[1] male   male   male   female female male   female\n",
       "Levels: male female"
      ]
     },
     "metadata": {},
     "output_type": "display_data"
    }
   ],
   "source": [
    "newfac<-factor(c(1,1,1,2,2,1,2), labels=c(\"male\",\"female\"))\n",
    "newfac"
   ]
  },
  {
   "cell_type": "markdown",
   "metadata": {
    "deletable": true,
    "editable": true,
    "run_control": {
     "frozen": false,
     "read_only": false
    }
   },
   "source": [
    "### Listák\n",
    "\n",
    "A listák speciális vektor melyek vegyesen tartalmazhatnak különböző típusú elemeket (vektort, array-t, listát, stb.)"
   ]
  },
  {
   "cell_type": "code",
   "execution_count": 40,
   "metadata": {
    "collapsed": false,
    "deletable": true,
    "editable": true,
    "run_control": {
     "frozen": false,
     "read_only": false
    }
   },
   "outputs": [
    {
     "data": {
      "text/html": [
       "<ol>\n",
       "\t<li>NULL</li>\n",
       "\t<li>NULL</li>\n",
       "</ol>\n"
      ],
      "text/latex": [
       "\\begin{enumerate}\n",
       "\\item NULL\n",
       "\\item NULL\n",
       "\\end{enumerate}\n"
      ],
      "text/markdown": [
       "1. NULL\n",
       "2. NULL\n",
       "\n",
       "\n"
      ],
      "text/plain": [
       "[[1]]\n",
       "NULL\n",
       "\n",
       "[[2]]\n",
       "NULL\n"
      ]
     },
     "metadata": {},
     "output_type": "display_data"
    }
   ],
   "source": [
    "mylist <- vector(\"list\", 2) # \"ures\"\" lista letrehozasa\n",
    "mylist"
   ]
  },
  {
   "cell_type": "code",
   "execution_count": 41,
   "metadata": {
    "collapsed": false,
    "deletable": true,
    "editable": true,
    "run_control": {
     "frozen": false,
     "read_only": false
    }
   },
   "outputs": [
    {
     "data": {
      "text/plain": [
       "$a\n",
       "[1] 1\n",
       "\n",
       "$b\n",
       "[1] FALSE\n",
       "\n",
       "[[3]]\n",
       "[1] \"a\" \"b\" \"c\" \"d\" \"e\"\n"
      ]
     },
     "metadata": {},
     "output_type": "display_data"
    }
   ],
   "source": [
    "newlist <- list(a = 1, b = FALSE, letters[1:5]) # kozvetlen megadas\n",
    "newlist"
   ]
  },
  {
   "cell_type": "markdown",
   "metadata": {
    "deletable": true,
    "editable": true,
    "run_control": {
     "frozen": false,
     "read_only": false
    }
   },
   "source": [
    "### Data frame \n",
    "\n",
    "A data frame-ek speciális listák, amely azonos hosszúságú vektorokból állnak. A data frame-ek inspirálták a `python` `pandas` moduljának adatstruktúráját. "
   ]
  },
  {
   "cell_type": "code",
   "execution_count": 42,
   "metadata": {
    "collapsed": false,
    "deletable": true,
    "editable": true,
    "run_control": {
     "frozen": false,
     "read_only": false
    }
   },
   "outputs": [
    {
     "data": {
      "text/html": [
       "<table>\n",
       "<thead><tr><th scope=col>digits</th><th scope=col>characters</th></tr></thead>\n",
       "<tbody>\n",
       "\t<tr><td>10</td><td>a </td></tr>\n",
       "\t<tr><td> 9</td><td>b </td></tr>\n",
       "\t<tr><td> 8</td><td>c </td></tr>\n",
       "\t<tr><td> 7</td><td>d </td></tr>\n",
       "\t<tr><td> 6</td><td>e </td></tr>\n",
       "</tbody>\n",
       "</table>\n"
      ],
      "text/latex": [
       "\\begin{tabular}{r|ll}\n",
       " digits & characters\\\\\n",
       "\\hline\n",
       "\t 10 & a \\\\\n",
       "\t  9 & b \\\\\n",
       "\t  8 & c \\\\\n",
       "\t  7 & d \\\\\n",
       "\t  6 & e \\\\\n",
       "\\end{tabular}\n"
      ],
      "text/markdown": [
       "\n",
       "digits | characters | \n",
       "|---|---|---|---|---|\n",
       "| 10 | a  | \n",
       "|  9 | b  | \n",
       "|  8 | c  | \n",
       "|  7 | d  | \n",
       "|  6 | e  | \n",
       "\n",
       "\n"
      ],
      "text/plain": [
       "  digits characters\n",
       "1 10     a         \n",
       "2  9     b         \n",
       "3  8     c         \n",
       "4  7     d         \n",
       "5  6     e         "
      ]
     },
     "metadata": {},
     "output_type": "display_data"
    }
   ],
   "source": [
    "datfr <- data.frame(digits = 10:6, characters = letters[1:5])\n",
    "datfr"
   ]
  },
  {
   "cell_type": "markdown",
   "metadata": {
    "deletable": true,
    "editable": true,
    "run_control": {
     "frozen": false,
     "read_only": false
    }
   },
   "source": [
    "### Hiányzó értékek\n",
    "\n",
    "Megkülönöztetjük a NA (not available) vagy a NaN (not a number) értékeket\n",
    "\n",
    "Fontos: **minden NaN NA, de nem minden NA NaN**"
   ]
  },
  {
   "cell_type": "code",
   "execution_count": 43,
   "metadata": {
    "collapsed": false,
    "deletable": true,
    "editable": true,
    "run_control": {
     "frozen": false,
     "read_only": false
    }
   },
   "outputs": [
    {
     "data": {
      "text/html": [
       "<ol class=list-inline>\n",
       "\t<li>1</li>\n",
       "\t<li>3</li>\n",
       "\t<li>4</li>\n",
       "\t<li>NaN</li>\n",
       "\t<li>5</li>\n",
       "\t<li>NA</li>\n",
       "</ol>\n"
      ],
      "text/latex": [
       "\\begin{enumerate*}\n",
       "\\item 1\n",
       "\\item 3\n",
       "\\item 4\n",
       "\\item NaN\n",
       "\\item 5\n",
       "\\item NA\n",
       "\\end{enumerate*}\n"
      ],
      "text/markdown": [
       "1. 1\n",
       "2. 3\n",
       "3. 4\n",
       "4. NaN\n",
       "5. 5\n",
       "6. NA\n",
       "\n",
       "\n"
      ],
      "text/plain": [
       "[1]   1   3   4 NaN   5  NA"
      ]
     },
     "metadata": {},
     "output_type": "display_data"
    }
   ],
   "source": [
    "x <- c(1, 3, 4, NaN, 5, NA)\n",
    "x"
   ]
  },
  {
   "cell_type": "markdown",
   "metadata": {
    "deletable": true,
    "editable": true,
    "run_control": {
     "frozen": false,
     "read_only": false
    }
   },
   "source": [
    "### Változó tipusának ellenőrzése, és tipuskonverzió:\n",
    "\n",
    "Az `is.X()` (itt X helyére a konkrét tipust kell írni) kifejezéssel ellenőrizhető, egy változó az adott tipusú-e:"
   ]
  },
  {
   "cell_type": "code",
   "execution_count": 44,
   "metadata": {
    "collapsed": false,
    "deletable": true,
    "editable": true,
    "run_control": {
     "frozen": false,
     "read_only": false
    }
   },
   "outputs": [
    {
     "data": {
      "text/html": [
       "TRUE"
      ],
      "text/latex": [
       "TRUE"
      ],
      "text/markdown": [
       "TRUE"
      ],
      "text/plain": [
       "[1] TRUE"
      ]
     },
     "metadata": {},
     "output_type": "display_data"
    }
   ],
   "source": [
    "x <- c(1, 3, 4, NaN, 5, NA)\n",
    "is.numeric(x)"
   ]
  },
  {
   "cell_type": "code",
   "execution_count": 45,
   "metadata": {
    "collapsed": false,
    "deletable": true,
    "editable": true,
    "run_control": {
     "frozen": false,
     "read_only": false
    }
   },
   "outputs": [
    {
     "data": {
      "text/html": [
       "<ol class=list-inline>\n",
       "\t<li>FALSE</li>\n",
       "\t<li>FALSE</li>\n",
       "\t<li>FALSE</li>\n",
       "\t<li>TRUE</li>\n",
       "\t<li>FALSE</li>\n",
       "\t<li>TRUE</li>\n",
       "</ol>\n"
      ],
      "text/latex": [
       "\\begin{enumerate*}\n",
       "\\item FALSE\n",
       "\\item FALSE\n",
       "\\item FALSE\n",
       "\\item TRUE\n",
       "\\item FALSE\n",
       "\\item TRUE\n",
       "\\end{enumerate*}\n"
      ],
      "text/markdown": [
       "1. FALSE\n",
       "2. FALSE\n",
       "3. FALSE\n",
       "4. TRUE\n",
       "5. FALSE\n",
       "6. TRUE\n",
       "\n",
       "\n"
      ],
      "text/plain": [
       "[1] FALSE FALSE FALSE  TRUE FALSE  TRUE"
      ]
     },
     "metadata": {},
     "output_type": "display_data"
    }
   ],
   "source": [
    "is.na(x)"
   ]
  },
  {
   "cell_type": "code",
   "execution_count": 46,
   "metadata": {
    "collapsed": false,
    "deletable": true,
    "editable": true,
    "run_control": {
     "frozen": false,
     "read_only": false
    }
   },
   "outputs": [
    {
     "data": {
      "text/html": [
       "TRUE"
      ],
      "text/latex": [
       "TRUE"
      ],
      "text/markdown": [
       "TRUE"
      ],
      "text/plain": [
       "[1] TRUE"
      ]
     },
     "metadata": {},
     "output_type": "display_data"
    }
   ],
   "source": [
    "arr <- array(1:12, c(3, 2, 2)) \n",
    "is.array(arr)"
   ]
  },
  {
   "cell_type": "code",
   "execution_count": 47,
   "metadata": {
    "collapsed": false,
    "deletable": true,
    "editable": true,
    "run_control": {
     "frozen": false,
     "read_only": false
    }
   },
   "outputs": [
    {
     "data": {
      "text/html": [
       "TRUE"
      ],
      "text/latex": [
       "TRUE"
      ],
      "text/markdown": [
       "TRUE"
      ],
      "text/plain": [
       "[1] TRUE"
      ]
     },
     "metadata": {},
     "output_type": "display_data"
    }
   ],
   "source": [
    "is.numeric(arr)"
   ]
  },
  {
   "cell_type": "code",
   "execution_count": 48,
   "metadata": {
    "collapsed": false,
    "deletable": true,
    "editable": true,
    "run_control": {
     "frozen": false,
     "read_only": false
    }
   },
   "outputs": [
    {
     "data": {
      "text/html": [
       "FALSE"
      ],
      "text/latex": [
       "FALSE"
      ],
      "text/markdown": [
       "FALSE"
      ],
      "text/plain": [
       "[1] FALSE"
      ]
     },
     "metadata": {},
     "output_type": "display_data"
    }
   ],
   "source": [
    "is.factor(arr)"
   ]
  },
  {
   "cell_type": "markdown",
   "metadata": {
    "deletable": true,
    "editable": true,
    "run_control": {
     "frozen": false,
     "read_only": false
    }
   },
   "source": [
    "### Objektumok kombinálása\n",
    "\n",
    "Legegyszerűbben a `c()` szintaxissal lehet összekombinálni két változót:\n",
    "\n",
    "cbind, c, rbind, abind, "
   ]
  },
  {
   "cell_type": "code",
   "execution_count": 49,
   "metadata": {
    "collapsed": false,
    "deletable": true,
    "editable": true,
    "run_control": {
     "frozen": false,
     "read_only": false
    }
   },
   "outputs": [
    {
     "data": {
      "text/html": [
       "<ol class=list-inline>\n",
       "\t<li>1</li>\n",
       "\t<li>2</li>\n",
       "\t<li>3</li>\n",
       "\t<li>4</li>\n",
       "\t<li>5</li>\n",
       "\t<li>6</li>\n",
       "\t<li>7</li>\n",
       "\t<li>8</li>\n",
       "\t<li>9</li>\n",
       "\t<li>10</li>\n",
       "\t<li>11</li>\n",
       "\t<li>12</li>\n",
       "\t<li>13</li>\n",
       "\t<li>14</li>\n",
       "\t<li>15</li>\n",
       "\t<li>16</li>\n",
       "\t<li>17</li>\n",
       "\t<li>18</li>\n",
       "\t<li>19</li>\n",
       "\t<li>20</li>\n",
       "</ol>\n"
      ],
      "text/latex": [
       "\\begin{enumerate*}\n",
       "\\item 1\n",
       "\\item 2\n",
       "\\item 3\n",
       "\\item 4\n",
       "\\item 5\n",
       "\\item 6\n",
       "\\item 7\n",
       "\\item 8\n",
       "\\item 9\n",
       "\\item 10\n",
       "\\item 11\n",
       "\\item 12\n",
       "\\item 13\n",
       "\\item 14\n",
       "\\item 15\n",
       "\\item 16\n",
       "\\item 17\n",
       "\\item 18\n",
       "\\item 19\n",
       "\\item 20\n",
       "\\end{enumerate*}\n"
      ],
      "text/markdown": [
       "1. 1\n",
       "2. 2\n",
       "3. 3\n",
       "4. 4\n",
       "5. 5\n",
       "6. 6\n",
       "7. 7\n",
       "8. 8\n",
       "9. 9\n",
       "10. 10\n",
       "11. 11\n",
       "12. 12\n",
       "13. 13\n",
       "14. 14\n",
       "15. 15\n",
       "16. 16\n",
       "17. 17\n",
       "18. 18\n",
       "19. 19\n",
       "20. 20\n",
       "\n",
       "\n"
      ],
      "text/plain": [
       " [1]  1  2  3  4  5  6  7  8  9 10 11 12 13 14 15 16 17 18 19 20"
      ]
     },
     "metadata": {},
     "output_type": "display_data"
    }
   ],
   "source": [
    "a<- 1:10\n",
    "b<- 11:20\n",
    "lista<-c(a,b)\n",
    "lista"
   ]
  },
  {
   "cell_type": "markdown",
   "metadata": {
    "deletable": true,
    "editable": true,
    "run_control": {
     "frozen": false,
     "read_only": false
    }
   },
   "source": [
    "Ha van két vektorunk/mátrix/array akkor ezek kombinálása történhet oszlop szereint (`cbind()`) vagy sorok mentén (`rbind()`):"
   ]
  },
  {
   "cell_type": "code",
   "execution_count": 50,
   "metadata": {
    "collapsed": false,
    "deletable": true,
    "editable": true,
    "run_control": {
     "frozen": false,
     "read_only": false
    }
   },
   "outputs": [
    {
     "data": {
      "text/html": [
       "<table>\n",
       "<thead><tr><th scope=col>x</th><th scope=col>y</th></tr></thead>\n",
       "<tbody>\n",
       "\t<tr><td>1</td><td>4</td></tr>\n",
       "\t<tr><td>2</td><td>5</td></tr>\n",
       "\t<tr><td>3</td><td>6</td></tr>\n",
       "</tbody>\n",
       "</table>\n"
      ],
      "text/latex": [
       "\\begin{tabular}{ll}\n",
       " x & y\\\\\n",
       "\\hline\n",
       "\t 1 & 4\\\\\n",
       "\t 2 & 5\\\\\n",
       "\t 3 & 6\\\\\n",
       "\\end{tabular}\n"
      ],
      "text/markdown": [
       "\n",
       "x | y | \n",
       "|---|---|---|\n",
       "| 1 | 4 | \n",
       "| 2 | 5 | \n",
       "| 3 | 6 | \n",
       "\n",
       "\n"
      ],
      "text/plain": [
       "     x y\n",
       "[1,] 1 4\n",
       "[2,] 2 5\n",
       "[3,] 3 6"
      ]
     },
     "metadata": {},
     "output_type": "display_data"
    }
   ],
   "source": [
    "cbind(x = 1:3, y = 4:6) # ket vektor osszeillesztese egy-egy oszlopba"
   ]
  },
  {
   "cell_type": "code",
   "execution_count": 51,
   "metadata": {
    "collapsed": false,
    "deletable": true,
    "editable": true,
    "run_control": {
     "frozen": false,
     "read_only": false
    }
   },
   "outputs": [
    {
     "data": {
      "text/html": [
       "<table>\n",
       "<tbody>\n",
       "\t<tr><td>1</td><td>3</td><td>5</td><td>7</td></tr>\n",
       "\t<tr><td>2</td><td>4</td><td>6</td><td>8</td></tr>\n",
       "</tbody>\n",
       "</table>\n"
      ],
      "text/latex": [
       "\\begin{tabular}{llll}\n",
       "\t 1 & 3 & 5 & 7\\\\\n",
       "\t 2 & 4 & 6 & 8\\\\\n",
       "\\end{tabular}\n"
      ],
      "text/markdown": [
       "\n",
       "| 1 | 3 | 5 | 7 | \n",
       "| 2 | 4 | 6 | 8 | \n",
       "\n",
       "\n"
      ],
      "text/plain": [
       "     [,1] [,2] [,3] [,4]\n",
       "[1,] 1    3    5    7   \n",
       "[2,] 2    4    6    8   "
      ]
     },
     "metadata": {},
     "output_type": "display_data"
    }
   ],
   "source": [
    "mat2 <- matrix(1:4, 2, 2)\n",
    "mat3 <- matrix(5:8, 2, 2)\n",
    "cbind(mat2, mat3) # Figyelem mátrixoknál a sorok a sorok számának egyezni kell!"
   ]
  },
  {
   "cell_type": "code",
   "execution_count": 52,
   "metadata": {
    "collapsed": false,
    "deletable": true,
    "editable": true,
    "run_control": {
     "frozen": false,
     "read_only": false
    }
   },
   "outputs": [
    {
     "data": {
      "text/html": [
       "<table>\n",
       "<tbody>\n",
       "\t<tr><th scope=row>x</th><td>1</td><td>2</td><td>3</td></tr>\n",
       "\t<tr><th scope=row>y</th><td>4</td><td>5</td><td>6</td></tr>\n",
       "</tbody>\n",
       "</table>\n"
      ],
      "text/latex": [
       "\\begin{tabular}{r|lll}\n",
       "\tx & 1 & 2 & 3\\\\\n",
       "\ty & 4 & 5 & 6\\\\\n",
       "\\end{tabular}\n"
      ],
      "text/markdown": [
       "\n",
       "| x | 1 | 2 | 3 | \n",
       "| y | 4 | 5 | 6 | \n",
       "\n",
       "\n"
      ],
      "text/plain": [
       "  [,1] [,2] [,3]\n",
       "x 1    2    3   \n",
       "y 4    5    6   "
      ]
     },
     "metadata": {},
     "output_type": "display_data"
    }
   ],
   "source": [
    "rbind(x = 1:3, y = 4:6) #kombinálás sorok mentén"
   ]
  },
  {
   "cell_type": "markdown",
   "metadata": {
    "deletable": true,
    "editable": true,
    "run_control": {
     "frozen": false,
     "read_only": false
    }
   },
   "source": [
    "### Elemek indexelése hasonló a Pythonhoz, de itt 1-től kezdődik az indexelés\n",
    "\n",
    "(Kivéve listák és data.frame-k esetében!)"
   ]
  },
  {
   "cell_type": "code",
   "execution_count": 53,
   "metadata": {
    "collapsed": false,
    "deletable": true,
    "editable": true,
    "run_control": {
     "frozen": false,
     "read_only": false
    }
   },
   "outputs": [
    {
     "data": {
      "text/html": [
       "<ol class=list-inline>\n",
       "\t<li>2</li>\n",
       "\t<li>4</li>\n",
       "</ol>\n"
      ],
      "text/latex": [
       "\\begin{enumerate*}\n",
       "\\item 2\n",
       "\\item 4\n",
       "\\end{enumerate*}\n"
      ],
      "text/markdown": [
       "1. 2\n",
       "2. 4\n",
       "\n",
       "\n"
      ],
      "text/plain": [
       "[1] 2 4"
      ]
     },
     "metadata": {},
     "output_type": "display_data"
    }
   ],
   "source": [
    "vec <- c(1:2, 4)\n",
    "vec[2:3]"
   ]
  },
  {
   "cell_type": "code",
   "execution_count": 54,
   "metadata": {
    "collapsed": false,
    "deletable": true,
    "editable": true,
    "run_control": {
     "frozen": false,
     "read_only": false
    }
   },
   "outputs": [
    {
     "data": {
      "text/html": [
       "<ol class=list-inline>\n",
       "\t<li>1</li>\n",
       "\t<li>9</li>\n",
       "\t<li>25</li>\n",
       "\t<li>49</li>\n",
       "</ol>\n"
      ],
      "text/latex": [
       "\\begin{enumerate*}\n",
       "\\item 1\n",
       "\\item 9\n",
       "\\item 25\n",
       "\\item 49\n",
       "\\end{enumerate*}\n"
      ],
      "text/markdown": [
       "1. 1\n",
       "2. 9\n",
       "3. 25\n",
       "4. 49\n",
       "\n",
       "\n"
      ],
      "text/plain": [
       "[1]  1  9 25 49"
      ]
     },
     "metadata": {},
     "output_type": "display_data"
    }
   ],
   "source": [
    "mat <- matrix((1:8)^2, 2, 4)\n",
    "mat[1, ]"
   ]
  },
  {
   "cell_type": "code",
   "execution_count": 55,
   "metadata": {
    "collapsed": false,
    "deletable": true,
    "editable": true,
    "run_control": {
     "frozen": false,
     "read_only": false
    }
   },
   "outputs": [
    {
     "data": {
      "text/html": [
       "<ol class=list-inline>\n",
       "\t<li>9</li>\n",
       "\t<li>16</li>\n",
       "</ol>\n"
      ],
      "text/latex": [
       "\\begin{enumerate*}\n",
       "\\item 9\n",
       "\\item 16\n",
       "\\end{enumerate*}\n"
      ],
      "text/markdown": [
       "1. 9\n",
       "2. 16\n",
       "\n",
       "\n"
      ],
      "text/plain": [
       "[1]  9 16"
      ]
     },
     "metadata": {},
     "output_type": "display_data"
    }
   ],
   "source": [
    "mat[, 2]"
   ]
  },
  {
   "cell_type": "code",
   "execution_count": 56,
   "metadata": {
    "collapsed": false,
    "deletable": true,
    "editable": true,
    "run_control": {
     "frozen": false,
     "read_only": false
    }
   },
   "outputs": [
    {
     "data": {
      "text/html": [
       "<ol class=list-inline>\n",
       "\t<li>1</li>\n",
       "\t<li>4</li>\n",
       "\t<li>9</li>\n",
       "\t<li>16</li>\n",
       "\t<li>25</li>\n",
       "</ol>\n"
      ],
      "text/latex": [
       "\\begin{enumerate*}\n",
       "\\item 1\n",
       "\\item 4\n",
       "\\item 9\n",
       "\\item 16\n",
       "\\item 25\n",
       "\\end{enumerate*}\n"
      ],
      "text/markdown": [
       "1. 1\n",
       "2. 4\n",
       "3. 9\n",
       "4. 16\n",
       "5. 25\n",
       "\n",
       "\n"
      ],
      "text/plain": [
       "[1]  1  4  9 16 25"
      ]
     },
     "metadata": {},
     "output_type": "display_data"
    }
   ],
   "source": [
    "mat[1:5]"
   ]
  },
  {
   "cell_type": "markdown",
   "metadata": {
    "deletable": true,
    "editable": true,
    "run_control": {
     "frozen": false,
     "read_only": false
    }
   },
   "source": [
    "### Listák és data.frame-ek indexelése\n",
    "\n",
    "Ez eltér a pythontól, mivel itt lehetőség van attribútomok kezelésével (nevet adni mondjuk az adattábla oszlopainak).\n",
    "Ez a szintaxis a python pandas csomaghoz hasonló\n",
    "\n",
    "Ha névvel akarunk hivatkozni az elemekre, a \"$ jelet kell használni:"
   ]
  },
  {
   "cell_type": "code",
   "execution_count": 57,
   "metadata": {
    "collapsed": false,
    "deletable": true,
    "editable": true,
    "run_control": {
     "frozen": false,
     "read_only": false
    }
   },
   "outputs": [
    {
     "data": {
      "text/html": [
       "<table>\n",
       "<thead><tr><th scope=col>x</th><th scope=col>y</th><th scope=col>z</th></tr></thead>\n",
       "<tbody>\n",
       "\t<tr><td>A</td><td>6</td><td>1</td></tr>\n",
       "\t<tr><td>B</td><td>7</td><td>2</td></tr>\n",
       "\t<tr><td>A</td><td>8</td><td>3</td></tr>\n",
       "\t<tr><td>B</td><td>9</td><td>4</td></tr>\n",
       "\t<tr><td>A</td><td>6</td><td>5</td></tr>\n",
       "\t<tr><td>B</td><td>7</td><td>6</td></tr>\n",
       "\t<tr><td>A</td><td>8</td><td>7</td></tr>\n",
       "\t<tr><td>B</td><td>9</td><td>8</td></tr>\n",
       "</tbody>\n",
       "</table>\n"
      ],
      "text/latex": [
       "\\begin{tabular}{r|lll}\n",
       " x & y & z\\\\\n",
       "\\hline\n",
       "\t A & 6 & 1\\\\\n",
       "\t B & 7 & 2\\\\\n",
       "\t A & 8 & 3\\\\\n",
       "\t B & 9 & 4\\\\\n",
       "\t A & 6 & 5\\\\\n",
       "\t B & 7 & 6\\\\\n",
       "\t A & 8 & 7\\\\\n",
       "\t B & 9 & 8\\\\\n",
       "\\end{tabular}\n"
      ],
      "text/markdown": [
       "\n",
       "x | y | z | \n",
       "|---|---|---|---|---|---|---|---|\n",
       "| A | 6 | 1 | \n",
       "| B | 7 | 2 | \n",
       "| A | 8 | 3 | \n",
       "| B | 9 | 4 | \n",
       "| A | 6 | 5 | \n",
       "| B | 7 | 6 | \n",
       "| A | 8 | 7 | \n",
       "| B | 9 | 8 | \n",
       "\n",
       "\n"
      ],
      "text/plain": [
       "  x y z\n",
       "1 A 6 1\n",
       "2 B 7 2\n",
       "3 A 8 3\n",
       "4 B 9 4\n",
       "5 A 6 5\n",
       "6 B 7 6\n",
       "7 A 8 7\n",
       "8 B 9 8"
      ]
     },
     "metadata": {},
     "output_type": "display_data"
    }
   ],
   "source": [
    "x<-c('A','B')\n",
    "y<-6:9\n",
    "z<-1:8\n",
    "d<-data.frame(x,y,z)\n",
    "d"
   ]
  },
  {
   "cell_type": "code",
   "execution_count": 58,
   "metadata": {
    "collapsed": false,
    "deletable": true,
    "editable": true,
    "run_control": {
     "frozen": false,
     "read_only": false
    },
    "scrolled": true
   },
   "outputs": [
    {
     "name": "stdout",
     "output_type": "stream",
     "text": [
      "'data.frame':\t8 obs. of  3 variables:\n",
      " $ x: Factor w/ 2 levels \"A\",\"B\": 1 2 1 2 1 2 1 2\n",
      " $ y: int  6 7 8 9 6 7 8 9\n",
      " $ z: int  1 2 3 4 5 6 7 8\n"
     ]
    }
   ],
   "source": [
    "str(d)"
   ]
  },
  {
   "cell_type": "code",
   "execution_count": 59,
   "metadata": {
    "collapsed": false,
    "deletable": true,
    "editable": true,
    "run_control": {
     "frozen": false,
     "read_only": false
    }
   },
   "outputs": [
    {
     "data": {
      "text/html": [
       "<dl>\n",
       "\t<dt>$names</dt>\n",
       "\t\t<dd><ol class=list-inline>\n",
       "\t<li>'x'</li>\n",
       "\t<li>'y'</li>\n",
       "\t<li>'z'</li>\n",
       "</ol>\n",
       "</dd>\n",
       "\t<dt>$row.names</dt>\n",
       "\t\t<dd><ol class=list-inline>\n",
       "\t<li>1</li>\n",
       "\t<li>2</li>\n",
       "\t<li>3</li>\n",
       "\t<li>4</li>\n",
       "\t<li>5</li>\n",
       "\t<li>6</li>\n",
       "\t<li>7</li>\n",
       "\t<li>8</li>\n",
       "</ol>\n",
       "</dd>\n",
       "\t<dt>$class</dt>\n",
       "\t\t<dd>'data.frame'</dd>\n",
       "</dl>\n"
      ],
      "text/latex": [
       "\\begin{description}\n",
       "\\item[\\$names] \\begin{enumerate*}\n",
       "\\item 'x'\n",
       "\\item 'y'\n",
       "\\item 'z'\n",
       "\\end{enumerate*}\n",
       "\n",
       "\\item[\\$row.names] \\begin{enumerate*}\n",
       "\\item 1\n",
       "\\item 2\n",
       "\\item 3\n",
       "\\item 4\n",
       "\\item 5\n",
       "\\item 6\n",
       "\\item 7\n",
       "\\item 8\n",
       "\\end{enumerate*}\n",
       "\n",
       "\\item[\\$class] 'data.frame'\n",
       "\\end{description}\n"
      ],
      "text/markdown": [
       "$names\n",
       ":   1. 'x'\n",
       "2. 'y'\n",
       "3. 'z'\n",
       "\n",
       "\n",
       "\n",
       "$row.names\n",
       ":   1. 1\n",
       "2. 2\n",
       "3. 3\n",
       "4. 4\n",
       "5. 5\n",
       "6. 6\n",
       "7. 7\n",
       "8. 8\n",
       "\n",
       "\n",
       "\n",
       "$class\n",
       ":   'data.frame'\n",
       "\n",
       "\n"
      ],
      "text/plain": [
       "$names\n",
       "[1] \"x\" \"y\" \"z\"\n",
       "\n",
       "$row.names\n",
       "[1] 1 2 3 4 5 6 7 8\n",
       "\n",
       "$class\n",
       "[1] \"data.frame\"\n"
      ]
     },
     "metadata": {},
     "output_type": "display_data"
    }
   ],
   "source": [
    "attributes(d)"
   ]
  },
  {
   "cell_type": "code",
   "execution_count": 60,
   "metadata": {
    "collapsed": false,
    "deletable": true,
    "editable": true,
    "run_control": {
     "frozen": false,
     "read_only": false
    }
   },
   "outputs": [
    {
     "data": {
      "text/html": [
       "<ol class=list-inline>\n",
       "\t<li>A</li>\n",
       "\t<li>B</li>\n",
       "\t<li>A</li>\n",
       "\t<li>B</li>\n",
       "\t<li>A</li>\n",
       "\t<li>B</li>\n",
       "\t<li>A</li>\n",
       "\t<li>B</li>\n",
       "</ol>\n"
      ],
      "text/latex": [
       "\\begin{enumerate*}\n",
       "\\item A\n",
       "\\item B\n",
       "\\item A\n",
       "\\item B\n",
       "\\item A\n",
       "\\item B\n",
       "\\item A\n",
       "\\item B\n",
       "\\end{enumerate*}\n"
      ],
      "text/markdown": [
       "1. A\n",
       "2. B\n",
       "3. A\n",
       "4. B\n",
       "5. A\n",
       "6. B\n",
       "7. A\n",
       "8. B\n",
       "\n",
       "\n"
      ],
      "text/plain": [
       "[1] A B A B A B A B\n",
       "Levels: A B"
      ]
     },
     "metadata": {},
     "output_type": "display_data"
    }
   ],
   "source": [
    "d$x"
   ]
  },
  {
   "cell_type": "code",
   "execution_count": 61,
   "metadata": {
    "collapsed": false,
    "deletable": true,
    "editable": true,
    "run_control": {
     "frozen": false,
     "read_only": false
    }
   },
   "outputs": [
    {
     "data": {
      "text/html": [
       "<ol class=list-inline>\n",
       "\t<li>7</li>\n",
       "\t<li>8</li>\n",
       "\t<li>9</li>\n",
       "\t<li>6</li>\n",
       "</ol>\n"
      ],
      "text/latex": [
       "\\begin{enumerate*}\n",
       "\\item 7\n",
       "\\item 8\n",
       "\\item 9\n",
       "\\item 6\n",
       "\\end{enumerate*}\n"
      ],
      "text/markdown": [
       "1. 7\n",
       "2. 8\n",
       "3. 9\n",
       "4. 6\n",
       "\n",
       "\n"
      ],
      "text/plain": [
       "[1] 7 8 9 6"
      ]
     },
     "metadata": {},
     "output_type": "display_data"
    }
   ],
   "source": [
    "d$y[2:5]"
   ]
  },
  {
   "cell_type": "code",
   "execution_count": 62,
   "metadata": {
    "collapsed": false,
    "deletable": true,
    "editable": true,
    "run_control": {
     "frozen": false,
     "read_only": false
    }
   },
   "outputs": [
    {
     "name": "stderr",
     "output_type": "stream",
     "text": [
      "Warning message in 2:20:2:\n",
      "“numerical expression has 19 elements: only the first used”"
     ]
    },
    {
     "data": {
      "text/html": [
       "2"
      ],
      "text/latex": [
       "2"
      ],
      "text/markdown": [
       "2"
      ],
      "text/plain": [
       "[1] 2"
      ]
     },
     "metadata": {},
     "output_type": "display_data"
    }
   ],
   "source": [
    "c(2:20:2)"
   ]
  },
  {
   "cell_type": "code",
   "execution_count": 63,
   "metadata": {
    "collapsed": false,
    "deletable": true,
    "editable": true,
    "run_control": {
     "frozen": false,
     "read_only": false
    }
   },
   "outputs": [
    {
     "data": {
      "text/html": [
       "<ol class=list-inline>\n",
       "\t<li>2</li>\n",
       "\t<li>3</li>\n",
       "\t<li>4</li>\n",
       "\t<li>5</li>\n",
       "</ol>\n"
      ],
      "text/latex": [
       "\\begin{enumerate*}\n",
       "\\item 2\n",
       "\\item 3\n",
       "\\item 4\n",
       "\\item 5\n",
       "\\end{enumerate*}\n"
      ],
      "text/markdown": [
       "1. 2\n",
       "2. 3\n",
       "3. 4\n",
       "4. 5\n",
       "\n",
       "\n"
      ],
      "text/plain": [
       "[1] 2 3 4 5"
      ]
     },
     "metadata": {},
     "output_type": "display_data"
    }
   ],
   "source": [
    "d$z[2:5]"
   ]
  },
  {
   "cell_type": "markdown",
   "metadata": {
    "deletable": true,
    "editable": true,
    "run_control": {
     "frozen": false,
     "read_only": false
    }
   },
   "source": [
    "### Függvények:\n",
    "\n",
    "A függvényeket a \"`function`\" paranccsal hozhatjuk létre:"
   ]
  },
  {
   "cell_type": "code",
   "execution_count": 64,
   "metadata": {
    "collapsed": false,
    "deletable": true,
    "editable": true,
    "run_control": {
     "frozen": false,
     "read_only": false
    }
   },
   "outputs": [],
   "source": [
    "simpleAdd <- function(x, y) x + y"
   ]
  },
  {
   "cell_type": "code",
   "execution_count": 65,
   "metadata": {
    "collapsed": false,
    "deletable": true,
    "editable": true,
    "run_control": {
     "frozen": false,
     "read_only": false
    }
   },
   "outputs": [
    {
     "data": {
      "text/html": [
       "6"
      ],
      "text/latex": [
       "6"
      ],
      "text/markdown": [
       "6"
      ],
      "text/plain": [
       "[1] 6"
      ]
     },
     "metadata": {},
     "output_type": "display_data"
    }
   ],
   "source": [
    "# ha megadjuk az argumentum nevét, a sorrend lényegtelen\n",
    "simpleAdd(y = 4, x = 2)"
   ]
  },
  {
   "cell_type": "code",
   "execution_count": 66,
   "metadata": {
    "collapsed": false,
    "deletable": true,
    "editable": true,
    "run_control": {
     "frozen": false,
     "read_only": false
    }
   },
   "outputs": [
    {
     "name": "stdout",
     "output_type": "stream",
     "text": [
      " num 6\n"
     ]
    }
   ],
   "source": [
    "fv_ertek <- simpleAdd(y = 4, x = 2)\n",
    "str(fv_ertek)"
   ]
  },
  {
   "cell_type": "markdown",
   "metadata": {
    "deletable": true,
    "editable": true,
    "run_control": {
     "frozen": false,
     "read_only": false
    }
   },
   "source": [
    "Bonyolúltabb dolgokat \"{}\"-k közé kell rendezni. Ez eltér a Python-tól!"
   ]
  },
  {
   "cell_type": "code",
   "execution_count": 67,
   "metadata": {
    "collapsed": false,
    "deletable": true,
    "editable": true,
    "run_control": {
     "frozen": false,
     "read_only": false
    }
   },
   "outputs": [],
   "source": [
    "func2<-function(x,y){\n",
    "    z=x+y\n",
    "    return(z)\n",
    "}"
   ]
  },
  {
   "cell_type": "code",
   "execution_count": 68,
   "metadata": {
    "collapsed": false,
    "deletable": true,
    "editable": true,
    "run_control": {
     "frozen": false,
     "read_only": false
    }
   },
   "outputs": [
    {
     "data": {
      "text/html": [
       "3"
      ],
      "text/latex": [
       "3"
      ],
      "text/markdown": [
       "3"
      ],
      "text/plain": [
       "[1] 3"
      ]
     },
     "metadata": {},
     "output_type": "display_data"
    }
   ],
   "source": [
    "func2(1,2)"
   ]
  },
  {
   "cell_type": "markdown",
   "metadata": {
    "deletable": true,
    "editable": true,
    "run_control": {
     "frozen": false,
     "read_only": false
    }
   },
   "source": [
    "### Elágazás az R-ben (if)\n",
    "\n",
    "Alap szintaxis: \n",
    "\n",
    "```R\n",
    "if (test_expression) {\n",
    "   statement\n",
    "}\n",
    "```\n",
    "\n",
    "\n",
    "Vagy `else` ággal:\n",
    "\n",
    "```R\n",
    "if (test_expression) {\n",
    "   statement1\n",
    "} else {\n",
    "   statement2\n",
    "}\n",
    "```"
   ]
  },
  {
   "cell_type": "code",
   "execution_count": 69,
   "metadata": {
    "collapsed": false,
    "deletable": true,
    "editable": true,
    "run_control": {
     "frozen": false,
     "read_only": false
    }
   },
   "outputs": [
    {
     "name": "stdout",
     "output_type": "stream",
     "text": [
      "[1] \"Negative number\"\n"
     ]
    }
   ],
   "source": [
    "x <- -5\n",
    "if(x > 0){\n",
    "   print(\"Non-negative number\")\n",
    "} else {\n",
    "   print(\"Negative number\")\n",
    "}"
   ]
  },
  {
   "cell_type": "markdown",
   "metadata": {
    "deletable": true,
    "editable": true,
    "run_control": {
     "frozen": false,
     "read_only": false
    }
   },
   "source": [
    "### Elemeken végigmenő ciklus: `for` ciklus az R-ben\n",
    "\n",
    "Alap szintaxis:\n",
    "\n",
    "```R\n",
    "for (val in sequence)\n",
    "{\n",
    "    statement\n",
    "}\n",
    "```"
   ]
  },
  {
   "cell_type": "markdown",
   "metadata": {
    "deletable": true,
    "editable": true,
    "run_control": {
     "frozen": false,
     "read_only": false
    }
   },
   "source": [
    "### Feltétel vizsgálattal futó cilus: `while` ciklus az R-ben\n",
    "\n",
    "Alap szintaxis:\n",
    "\n",
    "\n",
    "```R\n",
    "while (test_expression)\n",
    "{\n",
    "   statement\n",
    "}\n",
    "```"
   ]
  },
  {
   "cell_type": "code",
   "execution_count": 70,
   "metadata": {
    "collapsed": false,
    "deletable": true,
    "editable": true,
    "run_control": {
     "frozen": false,
     "read_only": false
    }
   },
   "outputs": [
    {
     "name": "stdout",
     "output_type": "stream",
     "text": [
      "[1] 1\n",
      "[1] 2\n",
      "[1] 3\n",
      "[1] 4\n",
      "[1] 5\n"
     ]
    }
   ],
   "source": [
    "i <- 1\n",
    "\n",
    "while (i < 6) {\n",
    "   print(i)\n",
    "   i = i+1\n",
    "}"
   ]
  },
  {
   "cell_type": "markdown",
   "metadata": {
    "deletable": true,
    "editable": true,
    "run_control": {
     "frozen": false,
     "read_only": false
    }
   },
   "source": [
    "### Vezérléis elemek kombinálása:"
   ]
  },
  {
   "cell_type": "code",
   "execution_count": 71,
   "metadata": {
    "collapsed": false,
    "deletable": true,
    "editable": true,
    "run_control": {
     "frozen": false,
     "read_only": false
    }
   },
   "outputs": [],
   "source": [
    "# ha az 'y' argumentum hiányzik, adja össze az 'x' vektor elemeit\n",
    "advAdd <- function(x, y) {\n",
    "    if (missing(y)) {\n",
    "    out <- sum(x)\n",
    "    } else {\n",
    "    out <- x + y\n",
    "    }\n",
    "    return(out)\n",
    "}"
   ]
  },
  {
   "cell_type": "code",
   "execution_count": 72,
   "metadata": {
    "collapsed": false,
    "deletable": true,
    "editable": true,
    "run_control": {
     "frozen": false,
     "read_only": false
    }
   },
   "outputs": [
    {
     "data": {
      "text/html": [
       "6"
      ],
      "text/latex": [
       "6"
      ],
      "text/markdown": [
       "6"
      ],
      "text/plain": [
       "[1] 6"
      ]
     },
     "metadata": {},
     "output_type": "display_data"
    }
   ],
   "source": [
    "# ha nem adunk meg argumentumnevet, akkor a függvény\n",
    "# argumentumainak eredeti sorrendje számít\n",
    "simpleAdd(2, 4)"
   ]
  },
  {
   "cell_type": "markdown",
   "metadata": {
    "deletable": true,
    "editable": true,
    "run_control": {
     "frozen": false,
     "read_only": false
    }
   },
   "source": [
    "# Fájlműveletek R-ben\n",
    "\n",
    "Az **R**-ben számos módszer létezik fájlok kezelésére. Most a leggakrabban használt módot mutatjuk meg szöveges adatfájlok beolvasására.\n",
    "\n",
    "Első lépésben megadható a munkakönvtár a `setwd(\"..\")`, amit most ne változtassunk meg. A `getwd()` paranccsal lekérdezhető az aktuális munkakönyvtár:"
   ]
  },
  {
   "cell_type": "code",
   "execution_count": 73,
   "metadata": {
    "collapsed": false,
    "deletable": true,
    "editable": true,
    "run_control": {
     "frozen": false,
     "read_only": false
    }
   },
   "outputs": [
    {
     "data": {
      "text/html": [
       "'/home/oroszlany/tmp/Package10'"
      ],
      "text/latex": [
       "'/home/oroszlany/tmp/Package10'"
      ],
      "text/markdown": [
       "'/home/oroszlany/tmp/Package10'"
      ],
      "text/plain": [
       "[1] \"/home/oroszlany/tmp/Package10\""
      ]
     },
     "metadata": {},
     "output_type": "display_data"
    }
   ],
   "source": [
    "getwd()"
   ]
  },
  {
   "cell_type": "code",
   "execution_count": 74,
   "metadata": {
    "collapsed": false,
    "deletable": true,
    "editable": true,
    "run_control": {
     "frozen": false,
     "read_only": false
    }
   },
   "outputs": [
    {
     "data": {
      "text/html": [
       "<ol class=list-inline>\n",
       "\t<li>'data'</li>\n",
       "\t<li>'Feladatok_R.ipynb'</li>\n",
       "\t<li>'Feladatok.ipynb'</li>\n",
       "\t<li>'feladatok10.ipynb'</li>\n",
       "\t<li>'feladatokmegoldassal.ipynb'</li>\n",
       "\t<li>'kicsiadat.dat'</li>\n",
       "\t<li>'magic.ipynb'</li>\n",
       "\t<li>'mintapelda10.ipynb'</li>\n",
       "\t<li>'octave-workspace'</li>\n",
       "\t<li>'octave.ipynb'</li>\n",
       "\t<li>'R.ipynb'</li>\n",
       "\t<li>'svd.svg'</li>\n",
       "</ol>\n"
      ],
      "text/latex": [
       "\\begin{enumerate*}\n",
       "\\item 'data'\n",
       "\\item 'Feladatok\\_R.ipynb'\n",
       "\\item 'Feladatok.ipynb'\n",
       "\\item 'feladatok10.ipynb'\n",
       "\\item 'feladatokmegoldassal.ipynb'\n",
       "\\item 'kicsiadat.dat'\n",
       "\\item 'magic.ipynb'\n",
       "\\item 'mintapelda10.ipynb'\n",
       "\\item 'octave-workspace'\n",
       "\\item 'octave.ipynb'\n",
       "\\item 'R.ipynb'\n",
       "\\item 'svd.svg'\n",
       "\\end{enumerate*}\n"
      ],
      "text/markdown": [
       "1. 'data'\n",
       "2. 'Feladatok_R.ipynb'\n",
       "3. 'Feladatok.ipynb'\n",
       "4. 'feladatok10.ipynb'\n",
       "5. 'feladatokmegoldassal.ipynb'\n",
       "6. 'kicsiadat.dat'\n",
       "7. 'magic.ipynb'\n",
       "8. 'mintapelda10.ipynb'\n",
       "9. 'octave-workspace'\n",
       "10. 'octave.ipynb'\n",
       "11. 'R.ipynb'\n",
       "12. 'svd.svg'\n",
       "\n",
       "\n"
      ],
      "text/plain": [
       " [1] \"data\"                       \"Feladatok_R.ipynb\"         \n",
       " [3] \"Feladatok.ipynb\"            \"feladatok10.ipynb\"         \n",
       " [5] \"feladatokmegoldassal.ipynb\" \"kicsiadat.dat\"             \n",
       " [7] \"magic.ipynb\"                \"mintapelda10.ipynb\"        \n",
       " [9] \"octave-workspace\"           \"octave.ipynb\"              \n",
       "[11] \"R.ipynb\"                    \"svd.svg\"                   "
      ]
     },
     "metadata": {},
     "output_type": "display_data"
    }
   ],
   "source": [
    "dir() # megjeleníti a könyvtár tartalmát"
   ]
  },
  {
   "cell_type": "markdown",
   "metadata": {
    "deletable": true,
    "editable": true,
    "run_control": {
     "frozen": false,
     "read_only": false
    }
   },
   "source": [
    "### Adatok beolvasása\n",
    "\n",
    "Adatfájlokat többek között a `read.csv` paranccsal tudunk megtenni. Ez a parancs alapértelmezésben vesszővel elválaszott fájlokat olvas be, illetve alapértelmezett úgy veszi, hogy a fájlnak van fejléce.\n",
    "\n",
    "Nézzük meg a működését az ismert \"h_vs_t.txt\" fájlon (Baumgartner-es példafeledat volt)."
   ]
  },
  {
   "cell_type": "code",
   "execution_count": 75,
   "metadata": {
    "collapsed": false,
    "deletable": true,
    "editable": true,
    "run_control": {
     "frozen": false,
     "read_only": false
    }
   },
   "outputs": [],
   "source": [
    "dat_txt <- read.csv(file = \"data/h_vs_t.txt\")"
   ]
  },
  {
   "cell_type": "code",
   "execution_count": 76,
   "metadata": {
    "collapsed": false,
    "deletable": true,
    "editable": true,
    "run_control": {
     "frozen": false,
     "read_only": false
    }
   },
   "outputs": [
    {
     "name": "stdout",
     "output_type": "stream",
     "text": [
      "'data.frame':\t323 obs. of  1 variable:\n",
      " $ X0.565056.38969: Factor w/ 323 levels \"1.88208 38969\",..: 1 169 253 282 298 307 315 10 18 27 ...\n"
     ]
    }
   ],
   "source": [
    "str(dat_txt)"
   ]
  },
  {
   "cell_type": "markdown",
   "metadata": {
    "deletable": true,
    "editable": true,
    "run_control": {
     "frozen": false,
     "read_only": false
    }
   },
   "source": [
    "Ez így nem lesz jó, hiszen az első sor nem a fejléc volt. Használjuk a \"hearder=False\" kapcsolót:"
   ]
  },
  {
   "cell_type": "code",
   "execution_count": 77,
   "metadata": {
    "collapsed": false,
    "deletable": true,
    "editable": true,
    "run_control": {
     "frozen": false,
     "read_only": false
    }
   },
   "outputs": [],
   "source": [
    "dat_txt <- read.csv(file = \"data/h_vs_t.txt\", header=F) # False rövidíthető egy \"F\" billentyűvel (True pedig \"T\"-vel)"
   ]
  },
  {
   "cell_type": "code",
   "execution_count": 78,
   "metadata": {
    "collapsed": false,
    "deletable": true,
    "editable": true,
    "run_control": {
     "frozen": false,
     "read_only": false
    }
   },
   "outputs": [
    {
     "name": "stdout",
     "output_type": "stream",
     "text": [
      "'data.frame':\t324 obs. of  1 variable:\n",
      " $ V1: Factor w/ 324 levels \"0.565056 38969\",..: 1 2 170 254 283 299 308 316 11 19 ...\n"
     ]
    }
   ],
   "source": [
    "str(dat_txt)"
   ]
  },
  {
   "cell_type": "markdown",
   "metadata": {
    "deletable": true,
    "editable": true,
    "run_control": {
     "frozen": false,
     "read_only": false
    }
   },
   "source": [
    "Még mindig nem jó, hiszen számokról van szó, és a faktor tipus nem erre utal. Ahhoz hogy a szóközzel elválasztott oszlopkat kezelni tdjuk, használjuk a `sep=\" \"` parancsot:"
   ]
  },
  {
   "cell_type": "code",
   "execution_count": 79,
   "metadata": {
    "collapsed": false,
    "deletable": true,
    "editable": true,
    "run_control": {
     "frozen": false,
     "read_only": false
    }
   },
   "outputs": [],
   "source": [
    "dat_txt <- read.csv(file = \"data/h_vs_t.txt\", header=F, sep = \" \")"
   ]
  },
  {
   "cell_type": "code",
   "execution_count": 80,
   "metadata": {
    "collapsed": false,
    "deletable": true,
    "editable": true,
    "run_control": {
     "frozen": false,
     "read_only": false
    }
   },
   "outputs": [
    {
     "name": "stdout",
     "output_type": "stream",
     "text": [
      "'data.frame':\t324 obs. of  2 variables:\n",
      " $ V1: num  0.565 1.882 3.199 4.516 5.833 ...\n",
      " $ V2: int  38969 38969 38969 38969 38968 38954 38926 38879 38815 38734 ...\n"
     ]
    }
   ],
   "source": [
    "str(dat_txt)"
   ]
  },
  {
   "cell_type": "code",
   "execution_count": 81,
   "metadata": {
    "collapsed": false,
    "deletable": true,
    "editable": true,
    "run_control": {
     "frozen": false,
     "read_only": false
    }
   },
   "outputs": [
    {
     "data": {
      "text/html": [
       "<ol class=list-inline>\n",
       "\t<li>0.565056</li>\n",
       "\t<li>1.88208</li>\n",
       "\t<li>3.19911</li>\n",
       "\t<li>4.51614</li>\n",
       "\t<li>5.83317</li>\n",
       "\t<li>7.1502</li>\n",
       "</ol>\n"
      ],
      "text/latex": [
       "\\begin{enumerate*}\n",
       "\\item 0.565056\n",
       "\\item 1.88208\n",
       "\\item 3.19911\n",
       "\\item 4.51614\n",
       "\\item 5.83317\n",
       "\\item 7.1502\n",
       "\\end{enumerate*}\n"
      ],
      "text/markdown": [
       "1. 0.565056\n",
       "2. 1.88208\n",
       "3. 3.19911\n",
       "4. 4.51614\n",
       "5. 5.83317\n",
       "6. 7.1502\n",
       "\n",
       "\n"
      ],
      "text/plain": [
       "[1] 0.565056 1.882080 3.199110 4.516140 5.833170 7.150200"
      ]
     },
     "metadata": {},
     "output_type": "display_data"
    }
   ],
   "source": [
    "head(dat_txt$V1) # a head() parancsat hasznolóan működik, mint a Pythonban"
   ]
  },
  {
   "cell_type": "markdown",
   "metadata": {
    "deletable": true,
    "editable": true,
    "run_control": {
     "frozen": false,
     "read_only": false
    }
   },
   "source": [
    "## Adatok ábrázolása\n",
    "\n",
    "Az adatok egyszerű ábrázolása a `plot()` paranccsal történik:"
   ]
  },
  {
   "cell_type": "code",
   "execution_count": 82,
   "metadata": {
    "collapsed": false,
    "deletable": true,
    "editable": true,
    "run_control": {
     "frozen": false,
     "read_only": false
    }
   },
   "outputs": [
    {
     "data": {
      "image/png": "[encoded data removed]",
      "text/plain": [
       "plot without title"
      ]
     },
     "metadata": {},
     "output_type": "display_data"
    }
   ],
   "source": [
    "plot(dat_txt)"
   ]
  },
  {
   "cell_type": "markdown",
   "metadata": {
    "deletable": true,
    "editable": true,
    "run_control": {
     "frozen": false,
     "read_only": false
    }
   },
   "source": [
    "Számos lehetőség van a plot parancsal módosítására, ám a Pythonnal ellentétben, itt a plot parancson belül kell többségüket kiadni.\n",
    "\n",
    "- main=\" .. \": Ábra\n",
    "- xlab=\" .. \", ylab=\" .. \": X/Y tenegylefelirat\n",
    "- log=\"x\", log=\"y\", log=\"xy\": Logaritmikus tenegly beállítsa, csak x, csak y vagy x-y tengelyre\n",
    "- xlim=c(A,B), ylim=c(A,B): X-Y limitek beállítása (A,B számok)\n",
    "- type: Mivel akarunk ábárzolni (\"p\" pontok, \"l\" vonal, \"b\" pont és vonal)\n",
    "- col=\" .. \": Szín beállítása (pl. \"red\", \"green\", \"blue3\")\n",
    "- pch=SZAM: adatokok szimbóluma (kereszt: 3, kör: 1, négyzet: 0, kör kereszttel: 10, telt kör:16)"
   ]
  },
  {
   "cell_type": "code",
   "execution_count": 83,
   "metadata": {
    "collapsed": false,
    "deletable": true,
    "editable": true,
    "run_control": {
     "frozen": false,
     "read_only": false
    }
   },
   "outputs": [],
   "source": [
    "help(plot)"
   ]
  },
  {
   "cell_type": "code",
   "execution_count": 84,
   "metadata": {
    "collapsed": false,
    "deletable": true,
    "editable": true,
    "run_control": {
     "frozen": false,
     "read_only": false
    }
   },
   "outputs": [
    {
     "data": {
      "image/png": "[encoded data removed]",
      "text/plain": [
       "Plot with title “Ugrás”"
      ]
     },
     "metadata": {},
     "output_type": "display_data"
    }
   ],
   "source": [
    "plot(dat_txt, xlab=\"Idő [s]\", ylab=\"Magasság [m]\", main=\"Ugrás\",\n",
    "    log=\"xy\", xlim=c(0.1,1000), col=\"blue3\", pch=2, type=\"b\")"
   ]
  },
  {
   "cell_type": "markdown",
   "metadata": {
    "deletable": true,
    "editable": true,
    "run_control": {
     "frozen": false,
     "read_only": false
    }
   },
   "source": [
    "### Ábramagyarázat és több adat ábrázolása\n",
    "\n",
    "Ábramagyarázatot a `legend()` paranccsal tudunk elhelyezni.\n",
    "\n",
    "Szintakxisa:\n",
    "\n",
    "\n",
    "```R\n",
    "legend(Pozició,Nevek, ...)\n",
    "```\n",
    "\n",
    "Több adatsort úgy lehet 1 ábrán megmutatni, hogy külön plot parancsokat használunk, és a plot parancsok közé kitesszük:\n",
    "\n",
    "```R\n",
    "par(new=True)\n",
    "```\n",
    "parancsot! Itt figyelni kell a tengelyfeliratok beállítására. A második ábáránál célszerű a semmit (\"\") megadni."
   ]
  },
  {
   "cell_type": "code",
   "execution_count": 85,
   "metadata": {
    "collapsed": false,
    "deletable": true,
    "editable": true,
    "run_control": {
     "frozen": false,
     "read_only": false
    }
   },
   "outputs": [
    {
     "data": {
      "image/png": "[encoded data removed]",
      "text/plain": [
       "Plot with title “Ugrás”"
      ]
     },
     "metadata": {},
     "output_type": "display_data"
    }
   ],
   "source": [
    "plot(dat_txt$V1, xlab=\"Idő [s]\", ylab=\"Magasság [m]\", main=\"Ugrás\",\n",
    "   xlim=c(0,400),ylim=c(0,40000), col=\"green\", pch=16, type=\"b\")\n",
    "par(new=T)\n",
    "plot(dat_txt$V2, xlab=\"\", ylab=\"\",\n",
    "   xlim=c(0,400),ylim=c(0,40000), col=\"orange\", pch=16, type=\"b\")\n",
    "legend(300, 40000, c(\"Magasság\", \"Eltelt idő\"), col=c(\"orange\", \"green\"), pch = 16)"
   ]
  },
  {
   "cell_type": "markdown",
   "metadata": {
    "deletable": true,
    "editable": true,
    "run_control": {
     "frozen": false,
     "read_only": false
    }
   },
   "source": [
    "### Illesztés az adatokra\n",
    "\n",
    "Most csak a lineáris illesztést mutatjuk be, de lehetőség van egyéb görbék illesztésére is.\n",
    "\n",
    "A lineáris illesztést az `lm()` paranccsal lehet elvégezni:"
   ]
  },
  {
   "cell_type": "code",
   "execution_count": 86,
   "metadata": {
    "collapsed": false,
    "deletable": true,
    "editable": true,
    "run_control": {
     "frozen": false,
     "read_only": false
    }
   },
   "outputs": [],
   "source": [
    "x<-dat_txt[dat_txt>=210 & dat_txt<=240,1]\n",
    "y<-dat_txt[dat_txt>=210 & dat_txt<=240,2]"
   ]
  },
  {
   "cell_type": "code",
   "execution_count": 87,
   "metadata": {
    "collapsed": false,
    "deletable": true,
    "editable": true,
    "run_control": {
     "frozen": false,
     "read_only": false
    },
    "scrolled": false
   },
   "outputs": [
    {
     "data": {
      "text/plain": [
       "\n",
       "Call:\n",
       "lm(formula = y ~ x)\n",
       "\n",
       "Coefficients:\n",
       "(Intercept)            x  \n",
       "   18573.15       -61.39  \n"
      ]
     },
     "metadata": {},
     "output_type": "display_data"
    }
   ],
   "source": [
    "lm(y ~ x)"
   ]
  },
  {
   "cell_type": "markdown",
   "metadata": {
    "deletable": true,
    "editable": true,
    "run_control": {
     "frozen": false,
     "read_only": false
    }
   },
   "source": [
    "Figyeljünk oda, hogy a kimenet egy komplex objektum:"
   ]
  },
  {
   "cell_type": "code",
   "execution_count": 88,
   "metadata": {
    "collapsed": false,
    "deletable": true,
    "editable": true,
    "run_control": {
     "frozen": false,
     "read_only": false
    }
   },
   "outputs": [
    {
     "name": "stdout",
     "output_type": "stream",
     "text": [
      "List of 12\n",
      " $ coefficients : Named num [1:2] 18573.2 -61.4\n",
      "  ..- attr(*, \"names\")= chr [1:2] \"(Intercept)\" \"x\"\n",
      " $ residuals    : Named num [1:22] 4.72 4.57 5.42 -3.73 2.12 ...\n",
      "  ..- attr(*, \"names\")= chr [1:22] \"1\" \"2\" \"3\" \"4\" ...\n",
      " $ effects      : Named num [1:22] -2.23e+04 -2.41e+03 3.92 -5.13 8.22e-01 ...\n",
      "  ..- attr(*, \"names\")= chr [1:22] \"(Intercept)\" \"x\" \"\" \"\" ...\n",
      " $ rank         : int 2\n",
      " $ fitted.values: Named num [1:22] 5602 5521 5441 5360 5279 ...\n",
      "  ..- attr(*, \"names\")= chr [1:22] \"1\" \"2\" \"3\" \"4\" ...\n",
      " $ assign       : int [1:2] 0 1\n",
      " $ qr           :List of 5\n",
      "  ..$ qr   : num [1:22, 1:2] -4.69 0.213 0.213 0.213 0.213 ...\n",
      "  .. ..- attr(*, \"dimnames\")=List of 2\n",
      "  .. .. ..$ : chr [1:22] \"1\" \"2\" \"3\" \"4\" ...\n",
      "  .. .. ..$ : chr [1:2] \"(Intercept)\" \"x\"\n",
      "  .. ..- attr(*, \"assign\")= int [1:2] 0 1\n",
      "  ..$ qraux: num [1:2] 1.21 1.26\n",
      "  ..$ pivot: int [1:2] 1 2\n",
      "  ..$ tol  : num 1e-07\n",
      "  ..$ rank : int 2\n",
      "  ..- attr(*, \"class\")= chr \"qr\"\n",
      " $ df.residual  : int 20\n",
      " $ xlevels      : Named list()\n",
      " $ call         : language lm(formula = y ~ x)\n",
      " $ terms        :Classes 'terms', 'formula'  language y ~ x\n",
      "  .. ..- attr(*, \"variables\")= language list(y, x)\n",
      "  .. ..- attr(*, \"factors\")= int [1:2, 1] 0 1\n",
      "  .. .. ..- attr(*, \"dimnames\")=List of 2\n",
      "  .. .. .. ..$ : chr [1:2] \"y\" \"x\"\n",
      "  .. .. .. ..$ : chr \"x\"\n",
      "  .. ..- attr(*, \"term.labels\")= chr \"x\"\n",
      "  .. ..- attr(*, \"order\")= int 1\n",
      "  .. ..- attr(*, \"intercept\")= int 1\n",
      "  .. ..- attr(*, \"response\")= int 1\n",
      "  .. ..- attr(*, \".Environment\")=<environment: R_GlobalEnv> \n",
      "  .. ..- attr(*, \"predvars\")= language list(y, x)\n",
      "  .. ..- attr(*, \"dataClasses\")= Named chr [1:2] \"numeric\" \"numeric\"\n",
      "  .. .. ..- attr(*, \"names\")= chr [1:2] \"y\" \"x\"\n",
      " $ model        :'data.frame':\t22 obs. of  2 variables:\n",
      "  ..$ y: int [1:22] 5607 5526 5446 5356 5281 5201 5116 5035 4951 4871 ...\n",
      "  ..$ x: num [1:22] 211 213 214 215 217 ...\n",
      "  ..- attr(*, \"terms\")=Classes 'terms', 'formula'  language y ~ x\n",
      "  .. .. ..- attr(*, \"variables\")= language list(y, x)\n",
      "  .. .. ..- attr(*, \"factors\")= int [1:2, 1] 0 1\n",
      "  .. .. .. ..- attr(*, \"dimnames\")=List of 2\n",
      "  .. .. .. .. ..$ : chr [1:2] \"y\" \"x\"\n",
      "  .. .. .. .. ..$ : chr \"x\"\n",
      "  .. .. ..- attr(*, \"term.labels\")= chr \"x\"\n",
      "  .. .. ..- attr(*, \"order\")= int 1\n",
      "  .. .. ..- attr(*, \"intercept\")= int 1\n",
      "  .. .. ..- attr(*, \"response\")= int 1\n",
      "  .. .. ..- attr(*, \".Environment\")=<environment: R_GlobalEnv> \n",
      "  .. .. ..- attr(*, \"predvars\")= language list(y, x)\n",
      "  .. .. ..- attr(*, \"dataClasses\")= Named chr [1:2] \"numeric\" \"numeric\"\n",
      "  .. .. .. ..- attr(*, \"names\")= chr [1:2] \"y\" \"x\"\n",
      " - attr(*, \"class\")= chr \"lm\"\n"
     ]
    }
   ],
   "source": [
    "fit<-lm(y~x)\n",
    "str(fit)"
   ]
  },
  {
   "cell_type": "markdown",
   "metadata": {
    "deletable": true,
    "editable": true,
    "run_control": {
     "frozen": false,
     "read_only": false
    }
   },
   "source": [
    "Próbáljuk meg használni a korábban már bemutatott `summary()` parancsot. Itt már kihasználhatjuk az **R** statisztikai képességeit, hiszen az illesztésről megtudjuk mennyire szignifikáns a fit. Látható, hogy ebben az esetben az illesztés hibája kicsi, és annak az esélye, hogy véletlenül lehet egyenest illeszteni $<2\\cdot10^{-16}$, azaz nulla."
   ]
  },
  {
   "cell_type": "code",
   "execution_count": 89,
   "metadata": {
    "collapsed": false,
    "deletable": true,
    "editable": true,
    "run_control": {
     "frozen": false,
     "read_only": false
    }
   },
   "outputs": [
    {
     "data": {
      "text/plain": [
       "\n",
       "Call:\n",
       "lm(formula = y ~ x)\n",
       "\n",
       "Residuals:\n",
       "    Min      1Q  Median      3Q     Max \n",
       "-5.7883 -3.6136 -0.5898  3.1087  5.5534 \n",
       "\n",
       "Coefficients:\n",
       "              Estimate Std. Error t value Pr(>|t|)    \n",
       "(Intercept)  1.857e+04  2.243e+01   828.1   <2e-16 ***\n",
       "x           -6.139e+01  9.956e-02  -616.6   <2e-16 ***\n",
       "---\n",
       "Signif. codes:  0 ‘***’ 0.001 ‘**’ 0.01 ‘*’ 0.05 ‘.’ 0.1 ‘ ’ 1\n",
       "\n",
       "Residual standard error: 3.902 on 20 degrees of freedom\n",
       "Multiple R-squared:  0.9999,\tAdjusted R-squared:  0.9999 \n",
       "F-statistic: 3.802e+05 on 1 and 20 DF,  p-value: < 2.2e-16\n"
      ]
     },
     "metadata": {},
     "output_type": "display_data"
    }
   ],
   "source": [
    "summary(fit)"
   ]
  },
  {
   "cell_type": "markdown",
   "metadata": {
    "deletable": true,
    "editable": true,
    "run_control": {
     "frozen": false,
     "read_only": false
    }
   },
   "source": [
    "FIGYELEM: Az illesztett egyenes ábrázolása kicsit körülményes:\n",
    "\n",
    "Az illesztett adatok a változó \"coefficients\" nevő listájában vannak. Az első elem az y tengelymetszet, míg a második elem a meredeksés, azaz:\n",
    "\n",
    "- Meredekség: `fit$coefficients[2]`\n",
    "- Tengelymetszet: `fit$coefficients[1]`"
   ]
  },
  {
   "cell_type": "code",
   "execution_count": 90,
   "metadata": {
    "collapsed": false,
    "deletable": true,
    "editable": true,
    "run_control": {
     "frozen": false,
     "read_only": false
    }
   },
   "outputs": [
    {
     "data": {
      "image/png": "[encoded data removed]",
      "text/plain": [
       "Plot with title “Illesztés”"
      ]
     },
     "metadata": {},
     "output_type": "display_data"
    }
   ],
   "source": [
    "plot(x,x*fit$coefficients[2]+fit$coefficients[1], type=\"l\", col=\"red\"\n",
    "     , xlab=\"\", ylab=\"\",xlim=c(210,240),ylim=c(3500,6000))\n",
    "par(new=T)\n",
    "plot(x,y, pch=3, col=\"green\", xlab=\"Idő [s]\", ylab=\"Magasság [m]\",xlim=c(210,240),\n",
    "    ylim=c(3500,6000), main=\"Illesztés\")"
   ]
  },
  {
   "cell_type": "markdown",
   "metadata": {
    "deletable": true,
    "editable": true
   },
   "source": [
    "Alternatív módszer a `predict()` parancs használatával:"
   ]
  },
  {
   "cell_type": "code",
   "execution_count": 91,
   "metadata": {
    "collapsed": false,
    "deletable": true,
    "editable": true
   },
   "outputs": [
    {
     "data": {
      "image/png": "[encoded data removed]",
      "text/plain": [
       "Plot with title “Illesztés”"
      ]
     },
     "metadata": {},
     "output_type": "display_data"
    }
   ],
   "source": [
    "plot(x,predict(fit), type=\"l\", col=\"red\"\n",
    "     , xlab=\"\", ylab=\"\",xlim=c(210,240),ylim=c(3500,6000))\n",
    "par(new=T)\n",
    "plot(x,y, pch=3, col=\"green\", xlab=\"Idő [s]\", ylab=\"Magasság [m]\",xlim=c(210,240),\n",
    "    ylim=c(3500,6000), main=\"Illesztés\")"
   ]
  },
  {
   "cell_type": "markdown",
   "metadata": {
    "deletable": true,
    "editable": true
   },
   "source": [
    "### Korreláció számítása\n",
    "\n",
    "Az R-ben könnyen kiszámolható a:\n",
    "\n",
    "- [pearson](https://en.wikipedia.org/wiki/Pearson_correlation_coefficient)\n",
    "- [kendall](https://en.wikipedia.org/wiki/Kendall_rank_correlation_coefficient)\n",
    "- [spearman](https://en.wikipedia.org/wiki/Spearman%27s_rank_correlation_coefficient)\n",
    "\n",
    "\n",
    "korrelációk a `cor()` paranccsal. Alapértelmezetten a \"pearson\" korrelációt adja meg a függvény."
   ]
  },
  {
   "cell_type": "code",
   "execution_count": 92,
   "metadata": {
    "collapsed": false,
    "deletable": true,
    "editable": true
   },
   "outputs": [
    {
     "data": {
      "text/html": [
       "-0.999973700432787"
      ],
      "text/latex": [
       "-0.999973700432787"
      ],
      "text/markdown": [
       "-0.999973700432787"
      ],
      "text/plain": [
       "[1] -0.9999737"
      ]
     },
     "metadata": {},
     "output_type": "display_data"
    }
   ],
   "source": [
    "cor(x,y)"
   ]
  },
  {
   "cell_type": "code",
   "execution_count": 93,
   "metadata": {
    "collapsed": false,
    "deletable": true,
    "editable": true
   },
   "outputs": [
    {
     "data": {
      "text/plain": [
       "\n",
       "\tPearson's product-moment correlation\n",
       "\n",
       "data:  x and y\n",
       "t = -616.62, df = 20, p-value < 2.2e-16\n",
       "alternative hypothesis: true correlation is not equal to 0\n",
       "95 percent confidence interval:\n",
       " -0.9999893 -0.9999354\n",
       "sample estimates:\n",
       "       cor \n",
       "-0.9999737 \n"
      ]
     },
     "metadata": {},
     "output_type": "display_data"
    }
   ],
   "source": [
    "cor.test(x,y)"
   ]
  },
  {
   "cell_type": "code",
   "execution_count": 94,
   "metadata": {
    "collapsed": false,
    "deletable": true,
    "editable": true
   },
   "outputs": [
    {
     "data": {
      "text/html": [
       "-1"
      ],
      "text/latex": [
       "-1"
      ],
      "text/markdown": [
       "-1"
      ],
      "text/plain": [
       "[1] -1"
      ]
     },
     "metadata": {},
     "output_type": "display_data"
    }
   ],
   "source": [
    "cor(x,y, method = \"spearman\")"
   ]
  },
  {
   "cell_type": "markdown",
   "metadata": {
    "collapsed": true,
    "deletable": true,
    "editable": true,
    "run_control": {
     "frozen": false,
     "read_only": false
    }
   },
   "source": [
    "## Statisztika az R-ben\n",
    "\n",
    "Egyszerű leíró statisztika a `summary` paranccsal lekérdezhető:"
   ]
  },
  {
   "cell_type": "code",
   "execution_count": 95,
   "metadata": {
    "collapsed": true,
    "deletable": true,
    "editable": true
   },
   "outputs": [],
   "source": [
    "random<-runif(n = 20, min = 10, max = 30) # runif normál eloszlású véletlen számokat gerenál"
   ]
  },
  {
   "cell_type": "code",
   "execution_count": 96,
   "metadata": {
    "collapsed": false,
    "deletable": true,
    "editable": true
   },
   "outputs": [
    {
     "data": {
      "text/plain": [
       "   Min. 1st Qu.  Median    Mean 3rd Qu.    Max. \n",
       "  10.44   16.62   21.02   20.56   23.77   29.75 "
      ]
     },
     "metadata": {},
     "output_type": "display_data"
    }
   ],
   "source": [
    "summary(random)"
   ]
  },
  {
   "cell_type": "markdown",
   "metadata": {
    "deletable": true,
    "editable": true
   },
   "source": [
    "A medián, az átlag, a szórás (sztenerd hiba) illetve a variancia (szórásnégyzet) számítására vannak külön parancsok is:"
   ]
  },
  {
   "cell_type": "code",
   "execution_count": 97,
   "metadata": {
    "collapsed": false,
    "deletable": true,
    "editable": true
   },
   "outputs": [
    {
     "data": {
      "text/html": [
       "225.1185"
      ],
      "text/latex": [
       "225.1185"
      ],
      "text/markdown": [
       "225.1185"
      ],
      "text/plain": [
       "[1] 225.1185"
      ]
     },
     "metadata": {},
     "output_type": "display_data"
    }
   ],
   "source": [
    "median(x) # Medián"
   ]
  },
  {
   "cell_type": "code",
   "execution_count": 98,
   "metadata": {
    "collapsed": false,
    "deletable": true,
    "editable": true
   },
   "outputs": [
    {
     "data": {
      "text/html": [
       "225.1185"
      ],
      "text/latex": [
       "225.1185"
      ],
      "text/markdown": [
       "225.1185"
      ],
      "text/plain": [
       "[1] 225.1185"
      ]
     },
     "metadata": {},
     "output_type": "display_data"
    }
   ],
   "source": [
    "mean(x) # Számtani átlag"
   ]
  },
  {
   "cell_type": "code",
   "execution_count": 99,
   "metadata": {
    "collapsed": false,
    "deletable": true,
    "editable": true
   },
   "outputs": [
    {
     "data": {
      "text/html": [
       "8.55205352532361"
      ],
      "text/latex": [
       "8.55205352532361"
      ],
      "text/markdown": [
       "8.55205352532361"
      ],
      "text/plain": [
       "[1] 8.552054"
      ]
     },
     "metadata": {},
     "output_type": "display_data"
    }
   ],
   "source": [
    "sd(x) # Normál hiba (szórás)"
   ]
  },
  {
   "cell_type": "code",
   "execution_count": 100,
   "metadata": {
    "collapsed": false,
    "deletable": true,
    "editable": true
   },
   "outputs": [
    {
     "data": {
      "text/html": [
       "73.1376195"
      ],
      "text/latex": [
       "73.1376195"
      ],
      "text/markdown": [
       "73.1376195"
      ],
      "text/plain": [
       "[1] 73.13762"
      ]
     },
     "metadata": {},
     "output_type": "display_data"
    }
   ],
   "source": [
    "var(x) # Variancia, ennek a gyöke a szórás"
   ]
  },
  {
   "cell_type": "markdown",
   "metadata": {
    "deletable": true,
    "editable": true
   },
   "source": [
    "Véletelen egész számok generálására használjuk a `sample` függvényt. Ez a függvény használatos, ha egy listából véletlenszerűen szeretnénk kiválasztani elemeket. A `replace = True` opcióval pedig visszatevéses kiválasztást/generálást is végre lehet hasjtani."
   ]
  },
  {
   "cell_type": "code",
   "execution_count": 101,
   "metadata": {
    "collapsed": false,
    "deletable": true,
    "editable": true
   },
   "outputs": [
    {
     "data": {
      "text/html": [
       "<ol class=list-inline>\n",
       "\t<li>10</li>\n",
       "\t<li>9</li>\n",
       "\t<li>3</li>\n",
       "\t<li>2</li>\n",
       "\t<li>7</li>\n",
       "\t<li>4</li>\n",
       "\t<li>6</li>\n",
       "\t<li>1</li>\n",
       "\t<li>5</li>\n",
       "\t<li>8</li>\n",
       "</ol>\n"
      ],
      "text/latex": [
       "\\begin{enumerate*}\n",
       "\\item 10\n",
       "\\item 9\n",
       "\\item 3\n",
       "\\item 2\n",
       "\\item 7\n",
       "\\item 4\n",
       "\\item 6\n",
       "\\item 1\n",
       "\\item 5\n",
       "\\item 8\n",
       "\\end{enumerate*}\n"
      ],
      "text/markdown": [
       "1. 10\n",
       "2. 9\n",
       "3. 3\n",
       "4. 2\n",
       "5. 7\n",
       "6. 4\n",
       "7. 6\n",
       "8. 1\n",
       "9. 5\n",
       "10. 8\n",
       "\n",
       "\n"
      ],
      "text/plain": [
       " [1] 10  9  3  2  7  4  6  1  5  8"
      ]
     },
     "metadata": {},
     "output_type": "display_data"
    }
   ],
   "source": [
    "sample(x=10)"
   ]
  },
  {
   "cell_type": "code",
   "execution_count": 102,
   "metadata": {
    "collapsed": false,
    "deletable": true,
    "editable": true
   },
   "outputs": [
    {
     "data": {
      "text/html": [
       "<ol class=list-inline>\n",
       "\t<li>4630</li>\n",
       "\t<li>5526</li>\n",
       "\t<li>4310</li>\n",
       "\t<li>4231</li>\n",
       "\t<li>4788</li>\n",
       "</ol>\n"
      ],
      "text/latex": [
       "\\begin{enumerate*}\n",
       "\\item 4630\n",
       "\\item 5526\n",
       "\\item 4310\n",
       "\\item 4231\n",
       "\\item 4788\n",
       "\\end{enumerate*}\n"
      ],
      "text/markdown": [
       "1. 4630\n",
       "2. 5526\n",
       "3. 4310\n",
       "4. 4231\n",
       "5. 4788\n",
       "\n",
       "\n"
      ],
      "text/plain": [
       "[1] 4630 5526 4310 4231 4788"
      ]
     },
     "metadata": {},
     "output_type": "display_data"
    }
   ],
   "source": [
    "sample(y, size = 5, replace = T)"
   ]
  },
  {
   "cell_type": "markdown",
   "metadata": {
    "deletable": true,
    "editable": true
   },
   "source": [
    "Listák sorbarendezésére használatos a `sort()` függvény."
   ]
  },
  {
   "cell_type": "code",
   "execution_count": 103,
   "metadata": {
    "collapsed": false,
    "deletable": true,
    "editable": true
   },
   "outputs": [
    {
     "data": {
      "text/html": [
       "<ol class=list-inline>\n",
       "\t<li>0.0600320098455995</li>\n",
       "\t<li>0.0742365957703441</li>\n",
       "\t<li>0.13665665499866</li>\n",
       "\t<li>0.181749905226752</li>\n",
       "\t<li>0.221267357701436</li>\n",
       "\t<li>0.295819088816643</li>\n",
       "\t<li>0.296470059314743</li>\n",
       "\t<li>0.314731129910797</li>\n",
       "\t<li>0.402614923892543</li>\n",
       "\t<li>0.42593721114099</li>\n",
       "\t<li>0.468832379672676</li>\n",
       "\t<li>0.487839704845101</li>\n",
       "\t<li>0.495539406314492</li>\n",
       "\t<li>0.506296699633822</li>\n",
       "\t<li>0.538032811135054</li>\n",
       "\t<li>0.551218152046204</li>\n",
       "\t<li>0.592391935875639</li>\n",
       "\t<li>0.666928938124329</li>\n",
       "\t<li>0.691940538585186</li>\n",
       "\t<li>0.782649149885401</li>\n",
       "</ol>\n"
      ],
      "text/latex": [
       "\\begin{enumerate*}\n",
       "\\item 0.0600320098455995\n",
       "\\item 0.0742365957703441\n",
       "\\item 0.13665665499866\n",
       "\\item 0.181749905226752\n",
       "\\item 0.221267357701436\n",
       "\\item 0.295819088816643\n",
       "\\item 0.296470059314743\n",
       "\\item 0.314731129910797\n",
       "\\item 0.402614923892543\n",
       "\\item 0.42593721114099\n",
       "\\item 0.468832379672676\n",
       "\\item 0.487839704845101\n",
       "\\item 0.495539406314492\n",
       "\\item 0.506296699633822\n",
       "\\item 0.538032811135054\n",
       "\\item 0.551218152046204\n",
       "\\item 0.592391935875639\n",
       "\\item 0.666928938124329\n",
       "\\item 0.691940538585186\n",
       "\\item 0.782649149885401\n",
       "\\end{enumerate*}\n"
      ],
      "text/markdown": [
       "1. 0.0600320098455995\n",
       "2. 0.0742365957703441\n",
       "3. 0.13665665499866\n",
       "4. 0.181749905226752\n",
       "5. 0.221267357701436\n",
       "6. 0.295819088816643\n",
       "7. 0.296470059314743\n",
       "8. 0.314731129910797\n",
       "9. 0.402614923892543\n",
       "10. 0.42593721114099\n",
       "11. 0.468832379672676\n",
       "12. 0.487839704845101\n",
       "13. 0.495539406314492\n",
       "14. 0.506296699633822\n",
       "15. 0.538032811135054\n",
       "16. 0.551218152046204\n",
       "17. 0.592391935875639\n",
       "18. 0.666928938124329\n",
       "19. 0.691940538585186\n",
       "20. 0.782649149885401\n",
       "\n",
       "\n"
      ],
      "text/plain": [
       " [1] 0.06003201 0.07423660 0.13665665 0.18174991 0.22126736 0.29581909\n",
       " [7] 0.29647006 0.31473113 0.40261492 0.42593721 0.46883238 0.48783970\n",
       "[13] 0.49553941 0.50629670 0.53803281 0.55121815 0.59239194 0.66692894\n",
       "[19] 0.69194054 0.78264915"
      ]
     },
     "metadata": {},
     "output_type": "display_data"
    }
   ],
   "source": [
    "random<-runif(20)\n",
    "sort(random)"
   ]
  },
  {
   "cell_type": "code",
   "execution_count": 104,
   "metadata": {
    "collapsed": false,
    "deletable": true,
    "editable": true
   },
   "outputs": [
    {
     "data": {
      "text/html": [
       "<ol class=list-inline>\n",
       "\t<li>0.782649149885401</li>\n",
       "\t<li>0.691940538585186</li>\n",
       "\t<li>0.666928938124329</li>\n",
       "\t<li>0.592391935875639</li>\n",
       "\t<li>0.551218152046204</li>\n",
       "\t<li>0.538032811135054</li>\n",
       "\t<li>0.506296699633822</li>\n",
       "\t<li>0.495539406314492</li>\n",
       "\t<li>0.487839704845101</li>\n",
       "\t<li>0.468832379672676</li>\n",
       "\t<li>0.42593721114099</li>\n",
       "\t<li>0.402614923892543</li>\n",
       "\t<li>0.314731129910797</li>\n",
       "\t<li>0.296470059314743</li>\n",
       "\t<li>0.295819088816643</li>\n",
       "\t<li>0.221267357701436</li>\n",
       "\t<li>0.181749905226752</li>\n",
       "\t<li>0.13665665499866</li>\n",
       "\t<li>0.0742365957703441</li>\n",
       "\t<li>0.0600320098455995</li>\n",
       "</ol>\n"
      ],
      "text/latex": [
       "\\begin{enumerate*}\n",
       "\\item 0.782649149885401\n",
       "\\item 0.691940538585186\n",
       "\\item 0.666928938124329\n",
       "\\item 0.592391935875639\n",
       "\\item 0.551218152046204\n",
       "\\item 0.538032811135054\n",
       "\\item 0.506296699633822\n",
       "\\item 0.495539406314492\n",
       "\\item 0.487839704845101\n",
       "\\item 0.468832379672676\n",
       "\\item 0.42593721114099\n",
       "\\item 0.402614923892543\n",
       "\\item 0.314731129910797\n",
       "\\item 0.296470059314743\n",
       "\\item 0.295819088816643\n",
       "\\item 0.221267357701436\n",
       "\\item 0.181749905226752\n",
       "\\item 0.13665665499866\n",
       "\\item 0.0742365957703441\n",
       "\\item 0.0600320098455995\n",
       "\\end{enumerate*}\n"
      ],
      "text/markdown": [
       "1. 0.782649149885401\n",
       "2. 0.691940538585186\n",
       "3. 0.666928938124329\n",
       "4. 0.592391935875639\n",
       "5. 0.551218152046204\n",
       "6. 0.538032811135054\n",
       "7. 0.506296699633822\n",
       "8. 0.495539406314492\n",
       "9. 0.487839704845101\n",
       "10. 0.468832379672676\n",
       "11. 0.42593721114099\n",
       "12. 0.402614923892543\n",
       "13. 0.314731129910797\n",
       "14. 0.296470059314743\n",
       "15. 0.295819088816643\n",
       "16. 0.221267357701436\n",
       "17. 0.181749905226752\n",
       "18. 0.13665665499866\n",
       "19. 0.0742365957703441\n",
       "20. 0.0600320098455995\n",
       "\n",
       "\n"
      ],
      "text/plain": [
       " [1] 0.78264915 0.69194054 0.66692894 0.59239194 0.55121815 0.53803281\n",
       " [7] 0.50629670 0.49553941 0.48783970 0.46883238 0.42593721 0.40261492\n",
       "[13] 0.31473113 0.29647006 0.29581909 0.22126736 0.18174991 0.13665665\n",
       "[19] 0.07423660 0.06003201"
      ]
     },
     "metadata": {},
     "output_type": "display_data"
    }
   ],
   "source": [
    "sort(random,decreasing = T) #ez csökkenő sorrendeben rendez"
   ]
  },
  {
   "cell_type": "markdown",
   "metadata": {
    "deletable": true,
    "editable": true
   },
   "source": [
    "Itt lehetőség van a sorbarendezési indexeket is megnézni az `index.return=True` beálítással:"
   ]
  },
  {
   "cell_type": "code",
   "execution_count": 105,
   "metadata": {
    "collapsed": false,
    "deletable": true,
    "editable": true
   },
   "outputs": [
    {
     "data": {
      "text/html": [
       "<dl>\n",
       "\t<dt>$x</dt>\n",
       "\t\t<dd><ol class=list-inline>\n",
       "\t<li>0.0600320098455995</li>\n",
       "\t<li>0.0742365957703441</li>\n",
       "\t<li>0.13665665499866</li>\n",
       "\t<li>0.181749905226752</li>\n",
       "\t<li>0.221267357701436</li>\n",
       "\t<li>0.295819088816643</li>\n",
       "\t<li>0.296470059314743</li>\n",
       "\t<li>0.314731129910797</li>\n",
       "\t<li>0.402614923892543</li>\n",
       "\t<li>0.42593721114099</li>\n",
       "\t<li>0.468832379672676</li>\n",
       "\t<li>0.487839704845101</li>\n",
       "\t<li>0.495539406314492</li>\n",
       "\t<li>0.506296699633822</li>\n",
       "\t<li>0.538032811135054</li>\n",
       "\t<li>0.551218152046204</li>\n",
       "\t<li>0.592391935875639</li>\n",
       "\t<li>0.666928938124329</li>\n",
       "\t<li>0.691940538585186</li>\n",
       "\t<li>0.782649149885401</li>\n",
       "</ol>\n",
       "</dd>\n",
       "\t<dt>$ix</dt>\n",
       "\t\t<dd><ol class=list-inline>\n",
       "\t<li>2</li>\n",
       "\t<li>18</li>\n",
       "\t<li>17</li>\n",
       "\t<li>19</li>\n",
       "\t<li>8</li>\n",
       "\t<li>3</li>\n",
       "\t<li>5</li>\n",
       "\t<li>11</li>\n",
       "\t<li>4</li>\n",
       "\t<li>14</li>\n",
       "\t<li>1</li>\n",
       "\t<li>9</li>\n",
       "\t<li>10</li>\n",
       "\t<li>7</li>\n",
       "\t<li>20</li>\n",
       "\t<li>6</li>\n",
       "\t<li>13</li>\n",
       "\t<li>16</li>\n",
       "\t<li>12</li>\n",
       "\t<li>15</li>\n",
       "</ol>\n",
       "</dd>\n",
       "</dl>\n"
      ],
      "text/latex": [
       "\\begin{description}\n",
       "\\item[\\$x] \\begin{enumerate*}\n",
       "\\item 0.0600320098455995\n",
       "\\item 0.0742365957703441\n",
       "\\item 0.13665665499866\n",
       "\\item 0.181749905226752\n",
       "\\item 0.221267357701436\n",
       "\\item 0.295819088816643\n",
       "\\item 0.296470059314743\n",
       "\\item 0.314731129910797\n",
       "\\item 0.402614923892543\n",
       "\\item 0.42593721114099\n",
       "\\item 0.468832379672676\n",
       "\\item 0.487839704845101\n",
       "\\item 0.495539406314492\n",
       "\\item 0.506296699633822\n",
       "\\item 0.538032811135054\n",
       "\\item 0.551218152046204\n",
       "\\item 0.592391935875639\n",
       "\\item 0.666928938124329\n",
       "\\item 0.691940538585186\n",
       "\\item 0.782649149885401\n",
       "\\end{enumerate*}\n",
       "\n",
       "\\item[\\$ix] \\begin{enumerate*}\n",
       "\\item 2\n",
       "\\item 18\n",
       "\\item 17\n",
       "\\item 19\n",
       "\\item 8\n",
       "\\item 3\n",
       "\\item 5\n",
       "\\item 11\n",
       "\\item 4\n",
       "\\item 14\n",
       "\\item 1\n",
       "\\item 9\n",
       "\\item 10\n",
       "\\item 7\n",
       "\\item 20\n",
       "\\item 6\n",
       "\\item 13\n",
       "\\item 16\n",
       "\\item 12\n",
       "\\item 15\n",
       "\\end{enumerate*}\n",
       "\n",
       "\\end{description}\n"
      ],
      "text/markdown": [
       "$x\n",
       ":   1. 0.0600320098455995\n",
       "2. 0.0742365957703441\n",
       "3. 0.13665665499866\n",
       "4. 0.181749905226752\n",
       "5. 0.221267357701436\n",
       "6. 0.295819088816643\n",
       "7. 0.296470059314743\n",
       "8. 0.314731129910797\n",
       "9. 0.402614923892543\n",
       "10. 0.42593721114099\n",
       "11. 0.468832379672676\n",
       "12. 0.487839704845101\n",
       "13. 0.495539406314492\n",
       "14. 0.506296699633822\n",
       "15. 0.538032811135054\n",
       "16. 0.551218152046204\n",
       "17. 0.592391935875639\n",
       "18. 0.666928938124329\n",
       "19. 0.691940538585186\n",
       "20. 0.782649149885401\n",
       "\n",
       "\n",
       "\n",
       "$ix\n",
       ":   1. 2\n",
       "2. 18\n",
       "3. 17\n",
       "4. 19\n",
       "5. 8\n",
       "6. 3\n",
       "7. 5\n",
       "8. 11\n",
       "9. 4\n",
       "10. 14\n",
       "11. 1\n",
       "12. 9\n",
       "13. 10\n",
       "14. 7\n",
       "15. 20\n",
       "16. 6\n",
       "17. 13\n",
       "18. 16\n",
       "19. 12\n",
       "20. 15\n",
       "\n",
       "\n",
       "\n",
       "\n",
       "\n"
      ],
      "text/plain": [
       "$x\n",
       " [1] 0.06003201 0.07423660 0.13665665 0.18174991 0.22126736 0.29581909\n",
       " [7] 0.29647006 0.31473113 0.40261492 0.42593721 0.46883238 0.48783970\n",
       "[13] 0.49553941 0.50629670 0.53803281 0.55121815 0.59239194 0.66692894\n",
       "[19] 0.69194054 0.78264915\n",
       "\n",
       "$ix\n",
       " [1]  2 18 17 19  8  3  5 11  4 14  1  9 10  7 20  6 13 16 12 15\n"
      ]
     },
     "metadata": {},
     "output_type": "display_data"
    }
   ],
   "source": [
    "sort(random,index.return=T)"
   ]
  },
  {
   "cell_type": "markdown",
   "metadata": {
    "deletable": true,
    "editable": true
   },
   "source": [
    "### Ismert eloszlások R-ben\n",
    "\n",
    "Az R ismeri a legfontosabb eloszlástipusokat, mint a normál, binominális, $\\chi^2$, cauchy, exponenciális és még sok mást."
   ]
  },
  {
   "cell_type": "code",
   "execution_count": 106,
   "metadata": {
    "collapsed": true,
    "deletable": true,
    "editable": true
   },
   "outputs": [],
   "source": [
    "x<-seq(-3,3,0.1)"
   ]
  },
  {
   "cell_type": "code",
   "execution_count": 107,
   "metadata": {
    "collapsed": false,
    "deletable": true,
    "editable": true
   },
   "outputs": [
    {
     "data": {
      "image/png": "[encoded data removed]",
      "text/plain": [
       "Plot with title “dnorm()”"
      ]
     },
     "metadata": {},
     "output_type": "display_data"
    }
   ],
   "source": [
    "plot(x,dnorm(x),type=\"l\",main=\"dnorm()\")"
   ]
  },
  {
   "cell_type": "markdown",
   "metadata": {
    "deletable": true,
    "editable": true
   },
   "source": [
    "### Statisztika tesztek az R-ben\n",
    "\n",
    "Az R számos statisztikai tesztet ismer az R:\n",
    "\n",
    "- Student t-teszt\n",
    "- $\\chi^2$-teszt$\n",
    "- Kolmogorov Smirnov Teszt\n",
    "- Shapiro-Wilk Normality Teszt\n",
    "- ...\n",
    "\n",
    "Példa T-próbára: \n",
    "\n",
    "Egy gyárban egy gépnek 500 g töltőanyagot kell a konzervekbe juttatnia minden töltéskor. A töltőanyag egyenetlenségéből adódóan a gép néha kicsit többet, néha kicsit kevesebbet tölt, mint 500 g. Arra vagyunk kíváncsiak, hogy a gép átlagos \"teljesítménye\" 500 g-nak mondható-e. Kiveszünk 10 konzervet a futószalagról és megmérjük mindben a töltőanyag súlyát. Az eredmények rendre\n",
    "483, 502, 498, 496, 502, 483, 494, 491, 505, 486. \n",
    "\n",
    "Vizsgáljuk meg, hogy szignifikánsan eltér-e az átlagtól a termelés?"
   ]
  },
  {
   "cell_type": "code",
   "execution_count": 108,
   "metadata": {
    "collapsed": false,
    "deletable": true,
    "editable": true
   },
   "outputs": [
    {
     "data": {
      "text/plain": [
       "\n",
       "\tOne Sample t-test\n",
       "\n",
       "data:  x\n",
       "t = -2.3554, df = 9, p-value = 0.04292\n",
       "alternative hypothesis: true mean is not equal to 500\n",
       "5 percent confidence interval:\n",
       " 493.8358 494.1642\n",
       "sample estimates:\n",
       "mean of x \n",
       "      494 \n"
      ]
     },
     "metadata": {},
     "output_type": "display_data"
    }
   ],
   "source": [
    "x<- c(483, 502, 498, 496, 502, 483, 494, 491, 505, 486)\n",
    "t.test(x, mu=500, conf.level = 0.05) # A táblázatbeli határérték 95%-os szignifikancia szinten: 1.833"
   ]
  },
  {
   "cell_type": "markdown",
   "metadata": {
    "deletable": true,
    "editable": true
   },
   "source": [
    "A nullhipotézist elvetjük, az egymintás t-próba szerint az átlagos töltőtömeg szignifikánsan eltér (p = 0,05-ös szignifikancia szint mellett) az 500 g-tól."
   ]
  },
  {
   "cell_type": "markdown",
   "metadata": {
    "deletable": true,
    "editable": true
   },
   "source": [
    "A **Kolmogorov–Szmirnov próba** egy olyan statisztikai teszt, ami két minta eloszlásának összehasonlítására alkalmas. Alkalmas arra, hogy két valószínűségi változó eloszlását összehasonlítsuk, vagy ellenőrizzük, hogy egy valószínűségi változónak csakugyan az az eloszlása, amit feltételeztünk."
   ]
  },
  {
   "cell_type": "code",
   "execution_count": 109,
   "metadata": {
    "collapsed": false,
    "deletable": true,
    "editable": true
   },
   "outputs": [
    {
     "name": "stderr",
     "output_type": "stream",
     "text": [
      "Warning message in ks.test(x, y):\n",
      "“cannot compute exact p-value with ties”"
     ]
    },
    {
     "data": {
      "text/plain": [
       "\n",
       "\tTwo-sample Kolmogorov-Smirnov test\n",
       "\n",
       "data:  x and y\n",
       "D = 0.5, p-value = 0.1641\n",
       "alternative hypothesis: two-sided\n"
      ]
     },
     "metadata": {},
     "output_type": "display_data"
    }
   ],
   "source": [
    "x <- c(1,2,2,3,3,3,3,4,5,6)\n",
    "y <- c(2,3,4,5,5,6,6,6,6,7)\n",
    "z <- c(12,13,14,15,15,16,16,16,16,17)\n",
    "\n",
    "ks.test(x,y)"
   ]
  },
  {
   "cell_type": "code",
   "execution_count": 110,
   "metadata": {
    "collapsed": false,
    "deletable": true,
    "editable": true
   },
   "outputs": [
    {
     "name": "stderr",
     "output_type": "stream",
     "text": [
      "Warning message in ks.test(x, z):\n",
      "“cannot compute exact p-value with ties”"
     ]
    },
    {
     "data": {
      "text/plain": [
       "\n",
       "\tTwo-sample Kolmogorov-Smirnov test\n",
       "\n",
       "data:  x and z\n",
       "D = 1, p-value = 9.08e-05\n",
       "alternative hypothesis: two-sided\n"
      ]
     },
     "metadata": {},
     "output_type": "display_data"
    }
   ],
   "source": [
    "ks.test(x,z)"
   ]
  },
  {
   "cell_type": "markdown",
   "metadata": {
    "deletable": true,
    "editable": true
   },
   "source": [
    "A **Shapiro-Wilk teszt** azt vizsgálja, hogy a minták normál eloszlásból származik-e?"
   ]
  },
  {
   "cell_type": "code",
   "execution_count": 111,
   "metadata": {
    "collapsed": false,
    "deletable": true,
    "editable": true
   },
   "outputs": [
    {
     "data": {
      "text/plain": [
       "\n",
       "\tShapiro-Wilk normality test\n",
       "\n",
       "data:  x\n",
       "W = 0.93644, p-value = 0.5141\n"
      ]
     },
     "metadata": {},
     "output_type": "display_data"
    }
   ],
   "source": [
    "shapiro.test(x)"
   ]
  },
  {
   "cell_type": "code",
   "execution_count": 112,
   "metadata": {
    "collapsed": false,
    "deletable": true,
    "editable": true
   },
   "outputs": [
    {
     "data": {
      "text/plain": [
       "\n",
       "\tShapiro-Wilk normality test\n",
       "\n",
       "data:  y\n",
       "W = 0.89893, p-value = 0.2132\n"
      ]
     },
     "metadata": {},
     "output_type": "display_data"
    }
   ],
   "source": [
    "shapiro.test(y)"
   ]
  },
  {
   "cell_type": "code",
   "execution_count": 113,
   "metadata": {
    "collapsed": false,
    "deletable": true,
    "editable": true
   },
   "outputs": [
    {
     "data": {
      "text/plain": [
       "\n",
       "\tShapiro-Wilk normality test\n",
       "\n",
       "data:  z\n",
       "W = 0.89893, p-value = 0.2132\n"
      ]
     },
     "metadata": {},
     "output_type": "display_data"
    }
   ],
   "source": [
    "shapiro.test(z)"
   ]
  },
  {
   "cell_type": "code",
   "execution_count": 114,
   "metadata": {
    "collapsed": false,
    "deletable": true,
    "editable": true
   },
   "outputs": [
    {
     "data": {
      "text/plain": [
       "\n",
       "\tShapiro-Wilk normality test\n",
       "\n",
       "data:  dnorm(x)\n",
       "W = 0.55502, p-value = 1.617e-05\n"
      ]
     },
     "metadata": {},
     "output_type": "display_data"
    }
   ],
   "source": [
    "shapiro.test(dnorm(x)) # Ez így egy nomrális eloszlásű adatsort vizsgál"
   ]
  },
  {
   "cell_type": "markdown",
   "metadata": {
    "deletable": true,
    "editable": true
   },
   "source": [
    "#### Korreláció tesztelése\n",
    "\n",
    "Két változó korrelációjnak tesztelésére a `cor.test` használandó. A korreláció kiszámolásának mintájára, itt is többféle korrelációt vizsgálhatunk."
   ]
  },
  {
   "cell_type": "code",
   "execution_count": 115,
   "metadata": {
    "collapsed": false,
    "deletable": true,
    "editable": true
   },
   "outputs": [
    {
     "data": {
      "text/plain": [
       "\n",
       "\tPearson's product-moment correlation\n",
       "\n",
       "data:  x and y\n",
       "t = -616.62, df = 20, p-value < 2.2e-16\n",
       "alternative hypothesis: true correlation is not equal to 0\n",
       "95 percent confidence interval:\n",
       " -0.9999893 -0.9999354\n",
       "sample estimates:\n",
       "       cor \n",
       "-0.9999737 \n"
      ]
     },
     "metadata": {},
     "output_type": "display_data"
    }
   ],
   "source": [
    "x<-dat_txt[dat_txt>=210 & dat_txt<=240,1]\n",
    "y<-dat_txt[dat_txt>=210 & dat_txt<=240,2]\n",
    "\n",
    "cor.test(x,y)"
   ]
  },
  {
   "cell_type": "code",
   "execution_count": 116,
   "metadata": {
    "collapsed": false,
    "deletable": true,
    "editable": true
   },
   "outputs": [
    {
     "data": {
      "text/plain": [
       "\n",
       "\tSpearman's rank correlation rho\n",
       "\n",
       "data:  x and y\n",
       "S = 3542, p-value = 2.438e-06\n",
       "alternative hypothesis: true rho is not equal to 0\n",
       "sample estimates:\n",
       "rho \n",
       " -1 \n"
      ]
     },
     "metadata": {},
     "output_type": "display_data"
    }
   ],
   "source": [
    "cor.test(x,y, method = \"spearman\")"
   ]
  }
 ],
 "metadata": {
  "hide_input": false,
  "kernelspec": {
   "display_name": "R",
   "language": "R",
   "name": "ir"
  },
  "language_info": {
   "codemirror_mode": "r",
   "file_extension": ".r",
   "mimetype": "text/x-r-source",
   "name": "R",
   "pygments_lexer": "r",
   "version": "3.3.2"
  }
 },
 "nbformat": 4,
 "nbformat_minor": 0
}
