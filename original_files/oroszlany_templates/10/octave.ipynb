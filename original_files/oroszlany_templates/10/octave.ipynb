{
 "cells": [
  {
   "cell_type": "markdown",
   "metadata": {
    "deletable": true,
    "editable": true
   },
   "source": [
    "# Octave\n",
    "\n",
    "Az [octave](https://www.gnu.org/software/octave/) a [matlab](https://www.mathworks.com/) ingyenes utánzata. Egyaránt telepíthető linuxra, windowsra, és használható a jupyter rendszerben is.\n",
    "A `python`-hoz hasonlóan nagy előnye, hogy egy utasításban tud műveleteket hatékonyan végezni adatsorok, vektorok illetve mátrixok összes elemével.\n",
    "\n",
    "\n",
    "Néhány hasznos link:\n",
    "- hivatalos octave [dokumentáció](https://www.gnu.org/software/octave/doc/interpreter/index.html)\n",
    "- ELTE-s octave [dokumentáció](http://nyelvek.inf.elte.hu/leirasok/Octave/index.php)"
   ]
  },
  {
   "cell_type": "markdown",
   "metadata": {
    "deletable": true,
    "editable": true
   },
   "source": [
    "### Alapok\n",
    "\n",
    "A `octave`-ot a `python`-hoz hasonlóan használhatjuk számológépként:"
   ]
  },
  {
   "cell_type": "code",
   "execution_count": 1,
   "metadata": {
    "collapsed": false,
    "deletable": true,
    "editable": true
   },
   "outputs": [
    {
     "name": "stdout",
     "output_type": "stream",
     "text": [
      "ans =  3\n"
     ]
    }
   ],
   "source": [
    "1+2"
   ]
  },
  {
   "cell_type": "code",
   "execution_count": 2,
   "metadata": {
    "collapsed": false,
    "deletable": true,
    "editable": true
   },
   "outputs": [
    {
     "name": "stdout",
     "output_type": "stream",
     "text": [
      "ans =  12\n"
     ]
    }
   ],
   "source": [
    "3*4.0"
   ]
  },
  {
   "cell_type": "markdown",
   "metadata": {
    "deletable": true,
    "editable": true
   },
   "source": [
    "`octave`-ban a \"^\"-al hatványozunk:"
   ]
  },
  {
   "cell_type": "code",
   "execution_count": 3,
   "metadata": {
    "collapsed": false,
    "deletable": true,
    "editable": true
   },
   "outputs": [
    {
     "name": "stdout",
     "output_type": "stream",
     "text": [
      "ans =  8\n"
     ]
    }
   ],
   "source": [
    "2^3 # Figyelem itt így hatványozunk!"
   ]
  },
  {
   "cell_type": "markdown",
   "metadata": {
    "deletable": true,
    "editable": true
   },
   "source": [
    "Komplex számokat az `i`-betűvel jelöljük:"
   ]
  },
  {
   "cell_type": "code",
   "execution_count": 4,
   "metadata": {
    "collapsed": false,
    "deletable": true,
    "editable": true
   },
   "outputs": [
    {
     "name": "stdout",
     "output_type": "stream",
     "text": [
      "ans = -1\n"
     ]
    }
   ],
   "source": [
    "1i*1i"
   ]
  },
  {
   "cell_type": "markdown",
   "metadata": {
    "deletable": true,
    "editable": true
   },
   "source": [
    "Változókat itt is az `=`-jellel deklarálunk:"
   ]
  },
  {
   "cell_type": "code",
   "execution_count": 5,
   "metadata": {
    "collapsed": false,
    "deletable": true,
    "editable": true
   },
   "outputs": [
    {
     "name": "stdout",
     "output_type": "stream",
     "text": [
      "x =  1.7500\n",
      "ans =  2.3214\n"
     ]
    }
   ],
   "source": [
    "x=7/4\n",
    "x+1/x"
   ]
  },
  {
   "cell_type": "markdown",
   "metadata": {
    "deletable": true,
    "editable": true
   },
   "source": [
    "A változók itt is lehetnek számok vagy karakterláncok:"
   ]
  },
  {
   "cell_type": "code",
   "execution_count": 6,
   "metadata": {
    "collapsed": false,
    "deletable": true,
    "editable": true
   },
   "outputs": [
    {
     "name": "stdout",
     "output_type": "stream",
     "text": [
      "x =  0.018182\n",
      "s = Hy\n"
     ]
    }
   ],
   "source": [
    "x=1/55 # ez egy szám\n",
    "s='Hy' # ez egy string"
   ]
  },
  {
   "cell_type": "markdown",
   "metadata": {
    "deletable": true,
    "editable": true
   },
   "source": [
    "Fontos különbség a `python`-hoz képest hogy bool típusú változók külön nincsenek definiálva. A `0` és `1` egész számok reprezentálják a `True` és `False` értékeket:"
   ]
  },
  {
   "cell_type": "code",
   "execution_count": 7,
   "metadata": {
    "collapsed": false,
    "deletable": true,
    "editable": true
   },
   "outputs": [
    {
     "name": "stdout",
     "output_type": "stream",
     "text": [
      "ans =  1\n"
     ]
    }
   ],
   "source": [
    "2*2==4  "
   ]
  },
  {
   "cell_type": "markdown",
   "metadata": {
    "deletable": true,
    "editable": true
   },
   "source": [
    "Ahogy azt a fenti példák mutatjk az octave minden sor után produkál kimenetet. Egy sor kimenetét akkor nem írja ki az interpreter ha \";\"-vel  zárjuk.\n",
    "Egyébként pedig egy sorbeli utasítások vesszővel és pontosvesszővel is elválaszthatók:"
   ]
  },
  {
   "cell_type": "code",
   "execution_count": 8,
   "metadata": {
    "collapsed": false,
    "deletable": true,
    "editable": true
   },
   "outputs": [
    {
     "name": "stdout",
     "output_type": "stream",
     "text": [
      "x =  4\n",
      "y =  9\n",
      "ans =  25\n"
     ]
    }
   ],
   "source": [
    "x=4, y=3^2, 5*5\n",
    "p=1/2; q=2*3;"
   ]
  },
  {
   "cell_type": "markdown",
   "metadata": {
    "deletable": true,
    "editable": true
   },
   "source": [
    "Az értékadás nélküli kifejezés az 'ans' speciális változónak való értékadást generál, amit következő utasításokban felhsználhatunk.\n",
    "A 'who' paranccsal pedig lekérdezhetjük a már létrehozott változókat:"
   ]
  },
  {
   "cell_type": "code",
   "execution_count": 9,
   "metadata": {
    "collapsed": false,
    "deletable": true,
    "editable": true
   },
   "outputs": [
    {
     "name": "stdout",
     "output_type": "stream",
     "text": [
      "Variables in the current scope:\n",
      "\n",
      "ans  p    q    s    x    y\n",
      "\n"
     ]
    }
   ],
   "source": [
    "who"
   ]
  },
  {
   "cell_type": "markdown",
   "metadata": {
    "deletable": true,
    "editable": true
   },
   "source": [
    "### Range és for\n",
    "\n",
    "A `python`-beli `rang()` függvényt az `octave`-ban az `eleje:vege` konstrukció implementálja:"
   ]
  },
  {
   "cell_type": "code",
   "execution_count": 10,
   "metadata": {
    "collapsed": false,
    "deletable": true,
    "editable": true
   },
   "outputs": [
    {
     "name": "stdout",
     "output_type": "stream",
     "text": [
      "ans =\n",
      "\n",
      "   1   2   3   4   5\n",
      "\n"
     ]
    }
   ],
   "source": [
    "(1:5)  "
   ]
  },
  {
   "cell_type": "markdown",
   "metadata": {
    "deletable": true,
    "editable": true
   },
   "source": [
    "A beadott értékek persze nem csak egészek lehetnek. Lépésközt 3 elemű \":\" kifejezés középső elemében adhatjuk meg. ilyenkor a sorozat utolsó eleme az lesz, ami még nem lépett túl a limitként megadott értéken:"
   ]
  },
  {
   "cell_type": "code",
   "execution_count": 11,
   "metadata": {
    "collapsed": false,
    "deletable": true,
    "editable": true
   },
   "outputs": [
    {
     "name": "stdout",
     "output_type": "stream",
     "text": [
      "x =\n",
      "\n",
      "    2.4800    2.3690    2.2580    2.1470    2.0360\n",
      "\n"
     ]
    }
   ],
   "source": [
    "x = 2.48:-0.111:2"
   ]
  },
  {
   "cell_type": "markdown",
   "metadata": {
    "deletable": true,
    "editable": true
   },
   "source": [
    "For ciklust írhatjuk egy vagy több sorba. A tabulálás itt nem számít, de hasznos. Itt is a ';'-t használjuk, ha csak a végeredményt akarjuk látni. Példaként számoljuk ki első néhány egész hatványát, összegüket és szorzatukat:"
   ]
  },
  {
   "cell_type": "code",
   "execution_count": 12,
   "metadata": {
    "collapsed": false,
    "deletable": true,
    "editable": true
   },
   "outputs": [
    {
     "name": "stdout",
     "output_type": "stream",
     "text": [
      "ans =  1\n",
      "ans =  8\n",
      "ans =  27\n",
      "ans =  64\n",
      "ans =  125\n"
     ]
    }
   ],
   "source": [
    "for i=1:5 i^3 endfor"
   ]
  },
  {
   "cell_type": "code",
   "execution_count": 13,
   "metadata": {
    "collapsed": false,
    "deletable": true,
    "editable": true
   },
   "outputs": [
    {
     "name": "stdout",
     "output_type": "stream",
     "text": [
      "s =  55\n",
      "p =  3628800\n"
     ]
    }
   ],
   "source": [
    "s=0;\n",
    "p=1;\n",
    "for i=1:10\n",
    "  s=s+i;\n",
    "  p=p*i;\n",
    "endfor\n",
    "s\n",
    "p"
   ]
  },
  {
   "cell_type": "markdown",
   "metadata": {
    "deletable": true,
    "editable": true
   },
   "source": [
    "Számtani és mértani sorozatok pedig a linspace és logspace függvényekkel is állíthatók elő, a pythonnal azonos módon:"
   ]
  },
  {
   "cell_type": "code",
   "execution_count": 14,
   "metadata": {
    "collapsed": false,
    "deletable": true,
    "editable": true
   },
   "outputs": [
    {
     "name": "stdout",
     "output_type": "stream",
     "text": [
      "ari =\n",
      "\n",
      "   0.50000   1.12500   1.75000   2.37500   3.00000\n",
      "\n",
      "geo =\n",
      "\n",
      "      3.1623     13.3352     56.2341    237.1374   1000.0000\n",
      "\n"
     ]
    }
   ],
   "source": [
    "ari=linspace(0.5,3,5)\n",
    "geo=logspace(0.5,3,5)"
   ]
  },
  {
   "cell_type": "markdown",
   "metadata": {
    "deletable": true,
    "editable": true
   },
   "source": [
    "### if\n",
    "\n",
    "Az `octave`-ban sok más programnyelvhez hasonlóan az `if` konstrukció segítségével állítjuk döntések elé a számítógépet. Az alábbi példa illusztrálja az `if`- `elseif`-`else` konstrukció legálltalánosabb alakját, ha nincs szükség az `else` illetve az `elseif` ágakra akkor azok természetesen elhagyhatóak. "
   ]
  },
  {
   "cell_type": "code",
   "execution_count": 15,
   "metadata": {
    "collapsed": false,
    "deletable": true,
    "editable": true
   },
   "outputs": [
    {
     "name": "stdout",
     "output_type": "stream",
     "text": [
      "x =  6\n",
      "x is even\n"
     ]
    }
   ],
   "source": [
    "x=6\n",
    "if (rem (x, 2) == 0)\n",
    "  printf (\"x is even\\n\");\n",
    "elseif (rem (x, 3) == 0)\n",
    "  printf (\"x is odd and divisible by 3\\n\");\n",
    "else\n",
    "  printf (\"x is odd\\n\");\n",
    "endif"
   ]
  },
  {
   "cell_type": "markdown",
   "metadata": {
    "deletable": true,
    "editable": true
   },
   "source": [
    "### Tömbök\n",
    "\n",
    "Számokból vagy stringekből itt is alkothatunk tömböket, de fontos eltérés, hogy nincs külön list, tuple, array, matrix típus, amikre bizonyos műveletek a pythonban másképp működnek.\n",
    "Itt a műveleti jel elé tett ponttal lehet kérni az adott művelet elemenkénti változatát (ld. később).\n",
    "Másik eltérés, hogy itt egy tömbben egyszerre vagy csak számok, vagy csak stringek lehetnek.\n",
    "De ehhez nézzük előbb, hogyan lehet létrehozni elemeik felsorolásával:"
   ]
  },
  {
   "cell_type": "markdown",
   "metadata": {
    "deletable": true,
    "editable": true
   },
   "source": [
    "Sorvektor, vagy adatsor az adatok közé tett ','-vel vagy spaceszel is képezhető."
   ]
  },
  {
   "cell_type": "code",
   "execution_count": 16,
   "metadata": {
    "collapsed": false,
    "deletable": true,
    "editable": true
   },
   "outputs": [
    {
     "name": "stdout",
     "output_type": "stream",
     "text": [
      "t =\n",
      "\n",
      "   1   3   5   7   9\n",
      "\n",
      "u =\n",
      "\n",
      "   2   4   6   8\n",
      "\n"
     ]
    }
   ],
   "source": [
    "t=[ 1, 3, 5, 7, 9]\n",
    "u=[ 2 4 6 8]"
   ]
  },
  {
   "cell_type": "markdown",
   "metadata": {
    "deletable": true,
    "editable": true
   },
   "source": [
    "Mátrix sorait ';'-vel vagy sortördeléssel kell elválasztani (extra [ ] nem szükséges)."
   ]
  },
  {
   "cell_type": "code",
   "execution_count": 17,
   "metadata": {
    "collapsed": false,
    "deletable": true,
    "editable": true
   },
   "outputs": [
    {
     "name": "stdout",
     "output_type": "stream",
     "text": [
      "M =\n",
      "\n",
      "   1   2   3\n",
      "   2   3   2\n",
      "   3   2   1\n",
      "\n",
      "R =\n",
      "\n",
      "   1   2   3\n",
      "   4   5  -6\n",
      "\n"
     ]
    }
   ],
   "source": [
    "M=[ 1, 2, 3; 2,3,2; 3 2 1]\n",
    "R=[ 1  2  3\n",
    "    4  5 -6]"
   ]
  },
  {
   "cell_type": "markdown",
   "metadata": {
    "deletable": true,
    "editable": true
   },
   "source": [
    "Adjungálást (transzponálás konjugálással) az aposztróf jellel végezhetünk, így oszlopvektort 3-féleképp tudunk létrehozni legegyszerűbben:"
   ]
  },
  {
   "cell_type": "code",
   "execution_count": 18,
   "metadata": {
    "collapsed": false,
    "deletable": true,
    "editable": true
   },
   "outputs": [
    {
     "name": "stdout",
     "output_type": "stream",
     "text": [
      "v =\n",
      "\n",
      "   1\n",
      "   2\n",
      "  -2\n",
      "\n",
      "w =\n",
      "\n",
      "   3\n",
      "  -4\n",
      "   5\n",
      "\n",
      "b =\n",
      "\n",
      "   -5\n",
      "  -12\n",
      "   13\n",
      "\n"
     ]
    }
   ],
   "source": [
    "v=[1;2;-2]\n",
    "w=[3,-4,5]'\n",
    "b=[-5\n",
    "  -12\n",
    "   13]"
   ]
  },
  {
   "cell_type": "code",
   "execution_count": 19,
   "metadata": {
    "collapsed": false,
    "deletable": true,
    "editable": true
   },
   "outputs": [
    {
     "name": "stdout",
     "output_type": "stream",
     "text": [
      "ans =\n",
      "\n",
      "   0 - 1i\n",
      "   2 - 0i\n",
      "   3 - 0i\n",
      "\n"
     ]
    }
   ],
   "source": [
    "[1i 2 3]'   #figyelem itt van konjugalas"
   ]
  },
  {
   "cell_type": "code",
   "execution_count": 20,
   "metadata": {
    "collapsed": false,
    "deletable": true,
    "editable": true
   },
   "outputs": [
    {
     "name": "stdout",
     "output_type": "stream",
     "text": [
      "ans =\n",
      "\n",
      "   0 + 1i\n",
      "   2 + 0i\n",
      "   3 + 0i\n",
      "\n"
     ]
    }
   ],
   "source": [
    "transpose([1i 2 3]) # ez csak sima transzponalas!"
   ]
  },
  {
   "cell_type": "markdown",
   "metadata": {
    "deletable": true,
    "editable": true
   },
   "source": [
    "A tömbök méretét a size és length függvényekkel kérdezhetjük le."
   ]
  },
  {
   "cell_type": "code",
   "execution_count": 21,
   "metadata": {
    "collapsed": false,
    "deletable": true,
    "editable": true
   },
   "outputs": [
    {
     "name": "stdout",
     "output_type": "stream",
     "text": [
      "ans =\n",
      "\n",
      "   2   3\n",
      "\n",
      "ans =\n",
      "\n",
      "   3   1\n",
      "\n",
      "ans =  3\n"
     ]
    }
   ],
   "source": [
    "size(R), size(v), length(v)"
   ]
  },
  {
   "cell_type": "markdown",
   "metadata": {
    "deletable": true,
    "editable": true
   },
   "source": [
    "Azonos méretű tömbök egymással való összeadása, kivonása itt természetesen az elemenkénti művelet.\n",
    "Tömbnek számmal való szorzása, osztása is elemenkénti (érdekesség, hogy szám hozzáadása is).\n",
    "\n",
    "\n",
    "A szorzások és hatványozások viszont a vektorszámításban tanult értelmezés szerintiek,\n",
    "láthatóan különböznek az elemenkénti művelettől, amit a *,/,^ jelek elé tett ponntal tudunk kérni:"
   ]
  },
  {
   "cell_type": "code",
   "execution_count": 22,
   "metadata": {
    "collapsed": false,
    "deletable": true,
    "editable": true
   },
   "outputs": [
    {
     "name": "stdout",
     "output_type": "stream",
     "text": [
      "M =\n",
      "\n",
      "   1   2   3\n",
      "   2   3   2\n",
      "   3   2   1\n",
      "\n"
     ]
    }
   ],
   "source": [
    "M"
   ]
  },
  {
   "cell_type": "code",
   "execution_count": 23,
   "metadata": {
    "collapsed": false,
    "deletable": true,
    "editable": true
   },
   "outputs": [
    {
     "name": "stdout",
     "output_type": "stream",
     "text": [
      "ans =\n",
      "\n",
      "   14   14   10\n",
      "   14   17   14\n",
      "   10   14   14\n",
      "\n"
     ]
    }
   ],
   "source": [
    "#Ez matrix szorzás!!\n",
    "M*M"
   ]
  },
  {
   "cell_type": "code",
   "execution_count": 24,
   "metadata": {
    "collapsed": false,
    "deletable": true,
    "editable": true
   },
   "outputs": [
    {
     "name": "stdout",
     "output_type": "stream",
     "text": [
      "ans =\n",
      "\n",
      "   1   4   9\n",
      "   4   9   4\n",
      "   9   4   1\n",
      "\n"
     ]
    }
   ],
   "source": [
    "# Ez elemenkénti szorzás!!\n",
    "M.*M"
   ]
  },
  {
   "cell_type": "code",
   "execution_count": 25,
   "metadata": {
    "collapsed": false,
    "deletable": true,
    "editable": true
   },
   "outputs": [
    {
     "name": "stdout",
     "output_type": "stream",
     "text": [
      "ans =\n",
      "\n",
      "    72    90    80\n",
      "    90   107    90\n",
      "    80    90    72\n",
      "\n",
      "ans =\n",
      "\n",
      "    1    8   27\n",
      "    8   27    8\n",
      "   27    8    1\n",
      "\n"
     ]
    }
   ],
   "source": [
    "# ez matrix hatvanyozas\n",
    "M^3\n",
    "# ez elemenkenti hatvanyozas\n",
    "M.^3"
   ]
  },
  {
   "cell_type": "code",
   "execution_count": 26,
   "metadata": {
    "collapsed": false,
    "deletable": true,
    "editable": true
   },
   "outputs": [
    {
     "name": "stdout",
     "output_type": "stream",
     "text": [
      "ans =\n",
      "\n",
      "   24.760   28.304   24.510\n",
      "   28.304   35.117   28.304\n",
      "   24.510   28.304   24.760\n",
      "\n",
      "ans =\n",
      "\n",
      "   2   4   8\n",
      "   4   8   4\n",
      "   8   4   2\n",
      "\n"
     ]
    }
   ],
   "source": [
    "2^M, 2.^M"
   ]
  },
  {
   "cell_type": "markdown",
   "metadata": {
    "deletable": true,
    "editable": true
   },
   "source": [
    "Vektorok skaláris és vektoriális szorzatára pedig van külön függvény, a dot és a cross."
   ]
  },
  {
   "cell_type": "markdown",
   "metadata": {
    "deletable": true,
    "editable": true
   },
   "source": [
    "**Nagyon fontos 3 eltérés:**\n",
    "- a tömbök indexe nem 0-val, hanem **1-gyel kezdődik**\n",
    "- tömbök eleminek kiolvasásánál **kerek zárójel kell**"
   ]
  },
  {
   "cell_type": "code",
   "execution_count": 27,
   "metadata": {
    "collapsed": false,
    "deletable": true,
    "editable": true
   },
   "outputs": [
    {
     "name": "stdout",
     "output_type": "stream",
     "text": [
      "z = -2\n",
      "c =  3\n"
     ]
    }
   ],
   "source": [
    "z=v(3), c=M(1,3)"
   ]
  },
  {
   "cell_type": "markdown",
   "metadata": {
    "deletable": true,
    "editable": true
   },
   "source": [
    "- Itt is lehet szeletelni, azonban a : utáni szám az index tényleges utolsó értékét jelöli:"
   ]
  },
  {
   "cell_type": "code",
   "execution_count": 28,
   "metadata": {
    "collapsed": false,
    "deletable": true,
    "editable": true
   },
   "outputs": [
    {
     "name": "stdout",
     "output_type": "stream",
     "text": [
      "M =\n",
      "\n",
      "   1   2   3\n",
      "   2   3   2\n",
      "   3   2   1\n",
      "\n",
      "bc =\n",
      "\n",
      "   2   3\n",
      "\n",
      "row12 =\n",
      "\n",
      "   1   2   3\n",
      "   2   3   2\n",
      "\n"
     ]
    }
   ],
   "source": [
    "M, bc=M(1,2:3), row12=M(1:2,:)"
   ]
  },
  {
   "cell_type": "markdown",
   "metadata": {
    "deletable": true,
    "editable": true
   },
   "source": [
    "Itt is kereshetünk bennük minimumot, maximumot. Ha két eredményt kérünk, akkor megkapjuk a szélsőértékhez tartozó indexet is.\n",
    "Octaveban ez úgy lehetséges, hogy listát alkotunk azokból a változókból, amelyekbe az eredményeket akarjuk tenni.\n",
    "A szögletes zárójel tehát itt, az egyenlőségjeltől balra más jelentéssel bír, mint jobbra, amikor tömböt jelölt."
   ]
  },
  {
   "cell_type": "code",
   "execution_count": 29,
   "metadata": {
    "collapsed": false,
    "deletable": true,
    "editable": true
   },
   "outputs": [
    {
     "name": "stdout",
     "output_type": "stream",
     "text": [
      "minbc =  2\n",
      "maxbc =  3\n",
      "imaxbc =  2\n"
     ]
    }
   ],
   "source": [
    "minbc=min(bc)\n",
    "[maxbc,imaxbc]=max(bc)"
   ]
  },
  {
   "cell_type": "markdown",
   "metadata": {
    "deletable": true,
    "editable": true
   },
   "source": [
    "### Mátrix generáló függvények\n",
    "\n",
    "Az eye, zeros, ones, rand, diag függvények hasonlóan működnek a pythonhoz:"
   ]
  },
  {
   "cell_type": "code",
   "execution_count": 30,
   "metadata": {
    "collapsed": false,
    "deletable": true,
    "editable": true
   },
   "outputs": [
    {
     "name": "stdout",
     "output_type": "stream",
     "text": [
      "E =\n",
      "\n",
      "Diagonal Matrix\n",
      "\n",
      "   1   0   0\n",
      "   0   1   0\n",
      "   0   0   1\n",
      "\n",
      "L =\n",
      "\n",
      "   1   1   1   1   1\n",
      "\n",
      "ans =\n",
      "\n",
      "   0.40971   0.16158   0.67305\n",
      "\n",
      "D =\n",
      "\n",
      "Diagonal Matrix\n",
      "\n",
      "     1     0     0\n",
      "     0    10     0\n",
      "     0     0   100\n",
      "\n",
      "diagpart =\n",
      "\n",
      "   1\n",
      "   3\n",
      "   1\n",
      "\n"
     ]
    }
   ],
   "source": [
    "E=eye(3), L=ones(1,5), rand(1,3), D=diag([1,10,100]), diagpart=diag(M)"
   ]
  },
  {
   "cell_type": "markdown",
   "metadata": {
    "deletable": true,
    "editable": true
   },
   "source": [
    "Így például előállíthatjuk a kvantummechanikai $\\hat a^+$ keltő operátor mátrixalakját, amiben a pozitív egészek négyzetgyökei vannak elhelyezve átlós vonalban (természetesen a végtelen méretű mátrix véges részletét hozzuk létre):"
   ]
  },
  {
   "cell_type": "code",
   "execution_count": 31,
   "metadata": {
    "collapsed": false,
    "deletable": true,
    "editable": true
   },
   "outputs": [
    {
     "name": "stdout",
     "output_type": "stream",
     "text": [
      "aplus =\n",
      "\n",
      "   0.00000   1.00000   0.00000   0.00000   0.00000   0.00000   0.00000\n",
      "   0.00000   0.00000   1.41421   0.00000   0.00000   0.00000   0.00000\n",
      "   0.00000   0.00000   0.00000   1.73205   0.00000   0.00000   0.00000\n",
      "   0.00000   0.00000   0.00000   0.00000   2.00000   0.00000   0.00000\n",
      "   0.00000   0.00000   0.00000   0.00000   0.00000   2.23607   0.00000\n",
      "   0.00000   0.00000   0.00000   0.00000   0.00000   0.00000   2.44949\n",
      "   0.00000   0.00000   0.00000   0.00000   0.00000   0.00000   0.00000\n",
      "\n"
     ]
    }
   ],
   "source": [
    "n=7; aplus = diag( sqrt(1:n-1), 1)"
   ]
  },
  {
   "cell_type": "markdown",
   "metadata": {
    "deletable": true,
    "editable": true
   },
   "source": [
    "Még hasznos ez a függvény, ami [Töplitz](https://en.wikipedia.org/wiki/Toeplitz_matrix) típusú mátrixot hoz létre, melynek az átlós vonalak mentén azonosak az elemei. A lineáris algebra anyagrészben láttunk ilyen szerkezetű mátrixot, ennek előálítását megkönnyíti. (E függvénnyel nemszimmetrikus mátrix is létrehozható, ha 2 vektort adunk be)."
   ]
  },
  {
   "cell_type": "code",
   "execution_count": 32,
   "metadata": {
    "collapsed": false,
    "deletable": true,
    "editable": true
   },
   "outputs": [
    {
     "name": "stdout",
     "output_type": "stream",
     "text": [
      "ans =\n",
      "\n",
      "   2.50000   2.00000   1.50000   1.00000   0.50000\n",
      "   2.00000   2.50000   2.00000   1.50000   1.00000\n",
      "   1.50000   2.00000   2.50000   2.00000   1.50000\n",
      "   1.00000   1.50000   2.00000   2.50000   2.00000\n",
      "   0.50000   1.00000   1.50000   2.00000   2.50000\n",
      "\n"
     ]
    }
   ],
   "source": [
    "toeplitz( [ 2.5, 2, 1.5, 1, 0.5] )"
   ]
  },
  {
   "cell_type": "markdown",
   "metadata": {
    "deletable": true,
    "editable": true
   },
   "source": [
    "### Saját függvények\n",
    "\n",
    "Írjunk például olyan függvényt, ami egy kisbolygó földközelponti és földtávolponti távolsága függvényében megadja a földközelponti pályára állításhoz szükséges sebességet.\n",
    "Függvények definálása a pythontól annyiban különbözik, hogy más kulcsszóval kell kezdeni, a visszatérési értéknek megfelelő változót meg kell adni az első sorban az = jel előtt, és a kezdő sor végére nem szabad kettőspontot tenni. Ezen felül azonban figyelni kell, hogy az értékadásokat ';'-vel zárjuk le, hacsak nem akarjuk, hogy a belső értékadás eredménye már a függvény végrehajtása közben kiíródjon (ilyen kiíratás persze tesztelés közben hasznos, így példaként meghagytam a félnagytengely $a$ hossszának kiírtását):"
   ]
  },
  {
   "cell_type": "code",
   "execution_count": 33,
   "metadata": {
    "collapsed": false,
    "deletable": true,
    "editable": true
   },
   "outputs": [],
   "source": [
    "function z=v1(r1,r2)\n",
    "  gamma=6.67408e-11;\n",
    "  M=5.97237e24;\n",
    "\n",
    "  a=(r1+r2)/2\n",
    "  c=(r2-r1)/2;\n",
    "  b=sqrt(a^2-c^2);\n",
    "  z=sqrt(gamma*M/a)*b/r1;\n",
    "end"
   ]
  },
  {
   "cell_type": "markdown",
   "metadata": {
    "deletable": true,
    "editable": true
   },
   "source": [
    "Így kapjuk pl. a körpályához szükséges sebességet:"
   ]
  },
  {
   "cell_type": "code",
   "execution_count": 34,
   "metadata": {
    "collapsed": false,
    "deletable": true,
    "editable": true
   },
   "outputs": [
    {
     "name": "stdout",
     "output_type": "stream",
     "text": [
      "a =  6370500\n",
      "ans =  7909.5\n"
     ]
    }
   ],
   "source": [
    "v1(6.371e6,6.37e6)"
   ]
  },
  {
   "cell_type": "markdown",
   "metadata": {
    "deletable": true,
    "editable": true
   },
   "source": [
    "Így pedig a szökési sebességet:"
   ]
  },
  {
   "cell_type": "code",
   "execution_count": 35,
   "metadata": {
    "collapsed": false,
    "deletable": true,
    "editable": true
   },
   "outputs": [
    {
     "name": "stdout",
     "output_type": "stream",
     "text": [
      "a =    5.0003e+10\n",
      "ans =    1.1186e+04\n"
     ]
    }
   ],
   "source": [
    "v1(6.371e6,1e11)"
   ]
  },
  {
   "cell_type": "markdown",
   "metadata": {
    "deletable": true,
    "editable": true
   },
   "source": [
    "### Egyenletrendszer megoldása\n",
    "\n",
    "Mint láttuk, ${\\bf M} x = v$ alakú, azaz lineáris egyenletrendszer megoldását pythonban a solve függvény végzi el, itt ennek megfelelője az alábbi művelet:"
   ]
  },
  {
   "cell_type": "code",
   "execution_count": 36,
   "metadata": {
    "collapsed": false,
    "deletable": true,
    "editable": true
   },
   "outputs": [
    {
     "name": "stdout",
     "output_type": "stream",
     "text": [
      "ans =\n",
      "\n",
      "  -2.12500\n",
      "   2.50000\n",
      "  -0.62500\n",
      "\n"
     ]
    }
   ],
   "source": [
    "M\\v"
   ]
  },
  {
   "cell_type": "markdown",
   "metadata": {
    "deletable": true,
    "editable": true
   },
   "source": [
    "### Sajátérték-probléma\n",
    "\n",
    "A mátrix sajátértékeit pedig így kapjuk meg:"
   ]
  },
  {
   "cell_type": "code",
   "execution_count": 37,
   "metadata": {
    "collapsed": false,
    "deletable": true,
    "editable": true
   },
   "outputs": [
    {
     "name": "stdout",
     "output_type": "stream",
     "text": [
      "Lambda =\n",
      "\n",
      "  -2.00000\n",
      "   0.62772\n",
      "   6.37228\n",
      "\n"
     ]
    }
   ],
   "source": [
    "Lambda=eig(M)"
   ]
  },
  {
   "cell_type": "markdown",
   "metadata": {
    "deletable": true,
    "editable": true
   },
   "source": [
    "Ha a sajátvektorokat is meg akarjuk kapni, akkor két mennyiséget kell a függvénynek kiadnia.\n",
    "Octaveban ez úgy lehetséges, hogy listát alkotunk azokból a változókból, amelyekbe a sajátvektorokat és sajátértékeket akarjuk tenni. A szögletes zárójel tehát itt, az egyenlőségjeltől balra más jelentéssel bír, mint jobbra, amikor tömböt jelölt."
   ]
  },
  {
   "cell_type": "code",
   "execution_count": 38,
   "metadata": {
    "collapsed": false,
    "deletable": true,
    "editable": true
   },
   "outputs": [
    {
     "name": "stdout",
     "output_type": "stream",
     "text": [
      "V =\n",
      "\n",
      "   7.0711e-01   4.5440e-01   5.4177e-01\n",
      "   2.0123e-16  -7.6618e-01   6.4262e-01\n",
      "  -7.0711e-01   4.5440e-01   5.4177e-01\n",
      "\n",
      "D =\n",
      "\n",
      "Diagonal Matrix\n",
      "\n",
      "  -2.00000         0         0\n",
      "         0   0.62772         0\n",
      "         0         0   6.37228\n",
      "\n"
     ]
    }
   ],
   "source": [
    "[V,D]=eig(M)"
   ]
  },
  {
   "cell_type": "markdown",
   "metadata": {
    "deletable": true,
    "editable": true
   },
   "source": [
    "A pythontól eltérően az első mátrixban vannak a sajátvektorok, a másodikban a sajátértékek.\n",
    "A sajátvektorok itt is az oszlopokat alkotják, a sajátértékek pedig a vektoroknak megfelelő sorrendben következnek a második mátrix átlójában."
   ]
  },
  {
   "cell_type": "markdown",
   "metadata": {
    "deletable": true,
    "editable": true
   },
   "source": [
    "### Szinguláris-érték dekompozíció\n",
    "\n",
    "Ez egy hasonló probléma a sajátérték-kereséshez. Pl. arra vagyunk kíváncsiak, hogy egy mátrix legfeljebb milyen hosszúra tud nyújtani egy $v$ egységvektort, ha ${\\bf M} v$ szorzás szerint hat rá.\n",
    "Ennek a szemléletes jelentését látjuk, ha felrajzoljuk a síkban az összes egységvektor végpontját, az az egységkör (3D-ben gömb).\n",
    "Minden pontjának vesszük a képét az előbbi szorzással véve, ezek általánosságban ferde tengelyű ellipszist alkotnak (3D-ben ellipszoidot).\n",
    "Tehát a legjobban megnyújtott vektor az, ami az ellipszis nagytengelyének végébe képződött, a nyújtás aránya pedig az ellipszis fél nagytengelye.\n",
    "A különbség a sajátvektor-kereséshez képest, hogy most nem kötöttük ki, hogy a vektor az irányát megtartsa.\n",
    "Könnyen belátható, hogy ez a nyújtási arány éppen az ${\\bf M}^+{\\bf M}$ mátrix legnagyobb sajátértékének négyzetgyöke, a keresett vektor pedig a hozzá tartozó sajátvektor.\n",
    "Általánosabban pedig a legkisebb, legnagyobb nyújtási arányokat (és 2-nél több dimenzióban az aránynak az irány függvényében található nyeregpontjait) e mátrix sajátértékeinek négyzetgyökei adják, a hozzájuk tartozó szinguláris vektorok pedig a megfelelő sajátvektorok.\n",
    "Ezeket adja meg nekünk az svd függvény, a szinguláris értékek az S mátrixba kerülnek, a szinguláris vektorok pedig a V oszlopaiba (egyúttal a mátrix ${\\bf M}={\\bf U}{\\bf S}{\\bf V}^+$ szorzatra bontódik):"
   ]
  },
  {
   "cell_type": "markdown",
   "metadata": {
    "deletable": true,
    "editable": true
   },
   "source": [
    "<img src=\"svd.svg\" width=\"440\"/>"
   ]
  },
  {
   "cell_type": "code",
   "execution_count": 39,
   "metadata": {
    "collapsed": false,
    "deletable": true,
    "editable": true
   },
   "outputs": [
    {
     "name": "stdout",
     "output_type": "stream",
     "text": [
      "U =\n",
      "\n",
      "  -5.4177e-01  -7.0711e-01  -4.5440e-01\n",
      "  -6.4262e-01  -4.1061e-16   7.6618e-01\n",
      "  -5.4177e-01   7.0711e-01  -4.5440e-01\n",
      "\n",
      "S =\n",
      "\n",
      "Diagonal Matrix\n",
      "\n",
      "   6.37228         0         0\n",
      "         0   2.00000         0\n",
      "         0         0   0.62772\n",
      "\n",
      "V =\n",
      "\n",
      "  -5.4177e-01   7.0711e-01  -4.5440e-01\n",
      "  -6.4262e-01  -1.1059e-16   7.6618e-01\n",
      "  -5.4177e-01  -7.0711e-01  -4.5440e-01\n",
      "\n"
     ]
    }
   ],
   "source": [
    "[U,S,V]=svd(M)"
   ]
  },
  {
   "cell_type": "markdown",
   "metadata": {
    "deletable": true,
    "editable": true
   },
   "source": [
    "# Közel [szinguláris mátrixok](https://hu.wikipedia.org/wiki/Invert%C3%A1lhat%C3%B3_m%C3%A1trix)\n",
    "\n",
    "Próbáljunk ki valamit octaveban, amit persze pythonban is kiszámolhattunk volna.\n",
    "Ha kimértük egy potenciál értékét $x_1,x_2,\\ldots x_n$ pontokban, arra pl. interpolálás, extrapolálás érdekében illeszthetünk n-1 fokú polinomot. Ez persze megy a polyfit v. curve_fit függvénnyel, de hogy a probléma lényegét lássuk, írjuk fel, hogy ez a következő egyenletrendszer megoldását jelenti:\n",
    "$$ \\sum_{j=1}^n a_j x_i^j = v_i, \\;\\; i=1,2,\\ldots n$$\n",
    "Ez ${\\bf M}\\cdot a=v$ egyenletrendszer alakjába írható, ahol az ismeretlenek most az $a_j$ polinomegyütthatók, az egyenletrendszer együtthatómátrixának elemei pedig: $M_{ij}=x_i^j$.\n",
    "Ha pl. $x_i=1,2,\\ldots 5$, és a mért értékeke az alábbiak, akkor így állíthatjuk elő az egyenletrendszer mátrixát:"
   ]
  },
  {
   "cell_type": "code",
   "execution_count": 40,
   "metadata": {
    "collapsed": false,
    "deletable": true,
    "editable": true
   },
   "outputs": [
    {
     "name": "stdout",
     "output_type": "stream",
     "text": [
      "M =\n",
      "\n",
      "     1     1     1     1     1\n",
      "     1     2     4     8    16\n",
      "     1     3     9    27    81\n",
      "     1     4    16    64   256\n",
      "     1     5    25   125   625\n",
      "\n"
     ]
    }
   ],
   "source": [
    "n=5; X=(1:n)'*ones(1,n); P=ones(n,1)*(0:n-1); M=X.^P"
   ]
  },
  {
   "cell_type": "code",
   "execution_count": 41,
   "metadata": {
    "collapsed": false,
    "deletable": true,
    "editable": true,
    "scrolled": true
   },
   "outputs": [],
   "source": [
    "# gyártunk egy példa adatsort ilyen módon:\n",
    "v=M*[1,1/2,1/3,1/4,1/5]';"
   ]
  },
  {
   "cell_type": "markdown",
   "metadata": {
    "deletable": true,
    "editable": true
   },
   "source": [
    "Az ${\\bf M}\\cdot a=v$ egyenletrendszer megoldását pedig így kapjuk az itt szereplő mért $v_i$ értékekhez:"
   ]
  },
  {
   "cell_type": "code",
   "execution_count": 42,
   "metadata": {
    "collapsed": false,
    "deletable": true,
    "editable": true
   },
   "outputs": [
    {
     "name": "stdout",
     "output_type": "stream",
     "text": [
      "ans =\n",
      "\n",
      "   1.00030   0.49935   0.33374   0.24990   0.20001\n",
      "\n"
     ]
    }
   ],
   "source": [
    "v=[2.2833;8.5333;28.4500;75.5333;168.0833];\n",
    "a = M\\v; a'"
   ]
  },
  {
   "cell_type": "markdown",
   "metadata": {
    "deletable": true,
    "editable": true
   },
   "source": [
    "Ha azonban az egyik v értéket csupán 0.03 hibával mérjük, jelentős eltérést kapunk az eredményben:"
   ]
  },
  {
   "cell_type": "code",
   "execution_count": 43,
   "metadata": {
    "collapsed": false,
    "deletable": true,
    "editable": true
   },
   "outputs": [
    {
     "name": "stdout",
     "output_type": "stream",
     "text": [
      "ans =\n",
      "\n",
      "   1.300300  -0.085650   0.701242   0.159900   0.207508\n",
      "\n"
     ]
    }
   ],
   "source": [
    "a = M \\ ( v + [ 0; 0; 0.03; 0; 0] ); a'"
   ]
  },
  {
   "cell_type": "markdown",
   "metadata": {
    "deletable": true,
    "editable": true
   },
   "source": [
    "Ez a mátrix közel szinguláris jellegének köszönhető, amit könyebb megérteni 2x2 mátrix esetére.\n",
    "Készítsünk belőlük olyat, aminek a 2. oszlopa kis eltéréssel az 1. oszlop számszorosa:"
   ]
  },
  {
   "cell_type": "code",
   "execution_count": 44,
   "metadata": {
    "collapsed": false,
    "deletable": true,
    "editable": true
   },
   "outputs": [
    {
     "name": "stdout",
     "output_type": "stream",
     "text": [
      "M2 =\n",
      "\n",
      "   2.0000   4.0000\n",
      "   3.0000   6.0100\n",
      "\n"
     ]
    }
   ],
   "source": [
    "M2=[ 2, 4\n",
    "    3, 6.01]"
   ]
  },
  {
   "cell_type": "markdown",
   "metadata": {
    "deletable": true,
    "editable": true
   },
   "source": [
    "Az $\\left(\\begin{array}{r}1\\\\0\\end{array}\\right)$, $\\left(\\begin{array}{r}0\\\\1\\end{array}\\right)$ bázisvektorok képei pedig épp a mátrix két oszlopa. Így a korábbi ábra jobb felső ellipszisében a nyilak közel egyirányúak. Emiatt az ellipszis nagyon megnyúlt, azaz a két szinguláris érték hányadosa nagy.\n",
    "Az $\\bf{M}\\cdot x=v$ egyenletrendszer $x$ megoldását keressük, és $v$, pl. mérési hiba miatt megváltozik $v+dv$-re. és a megváltozott megoldást $x+dx$-szel jelöljük, akkor nyilván $\\underline M\\cdot \\underline dx=\\underline dv$ is igaz.\n",
    "Ha $v$ közel van az ábra egyik nyilának irányához, akkor láthatóan kis megváltozással viszonylag közel kerülhet a másik nyílhoz, így a hozzá tartozó $x$ iránya viszonylag sokat változik. Tehát a hiba lényegesen megnő."
   ]
  },
  {
   "cell_type": "markdown",
   "metadata": {
    "deletable": true,
    "editable": true
   },
   "source": [
    "Általánosságban is próbáljuk megérteni! Ha a megoldást megváltozását $dx$-szel jelöljük, akkor nyilván\n",
    "$\\bf{M}\\cdot dx=dv$ is igaz. Az $x$ben tapasztal hibát, pontosabban annak $|dx|/|x|$ relatív mértékét akarjuk viszonyítani a mért értékek $|dv|/|v|$ relatív hibájához.\n",
    "Az arány nyilván akkor a legnagyobb, ha $|dv|/|dx|$ a lehető legkisebb, és $|v/|x|$ a lehető legnagyobb, azaz $x$ és $dx$ a megfelelő szinguláris vektorok irányához közel állnak, s az utóbbi arányokat ekkor a szinguláris értékek adják. Így a relatív hiba növekedésének maximális aránya a maximális és minimális szinguláris érték hányadosa.\n",
    "Ezt hívjuk kondíciós számnak,\n",
    "$${\\rm cond}(\\bf{M})=s_{max}/s_{min}$$\n",
    "Így ez az ${\\bf M}^+{\\bf M}$ sajátértékeivel is kifejezhető.\n",
    "Nagy számérték itt is azt jelenti, hogy a mátrix oszlopai között közelítőleg teljesül egy lineáris kapcsolat.\n",
    "Az octaveban egyenletrendszer megoldásakor érdemes ellenőrizni nagyságát, hogy az eredmény pontosságára következtessünk:"
   ]
  },
  {
   "cell_type": "code",
   "execution_count": 45,
   "metadata": {
    "collapsed": false,
    "deletable": true,
    "editable": true
   },
   "outputs": [
    {
     "name": "stdout",
     "output_type": "stream",
     "text": [
      "ans =  3256.0\n"
     ]
    }
   ],
   "source": [
    "cond(M2)"
   ]
  },
  {
   "cell_type": "markdown",
   "metadata": {
    "deletable": true,
    "editable": true
   },
   "source": [
    "A polinom-illesztést leíró mátrixra szintén nagy szám adódik, sőt ez a mátrix méretével gyorsan növekszik:"
   ]
  },
  {
   "cell_type": "code",
   "execution_count": 46,
   "metadata": {
    "collapsed": false,
    "deletable": true,
    "editable": true
   },
   "outputs": [
    {
     "name": "stdout",
     "output_type": "stream",
     "text": [
      "ans =    2.6170e+04\n"
     ]
    }
   ],
   "source": [
    "cond(M)"
   ]
  }
 ],
 "metadata": {
  "hide_input": false,
  "kernelspec": {
   "display_name": "Octave",
   "language": "octave",
   "name": "octave"
  },
  "language_info": {
   "file_extension": ".m",
   "help_links": [
    {
     "text": "GNU Octave",
     "url": "https://www.gnu.org/software/octave/support.html"
    },
    {
     "text": "Octave Kernel",
     "url": "https://github.com/Calysto/octave_kernel"
    },
    {
     "text": "MetaKernel Magics",
     "url": "https://github.com/calysto/metakernel/blob/master/metakernel/magics/README.md"
    }
   ],
   "mimetype": "text/x-octave",
   "name": "octave",
   "version": "3.8.2"
  }
 },
 "nbformat": 4,
 "nbformat_minor": 0
}
