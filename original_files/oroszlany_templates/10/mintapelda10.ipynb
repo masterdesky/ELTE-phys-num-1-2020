{
 "cells": [
  {
   "cell_type": "markdown",
   "metadata": {
    "deletable": true,
    "editable": true
   },
   "source": [
    "# Jupyter kernelek és cell magic-ek\n",
    "\n",
    "Az alábbi három mintapéldában a jupyter keretrendszer pythonon túlmutató lehetőségeivel ismerkedünk meg.\n",
    "Tesszük ezt a cella és sor magic-ek illetve az `octave` és `R` kernelek segítségével.\n",
    "\n",
    "\n",
    "- [python cell magic](magic.ipynb)\n",
    "\n",
    "- [Octave kernel](octave.ipynb)\n",
    "\n",
    "- [R kernel](R.ipynb)"
   ]
  }
 ],
 "metadata": {
  "hide_input": false,
  "kernelspec": {
   "display_name": "Python 3",
   "language": "python",
   "name": "python3"
  },
  "language_info": {
   "codemirror_mode": {
    "name": "ipython",
    "version": 3
   },
   "file_extension": ".py",
   "mimetype": "text/x-python",
   "name": "python",
   "nbconvert_exporter": "python",
   "pygments_lexer": "ipython3",
   "version": "3.5.2"
  }
 },
 "nbformat": 4,
 "nbformat_minor": 0
}
