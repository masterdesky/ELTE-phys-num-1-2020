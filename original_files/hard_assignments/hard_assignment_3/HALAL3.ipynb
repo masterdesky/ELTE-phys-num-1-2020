{
 "cells": [
  {
   "cell_type": "markdown",
   "metadata": {},
   "source": [
    "# ☠-es feladatsor 03\n",
    "- A megoldás tartalmazza a megoldandó feladat szövegét a megoldásnotebook első markdown cellájában!\n",
    "- **Kommentekkel**, illetve **markdown cellákkal** magyarázd, hogy éppen mit csinál az adott kódrészlet!\n",
    "- Magyarázat nélkül a beküldött feladatok csak fél feladatnak számítanak!\n",
    "- Az elkészített ábrák minden esetben rendelkezzenek ábrafeliratokkal (cím, tengelyfeliratok és  −  amennyiben indokolt  −  jelmagyarázat)! Amennyiben a beadott ábrákon nincsenek feliratok, az adott feladat automatikusan csak fél feladatnak számít!\n",
    "- A beadott notebookok Kernel -> Restart&Run All hatására a beadott formát reprodukálják! "
   ]
  },
  {
   "cell_type": "markdown",
   "metadata": {},
   "source": [
    "## ☠ 03/01. feladat \n",
    "\n",
    "Írjuk meg a saját adatkiíró függvényünket!\n",
    "- Kérjen egy fájlnevet és egy 2 dimenziós numpy tömböt.\n",
    "- Opcionálisan az egyes oszlopok nevét, amit a legelső sorba kiír\n",
    "- Írja ki tabulátorral elválasztott fájba az adatokat\n",
    "- Meg lehessen adni a lebegőpontos számok formátumát a szokásos fmt=\"%.2f\" etc string típusú argumentummal."
   ]
  },
  {
   "cell_type": "markdown",
   "metadata": {},
   "source": [
    "## ☠ 03/02. feladat \n",
    "\n",
    "Vizsgáljuk meg az [ezen](http://oroszl.web.elte.hu/fiznum1/notebooks/Package08/data/arapaly) a linken található adatokat, melyek egy idilli kis tengerparti angol falu, [Heysham](https://en.wikipedia.org/wiki/Heysham), atomerőművének tengerszintmérő berendezésének a méréseit tartalmazza. Az adatsor két oszlopból áll: az első oszlop az idő napban mérve, a második oszlop az aktuális tengerszint méterben. \n",
    "- Fizikai meggondolások alapján milyen domináns frekvenciát vársz az adatsortól? \n",
    "- Készíts ábrát az első 3 nap adatai alapján a tengerszint ingadozásáról!\n",
    "- Készíts ábrát a jel Fourier-transzformáltjáról! Megjelenik a várt frekvencia? "
   ]
  },
  {
   "cell_type": "markdown",
   "metadata": {},
   "source": [
    "## ☠ 03/03. feladat \n",
    "\n",
    "- Határozzuk meg két egyenletes eloszlású véletlen változó összegének eloszlását!\n",
    "- Határozzuk meg három egyenletes eloszlású véletlen változó összegének eloszlását!\n",
    "- Ábrázoljuk hisztogramon a kapott eredményeket!\n",
    "- Nyerjük ki az eloszlás értékeit is a hisztogramból, és illesszünk egyeneseket ill. parabolákat (másodfokú polinomokat) a sűrűségfüggvény egyes szakaszaira!\n",
    "\n",
    "Megsejthetjük, hogy 2 véletlen változó összege esetén 2 egyenes szakasz van, 3 véletlen változó esetén 3 parabola.\n",
    "Az egyes szakaszok elválasztó pontjai pedig egész számértékeknél (1, 2) vannak."
   ]
  },
  {
   "cell_type": "markdown",
   "metadata": {},
   "source": [
    "## ☠ 03/04. feladat \n",
    "\n",
    "Egy szimulációhoz $\\sin(x)/2$ sűrűségfüggvényű véletlen változóra van szükségünk a $[0,\\pi]$ intervallumban. Valaki megsúgta, hogy a $[0,1]$ intervallumon egyenletes eloszlású $x$ változóból az $\\arccos(1-2x)$ függvénnyel tudunk a kívánt eloszlással véletlen számokat gyártani.\n",
    "Ellenőrizzük numerikusan, hogy ez igaz-e!\n",
    "- $10^5$ nagyságrendű számú egyenletes eloszlású számra hattassuk a függvényt,és a kapott eloszlást ábrázoljuk hisztogramon!\n",
    "- Határozzuk meg a valószínűségsűrűség-függvényt, és illesszünk rá $A\\sin(k x+\\phi)$ függvényt!\n",
    "A könnyebb kezelhetőség kedvéért adjuk meg a hist függvénynek, hogy a tényleges $[0,\\pi]$ intervallumot ossza fel valahány (40 és 100 közti) részre!"
   ]
  },
  {
   "cell_type": "markdown",
   "metadata": {},
   "source": [
    "## ☠ 03/05. feladat \n",
    "\n",
    "Elromlott az erősítőnk, egy régit kellett elővenni. Ezen át hallgatva nem\n",
    "szépen szólnak a zenék, torzít. Ennek oka, hogy az $u_{out}(t)$ kimenő jel nem\n",
    "lineárisan függ a bemenő $u_{in}(t)$ jeltől. Modellezzük ezt úgy, hogy\n",
    "$$ u_{out}=\\tanh(u_{in})$$\n",
    "\n",
    "- Vizsgáljuk meg, hgy milyen lesz egy szinuszos bemenő jelre a kimenő jel!\n",
    "- Vegyük mindkettő Fourier transzformáltját! Miben különböznek?\n",
    "- Vizsgáljuk meg, 1-hez képest kis, egységnyi és közbenső amplitúdónál is a felharmonikusok erősségét!\n",
    "\n",
    "Vagy:\n",
    "- Határozzuk meg és ábrázoljuk, hogyan függ a felharmonikusok erőssége a bemenő amplitúdótól!\n",
    "\n",
    "Esetleg folytathatjuk:\n",
    "- Próbáljuk egy $ u_{out}=f(u_{in}),\\; f=x+cx^3 $ függvényt megvalósító eszközzel a jelet feljavítani!"
   ]
  },
  {
   "cell_type": "markdown",
   "metadata": {},
   "source": [
    "## ☠ 03/06. feladat \n",
    "\n",
    "Generáljunk egy 20s hosszú 2500 Hz mintavételezésű jelet mely: \n",
    "- 200Hz-es vivő frekvencián a $J_0(t)$ [Bessel](https://en.wikipedia.org/wiki/Bessel_function)-függvény által amplitúdó modulált\n",
    "- 800Hz-es vivő frekvencián frekvencia modulációval tartalmazza az $\\alpha(t)=3t^2$ jelet.\n",
    "\n",
    "Készítsük el a jel spektrogramját és ábrázoljuk a két modulációs jelet is!\n",
    "\n",
    "Mit történik 12s környékén a frekvencia modulált jellel? Diszkutáljuk a jelentséget!"
   ]
  },
  {
   "cell_type": "markdown",
   "metadata": {},
   "source": [
    "## ☠ 03/07. feladat\n",
    "\n",
    "Felhasználva a mintapéldákban tanulmányozott Felix Baumgartner ugrás adatait, határozzuk meg az atmoszféra sűrűség-magasság profilját!\n",
    "Tételezzük fel, hogy a légellenállás a sebesség négyzetével arányos!"
   ]
  }
 ],
 "metadata": {
  "kernelspec": {
   "display_name": "Python 3",
   "language": "python",
   "name": "python3"
  },
  "language_info": {
   "codemirror_mode": {
    "name": "ipython",
    "version": 3
   },
   "file_extension": ".py",
   "mimetype": "text/x-python",
   "name": "python",
   "nbconvert_exporter": "python",
   "pygments_lexer": "ipython3",
   "version": "3.6.8"
  }
 },
 "nbformat": 4,
 "nbformat_minor": 2
}
