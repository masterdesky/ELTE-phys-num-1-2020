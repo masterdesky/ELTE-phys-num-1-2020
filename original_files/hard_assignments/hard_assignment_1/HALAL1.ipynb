{
 "cells": [
  {
   "cell_type": "markdown",
   "metadata": {},
   "source": [
    "# ☠-es feladatsor 01\n",
    "- A megoldás tartalmazza a megoldandó feladat szövegét a megoldásnotebook első markdown cellájában!\n",
    "- **Kommentekkel**, illetve **markdown cellákkal** magyarázd, hogy éppen mit csinál az adott kódrészlet!\n",
    "- Magyarázat nélkül a beküldött feladatok csak fél feladatnak számítanak!\n",
    "- Az elkészített ábrák minden esetben rendelkezzenek ábrafeliratokkal (cím, tengelyfeliratok és  −  amennyiben indokolt  −  jelmagyarázat)! Amennyiben a beadott ábrákon nincsenek feliratok, az adott feladat automatikusan csak fél feladatnak számít!\n",
    "- A beadott notebookok Kernel -> Restart&Run All hatására a beadott formát reprodukálják! "
   ]
  },
  {
   "cell_type": "markdown",
   "metadata": {},
   "source": [
    "## ☠ 01/01. feladat \n",
    "\n",
    "#### Kulcsszavas függvény változó számú argumentummal\n",
    "\n",
    "Írjunk egy függvényt, amely egy adott **x** array-ben tárolt valós értékekre kiértékel egy tetszőleges polinomfüggvényt, vagy ábrázolja azt! \n",
    "- A polinom-együtthatókat egy tetszőleges hosszúságú **args** nevű váltózóban kapjuk.\n",
    "- Ha a **kwargs** kulcsszavas argumentumban a `csinal_kepet` kulcsszo `True` akkor ábrázoljuk a polinomot és ne térjünk vissza semmilyen értékkel, ellenkező esetben a függvény térjen vissza egy array változóval amely polinom értékeit tartalmazza az **x** változóban tárolt helyeken. \n",
    "- Az ábrázolás stilisztikai paramétereit a függvénynek adott egyéb kulcsszavas argumentumok segítségével állítsuk be!"
   ]
  },
  {
   "cell_type": "markdown",
   "metadata": {},
   "source": [
    "## ☠ 01/02. feladat\n",
    "\n",
    "Hanyadik az első prímszám, amely nagyobb, mint 1.000.000?\n",
    "\n",
    "Legyen $p_i$ az $i$-edik prímszám. Ekkor\n",
    "\n",
    "$p_1$ = 2, $p_2$ = 3, ... $p_{n-i}$ < 1.000.000, $p_n$ > 1.000.000\n",
    "\n",
    "Írj egy python programot, ami kiszámolja n értékét!\n",
    "Egy effektíven megírt python program 2 másodperc alatt megoldja a feladatot. \n",
    "\n",
    "Hogyha a te programod ennél jelentősen több ideig fut, próbálj gyorsabb megoldást találni. Az futási időlimit 60 másodperc, az ennél lassabban futó programok nem érnek maximális pontot.\n",
    "\n",
    "Tipp: \n",
    "- először próbáld meg kisebb számokra (pl 100-ra).  \n",
    "- egy adott cella futtatásához szükséges időt úgy tudod mérni, hogy a cella első sorába beírod, hogy %%time\n"
   ]
  },
  {
   "cell_type": "markdown",
   "metadata": {},
   "source": [
    "## ☠ 01/03. feladat\n",
    "\n",
    "#### Véletlen számok\n",
    "\n",
    "Bizonyítsuk numerikusan a centrális [határeloszlás-tételt](https://hu.wikipedia.org/wiki/Centr%C3%A1lis_hat%C3%A1reloszl%C3%A1s-t%C3%A9tel)!"
   ]
  },
  {
   "cell_type": "markdown",
   "metadata": {},
   "source": [
    "## ☠ 01/04. Feladat\n",
    "\n",
    "#### Írjunk egy Rubik-kocka osztályt!\n",
    "\n",
    "- A `turn` tagfüggvénnyel tetszőleges módon lehessen rendesen forgatni,\n",
    "- 2 dimenzióba kiterítve és 3 dimenzióban is meg lehessen nézni az állapotát,\n",
    "- lehessen random állapotból indítani."
   ]
  },
  {
   "cell_type": "markdown",
   "metadata": {},
   "source": [
    "## ☠ 01/05. Feladat\n",
    "\n",
    "\n",
    "Írjunk egy osztályt, mely a [kvaterniók](https://hu.wikipedia.org/wiki/Kvaterni%C3%B3k) **összes** matematikai tulajdonságait megvalósítja!\n"
   ]
  },
  {
   "cell_type": "markdown",
   "metadata": {},
   "source": [
    "## ☠ 01/06. feladat\n",
    "\n",
    "Írj egy elektron-pozitron osztályt!\n",
    "\n",
    "- Az részecske létrehozásakor kötelezően meg kell adni annak töltését ami elektronok esetén +1 pozitronok esetén -1!\n",
    "- Az részecske létrehozásakor meg lehessen adni az energiáját; ha nem adjuk meg, akkor 0 legyen!\n",
    "- Egy metódussal lehessen megadott értékkel növelni, csökkenteni az energiáját, de negatívba ne engedjük vinni!\n",
    "- Két részecske összeadása ütközésüknek feleljen meg! Az eredmény létrehozásához használjuk az `__add()__` speciális metódust!\n",
    "[Ld. itt](https://www.python-course.eu/python3_magic_methods.php),\n",
    "[vagy itt](https://micropyramid.com/blog/python-special-class-methods-or-magic-methods/).\n",
    "- Két azonos fajta részecske esetén feltételezzük, hogy egy egyenes mentén találkoznak szembe, így sebességük kicserélődik. A művelet ezért ekkor két ugyanolyan részecskét adjon vissza egy listában, az eredetiekkel azonos energiával!\n",
    "- Ha elektront és pozitront adunk össze, szétsugárzás történik. Ekkor a művelet üres listát adjon vissza, és írja ki a keletkezett elektromágneses sugárzás energiáját és frekvenciáját!\n",
    "\n",
    "A megoldásfájlban látsszon, hogy mindegyik argumentum és metódus helyesen működik!"
   ]
  },
  {
   "cell_type": "markdown",
   "metadata": {},
   "source": [
    "## ☠ 01/07. Feladat\n",
    "\n",
    "\n",
    "Készítsük el, örökléssel, a saját mátrix osztályunkat, aminek az exp() taggfüggvénye a [mátrix exponciálisát](https://en.wikipedia.org/wiki/Matrix_exponential) adja vissza (tehát nem egyszerűen a mátrix elemeinek exponencializáltját).\n",
    "Az osztályunk minden más tekintetben ugyanúgy viselkedjen, mint a [numpy](https://docs.scipy.org/doc/numpy-1.15.1/reference/generated/numpy.matrix.html) mátrixosztálya. Kis segitség: https://docs.scipy.org/doc/numpy/user/basics.subclassing.html\n"
   ]
  },
  {
   "cell_type": "markdown",
   "metadata": {},
   "source": [
    "# ☠ 01/08. feladat\n",
    "\n",
    "\n",
    "A `plotly` csomag segítségével ábrázold azt a paraméteres felületet melynek egyenlete \n",
    "\n",
    "\n",
    "$$x(s,t)=[1+s\\cos(t/2)]\\cos(t),$$\n",
    "$$y(s,t)=[1+s\\cos(t/2)]\\sin(t),$$\n",
    "$$z(s,t)=s\\sin(t/2)$$\n",
    "\n",
    "a paraméterek a $s\\in[-1/4,1/4],t\\in[0,2\\pi]$ paramétertatományon fussanak végig. A felület minden pontjában ábrázoljuk a felület [normál vektorát](http://mathworld.wolfram.com/NormalVector.html)!\n",
    "\n",
    "Milyen furcsa tulajdonsága van ennek a felületnek? "
   ]
  },
  {
   "cell_type": "markdown",
   "metadata": {},
   "source": [
    "# ☠ 01/09. feladat\n",
    "\n",
    "Készíts egy interaktív ábrát mely egy egység sugarú kört ábrázol melybe egy szabályos $N$ csúcsú sokszög van rajzolva. $N$ értékét egy csúszka segítségével lehessen változtatni. A kör közepébe írjuk bele a sokszög kerületének a hosszának felét!\n"
   ]
  },
  {
   "cell_type": "markdown",
   "metadata": {},
   "source": [
    "# ☠ 01/10. feladat\n",
    "\n",
    "Készítsünk egy interaktív ábrát ami egy [önhasonló fraktált](https://www.youtube.com/watch?v=gB9n2gHsHN4) ábrázol. Egy csúszkával lehessen az önhasonlósági rekurzió szintjét beállítani."
   ]
  }
 ],
 "metadata": {
  "kernelspec": {
   "display_name": "Python 3",
   "language": "python",
   "name": "python3"
  },
  "language_info": {
   "codemirror_mode": {
    "name": "ipython",
    "version": 3
   },
   "file_extension": ".py",
   "mimetype": "text/x-python",
   "name": "python",
   "nbconvert_exporter": "python",
   "pygments_lexer": "ipython3",
   "version": "3.6.8"
  }
 },
 "nbformat": 4,
 "nbformat_minor": 2
}
